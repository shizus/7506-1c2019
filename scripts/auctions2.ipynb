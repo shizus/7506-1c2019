{
 "cells": [
  {
   "cell_type": "code",
   "execution_count": 1,
   "metadata": {},
   "outputs": [],
   "source": [
    "import pandas as pd\n",
    "import numpy as np\n",
    "import matplotlib.pyplot as plt"
   ]
  },
  {
   "cell_type": "code",
   "execution_count": 2,
   "metadata": {},
   "outputs": [],
   "source": [
    "auctions = pd.read_csv('auctions.csv.gzip', compression = 'gzip', dtype = {'auction_type_id':'object', 'country': np.float32, 'date': 'object', 'device_id': np.float32, 'platform' :'category', 'ref_type_id':'category', 'source_id':'category'})"
   ]
  },
  {
   "cell_type": "code",
   "execution_count": 3,
   "metadata": {},
   "outputs": [],
   "source": [
    "del auctions['country']"
   ]
  },
  {
   "cell_type": "code",
   "execution_count": 4,
   "metadata": {},
   "outputs": [],
   "source": [
    "del auctions['auction_type_id']"
   ]
  },
  {
   "cell_type": "code",
   "execution_count": 5,
   "metadata": {},
   "outputs": [],
   "source": [
    "auctions.loc[:,'date'] = pd.to_datetime(auctions['date'], errors = 'coerce')"
   ]
  },
  {
   "cell_type": "code",
   "execution_count": 6,
   "metadata": {},
   "outputs": [],
   "source": [
    "auctions_reduced = auctions[['device_id', 'platform']]"
   ]
  },
  {
   "cell_type": "code",
   "execution_count": 7,
   "metadata": {},
   "outputs": [],
   "source": [
    "platform1 = auctions_reduced[auctions_reduced['platform'] == '1']\n",
    "platform2 = auctions_reduced[auctions_reduced['platform'] == '2']"
   ]
  },
  {
   "cell_type": "code",
   "execution_count": 8,
   "metadata": {},
   "outputs": [
    {
     "data": {
      "text/plain": [
       "159614"
      ]
     },
     "execution_count": 8,
     "metadata": {},
     "output_type": "execute_result"
    }
   ],
   "source": [
    "platform1['device_id'].value_counts().count()"
   ]
  },
  {
   "cell_type": "code",
   "execution_count": 9,
   "metadata": {},
   "outputs": [
    {
     "data": {
      "text/plain": [
       "46839"
      ]
     },
     "execution_count": 9,
     "metadata": {},
     "output_type": "execute_result"
    }
   ],
   "source": [
    "platform2['device_id'].value_counts().count()"
   ]
  },
  {
   "cell_type": "code",
   "execution_count": 10,
   "metadata": {},
   "outputs": [
    {
     "data": {
      "text/plain": [
       "<Container object of 2 artists>"
      ]
     },
     "execution_count": 10,
     "metadata": {},
     "output_type": "execute_result"
    },
    {
     "data": {
      "image/png": "[encoded data removed]",
      "text/plain": [
       "<matplotlib.figure.Figure at 0x7f9589787f60>"
      ]
     },
     "metadata": {
      "needs_background": "light"
     },
     "output_type": "display_data"
    }
   ],
   "source": [
    "x = [1, 1.4]\n",
    "height = [platform1['device_id'].value_counts().count(), platform2['device_id'].value_counts().count()]\n",
    "width = 0.3\n",
    "plt.title('Cantidad de devices por sistema operativo')\n",
    "plt.xlabel('Sistema Operativo')\n",
    "plt.ylabel('Cantidad de devices')\n",
    "plt.bar(x,height, width, align = 'center', tick_label = sorted(set(auctions['platform'].values)))"
   ]
  },
  {
   "cell_type": "code",
   "execution_count": 11,
   "metadata": {},
   "outputs": [
    {
     "data": {
      "text/plain": [
       "282"
      ]
     },
     "execution_count": 11,
     "metadata": {},
     "output_type": "execute_result"
    }
   ],
   "source": [
    "#Cantidad de dispositivos que tienen ambos sistemas operativos:\n",
    "( platform1['device_id'].value_counts().count() + platform2['device_id'].value_counts().count()) - auctions_reduced['device_id'].value_counts().count() "
   ]
  },
  {
   "cell_type": "code",
   "execution_count": 12,
   "metadata": {},
   "outputs": [
    {
     "data": {
      "text/plain": [
       "Float64Index([ 6.331397520815555e+17,  7.202276700711813e+18,\n",
       "               7.298861650386354e+18,  6.302840455063142e+18,\n",
       "               5.376802625092059e+18,   8.96371192059501e+18,\n",
       "                7.95159043906732e+17,  6.841615446324543e+18,\n",
       "               5.384039060870267e+18,  3.198179158526001e+18,\n",
       "              ...\n",
       "               7.288917667224748e+18,   7.04764825732907e+17,\n",
       "              2.1463088198257213e+18,   7.28962630246885e+18,\n",
       "               7.050080239610757e+17, 4.4361396412041134e+18,\n",
       "              2.1461650586803896e+18,  7.289399803073528e+18,\n",
       "                2.14585829493624e+18, 1.2653945347417047e+18],\n",
       "             dtype='float64', length=159614)"
      ]
     },
     "execution_count": 12,
     "metadata": {},
     "output_type": "execute_result"
    }
   ],
   "source": [
    "platform1_index = auctions[auctions['platform'] == '1']['device_id'].value_counts().index\n",
    "platform1_index"
   ]
  },
  {
   "cell_type": "code",
   "execution_count": 13,
   "metadata": {},
   "outputs": [
    {
     "data": {
      "text/plain": [
       "Float64Index([ 8.225266717241115e+18,  6.382842020611752e+18,\n",
       "              1.5906332353337754e+18,  6.516894478270202e+18,\n",
       "               8.477398477385499e+18, 1.0467859220555366e+18,\n",
       "               5.548045513804218e+18, 2.2718686496712294e+18,\n",
       "               8.767736617327657e+18,  7.313944201140371e+18,\n",
       "              ...\n",
       "               9.093903992928338e+17,  8.457626509539017e+18,\n",
       "               8.456817268980974e+18,  4.899152783753609e+18,\n",
       "              2.1407450161112678e+18,  7.680945789329211e+18,\n",
       "               9.100643312011837e+17,  3.984164221007954e+18,\n",
       "              3.6371578015260344e+18, 1.0310691592507228e+18],\n",
       "             dtype='float64', length=46839)"
      ]
     },
     "execution_count": 13,
     "metadata": {},
     "output_type": "execute_result"
    }
   ],
   "source": [
    "platform2_index = auctions[auctions['platform'] == '2']['device_id'].value_counts().index\n",
    "platform2_index"
   ]
  },
  {
   "cell_type": "code",
   "execution_count": 15,
   "metadata": {},
   "outputs": [],
   "source": [
    "list = [x for x in platform2_index if x in platform1_index]"
   ]
  },
  {
   "cell_type": "code",
   "execution_count": 32,
   "metadata": {},
   "outputs": [],
   "source": [
    "contador = 0\n",
    "for device in list:\n",
    "    contador += auctions[auctions['device_id'] == device]['platform'].count()"
   ]
  },
  {
   "cell_type": "code",
   "execution_count": 31,
   "metadata": {},
   "outputs": [
    {
     "data": {
      "text/plain": [
       "3309"
      ]
     },
     "execution_count": 31,
     "metadata": {},
     "output_type": "execute_result"
    }
   ],
   "source": [
    "auctions[auctions['device_id'] == list[0]]['platform'].count()"
   ]
  },
  {
   "cell_type": "code",
   "execution_count": 33,
   "metadata": {},
   "outputs": [
    {
     "data": {
      "text/plain": [
       "47862"
      ]
     },
     "execution_count": 33,
     "metadata": {},
     "output_type": "execute_result"
    }
   ],
   "source": [
    "contador"
   ]
  },
  {
   "cell_type": "code",
   "execution_count": 76,
   "metadata": {},
   "outputs": [],
   "source": [
    "mas_repetidos = auctions['device_id'].value_counts().nlargest(370)"
   ]
  },
  {
   "cell_type": "code",
   "execution_count": 77,
   "metadata": {},
   "outputs": [
    {
     "data": {
      "text/plain": [
       "[5.292967062497395e+18]"
      ]
     },
     "execution_count": 77,
     "metadata": {},
     "output_type": "execute_result"
    }
   ],
   "source": [
    "[x for x in mas_repetidos.index if x in list]\n",
    "#Hay un device que tiene ambos sistemas operativos y que está entre los 300 mas repetidos. Se borran?"
   ]
  },
  {
   "cell_type": "code",
   "execution_count": 78,
   "metadata": {},
   "outputs": [],
   "source": [
    "top10 = auctions['device_id'].value_counts().nlargest(10)"
   ]
  },
  {
   "cell_type": "code",
   "execution_count": 83,
   "metadata": {},
   "outputs": [
    {
     "data": {
      "text/plain": [
       "<matplotlib.axes._subplots.AxesSubplot at 0x7f95385b3f28>"
      ]
     },
     "execution_count": 83,
     "metadata": {},
     "output_type": "execute_result"
    },
    {
     "data": {
      "image/png": "[encoded data removed]",
      "text/plain": [
       "<matplotlib.figure.Figure at 0x7f955b3566a0>"
      ]
     },
     "metadata": {
      "needs_background": "light"
     },
     "output_type": "display_data"
    }
   ],
   "source": [
    "plt.title('Top 10 de devices_que aparecen en mas subastas')\n",
    "plt.xlabel('device_id')\n",
    "plt.ylabel('Cantidad de subastas en las que aparece')\n",
    "top10.plot(kind = 'bar')"
   ]
  },
  {
   "cell_type": "code",
   "execution_count": null,
   "metadata": {},
   "outputs": [],
   "source": []
  }
 ],
 "metadata": {
  "kernelspec": {
   "display_name": "Python 3",
   "language": "python",
   "name": "python3"
  },
  "language_info": {
   "codemirror_mode": {
    "name": "ipython",
    "version": 3
   },
   "file_extension": ".py",
   "mimetype": "text/x-python",
   "name": "python",
   "nbconvert_exporter": "python",
   "pygments_lexer": "ipython3",
   "version": "3.6.7"
  }
 },
 "nbformat": 4,
 "nbformat_minor": 2
}

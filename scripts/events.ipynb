{
 "cells": [
  {
   "cell_type": "code",
   "execution_count": 1,
   "metadata": {},
   "outputs": [],
   "source": [
    "#importaciones\n",
    "import datetime as datetime\n",
    "import pandas as pd\n",
    "import numpy as np\n",
    "import matplotlib.pyplot as plt\n",
    "#import seaborn as sns\n",
    "import matplotlib.dates as mpldates"
   ]
  },
  {
   "cell_type": "code",
   "execution_count": 2,
   "metadata": {},
   "outputs": [],
   "source": [
    "#lectura de datos\n",
    "events = pd.read_csv('events.csv.gzip', compression='gzip', \n",
    "                     dtype={\n",
    "                         'device_countrycode': 'category', \n",
    "                         'device_city': 'category',\n",
    "                         'ref_type': 'category',\n",
    "                         'application_id': 'category',\n",
    "                         'device_os_version': 'category',\n",
    "                         'device_brand': 'category',\n",
    "                         'device_model': 'category',\n",
    "                         'session_user_agent': 'category',\n",
    "                         'trans_id': 'category',\n",
    "                         'user_agent': 'category',\n",
    "                         'carrier': 'category',\n",
    "                         'kind': 'category',\n",
    "                         'device_os': 'category',\n",
    "                         'device_os_version': 'category',\n",
    "                         'device_language': 'category',\n",
    "                         'connection_type': 'category',\n",
    "                         'wifi': 'category'\n",
    "                     })"
   ]
  },
  {
   "cell_type": "code",
   "execution_count": 4,
   "metadata": {},
   "outputs": [
    {
     "data": {
      "text/plain": [
       "date                    object\n",
       "event_id                 int64\n",
       "ref_type              category\n",
       "ref_hash                 int64\n",
       "application_id        category\n",
       "attributed                bool\n",
       "device_countrycode    category\n",
       "device_os_version     category\n",
       "device_brand          category\n",
       "device_model          category\n",
       "device_city           category\n",
       "session_user_agent    category\n",
       "trans_id              category\n",
       "user_agent            category\n",
       "event_uuid              object\n",
       "carrier               category\n",
       "kind                  category\n",
       "device_os             category\n",
       "wifi                  category\n",
       "connection_type       category\n",
       "ip_address               int64\n",
       "device_language       category\n",
       "dtype: object"
      ]
     },
     "execution_count": 4,
     "metadata": {},
     "output_type": "execute_result"
    }
   ],
   "source": [
    "events.dtypes"
   ]
  },
  {
   "cell_type": "code",
   "execution_count": 5,
   "metadata": {},
   "outputs": [
    {
     "data": {
      "text/plain": [
       "CategoricalDtype(categories=['false', 'true'], ordered=False)"
      ]
     },
     "execution_count": 5,
     "metadata": {},
     "output_type": "execute_result"
    }
   ],
   "source": [
    "events.wifi.dtype"
   ]
  },
  {
   "cell_type": "code",
   "execution_count": 6,
   "metadata": {},
   "outputs": [
    {
     "data": {
      "text/html": [
       "<div>\n",
       "<style scoped>\n",
       "    .dataframe tbody tr th:only-of-type {\n",
       "        vertical-align: middle;\n",
       "    }\n",
       "\n",
       "    .dataframe tbody tr th {\n",
       "        vertical-align: top;\n",
       "    }\n",
       "\n",
       "    .dataframe thead th {\n",
       "        text-align: right;\n",
       "    }\n",
       "</style>\n",
       "<table border=\"1\" class=\"dataframe\">\n",
       "  <thead>\n",
       "    <tr style=\"text-align: right;\">\n",
       "      <th></th>\n",
       "      <th>event_id</th>\n",
       "      <th>ref_hash</th>\n",
       "      <th>ip_address</th>\n",
       "    </tr>\n",
       "  </thead>\n",
       "  <tbody>\n",
       "    <tr>\n",
       "      <th>count</th>\n",
       "      <td>2.494423e+06</td>\n",
       "      <td>2.494423e+06</td>\n",
       "      <td>2.494423e+06</td>\n",
       "    </tr>\n",
       "    <tr>\n",
       "      <th>mean</th>\n",
       "      <td>9.970445e+01</td>\n",
       "      <td>4.641486e+18</td>\n",
       "      <td>4.620786e+18</td>\n",
       "    </tr>\n",
       "    <tr>\n",
       "      <th>std</th>\n",
       "      <td>1.070903e+02</td>\n",
       "      <td>2.660724e+18</td>\n",
       "      <td>2.672746e+18</td>\n",
       "    </tr>\n",
       "    <tr>\n",
       "      <th>min</th>\n",
       "      <td>0.000000e+00</td>\n",
       "      <td>1.633675e+14</td>\n",
       "      <td>5.287755e+12</td>\n",
       "    </tr>\n",
       "    <tr>\n",
       "      <th>25%</th>\n",
       "      <td>2.200000e+01</td>\n",
       "      <td>2.326142e+18</td>\n",
       "      <td>2.333410e+18</td>\n",
       "    </tr>\n",
       "    <tr>\n",
       "      <th>50%</th>\n",
       "      <td>3.100000e+01</td>\n",
       "      <td>4.688964e+18</td>\n",
       "      <td>4.541498e+18</td>\n",
       "    </tr>\n",
       "    <tr>\n",
       "      <th>75%</th>\n",
       "      <td>1.610000e+02</td>\n",
       "      <td>6.927594e+18</td>\n",
       "      <td>7.044307e+18</td>\n",
       "    </tr>\n",
       "    <tr>\n",
       "      <th>max</th>\n",
       "      <td>7.120000e+02</td>\n",
       "      <td>9.223316e+18</td>\n",
       "      <td>9.223367e+18</td>\n",
       "    </tr>\n",
       "  </tbody>\n",
       "</table>\n",
       "</div>"
      ],
      "text/plain": [
       "           event_id      ref_hash    ip_address\n",
       "count  2.494423e+06  2.494423e+06  2.494423e+06\n",
       "mean   9.970445e+01  4.641486e+18  4.620786e+18\n",
       "std    1.070903e+02  2.660724e+18  2.672746e+18\n",
       "min    0.000000e+00  1.633675e+14  5.287755e+12\n",
       "25%    2.200000e+01  2.326142e+18  2.333410e+18\n",
       "50%    3.100000e+01  4.688964e+18  4.541498e+18\n",
       "75%    1.610000e+02  6.927594e+18  7.044307e+18\n",
       "max    7.120000e+02  9.223316e+18  9.223367e+18"
      ]
     },
     "execution_count": 6,
     "metadata": {},
     "output_type": "execute_result"
    }
   ],
   "source": [
    "# Empecemos por explorar events\n",
    "\n",
    "events.describe()"
   ]
  },
  {
   "cell_type": "code",
   "execution_count": 7,
   "metadata": {},
   "outputs": [
    {
     "data": {
      "text/html": [
       "<div>\n",
       "<style scoped>\n",
       "    .dataframe tbody tr th:only-of-type {\n",
       "        vertical-align: middle;\n",
       "    }\n",
       "\n",
       "    .dataframe tbody tr th {\n",
       "        vertical-align: top;\n",
       "    }\n",
       "\n",
       "    .dataframe thead th {\n",
       "        text-align: right;\n",
       "    }\n",
       "</style>\n",
       "<table border=\"1\" class=\"dataframe\">\n",
       "  <thead>\n",
       "    <tr style=\"text-align: right;\">\n",
       "      <th></th>\n",
       "      <th>date</th>\n",
       "      <th>event_id</th>\n",
       "      <th>ref_type</th>\n",
       "      <th>ref_hash</th>\n",
       "      <th>application_id</th>\n",
       "      <th>attributed</th>\n",
       "      <th>device_countrycode</th>\n",
       "      <th>device_os_version</th>\n",
       "      <th>device_brand</th>\n",
       "      <th>device_model</th>\n",
       "      <th>...</th>\n",
       "      <th>trans_id</th>\n",
       "      <th>user_agent</th>\n",
       "      <th>event_uuid</th>\n",
       "      <th>carrier</th>\n",
       "      <th>kind</th>\n",
       "      <th>device_os</th>\n",
       "      <th>wifi</th>\n",
       "      <th>connection_type</th>\n",
       "      <th>ip_address</th>\n",
       "      <th>device_language</th>\n",
       "    </tr>\n",
       "  </thead>\n",
       "  <tbody>\n",
       "    <tr>\n",
       "      <th>170989</th>\n",
       "      <td>2019-03-13 13:22:44.241</td>\n",
       "      <td>98</td>\n",
       "      <td>1891515180541284343</td>\n",
       "      <td>4069533658187509681</td>\n",
       "      <td>57</td>\n",
       "      <td>False</td>\n",
       "      <td>6333597102633388268</td>\n",
       "      <td>NaN</td>\n",
       "      <td>3.083058605577787e+17</td>\n",
       "      <td>7.787530752469096e+18</td>\n",
       "      <td>...</td>\n",
       "      <td>NaN</td>\n",
       "      <td>2.394269162455642e+18</td>\n",
       "      <td>f4947507-6789-4578-a2ba-aee2a830ff4c</td>\n",
       "      <td>NaN</td>\n",
       "      <td>4.853173252142275e+18</td>\n",
       "      <td>NaN</td>\n",
       "      <td>true</td>\n",
       "      <td>NaN</td>\n",
       "      <td>4339401367901389249</td>\n",
       "      <td>9.0283826551012e+18</td>\n",
       "    </tr>\n",
       "    <tr>\n",
       "      <th>2444302</th>\n",
       "      <td>2019-03-06 07:22:33.491</td>\n",
       "      <td>60</td>\n",
       "      <td>1494519392962156891</td>\n",
       "      <td>3888314606710177710</td>\n",
       "      <td>247</td>\n",
       "      <td>False</td>\n",
       "      <td>6333597102633388268</td>\n",
       "      <td>NaN</td>\n",
       "      <td>NaN</td>\n",
       "      <td>2.33194661091417e+18</td>\n",
       "      <td>...</td>\n",
       "      <td>NaN</td>\n",
       "      <td>8.123449457559138e+18</td>\n",
       "      <td>ca3a6925-5e3d-47a0-a601-8226e9a90ac6</td>\n",
       "      <td>NaN</td>\n",
       "      <td>4.6002255112632535e+18</td>\n",
       "      <td>NaN</td>\n",
       "      <td>true</td>\n",
       "      <td>NaN</td>\n",
       "      <td>4924106932145978532</td>\n",
       "      <td>4.621024053086952e+18</td>\n",
       "    </tr>\n",
       "    <tr>\n",
       "      <th>796469</th>\n",
       "      <td>2019-03-12 21:26:00.214</td>\n",
       "      <td>160</td>\n",
       "      <td>1494519392962156891</td>\n",
       "      <td>5940972681437874512</td>\n",
       "      <td>170</td>\n",
       "      <td>False</td>\n",
       "      <td>6333597102633388268</td>\n",
       "      <td>NaN</td>\n",
       "      <td>NaN</td>\n",
       "      <td>2.33194661091417e+18</td>\n",
       "      <td>...</td>\n",
       "      <td>NaN</td>\n",
       "      <td>3.895298988384542e+18</td>\n",
       "      <td>877044ef-c960-4348-a3db-d18850f21424</td>\n",
       "      <td>NaN</td>\n",
       "      <td>5.869000549058033e+18</td>\n",
       "      <td>NaN</td>\n",
       "      <td>false</td>\n",
       "      <td>NaN</td>\n",
       "      <td>3427355443038583893</td>\n",
       "      <td>1.1932786179815933e+18</td>\n",
       "    </tr>\n",
       "    <tr>\n",
       "      <th>466055</th>\n",
       "      <td>2019-03-12 04:16:56.140</td>\n",
       "      <td>31</td>\n",
       "      <td>1891515180541284343</td>\n",
       "      <td>8529678586500318797</td>\n",
       "      <td>145</td>\n",
       "      <td>False</td>\n",
       "      <td>6333597102633388268</td>\n",
       "      <td>2.85370396744477e+18</td>\n",
       "      <td>NaN</td>\n",
       "      <td>6.041486591026271e+18</td>\n",
       "      <td>...</td>\n",
       "      <td>NaN</td>\n",
       "      <td>NaN</td>\n",
       "      <td>4e76feca-6911-465f-8ac4-3bc1f4bd8cb5</td>\n",
       "      <td>NaN</td>\n",
       "      <td>5.104972432847709e+18</td>\n",
       "      <td>NaN</td>\n",
       "      <td>NaN</td>\n",
       "      <td>NaN</td>\n",
       "      <td>5911001389788951641</td>\n",
       "      <td>6.804427935983149e+18</td>\n",
       "    </tr>\n",
       "    <tr>\n",
       "      <th>559404</th>\n",
       "      <td>2019-03-07 23:19:51.653</td>\n",
       "      <td>31</td>\n",
       "      <td>1891515180541284343</td>\n",
       "      <td>1398953495213368447</td>\n",
       "      <td>63</td>\n",
       "      <td>False</td>\n",
       "      <td>6333597102633388268</td>\n",
       "      <td>NaN</td>\n",
       "      <td>3.742387098176767e+18</td>\n",
       "      <td>6.870742923054805e+18</td>\n",
       "      <td>...</td>\n",
       "      <td>NaN</td>\n",
       "      <td>5.604657394064878e+18</td>\n",
       "      <td>8fa23ebf-f91d-4376-b8f2-575558620fa3</td>\n",
       "      <td>NaN</td>\n",
       "      <td>8.820572319511919e+18</td>\n",
       "      <td>NaN</td>\n",
       "      <td>false</td>\n",
       "      <td>NaN</td>\n",
       "      <td>1767889564023209985</td>\n",
       "      <td>6.977049253562486e+18</td>\n",
       "    </tr>\n",
       "    <tr>\n",
       "      <th>1615600</th>\n",
       "      <td>2019-03-06 10:18:59.774</td>\n",
       "      <td>161</td>\n",
       "      <td>1494519392962156891</td>\n",
       "      <td>28572353173147684</td>\n",
       "      <td>103</td>\n",
       "      <td>False</td>\n",
       "      <td>6333597102633388268</td>\n",
       "      <td>4.3537503246500966e+18</td>\n",
       "      <td>NaN</td>\n",
       "      <td>1.26767685640937e+18</td>\n",
       "      <td>...</td>\n",
       "      <td>NaN</td>\n",
       "      <td>NaN</td>\n",
       "      <td>aa1a1031-1b2e-4d37-a6c3-fad85fd54443</td>\n",
       "      <td>2.2481569642543155e+17</td>\n",
       "      <td>9.066787919123543e+18</td>\n",
       "      <td>6.941824626260379e+18</td>\n",
       "      <td>NaN</td>\n",
       "      <td>Cable/DSL</td>\n",
       "      <td>2117700729636784458</td>\n",
       "      <td>4.060929664968129e+18</td>\n",
       "    </tr>\n",
       "    <tr>\n",
       "      <th>1593312</th>\n",
       "      <td>2019-03-05 13:08:30.521</td>\n",
       "      <td>103</td>\n",
       "      <td>1891515180541284343</td>\n",
       "      <td>8340123550035907755</td>\n",
       "      <td>276</td>\n",
       "      <td>False</td>\n",
       "      <td>6333597102633388268</td>\n",
       "      <td>NaN</td>\n",
       "      <td>3.083058605577787e+17</td>\n",
       "      <td>2.2214300728469727e+18</td>\n",
       "      <td>...</td>\n",
       "      <td>NaN</td>\n",
       "      <td>5.577866194680114e+18</td>\n",
       "      <td>57df9ba5-04f5-40b0-956e-39179ac7d044</td>\n",
       "      <td>NaN</td>\n",
       "      <td>3.387992517273723e+18</td>\n",
       "      <td>NaN</td>\n",
       "      <td>true</td>\n",
       "      <td>NaN</td>\n",
       "      <td>262663275157417503</td>\n",
       "      <td>9.0283826551012e+18</td>\n",
       "    </tr>\n",
       "    <tr>\n",
       "      <th>1336160</th>\n",
       "      <td>2019-03-10 20:35:57.327</td>\n",
       "      <td>50</td>\n",
       "      <td>1891515180541284343</td>\n",
       "      <td>4555323885128587031</td>\n",
       "      <td>120</td>\n",
       "      <td>False</td>\n",
       "      <td>6333597102633388268</td>\n",
       "      <td>NaN</td>\n",
       "      <td>NaN</td>\n",
       "      <td>7.285676135184761e+18</td>\n",
       "      <td>...</td>\n",
       "      <td>NaN</td>\n",
       "      <td>2.04550194857699e+18</td>\n",
       "      <td>7a1c082d-0a31-4072-85e6-15d227322694</td>\n",
       "      <td>NaN</td>\n",
       "      <td>5.882882097123621e+18</td>\n",
       "      <td>NaN</td>\n",
       "      <td>NaN</td>\n",
       "      <td>NaN</td>\n",
       "      <td>4109195430291721365</td>\n",
       "      <td>4.077062198952597e+17</td>\n",
       "    </tr>\n",
       "    <tr>\n",
       "      <th>2136891</th>\n",
       "      <td>2019-03-12 13:26:55.169</td>\n",
       "      <td>31</td>\n",
       "      <td>1891515180541284343</td>\n",
       "      <td>6822779531522103210</td>\n",
       "      <td>2</td>\n",
       "      <td>False</td>\n",
       "      <td>6333597102633388268</td>\n",
       "      <td>NaN</td>\n",
       "      <td>3.2285160909036396e+18</td>\n",
       "      <td>3.6064474012020823e+18</td>\n",
       "      <td>...</td>\n",
       "      <td>NaN</td>\n",
       "      <td>2.419517710258911e+18</td>\n",
       "      <td>2a5c6bc7-d409-4aaf-9bd0-beb9f432442e</td>\n",
       "      <td>NaN</td>\n",
       "      <td>6.081164526912919e+18</td>\n",
       "      <td>NaN</td>\n",
       "      <td>true</td>\n",
       "      <td>NaN</td>\n",
       "      <td>2639897368065100121</td>\n",
       "      <td>9.0283826551012e+18</td>\n",
       "    </tr>\n",
       "    <tr>\n",
       "      <th>705598</th>\n",
       "      <td>2019-03-11 19:34:37.475</td>\n",
       "      <td>1</td>\n",
       "      <td>1494519392962156891</td>\n",
       "      <td>8837197345660447697</td>\n",
       "      <td>103</td>\n",
       "      <td>False</td>\n",
       "      <td>6333597102633388268</td>\n",
       "      <td>4.3537503246500966e+18</td>\n",
       "      <td>NaN</td>\n",
       "      <td>1.764701447250044e+18</td>\n",
       "      <td>...</td>\n",
       "      <td>NaN</td>\n",
       "      <td>NaN</td>\n",
       "      <td>11d0f827-ed31-4c4e-aa95-1a211a184504</td>\n",
       "      <td>2.2481569642543155e+17</td>\n",
       "      <td>9.977660181316936e+17</td>\n",
       "      <td>6.941824626260379e+18</td>\n",
       "      <td>NaN</td>\n",
       "      <td>Cellular</td>\n",
       "      <td>6503390357254377430</td>\n",
       "      <td>3.3013777759776993e+18</td>\n",
       "    </tr>\n",
       "  </tbody>\n",
       "</table>\n",
       "<p>10 rows × 22 columns</p>\n",
       "</div>"
      ],
      "text/plain": [
       "                            date  event_id             ref_type  \\\n",
       "170989   2019-03-13 13:22:44.241        98  1891515180541284343   \n",
       "2444302  2019-03-06 07:22:33.491        60  1494519392962156891   \n",
       "796469   2019-03-12 21:26:00.214       160  1494519392962156891   \n",
       "466055   2019-03-12 04:16:56.140        31  1891515180541284343   \n",
       "559404   2019-03-07 23:19:51.653        31  1891515180541284343   \n",
       "1615600  2019-03-06 10:18:59.774       161  1494519392962156891   \n",
       "1593312  2019-03-05 13:08:30.521       103  1891515180541284343   \n",
       "1336160  2019-03-10 20:35:57.327        50  1891515180541284343   \n",
       "2136891  2019-03-12 13:26:55.169        31  1891515180541284343   \n",
       "705598   2019-03-11 19:34:37.475         1  1494519392962156891   \n",
       "\n",
       "                    ref_hash application_id  attributed   device_countrycode  \\\n",
       "170989   4069533658187509681             57       False  6333597102633388268   \n",
       "2444302  3888314606710177710            247       False  6333597102633388268   \n",
       "796469   5940972681437874512            170       False  6333597102633388268   \n",
       "466055   8529678586500318797            145       False  6333597102633388268   \n",
       "559404   1398953495213368447             63       False  6333597102633388268   \n",
       "1615600    28572353173147684            103       False  6333597102633388268   \n",
       "1593312  8340123550035907755            276       False  6333597102633388268   \n",
       "1336160  4555323885128587031            120       False  6333597102633388268   \n",
       "2136891  6822779531522103210              2       False  6333597102633388268   \n",
       "705598   8837197345660447697            103       False  6333597102633388268   \n",
       "\n",
       "              device_os_version            device_brand  \\\n",
       "170989                      NaN   3.083058605577787e+17   \n",
       "2444302                     NaN                     NaN   \n",
       "796469                      NaN                     NaN   \n",
       "466055     2.85370396744477e+18                     NaN   \n",
       "559404                      NaN   3.742387098176767e+18   \n",
       "1615600  4.3537503246500966e+18                     NaN   \n",
       "1593312                     NaN   3.083058605577787e+17   \n",
       "1336160                     NaN                     NaN   \n",
       "2136891                     NaN  3.2285160909036396e+18   \n",
       "705598   4.3537503246500966e+18                     NaN   \n",
       "\n",
       "                   device_model  ... trans_id             user_agent  \\\n",
       "170989    7.787530752469096e+18  ...      NaN  2.394269162455642e+18   \n",
       "2444302    2.33194661091417e+18  ...      NaN  8.123449457559138e+18   \n",
       "796469     2.33194661091417e+18  ...      NaN  3.895298988384542e+18   \n",
       "466055    6.041486591026271e+18  ...      NaN                    NaN   \n",
       "559404    6.870742923054805e+18  ...      NaN  5.604657394064878e+18   \n",
       "1615600    1.26767685640937e+18  ...      NaN                    NaN   \n",
       "1593312  2.2214300728469727e+18  ...      NaN  5.577866194680114e+18   \n",
       "1336160   7.285676135184761e+18  ...      NaN   2.04550194857699e+18   \n",
       "2136891  3.6064474012020823e+18  ...      NaN  2.419517710258911e+18   \n",
       "705598    1.764701447250044e+18  ...      NaN                    NaN   \n",
       "\n",
       "                                   event_uuid                 carrier  \\\n",
       "170989   f4947507-6789-4578-a2ba-aee2a830ff4c                     NaN   \n",
       "2444302  ca3a6925-5e3d-47a0-a601-8226e9a90ac6                     NaN   \n",
       "796469   877044ef-c960-4348-a3db-d18850f21424                     NaN   \n",
       "466055   4e76feca-6911-465f-8ac4-3bc1f4bd8cb5                     NaN   \n",
       "559404   8fa23ebf-f91d-4376-b8f2-575558620fa3                     NaN   \n",
       "1615600  aa1a1031-1b2e-4d37-a6c3-fad85fd54443  2.2481569642543155e+17   \n",
       "1593312  57df9ba5-04f5-40b0-956e-39179ac7d044                     NaN   \n",
       "1336160  7a1c082d-0a31-4072-85e6-15d227322694                     NaN   \n",
       "2136891  2a5c6bc7-d409-4aaf-9bd0-beb9f432442e                     NaN   \n",
       "705598   11d0f827-ed31-4c4e-aa95-1a211a184504  2.2481569642543155e+17   \n",
       "\n",
       "                           kind              device_os   wifi connection_type  \\\n",
       "170989    4.853173252142275e+18                    NaN   true             NaN   \n",
       "2444302  4.6002255112632535e+18                    NaN   true             NaN   \n",
       "796469    5.869000549058033e+18                    NaN  false             NaN   \n",
       "466055    5.104972432847709e+18                    NaN    NaN             NaN   \n",
       "559404    8.820572319511919e+18                    NaN  false             NaN   \n",
       "1615600   9.066787919123543e+18  6.941824626260379e+18    NaN       Cable/DSL   \n",
       "1593312   3.387992517273723e+18                    NaN   true             NaN   \n",
       "1336160   5.882882097123621e+18                    NaN    NaN             NaN   \n",
       "2136891   6.081164526912919e+18                    NaN   true             NaN   \n",
       "705598    9.977660181316936e+17  6.941824626260379e+18    NaN        Cellular   \n",
       "\n",
       "                  ip_address         device_language  \n",
       "170989   4339401367901389249     9.0283826551012e+18  \n",
       "2444302  4924106932145978532   4.621024053086952e+18  \n",
       "796469   3427355443038583893  1.1932786179815933e+18  \n",
       "466055   5911001389788951641   6.804427935983149e+18  \n",
       "559404   1767889564023209985   6.977049253562486e+18  \n",
       "1615600  2117700729636784458   4.060929664968129e+18  \n",
       "1593312   262663275157417503     9.0283826551012e+18  \n",
       "1336160  4109195430291721365   4.077062198952597e+17  \n",
       "2136891  2639897368065100121     9.0283826551012e+18  \n",
       "705598   6503390357254377430  3.3013777759776993e+18  \n",
       "\n",
       "[10 rows x 22 columns]"
      ]
     },
     "execution_count": 7,
     "metadata": {},
     "output_type": "execute_result"
    }
   ],
   "source": [
    "events.sample(10)"
   ]
  },
  {
   "cell_type": "code",
   "execution_count": 8,
   "metadata": {},
   "outputs": [
    {
     "data": {
      "text/plain": [
       "54877306"
      ]
     },
     "execution_count": 8,
     "metadata": {},
     "output_type": "execute_result"
    }
   ],
   "source": [
    "# ¿Cuántos registros tiene?\n",
    "events.size"
   ]
  },
  {
   "cell_type": "code",
   "execution_count": 9,
   "metadata": {},
   "outputs": [
    {
     "data": {
      "text/plain": [
       "date                  2494423\n",
       "event_id              2494423\n",
       "ref_type              2494423\n",
       "ref_hash              2494423\n",
       "application_id        2494423\n",
       "attributed            2494423\n",
       "device_countrycode    2494423\n",
       "device_os_version     1022066\n",
       "device_brand          1164963\n",
       "device_model          2406456\n",
       "device_city            614698\n",
       "session_user_agent    2482637\n",
       "trans_id                   82\n",
       "user_agent            1391527\n",
       "event_uuid            2489324\n",
       "carrier                616434\n",
       "kind                  2489324\n",
       "device_os              657667\n",
       "wifi                  1378872\n",
       "connection_type        612463\n",
       "ip_address            2494423\n",
       "device_language       2406604\n",
       "dtype: int64"
      ]
     },
     "execution_count": 9,
     "metadata": {},
     "output_type": "execute_result"
    }
   ],
   "source": [
    "events.count()"
   ]
  },
  {
   "cell_type": "code",
   "execution_count": 10,
   "metadata": {},
   "outputs": [
    {
     "data": {
      "text/plain": [
       "true     930902\n",
       "false    447970\n",
       "Name: wifi, dtype: int64"
      ]
     },
     "execution_count": 10,
     "metadata": {},
     "output_type": "execute_result"
    }
   ],
   "source": [
    "events['wifi'].value_counts()"
   ]
  },
  {
   "cell_type": "code",
   "execution_count": 11,
   "metadata": {},
   "outputs": [
    {
     "data": {
      "text/plain": [
       "(2494423, 22)"
      ]
     },
     "execution_count": 11,
     "metadata": {},
     "output_type": "execute_result"
    }
   ],
   "source": [
    "# elimino las filas que tengan todos sus valores en NaN\n",
    "events.dropna(how='all')\n",
    "events.shape"
   ]
  },
  {
   "cell_type": "code",
   "execution_count": 12,
   "metadata": {},
   "outputs": [
    {
     "data": {
      "text/plain": [
       "54877306"
      ]
     },
     "execution_count": 12,
     "metadata": {},
     "output_type": "execute_result"
    }
   ],
   "source": [
    "events.size"
   ]
  },
  {
   "cell_type": "code",
   "execution_count": 13,
   "metadata": {},
   "outputs": [
    {
     "data": {
      "text/plain": [
       "6333597102633388268    2494423\n",
       "Name: device_countrycode, dtype: int64"
      ]
     },
     "execution_count": 13,
     "metadata": {},
     "output_type": "execute_result"
    }
   ],
   "source": [
    "# cuántos device_countrycode hay?\n",
    "events['device_countrycode'].value_counts()"
   ]
  },
  {
   "cell_type": "markdown",
   "metadata": {},
   "source": [
    "Hay un solo countrycode\n",
    "\n",
    "# Cuántas ciudades distintas hay?"
   ]
  },
  {
   "cell_type": "code",
   "execution_count": 14,
   "metadata": {},
   "outputs": [
    {
     "data": {
      "text/plain": [
       "3.8000799488967747e+18    561876\n",
       "2.551781375196177e+18      11193\n",
       "3.2582150459884605e+18      4442\n",
       "8.223209269143922e+18       4393\n",
       "8.578626579239988e+17       2497\n",
       "8.985217056239735e+18       2203\n",
       "7.602876036620469e+18       1945\n",
       "6.276065650874414e+17       1924\n",
       "2.0489923564619796e+18      1851\n",
       "5.801433683024338e+18       1848\n",
       "6.102141091106202e+18       1591\n",
       "1.16468287562278e+18        1123\n",
       "4.4246229588650675e+18      1061\n",
       "4.1122184524297533e+18       958\n",
       "1.1895429525854325e+17       912\n",
       "4.847858242945663e+17        756\n",
       "8.235236537216161e+18        744\n",
       "6.959330348495504e+18        713\n",
       "2.715324676035127e+18        631\n",
       "1.2816911001604083e+18       599\n",
       "5.847627926933047e+18        591\n",
       "8.318795483645021e+18        574\n",
       "6.434016956850084e+17        514\n",
       "1.3535971026191767e+18       505\n",
       "7.425634410263832e+18        486\n",
       "7.60148454103576e+18         472\n",
       "5.261773315746305e+18        425\n",
       "1.0840811693621105e+18       413\n",
       "8.127301688691997e+17        380\n",
       "2.3023179601912517e+18       285\n",
       "                           ...  \n",
       "6.467578908130139e+18         15\n",
       "7.56911826831458e+18          15\n",
       "4.1849839340276915e+18        15\n",
       "8.35945532688294e+18          14\n",
       "7.140552775924964e+18         14\n",
       "5.155678684543087e+18         14\n",
       "8.931765307417755e+18         12\n",
       "4.4299961399882056e+18        11\n",
       "5.248323502511348e+18         11\n",
       "7.666480278137948e+18         10\n",
       "3.873904438897024e+18          9\n",
       "4.3040563714591493e+18         9\n",
       "6.548166288052978e+18          8\n",
       "3.203177508124175e+18          8\n",
       "6.325867302455204e+18          7\n",
       "4.964313721182149e+18          7\n",
       "8.272509106637754e+17          7\n",
       "1.8824213689347325e+18         7\n",
       "2.8546356628956457e+18         7\n",
       "9.08334132441406e+18           6\n",
       "4.0827355353494446e+18         6\n",
       "4.355427726282191e+16          5\n",
       "5.73911888953971e+18           5\n",
       "2.1287132748451715e+17         4\n",
       "2.887475017904211e+18          3\n",
       "6.932935784708413e+18          3\n",
       "7.130700058189437e+18          2\n",
       "3.729434244106928e+18          2\n",
       "5.756923724055678e+18          2\n",
       "6.4745462570399576e+16         1\n",
       "Name: device_city, Length: 127, dtype: int64"
      ]
     },
     "execution_count": 14,
     "metadata": {},
     "output_type": "execute_result"
    }
   ],
   "source": [
    "# cuántos device_city hay?\n",
    "events['device_city'].value_counts()"
   ]
  },
  {
   "cell_type": "markdown",
   "metadata": {},
   "source": [
    "Hay 127 ciudades distintas. Evidentemente, los datos que nos han cedido corresponden a un solo país."
   ]
  },
  {
   "cell_type": "code",
   "execution_count": 15,
   "metadata": {},
   "outputs": [],
   "source": [
    "# los cambio a tipo category\n",
    "events['device_countrycode'] = events['device_countrycode'].astype('category')\n",
    "events['device_city'] = events['device_city'].astype('category')"
   ]
  },
  {
   "cell_type": "code",
   "execution_count": 16,
   "metadata": {},
   "outputs": [
    {
     "data": {
      "text/plain": [
       "1891515180541284343    1882743\n",
       "1494519392962156891     611680\n",
       "Name: ref_type, dtype: int64"
      ]
     },
     "execution_count": 16,
     "metadata": {},
     "output_type": "execute_result"
    }
   ],
   "source": [
    "events['ref_type'].value_counts()\n"
   ]
  },
  {
   "cell_type": "code",
   "execution_count": 17,
   "metadata": {},
   "outputs": [],
   "source": [
    "#lo paso a category\n",
    "events['ref_type'] = events['ref_type'].astype('category')"
   ]
  },
  {
   "cell_type": "code",
   "execution_count": 18,
   "metadata": {},
   "outputs": [],
   "source": [
    "del events['ref_hash']"
   ]
  },
  {
   "cell_type": "code",
   "execution_count": 19,
   "metadata": {},
   "outputs": [
    {
     "data": {
      "text/plain": [
       "66     325696\n",
       "64     259084\n",
       "145    252431\n",
       "63     181555\n",
       "103    137513\n",
       "57     134498\n",
       "121    123711\n",
       "212    108489\n",
       "113     82962\n",
       "39      76448\n",
       "120     68421\n",
       "149     60326\n",
       "10      58311\n",
       "170     55820\n",
       "7       48005\n",
       "8       38972\n",
       "102     32579\n",
       "248     31070\n",
       "54      29284\n",
       "166     27611\n",
       "16      24365\n",
       "125     23018\n",
       "140     22215\n",
       "136     15362\n",
       "119     15282\n",
       "45      14321\n",
       "214     10112\n",
       "134     10003\n",
       "112      9871\n",
       "43       9336\n",
       "        ...  \n",
       "91          3\n",
       "62          3\n",
       "33          3\n",
       "232         3\n",
       "228         2\n",
       "135         2\n",
       "36          2\n",
       "209         2\n",
       "206         2\n",
       "49          2\n",
       "81          2\n",
       "117         2\n",
       "188         2\n",
       "11          2\n",
       "290         2\n",
       "165         1\n",
       "158         1\n",
       "25          1\n",
       "305         1\n",
       "295         1\n",
       "154         1\n",
       "286         1\n",
       "86          1\n",
       "132         1\n",
       "146         1\n",
       "240         1\n",
       "245         1\n",
       "255         1\n",
       "155         1\n",
       "322         1\n",
       "Name: application_id, Length: 269, dtype: int64"
      ]
     },
     "execution_count": 19,
     "metadata": {},
     "output_type": "execute_result"
    }
   ],
   "source": [
    "events['application_id'].value_counts()"
   ]
  },
  {
   "cell_type": "code",
   "execution_count": 20,
   "metadata": {},
   "outputs": [],
   "source": [
    "events['application_id'] = events['application_id'].astype('uint16')"
   ]
  },
  {
   "cell_type": "code",
   "execution_count": 21,
   "metadata": {},
   "outputs": [
    {
     "data": {
      "text/plain": [
       "4.3537503246500966e+18    277691\n",
       "7.391843585977942e+18     104170\n",
       "8.824598512074042e+18      77947\n",
       "1.6273135773546924e+18     58099\n",
       "4.823236647981168e+18      47501\n",
       "2.85370396744477e+18       46823\n",
       "2.635068060671423e+18      41978\n",
       "5.908703034097298e+17      38321\n",
       "8.530335778938208e+17      33964\n",
       "8.218259696094497e+18      31563\n",
       "4.584084460548654e+18      30944\n",
       "7.008467012956373e+18      27302\n",
       "5.940957351303096e+18      24224\n",
       "4.466870626275729e+18      21876\n",
       "8.840145871557405e+18      20197\n",
       "5.577468495817814e+18      19307\n",
       "8.913929730553542e+18      15515\n",
       "3.56844623815159e+18       14698\n",
       "8.806974323879854e+18      14174\n",
       "5.432641194361306e+18       9740\n",
       "4.967033121496544e+18       6970\n",
       "4.953783083284584e+18       6270\n",
       "6.10686129079723e+18        4304\n",
       "5.668904594719908e+18       4191\n",
       "2.628777490844412e+18       3824\n",
       "5.568789074483471e+18       3669\n",
       "5.034511441443622e+18       2803\n",
       "4.646970999381444e+18       2771\n",
       "6.965265633862224e+18       2260\n",
       "5.438928456834394e+18       2260\n",
       "                           ...  \n",
       "1.1441404369005436e+18       277\n",
       "3.7262847301868605e+18       262\n",
       "1.4748216394947763e+18       251\n",
       "2.9608448507751864e+18       228\n",
       "8.031397474520985e+18        205\n",
       "7.155473478535252e+18        198\n",
       "8.249345947396241e+18        165\n",
       "8.079746335839319e+18        159\n",
       "5.705660992131853e+18        148\n",
       "2.188692509681718e+17        127\n",
       "8.588524052695067e+18        105\n",
       "7.104775107408565e+18         89\n",
       "7.222334431803673e+18         84\n",
       "2.1516757394133486e+18        80\n",
       "2.448339282932649e+18         79\n",
       "9.135481865204238e+18         77\n",
       "7.862652041510292e+18         66\n",
       "1.1000151287987101e+18        60\n",
       "5.722392855244132e+18         52\n",
       "3.354767540127528e+18         48\n",
       "8.570584013312591e+18         37\n",
       "1.4287899395939901e+18        22\n",
       "8.875687110029596e+18         16\n",
       "7.871569114508047e+18          7\n",
       "3.885745949012727e+17          4\n",
       "9.159972409536801e+17          4\n",
       "3.624089450035605e+18          2\n",
       "3.546414310724931e+18          1\n",
       "3.4370222750552177e+18         1\n",
       "5.955758404016958e+18          1\n",
       "Name: device_os_version, Length: 81, dtype: int64"
      ]
     },
     "execution_count": 21,
     "metadata": {},
     "output_type": "execute_result"
    }
   ],
   "source": [
    "events['device_os_version'].value_counts()"
   ]
  },
  {
   "cell_type": "code",
   "execution_count": 22,
   "metadata": {},
   "outputs": [],
   "source": [
    "events['device_os_version'] = events['device_os_version'].astype('category')"
   ]
  },
  {
   "cell_type": "code",
   "execution_count": 23,
   "metadata": {},
   "outputs": [
    {
     "data": {
      "text/plain": [
       "3.083058605577787e+17     579861\n",
       "3.812620986737351e+18     115538\n",
       "2.208834667126999e+18     113636\n",
       "2.987569314309514e+18     107472\n",
       "2.5232459822329236e+18     94672\n",
       "5.1379920467642125e+17     39432\n",
       "3.2285160909036396e+18     15589\n",
       "2.262848417324907e+18      12325\n",
       "6.538561794435555e+18      11839\n",
       "1.083368711068078e+18       9667\n",
       "4.371307750970993e+18       8604\n",
       "3.742387098176767e+18       6825\n",
       "1.9103272551269105e+18      5919\n",
       "8.230045013295288e+17       5256\n",
       "7.512612244959867e+18       3052\n",
       "5.937501462472654e+18       2867\n",
       "6.111646853627296e+18       2862\n",
       "8.255276631056499e+18       2416\n",
       "5.588755459133625e+18       2101\n",
       "3.093165991971729e+18       2076\n",
       "2.370132235094487e+18       2004\n",
       "6.751007869822716e+18       1902\n",
       "5.645691558423168e+18       1899\n",
       "4.043700875052048e+18       1441\n",
       "5.951324980112395e+18       1228\n",
       "3.8494904260895846e+18      1114\n",
       "4.1137519177429806e+18       995\n",
       "7.855185525087771e+18        912\n",
       "1.8829174247592527e+18       670\n",
       "7.465674792046323e+18        516\n",
       "                           ...  \n",
       "2.606960612845661e+18          1\n",
       "7.939971905478433e+18          1\n",
       "9.569895672190371e+16          1\n",
       "7.71392103124288e+18           1\n",
       "2.1845597073163154e+18         1\n",
       "6.896716019906022e+18          1\n",
       "3.4242797791182403e+18         1\n",
       "6.931850013037093e+18          1\n",
       "5.483583498079153e+18          1\n",
       "7.109794795439087e+18          1\n",
       "3.3664445159701294e+18         1\n",
       "2.1388967186948495e+18         1\n",
       "7.516783440599396e+18          1\n",
       "8.339903240681383e+18          1\n",
       "2.7364879226667597e+18         1\n",
       "4.5579414053622717e+18         1\n",
       "6.53346073297918e+18           1\n",
       "1.634137194915663e+18          1\n",
       "1.905622687074608e+18          1\n",
       "4.084462144359799e+18          1\n",
       "5.149403471045443e+18          1\n",
       "5.33055165321967e+18           1\n",
       "9.135243133754092e+18          1\n",
       "8.826209790556716e+18          1\n",
       "8.657175923698827e+18          1\n",
       "2.857900380635667e+18          1\n",
       "7.368448105509754e+18          1\n",
       "2.482973928973685e+18          1\n",
       "4.3503094305705375e+18         1\n",
       "2.33194661091417e+18           1\n",
       "Name: device_brand, Length: 250, dtype: int64"
      ]
     },
     "execution_count": 23,
     "metadata": {},
     "output_type": "execute_result"
    }
   ],
   "source": [
    "events['device_brand'].value_counts()"
   ]
  },
  {
   "cell_type": "code",
   "execution_count": 24,
   "metadata": {},
   "outputs": [],
   "source": [
    "events['device_brand'] = events['device_brand'].astype('category')"
   ]
  },
  {
   "cell_type": "code",
   "execution_count": 25,
   "metadata": {},
   "outputs": [
    {
     "data": {
      "text/plain": [
       "2.33194661091417e+18      210697\n",
       "7.787530752469096e+18      74780\n",
       "9.14903648623246e+18       66279\n",
       "2.0664313823771248e+17     60168\n",
       "4.4452523127597215e+18     56241\n",
       "1.7545278564638182e+18     53850\n",
       "8.163782690166159e+18      48814\n",
       "7.11634310093634e+18       44598\n",
       "2.9282623200704937e+18     41494\n",
       "5.990116681709081e+18      40935\n",
       "1.26767685640937e+18       38870\n",
       "1.1876609915140178e+17     38629\n",
       "3.624089450035605e+18      37489\n",
       "4.281729328614173e+18      36006\n",
       "6.598698943038051e+18      30656\n",
       "1.1813182677101786e+18     26846\n",
       "6.026543327929208e+18      26460\n",
       "3.686066659168077e+17      26275\n",
       "1.5409071305566963e+18     25154\n",
       "2.4354500947795727e+18     24645\n",
       "4.5454901435473823e+18     24201\n",
       "4.689550129432457e+18      22497\n",
       "8.604122202547542e+18      22268\n",
       "1.764701447250044e+18      21661\n",
       "4.4305786865637033e+18     20316\n",
       "2.1369349693676014e+18     19213\n",
       "6.88241452041436e+18       19122\n",
       "8.535198356827955e+18      18648\n",
       "8.733768846357008e+18      17953\n",
       "4.349815524632825e+18      17790\n",
       "                           ...  \n",
       "8.044855310608993e+18          1\n",
       "5.734992454562482e+18          1\n",
       "4.0531375329320945e+18         1\n",
       "3.666678957513462e+18          1\n",
       "4.97533806648981e+18           1\n",
       "4.648552044330371e+18          1\n",
       "8.170906428280771e+18          1\n",
       "5.540442582022048e+18          1\n",
       "2.3083083730808924e+18         1\n",
       "8.379812024208966e+18          1\n",
       "1.0342178849649029e+18         1\n",
       "3.050486086255684e+18          1\n",
       "2.933049947754534e+18          1\n",
       "8.420502791018143e+18          1\n",
       "8.038196161626729e+18          1\n",
       "2.343157291794751e+18          1\n",
       "7.0413474552139e+17            1\n",
       "7.097815502648974e+18          1\n",
       "5.466518363792365e+18          1\n",
       "5.448125840342095e+18          1\n",
       "7.369703676325886e+18          1\n",
       "4.1604196367207736e+18         1\n",
       "6.925717382274416e+18          1\n",
       "7.407709465967263e+18          1\n",
       "6.658761445305757e+18          1\n",
       "8.074954384507082e+18          1\n",
       "7.104775107408565e+18          1\n",
       "7.546210863587995e+16          1\n",
       "5.602877740427965e+18          1\n",
       "3.3233340633747676e+18         1\n",
       "Name: device_model, Length: 2624, dtype: int64"
      ]
     },
     "execution_count": 25,
     "metadata": {},
     "output_type": "execute_result"
    }
   ],
   "source": [
    "events['device_model'].value_counts()"
   ]
  },
  {
   "cell_type": "code",
   "execution_count": 26,
   "metadata": {},
   "outputs": [],
   "source": [
    "events['device_model'] = events['device_model'].astype('category')"
   ]
  },
  {
   "cell_type": "code",
   "execution_count": 27,
   "metadata": {},
   "outputs": [
    {
     "data": {
      "text/plain": [
       "3.819516403548394e+18     1461049\n",
       "7.164321382499455e+18      649962\n",
       "1.1609515031332844e+18      78232\n",
       "2.394269162455642e+18       11210\n",
       "3.8316191210585426e+18      10838\n",
       "6.59386819643465e+18         9911\n",
       "2.4958048761062277e+18       7391\n",
       "7.512089018183668e+18        6995\n",
       "7.738334399785623e+18        6770\n",
       "7.72027024220892e+18         6626\n",
       "5.254247406123229e+18        6450\n",
       "4.3922650149309645e+18       5998\n",
       "9.177081431590678e+18        5615\n",
       "1.2440622242452342e+18       5525\n",
       "3.5907478428344975e+18       5448\n",
       "6.840860440298272e+18        5055\n",
       "1.637986409760501e+18        4872\n",
       "5.407281900521064e+18        4619\n",
       "5.51960942967474e+18         3914\n",
       "4.525726530677256e+18        3724\n",
       "4.47207748927856e+18         3657\n",
       "4.185911564152913e+18        3436\n",
       "6.10522694935703e+18         3412\n",
       "8.089178157941562e+18        3326\n",
       "2.9554935318608517e+18       3267\n",
       "4.2591543230719636e+18       3194\n",
       "4.455209013830674e+18        3008\n",
       "6.36894744937942e+18         3004\n",
       "6.091499354492879e+18        2755\n",
       "8.22734456809323e+18         2496\n",
       "                           ...   \n",
       "5.195155892062609e+18           1\n",
       "8.112828111553696e+18           1\n",
       "8.911999946193289e+18           1\n",
       "7.906814782834784e+18           1\n",
       "9.623885419292696e+17           1\n",
       "6.149800915098744e+18           1\n",
       "6.633828806521021e+18           1\n",
       "6.947774991753868e+18           1\n",
       "7.150622234512229e+18           1\n",
       "7.15925171996272e+18            1\n",
       "5.358395728783443e+17           1\n",
       "4.2340615902711173e+18          1\n",
       "1.4823784100694162e+18          1\n",
       "1.6131306123286144e+18          1\n",
       "1.0886081844908329e+18          1\n",
       "1.227691325929206e+18           1\n",
       "3.6789778301113257e+18          1\n",
       "1.4837694633057782e+18          1\n",
       "1.8467342638795604e+18          1\n",
       "8.00923162034235e+18            1\n",
       "3.0863833841681864e+18          1\n",
       "2.2036176946944397e+18          1\n",
       "2.2992926186439444e+18          1\n",
       "4.4408326041313884e+18          1\n",
       "5.521894755066535e+18           1\n",
       "9.362376972745898e+17           1\n",
       "9.059472323615767e+18           1\n",
       "5.326637325661786e+18           1\n",
       "3.409149085716872e+18           1\n",
       "5.866653196223959e+18           1\n",
       "Name: session_user_agent, Length: 1460, dtype: int64"
      ]
     },
     "execution_count": 27,
     "metadata": {},
     "output_type": "execute_result"
    }
   ],
   "source": [
    "events['session_user_agent'].value_counts()"
   ]
  },
  {
   "cell_type": "code",
   "execution_count": 28,
   "metadata": {},
   "outputs": [],
   "source": [
    "events['session_user_agent'] = events['session_user_agent'].astype('category')"
   ]
  },
  {
   "cell_type": "code",
   "execution_count": 29,
   "metadata": {},
   "outputs": [
    {
     "data": {
      "text/plain": [
       "{hash}                                                                                                           33\n",
       "0                                                                                                                16\n",
       "103430dcab4b60eb4f                                                                                                9\n",
       "433f38e2c758468ab632dcab7281d4be_Y2NhPTEwLzI1LzIwMTggMTA6Mjk6MjUgUE0mb2ZmZXJJZD0zMzQ1NjQ0NiZhZmZJZD0yMjMyNzUx     7\n",
       "210a4c5786d249c78bb30237abcac890_Y2NhPTQvMjEvMjAxOCA1OjI2OjM3IFBNJm9mZmVySWQ9MzM0NTY0NDYmYWZmSWQ9MTY2MTgxNQ==     6\n",
       "77ca31a9-b0e0-4884-8de8-c2ee74f1cc32                                                                              2\n",
       "0941bb7b-866f-4d5a-9b85-63e77b27d562                                                                              2\n",
       "1901171053a509cd7317f2c6                                                                                          2\n",
       "57d62969                                                                                                          1\n",
       "58ee68fa77874f8785ecbe8cf74e14de_Y2NhPTQvMjUvMjAxOCA5OjI5OjE4IFBNJm9mZmVySWQ9MzM0NTY4ODkmYWZmSWQ9MjIzMzAzOQ==     1\n",
       "57ff03c8                                                                                                          1\n",
       "73f1hsvh52g4soo                                                                                                   1\n",
       "1500439142mb23318419296                                                                                           1\n",
       "Name: trans_id, dtype: int64"
      ]
     },
     "execution_count": 29,
     "metadata": {},
     "output_type": "execute_result"
    }
   ],
   "source": [
    "events['trans_id'].value_counts()"
   ]
  },
  {
   "cell_type": "code",
   "execution_count": 3,
   "metadata": {},
   "outputs": [],
   "source": [
    "del events['trans_id']"
   ]
  },
  {
   "cell_type": "code",
   "execution_count": 31,
   "metadata": {},
   "outputs": [
    {
     "data": {
      "text/plain": [
       "2.394269162455642e+18     42325\n",
       "7.72027024220892e+18      37523\n",
       "6.59386819643465e+18      36173\n",
       "5.930547337170416e+18     35950\n",
       "5.254247406123229e+18     32902\n",
       "6.10522694935703e+18      31554\n",
       "3.43749743931221e+18      28317\n",
       "7.738334399785623e+18     27218\n",
       "4.3922650149309645e+18    23386\n",
       "2.948343093474511e+18     19773\n",
       "6.741680180239527e+18     19404\n",
       "5.323194805072353e+18     18277\n",
       "8.234145808386622e+18     17985\n",
       "4.185911564152913e+18     17157\n",
       "1.2440622242452342e+18    16243\n",
       "6.840860440298272e+18     15798\n",
       "1.637986409760501e+18     15196\n",
       "2.4958048761062277e+18    15085\n",
       "9.177081431590678e+18     14872\n",
       "2.9554935318608517e+18    13923\n",
       "5.144382081229548e+18     13033\n",
       "5.407281900521064e+18     11255\n",
       "3.5907478428344975e+18    10571\n",
       "8.089178157941562e+18     10551\n",
       "8.22734456809323e+18      10066\n",
       "6.322452758521056e+18      9284\n",
       "8.301989661429948e+17      9100\n",
       "4.47207748927856e+18       8390\n",
       "2.6795308969710915e+18     8253\n",
       "5.0990105183075226e+17     8160\n",
       "                          ...  \n",
       "5.29356665180494e+18          1\n",
       "6.497811945215997e+18         1\n",
       "6.843502180357144e+17         1\n",
       "7.056091375955696e+18         1\n",
       "7.64594844996271e+18          1\n",
       "7.677632162772408e+18         1\n",
       "7.69262800535739e+18          1\n",
       "7.922231148830383e+18         1\n",
       "8.288614411498047e+18         1\n",
       "8.448629001301942e+18         1\n",
       "8.456941926362004e+18         1\n",
       "8.665835495993989e+18         1\n",
       "9.020813553880003e+18         1\n",
       "6.828012961889374e+18         1\n",
       "6.824082676434997e+18         1\n",
       "5.253706908496407e+18         1\n",
       "6.272925525160181e+18         1\n",
       "7.687817384167831e+18         1\n",
       "6.104704555846702e+18         1\n",
       "6.496763270809362e+18         1\n",
       "6.034746322272803e+18         1\n",
       "1.0589542477261518e+18        1\n",
       "2.5929004293658506e+18        1\n",
       "1.1170417531994205e+18        1\n",
       "1.197649700175827e+18         1\n",
       "1.2276783594356065e+18        1\n",
       "5.86876841346545e+18          1\n",
       "1.4082376156942973e+18        1\n",
       "1.557650714856394e+18         1\n",
       "5.853071127029522e+18         1\n",
       "Name: user_agent, Length: 5111, dtype: int64"
      ]
     },
     "execution_count": 31,
     "metadata": {},
     "output_type": "execute_result"
    }
   ],
   "source": [
    "events['user_agent'].value_counts()"
   ]
  },
  {
   "cell_type": "code",
   "execution_count": 32,
   "metadata": {},
   "outputs": [],
   "source": [
    "events['user_agent'] = events['user_agent'].astype('category')"
   ]
  },
  {
   "cell_type": "code",
   "execution_count": 33,
   "metadata": {},
   "outputs": [
    {
     "data": {
      "text/plain": [
       "be9579e7-e627-4d9c-a346-3455d797c2e4    1\n",
       "e4142304-9cbe-46af-afc3-d31ec30e7f6e    1\n",
       "99cea99d-39a4-41e1-bb26-f20c59affcdf    1\n",
       "38ac91e8-c8f3-4836-846f-f44c5402be2d    1\n",
       "514d2431-8351-4815-bc79-c88fece8e07b    1\n",
       "40cae9c7-c369-4369-86f8-3da896578dda    1\n",
       "53a6948c-01f2-4d7d-a42c-95ee43f63281    1\n",
       "ac243f40-7a8f-4a86-b88f-99408029fbe2    1\n",
       "27f73f49-c1d3-4181-b278-d284107b36e7    1\n",
       "f4068eab-b782-40aa-a254-23b8ab5fe33f    1\n",
       "3b8953b3-2f4d-474f-b13e-04db648bc986    1\n",
       "481f8c2e-0641-4b97-85b3-be82806df8b1    1\n",
       "3f1ae727-2692-4c2c-952e-02e716e3fbcd    1\n",
       "ce7a62e1-949e-4654-ac30-f781fc59a828    1\n",
       "7fb89405-71e4-4b37-befa-79240b56d6ec    1\n",
       "ab8a6ccf-5922-4a3b-beaf-b1a8c46f637e    1\n",
       "d9727c71-207f-440a-8231-f91e9bce60ba    1\n",
       "cf389a40-b8e1-432b-9dd3-f4bffc7524d5    1\n",
       "527b43e2-e438-4823-bb26-73817b83401b    1\n",
       "1b3fdbdc-80a6-4624-a4b4-d1d84f9739a2    1\n",
       "6a2b547f-b66c-40ce-8b21-d1dfb88e0a6b    1\n",
       "2b3f75df-ac46-4e34-8dad-dc45f62ea3be    1\n",
       "216afd22-75de-4741-8264-e08ddc758f5c    1\n",
       "3d8f0e81-43d1-4e5d-9e64-401ce933a241    1\n",
       "03415ea0-e4cc-47a7-8a16-dd5480acd56d    1\n",
       "b1a03f06-ad97-4f7a-a86f-b7a948fae7cc    1\n",
       "60d4a708-23a0-43fb-83a0-06bd7df52aca    1\n",
       "9ba4ea5a-ddd8-418c-9e2e-ac2929b6423f    1\n",
       "b60725c0-a0d7-4009-b282-cf36eb1743ed    1\n",
       "d1cbcdc9-33d6-4192-ab52-b62bec30e891    1\n",
       "                                       ..\n",
       "2337ea1a-1e8d-4264-a518-99dbf5b1beb4    1\n",
       "9d7f0cc1-5982-4cdc-adf4-42adb26ef937    1\n",
       "b72247a3-9201-4af9-a699-481416d8f6ae    1\n",
       "559aada0-a34d-4dbc-8061-06eb9b9b3594    1\n",
       "3f0d4d9e-df35-4111-8e86-54d98692319b    1\n",
       "b003c6b4-2185-4ccf-a03e-b6bf6b02f506    1\n",
       "2ace8661-6f17-4d68-a760-eb2f8d721bc8    1\n",
       "ea28f990-9f23-4a78-a458-75f6b5dc9961    1\n",
       "d1149c23-051c-45bb-8aef-2cfefce8c5e7    1\n",
       "598186ec-b4ae-4306-9d21-54579c9d4c20    1\n",
       "96443abe-6e1f-4a1a-be68-388ee6c05151    1\n",
       "f9e861af-e8c1-4e86-a18d-c8d992ab59c8    1\n",
       "b820fdf8-4d35-4173-97af-b91c19bf81ff    1\n",
       "b9a853de-665d-47d3-a649-37705c8752ac    1\n",
       "024d850c-4f56-40ce-9582-95485f21c2f2    1\n",
       "f4a67845-6745-459f-a3cf-b4dc1eb1b3cd    1\n",
       "a130d5f9-1434-4e49-8b2f-8813044d7fc7    1\n",
       "b0596c65-32b0-410e-9412-aaf10f37f562    1\n",
       "95d3e634-bfa0-4186-8370-d632440b9265    1\n",
       "d04d77ab-4525-46fc-9e03-c52090118703    1\n",
       "9256830f-a99e-4360-b8dc-40fb37a49db5    1\n",
       "214883ff-f5bd-452a-af39-62f21c6737d5    1\n",
       "99d4f8e6-1361-4d3b-ba06-b46b1a5c1905    1\n",
       "35a9b3eb-7e46-48b9-94cd-cc1e46d5ca99    1\n",
       "664efd20-b9a4-496f-9cbf-9c6f12b35de5    1\n",
       "75a9525e-7885-40a3-b65f-cd55e1a8a534    1\n",
       "f29136e4-4ac8-4652-be4c-b183c17d4a4c    1\n",
       "2f062012-d531-4ab0-9917-b2fcdb532f1d    1\n",
       "f446ee7a-b67b-4ef1-a962-848b1c9b7cb7    1\n",
       "ebe90058-c424-417f-a52c-1f57f2191b03    1\n",
       "Name: event_uuid, Length: 2489324, dtype: int64"
      ]
     },
     "execution_count": 33,
     "metadata": {},
     "output_type": "execute_result"
    }
   ],
   "source": [
    "events['event_uuid'].value_counts()"
   ]
  },
  {
   "cell_type": "code",
   "execution_count": 34,
   "metadata": {},
   "outputs": [
    {
     "data": {
      "text/plain": [
       "2.2481569642543155e+17    436983\n",
       "1.1795872560140132e+18     80958\n",
       "7.855224497172788e+18      58478\n",
       "6.948827726700092e+18      29574\n",
       "3.570805180856832e+18       3457\n",
       "4.890488855514004e+18       2527\n",
       "7.232922439046282e+18       1491\n",
       "7.216101851670709e+18        539\n",
       "1.7576903483791066e+18       464\n",
       "3.1349838132534666e+18       336\n",
       "2.58683288719403e+18         311\n",
       "8.005033990448529e+18        227\n",
       "2.276828313171018e+17        185\n",
       "3.751135050063284e+18        145\n",
       "5.851845794617676e+18        121\n",
       "1.4010825245156086e+18        73\n",
       "3.550680419448072e+18         66\n",
       "5.255184358353569e+18         58\n",
       "5.926614067260969e+18         36\n",
       "6.046846537041924e+18         33\n",
       "2.1988510698396652e+18        29\n",
       "1.8329019614137016e+18        17\n",
       "4.699500034143047e+18         17\n",
       "7.87498164012504e+18          15\n",
       "4.958858478611984e+17         15\n",
       "1.312636194459128e+18         15\n",
       "5.0624501543466e+17           14\n",
       "2.580400656600893e+18         14\n",
       "8.628827427227626e+18         14\n",
       "5.268425616448026e+18         14\n",
       "                           ...  \n",
       "5.456621100335328e+18          3\n",
       "5.543219579193445e+18          2\n",
       "8.790137832771734e+18          2\n",
       "2.355114121121996e+18          2\n",
       "3.481613442647175e+18          2\n",
       "2.959657690188568e+18          2\n",
       "4.036081353791249e+18          2\n",
       "3.0888613624772347e+18         2\n",
       "8.853016003952505e+18          2\n",
       "8.019770650811662e+18          2\n",
       "3.8422926873729695e+18         2\n",
       "8.072305255353027e+18          2\n",
       "2.7488313570525307e+18         2\n",
       "4.611214772939814e+18          2\n",
       "9.180794061272395e+18          1\n",
       "7.185496882419474e+18          1\n",
       "3.682027668059564e+17          1\n",
       "2.833277422889676e+17          1\n",
       "1.045359471415632e+18          1\n",
       "7.89160048554161e+17           1\n",
       "8.529338845435317e+18          1\n",
       "4.1283361246405627e+18         1\n",
       "8.294563176203931e+17          1\n",
       "2.368831385012602e+18          1\n",
       "3.681032584473323e+18          1\n",
       "1.9964534738045194e+18         1\n",
       "2.591231971526353e+18          1\n",
       "6.196224375825633e+18          1\n",
       "6.254255965041862e+18          1\n",
       "9.182956943749254e+18          1\n",
       "Name: carrier, Length: 84, dtype: int64"
      ]
     },
     "execution_count": 34,
     "metadata": {},
     "output_type": "execute_result"
    }
   ],
   "source": [
    "# son más de 2 millones, esto no es una categoría, además no aporta información relevante\n",
    "del events['event_uuid']\n",
    "events['carrier'].value_counts()"
   ]
  },
  {
   "cell_type": "code",
   "execution_count": 35,
   "metadata": {},
   "outputs": [],
   "source": [
    "events['carrier'] = events['carrier'].astype('category')"
   ]
  },
  {
   "cell_type": "code",
   "execution_count": 36,
   "metadata": {},
   "outputs": [
    {
     "data": {
      "text/plain": [
       "5.500848327478996e+18     618217\n",
       "5.104972432847709e+18     300632\n",
       "9.066787919123543e+18     217846\n",
       "9.977660181316936e+17     151445\n",
       "8.820572319511919e+18     110045\n",
       "4.647948847353587e+18     100029\n",
       "3.2090781690992343e+18     84898\n",
       "2.3767496212528297e+18     56489\n",
       "7.320635661394365e+18      52726\n",
       "4.0176741840411725e+18     43936\n",
       "5.5715199625661126e+17     42101\n",
       "4.074559116314067e+18      39892\n",
       "5.913921070048764e+18      38067\n",
       "4.821815004439628e+18      37056\n",
       "5.059134271513848e+18      35588\n",
       "8.370513340818052e+18      26228\n",
       "4.853173252142275e+18      24296\n",
       "6.51420806757284e+18       23444\n",
       "6.168308581888314e+18      22788\n",
       "6.794944093927819e+18      18599\n",
       "1.2869764740456515e+18     14408\n",
       "7.499875431243801e+18      13940\n",
       "5.735892088608821e+18      13455\n",
       "5.882882097123621e+18      12953\n",
       "7.310429127362015e+17      11853\n",
       "2.481896960094684e+18      11711\n",
       "7.00532667621659e+18       11678\n",
       "6.417927117224306e+18      10939\n",
       "8.569825701272477e+18      10860\n",
       "9.01838557291685e+18       10213\n",
       "                           ...  \n",
       "2.779689168235272e+18          1\n",
       "2.9455246338264315e+18         1\n",
       "2.9977644283229645e+18         1\n",
       "3.532315260450617e+18          1\n",
       "4.57945584711839e+18           1\n",
       "4.625323305821386e+18          1\n",
       "5.960956490486709e+18          1\n",
       "7.24536668238445e+17           1\n",
       "7.421099465448872e+18          1\n",
       "7.690540489320881e+18          1\n",
       "6.527932377638105e+18          1\n",
       "6.750672403065987e+17          1\n",
       "9.18398275700573e+18           1\n",
       "2.2291637076249636e+18         1\n",
       "8.467703567211715e+18          1\n",
       "4.995404750039454e+18          1\n",
       "8.866388600278882e+18          1\n",
       "7.170285619676088e+17          1\n",
       "1.2121532966257948e+18         1\n",
       "3.365549618919331e+18          1\n",
       "4.8183529374924666e+17         1\n",
       "6.229783629443152e+18          1\n",
       "7.228819915114674e+18          1\n",
       "6.447669357092072e+18          1\n",
       "6.762054027131995e+18          1\n",
       "4.3283677006838446e+18         1\n",
       "9.077160419206556e+17          1\n",
       "3.615636391541513e+18          1\n",
       "6.926533177324106e+18          1\n",
       "7.978634063911496e+18          1\n",
       "Name: kind, Length: 583, dtype: int64"
      ]
     },
     "execution_count": 36,
     "metadata": {},
     "output_type": "execute_result"
    }
   ],
   "source": [
    "events['kind'].value_counts()"
   ]
  },
  {
   "cell_type": "code",
   "execution_count": 37,
   "metadata": {},
   "outputs": [],
   "source": [
    "events['kind'] = events['kind'].astype('category')"
   ]
  },
  {
   "cell_type": "code",
   "execution_count": 38,
   "metadata": {},
   "outputs": [
    {
     "data": {
      "text/plain": [
       "7.531669329342818e+18     389811\n",
       "6.941824626260379e+18     260861\n",
       "2.7488313570525307e+18      6110\n",
       "5.916186881232351e+18        885\n",
       "Name: device_os, dtype: int64"
      ]
     },
     "execution_count": 38,
     "metadata": {},
     "output_type": "execute_result"
    }
   ],
   "source": [
    "events['device_os'].value_counts()"
   ]
  },
  {
   "cell_type": "code",
   "execution_count": 39,
   "metadata": {},
   "outputs": [],
   "source": [
    "events['device_os'] = events['device_os'].astype('category')"
   ]
  },
  {
   "cell_type": "code",
   "execution_count": 40,
   "metadata": {},
   "outputs": [
    {
     "data": {
      "text/plain": [
       "true     930902\n",
       "false    447970\n",
       "Name: wifi, dtype: int64"
      ]
     },
     "execution_count": 40,
     "metadata": {},
     "output_type": "execute_result"
    }
   ],
   "source": [
    "events['wifi'].value_counts()"
   ]
  },
  {
   "cell_type": "code",
   "execution_count": 41,
   "metadata": {},
   "outputs": [
    {
     "data": {
      "text/plain": [
       "Cable/DSL    331948\n",
       "Cellular     280511\n",
       "Corporate         4\n",
       "Name: connection_type, dtype: int64"
      ]
     },
     "execution_count": 41,
     "metadata": {},
     "output_type": "execute_result"
    }
   ],
   "source": [
    "events['connection_type'].value_counts()"
   ]
  },
  {
   "cell_type": "code",
   "execution_count": 42,
   "metadata": {},
   "outputs": [
    {
     "data": {
      "text/plain": [
       "CategoricalDtype(categories=['Cable/DSL', 'Cellular', 'Corporate'], ordered=False)"
      ]
     },
     "execution_count": 42,
     "metadata": {},
     "output_type": "execute_result"
    }
   ],
   "source": [
    "events['connection_type'].dtype"
   ]
  },
  {
   "cell_type": "code",
   "execution_count": 43,
   "metadata": {},
   "outputs": [
    {
     "data": {
      "text/plain": [
       "2494780"
      ]
     },
     "execution_count": 43,
     "metadata": {},
     "output_type": "execute_result"
    }
   ],
   "source": [
    "events['connection_type'].memory_usage(deep=True)"
   ]
  },
  {
   "cell_type": "code",
   "execution_count": 44,
   "metadata": {},
   "outputs": [],
   "source": [
    "events['connection_type'] = events['connection_type'].astype('category')"
   ]
  },
  {
   "cell_type": "code",
   "execution_count": 45,
   "metadata": {},
   "outputs": [
    {
     "data": {
      "text/plain": [
       "CategoricalDtype(categories=['Cable/DSL', 'Cellular', 'Corporate'], ordered=False)"
      ]
     },
     "execution_count": 45,
     "metadata": {},
     "output_type": "execute_result"
    }
   ],
   "source": [
    "events['connection_type'].dtype"
   ]
  },
  {
   "cell_type": "code",
   "execution_count": 46,
   "metadata": {},
   "outputs": [
    {
     "data": {
      "text/plain": [
       "2494780"
      ]
     },
     "execution_count": 46,
     "metadata": {},
     "output_type": "execute_result"
    }
   ],
   "source": [
    "events['connection_type'].memory_usage(deep=True)"
   ]
  },
  {
   "cell_type": "code",
   "execution_count": 47,
   "metadata": {},
   "outputs": [
    {
     "data": {
      "text/plain": [
       "1992632945768888579    22640\n",
       "3162368506662488065    19379\n",
       "7726314782926052608    17704\n",
       "2394721645995561079     9777\n",
       "589886713227299026      7561\n",
       "7833422721300884983     7197\n",
       "3564864895681659759     7142\n",
       "4537476465028897433     7140\n",
       "2403839579048525602     7100\n",
       "7410847412569818934     7065\n",
       "8235954648733428120     6933\n",
       "7481987231813232849     6855\n",
       "1093212093074216349     6347\n",
       "8010533080341024188     6241\n",
       "2441645233986204328     6108\n",
       "2706357072127963511     4993\n",
       "8262991154202232888     4736\n",
       "1037699812701179191     4554\n",
       "2988221197536288219     4408\n",
       "2322330997698851930     3901\n",
       "6286868732416664667     3698\n",
       "8928734162578817363     3519\n",
       "8531002764348621869     2710\n",
       "7326588564616977029     2595\n",
       "6452955265823183819     2571\n",
       "7571354015197421297     2556\n",
       "7858558567428669000     2520\n",
       "3222899837426106171     2518\n",
       "3692763185030977380     2450\n",
       "6324037615828123965     2408\n",
       "                       ...  \n",
       "8354349022722988350        1\n",
       "7810143944060388432        1\n",
       "21847751496269070          1\n",
       "767696570226258000         1\n",
       "4458841653944296923        1\n",
       "3600359755695537591        1\n",
       "965122637783580847         1\n",
       "7126654926975659289        1\n",
       "7785763114305300214        1\n",
       "6922964588773147940        1\n",
       "5571751686309944046        1\n",
       "8524042583835376204        1\n",
       "1548269110159393832        1\n",
       "1334129406815599494        1\n",
       "1440851085198796211        1\n",
       "5465990244107615598        1\n",
       "3315077788151660936        1\n",
       "377413435866433692         1\n",
       "403643581858416283         1\n",
       "5625454236420664620        1\n",
       "6297785086410596444        1\n",
       "865735738946492792         1\n",
       "5316517878243719710        1\n",
       "8896124262873260755        1\n",
       "361383479433549232         1\n",
       "6972806790365671167        1\n",
       "6216550108324576422        1\n",
       "1033135917162868094        1\n",
       "3888973223672549839        1\n",
       "8952896826617249737        1\n",
       "Name: ip_address, Length: 285212, dtype: int64"
      ]
     },
     "execution_count": 47,
     "metadata": {},
     "output_type": "execute_result"
    }
   ],
   "source": [
    "events['ip_address'].value_counts()"
   ]
  },
  {
   "cell_type": "code",
   "execution_count": 48,
   "metadata": {},
   "outputs": [
    {
     "data": {
      "text/plain": [
       "6.977049253562486e+18     745898\n",
       "3.3013777759776993e+18    589865\n",
       "9.0283826551012e+18       388832\n",
       "6.804427935983149e+18     340624\n",
       "4.621024053086952e+18     150143\n",
       "4.077062198952597e+17      53277\n",
       "2.822843369618519e+17      28294\n",
       "4.060929664968129e+18      25943\n",
       "3.095855928498728e+18      25635\n",
       "6.111820034171223e+18      18314\n",
       "1.5264214271539814e+18     10181\n",
       "1.1932786179815933e+18      6968\n",
       "6.035179960508536e+18       3681\n",
       "3.1772649501524695e+18      3077\n",
       "3.695787044360519e+17       2622\n",
       "6.535228344298127e+18       2201\n",
       "2.554250790954083e+18       1465\n",
       "1.1015391524827163e+17       845\n",
       "5.649026280217904e+18        740\n",
       "4.073834886007358e+18        553\n",
       "5.061641824384339e+18        441\n",
       "7.77431571166467e+18         399\n",
       "3.7887455341954785e+18       395\n",
       "3.915023192723985e+18        339\n",
       "1.5158880551616256e+18       335\n",
       "4.594650153337342e+18        305\n",
       "2.4883657416061665e+18       305\n",
       "5.84621722065469e+18         284\n",
       "8.149693170391004e+18        233\n",
       "7.687656459658518e+17        230\n",
       "                           ...  \n",
       "5.48785155992628e+18           2\n",
       "5.794426915540082e+17          2\n",
       "4.2326547540512666e+17         2\n",
       "8.998862255774677e+18          2\n",
       "2.0991438343921812e+18         2\n",
       "6.885566100617841e+18          2\n",
       "1.5805662551168694e+18         2\n",
       "8.17115868116381e+18           2\n",
       "8.988832953090489e+18          1\n",
       "8.801445497134885e+18          1\n",
       "5.398553465661178e+18          1\n",
       "6.232746105747099e+18          1\n",
       "7.427588927950492e+18          1\n",
       "4.868943407884054e+18          1\n",
       "2.255777820340572e+18          1\n",
       "1.067925087428195e+18          1\n",
       "8.939758376601446e+18          1\n",
       "9.072201812600563e+17          1\n",
       "4.953653180149581e+18          1\n",
       "2.1868026671248545e+18         1\n",
       "2.0676599708274614e+17         1\n",
       "8.665658446966968e+18          1\n",
       "8.949677870441083e+18          1\n",
       "3.8707472565781115e+18         1\n",
       "6.261355638889256e+18          1\n",
       "7.505877299522365e+18          1\n",
       "6.659398769993063e+18          1\n",
       "5.100937699885955e+18          1\n",
       "5.007535364129559e+18          1\n",
       "2.234227498027208e+18          1\n",
       "Name: device_language, Length: 186, dtype: int64"
      ]
     },
     "execution_count": 48,
     "metadata": {},
     "output_type": "execute_result"
    }
   ],
   "source": [
    "events['device_language'].value_counts()"
   ]
  },
  {
   "cell_type": "code",
   "execution_count": 49,
   "metadata": {},
   "outputs": [],
   "source": [
    "events['device_language'] = events['device_language'].astype('category')"
   ]
  },
  {
   "cell_type": "code",
   "execution_count": 50,
   "metadata": {},
   "outputs": [
    {
     "data": {
      "text/plain": [
       "6.977049253562486e+18     745898\n",
       "3.3013777759776993e+18    589865\n",
       "9.0283826551012e+18       388832\n",
       "6.804427935983149e+18     340624\n",
       "4.621024053086952e+18     150143\n",
       "4.077062198952597e+17      53277\n",
       "other                      29598\n",
       "2.822843369618519e+17      28294\n",
       "4.060929664968129e+18      25943\n",
       "3.095855928498728e+18      25635\n",
       "6.111820034171223e+18      18314\n",
       "1.5264214271539814e+18     10181\n",
       "Name: device_language, dtype: int64"
      ]
     },
     "execution_count": 50,
     "metadata": {},
     "output_type": "execute_result"
    }
   ],
   "source": [
    "counts = events['device_language'].value_counts()\n",
    "indexes = counts[counts<7000].index\n",
    "mask_dict = dict.fromkeys(indexes, 'other')\n",
    "events['device_language'] = events['device_language'].replace(mask_dict)\n",
    "events['device_language'].value_counts()"
   ]
  },
  {
   "cell_type": "code",
   "execution_count": 51,
   "metadata": {},
   "outputs": [
    {
     "data": {
      "text/plain": [
       "Index                        80\n",
       "date                  199553840\n",
       "event_id               19955384\n",
       "ref_type                2494655\n",
       "application_id          4988846\n",
       "attributed              2494423\n",
       "device_countrycode      2494579\n",
       "device_os_version       2503308\n",
       "device_brand            5018630\n",
       "device_model            5275839\n",
       "device_city             5003887\n",
       "session_user_agent      5143927\n",
       "user_agent              5552200\n",
       "carrier                 2503547\n",
       "kind                    5054874\n",
       "device_os               2494896\n",
       "wifi                    2494626\n",
       "connection_type         2494700\n",
       "ip_address             19955384\n",
       "device_language       189874134\n",
       "dtype: int64"
      ]
     },
     "execution_count": 51,
     "metadata": {},
     "output_type": "execute_result"
    }
   ],
   "source": [
    "events.memory_usage(deep=True)"
   ]
  },
  {
   "cell_type": "code",
   "execution_count": 4,
   "metadata": {},
   "outputs": [],
   "source": [
    "# desecho el país porque es siempre el mismo. No me suma información\n",
    "del events['device_countrycode']"
   ]
  },
  {
   "cell_type": "code",
   "execution_count": 53,
   "metadata": {},
   "outputs": [
    {
     "data": {
      "text/plain": [
       "Index                        80\n",
       "date                  199553840\n",
       "event_id               19955384\n",
       "ref_type                2494655\n",
       "application_id          4988846\n",
       "attributed              2494423\n",
       "device_os_version       2503308\n",
       "device_brand            5018630\n",
       "device_model            5275839\n",
       "device_city             5003887\n",
       "session_user_agent      5143927\n",
       "user_agent              5552200\n",
       "carrier                 2503547\n",
       "kind                    5054874\n",
       "device_os               2494896\n",
       "wifi                    2494626\n",
       "connection_type         2494700\n",
       "ip_address             19955384\n",
       "device_language       189874134\n",
       "dtype: int64"
      ]
     },
     "execution_count": 53,
     "metadata": {},
     "output_type": "execute_result"
    }
   ],
   "source": [
    "events.memory_usage(deep=True)"
   ]
  },
  {
   "cell_type": "code",
   "execution_count": 54,
   "metadata": {},
   "outputs": [
    {
     "data": {
      "text/plain": [
       "date                  2494423\n",
       "event_id              2494423\n",
       "ref_type              2494423\n",
       "application_id        2494423\n",
       "attributed            2494423\n",
       "device_os_version     1022066\n",
       "device_brand          1164963\n",
       "device_model          2406456\n",
       "device_city            614698\n",
       "session_user_agent    2482637\n",
       "user_agent            1391527\n",
       "carrier                616434\n",
       "kind                  2489324\n",
       "device_os              657667\n",
       "wifi                  1378872\n",
       "connection_type        612463\n",
       "ip_address            2494423\n",
       "device_language       2406604\n",
       "dtype: int64"
      ]
     },
     "execution_count": 54,
     "metadata": {},
     "output_type": "execute_result"
    }
   ],
   "source": [
    "events.count()"
   ]
  },
  {
   "cell_type": "code",
   "execution_count": 55,
   "metadata": {},
   "outputs": [
    {
     "data": {
      "text/plain": [
       "66     325696\n",
       "64     259084\n",
       "145    252431\n",
       "63     181555\n",
       "103    137513\n",
       "57     134498\n",
       "121    123711\n",
       "212    108489\n",
       "113     82962\n",
       "39      76448\n",
       "120     68421\n",
       "149     60326\n",
       "10      58311\n",
       "170     55820\n",
       "7       48005\n",
       "8       38972\n",
       "102     32579\n",
       "248     31070\n",
       "54      29284\n",
       "166     27611\n",
       "16      24365\n",
       "125     23018\n",
       "140     22215\n",
       "136     15362\n",
       "119     15282\n",
       "45      14321\n",
       "214     10112\n",
       "134     10003\n",
       "112      9871\n",
       "43       9336\n",
       "        ...  \n",
       "127         3\n",
       "62          3\n",
       "232         3\n",
       "91          3\n",
       "135         2\n",
       "36          2\n",
       "290         2\n",
       "49          2\n",
       "11          2\n",
       "228         2\n",
       "209         2\n",
       "206         2\n",
       "117         2\n",
       "188         2\n",
       "81          2\n",
       "322         1\n",
       "25          1\n",
       "86          1\n",
       "132         1\n",
       "146         1\n",
       "155         1\n",
       "158         1\n",
       "165         1\n",
       "240         1\n",
       "245         1\n",
       "255         1\n",
       "286         1\n",
       "295         1\n",
       "305         1\n",
       "154         1\n",
       "Name: application_id, Length: 269, dtype: int64"
      ]
     },
     "execution_count": 55,
     "metadata": {},
     "output_type": "execute_result"
    }
   ],
   "source": [
    "events['application_id'].value_counts()"
   ]
  },
  {
   "cell_type": "code",
   "execution_count": 4,
   "metadata": {},
   "outputs": [
    {
     "ename": "ValueError",
     "evalue": "operands could not be broadcast together with shape (269,) (10,)",
     "output_type": "error",
     "traceback": [
      "\u001b[0;31m---------------------------------------------------------------------------\u001b[0m",
      "\u001b[0;31mValueError\u001b[0m                                Traceback (most recent call last)",
      "\u001b[0;32m<ipython-input-4-4981d488635f>\u001b[0m in \u001b[0;36m<module>\u001b[0;34m\u001b[0m\n\u001b[1;32m      2\u001b[0m \u001b[0mappcode\u001b[0m \u001b[0;34m=\u001b[0m \u001b[0mevents\u001b[0m\u001b[0;34m[\u001b[0m\u001b[0;34m'application_id'\u001b[0m\u001b[0;34m]\u001b[0m\u001b[0;34m.\u001b[0m\u001b[0mvalue_counts\u001b[0m\u001b[0;34m(\u001b[0m\u001b[0;34m)\u001b[0m\u001b[0;34m.\u001b[0m\u001b[0mnlargest\u001b[0m\u001b[0;34m(\u001b[0m\u001b[0;36m10\u001b[0m\u001b[0;34m)\u001b[0m\u001b[0;34m.\u001b[0m\u001b[0mindex\u001b[0m\u001b[0;34m\u001b[0m\u001b[0;34m\u001b[0m\u001b[0m\n\u001b[1;32m      3\u001b[0m \u001b[0mtop10apps\u001b[0m \u001b[0;34m=\u001b[0m \u001b[0mevents\u001b[0m\u001b[0;34m[\u001b[0m\u001b[0mevents\u001b[0m\u001b[0;34m[\u001b[0m\u001b[0;34m'application_id'\u001b[0m\u001b[0;34m]\u001b[0m\u001b[0;34m.\u001b[0m\u001b[0misin\u001b[0m\u001b[0;34m(\u001b[0m\u001b[0mappcode\u001b[0m\u001b[0;34m)\u001b[0m\u001b[0;34m]\u001b[0m\u001b[0;34m\u001b[0m\u001b[0;34m\u001b[0m\u001b[0m\n\u001b[0;32m----> 4\u001b[0;31m \u001b[0mlangs\u001b[0m \u001b[0;34m=\u001b[0m \u001b[0mtop10apps\u001b[0m\u001b[0;34m[\u001b[0m\u001b[0;34m[\u001b[0m\u001b[0;34m'application_id'\u001b[0m\u001b[0;34m,\u001b[0m \u001b[0;34m'device_language'\u001b[0m\u001b[0;34m]\u001b[0m\u001b[0;34m]\u001b[0m\u001b[0;34m.\u001b[0m\u001b[0mgroupby\u001b[0m\u001b[0;34m(\u001b[0m\u001b[0;34m'application_id'\u001b[0m\u001b[0;34m)\u001b[0m\u001b[0;34m.\u001b[0m\u001b[0magg\u001b[0m\u001b[0;34m(\u001b[0m\u001b[0;34m{\u001b[0m\u001b[0;34m'device_language'\u001b[0m \u001b[0;34m:\u001b[0m \u001b[0;34m'value_counts'\u001b[0m\u001b[0;34m}\u001b[0m\u001b[0;34m)\u001b[0m\u001b[0;34m\u001b[0m\u001b[0;34m\u001b[0m\u001b[0m\n\u001b[0m\u001b[1;32m      5\u001b[0m \u001b[0mlangs\u001b[0m\u001b[0;34m[\u001b[0m\u001b[0;34m'device_language'\u001b[0m\u001b[0;34m]\u001b[0m\u001b[0;34m.\u001b[0m\u001b[0munstack\u001b[0m\u001b[0;34m(\u001b[0m\u001b[0;34m)\u001b[0m\u001b[0;34m.\u001b[0m\u001b[0mplot\u001b[0m\u001b[0;34m(\u001b[0m\u001b[0mkind\u001b[0m \u001b[0;34m=\u001b[0m \u001b[0;34m'bar'\u001b[0m\u001b[0;34m,\u001b[0m \u001b[0mstacked\u001b[0m \u001b[0;34m=\u001b[0m \u001b[0;32mTrue\u001b[0m\u001b[0;34m,\u001b[0m \u001b[0mfigsize\u001b[0m \u001b[0;34m=\u001b[0m \u001b[0;34m(\u001b[0m\u001b[0;36m20\u001b[0m\u001b[0;34m,\u001b[0m\u001b[0;36m9\u001b[0m\u001b[0;34m)\u001b[0m\u001b[0;34m,\u001b[0m \u001b[0mcolormap\u001b[0m \u001b[0;34m=\u001b[0m \u001b[0;34m'Paired'\u001b[0m\u001b[0;34m)\u001b[0m\u001b[0;34m\u001b[0m\u001b[0;34m\u001b[0m\u001b[0m\n\u001b[1;32m      6\u001b[0m \u001b[0mplt\u001b[0m\u001b[0;34m.\u001b[0m\u001b[0mshow\u001b[0m\u001b[0;34m(\u001b[0m\u001b[0;34m)\u001b[0m\u001b[0;34m\u001b[0m\u001b[0;34m\u001b[0m\u001b[0m\n",
      "\u001b[0;32m/usr/local/lib/python3.6/dist-packages/pandas/core/groupby/generic.py\u001b[0m in \u001b[0;36maggregate\u001b[0;34m(self, arg, *args, **kwargs)\u001b[0m\n\u001b[1;32m   1313\u001b[0m     \u001b[0;34m@\u001b[0m\u001b[0mAppender\u001b[0m\u001b[0;34m(\u001b[0m\u001b[0m_shared_docs\u001b[0m\u001b[0;34m[\u001b[0m\u001b[0;34m'aggregate'\u001b[0m\u001b[0;34m]\u001b[0m\u001b[0;34m)\u001b[0m\u001b[0;34m\u001b[0m\u001b[0;34m\u001b[0m\u001b[0m\n\u001b[1;32m   1314\u001b[0m     \u001b[0;32mdef\u001b[0m \u001b[0maggregate\u001b[0m\u001b[0;34m(\u001b[0m\u001b[0mself\u001b[0m\u001b[0;34m,\u001b[0m \u001b[0marg\u001b[0m\u001b[0;34m,\u001b[0m \u001b[0;34m*\u001b[0m\u001b[0margs\u001b[0m\u001b[0;34m,\u001b[0m \u001b[0;34m**\u001b[0m\u001b[0mkwargs\u001b[0m\u001b[0;34m)\u001b[0m\u001b[0;34m:\u001b[0m\u001b[0;34m\u001b[0m\u001b[0;34m\u001b[0m\u001b[0m\n\u001b[0;32m-> 1315\u001b[0;31m         \u001b[0;32mreturn\u001b[0m \u001b[0msuper\u001b[0m\u001b[0;34m(\u001b[0m\u001b[0mDataFrameGroupBy\u001b[0m\u001b[0;34m,\u001b[0m \u001b[0mself\u001b[0m\u001b[0;34m)\u001b[0m\u001b[0;34m.\u001b[0m\u001b[0maggregate\u001b[0m\u001b[0;34m(\u001b[0m\u001b[0marg\u001b[0m\u001b[0;34m,\u001b[0m \u001b[0;34m*\u001b[0m\u001b[0margs\u001b[0m\u001b[0;34m,\u001b[0m \u001b[0;34m**\u001b[0m\u001b[0mkwargs\u001b[0m\u001b[0;34m)\u001b[0m\u001b[0;34m\u001b[0m\u001b[0;34m\u001b[0m\u001b[0m\n\u001b[0m\u001b[1;32m   1316\u001b[0m \u001b[0;34m\u001b[0m\u001b[0m\n\u001b[1;32m   1317\u001b[0m     \u001b[0magg\u001b[0m \u001b[0;34m=\u001b[0m \u001b[0maggregate\u001b[0m\u001b[0;34m\u001b[0m\u001b[0;34m\u001b[0m\u001b[0m\n",
      "\u001b[0;32m/usr/local/lib/python3.6/dist-packages/pandas/core/groupby/generic.py\u001b[0m in \u001b[0;36maggregate\u001b[0;34m(self, arg, *args, **kwargs)\u001b[0m\n\u001b[1;32m    184\u001b[0m \u001b[0;34m\u001b[0m\u001b[0m\n\u001b[1;32m    185\u001b[0m         \u001b[0m_level\u001b[0m \u001b[0;34m=\u001b[0m \u001b[0mkwargs\u001b[0m\u001b[0;34m.\u001b[0m\u001b[0mpop\u001b[0m\u001b[0;34m(\u001b[0m\u001b[0;34m'_level'\u001b[0m\u001b[0;34m,\u001b[0m \u001b[0;32mNone\u001b[0m\u001b[0;34m)\u001b[0m\u001b[0;34m\u001b[0m\u001b[0;34m\u001b[0m\u001b[0m\n\u001b[0;32m--> 186\u001b[0;31m         \u001b[0mresult\u001b[0m\u001b[0;34m,\u001b[0m \u001b[0mhow\u001b[0m \u001b[0;34m=\u001b[0m \u001b[0mself\u001b[0m\u001b[0;34m.\u001b[0m\u001b[0m_aggregate\u001b[0m\u001b[0;34m(\u001b[0m\u001b[0marg\u001b[0m\u001b[0;34m,\u001b[0m \u001b[0m_level\u001b[0m\u001b[0;34m=\u001b[0m\u001b[0m_level\u001b[0m\u001b[0;34m,\u001b[0m \u001b[0;34m*\u001b[0m\u001b[0margs\u001b[0m\u001b[0;34m,\u001b[0m \u001b[0;34m**\u001b[0m\u001b[0mkwargs\u001b[0m\u001b[0;34m)\u001b[0m\u001b[0;34m\u001b[0m\u001b[0;34m\u001b[0m\u001b[0m\n\u001b[0m\u001b[1;32m    187\u001b[0m         \u001b[0;32mif\u001b[0m \u001b[0mhow\u001b[0m \u001b[0;32mis\u001b[0m \u001b[0;32mNone\u001b[0m\u001b[0;34m:\u001b[0m\u001b[0;34m\u001b[0m\u001b[0;34m\u001b[0m\u001b[0m\n\u001b[1;32m    188\u001b[0m             \u001b[0;32mreturn\u001b[0m \u001b[0mresult\u001b[0m\u001b[0;34m\u001b[0m\u001b[0;34m\u001b[0m\u001b[0m\n",
      "\u001b[0;32m/usr/local/lib/python3.6/dist-packages/pandas/core/base.py\u001b[0m in \u001b[0;36m_aggregate\u001b[0;34m(self, arg, *args, **kwargs)\u001b[0m\n\u001b[1;32m    496\u001b[0m \u001b[0;34m\u001b[0m\u001b[0m\n\u001b[1;32m    497\u001b[0m                 \u001b[0;32mtry\u001b[0m\u001b[0;34m:\u001b[0m\u001b[0;34m\u001b[0m\u001b[0;34m\u001b[0m\u001b[0m\n\u001b[0;32m--> 498\u001b[0;31m                     \u001b[0mresult\u001b[0m \u001b[0;34m=\u001b[0m \u001b[0m_agg\u001b[0m\u001b[0;34m(\u001b[0m\u001b[0marg\u001b[0m\u001b[0;34m,\u001b[0m \u001b[0m_agg_1dim\u001b[0m\u001b[0;34m)\u001b[0m\u001b[0;34m\u001b[0m\u001b[0;34m\u001b[0m\u001b[0m\n\u001b[0m\u001b[1;32m    499\u001b[0m                 \u001b[0;32mexcept\u001b[0m \u001b[0mSpecificationError\u001b[0m\u001b[0;34m:\u001b[0m\u001b[0;34m\u001b[0m\u001b[0;34m\u001b[0m\u001b[0m\n\u001b[1;32m    500\u001b[0m \u001b[0;34m\u001b[0m\u001b[0m\n",
      "\u001b[0;32m/usr/local/lib/python3.6/dist-packages/pandas/core/base.py\u001b[0m in \u001b[0;36m_agg\u001b[0;34m(arg, func)\u001b[0m\n\u001b[1;32m    447\u001b[0m                 \u001b[0mresult\u001b[0m \u001b[0;34m=\u001b[0m \u001b[0mcompat\u001b[0m\u001b[0;34m.\u001b[0m\u001b[0mOrderedDict\u001b[0m\u001b[0;34m(\u001b[0m\u001b[0;34m)\u001b[0m\u001b[0;34m\u001b[0m\u001b[0;34m\u001b[0m\u001b[0m\n\u001b[1;32m    448\u001b[0m                 \u001b[0;32mfor\u001b[0m \u001b[0mfname\u001b[0m\u001b[0;34m,\u001b[0m \u001b[0magg_how\u001b[0m \u001b[0;32min\u001b[0m \u001b[0mcompat\u001b[0m\u001b[0;34m.\u001b[0m\u001b[0miteritems\u001b[0m\u001b[0;34m(\u001b[0m\u001b[0marg\u001b[0m\u001b[0;34m)\u001b[0m\u001b[0;34m:\u001b[0m\u001b[0;34m\u001b[0m\u001b[0;34m\u001b[0m\u001b[0m\n\u001b[0;32m--> 449\u001b[0;31m                     \u001b[0mresult\u001b[0m\u001b[0;34m[\u001b[0m\u001b[0mfname\u001b[0m\u001b[0;34m]\u001b[0m \u001b[0;34m=\u001b[0m \u001b[0mfunc\u001b[0m\u001b[0;34m(\u001b[0m\u001b[0mfname\u001b[0m\u001b[0;34m,\u001b[0m \u001b[0magg_how\u001b[0m\u001b[0;34m)\u001b[0m\u001b[0;34m\u001b[0m\u001b[0;34m\u001b[0m\u001b[0m\n\u001b[0m\u001b[1;32m    450\u001b[0m                 \u001b[0;32mreturn\u001b[0m \u001b[0mresult\u001b[0m\u001b[0;34m\u001b[0m\u001b[0;34m\u001b[0m\u001b[0m\n\u001b[1;32m    451\u001b[0m \u001b[0;34m\u001b[0m\u001b[0m\n",
      "\u001b[0;32m/usr/local/lib/python3.6/dist-packages/pandas/core/base.py\u001b[0m in \u001b[0;36m_agg_1dim\u001b[0;34m(name, how, subset)\u001b[0m\n\u001b[1;32m    430\u001b[0m                     raise SpecificationError(\"nested dictionary is ambiguous \"\n\u001b[1;32m    431\u001b[0m                                              \"in aggregation\")\n\u001b[0;32m--> 432\u001b[0;31m                 \u001b[0;32mreturn\u001b[0m \u001b[0mcolg\u001b[0m\u001b[0;34m.\u001b[0m\u001b[0maggregate\u001b[0m\u001b[0;34m(\u001b[0m\u001b[0mhow\u001b[0m\u001b[0;34m,\u001b[0m \u001b[0m_level\u001b[0m\u001b[0;34m=\u001b[0m\u001b[0;34m(\u001b[0m\u001b[0m_level\u001b[0m \u001b[0;32mor\u001b[0m \u001b[0;36m0\u001b[0m\u001b[0;34m)\u001b[0m \u001b[0;34m+\u001b[0m \u001b[0;36m1\u001b[0m\u001b[0;34m)\u001b[0m\u001b[0;34m\u001b[0m\u001b[0;34m\u001b[0m\u001b[0m\n\u001b[0m\u001b[1;32m    433\u001b[0m \u001b[0;34m\u001b[0m\u001b[0m\n\u001b[1;32m    434\u001b[0m             \u001b[0;32mdef\u001b[0m \u001b[0m_agg_2dim\u001b[0m\u001b[0;34m(\u001b[0m\u001b[0mname\u001b[0m\u001b[0;34m,\u001b[0m \u001b[0mhow\u001b[0m\u001b[0;34m)\u001b[0m\u001b[0;34m:\u001b[0m\u001b[0;34m\u001b[0m\u001b[0;34m\u001b[0m\u001b[0m\n",
      "\u001b[0;32m/usr/local/lib/python3.6/dist-packages/pandas/core/groupby/generic.py\u001b[0m in \u001b[0;36maggregate\u001b[0;34m(self, func_or_funcs, *args, **kwargs)\u001b[0m\n\u001b[1;32m    758\u001b[0m         \u001b[0m_level\u001b[0m \u001b[0;34m=\u001b[0m \u001b[0mkwargs\u001b[0m\u001b[0;34m.\u001b[0m\u001b[0mpop\u001b[0m\u001b[0;34m(\u001b[0m\u001b[0;34m'_level'\u001b[0m\u001b[0;34m,\u001b[0m \u001b[0;32mNone\u001b[0m\u001b[0;34m)\u001b[0m\u001b[0;34m\u001b[0m\u001b[0;34m\u001b[0m\u001b[0m\n\u001b[1;32m    759\u001b[0m         \u001b[0;32mif\u001b[0m \u001b[0misinstance\u001b[0m\u001b[0;34m(\u001b[0m\u001b[0mfunc_or_funcs\u001b[0m\u001b[0;34m,\u001b[0m \u001b[0mcompat\u001b[0m\u001b[0;34m.\u001b[0m\u001b[0mstring_types\u001b[0m\u001b[0;34m)\u001b[0m\u001b[0;34m:\u001b[0m\u001b[0;34m\u001b[0m\u001b[0;34m\u001b[0m\u001b[0m\n\u001b[0;32m--> 760\u001b[0;31m             \u001b[0;32mreturn\u001b[0m \u001b[0mgetattr\u001b[0m\u001b[0;34m(\u001b[0m\u001b[0mself\u001b[0m\u001b[0;34m,\u001b[0m \u001b[0mfunc_or_funcs\u001b[0m\u001b[0;34m)\u001b[0m\u001b[0;34m(\u001b[0m\u001b[0;34m*\u001b[0m\u001b[0margs\u001b[0m\u001b[0;34m,\u001b[0m \u001b[0;34m**\u001b[0m\u001b[0mkwargs\u001b[0m\u001b[0;34m)\u001b[0m\u001b[0;34m\u001b[0m\u001b[0;34m\u001b[0m\u001b[0m\n\u001b[0m\u001b[1;32m    761\u001b[0m \u001b[0;34m\u001b[0m\u001b[0m\n\u001b[1;32m    762\u001b[0m         \u001b[0;32mif\u001b[0m \u001b[0misinstance\u001b[0m\u001b[0;34m(\u001b[0m\u001b[0mfunc_or_funcs\u001b[0m\u001b[0;34m,\u001b[0m \u001b[0mcompat\u001b[0m\u001b[0;34m.\u001b[0m\u001b[0mIterable\u001b[0m\u001b[0;34m)\u001b[0m\u001b[0;34m:\u001b[0m\u001b[0;34m\u001b[0m\u001b[0;34m\u001b[0m\u001b[0m\n",
      "\u001b[0;32m/usr/local/lib/python3.6/dist-packages/pandas/core/groupby/generic.py\u001b[0m in \u001b[0;36mvalue_counts\u001b[0;34m(self, normalize, sort, ascending, bins, dropna)\u001b[0m\n\u001b[1;32m   1137\u001b[0m \u001b[0;34m\u001b[0m\u001b[0m\n\u001b[1;32m   1138\u001b[0m         \u001b[0;31m# multi-index components\u001b[0m\u001b[0;34m\u001b[0m\u001b[0;34m\u001b[0m\u001b[0;34m\u001b[0m\u001b[0m\n\u001b[0;32m-> 1139\u001b[0;31m         \u001b[0mlabels\u001b[0m \u001b[0;34m=\u001b[0m \u001b[0mlist\u001b[0m\u001b[0;34m(\u001b[0m\u001b[0mmap\u001b[0m\u001b[0;34m(\u001b[0m\u001b[0mrep\u001b[0m\u001b[0;34m,\u001b[0m \u001b[0mself\u001b[0m\u001b[0;34m.\u001b[0m\u001b[0mgrouper\u001b[0m\u001b[0;34m.\u001b[0m\u001b[0mrecons_labels\u001b[0m\u001b[0;34m)\u001b[0m\u001b[0;34m)\u001b[0m \u001b[0;34m+\u001b[0m \u001b[0;34m[\u001b[0m\u001b[0mllab\u001b[0m\u001b[0;34m(\u001b[0m\u001b[0mlab\u001b[0m\u001b[0;34m,\u001b[0m \u001b[0minc\u001b[0m\u001b[0;34m)\u001b[0m\u001b[0;34m]\u001b[0m\u001b[0;34m\u001b[0m\u001b[0;34m\u001b[0m\u001b[0m\n\u001b[0m\u001b[1;32m   1140\u001b[0m         \u001b[0mlevels\u001b[0m \u001b[0;34m=\u001b[0m \u001b[0;34m[\u001b[0m\u001b[0mping\u001b[0m\u001b[0;34m.\u001b[0m\u001b[0mgroup_index\u001b[0m \u001b[0;32mfor\u001b[0m \u001b[0mping\u001b[0m \u001b[0;32min\u001b[0m \u001b[0mself\u001b[0m\u001b[0;34m.\u001b[0m\u001b[0mgrouper\u001b[0m\u001b[0;34m.\u001b[0m\u001b[0mgroupings\u001b[0m\u001b[0;34m]\u001b[0m \u001b[0;34m+\u001b[0m \u001b[0;34m[\u001b[0m\u001b[0mlev\u001b[0m\u001b[0;34m]\u001b[0m\u001b[0;34m\u001b[0m\u001b[0;34m\u001b[0m\u001b[0m\n\u001b[1;32m   1141\u001b[0m         \u001b[0mnames\u001b[0m \u001b[0;34m=\u001b[0m \u001b[0mself\u001b[0m\u001b[0;34m.\u001b[0m\u001b[0mgrouper\u001b[0m\u001b[0;34m.\u001b[0m\u001b[0mnames\u001b[0m \u001b[0;34m+\u001b[0m \u001b[0;34m[\u001b[0m\u001b[0mself\u001b[0m\u001b[0;34m.\u001b[0m\u001b[0m_selection_name\u001b[0m\u001b[0;34m]\u001b[0m\u001b[0;34m\u001b[0m\u001b[0;34m\u001b[0m\u001b[0m\n",
      "\u001b[0;32m/usr/lib/python3/dist-packages/numpy/core/fromnumeric.py\u001b[0m in \u001b[0;36mrepeat\u001b[0;34m(a, repeats, axis)\u001b[0m\n\u001b[1;32m    396\u001b[0m \u001b[0;34m\u001b[0m\u001b[0m\n\u001b[1;32m    397\u001b[0m     \"\"\"\n\u001b[0;32m--> 398\u001b[0;31m     \u001b[0;32mreturn\u001b[0m \u001b[0m_wrapfunc\u001b[0m\u001b[0;34m(\u001b[0m\u001b[0ma\u001b[0m\u001b[0;34m,\u001b[0m \u001b[0;34m'repeat'\u001b[0m\u001b[0;34m,\u001b[0m \u001b[0mrepeats\u001b[0m\u001b[0;34m,\u001b[0m \u001b[0maxis\u001b[0m\u001b[0;34m=\u001b[0m\u001b[0maxis\u001b[0m\u001b[0;34m)\u001b[0m\u001b[0;34m\u001b[0m\u001b[0;34m\u001b[0m\u001b[0m\n\u001b[0m\u001b[1;32m    399\u001b[0m \u001b[0;34m\u001b[0m\u001b[0m\n\u001b[1;32m    400\u001b[0m \u001b[0;34m\u001b[0m\u001b[0m\n",
      "\u001b[0;32m/usr/lib/python3/dist-packages/numpy/core/fromnumeric.py\u001b[0m in \u001b[0;36m_wrapfunc\u001b[0;34m(obj, method, *args, **kwds)\u001b[0m\n\u001b[1;32m     55\u001b[0m \u001b[0;32mdef\u001b[0m \u001b[0m_wrapfunc\u001b[0m\u001b[0;34m(\u001b[0m\u001b[0mobj\u001b[0m\u001b[0;34m,\u001b[0m \u001b[0mmethod\u001b[0m\u001b[0;34m,\u001b[0m \u001b[0;34m*\u001b[0m\u001b[0margs\u001b[0m\u001b[0;34m,\u001b[0m \u001b[0;34m**\u001b[0m\u001b[0mkwds\u001b[0m\u001b[0;34m)\u001b[0m\u001b[0;34m:\u001b[0m\u001b[0;34m\u001b[0m\u001b[0;34m\u001b[0m\u001b[0m\n\u001b[1;32m     56\u001b[0m     \u001b[0;32mtry\u001b[0m\u001b[0;34m:\u001b[0m\u001b[0;34m\u001b[0m\u001b[0;34m\u001b[0m\u001b[0m\n\u001b[0;32m---> 57\u001b[0;31m         \u001b[0;32mreturn\u001b[0m \u001b[0mgetattr\u001b[0m\u001b[0;34m(\u001b[0m\u001b[0mobj\u001b[0m\u001b[0;34m,\u001b[0m \u001b[0mmethod\u001b[0m\u001b[0;34m)\u001b[0m\u001b[0;34m(\u001b[0m\u001b[0;34m*\u001b[0m\u001b[0margs\u001b[0m\u001b[0;34m,\u001b[0m \u001b[0;34m**\u001b[0m\u001b[0mkwds\u001b[0m\u001b[0;34m)\u001b[0m\u001b[0;34m\u001b[0m\u001b[0;34m\u001b[0m\u001b[0m\n\u001b[0m\u001b[1;32m     58\u001b[0m \u001b[0;34m\u001b[0m\u001b[0m\n\u001b[1;32m     59\u001b[0m     \u001b[0;31m# An AttributeError occurs if the object does not have\u001b[0m\u001b[0;34m\u001b[0m\u001b[0;34m\u001b[0m\u001b[0;34m\u001b[0m\u001b[0m\n",
      "\u001b[0;31mValueError\u001b[0m: operands could not be broadcast together with shape (269,) (10,)"
     ]
    }
   ],
   "source": [
    "#Hay demasiadas aplicaciones, me quedo con las 10 que más eventos generan entonces\n",
    "appcode = events['application_id'].value_counts().nlargest(10).index\n",
    "top10apps = events[events['application_id'].isin(appcode)]\n",
    "langs = top10apps[['application_id', 'device_language']].groupby('application_id').agg({'device_language' : 'value_counts'})\n",
    "langs['device_language'].unstack().plot(kind = 'bar', stacked = True, figsize = (20,9), colormap = 'Paired')\n",
    "plt.show()"
   ]
  },
  {
   "cell_type": "code",
   "execution_count": 93,
   "metadata": {},
   "outputs": [
    {
     "data": {
      "image/png": "[encoded data removed]",
      "text/plain": [
       "<Figure size 1152x576 with 1 Axes>"
      ]
     },
     "metadata": {
      "needs_background": "light"
     },
     "output_type": "display_data"
    }
   ],
   "source": [
    "us = pd.DataFrame(top10apps.groupby(['application_id', 'device_language']).size())\n",
    "us.columns = ['cant']\n",
    "us.reset_index(inplace = True)\n",
    "piv = pd.pivot_table(us, values = 'cant', columns = 'device_language', index = 'application_id')\n",
    "piv = piv.divide(piv.sum(axis = 1), axis = 0)\n",
    "piv.columns = ['other', '9.0283826551012e+18', '6.977049253562486e+18', '6.804427935983149e+18', '6.111820034171223e+18', '4.621024053086952e+18',\n",
    " '4.077062198952597e+17', '4.060929664968129e+18', '3.3013777759776993e+18', '3.095855928498728e+18', '2.822843369618519e+17', '1.5264214271539814e+18']\n",
    "f = plt.figure()\n",
    "plt.title('Idiomas predominantes en las top 10 apps que generan eventos',size=30)\n",
    "ax = piv.plot(kind='bar', stacked=True,figsize=(16,8),ax=f.gca(),colormap='jet')\n",
    "handles, labels = ax.get_legend_handles_labels()\n",
    "plt.legend(handles[::-1], labels[::-1],loc='center left', bbox_to_anchor=(1.0, 0.5))\n",
    "ax.set_ylabel('Porcentaje (%)', size = 15);\n",
    "ax.set_xlabel('Aplicación', size = 15);\n",
    "ax.set_ylim(0,1)\n",
    "plt.show()"
   ]
  },
  {
   "cell_type": "code",
   "execution_count": 58,
   "metadata": {},
   "outputs": [
    {
     "data": {
      "text/html": [
       "<div>\n",
       "<style scoped>\n",
       "    .dataframe tbody tr th:only-of-type {\n",
       "        vertical-align: middle;\n",
       "    }\n",
       "\n",
       "    .dataframe tbody tr th {\n",
       "        vertical-align: top;\n",
       "    }\n",
       "\n",
       "    .dataframe thead th {\n",
       "        text-align: right;\n",
       "    }\n",
       "</style>\n",
       "<table border=\"1\" class=\"dataframe\">\n",
       "  <thead>\n",
       "    <tr style=\"text-align: right;\">\n",
       "      <th></th>\n",
       "      <th>date</th>\n",
       "      <th>event_id</th>\n",
       "      <th>ref_type</th>\n",
       "      <th>application_id</th>\n",
       "      <th>attributed</th>\n",
       "      <th>device_os_version</th>\n",
       "      <th>device_brand</th>\n",
       "      <th>device_model</th>\n",
       "      <th>device_city</th>\n",
       "      <th>session_user_agent</th>\n",
       "      <th>user_agent</th>\n",
       "      <th>carrier</th>\n",
       "      <th>kind</th>\n",
       "      <th>device_os</th>\n",
       "      <th>wifi</th>\n",
       "      <th>connection_type</th>\n",
       "      <th>ip_address</th>\n",
       "      <th>device_language</th>\n",
       "    </tr>\n",
       "  </thead>\n",
       "  <tbody>\n",
       "    <tr>\n",
       "      <th>0</th>\n",
       "      <td>2019-03-05 00:09:36.966</td>\n",
       "      <td>0</td>\n",
       "      <td>1891515180541284343</td>\n",
       "      <td>38</td>\n",
       "      <td>False</td>\n",
       "      <td>5.908703034097298e+17</td>\n",
       "      <td>NaN</td>\n",
       "      <td>5.990116681709081e+18</td>\n",
       "      <td>3.2582150459884605e+18</td>\n",
       "      <td>7.164321382499455e+18</td>\n",
       "      <td>NaN</td>\n",
       "      <td>2.2481569642543155e+17</td>\n",
       "      <td>5.516623012570946e+18</td>\n",
       "      <td>7.531669329342818e+18</td>\n",
       "      <td>NaN</td>\n",
       "      <td>Cable/DSL</td>\n",
       "      <td>7858558567428669000</td>\n",
       "      <td>4.077062198952597e+17</td>\n",
       "    </tr>\n",
       "    <tr>\n",
       "      <th>1</th>\n",
       "      <td>2019-03-05 00:09:38.920</td>\n",
       "      <td>1</td>\n",
       "      <td>1891515180541284343</td>\n",
       "      <td>38</td>\n",
       "      <td>False</td>\n",
       "      <td>5.908703034097298e+17</td>\n",
       "      <td>NaN</td>\n",
       "      <td>5.990116681709081e+18</td>\n",
       "      <td>3.2582150459884605e+18</td>\n",
       "      <td>7.164321382499455e+18</td>\n",
       "      <td>NaN</td>\n",
       "      <td>2.2481569642543155e+17</td>\n",
       "      <td>9.977660181316936e+17</td>\n",
       "      <td>7.531669329342818e+18</td>\n",
       "      <td>NaN</td>\n",
       "      <td>Cable/DSL</td>\n",
       "      <td>7858558567428669000</td>\n",
       "      <td>4.077062198952597e+17</td>\n",
       "    </tr>\n",
       "    <tr>\n",
       "      <th>2</th>\n",
       "      <td>2019-03-05 00:09:26.195</td>\n",
       "      <td>0</td>\n",
       "      <td>1891515180541284343</td>\n",
       "      <td>38</td>\n",
       "      <td>False</td>\n",
       "      <td>5.908703034097298e+17</td>\n",
       "      <td>NaN</td>\n",
       "      <td>5.990116681709081e+18</td>\n",
       "      <td>3.2582150459884605e+18</td>\n",
       "      <td>7.164321382499455e+18</td>\n",
       "      <td>NaN</td>\n",
       "      <td>2.2481569642543155e+17</td>\n",
       "      <td>5.516623012570946e+18</td>\n",
       "      <td>7.531669329342818e+18</td>\n",
       "      <td>NaN</td>\n",
       "      <td>Cable/DSL</td>\n",
       "      <td>7858558567428669000</td>\n",
       "      <td>4.077062198952597e+17</td>\n",
       "    </tr>\n",
       "    <tr>\n",
       "      <th>3</th>\n",
       "      <td>2019-03-05 00:09:31.107</td>\n",
       "      <td>2</td>\n",
       "      <td>1891515180541284343</td>\n",
       "      <td>38</td>\n",
       "      <td>False</td>\n",
       "      <td>5.908703034097298e+17</td>\n",
       "      <td>NaN</td>\n",
       "      <td>5.990116681709081e+18</td>\n",
       "      <td>2.551781375196177e+18</td>\n",
       "      <td>7.164321382499455e+18</td>\n",
       "      <td>NaN</td>\n",
       "      <td>2.2481569642543155e+17</td>\n",
       "      <td>8.561152834701074e+18</td>\n",
       "      <td>7.531669329342818e+18</td>\n",
       "      <td>NaN</td>\n",
       "      <td>Cable/DSL</td>\n",
       "      <td>6324037615828123965</td>\n",
       "      <td>4.077062198952597e+17</td>\n",
       "    </tr>\n",
       "    <tr>\n",
       "      <th>4</th>\n",
       "      <td>2019-03-09 21:00:36.585</td>\n",
       "      <td>3</td>\n",
       "      <td>1891515180541284343</td>\n",
       "      <td>38</td>\n",
       "      <td>False</td>\n",
       "      <td>7.391843585977942e+18</td>\n",
       "      <td>NaN</td>\n",
       "      <td>5.960895846746644e+18</td>\n",
       "      <td>6.959330348495504e+18</td>\n",
       "      <td>7.164321382499455e+18</td>\n",
       "      <td>NaN</td>\n",
       "      <td>2.2481569642543155e+17</td>\n",
       "      <td>8.731901657619553e+17</td>\n",
       "      <td>7.531669329342818e+18</td>\n",
       "      <td>NaN</td>\n",
       "      <td>Cable/DSL</td>\n",
       "      <td>2894495631302821483</td>\n",
       "      <td>3.3013777759776993e+18</td>\n",
       "    </tr>\n",
       "  </tbody>\n",
       "</table>\n",
       "</div>"
      ],
      "text/plain": [
       "                      date  event_id             ref_type  application_id  \\\n",
       "0  2019-03-05 00:09:36.966         0  1891515180541284343              38   \n",
       "1  2019-03-05 00:09:38.920         1  1891515180541284343              38   \n",
       "2  2019-03-05 00:09:26.195         0  1891515180541284343              38   \n",
       "3  2019-03-05 00:09:31.107         2  1891515180541284343              38   \n",
       "4  2019-03-09 21:00:36.585         3  1891515180541284343              38   \n",
       "\n",
       "   attributed      device_os_version device_brand           device_model  \\\n",
       "0       False  5.908703034097298e+17          NaN  5.990116681709081e+18   \n",
       "1       False  5.908703034097298e+17          NaN  5.990116681709081e+18   \n",
       "2       False  5.908703034097298e+17          NaN  5.990116681709081e+18   \n",
       "3       False  5.908703034097298e+17          NaN  5.990116681709081e+18   \n",
       "4       False  7.391843585977942e+18          NaN  5.960895846746644e+18   \n",
       "\n",
       "              device_city     session_user_agent user_agent  \\\n",
       "0  3.2582150459884605e+18  7.164321382499455e+18        NaN   \n",
       "1  3.2582150459884605e+18  7.164321382499455e+18        NaN   \n",
       "2  3.2582150459884605e+18  7.164321382499455e+18        NaN   \n",
       "3   2.551781375196177e+18  7.164321382499455e+18        NaN   \n",
       "4   6.959330348495504e+18  7.164321382499455e+18        NaN   \n",
       "\n",
       "                  carrier                   kind              device_os wifi  \\\n",
       "0  2.2481569642543155e+17  5.516623012570946e+18  7.531669329342818e+18  NaN   \n",
       "1  2.2481569642543155e+17  9.977660181316936e+17  7.531669329342818e+18  NaN   \n",
       "2  2.2481569642543155e+17  5.516623012570946e+18  7.531669329342818e+18  NaN   \n",
       "3  2.2481569642543155e+17  8.561152834701074e+18  7.531669329342818e+18  NaN   \n",
       "4  2.2481569642543155e+17  8.731901657619553e+17  7.531669329342818e+18  NaN   \n",
       "\n",
       "  connection_type           ip_address         device_language  \n",
       "0       Cable/DSL  7858558567428669000   4.077062198952597e+17  \n",
       "1       Cable/DSL  7858558567428669000   4.077062198952597e+17  \n",
       "2       Cable/DSL  7858558567428669000   4.077062198952597e+17  \n",
       "3       Cable/DSL  6324037615828123965   4.077062198952597e+17  \n",
       "4       Cable/DSL  2894495631302821483  3.3013777759776993e+18  "
      ]
     },
     "execution_count": 58,
     "metadata": {},
     "output_type": "execute_result"
    }
   ],
   "source": [
    "events.head()"
   ]
  },
  {
   "cell_type": "code",
   "execution_count": 59,
   "metadata": {},
   "outputs": [
    {
     "data": {
      "image/png": "[encoded data removed]",
      "text/plain": [
       "<Figure size 864x576 with 1 Axes>"
      ]
     },
     "metadata": {},
     "output_type": "display_data"
    }
   ],
   "source": [
    "events['attributed'].value_counts().plot(kind = 'pie', figsize = (12,8), autopct = '%1.1f%%', startangle = 90, title = 'Porcentaje de eventos atribuídos a Jampp')\n",
    "plt.show()"
   ]
  },
  {
   "cell_type": "code",
   "execution_count": 60,
   "metadata": {},
   "outputs": [
    {
     "data": {
      "image/png": "[encoded data removed]",
      "text/plain": [
       "<Figure size 864x576 with 1 Axes>"
      ]
     },
     "metadata": {},
     "output_type": "display_data"
    }
   ],
   "source": [
    "events['wifi'].value_counts().plot(kind = 'pie', figsize = (12,8), autopct = '%1.1f%%', startangle = 90, title = 'Porcentaje de eventos ocurridos con wifi')\n",
    "plt.show()"
   ]
  },
  {
   "cell_type": "code",
   "execution_count": 61,
   "metadata": {},
   "outputs": [
    {
     "data": {
      "image/png": "[encoded data removed]",
      "text/plain": [
       "<Figure size 864x576 with 1 Axes>"
      ]
     },
     "metadata": {},
     "output_type": "display_data"
    }
   ],
   "source": [
    "conexiones = events[events['connection_type'].notnull()]\n",
    "conexiones['connection_type'].value_counts().plot(kind = 'pie', figsize = (12,8), autopct = '%1.4f%%', startangle = 90)\n",
    "plt.show()"
   ]
  },
  {
   "cell_type": "code",
   "execution_count": 3,
   "metadata": {},
   "outputs": [
    {
     "ename": "NameError",
     "evalue": "name 'top10apps' is not defined",
     "output_type": "error",
     "traceback": [
      "\u001b[0;31m---------------------------------------------------------------------------\u001b[0m",
      "\u001b[0;31mNameError\u001b[0m                                 Traceback (most recent call last)",
      "\u001b[0;32m<ipython-input-3-07c5a1457da0>\u001b[0m in \u001b[0;36m<module>\u001b[0;34m\u001b[0m\n\u001b[0;32m----> 1\u001b[0;31m \u001b[0mos\u001b[0m \u001b[0;34m=\u001b[0m \u001b[0mtop10apps\u001b[0m\u001b[0;34m[\u001b[0m\u001b[0;34m[\u001b[0m\u001b[0;34m'application_id'\u001b[0m\u001b[0;34m,\u001b[0m \u001b[0;34m'ref_type'\u001b[0m\u001b[0;34m]\u001b[0m\u001b[0;34m]\u001b[0m\u001b[0;34m.\u001b[0m\u001b[0mgroupby\u001b[0m\u001b[0;34m(\u001b[0m\u001b[0;34m'application_id'\u001b[0m\u001b[0;34m)\u001b[0m\u001b[0;34m.\u001b[0m\u001b[0magg\u001b[0m\u001b[0;34m(\u001b[0m\u001b[0;34m{\u001b[0m\u001b[0;34m'ref_type'\u001b[0m \u001b[0;34m:\u001b[0m \u001b[0;34m'value_counts'\u001b[0m\u001b[0;34m}\u001b[0m\u001b[0;34m)\u001b[0m\u001b[0;34m\u001b[0m\u001b[0;34m\u001b[0m\u001b[0m\n\u001b[0m\u001b[1;32m      2\u001b[0m \u001b[0mos\u001b[0m\u001b[0;34m[\u001b[0m\u001b[0;34m'ref_type'\u001b[0m\u001b[0;34m]\u001b[0m\u001b[0;34m.\u001b[0m\u001b[0munstack\u001b[0m\u001b[0;34m(\u001b[0m\u001b[0;34m)\u001b[0m\u001b[0;34m.\u001b[0m\u001b[0mplot\u001b[0m\u001b[0;34m(\u001b[0m\u001b[0mkind\u001b[0m \u001b[0;34m=\u001b[0m \u001b[0;34m'bar'\u001b[0m\u001b[0;34m,\u001b[0m \u001b[0mstacked\u001b[0m \u001b[0;34m=\u001b[0m \u001b[0;32mTrue\u001b[0m\u001b[0;34m,\u001b[0m \u001b[0mfigsize\u001b[0m \u001b[0;34m=\u001b[0m \u001b[0;34m(\u001b[0m\u001b[0;36m20\u001b[0m\u001b[0;34m,\u001b[0m\u001b[0;36m9\u001b[0m\u001b[0;34m)\u001b[0m\u001b[0;34m,\u001b[0m \u001b[0mcolormap\u001b[0m \u001b[0;34m=\u001b[0m \u001b[0;34m'Paired'\u001b[0m\u001b[0;34m)\u001b[0m\u001b[0;34m\u001b[0m\u001b[0;34m\u001b[0m\u001b[0m\n\u001b[1;32m      3\u001b[0m \u001b[0mplt\u001b[0m\u001b[0;34m.\u001b[0m\u001b[0mylabel\u001b[0m\u001b[0;34m(\u001b[0m\u001b[0;34m'Cantidad de eventos'\u001b[0m\u001b[0;34m)\u001b[0m\u001b[0;34m\u001b[0m\u001b[0;34m\u001b[0m\u001b[0m\n\u001b[1;32m      4\u001b[0m \u001b[0mplt\u001b[0m\u001b[0;34m.\u001b[0m\u001b[0mshow\u001b[0m\u001b[0;34m(\u001b[0m\u001b[0;34m)\u001b[0m\u001b[0;34m\u001b[0m\u001b[0;34m\u001b[0m\u001b[0m\n",
      "\u001b[0;31mNameError\u001b[0m: name 'top10apps' is not defined"
     ]
    }
   ],
   "source": [
    "os = top10apps[['application_id', 'ref_type']].groupby('application_id').agg({'ref_type' : 'value_counts'})\n",
    "os['ref_type'].unstack().plot(kind = 'bar', stacked = True, figsize = (20,9), colormap = 'Paired')\n",
    "plt.ylabel('Cantidad de eventos')\n",
    "plt.show()"
   ]
  },
  {
   "cell_type": "code",
   "execution_count": 63,
   "metadata": {},
   "outputs": [
    {
     "data": {
      "text/plain": [
       "date                  2494423\n",
       "event_id              2494423\n",
       "ref_type              2494423\n",
       "application_id        2494423\n",
       "attributed            2494423\n",
       "device_os_version     1022066\n",
       "device_brand          1164963\n",
       "device_model          2406456\n",
       "device_city            614698\n",
       "session_user_agent    2482637\n",
       "user_agent            1391527\n",
       "carrier                616434\n",
       "kind                  2489324\n",
       "device_os              657667\n",
       "wifi                  1378872\n",
       "connection_type        612463\n",
       "ip_address            2494423\n",
       "device_language       2406604\n",
       "dtype: int64"
      ]
     },
     "execution_count": 63,
     "metadata": {},
     "output_type": "execute_result"
    }
   ],
   "source": [
    "events.count()"
   ]
  },
  {
   "cell_type": "code",
   "execution_count": 64,
   "metadata": {},
   "outputs": [
    {
     "name": "stderr",
     "output_type": "stream",
     "text": [
      "/usr/local/lib/python3.6/dist-packages/pandas/core/indexing.py:543: SettingWithCopyWarning: \n",
      "A value is trying to be set on a copy of a slice from a DataFrame.\n",
      "Try using .loc[row_indexer,col_indexer] = value instead\n",
      "\n",
      "See the caveats in the documentation: http://pandas.pydata.org/pandas-docs/stable/indexing.html#indexing-view-versus-copy\n",
      "  self.obj[item] = s\n"
     ]
    },
    {
     "data": {
      "text/plain": [
       "3.819516403548394e+18    325696\n",
       "Name: session_user_agent, dtype: int64"
      ]
     },
     "execution_count": 64,
     "metadata": {},
     "output_type": "execute_result"
    }
   ],
   "source": [
    "counts = top10apps['session_user_agent'].value_counts()\n",
    "indexes = counts[counts<10000].index\n",
    "mask_dict = dict.fromkeys(indexes, 'other')\n",
    "top10apps.loc[:,'session_user_agent'] = top10apps['session_user_agent'].replace(mask_dict)\n",
    "top10apps[top10apps['application_id'] == 66]['session_user_agent'].value_counts()"
   ]
  },
  {
   "cell_type": "code",
   "execution_count": 65,
   "metadata": {},
   "outputs": [
    {
     "data": {
      "image/png": "[encoded data removed]",
      "text/plain": [
       "<Figure size 1440x648 with 1 Axes>"
      ]
     },
     "metadata": {
      "needs_background": "light"
     },
     "output_type": "display_data"
    }
   ],
   "source": [
    "sua = top10apps[['application_id', 'session_user_agent']].groupby('application_id').agg({'session_user_agent' : 'value_counts'})\n",
    "sua['session_user_agent'].unstack().plot(kind = 'bar', stacked = True, figsize = (20,9), colormap = 'Paired')\n",
    "plt.show()"
   ]
  },
  {
   "cell_type": "code",
   "execution_count": 66,
   "metadata": {},
   "outputs": [
    {
     "data": {
      "image/png": "[encoded data removed]",
      "text/plain": [
       "<Figure size 1152x576 with 1 Axes>"
      ]
     },
     "metadata": {
      "needs_background": "light"
     },
     "output_type": "display_data"
    }
   ],
   "source": [
    "us = pd.DataFrame(top10apps.groupby(['application_id', 'session_user_agent']).size())\n",
    "us.columns = ['cant']\n",
    "us.reset_index(inplace = True)\n",
    "piv = pd.pivot_table(us, values = 'cant', columns = 'session_user_agent', index = 'application_id')\n",
    "piv = piv.divide(piv.sum(axis = 1), axis = 0)\n",
    "piv.columns = ['1.1609515031332844e+18', '3.819516403548394e+18', '3.8316191210585426e+18', '2.394269162455642e+18', '7.164321382499455e+18', 'other']\n",
    "f = plt.figure()\n",
    "plt.title('Session user agents predominantes en las top 10 apps que generan eventos',size=30)\n",
    "ax = piv.plot(kind='bar', stacked=True,figsize=(16,8),ax=f.gca(),colormap='jet')\n",
    "handles, labels = ax.get_legend_handles_labels()\n",
    "plt.legend(handles[::-1], labels[::-1],loc='center left', bbox_to_anchor=(1.0, 0.5))\n",
    "ax.set_ylabel('Porcentaje (%)', size = 15);\n",
    "ax.set_xlabel('Aplicación', size = 15);\n",
    "ax.set_ylim(0,1)\n",
    "plt.show()"
   ]
  },
  {
   "cell_type": "markdown",
   "metadata": {},
   "source": [
    "Ahora terminé de transformar en categorías los valores más repetidos, con esto liberé un poco de memoria para trabajar más rápido.\n",
    "\n",
    "# Empiezo a hacer preguntas"
   ]
  },
  {
   "cell_type": "markdown",
   "metadata": {},
   "source": [
    "## Qué eventos son más comunes?"
   ]
  },
  {
   "cell_type": "code",
   "execution_count": 67,
   "metadata": {},
   "outputs": [
    {
     "data": {
      "text/plain": [
       "date                    object\n",
       "event_id                 int64\n",
       "ref_type              category\n",
       "application_id          uint16\n",
       "attributed                bool\n",
       "device_os_version     category\n",
       "device_brand          category\n",
       "device_model          category\n",
       "device_city           category\n",
       "session_user_agent    category\n",
       "user_agent            category\n",
       "carrier               category\n",
       "kind                  category\n",
       "device_os             category\n",
       "wifi                  category\n",
       "connection_type       category\n",
       "ip_address               int64\n",
       "device_language         object\n",
       "dtype: object"
      ]
     },
     "execution_count": 67,
     "metadata": {},
     "output_type": "execute_result"
    }
   ],
   "source": [
    "events.dtypes"
   ]
  },
  {
   "cell_type": "code",
   "execution_count": null,
   "metadata": {},
   "outputs": [],
   "source": []
  },
  {
   "cell_type": "code",
   "execution_count": null,
   "metadata": {},
   "outputs": [],
   "source": []
  },
  {
   "cell_type": "code",
   "execution_count": 68,
   "metadata": {},
   "outputs": [
    {
     "data": {
      "image/png": "[encoded data removed]",
      "text/plain": [
       "<Figure size 864x576 with 1 Axes>"
      ]
     },
     "metadata": {
      "needs_background": "light"
     },
     "output_type": "display_data"
    }
   ],
   "source": [
    "code = events['kind'].value_counts().nlargest(10).index\n",
    "top10events = events[events['kind'].isin(code)]\n",
    "top10events['kind'].value_counts().nlargest(10).plot(kind = 'barh', figsize = (12, 8), title = 'Eventos más comunes')\n",
    "plt.show()"
   ]
  },
  {
   "cell_type": "code",
   "execution_count": 69,
   "metadata": {},
   "outputs": [
    {
     "data": {
      "text/plain": [
       "1736263"
      ]
     },
     "execution_count": 69,
     "metadata": {},
     "output_type": "execute_result"
    }
   ],
   "source": [
    "top10events[['kind', 'application_id']].groupby('kind').agg({'application_id' : 'value_counts'})"
   ]
  },
  {
   "cell_type": "code",
   "execution_count": 70,
   "metadata": {},
   "outputs": [
    {
     "data": {
      "text/plain": [
       "1736263"
      ]
     },
     "execution_count": 70,
     "metadata": {},
     "output_type": "execute_result"
    }
   ],
   "source": [
    "top10events['application_id']"
   ]
  },
  {
   "cell_type": "markdown",
   "metadata": {},
   "source": [
    "## Hay una relación entre los eventos y el día de la semana?"
   ]
  },
  {
   "cell_type": "code",
   "execution_count": 5,
   "metadata": {},
   "outputs": [],
   "source": [
    "events['date'] = pd.to_datetime(events['date'])"
   ]
  },
  {
   "cell_type": "code",
   "execution_count": 6,
   "metadata": {},
   "outputs": [],
   "source": [
    "events['dayofweek'] = events['date'].dt.dayofweek"
   ]
  },
  {
   "cell_type": "code",
   "execution_count": 8,
   "metadata": {},
   "outputs": [
    {
     "data": {
      "text/plain": [
       "dayofweek\n",
       "0    268884\n",
       "1    537214\n",
       "2    569772\n",
       "3    253706\n",
       "4    285535\n",
       "5    286221\n",
       "6    293091\n",
       "Name: event_id, dtype: int64"
      ]
     },
     "execution_count": 8,
     "metadata": {},
     "output_type": "execute_result"
    }
   ],
   "source": [
    "events.groupby('dayofweek')['event_id'].count()"
   ]
  },
  {
   "cell_type": "code",
   "execution_count": 72,
   "metadata": {},
   "outputs": [
    {
     "data": {
      "image/png": "[encoded data removed]",
      "text/plain": [
       "<Figure size 864x576 with 1 Axes>"
      ]
     },
     "metadata": {
      "needs_background": "light"
     },
     "output_type": "display_data"
    }
   ],
   "source": [
    "events['date'].dt.dayofweek.value_counts().sort_index().plot(kind = 'bar', figsize = (12,8))\n",
    "plt.title(\"Eventos por dia de la semana\", fontsize=18)\n",
    "plt.xlabel(\"Dia de la semana\", fontsize=12)\n",
    "plt.ylabel(\"Cantidad de Eventos\", fontsize=12)\n",
    "plt.show()"
   ]
  },
  {
   "cell_type": "code",
   "execution_count": 15,
   "metadata": {},
   "outputs": [
    {
     "data": {
      "image/png": "[encoded data removed]",
      "text/plain": [
       "<matplotlib.figure.Figure at 0x7fb6482a1b70>"
      ]
     },
     "metadata": {
      "needs_background": "light"
     },
     "output_type": "display_data"
    }
   ],
   "source": [
    "#Otra posible representación, que da idea de tiempo\n",
    "events['date'].dt.dayofweek.value_counts().sort_index().plot(marker = 'D', figsize = (12,8))\n",
    "plt.title(\"Eventos por dia de la semana\", fontsize=18)\n",
    "plt.xlabel(\"Dia de la semana\", fontsize=12)\n",
    "plt.ylabel(\"Cantidad de Eventos\", fontsize=12)\n",
    "plt.show()"
   ]
  },
  {
   "cell_type": "markdown",
   "metadata": {},
   "source": [
    "## Hay una relación entre los eventos y el dia en que estamos?"
   ]
  },
  {
   "cell_type": "code",
   "execution_count": 16,
   "metadata": {},
   "outputs": [
    {
     "data": {
      "image/png": "[encoded data removed]",
      "text/plain": [
       "<matplotlib.figure.Figure at 0x7fb6494a0a90>"
      ]
     },
     "metadata": {
      "needs_background": "light"
     },
     "output_type": "display_data"
    }
   ],
   "source": [
    "events['date'].dt.day.value_counts().sort_index().plot(marker = 'o', figsize = (12,8))\n",
    "plt.title('Cantidad de events por día', size = 20)\n",
    "plt.xlabel('Día de Marzo', size = 15)\n",
    "plt.ylabel('Cantidad', size = 15)\n",
    "plt.show()"
   ]
  },
  {
   "cell_type": "code",
   "execution_count": 10,
   "metadata": {},
   "outputs": [
    {
     "data": {
      "image/png": "[encoded data removed]",
      "text/plain": [
       "<matplotlib.figure.Figure at 0x7fb658c78c88>"
      ]
     },
     "metadata": {
      "needs_background": "light"
     },
     "output_type": "display_data"
    }
   ],
   "source": [
    "events['date'].dt.hour.value_counts().sort_index().plot(figsize = (12,8))\n",
    "plt.title('Cantidad de eventos por hora del día')\n",
    "plt.xlabel('Hora del día')\n",
    "plt.ylabel('Cantidad de eventos')\n",
    "plt.show()"
   ]
  },
  {
   "cell_type": "code",
   "execution_count": 11,
   "metadata": {},
   "outputs": [
    {
     "data": {
      "image/png": "[encoded data removed]",
      "text/plain": [
       "<matplotlib.figure.Figure at 0x7fb64a94ff60>"
      ]
     },
     "metadata": {
      "needs_background": "light"
     },
     "output_type": "display_data"
    }
   ],
   "source": [
    "ref_types = events[['date', 'ref_type']].groupby(events['date'].dt.hour).agg({'ref_type' : 'value_counts'})\n",
    "ref_types['ref_type'].unstack().plot(kind = 'area', figsize = (12,8), title = 'Events por hora y ref_type')\n",
    "plt.ylabel('Cantidad de eventos')\n",
    "plt.show()"
   ]
  },
  {
   "cell_type": "markdown",
   "metadata": {},
   "source": [
    "## Hay una relación entre los eventos y el dispositivo que se usa?"
   ]
  },
  {
   "cell_type": "code",
   "execution_count": null,
   "metadata": {},
   "outputs": [],
   "source": []
  },
  {
   "cell_type": "markdown",
   "metadata": {},
   "source": [
    "## En qué días y horarios se da la mayor cantidad de eventos?"
   ]
  },
  {
   "cell_type": "code",
   "execution_count": 80,
   "metadata": {},
   "outputs": [
    {
     "data": {
      "image/png": "[encoded data removed]",
      "text/plain": [
       "<Figure size 504x403.2 with 2 Axes>"
      ]
     },
     "metadata": {
      "needs_background": "light"
     },
     "output_type": "display_data"
    }
   ],
   "source": [
    "eventos_dia_hora = events.groupby([\"dayofweek\",events['date'].dt.hour])[\"event_id\",].count()\n",
    "pivot_post = eventos_dia_hora.pivot_table(index=\"date\", columns=\"dayofweek\", values= \"event_id\")\n",
    "pivot_post = pivot_post.sort_index(ascending=False)\n",
    "plt.figure(figsize=(7,5.6))\n",
    "cmap = sns.cm.rocket_r\n",
    "g = sns.heatmap(pivot_post, xticklabels=['Domingo','Lunes','Martes','Miercoles','Jueves','Viernes','Sabado'], cmap=cmap)\n",
    "g.set_title(\"Distribucion de los eventos por horario\", fontsize=18)\n",
    "g.set_xlabel(\"Dia\", fontsize=12)\n",
    "g.set_ylabel(\"Hora\", fontsize=12)\n",
    "plt.show()"
   ]
  },
  {
   "cell_type": "code",
   "execution_count": 83,
   "metadata": {},
   "outputs": [
    {
     "data": {
      "image/png": "[encoded data removed]",
      "text/plain": [
       "<Figure size 504x403.2 with 2 Axes>"
      ]
     },
     "metadata": {
      "needs_background": "light"
     },
     "output_type": "display_data"
    }
   ],
   "source": [
    "events[\"day\"] = events[\"date\"].dt.day\n",
    "eventos_dia_del_mes_hora = events.groupby([\"day\",events['date'].dt.hour])[\"event_id\",].count()\n",
    "pivot_post = eventos_dia_del_mes_hora.pivot_table(index=\"date\", columns=\"day\", values= \"event_id\")\n",
    "pivot_post = pivot_post.sort_index(ascending=False)\n",
    "plt.figure(figsize=(7,5.6))\n",
    "cmap = sns.cm.rocket_r\n",
    "g = sns.heatmap(pivot_post, cmap=cmap)\n",
    "g.set_title(\"Distribucion de los eventos por dia del mes horario\", fontsize=18)\n",
    "g.set_xlabel(\"Fecha\", fontsize=12)\n",
    "g.set_ylabel(\"Hora\", fontsize=12)\n",
    "plt.show()"
   ]
  },
  {
   "cell_type": "markdown",
   "metadata": {},
   "source": [
    "## Hay una relación entre algún tipo de evento y la ciudad?"
   ]
  },
  {
   "cell_type": "code",
   "execution_count": 88,
   "metadata": {},
   "outputs": [],
   "source": [
    "eventos_por_tipo_ciudad = events.groupby([\"device_city\", \"kind\"])['event_id',].count()"
   ]
  },
  {
   "cell_type": "code",
   "execution_count": 89,
   "metadata": {},
   "outputs": [
    {
     "data": {
      "image/png": "[encoded data removed]",
      "text/plain": [
       "<Figure size 1296x648 with 2 Axes>"
      ]
     },
     "metadata": {
      "needs_background": "light"
     },
     "output_type": "display_data"
    }
   ],
   "source": [
    "pivot_post = eventos_por_tipo_ciudad.pivot_table(index=\"device_city\", columns=\"kind\", values=\"event_id\")\n",
    "pivot_post = pivot_post.sort_index(ascending=False)\n",
    "plt.figure(figsize=(18,9))\n",
    "cmap = sns.cm.rocket_r\n",
    "g = sns.heatmap(pivot_post, cmap=cmap)\n",
    "g.set_title(\"Distribucion de los tipos de eventos por ciudad\", fontsize=18)\n",
    "g.set_xlabel(\"Ciudad\", fontsize=12)\n",
    "g.set_ylabel(\"Tipo de Evento\", fontsize=12)\n",
    "plt.show()"
   ]
  },
  {
   "cell_type": "code",
   "execution_count": 92,
   "metadata": {},
   "outputs": [
    {
     "data": {
      "text/plain": [
       "3.8000799488967747e+18    430784\n",
       "8.223209269143922e+18       3236\n",
       "2.551781375196177e+18       3053\n",
       "7.602876036620469e+18       1495\n",
       "3.2582150459884605e+18      1410\n",
       "8.578626579239988e+17       1341\n",
       "5.801433683024338e+18       1306\n",
       "6.276065650874414e+17        811\n",
       "4.4246229588650675e+18       751\n",
       "8.985217056239735e+18        651\n",
       "8.235236537216161e+18        582\n",
       "6.102141091106202e+18        567\n",
       "4.847858242945663e+17        519\n",
       "4.1122184524297533e+18       491\n",
       "2.0489923564619796e+18       460\n",
       "8.318795483645021e+18        460\n",
       "1.16468287562278e+18         412\n",
       "2.715324676035127e+18        401\n",
       "1.3535971026191767e+18       289\n",
       "1.1895429525854325e+17       267\n",
       "6.434016956850084e+17        256\n",
       "1.0840811693621105e+18       245\n",
       "8.127301688691997e+17        244\n",
       "5.261773315746305e+18        223\n",
       "9.148931363827894e+18        183\n",
       "6.959330348495504e+18        182\n",
       "1.2816911001604083e+18       175\n",
       "6.898742650424735e+18        168\n",
       "6.696749494316508e+18        167\n",
       "5.847627926933047e+18        152\n",
       "                           ...  \n",
       "3.8600520718590454e+18         8\n",
       "3.203177508124175e+18          8\n",
       "8.931765307417755e+18          8\n",
       "7.105242662743966e+18          8\n",
       "7.374099005023099e+18          7\n",
       "4.1849839340276915e+18         7\n",
       "8.272509106637754e+17          6\n",
       "9.08334132441406e+18           6\n",
       "6.548166288052978e+18          6\n",
       "5.248323502511348e+18          5\n",
       "7.140552775924964e+18          5\n",
       "5.155678684543087e+18          5\n",
       "8.35945532688294e+18           5\n",
       "1.8824213689347325e+18         5\n",
       "4.3040563714591493e+18         4\n",
       "2.1287132748451715e+17         3\n",
       "3.873904438897024e+18          3\n",
       "4.355427726282191e+16          3\n",
       "6.467578908130139e+18          3\n",
       "6.325867302455204e+18          3\n",
       "2.887475017904211e+18          2\n",
       "7.130700058189437e+18          2\n",
       "4.964313721182149e+18          2\n",
       "3.729434244106928e+18          2\n",
       "5.73911888953971e+18           1\n",
       "6.4745462570399576e+16         1\n",
       "2.8546356628956457e+18         1\n",
       "5.756923724055678e+18          1\n",
       "4.0827355353494446e+18         1\n",
       "6.932935784708413e+18          0\n",
       "Name: device_city, Length: 127, dtype: int64"
      ]
     },
     "execution_count": 92,
     "metadata": {},
     "output_type": "execute_result"
    }
   ],
   "source": [
    "top10events['device_city'].value_counts()"
   ]
  },
  {
   "cell_type": "markdown",
   "metadata": {},
   "source": [
    "## Qué dispositivo se usa en cada la ciudad?"
   ]
  },
  {
   "cell_type": "code",
   "execution_count": 47,
   "metadata": {},
   "outputs": [
    {
     "data": {
      "text/html": [
       "<div>\n",
       "<style scoped>\n",
       "    .dataframe tbody tr th:only-of-type {\n",
       "        vertical-align: middle;\n",
       "    }\n",
       "\n",
       "    .dataframe tbody tr th {\n",
       "        vertical-align: top;\n",
       "    }\n",
       "\n",
       "    .dataframe thead th {\n",
       "        text-align: right;\n",
       "    }\n",
       "</style>\n",
       "<table border=\"1\" class=\"dataframe\">\n",
       "  <thead>\n",
       "    <tr style=\"text-align: right;\">\n",
       "      <th></th>\n",
       "      <th></th>\n",
       "      <th>event_id</th>\n",
       "    </tr>\n",
       "    <tr>\n",
       "      <th>device_city</th>\n",
       "      <th>device_brand</th>\n",
       "      <th></th>\n",
       "    </tr>\n",
       "  </thead>\n",
       "  <tbody>\n",
       "    <tr>\n",
       "      <th rowspan=\"30\" valign=\"top\">1.0840811693621105e+18</th>\n",
       "      <th>1.083368711068078e+18</th>\n",
       "      <td>NaN</td>\n",
       "    </tr>\n",
       "    <tr>\n",
       "      <th>2.208834667126999e+18</th>\n",
       "      <td>NaN</td>\n",
       "    </tr>\n",
       "    <tr>\n",
       "      <th>3.083058605577787e+17</th>\n",
       "      <td>NaN</td>\n",
       "    </tr>\n",
       "    <tr>\n",
       "      <th>3.812620986737351e+18</th>\n",
       "      <td>NaN</td>\n",
       "    </tr>\n",
       "    <tr>\n",
       "      <th>5.1379920467642125e+17</th>\n",
       "      <td>NaN</td>\n",
       "    </tr>\n",
       "    <tr>\n",
       "      <th>5.185901324752864e+18</th>\n",
       "      <td>NaN</td>\n",
       "    </tr>\n",
       "    <tr>\n",
       "      <th>5.588755459133625e+18</th>\n",
       "      <td>NaN</td>\n",
       "    </tr>\n",
       "    <tr>\n",
       "      <th>5.785735136024376e+17</th>\n",
       "      <td>NaN</td>\n",
       "    </tr>\n",
       "    <tr>\n",
       "      <th>7.97262313950176e+18</th>\n",
       "      <td>NaN</td>\n",
       "    </tr>\n",
       "    <tr>\n",
       "      <th>1.280056370771215e+18</th>\n",
       "      <td>NaN</td>\n",
       "    </tr>\n",
       "    <tr>\n",
       "      <th>1.619581446714784e+18</th>\n",
       "      <td>NaN</td>\n",
       "    </tr>\n",
       "    <tr>\n",
       "      <th>1.6679603354061018e+18</th>\n",
       "      <td>NaN</td>\n",
       "    </tr>\n",
       "    <tr>\n",
       "      <th>1.8829174247592527e+18</th>\n",
       "      <td>NaN</td>\n",
       "    </tr>\n",
       "    <tr>\n",
       "      <th>2.262848417324907e+18</th>\n",
       "      <td>NaN</td>\n",
       "    </tr>\n",
       "    <tr>\n",
       "      <th>2.370132235094487e+18</th>\n",
       "      <td>NaN</td>\n",
       "    </tr>\n",
       "    <tr>\n",
       "      <th>2.5232459822329236e+18</th>\n",
       "      <td>NaN</td>\n",
       "    </tr>\n",
       "    <tr>\n",
       "      <th>2.776400652041713e+18</th>\n",
       "      <td>NaN</td>\n",
       "    </tr>\n",
       "    <tr>\n",
       "      <th>2.987569314309514e+18</th>\n",
       "      <td>NaN</td>\n",
       "    </tr>\n",
       "    <tr>\n",
       "      <th>3.093165991971729e+18</th>\n",
       "      <td>NaN</td>\n",
       "    </tr>\n",
       "    <tr>\n",
       "      <th>3.2285160909036396e+18</th>\n",
       "      <td>NaN</td>\n",
       "    </tr>\n",
       "    <tr>\n",
       "      <th>3.742387098176767e+18</th>\n",
       "      <td>NaN</td>\n",
       "    </tr>\n",
       "    <tr>\n",
       "      <th>4.1137519177429806e+18</th>\n",
       "      <td>NaN</td>\n",
       "    </tr>\n",
       "    <tr>\n",
       "      <th>4.371307750970993e+18</th>\n",
       "      <td>NaN</td>\n",
       "    </tr>\n",
       "    <tr>\n",
       "      <th>4.994101372019545e+18</th>\n",
       "      <td>NaN</td>\n",
       "    </tr>\n",
       "    <tr>\n",
       "      <th>5.645691558423168e+18</th>\n",
       "      <td>NaN</td>\n",
       "    </tr>\n",
       "    <tr>\n",
       "      <th>5.937501462472654e+18</th>\n",
       "      <td>NaN</td>\n",
       "    </tr>\n",
       "    <tr>\n",
       "      <th>6.111646853627296e+18</th>\n",
       "      <td>NaN</td>\n",
       "    </tr>\n",
       "    <tr>\n",
       "      <th>6.538561794435555e+18</th>\n",
       "      <td>NaN</td>\n",
       "    </tr>\n",
       "    <tr>\n",
       "      <th>6.751007869822716e+18</th>\n",
       "      <td>NaN</td>\n",
       "    </tr>\n",
       "    <tr>\n",
       "      <th>6.820360148347398e+18</th>\n",
       "      <td>NaN</td>\n",
       "    </tr>\n",
       "    <tr>\n",
       "      <th>...</th>\n",
       "      <th>...</th>\n",
       "      <td>...</td>\n",
       "    </tr>\n",
       "    <tr>\n",
       "      <th rowspan=\"30\" valign=\"top\">2.887475017904211e+18</th>\n",
       "      <th>4.2322932292689935e+18</th>\n",
       "      <td>NaN</td>\n",
       "    </tr>\n",
       "    <tr>\n",
       "      <th>4.268211727430926e+18</th>\n",
       "      <td>NaN</td>\n",
       "    </tr>\n",
       "    <tr>\n",
       "      <th>6.521400989943291e+18</th>\n",
       "      <td>NaN</td>\n",
       "    </tr>\n",
       "    <tr>\n",
       "      <th>7.597382259149133e+18</th>\n",
       "      <td>NaN</td>\n",
       "    </tr>\n",
       "    <tr>\n",
       "      <th>2.1695037301560579e+18</th>\n",
       "      <td>NaN</td>\n",
       "    </tr>\n",
       "    <tr>\n",
       "      <th>4.672409028324332e+17</th>\n",
       "      <td>NaN</td>\n",
       "    </tr>\n",
       "    <tr>\n",
       "      <th>5.78431634405713e+18</th>\n",
       "      <td>NaN</td>\n",
       "    </tr>\n",
       "    <tr>\n",
       "      <th>3.2815484456076293e+18</th>\n",
       "      <td>NaN</td>\n",
       "    </tr>\n",
       "    <tr>\n",
       "      <th>3.624089450035605e+18</th>\n",
       "      <td>NaN</td>\n",
       "    </tr>\n",
       "    <tr>\n",
       "      <th>4.1890225218996413e+18</th>\n",
       "      <td>NaN</td>\n",
       "    </tr>\n",
       "    <tr>\n",
       "      <th>8.081274400524402e+18</th>\n",
       "      <td>NaN</td>\n",
       "    </tr>\n",
       "    <tr>\n",
       "      <th>3.265491610599788e+18</th>\n",
       "      <td>NaN</td>\n",
       "    </tr>\n",
       "    <tr>\n",
       "      <th>2.606960612845661e+18</th>\n",
       "      <td>NaN</td>\n",
       "    </tr>\n",
       "    <tr>\n",
       "      <th>2.7422482188038554e+18</th>\n",
       "      <td>NaN</td>\n",
       "    </tr>\n",
       "    <tr>\n",
       "      <th>9.032030997022273e+18</th>\n",
       "      <td>NaN</td>\n",
       "    </tr>\n",
       "    <tr>\n",
       "      <th>6.709370344976139e+18</th>\n",
       "      <td>NaN</td>\n",
       "    </tr>\n",
       "    <tr>\n",
       "      <th>4.5700574344819133e+18</th>\n",
       "      <td>NaN</td>\n",
       "    </tr>\n",
       "    <tr>\n",
       "      <th>2.4434325627689795e+18</th>\n",
       "      <td>NaN</td>\n",
       "    </tr>\n",
       "    <tr>\n",
       "      <th>2.8059788291423923e+18</th>\n",
       "      <td>NaN</td>\n",
       "    </tr>\n",
       "    <tr>\n",
       "      <th>7.071537552116215e+18</th>\n",
       "      <td>NaN</td>\n",
       "    </tr>\n",
       "    <tr>\n",
       "      <th>3.833810677186203e+17</th>\n",
       "      <td>NaN</td>\n",
       "    </tr>\n",
       "    <tr>\n",
       "      <th>7.420430704605125e+18</th>\n",
       "      <td>NaN</td>\n",
       "    </tr>\n",
       "    <tr>\n",
       "      <th>6.127621457088335e+18</th>\n",
       "      <td>NaN</td>\n",
       "    </tr>\n",
       "    <tr>\n",
       "      <th>3.3705219610064794e+18</th>\n",
       "      <td>NaN</td>\n",
       "    </tr>\n",
       "    <tr>\n",
       "      <th>7.013711285598757e+18</th>\n",
       "      <td>NaN</td>\n",
       "    </tr>\n",
       "    <tr>\n",
       "      <th>8.412517547311859e+18</th>\n",
       "      <td>NaN</td>\n",
       "    </tr>\n",
       "    <tr>\n",
       "      <th>1.3776256670286917e+18</th>\n",
       "      <td>NaN</td>\n",
       "    </tr>\n",
       "    <tr>\n",
       "      <th>4.580007230075633e+18</th>\n",
       "      <td>NaN</td>\n",
       "    </tr>\n",
       "    <tr>\n",
       "      <th>3.4242797791182403e+18</th>\n",
       "      <td>NaN</td>\n",
       "    </tr>\n",
       "    <tr>\n",
       "      <th>8.645767265847268e+18</th>\n",
       "      <td>NaN</td>\n",
       "    </tr>\n",
       "  </tbody>\n",
       "</table>\n",
       "<p>31750 rows × 1 columns</p>\n",
       "</div>"
      ],
      "text/plain": [
       "                                               event_id\n",
       "device_city            device_brand                    \n",
       "1.0840811693621105e+18 1.083368711068078e+18        NaN\n",
       "                       2.208834667126999e+18        NaN\n",
       "                       3.083058605577787e+17        NaN\n",
       "                       3.812620986737351e+18        NaN\n",
       "                       5.1379920467642125e+17       NaN\n",
       "                       5.185901324752864e+18        NaN\n",
       "                       5.588755459133625e+18        NaN\n",
       "                       5.785735136024376e+17        NaN\n",
       "                       7.97262313950176e+18         NaN\n",
       "                       1.280056370771215e+18        NaN\n",
       "                       1.619581446714784e+18        NaN\n",
       "                       1.6679603354061018e+18       NaN\n",
       "                       1.8829174247592527e+18       NaN\n",
       "                       2.262848417324907e+18        NaN\n",
       "                       2.370132235094487e+18        NaN\n",
       "                       2.5232459822329236e+18       NaN\n",
       "                       2.776400652041713e+18        NaN\n",
       "                       2.987569314309514e+18        NaN\n",
       "                       3.093165991971729e+18        NaN\n",
       "                       3.2285160909036396e+18       NaN\n",
       "                       3.742387098176767e+18        NaN\n",
       "                       4.1137519177429806e+18       NaN\n",
       "                       4.371307750970993e+18        NaN\n",
       "                       4.994101372019545e+18        NaN\n",
       "                       5.645691558423168e+18        NaN\n",
       "                       5.937501462472654e+18        NaN\n",
       "                       6.111646853627296e+18        NaN\n",
       "                       6.538561794435555e+18        NaN\n",
       "                       6.751007869822716e+18        NaN\n",
       "                       6.820360148347398e+18        NaN\n",
       "...                                                 ...\n",
       "2.887475017904211e+18  4.2322932292689935e+18       NaN\n",
       "                       4.268211727430926e+18        NaN\n",
       "                       6.521400989943291e+18        NaN\n",
       "                       7.597382259149133e+18        NaN\n",
       "                       2.1695037301560579e+18       NaN\n",
       "                       4.672409028324332e+17        NaN\n",
       "                       5.78431634405713e+18         NaN\n",
       "                       3.2815484456076293e+18       NaN\n",
       "                       3.624089450035605e+18        NaN\n",
       "                       4.1890225218996413e+18       NaN\n",
       "                       8.081274400524402e+18        NaN\n",
       "                       3.265491610599788e+18        NaN\n",
       "                       2.606960612845661e+18        NaN\n",
       "                       2.7422482188038554e+18       NaN\n",
       "                       9.032030997022273e+18        NaN\n",
       "                       6.709370344976139e+18        NaN\n",
       "                       4.5700574344819133e+18       NaN\n",
       "                       2.4434325627689795e+18       NaN\n",
       "                       2.8059788291423923e+18       NaN\n",
       "                       7.071537552116215e+18        NaN\n",
       "                       3.833810677186203e+17        NaN\n",
       "                       7.420430704605125e+18        NaN\n",
       "                       6.127621457088335e+18        NaN\n",
       "                       3.3705219610064794e+18       NaN\n",
       "                       7.013711285598757e+18        NaN\n",
       "                       8.412517547311859e+18        NaN\n",
       "                       1.3776256670286917e+18       NaN\n",
       "                       4.580007230075633e+18        NaN\n",
       "                       3.4242797791182403e+18       NaN\n",
       "                       8.645767265847268e+18        NaN\n",
       "\n",
       "[31750 rows x 1 columns]"
      ]
     },
     "execution_count": 47,
     "metadata": {},
     "output_type": "execute_result"
    }
   ],
   "source": [
    "dispositivo_por_ciudad = events.groupby([\"device_city\", \"device_brand\"])['event_id',].count()\n",
    "dispositivo_por_ciudad"
   ]
  },
  {
   "cell_type": "code",
   "execution_count": 34,
   "metadata": {},
   "outputs": [
    {
     "data": {
      "text/plain": [
       "127"
      ]
     },
     "execution_count": 34,
     "metadata": {},
     "output_type": "execute_result"
    }
   ],
   "source": [
    "dispositivo_por_ciudad.reset_index()['device_city'].value_counts().count()"
   ]
  },
  {
   "cell_type": "code",
   "execution_count": null,
   "metadata": {},
   "outputs": [],
   "source": []
  },
  {
   "cell_type": "code",
   "execution_count": 94,
   "metadata": {},
   "outputs": [
    {
     "data": {
      "text/html": [
       "<div>\n",
       "<style scoped>\n",
       "    .dataframe tbody tr th:only-of-type {\n",
       "        vertical-align: middle;\n",
       "    }\n",
       "\n",
       "    .dataframe tbody tr th {\n",
       "        vertical-align: top;\n",
       "    }\n",
       "\n",
       "    .dataframe thead th {\n",
       "        text-align: right;\n",
       "    }\n",
       "</style>\n",
       "<table border=\"1\" class=\"dataframe\">\n",
       "  <thead>\n",
       "    <tr style=\"text-align: right;\">\n",
       "      <th></th>\n",
       "      <th>date</th>\n",
       "      <th>event_id</th>\n",
       "      <th>ref_type</th>\n",
       "      <th>application_id</th>\n",
       "      <th>attributed</th>\n",
       "      <th>device_os_version</th>\n",
       "      <th>device_brand</th>\n",
       "      <th>device_model</th>\n",
       "      <th>device_city</th>\n",
       "      <th>session_user_agent</th>\n",
       "      <th>user_agent</th>\n",
       "      <th>carrier</th>\n",
       "      <th>kind</th>\n",
       "      <th>device_os</th>\n",
       "      <th>wifi</th>\n",
       "      <th>connection_type</th>\n",
       "      <th>ip_address</th>\n",
       "      <th>device_language</th>\n",
       "      <th>dayofweek</th>\n",
       "      <th>day</th>\n",
       "    </tr>\n",
       "  </thead>\n",
       "  <tbody>\n",
       "    <tr>\n",
       "      <th>0</th>\n",
       "      <td>2019-03-05 00:09:36.966</td>\n",
       "      <td>0</td>\n",
       "      <td>1891515180541284343</td>\n",
       "      <td>38</td>\n",
       "      <td>False</td>\n",
       "      <td>5.908703034097298e+17</td>\n",
       "      <td>NaN</td>\n",
       "      <td>5.990116681709081e+18</td>\n",
       "      <td>3.2582150459884605e+18</td>\n",
       "      <td>7.164321382499455e+18</td>\n",
       "      <td>NaN</td>\n",
       "      <td>2.2481569642543155e+17</td>\n",
       "      <td>5.516623012570946e+18</td>\n",
       "      <td>7.531669329342818e+18</td>\n",
       "      <td>NaN</td>\n",
       "      <td>Cable/DSL</td>\n",
       "      <td>7858558567428669000</td>\n",
       "      <td>4.077062198952597e+17</td>\n",
       "      <td>1</td>\n",
       "      <td>5</td>\n",
       "    </tr>\n",
       "    <tr>\n",
       "      <th>1</th>\n",
       "      <td>2019-03-05 00:09:38.920</td>\n",
       "      <td>1</td>\n",
       "      <td>1891515180541284343</td>\n",
       "      <td>38</td>\n",
       "      <td>False</td>\n",
       "      <td>5.908703034097298e+17</td>\n",
       "      <td>NaN</td>\n",
       "      <td>5.990116681709081e+18</td>\n",
       "      <td>3.2582150459884605e+18</td>\n",
       "      <td>7.164321382499455e+18</td>\n",
       "      <td>NaN</td>\n",
       "      <td>2.2481569642543155e+17</td>\n",
       "      <td>9.977660181316936e+17</td>\n",
       "      <td>7.531669329342818e+18</td>\n",
       "      <td>NaN</td>\n",
       "      <td>Cable/DSL</td>\n",
       "      <td>7858558567428669000</td>\n",
       "      <td>4.077062198952597e+17</td>\n",
       "      <td>1</td>\n",
       "      <td>5</td>\n",
       "    </tr>\n",
       "    <tr>\n",
       "      <th>2</th>\n",
       "      <td>2019-03-05 00:09:26.195</td>\n",
       "      <td>0</td>\n",
       "      <td>1891515180541284343</td>\n",
       "      <td>38</td>\n",
       "      <td>False</td>\n",
       "      <td>5.908703034097298e+17</td>\n",
       "      <td>NaN</td>\n",
       "      <td>5.990116681709081e+18</td>\n",
       "      <td>3.2582150459884605e+18</td>\n",
       "      <td>7.164321382499455e+18</td>\n",
       "      <td>NaN</td>\n",
       "      <td>2.2481569642543155e+17</td>\n",
       "      <td>5.516623012570946e+18</td>\n",
       "      <td>7.531669329342818e+18</td>\n",
       "      <td>NaN</td>\n",
       "      <td>Cable/DSL</td>\n",
       "      <td>7858558567428669000</td>\n",
       "      <td>4.077062198952597e+17</td>\n",
       "      <td>1</td>\n",
       "      <td>5</td>\n",
       "    </tr>\n",
       "    <tr>\n",
       "      <th>3</th>\n",
       "      <td>2019-03-05 00:09:31.107</td>\n",
       "      <td>2</td>\n",
       "      <td>1891515180541284343</td>\n",
       "      <td>38</td>\n",
       "      <td>False</td>\n",
       "      <td>5.908703034097298e+17</td>\n",
       "      <td>NaN</td>\n",
       "      <td>5.990116681709081e+18</td>\n",
       "      <td>2.551781375196177e+18</td>\n",
       "      <td>7.164321382499455e+18</td>\n",
       "      <td>NaN</td>\n",
       "      <td>2.2481569642543155e+17</td>\n",
       "      <td>8.561152834701074e+18</td>\n",
       "      <td>7.531669329342818e+18</td>\n",
       "      <td>NaN</td>\n",
       "      <td>Cable/DSL</td>\n",
       "      <td>6324037615828123965</td>\n",
       "      <td>4.077062198952597e+17</td>\n",
       "      <td>1</td>\n",
       "      <td>5</td>\n",
       "    </tr>\n",
       "    <tr>\n",
       "      <th>4</th>\n",
       "      <td>2019-03-09 21:00:36.585</td>\n",
       "      <td>3</td>\n",
       "      <td>1891515180541284343</td>\n",
       "      <td>38</td>\n",
       "      <td>False</td>\n",
       "      <td>7.391843585977942e+18</td>\n",
       "      <td>NaN</td>\n",
       "      <td>5.960895846746644e+18</td>\n",
       "      <td>6.959330348495504e+18</td>\n",
       "      <td>7.164321382499455e+18</td>\n",
       "      <td>NaN</td>\n",
       "      <td>2.2481569642543155e+17</td>\n",
       "      <td>8.731901657619553e+17</td>\n",
       "      <td>7.531669329342818e+18</td>\n",
       "      <td>NaN</td>\n",
       "      <td>Cable/DSL</td>\n",
       "      <td>2894495631302821483</td>\n",
       "      <td>3.3013777759776993e+18</td>\n",
       "      <td>5</td>\n",
       "      <td>9</td>\n",
       "    </tr>\n",
       "  </tbody>\n",
       "</table>\n",
       "</div>"
      ],
      "text/plain": [
       "                     date  event_id             ref_type  application_id  \\\n",
       "0 2019-03-05 00:09:36.966         0  1891515180541284343              38   \n",
       "1 2019-03-05 00:09:38.920         1  1891515180541284343              38   \n",
       "2 2019-03-05 00:09:26.195         0  1891515180541284343              38   \n",
       "3 2019-03-05 00:09:31.107         2  1891515180541284343              38   \n",
       "4 2019-03-09 21:00:36.585         3  1891515180541284343              38   \n",
       "\n",
       "   attributed      device_os_version device_brand           device_model  \\\n",
       "0       False  5.908703034097298e+17          NaN  5.990116681709081e+18   \n",
       "1       False  5.908703034097298e+17          NaN  5.990116681709081e+18   \n",
       "2       False  5.908703034097298e+17          NaN  5.990116681709081e+18   \n",
       "3       False  5.908703034097298e+17          NaN  5.990116681709081e+18   \n",
       "4       False  7.391843585977942e+18          NaN  5.960895846746644e+18   \n",
       "\n",
       "              device_city     session_user_agent user_agent  \\\n",
       "0  3.2582150459884605e+18  7.164321382499455e+18        NaN   \n",
       "1  3.2582150459884605e+18  7.164321382499455e+18        NaN   \n",
       "2  3.2582150459884605e+18  7.164321382499455e+18        NaN   \n",
       "3   2.551781375196177e+18  7.164321382499455e+18        NaN   \n",
       "4   6.959330348495504e+18  7.164321382499455e+18        NaN   \n",
       "\n",
       "                  carrier                   kind              device_os wifi  \\\n",
       "0  2.2481569642543155e+17  5.516623012570946e+18  7.531669329342818e+18  NaN   \n",
       "1  2.2481569642543155e+17  9.977660181316936e+17  7.531669329342818e+18  NaN   \n",
       "2  2.2481569642543155e+17  5.516623012570946e+18  7.531669329342818e+18  NaN   \n",
       "3  2.2481569642543155e+17  8.561152834701074e+18  7.531669329342818e+18  NaN   \n",
       "4  2.2481569642543155e+17  8.731901657619553e+17  7.531669329342818e+18  NaN   \n",
       "\n",
       "  connection_type           ip_address         device_language  dayofweek  day  \n",
       "0       Cable/DSL  7858558567428669000   4.077062198952597e+17          1    5  \n",
       "1       Cable/DSL  7858558567428669000   4.077062198952597e+17          1    5  \n",
       "2       Cable/DSL  7858558567428669000   4.077062198952597e+17          1    5  \n",
       "3       Cable/DSL  6324037615828123965   4.077062198952597e+17          1    5  \n",
       "4       Cable/DSL  2894495631302821483  3.3013777759776993e+18          5    9  "
      ]
     },
     "execution_count": 94,
     "metadata": {},
     "output_type": "execute_result"
    }
   ],
   "source": [
    "events.head()"
   ]
  },
  {
   "cell_type": "markdown",
   "metadata": {},
   "source": [
    "## Ciudades con mas cantidad de dispositivos"
   ]
  },
  {
   "cell_type": "code",
   "execution_count": 28,
   "metadata": {},
   "outputs": [],
   "source": []
  },
  {
   "cell_type": "code",
   "execution_count": 30,
   "metadata": {},
   "outputs": [
    {
     "data": {
      "text/plain": [
       "<matplotlib.axes._subplots.AxesSubplot at 0x7f3f02d9d9b0>"
      ]
     },
     "execution_count": 30,
     "metadata": {},
     "output_type": "execute_result"
    },
    {
     "data": {
      "image/png": "[encoded data removed]",
      "text/plain": [
       "<matplotlib.figure.Figure at 0x7f3f02d9de10>"
      ]
     },
     "metadata": {
      "needs_background": "light"
     },
     "output_type": "display_data"
    }
   ],
   "source": []
  },
  {
   "cell_type": "code",
   "execution_count": 17,
   "metadata": {},
   "outputs": [
    {
     "data": {
      "text/plain": [
       "2.887475017904211e+18     250\n",
       "5.882657143049092e+18     250\n",
       "4.847858242945663e+17     250\n",
       "5.002466458548964e+18     250\n",
       "5.104150892721731e+18     250\n",
       "5.261773315746305e+18     250\n",
       "5.311991678305686e+18     250\n",
       "5.485779412876144e+18     250\n",
       "5.513861714517547e+18     250\n",
       "5.631503076645884e+18     250\n",
       "5.657030667171662e+17     250\n",
       "5.672677685958965e+18     250\n",
       "5.73911888953971e+18      250\n",
       "5.801433683024338e+18     250\n",
       "5.847627926933047e+18     250\n",
       "6.102141091106202e+18     250\n",
       "4.598122472752354e+18     250\n",
       "6.121291151271683e+18     250\n",
       "6.21976543540713e+18      250\n",
       "6.22461104474336e+18      250\n",
       "6.276065650874414e+17     250\n",
       "6.351786334510024e+18     250\n",
       "6.434016956850084e+17     250\n",
       "6.5806210525984e+18       250\n",
       "6.682605506188089e+18     250\n",
       "6.864851700798249e+18     250\n",
       "6.898742650424735e+18     250\n",
       "6.959330348495504e+18     250\n",
       "7.425634410263832e+18     250\n",
       "7.426735227522604e+18     250\n",
       "                         ... \n",
       "9.205668653536569e+18     250\n",
       "7.850480256382246e+18     250\n",
       "7.8638549865735e+18       250\n",
       "8.127301688691997e+17     250\n",
       "8.223209269143922e+18     250\n",
       "8.235236537216161e+18     250\n",
       "8.318795483645021e+18     250\n",
       "8.578626579239988e+17     250\n",
       "8.907771484765496e+18     250\n",
       "8.985217056239735e+18     250\n",
       "9.095473946151762e+18     250\n",
       "9.124639019417533e+18     250\n",
       "9.144485355955295e+18     250\n",
       "9.148931363827894e+18     250\n",
       "3.9239401297324754e+18    250\n",
       "8.931765307417755e+18     250\n",
       "4.1849839340276915e+18    250\n",
       "4.5569878173064724e+18    250\n",
       "5.697845807137547e+18     250\n",
       "5.756923724055678e+18     250\n",
       "6.696749494316508e+18     250\n",
       "6.932935784708413e+18     250\n",
       "6.973070298945857e+18     250\n",
       "7.105242662743966e+18     250\n",
       "7.374099005023099e+18     250\n",
       "7.666480278137948e+18     250\n",
       "8.299325405238521e+18     250\n",
       "8.35945532688294e+18      250\n",
       "4.5056378188517115e+18    250\n",
       "1.0840811693621105e+18    250\n",
       "Name: device_city, Length: 127, dtype: int64"
      ]
     },
     "execution_count": 17,
     "metadata": {},
     "output_type": "execute_result"
    }
   ],
   "source": [
    "dispositivo_por_ciudad['device_city'].value_counts()"
   ]
  },
  {
   "cell_type": "code",
   "execution_count": null,
   "metadata": {},
   "outputs": [],
   "source": []
  },
  {
   "cell_type": "code",
   "execution_count": null,
   "metadata": {},
   "outputs": [],
   "source": []
  },
  {
   "cell_type": "code",
   "execution_count": 95,
   "metadata": {},
   "outputs": [
    {
     "data": {
      "text/plain": [
       "2.33194661091417e+18      210697\n",
       "7.787530752469096e+18      74780\n",
       "9.14903648623246e+18       66279\n",
       "2.0664313823771248e+17     60168\n",
       "4.4452523127597215e+18     56241\n",
       "1.7545278564638182e+18     53850\n",
       "8.163782690166159e+18      48814\n",
       "7.11634310093634e+18       44598\n",
       "2.9282623200704937e+18     41494\n",
       "5.990116681709081e+18      40935\n",
       "1.26767685640937e+18       38870\n",
       "1.1876609915140178e+17     38629\n",
       "3.624089450035605e+18      37489\n",
       "4.281729328614173e+18      36006\n",
       "6.598698943038051e+18      30656\n",
       "1.1813182677101786e+18     26846\n",
       "6.026543327929208e+18      26460\n",
       "3.686066659168077e+17      26275\n",
       "1.5409071305566963e+18     25154\n",
       "2.4354500947795727e+18     24645\n",
       "4.5454901435473823e+18     24201\n",
       "4.689550129432457e+18      22497\n",
       "8.604122202547542e+18      22268\n",
       "1.764701447250044e+18      21661\n",
       "4.4305786865637033e+18     20316\n",
       "2.1369349693676014e+18     19213\n",
       "6.88241452041436e+18       19122\n",
       "8.535198356827955e+18      18648\n",
       "8.733768846357008e+18      17953\n",
       "4.349815524632825e+18      17790\n",
       "                           ...  \n",
       "8.044855310608993e+18          1\n",
       "5.734992454562482e+18          1\n",
       "4.0531375329320945e+18         1\n",
       "3.666678957513462e+18          1\n",
       "4.97533806648981e+18           1\n",
       "4.648552044330371e+18          1\n",
       "8.170906428280771e+18          1\n",
       "5.540442582022048e+18          1\n",
       "2.3083083730808924e+18         1\n",
       "8.379812024208966e+18          1\n",
       "1.0342178849649029e+18         1\n",
       "3.050486086255684e+18          1\n",
       "2.933049947754534e+18          1\n",
       "8.420502791018143e+18          1\n",
       "8.038196161626729e+18          1\n",
       "2.343157291794751e+18          1\n",
       "7.0413474552139e+17            1\n",
       "7.097815502648974e+18          1\n",
       "5.466518363792365e+18          1\n",
       "5.448125840342095e+18          1\n",
       "7.369703676325886e+18          1\n",
       "4.1604196367207736e+18         1\n",
       "6.925717382274416e+18          1\n",
       "7.407709465967263e+18          1\n",
       "6.658761445305757e+18          1\n",
       "8.074954384507082e+18          1\n",
       "7.104775107408565e+18          1\n",
       "7.546210863587995e+16          1\n",
       "5.602877740427965e+18          1\n",
       "3.3233340633747676e+18         1\n",
       "Name: device_model, Length: 2624, dtype: int64"
      ]
     },
     "execution_count": 95,
     "metadata": {},
     "output_type": "execute_result"
    }
   ],
   "source": [
    "events['device_model'].value_counts()"
   ]
  },
  {
   "cell_type": "code",
   "execution_count": null,
   "metadata": {},
   "outputs": [],
   "source": []
  }
 ],
 "metadata": {
  "kernelspec": {
   "display_name": "Python 3",
   "language": "python",
   "name": "python3"
  },
  "language_info": {
   "codemirror_mode": {
    "name": "ipython",
    "version": 3
   },
   "file_extension": ".py",
   "mimetype": "text/x-python",
   "name": "python",
   "nbconvert_exporter": "python",
   "pygments_lexer": "ipython3",
   "version": "3.6.7"
  }
 },
 "nbformat": 4,
 "nbformat_minor": 2
}

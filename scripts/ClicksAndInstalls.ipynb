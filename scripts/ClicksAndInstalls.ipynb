{
 "cells": [
  {
   "cell_type": "code",
   "execution_count": 1,
   "metadata": {},
   "outputs": [],
   "source": [
    "import pandas as pd\n",
    "import numpy as np\n",
    "import matplotlib.pyplot as plt"
   ]
  },
  {
   "cell_type": "code",
   "execution_count": 2,
   "metadata": {},
   "outputs": [],
   "source": [
    "clicks = pd.read_csv(\"/home/arielpm/Escritorio/Org de Datos/TP1/clicks.csv\")\n",
    "installs = pd.read_csv(\"/home/arielpm/Escritorio/Org de Datos/TP1/installs.csv\")"
   ]
  },
  {
   "cell_type": "code",
   "execution_count": 3,
   "metadata": {},
   "outputs": [
    {
     "data": {
      "text/html": [
       "<div>\n",
       "<style scoped>\n",
       "    .dataframe tbody tr th:only-of-type {\n",
       "        vertical-align: middle;\n",
       "    }\n",
       "\n",
       "    .dataframe tbody tr th {\n",
       "        vertical-align: top;\n",
       "    }\n",
       "\n",
       "    .dataframe thead th {\n",
       "        text-align: right;\n",
       "    }\n",
       "</style>\n",
       "<table border=\"1\" class=\"dataframe\">\n",
       "  <thead>\n",
       "    <tr style=\"text-align: right;\">\n",
       "      <th></th>\n",
       "      <th>created</th>\n",
       "      <th>application_id</th>\n",
       "      <th>ref_type</th>\n",
       "      <th>ref_hash</th>\n",
       "      <th>click_hash</th>\n",
       "      <th>attributed</th>\n",
       "      <th>implicit</th>\n",
       "      <th>device_countrycode</th>\n",
       "      <th>device_brand</th>\n",
       "      <th>device_model</th>\n",
       "      <th>session_user_agent</th>\n",
       "      <th>user_agent</th>\n",
       "      <th>event_uuid</th>\n",
       "      <th>kind</th>\n",
       "      <th>wifi</th>\n",
       "      <th>trans_id</th>\n",
       "      <th>ip_address</th>\n",
       "      <th>device_language</th>\n",
       "    </tr>\n",
       "  </thead>\n",
       "  <tbody>\n",
       "    <tr>\n",
       "      <th>0</th>\n",
       "      <td>2019-03-13 01:43:33.445</td>\n",
       "      <td>0</td>\n",
       "      <td>1891515180541284343</td>\n",
       "      <td>8464844987297247076</td>\n",
       "      <td>NaN</td>\n",
       "      <td>False</td>\n",
       "      <td>False</td>\n",
       "      <td>6333597102633388268</td>\n",
       "      <td>3.083059e+17</td>\n",
       "      <td>4.445252e+18</td>\n",
       "      <td>NaN</td>\n",
       "      <td>NaN</td>\n",
       "      <td>NaN</td>\n",
       "      <td>NaN</td>\n",
       "      <td>NaN</td>\n",
       "      <td>NaN</td>\n",
       "      <td>5529284367937637301</td>\n",
       "      <td>NaN</td>\n",
       "    </tr>\n",
       "    <tr>\n",
       "      <th>1</th>\n",
       "      <td>2019-03-13 04:58:35.078</td>\n",
       "      <td>0</td>\n",
       "      <td>1891515180541284343</td>\n",
       "      <td>3250564871270161533</td>\n",
       "      <td>NaN</td>\n",
       "      <td>False</td>\n",
       "      <td>False</td>\n",
       "      <td>6333597102633388268</td>\n",
       "      <td>3.083059e+17</td>\n",
       "      <td>4.445252e+18</td>\n",
       "      <td>NaN</td>\n",
       "      <td>NaN</td>\n",
       "      <td>NaN</td>\n",
       "      <td>NaN</td>\n",
       "      <td>NaN</td>\n",
       "      <td>NaN</td>\n",
       "      <td>6098022721363533304</td>\n",
       "      <td>NaN</td>\n",
       "    </tr>\n",
       "    <tr>\n",
       "      <th>2</th>\n",
       "      <td>2019-03-13 04:20:57.666</td>\n",
       "      <td>0</td>\n",
       "      <td>1891515180541284343</td>\n",
       "      <td>7953318831018100268</td>\n",
       "      <td>NaN</td>\n",
       "      <td>False</td>\n",
       "      <td>True</td>\n",
       "      <td>6333597102633388268</td>\n",
       "      <td>5.137992e+17</td>\n",
       "      <td>6.026543e+18</td>\n",
       "      <td>HasOffers Mobile AppTracking v1.0</td>\n",
       "      <td>NaN</td>\n",
       "      <td>0bfa9b4c-e07a-4522-b32d-138e3165ac98</td>\n",
       "      <td>Open</td>\n",
       "      <td>NaN</td>\n",
       "      <td>NaN</td>\n",
       "      <td>4636407223847323867</td>\n",
       "      <td>3.301378e+18</td>\n",
       "    </tr>\n",
       "    <tr>\n",
       "      <th>3</th>\n",
       "      <td>2019-03-13 04:20:57.698</td>\n",
       "      <td>0</td>\n",
       "      <td>1891515180541284343</td>\n",
       "      <td>7953318831018100268</td>\n",
       "      <td>NaN</td>\n",
       "      <td>False</td>\n",
       "      <td>False</td>\n",
       "      <td>6333597102633388268</td>\n",
       "      <td>5.137992e+17</td>\n",
       "      <td>6.026543e+18</td>\n",
       "      <td>NaN</td>\n",
       "      <td>NaN</td>\n",
       "      <td>NaN</td>\n",
       "      <td>NaN</td>\n",
       "      <td>NaN</td>\n",
       "      <td>NaN</td>\n",
       "      <td>4636407223847323867</td>\n",
       "      <td>NaN</td>\n",
       "    </tr>\n",
       "    <tr>\n",
       "      <th>4</th>\n",
       "      <td>2019-03-10 22:24:56.684</td>\n",
       "      <td>0</td>\n",
       "      <td>1891515180541284343</td>\n",
       "      <td>8355110941557237501</td>\n",
       "      <td>NaN</td>\n",
       "      <td>False</td>\n",
       "      <td>True</td>\n",
       "      <td>6333597102633388268</td>\n",
       "      <td>1.083369e+18</td>\n",
       "      <td>7.876612e+18</td>\n",
       "      <td>HasOffers Mobile AppTracking v1.0</td>\n",
       "      <td>NaN</td>\n",
       "      <td>8f235a8c-41bf-4399-b33d-c41577c949b0</td>\n",
       "      <td>Open</td>\n",
       "      <td>NaN</td>\n",
       "      <td>NaN</td>\n",
       "      <td>685400811232710215</td>\n",
       "      <td>3.301378e+18</td>\n",
       "    </tr>\n",
       "  </tbody>\n",
       "</table>\n",
       "</div>"
      ],
      "text/plain": [
       "                   created  application_id             ref_type  \\\n",
       "0  2019-03-13 01:43:33.445               0  1891515180541284343   \n",
       "1  2019-03-13 04:58:35.078               0  1891515180541284343   \n",
       "2  2019-03-13 04:20:57.666               0  1891515180541284343   \n",
       "3  2019-03-13 04:20:57.698               0  1891515180541284343   \n",
       "4  2019-03-10 22:24:56.684               0  1891515180541284343   \n",
       "\n",
       "              ref_hash  click_hash  attributed  implicit   device_countrycode  \\\n",
       "0  8464844987297247076         NaN       False     False  6333597102633388268   \n",
       "1  3250564871270161533         NaN       False     False  6333597102633388268   \n",
       "2  7953318831018100268         NaN       False      True  6333597102633388268   \n",
       "3  7953318831018100268         NaN       False     False  6333597102633388268   \n",
       "4  8355110941557237501         NaN       False      True  6333597102633388268   \n",
       "\n",
       "   device_brand  device_model                 session_user_agent user_agent  \\\n",
       "0  3.083059e+17  4.445252e+18                                NaN        NaN   \n",
       "1  3.083059e+17  4.445252e+18                                NaN        NaN   \n",
       "2  5.137992e+17  6.026543e+18  HasOffers Mobile AppTracking v1.0        NaN   \n",
       "3  5.137992e+17  6.026543e+18                                NaN        NaN   \n",
       "4  1.083369e+18  7.876612e+18  HasOffers Mobile AppTracking v1.0        NaN   \n",
       "\n",
       "                             event_uuid  kind wifi trans_id  \\\n",
       "0                                   NaN   NaN  NaN      NaN   \n",
       "1                                   NaN   NaN  NaN      NaN   \n",
       "2  0bfa9b4c-e07a-4522-b32d-138e3165ac98  Open  NaN      NaN   \n",
       "3                                   NaN   NaN  NaN      NaN   \n",
       "4  8f235a8c-41bf-4399-b33d-c41577c949b0  Open  NaN      NaN   \n",
       "\n",
       "            ip_address  device_language  \n",
       "0  5529284367937637301              NaN  \n",
       "1  6098022721363533304              NaN  \n",
       "2  4636407223847323867     3.301378e+18  \n",
       "3  4636407223847323867              NaN  \n",
       "4   685400811232710215     3.301378e+18  "
      ]
     },
     "execution_count": 3,
     "metadata": {},
     "output_type": "execute_result"
    }
   ],
   "source": [
    "installs.head()"
   ]
  },
  {
   "cell_type": "code",
   "execution_count": 4,
   "metadata": {},
   "outputs": [
    {
     "data": {
      "text/plain": [
       "4"
      ]
     },
     "execution_count": 4,
     "metadata": {},
     "output_type": "execute_result"
    }
   ],
   "source": [
    "len(installs[\"trans_id\"].value_counts())"
   ]
  },
  {
   "cell_type": "code",
   "execution_count": 5,
   "metadata": {},
   "outputs": [
    {
     "data": {
      "text/plain": [
       "26351"
      ]
     },
     "execution_count": 5,
     "metadata": {},
     "output_type": "execute_result"
    }
   ],
   "source": [
    "len(clicks[\"trans_id\"].value_counts())"
   ]
  },
  {
   "cell_type": "code",
   "execution_count": 6,
   "metadata": {},
   "outputs": [
    {
     "data": {
      "text/plain": [
       "'En clicks hay para cada uno un trans_id. Pero en installs hay solo 4. No se si se los puede relacionar por esa\\ncolumna'"
      ]
     },
     "execution_count": 6,
     "metadata": {},
     "output_type": "execute_result"
    }
   ],
   "source": [
    "\"\"\"En clicks hay para cada uno un trans_id. Pero en installs hay solo 4. No se si se los puede relacionar por esa\n",
    "columna\"\"\""
   ]
  },
  {
   "cell_type": "code",
   "execution_count": 7,
   "metadata": {},
   "outputs": [
    {
     "data": {
      "text/plain": [
       "1891515180541284343    2080\n",
       "1494519392962156891    1332\n",
       "Name: ref_type, dtype: int64"
      ]
     },
     "execution_count": 7,
     "metadata": {},
     "output_type": "execute_result"
    }
   ],
   "source": [
    "installs[\"ref_type\"].value_counts()"
   ]
  },
  {
   "cell_type": "code",
   "execution_count": 8,
   "metadata": {},
   "outputs": [
    {
     "data": {
      "text/plain": [
       "1891515180541284343    25549\n",
       "1494519392962156891      739\n",
       "5016171802147987303       58\n",
       "6323871695571587575        5\n",
       "Name: ref_type, dtype: int64"
      ]
     },
     "execution_count": 8,
     "metadata": {},
     "output_type": "execute_result"
    }
   ],
   "source": [
    "clicks[\"ref_type\"].value_counts()"
   ]
  },
  {
   "cell_type": "code",
   "execution_count": 9,
   "metadata": {},
   "outputs": [
    {
     "data": {
      "text/plain": [
       "5208834946313176321    4\n",
       "3272750442824629569    4\n",
       "1999001885916451618    3\n",
       "2457547163021424058    3\n",
       "2515049144505739996    3\n",
       "5376622639905210608    3\n",
       "470581161921490835     3\n",
       "2807966731127456435    3\n",
       "394181128078904930     3\n",
       "1332624341050561368    3\n",
       "8209340170282049305    3\n",
       "1826618012885478111    3\n",
       "6207088909238189318    3\n",
       "4603142710878547974    3\n",
       "4587898421740190562    3\n",
       "3429460795301152906    3\n",
       "1838099903940931904    3\n",
       "808602801225309575     3\n",
       "2756309363004630634    3\n",
       "5716316704073038128    3\n",
       "1951826604052927528    3\n",
       "5707101515634134793    3\n",
       "3293250764324184935    3\n",
       "6697381140026413622    2\n",
       "1051816244049516468    2\n",
       "2429923283539157643    2\n",
       "8378288095655268347    2\n",
       "4049391409413329307    2\n",
       "1162390149017457197    2\n",
       "8956666120381022264    2\n",
       "                      ..\n",
       "432026705480919604     1\n",
       "868940215859934734     1\n",
       "4424921869962083331    1\n",
       "667593224187123722     1\n",
       "826262859425189535     1\n",
       "3807326297196549242    1\n",
       "453115979634562298     1\n",
       "2987878111541902309    1\n",
       "3081130218041894318    1\n",
       "1877503968466110352    1\n",
       "530219043126256082     1\n",
       "3403340613216452169    1\n",
       "715041527646407093     1\n",
       "6429559139633791703    1\n",
       "2864803356152732457    1\n",
       "4685290250772517185    1\n",
       "2689158357454731145    1\n",
       "4881524263181588033    1\n",
       "4174271766196277740    1\n",
       "25409974890453604      1\n",
       "8155732787939289418    1\n",
       "3129511836481108800    1\n",
       "3692618985154753222    1\n",
       "2044498063868721248    1\n",
       "4577579502532667479    1\n",
       "965380799674979884     1\n",
       "4869208196560718312    1\n",
       "5933966659490510327    1\n",
       "3730165007009583572    1\n",
       "3229160466581534722    1\n",
       "Name: ref_hash, Length: 3008, dtype: int64"
      ]
     },
     "execution_count": 9,
     "metadata": {},
     "output_type": "execute_result"
    }
   ],
   "source": [
    "installs[\"ref_hash\"].value_counts()"
   ]
  },
  {
   "cell_type": "code",
   "execution_count": 10,
   "metadata": {},
   "outputs": [
    {
     "data": {
      "text/plain": [
       "4063522808706112974    41\n",
       "6841615430383729819    32\n",
       "1244272413279716745    26\n",
       "871778630200697460     21\n",
       "1486699123421703687    21\n",
       "5087801386146573665    20\n",
       "925803901826809324     17\n",
       "5410279713092214908    16\n",
       "6972928558719957056    16\n",
       "5141358577301248038    16\n",
       "519658456951133298     16\n",
       "1840632706493884506    16\n",
       "1331942267794810997    14\n",
       "1211156366060784398    14\n",
       "1800317677967270083    14\n",
       "8649985029035959510    14\n",
       "6720955205547143860    14\n",
       "8292793494956750501    14\n",
       "9122294037688413433    14\n",
       "4087245142961821607    13\n",
       "2878289124029282270    13\n",
       "4743839512322600375    12\n",
       "1022865914163198106    12\n",
       "9013086364156440526    12\n",
       "2108916708309430205    12\n",
       "7298861376107043945    12\n",
       "2161849021063988604    12\n",
       "5137915707382060256    12\n",
       "3272242210010018861    12\n",
       "7539041810210425316    12\n",
       "                       ..\n",
       "1131153511584379029     1\n",
       "6624531815907593673     1\n",
       "8656402155431163452     1\n",
       "5268701924955006446     1\n",
       "5564448142525849564     1\n",
       "1534878130600836246     1\n",
       "2721577658846468141     1\n",
       "3024919309800578161     1\n",
       "7297417774127064951     1\n",
       "5524585068903496802     1\n",
       "394473971679734325      1\n",
       "7453302911760625930     1\n",
       "6447861779766156329     1\n",
       "653043061982211997      1\n",
       "2491842654628403422     1\n",
       "6511023829661823187     1\n",
       "9175404653347321189     1\n",
       "6752116959863280974     1\n",
       "6573047323411025370     1\n",
       "9028394446374452106     1\n",
       "2893868540560269043     1\n",
       "691960130017793790      1\n",
       "6546380539692069194     1\n",
       "1796736044818719734     1\n",
       "1414614857948668342     1\n",
       "809339458732978450      1\n",
       "5770011850414347376     1\n",
       "2386493467830238838     1\n",
       "2808413339987153756     1\n",
       "3526167154319643975     1\n",
       "Name: ref_hash, Length: 17119, dtype: int64"
      ]
     },
     "execution_count": 10,
     "metadata": {},
     "output_type": "execute_result"
    }
   ],
   "source": [
    "clicks[\"ref_hash\"].value_counts()"
   ]
  },
  {
   "cell_type": "code",
   "execution_count": 11,
   "metadata": {},
   "outputs": [],
   "source": [
    "clicksAndInstalls = pd.merge(clicks, installs, on='trans_id', how ='inner')"
   ]
  },
  {
   "cell_type": "code",
   "execution_count": 12,
   "metadata": {},
   "outputs": [
    {
     "data": {
      "text/html": [
       "<div>\n",
       "<style scoped>\n",
       "    .dataframe tbody tr th:only-of-type {\n",
       "        vertical-align: middle;\n",
       "    }\n",
       "\n",
       "    .dataframe tbody tr th {\n",
       "        vertical-align: top;\n",
       "    }\n",
       "\n",
       "    .dataframe thead th {\n",
       "        text-align: right;\n",
       "    }\n",
       "</style>\n",
       "<table border=\"1\" class=\"dataframe\">\n",
       "  <thead>\n",
       "    <tr style=\"text-align: right;\">\n",
       "      <th></th>\n",
       "      <th>advertiser_id</th>\n",
       "      <th>action_id</th>\n",
       "      <th>source_id</th>\n",
       "      <th>created_x</th>\n",
       "      <th>country_code</th>\n",
       "      <th>latitude</th>\n",
       "      <th>longitude</th>\n",
       "      <th>wifi_connection</th>\n",
       "      <th>carrier_id</th>\n",
       "      <th>trans_id</th>\n",
       "      <th>...</th>\n",
       "      <th>device_countrycode</th>\n",
       "      <th>device_brand</th>\n",
       "      <th>device_model</th>\n",
       "      <th>session_user_agent</th>\n",
       "      <th>user_agent</th>\n",
       "      <th>event_uuid</th>\n",
       "      <th>kind</th>\n",
       "      <th>wifi</th>\n",
       "      <th>ip_address</th>\n",
       "      <th>device_language</th>\n",
       "    </tr>\n",
       "  </thead>\n",
       "  <tbody>\n",
       "  </tbody>\n",
       "</table>\n",
       "<p>0 rows × 37 columns</p>\n",
       "</div>"
      ],
      "text/plain": [
       "Empty DataFrame\n",
       "Columns: [advertiser_id, action_id, source_id, created_x, country_code, latitude, longitude, wifi_connection, carrier_id, trans_id, os_minor, agent_device, os_major, specs_brand, brand, timeToClick, touchX, touchY, ref_type_x, ref_hash_x, created_y, application_id, ref_type_y, ref_hash_y, click_hash, attributed, implicit, device_countrycode, device_brand, device_model, session_user_agent, user_agent, event_uuid, kind, wifi, ip_address, device_language]\n",
       "Index: []\n",
       "\n",
       "[0 rows x 37 columns]"
      ]
     },
     "execution_count": 12,
     "metadata": {},
     "output_type": "execute_result"
    }
   ],
   "source": [
    "clicksAndInstalls.head()"
   ]
  },
  {
   "cell_type": "code",
   "execution_count": 13,
   "metadata": {},
   "outputs": [
    {
     "data": {
      "text/plain": [
       "'Clicks y installs not tienen ningun transaction id igual'"
      ]
     },
     "execution_count": 13,
     "metadata": {},
     "output_type": "execute_result"
    }
   ],
   "source": [
    "\"\"\"Clicks y installs not tienen ningun transaction id igual\"\"\""
   ]
  },
  {
   "cell_type": "code",
   "execution_count": 14,
   "metadata": {},
   "outputs": [],
   "source": [
    "clicksAndInstalls = pd.merge(clicks, installs, on='ref_hash', how='inner')"
   ]
  },
  {
   "cell_type": "code",
   "execution_count": 15,
   "metadata": {},
   "outputs": [
    {
     "data": {
      "text/html": [
       "<div>\n",
       "<style scoped>\n",
       "    .dataframe tbody tr th:only-of-type {\n",
       "        vertical-align: middle;\n",
       "    }\n",
       "\n",
       "    .dataframe tbody tr th {\n",
       "        vertical-align: top;\n",
       "    }\n",
       "\n",
       "    .dataframe thead th {\n",
       "        text-align: right;\n",
       "    }\n",
       "</style>\n",
       "<table border=\"1\" class=\"dataframe\">\n",
       "  <thead>\n",
       "    <tr style=\"text-align: right;\">\n",
       "      <th></th>\n",
       "      <th>advertiser_id</th>\n",
       "      <th>action_id</th>\n",
       "      <th>source_id</th>\n",
       "      <th>created_x</th>\n",
       "      <th>country_code</th>\n",
       "      <th>latitude</th>\n",
       "      <th>longitude</th>\n",
       "      <th>wifi_connection</th>\n",
       "      <th>carrier_id</th>\n",
       "      <th>trans_id_x</th>\n",
       "      <th>...</th>\n",
       "      <th>device_brand</th>\n",
       "      <th>device_model</th>\n",
       "      <th>session_user_agent</th>\n",
       "      <th>user_agent</th>\n",
       "      <th>event_uuid</th>\n",
       "      <th>kind</th>\n",
       "      <th>wifi</th>\n",
       "      <th>trans_id_y</th>\n",
       "      <th>ip_address</th>\n",
       "      <th>device_language</th>\n",
       "    </tr>\n",
       "  </thead>\n",
       "  <tbody>\n",
       "    <tr>\n",
       "      <th>0</th>\n",
       "      <td>3</td>\n",
       "      <td>NaN</td>\n",
       "      <td>0</td>\n",
       "      <td>2019-03-09T01:05:04.020Z</td>\n",
       "      <td>6333597102633388268</td>\n",
       "      <td>1.205689</td>\n",
       "      <td>1.070234</td>\n",
       "      <td>False</td>\n",
       "      <td>12.0</td>\n",
       "      <td>JuPIceEiBa-Z7nAmhCDmuszkzDqFdrA</td>\n",
       "      <td>...</td>\n",
       "      <td>NaN</td>\n",
       "      <td>6.882415e+18</td>\n",
       "      <td>adjust.com</td>\n",
       "      <td>NaN</td>\n",
       "      <td>NaN</td>\n",
       "      <td>NaN</td>\n",
       "      <td>NaN</td>\n",
       "      <td>NaN</td>\n",
       "      <td>2700825596283553676</td>\n",
       "      <td>3.301378e+18</td>\n",
       "    </tr>\n",
       "    <tr>\n",
       "      <th>1</th>\n",
       "      <td>3</td>\n",
       "      <td>NaN</td>\n",
       "      <td>0</td>\n",
       "      <td>2019-03-11T13:16:59.223Z</td>\n",
       "      <td>6333597102633388268</td>\n",
       "      <td>1.205689</td>\n",
       "      <td>1.070234</td>\n",
       "      <td>False</td>\n",
       "      <td>4.0</td>\n",
       "      <td>_Ulg5L_2n9uhQTTilN2rY4CMEic1juc</td>\n",
       "      <td>...</td>\n",
       "      <td>NaN</td>\n",
       "      <td>6.882415e+18</td>\n",
       "      <td>adjust.com</td>\n",
       "      <td>NaN</td>\n",
       "      <td>NaN</td>\n",
       "      <td>NaN</td>\n",
       "      <td>NaN</td>\n",
       "      <td>NaN</td>\n",
       "      <td>4175259317777181190</td>\n",
       "      <td>3.301378e+18</td>\n",
       "    </tr>\n",
       "    <tr>\n",
       "      <th>2</th>\n",
       "      <td>3</td>\n",
       "      <td>NaN</td>\n",
       "      <td>0</td>\n",
       "      <td>2019-03-12T02:14:06.129Z</td>\n",
       "      <td>6333597102633388268</td>\n",
       "      <td>1.205689</td>\n",
       "      <td>1.070234</td>\n",
       "      <td>False</td>\n",
       "      <td>4.0</td>\n",
       "      <td>dQJ6-J13KLFI71XtFa2XEi3DHMZooB4</td>\n",
       "      <td>...</td>\n",
       "      <td>NaN</td>\n",
       "      <td>6.882415e+18</td>\n",
       "      <td>adjust.com</td>\n",
       "      <td>NaN</td>\n",
       "      <td>NaN</td>\n",
       "      <td>NaN</td>\n",
       "      <td>NaN</td>\n",
       "      <td>NaN</td>\n",
       "      <td>4175259317777181190</td>\n",
       "      <td>3.301378e+18</td>\n",
       "    </tr>\n",
       "    <tr>\n",
       "      <th>3</th>\n",
       "      <td>3</td>\n",
       "      <td>NaN</td>\n",
       "      <td>0</td>\n",
       "      <td>2019-03-11T13:59:56.718Z</td>\n",
       "      <td>6333597102633388268</td>\n",
       "      <td>1.205689</td>\n",
       "      <td>1.070234</td>\n",
       "      <td>False</td>\n",
       "      <td>3.0</td>\n",
       "      <td>mQJ5Le4WZlIqCK_DPT0SwGY0Q-jfZWY</td>\n",
       "      <td>...</td>\n",
       "      <td>NaN</td>\n",
       "      <td>1.990627e+18</td>\n",
       "      <td>adjust.com</td>\n",
       "      <td>NaN</td>\n",
       "      <td>NaN</td>\n",
       "      <td>NaN</td>\n",
       "      <td>NaN</td>\n",
       "      <td>NaN</td>\n",
       "      <td>3934343467960245099</td>\n",
       "      <td>3.301378e+18</td>\n",
       "    </tr>\n",
       "    <tr>\n",
       "      <th>4</th>\n",
       "      <td>3</td>\n",
       "      <td>NaN</td>\n",
       "      <td>1</td>\n",
       "      <td>2019-03-10T10:29:19.742Z</td>\n",
       "      <td>6333597102633388268</td>\n",
       "      <td>1.205689</td>\n",
       "      <td>1.070234</td>\n",
       "      <td>False</td>\n",
       "      <td>10.0</td>\n",
       "      <td>_wsKmSaUcdl3PqHeSEGXz4cSW9K0ltY</td>\n",
       "      <td>...</td>\n",
       "      <td>NaN</td>\n",
       "      <td>6.882415e+18</td>\n",
       "      <td>adjust.com</td>\n",
       "      <td>NaN</td>\n",
       "      <td>NaN</td>\n",
       "      <td>NaN</td>\n",
       "      <td>NaN</td>\n",
       "      <td>NaN</td>\n",
       "      <td>8945813689569211960</td>\n",
       "      <td>3.301378e+18</td>\n",
       "    </tr>\n",
       "    <tr>\n",
       "      <th>5</th>\n",
       "      <td>3</td>\n",
       "      <td>NaN</td>\n",
       "      <td>0</td>\n",
       "      <td>2019-03-10T11:39:33.727Z</td>\n",
       "      <td>6333597102633388268</td>\n",
       "      <td>1.205689</td>\n",
       "      <td>1.070234</td>\n",
       "      <td>False</td>\n",
       "      <td>6.0</td>\n",
       "      <td>ptNeQTAfruZljq2wfWbvf9KPKPpkaMQ</td>\n",
       "      <td>...</td>\n",
       "      <td>NaN</td>\n",
       "      <td>2.007085e+18</td>\n",
       "      <td>adjust.com</td>\n",
       "      <td>NaN</td>\n",
       "      <td>3212f574-d085-43d8-9f44-c39e0b0dbdfb</td>\n",
       "      <td>app_open</td>\n",
       "      <td>NaN</td>\n",
       "      <td>NaN</td>\n",
       "      <td>4682734745018418779</td>\n",
       "      <td>3.301378e+18</td>\n",
       "    </tr>\n",
       "    <tr>\n",
       "      <th>6</th>\n",
       "      <td>3</td>\n",
       "      <td>NaN</td>\n",
       "      <td>0</td>\n",
       "      <td>2019-03-13T02:30:21.888Z</td>\n",
       "      <td>6333597102633388268</td>\n",
       "      <td>1.205689</td>\n",
       "      <td>1.070234</td>\n",
       "      <td>False</td>\n",
       "      <td>0.0</td>\n",
       "      <td>_oeMxVjUycvdowkQX-ZlMZyUGf9gz_w</td>\n",
       "      <td>...</td>\n",
       "      <td>NaN</td>\n",
       "      <td>6.882415e+18</td>\n",
       "      <td>adjust.com</td>\n",
       "      <td>NaN</td>\n",
       "      <td>NaN</td>\n",
       "      <td>NaN</td>\n",
       "      <td>NaN</td>\n",
       "      <td>NaN</td>\n",
       "      <td>7503733330765163556</td>\n",
       "      <td>3.301378e+18</td>\n",
       "    </tr>\n",
       "    <tr>\n",
       "      <th>7</th>\n",
       "      <td>3</td>\n",
       "      <td>NaN</td>\n",
       "      <td>6</td>\n",
       "      <td>2019-03-13T19:44:45.440Z</td>\n",
       "      <td>6333597102633388268</td>\n",
       "      <td>1.205689</td>\n",
       "      <td>1.070234</td>\n",
       "      <td>False</td>\n",
       "      <td>13.0</td>\n",
       "      <td>k0fjKkGGEBSBJb0WFMje1DyXx-V0l3k</td>\n",
       "      <td>...</td>\n",
       "      <td>NaN</td>\n",
       "      <td>6.882415e+18</td>\n",
       "      <td>adjust.com</td>\n",
       "      <td>NaN</td>\n",
       "      <td>NaN</td>\n",
       "      <td>NaN</td>\n",
       "      <td>NaN</td>\n",
       "      <td>NaN</td>\n",
       "      <td>7140852032740295638</td>\n",
       "      <td>3.301378e+18</td>\n",
       "    </tr>\n",
       "    <tr>\n",
       "      <th>8</th>\n",
       "      <td>3</td>\n",
       "      <td>NaN</td>\n",
       "      <td>6</td>\n",
       "      <td>2019-03-13T15:46:16.686Z</td>\n",
       "      <td>6333597102633388268</td>\n",
       "      <td>1.205689</td>\n",
       "      <td>1.070234</td>\n",
       "      <td>False</td>\n",
       "      <td>13.0</td>\n",
       "      <td>NONSUyIqKX9jr0p2SEBYO4RCiC4UleQ</td>\n",
       "      <td>...</td>\n",
       "      <td>NaN</td>\n",
       "      <td>6.882415e+18</td>\n",
       "      <td>adjust.com</td>\n",
       "      <td>NaN</td>\n",
       "      <td>NaN</td>\n",
       "      <td>NaN</td>\n",
       "      <td>NaN</td>\n",
       "      <td>NaN</td>\n",
       "      <td>7140852032740295638</td>\n",
       "      <td>3.301378e+18</td>\n",
       "    </tr>\n",
       "    <tr>\n",
       "      <th>9</th>\n",
       "      <td>3</td>\n",
       "      <td>NaN</td>\n",
       "      <td>6</td>\n",
       "      <td>2019-03-13T00:20:51.518Z</td>\n",
       "      <td>6333597102633388268</td>\n",
       "      <td>1.205689</td>\n",
       "      <td>1.070234</td>\n",
       "      <td>False</td>\n",
       "      <td>13.0</td>\n",
       "      <td>NXLFzuBeJ__N7rkzMwujTDHt39nyFA4</td>\n",
       "      <td>...</td>\n",
       "      <td>NaN</td>\n",
       "      <td>6.882415e+18</td>\n",
       "      <td>adjust.com</td>\n",
       "      <td>NaN</td>\n",
       "      <td>NaN</td>\n",
       "      <td>NaN</td>\n",
       "      <td>NaN</td>\n",
       "      <td>NaN</td>\n",
       "      <td>7140852032740295638</td>\n",
       "      <td>3.301378e+18</td>\n",
       "    </tr>\n",
       "    <tr>\n",
       "      <th>10</th>\n",
       "      <td>3</td>\n",
       "      <td>NaN</td>\n",
       "      <td>6</td>\n",
       "      <td>2019-03-13T00:24:42.253Z</td>\n",
       "      <td>6333597102633388268</td>\n",
       "      <td>1.205689</td>\n",
       "      <td>1.070234</td>\n",
       "      <td>False</td>\n",
       "      <td>13.0</td>\n",
       "      <td>0R2plPqejTEIxljDFNpBCRLxX5Ctd2A</td>\n",
       "      <td>...</td>\n",
       "      <td>NaN</td>\n",
       "      <td>6.882415e+18</td>\n",
       "      <td>adjust.com</td>\n",
       "      <td>NaN</td>\n",
       "      <td>NaN</td>\n",
       "      <td>NaN</td>\n",
       "      <td>NaN</td>\n",
       "      <td>NaN</td>\n",
       "      <td>7140852032740295638</td>\n",
       "      <td>3.301378e+18</td>\n",
       "    </tr>\n",
       "  </tbody>\n",
       "</table>\n",
       "<p>11 rows × 37 columns</p>\n",
       "</div>"
      ],
      "text/plain": [
       "    advertiser_id  action_id  source_id                 created_x  \\\n",
       "0               3        NaN          0  2019-03-09T01:05:04.020Z   \n",
       "1               3        NaN          0  2019-03-11T13:16:59.223Z   \n",
       "2               3        NaN          0  2019-03-12T02:14:06.129Z   \n",
       "3               3        NaN          0  2019-03-11T13:59:56.718Z   \n",
       "4               3        NaN          1  2019-03-10T10:29:19.742Z   \n",
       "5               3        NaN          0  2019-03-10T11:39:33.727Z   \n",
       "6               3        NaN          0  2019-03-13T02:30:21.888Z   \n",
       "7               3        NaN          6  2019-03-13T19:44:45.440Z   \n",
       "8               3        NaN          6  2019-03-13T15:46:16.686Z   \n",
       "9               3        NaN          6  2019-03-13T00:20:51.518Z   \n",
       "10              3        NaN          6  2019-03-13T00:24:42.253Z   \n",
       "\n",
       "           country_code  latitude  longitude  wifi_connection  carrier_id  \\\n",
       "0   6333597102633388268  1.205689   1.070234            False        12.0   \n",
       "1   6333597102633388268  1.205689   1.070234            False         4.0   \n",
       "2   6333597102633388268  1.205689   1.070234            False         4.0   \n",
       "3   6333597102633388268  1.205689   1.070234            False         3.0   \n",
       "4   6333597102633388268  1.205689   1.070234            False        10.0   \n",
       "5   6333597102633388268  1.205689   1.070234            False         6.0   \n",
       "6   6333597102633388268  1.205689   1.070234            False         0.0   \n",
       "7   6333597102633388268  1.205689   1.070234            False        13.0   \n",
       "8   6333597102633388268  1.205689   1.070234            False        13.0   \n",
       "9   6333597102633388268  1.205689   1.070234            False        13.0   \n",
       "10  6333597102633388268  1.205689   1.070234            False        13.0   \n",
       "\n",
       "                         trans_id_x       ...         device_brand  \\\n",
       "0   JuPIceEiBa-Z7nAmhCDmuszkzDqFdrA       ...                  NaN   \n",
       "1   _Ulg5L_2n9uhQTTilN2rY4CMEic1juc       ...                  NaN   \n",
       "2   dQJ6-J13KLFI71XtFa2XEi3DHMZooB4       ...                  NaN   \n",
       "3   mQJ5Le4WZlIqCK_DPT0SwGY0Q-jfZWY       ...                  NaN   \n",
       "4   _wsKmSaUcdl3PqHeSEGXz4cSW9K0ltY       ...                  NaN   \n",
       "5   ptNeQTAfruZljq2wfWbvf9KPKPpkaMQ       ...                  NaN   \n",
       "6   _oeMxVjUycvdowkQX-ZlMZyUGf9gz_w       ...                  NaN   \n",
       "7   k0fjKkGGEBSBJb0WFMje1DyXx-V0l3k       ...                  NaN   \n",
       "8   NONSUyIqKX9jr0p2SEBYO4RCiC4UleQ       ...                  NaN   \n",
       "9   NXLFzuBeJ__N7rkzMwujTDHt39nyFA4       ...                  NaN   \n",
       "10  0R2plPqejTEIxljDFNpBCRLxX5Ctd2A       ...                  NaN   \n",
       "\n",
       "    device_model  session_user_agent  user_agent  \\\n",
       "0   6.882415e+18          adjust.com         NaN   \n",
       "1   6.882415e+18          adjust.com         NaN   \n",
       "2   6.882415e+18          adjust.com         NaN   \n",
       "3   1.990627e+18          adjust.com         NaN   \n",
       "4   6.882415e+18          adjust.com         NaN   \n",
       "5   2.007085e+18          adjust.com         NaN   \n",
       "6   6.882415e+18          adjust.com         NaN   \n",
       "7   6.882415e+18          adjust.com         NaN   \n",
       "8   6.882415e+18          adjust.com         NaN   \n",
       "9   6.882415e+18          adjust.com         NaN   \n",
       "10  6.882415e+18          adjust.com         NaN   \n",
       "\n",
       "                              event_uuid      kind  wifi  trans_id_y  \\\n",
       "0                                    NaN       NaN   NaN         NaN   \n",
       "1                                    NaN       NaN   NaN         NaN   \n",
       "2                                    NaN       NaN   NaN         NaN   \n",
       "3                                    NaN       NaN   NaN         NaN   \n",
       "4                                    NaN       NaN   NaN         NaN   \n",
       "5   3212f574-d085-43d8-9f44-c39e0b0dbdfb  app_open   NaN         NaN   \n",
       "6                                    NaN       NaN   NaN         NaN   \n",
       "7                                    NaN       NaN   NaN         NaN   \n",
       "8                                    NaN       NaN   NaN         NaN   \n",
       "9                                    NaN       NaN   NaN         NaN   \n",
       "10                                   NaN       NaN   NaN         NaN   \n",
       "\n",
       "             ip_address  device_language  \n",
       "0   2700825596283553676     3.301378e+18  \n",
       "1   4175259317777181190     3.301378e+18  \n",
       "2   4175259317777181190     3.301378e+18  \n",
       "3   3934343467960245099     3.301378e+18  \n",
       "4   8945813689569211960     3.301378e+18  \n",
       "5   4682734745018418779     3.301378e+18  \n",
       "6   7503733330765163556     3.301378e+18  \n",
       "7   7140852032740295638     3.301378e+18  \n",
       "8   7140852032740295638     3.301378e+18  \n",
       "9   7140852032740295638     3.301378e+18  \n",
       "10  7140852032740295638     3.301378e+18  \n",
       "\n",
       "[11 rows x 37 columns]"
      ]
     },
     "execution_count": 15,
     "metadata": {},
     "output_type": "execute_result"
    }
   ],
   "source": [
    "clicksAndInstalls.head(11)"
   ]
  },
  {
   "cell_type": "code",
   "execution_count": 16,
   "metadata": {},
   "outputs": [
    {
     "data": {
      "text/plain": [
       "(11, 37)"
      ]
     },
     "execution_count": 16,
     "metadata": {},
     "output_type": "execute_result"
    }
   ],
   "source": [
    "\"\"\"Solo quedaron 11 en comun de 26000 que tiene clicks. Igual ojo, porque como se repiten no se puede decir que hay \n",
    "11 que tienen en comun los dos csv. Porque por ahi haciendo el join se agregaron filas de mas porque ref hash se\n",
    "repite.\"\"\"\n",
    "clicksAndInstalls.shape"
   ]
  },
  {
   "cell_type": "code",
   "execution_count": 17,
   "metadata": {},
   "outputs": [
    {
     "data": {
      "text/plain": [
       "582930240149217282     4\n",
       "7759178785240189555    2\n",
       "8187571300120427764    1\n",
       "2369915544093215150    1\n",
       "1254317779988816837    1\n",
       "7190737170444985036    1\n",
       "3685364020547088390    1\n",
       "Name: ref_hash, dtype: int64"
      ]
     },
     "execution_count": 17,
     "metadata": {},
     "output_type": "execute_result"
    }
   ],
   "source": [
    "clicksAndInstalls[\"ref_hash\"].value_counts()"
   ]
  },
  {
   "cell_type": "code",
   "execution_count": 18,
   "metadata": {},
   "outputs": [
    {
     "data": {
      "text/plain": [
       "4"
      ]
     },
     "execution_count": 18,
     "metadata": {},
     "output_type": "execute_result"
    }
   ],
   "source": [
    "cant_ref_hash = clicks[clicks[\"ref_hash\"] == 582930240149217282].shape[0]\n",
    "cant_ref_hash"
   ]
  },
  {
   "cell_type": "code",
   "execution_count": 19,
   "metadata": {},
   "outputs": [
    {
     "data": {
      "text/plain": [
       "2"
      ]
     },
     "execution_count": 19,
     "metadata": {},
     "output_type": "execute_result"
    }
   ],
   "source": [
    "cant_ref_hash = clicks[clicks[\"ref_hash\"] == 7759178785240189555].shape[0]\n",
    "cant_ref_hash"
   ]
  },
  {
   "cell_type": "code",
   "execution_count": 20,
   "metadata": {},
   "outputs": [
    {
     "data": {
      "text/plain": [
       "'Como cuando se hizo el join los refhash que se repetian eran estos dos y ahora vemos que en clicks tenian la \\nmisma cantidad de repeticiones quiere decir que en installs se encuentran solo una vez.\\nEs decir, que en total, la cantidad de installs con el mismo ref hash que en clicks es 7'"
      ]
     },
     "execution_count": 20,
     "metadata": {},
     "output_type": "execute_result"
    }
   ],
   "source": [
    "\"\"\"Como cuando se hizo el join los refhash que se repetian eran estos dos y ahora vemos que en clicks tenian la \n",
    "misma cantidad de repeticiones quiere decir que en installs se encuentran solo una vez.\n",
    "Es decir, que en total, la cantidad de installs con el mismo ref hash que en clicks es 7\"\"\""
   ]
  },
  {
   "cell_type": "code",
   "execution_count": 21,
   "metadata": {},
   "outputs": [
    {
     "name": "stdout",
     "output_type": "stream",
     "text": [
      "<class 'pandas.core.frame.DataFrame'>\n",
      "Int64Index: 11 entries, 0 to 10\n",
      "Data columns (total 37 columns):\n",
      "advertiser_id         11 non-null int64\n",
      "action_id             0 non-null float64\n",
      "source_id             11 non-null int64\n",
      "created_x             11 non-null object\n",
      "country_code          11 non-null int64\n",
      "latitude              11 non-null float64\n",
      "longitude             11 non-null float64\n",
      "wifi_connection       11 non-null bool\n",
      "carrier_id            11 non-null float64\n",
      "trans_id_x            11 non-null object\n",
      "os_minor              11 non-null float64\n",
      "agent_device          6 non-null float64\n",
      "os_major              11 non-null float64\n",
      "specs_brand           11 non-null int64\n",
      "brand                 0 non-null float64\n",
      "timeToClick           9 non-null float64\n",
      "touchX                9 non-null float64\n",
      "touchY                9 non-null float64\n",
      "ref_type_x            11 non-null int64\n",
      "ref_hash              11 non-null int64\n",
      "created_y             11 non-null object\n",
      "application_id        11 non-null int64\n",
      "ref_type_y            11 non-null int64\n",
      "click_hash            0 non-null float64\n",
      "attributed            11 non-null bool\n",
      "implicit              11 non-null bool\n",
      "device_countrycode    11 non-null int64\n",
      "device_brand          0 non-null float64\n",
      "device_model          11 non-null float64\n",
      "session_user_agent    11 non-null object\n",
      "user_agent            0 non-null object\n",
      "event_uuid            1 non-null object\n",
      "kind                  1 non-null object\n",
      "wifi                  0 non-null object\n",
      "trans_id_y            0 non-null object\n",
      "ip_address            11 non-null int64\n",
      "device_language       11 non-null float64\n",
      "dtypes: bool(3), float64(15), int64(10), object(9)\n",
      "memory usage: 3.0+ KB\n"
     ]
    }
   ],
   "source": [
    "clicksAndInstalls.info()"
   ]
  },
  {
   "cell_type": "code",
   "execution_count": 22,
   "metadata": {},
   "outputs": [],
   "source": [
    "del clicksAndInstalls[\"action_id\"]\n",
    "del clicksAndInstalls[\"agent_device\"]\n",
    "del clicksAndInstalls[\"brand\"]\n",
    "del clicksAndInstalls[\"click_hash\"]\n",
    "del clicksAndInstalls[\"device_brand\"]\n",
    "del clicksAndInstalls[\"user_agent\"]\n",
    "del clicksAndInstalls[\"event_uuid\"]\n",
    "del clicksAndInstalls[\"kind\"]\n",
    "del clicksAndInstalls[\"wifi\"]\n",
    "del clicksAndInstalls[\"wifi_connection\"]\n",
    "del clicksAndInstalls[\"trans_id_y\"]"
   ]
  },
  {
   "cell_type": "code",
   "execution_count": 23,
   "metadata": {},
   "outputs": [
    {
     "data": {
      "text/plain": [
       "'El de wifi connection lo saco porque son todos false. El resto tiene casi todos nulls o mas de la mitad'"
      ]
     },
     "execution_count": 23,
     "metadata": {},
     "output_type": "execute_result"
    }
   ],
   "source": [
    "\"\"\"El de wifi connection lo saco porque son todos false. El resto tiene casi todos nulls o mas de la mitad\"\"\""
   ]
  },
  {
   "cell_type": "code",
   "execution_count": 24,
   "metadata": {},
   "outputs": [
    {
     "name": "stdout",
     "output_type": "stream",
     "text": [
      "<class 'pandas.core.frame.DataFrame'>\n",
      "Int64Index: 11 entries, 0 to 10\n",
      "Data columns (total 26 columns):\n",
      "advertiser_id         11 non-null int64\n",
      "source_id             11 non-null int64\n",
      "created_x             11 non-null object\n",
      "country_code          11 non-null int64\n",
      "latitude              11 non-null float64\n",
      "longitude             11 non-null float64\n",
      "carrier_id            11 non-null float64\n",
      "trans_id_x            11 non-null object\n",
      "os_minor              11 non-null float64\n",
      "os_major              11 non-null float64\n",
      "specs_brand           11 non-null int64\n",
      "timeToClick           9 non-null float64\n",
      "touchX                9 non-null float64\n",
      "touchY                9 non-null float64\n",
      "ref_type_x            11 non-null int64\n",
      "ref_hash              11 non-null int64\n",
      "created_y             11 non-null object\n",
      "application_id        11 non-null int64\n",
      "ref_type_y            11 non-null int64\n",
      "attributed            11 non-null bool\n",
      "implicit              11 non-null bool\n",
      "device_countrycode    11 non-null int64\n",
      "device_model          11 non-null float64\n",
      "session_user_agent    11 non-null object\n",
      "ip_address            11 non-null int64\n",
      "device_language       11 non-null float64\n",
      "dtypes: bool(2), float64(10), int64(10), object(4)\n",
      "memory usage: 2.2+ KB\n"
     ]
    }
   ],
   "source": [
    "clicksAndInstalls.info()"
   ]
  },
  {
   "cell_type": "code",
   "execution_count": 25,
   "metadata": {},
   "outputs": [
    {
     "data": {
      "text/plain": [
       "1891515180541284343    10\n",
       "1494519392962156891     1\n",
       "Name: ref_type_x, dtype: int64"
      ]
     },
     "execution_count": 25,
     "metadata": {},
     "output_type": "execute_result"
    }
   ],
   "source": [
    "clicksAndInstalls[\"ref_type_x\"].value_counts()"
   ]
  },
  {
   "cell_type": "code",
   "execution_count": 26,
   "metadata": {},
   "outputs": [
    {
     "data": {
      "text/plain": [
       "1891515180541284343    10\n",
       "1494519392962156891     1\n",
       "Name: ref_type_y, dtype: int64"
      ]
     },
     "execution_count": 26,
     "metadata": {},
     "output_type": "execute_result"
    }
   ],
   "source": [
    "clicksAndInstalls[\"ref_type_y\"].value_counts()"
   ]
  },
  {
   "cell_type": "code",
   "execution_count": 27,
   "metadata": {},
   "outputs": [
    {
     "data": {
      "text/plain": [
       "0     1891515180541284343\n",
       "1     1891515180541284343\n",
       "2     1891515180541284343\n",
       "3     1494519392962156891\n",
       "4     1891515180541284343\n",
       "5     1891515180541284343\n",
       "6     1891515180541284343\n",
       "7     1891515180541284343\n",
       "8     1891515180541284343\n",
       "9     1891515180541284343\n",
       "10    1891515180541284343\n",
       "Name: ref_type_x, dtype: int64"
      ]
     },
     "execution_count": 27,
     "metadata": {},
     "output_type": "execute_result"
    }
   ],
   "source": [
    "clicksAndInstalls[\"ref_type_x\"]"
   ]
  },
  {
   "cell_type": "code",
   "execution_count": 28,
   "metadata": {},
   "outputs": [
    {
     "data": {
      "text/plain": [
       "0     1891515180541284343\n",
       "1     1891515180541284343\n",
       "2     1891515180541284343\n",
       "3     1494519392962156891\n",
       "4     1891515180541284343\n",
       "5     1891515180541284343\n",
       "6     1891515180541284343\n",
       "7     1891515180541284343\n",
       "8     1891515180541284343\n",
       "9     1891515180541284343\n",
       "10    1891515180541284343\n",
       "Name: ref_type_y, dtype: int64"
      ]
     },
     "execution_count": 28,
     "metadata": {},
     "output_type": "execute_result"
    }
   ],
   "source": [
    "clicksAndInstalls[\"ref_type_y\"]"
   ]
  },
  {
   "cell_type": "code",
   "execution_count": 29,
   "metadata": {},
   "outputs": [
    {
     "data": {
      "text/plain": [
       "'los ref type coinciden'"
      ]
     },
     "execution_count": 29,
     "metadata": {},
     "output_type": "execute_result"
    }
   ],
   "source": [
    "\"\"\"los ref type coinciden\"\"\""
   ]
  },
  {
   "cell_type": "code",
   "execution_count": 30,
   "metadata": {},
   "outputs": [
    {
     "data": {
      "text/plain": [
       "'No se si sirven pero voy a hacer graficos de este nuevo dataframe que me quedo de 11 filas mezclando por ref hash'"
      ]
     },
     "execution_count": 30,
     "metadata": {},
     "output_type": "execute_result"
    }
   ],
   "source": [
    "\"\"\"No se si sirven pero voy a hacer graficos de este nuevo dataframe que me quedo de 11 filas mezclando por ref hash\"\"\""
   ]
  },
  {
   "cell_type": "code",
   "execution_count": null,
   "metadata": {},
   "outputs": [],
   "source": []
  }
 ],
 "metadata": {
  "kernelspec": {
   "display_name": "Python 3",
   "language": "python",
   "name": "python3"
  },
  "language_info": {
   "codemirror_mode": {
    "name": "ipython",
    "version": 3
   },
   "file_extension": ".py",
   "mimetype": "text/x-python",
   "name": "python",
   "nbconvert_exporter": "python",
   "pygments_lexer": "ipython3",
   "version": "3.7.1"
  }
 },
 "nbformat": 4,
 "nbformat_minor": 2
}

{
 "cells": [
  {
   "cell_type": "code",
   "execution_count": 1,
   "metadata": {},
   "outputs": [],
   "source": [
    "import pandas as pd\n",
    "import numpy as np\n",
    "import matplotlib.pyplot as plt"
   ]
  },
  {
   "cell_type": "code",
   "execution_count": 2,
   "metadata": {},
   "outputs": [],
   "source": [
    "installs = pd.read_csv('installs.csv', dtype ={'device_language' : 'str', 'click_hash': object, 'wifi': object, 'trans_id': object})"
   ]
  },
  {
   "cell_type": "code",
   "execution_count": 4,
   "metadata": {},
   "outputs": [
    {
     "data": {
      "text/plain": [
       "481511"
      ]
     },
     "execution_count": 4,
     "metadata": {},
     "output_type": "execute_result"
    }
   ],
   "source": [
    "len(installs)"
   ]
  },
  {
   "cell_type": "markdown",
   "metadata": {},
   "source": [
    "### Analizo columna por columna"
   ]
  },
  {
   "cell_type": "code",
   "execution_count": 5,
   "metadata": {},
   "outputs": [],
   "source": [
    "# No tiene sentido quedarse con el pais, porque es uno solo\n",
    "#No tiene sentido quedarse con la columna trans_id. El 98% de los valores son Null\n",
    "#No tiene sentido quedarse con click_hash, el 99% de los valors son null\n",
    "#No tiene sentido quedarse con event_uuid, el 78% de los valores son null\n",
    "#No tiene sentido quedarse con kind, el 78% de los valores son null\n",
    "#No tiene sentido quedarse con wifi, el 48% de los valores son null\n",
    "del installs['trans_id']\n",
    "del installs['device_countrycode']\n",
    "del installs['click_hash']\n",
    "del installs['event_uuid']\n",
    "del installs['kind']\n",
    "del installs['wifi']"
   ]
  },
  {
   "cell_type": "code",
   "execution_count": 6,
   "metadata": {},
   "outputs": [],
   "source": [
    "#¿Tiene sentido quedarse con la columna device_brand? El 42% de los valores son Null\n",
    "#¿Tiene sentido quedarse con la columna device_model? El 5% de los valores son Null\n",
    "#¿Tiene sentido quedarse con la columna session_user_agent? El 3% de los valores son Null\n",
    "#¿Tiene sentido quedarse con la columna user_agent? El 31% de los valores son Null\n",
    "#¿Tiene sentido quedarse con la columna device_language? El 5% de los valores son Null"
   ]
  },
  {
   "cell_type": "code",
   "execution_count": 7,
   "metadata": {},
   "outputs": [
    {
     "data": {
      "text/html": [
       "<div>\n",
       "<style>\n",
       "    .dataframe thead tr:only-child th {\n",
       "        text-align: right;\n",
       "    }\n",
       "\n",
       "    .dataframe thead th {\n",
       "        text-align: left;\n",
       "    }\n",
       "\n",
       "    .dataframe tbody tr th {\n",
       "        vertical-align: top;\n",
       "    }\n",
       "</style>\n",
       "<table border=\"1\" class=\"dataframe\">\n",
       "  <thead>\n",
       "    <tr style=\"text-align: right;\">\n",
       "      <th></th>\n",
       "      <th>created</th>\n",
       "      <th>application_id</th>\n",
       "      <th>ref_type</th>\n",
       "      <th>ref_hash</th>\n",
       "      <th>attributed</th>\n",
       "      <th>implicit</th>\n",
       "      <th>device_brand</th>\n",
       "      <th>device_model</th>\n",
       "      <th>session_user_agent</th>\n",
       "      <th>user_agent</th>\n",
       "      <th>ip_address</th>\n",
       "      <th>device_language</th>\n",
       "    </tr>\n",
       "  </thead>\n",
       "  <tbody>\n",
       "    <tr>\n",
       "      <th>0</th>\n",
       "      <td>2019-04-24 06:23:29.495</td>\n",
       "      <td>1</td>\n",
       "      <td>1494519392962156891</td>\n",
       "      <td>4716708407362582887</td>\n",
       "      <td>False</td>\n",
       "      <td>True</td>\n",
       "      <td>NaN</td>\n",
       "      <td>3.739127e+17</td>\n",
       "      <td>adjust.com</td>\n",
       "      <td>NaN</td>\n",
       "      <td>4243443387795468703</td>\n",
       "      <td>3.3013777759776993e+18</td>\n",
       "    </tr>\n",
       "    <tr>\n",
       "      <th>1</th>\n",
       "      <td>2019-04-24 02:06:01.032</td>\n",
       "      <td>1</td>\n",
       "      <td>1494519392962156891</td>\n",
       "      <td>7143568733100935872</td>\n",
       "      <td>False</td>\n",
       "      <td>False</td>\n",
       "      <td>NaN</td>\n",
       "      <td>7.805539e+18</td>\n",
       "      <td>adjust.com</td>\n",
       "      <td>NaN</td>\n",
       "      <td>4724288679627032761</td>\n",
       "      <td>3.3013777759776993e+18</td>\n",
       "    </tr>\n",
       "    <tr>\n",
       "      <th>2</th>\n",
       "      <td>2019-04-20 10:15:36.274</td>\n",
       "      <td>1</td>\n",
       "      <td>1494519392962156891</td>\n",
       "      <td>5230323462636548010</td>\n",
       "      <td>False</td>\n",
       "      <td>True</td>\n",
       "      <td>NaN</td>\n",
       "      <td>8.355496e+18</td>\n",
       "      <td>adjust.com</td>\n",
       "      <td>NaN</td>\n",
       "      <td>8291809486355890410</td>\n",
       "      <td>4.060929664968129e+18</td>\n",
       "    </tr>\n",
       "    <tr>\n",
       "      <th>3</th>\n",
       "      <td>2019-04-20 21:56:47.151</td>\n",
       "      <td>1</td>\n",
       "      <td>1494519392962156891</td>\n",
       "      <td>5097163995161606833</td>\n",
       "      <td>False</td>\n",
       "      <td>True</td>\n",
       "      <td>NaN</td>\n",
       "      <td>2.355772e+18</td>\n",
       "      <td>adjust.com</td>\n",
       "      <td>NaN</td>\n",
       "      <td>4006811922873399949</td>\n",
       "      <td>3.3013777759776993e+18</td>\n",
       "    </tr>\n",
       "    <tr>\n",
       "      <th>4</th>\n",
       "      <td>2019-04-20 22:40:41.239</td>\n",
       "      <td>1</td>\n",
       "      <td>1494519392962156891</td>\n",
       "      <td>6328027616411983332</td>\n",
       "      <td>False</td>\n",
       "      <td>False</td>\n",
       "      <td>NaN</td>\n",
       "      <td>6.156971e+18</td>\n",
       "      <td>adjust.com</td>\n",
       "      <td>NaN</td>\n",
       "      <td>3386455054590810771</td>\n",
       "      <td>3.3013777759776993e+18</td>\n",
       "    </tr>\n",
       "  </tbody>\n",
       "</table>\n",
       "</div>"
      ],
      "text/plain": [
       "                   created  application_id             ref_type  \\\n",
       "0  2019-04-24 06:23:29.495               1  1494519392962156891   \n",
       "1  2019-04-24 02:06:01.032               1  1494519392962156891   \n",
       "2  2019-04-20 10:15:36.274               1  1494519392962156891   \n",
       "3  2019-04-20 21:56:47.151               1  1494519392962156891   \n",
       "4  2019-04-20 22:40:41.239               1  1494519392962156891   \n",
       "\n",
       "              ref_hash  attributed  implicit  device_brand  device_model  \\\n",
       "0  4716708407362582887       False      True           NaN  3.739127e+17   \n",
       "1  7143568733100935872       False     False           NaN  7.805539e+18   \n",
       "2  5230323462636548010       False      True           NaN  8.355496e+18   \n",
       "3  5097163995161606833       False      True           NaN  2.355772e+18   \n",
       "4  6328027616411983332       False     False           NaN  6.156971e+18   \n",
       "\n",
       "  session_user_agent user_agent           ip_address         device_language  \n",
       "0         adjust.com        NaN  4243443387795468703  3.3013777759776993e+18  \n",
       "1         adjust.com        NaN  4724288679627032761  3.3013777759776993e+18  \n",
       "2         adjust.com        NaN  8291809486355890410   4.060929664968129e+18  \n",
       "3         adjust.com        NaN  4006811922873399949  3.3013777759776993e+18  \n",
       "4         adjust.com        NaN  3386455054590810771  3.3013777759776993e+18  "
      ]
     },
     "execution_count": 7,
     "metadata": {},
     "output_type": "execute_result"
    }
   ],
   "source": [
    "installs.head()"
   ]
  },
  {
   "cell_type": "code",
   "execution_count": 16,
   "metadata": {},
   "outputs": [
    {
     "data": {
      "text/plain": [
       "False    480369\n",
       "True       1142\n",
       "Name: attributed, dtype: int64"
      ]
     },
     "execution_count": 16,
     "metadata": {},
     "output_type": "execute_result"
    }
   ],
   "source": [
    "installs['attributed'].value_counts()"
   ]
  },
  {
   "cell_type": "code",
   "execution_count": 20,
   "metadata": {},
   "outputs": [
    {
     "data": {
      "text/plain": [
       "3225289966945059087    419\n",
       "6731755574901734021     85\n",
       "5098957481418445121     81\n",
       "3059497526785721451     80\n",
       "4368472372578406700     79\n",
       "534140818478898529      78\n",
       "7348165116261639272     77\n",
       "2500529188519389669     76\n",
       "1238078747236208843     75\n",
       "6005967273543220307     75\n",
       "3837404005946721588     75\n",
       "2240976103973915130     73\n",
       "7449616700993407986     71\n",
       "4467421107605677162     71\n",
       "5988038091440212562     71\n",
       "6155547034242719379     71\n",
       "3341704243072231815     70\n",
       "7930760176607796286     70\n",
       "3152886111726356998     70\n",
       "6919048263969168180     69\n",
       "2884705481566518180     69\n",
       "653240972862608991      69\n",
       "8923715572742096522     69\n",
       "7599166290674777058     69\n",
       "357331551948342680      69\n",
       "4551796825432509457     69\n",
       "1203092997405481259     69\n",
       "4879325039487127219     69\n",
       "729355286113621212      68\n",
       "3541753605508325425     68\n",
       "                      ... \n",
       "7155407651874848141      1\n",
       "8999108447355014987      1\n",
       "9163378060740186785      1\n",
       "4298643403635354462      1\n",
       "1636971848374970505      1\n",
       "6409061805980266892      1\n",
       "5905565440573862970      1\n",
       "8671713840091105022      1\n",
       "6272788689954596405      1\n",
       "4080883158333354738      1\n",
       "582043409145390870       1\n",
       "1323536597803784884      1\n",
       "5036744334721445395      1\n",
       "98686736528573119        1\n",
       "9071655598746490978      1\n",
       "4196387503607648308      1\n",
       "1961922665948027662      1\n",
       "1493266487853048529      1\n",
       "7078430177926420854      1\n",
       "4692661686953469505      1\n",
       "4131279032859881493      1\n",
       "6689469197271636544      1\n",
       "3975431055099010754      1\n",
       "7646001436905062578      1\n",
       "1369143476515507836      1\n",
       "4548388916356124655      1\n",
       "7055050428389833057      1\n",
       "2205653527807510279      1\n",
       "2962180520924491933      1\n",
       "4443693377929298846      1\n",
       "Name: ip_address, Length: 281130, dtype: int64"
      ]
     },
     "execution_count": 20,
     "metadata": {},
     "output_type": "execute_result"
    }
   ],
   "source": [
    "installs['ip_address'].value_counts()"
   ]
  },
  {
   "cell_type": "code",
   "execution_count": 21,
   "metadata": {},
   "outputs": [
    {
     "data": {
      "text/plain": [
       "906973248467925335     14\n",
       "5446085605337844584    14\n",
       "5230262481930094112    11\n",
       "6337720443035762926    11\n",
       "2328515224695623403    10\n",
       "2606457154952693990    10\n",
       "5472947665337192726    10\n",
       "6561273576987834801    10\n",
       "219227190150854721      9\n",
       "9109971999837032785     9\n",
       "5408621828551685669     9\n",
       "7237524265873908731     9\n",
       "1807534899273676584     9\n",
       "6595907804830813692     9\n",
       "6497746857412424011     9\n",
       "4492847986525253118     8\n",
       "7679037099193440428     8\n",
       "170944542706252604      8\n",
       "8027204936481769133     8\n",
       "8614757787140562038     8\n",
       "2589076269307849156     8\n",
       "7134328538361702031     8\n",
       "6188409696843366479     8\n",
       "5088289517478304879     8\n",
       "8919836551888221659     8\n",
       "1581855818518364041     8\n",
       "760948121451496594      8\n",
       "1325223003908486803     8\n",
       "7856863958601681798     8\n",
       "1887489139026062161     8\n",
       "                       ..\n",
       "8194542265255384946     1\n",
       "2626869191939234389     1\n",
       "9044642479115913161     1\n",
       "5936670555915722409     1\n",
       "9157448941821185595     1\n",
       "6105799964529757526     1\n",
       "4327132711547759490     1\n",
       "3632413891488645012     1\n",
       "59652544847790230       1\n",
       "6419745446007366042     1\n",
       "3457883989418320903     1\n",
       "2639023436372931451     1\n",
       "3422490949158365985     1\n",
       "5348881573556014445     1\n",
       "7003224150630900445     1\n",
       "1052782935269141271     1\n",
       "3051515474354361741     1\n",
       "1802977304687937624     1\n",
       "390835995110744098      1\n",
       "8219106901072037258     1\n",
       "3452908430055737869     1\n",
       "7469851067942383690     1\n",
       "5914438981991912688     1\n",
       "7776193495844952831     1\n",
       "4709647458447910963     1\n",
       "3300834462680651314     1\n",
       "5173259355810015464     1\n",
       "34485599444083497       1\n",
       "1770778990729817139     1\n",
       "9216202279098089935     1\n",
       "Name: ref_hash, Length: 393565, dtype: int64"
      ]
     },
     "execution_count": 21,
     "metadata": {},
     "output_type": "execute_result"
    }
   ],
   "source": [
    "installs['ref_hash'].value_counts()"
   ]
  },
  {
   "cell_type": "code",
   "execution_count": null,
   "metadata": {},
   "outputs": [],
   "source": []
  }
 ],
 "metadata": {
  "kernelspec": {
   "display_name": "Python 3",
   "language": "python",
   "name": "python3"
  },
  "language_info": {
   "codemirror_mode": {
    "name": "ipython",
    "version": 3
   },
   "file_extension": ".py",
   "mimetype": "text/x-python",
   "name": "python",
   "nbconvert_exporter": "python",
   "pygments_lexer": "ipython3",
   "version": "3.6.3"
  }
 },
 "nbformat": 4,
 "nbformat_minor": 2
}

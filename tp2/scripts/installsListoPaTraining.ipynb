{
 "cells": [
  {
   "cell_type": "code",
   "execution_count": 1,
   "metadata": {},
   "outputs": [],
   "source": [
    "import pandas as pd\n",
    "import numpy as np\n",
    "import matplotlib.pyplot as plt"
   ]
  },
  {
   "cell_type": "code",
   "execution_count": 2,
   "metadata": {},
   "outputs": [],
   "source": [
    "installs = pd.read_csv('../datos/installs.csv', dtype ={'click_hash': object, 'wifi': object, 'trans_id': object})"
   ]
  },
  {
   "cell_type": "markdown",
   "metadata": {},
   "source": [
    "### Analizo columna por columna"
   ]
  },
  {
   "cell_type": "code",
   "execution_count": 3,
   "metadata": {},
   "outputs": [],
   "source": [
    "# No tiene sentido quedarse con el pais, porque es uno solo\n",
    "#No tiene sentido quedarse con la columna trans_id. El 98% de los valores son Null\n",
    "#No tiene sentido quedarse con click_hash, el 99% de los valors son null\n",
    "#No tiene sentido quedarse con event_uuid, el 78% de los valores son null\n",
    "#No tiene sentido quedarse con kind, el 78% de los valores son null\n",
    "#No tiene sentido quedarse con wifi, el 48% de los valores son null\n",
    "#No tiene sentido quedarse con device_brand. El 42% son null\n",
    "#No tiene sentido quedarse con la columna user_agent El 31% de los valores son Null\n",
    "#¿Tiene sentido quedarse con la columna session_user_agent? El 3% de los valores son Null\n",
    "# session_user_agent tiene el 3% de los valores null. Borro esas filas\n",
    "del installs['trans_id']\n",
    "del installs['device_countrycode']\n",
    "del installs['click_hash']\n",
    "del installs['event_uuid']\n",
    "del installs['kind']\n",
    "del installs['wifi']\n",
    "del installs['device_brand']\n",
    "del installs['user_agent']\n",
    "del installs['session_user_agent']\n",
    "\n",
    "##Borro las filas que tienen null en device_model y device_language. Juntas son el 5% de las filas en null\n",
    "installs = installs[pd.notnull(installs['device_model'])]\n",
    "installs = installs[pd.notnull(installs['device_language'])]"
   ]
  },
  {
   "cell_type": "code",
   "execution_count": 4,
   "metadata": {},
   "outputs": [
    {
     "data": {
      "text/plain": [
       "created             object\n",
       "application_id       int64\n",
       "ref_type             int64\n",
       "ref_hash             int64\n",
       "attributed            bool\n",
       "implicit              bool\n",
       "device_model       float64\n",
       "ip_address           int64\n",
       "device_language    float64\n",
       "dtype: object"
      ]
     },
     "execution_count": 4,
     "metadata": {},
     "output_type": "execute_result"
    }
   ],
   "source": [
    "installs.dtypes"
   ]
  },
  {
   "cell_type": "code",
   "execution_count": 5,
   "metadata": {},
   "outputs": [
    {
     "data": {
      "text/plain": [
       "created            453354\n",
       "application_id     453354\n",
       "ref_type           453354\n",
       "ref_hash           453354\n",
       "attributed         453354\n",
       "implicit           453354\n",
       "device_model       453354\n",
       "ip_address         453354\n",
       "device_language    453354\n",
       "dtype: int64"
      ]
     },
     "execution_count": 5,
     "metadata": {},
     "output_type": "execute_result"
    }
   ],
   "source": [
    "installs.count()"
   ]
  },
  {
   "cell_type": "code",
   "execution_count": 6,
   "metadata": {},
   "outputs": [],
   "source": [
    "installs['created'] = pd.to_datetime(installs['created'], errors = 'coerce')"
   ]
  },
  {
   "cell_type": "code",
   "execution_count": 7,
   "metadata": {},
   "outputs": [],
   "source": [
    "installs = installs.sort_values(by = ['ref_hash', 'created'])"
   ]
  },
  {
   "cell_type": "code",
   "execution_count": 94,
   "metadata": {},
   "outputs": [],
   "source": [
    "clicks = pd.read_csv(\"../datos/clicks.csv\", low_memory=False)"
   ]
  },
  {
   "cell_type": "code",
   "execution_count": 95,
   "metadata": {},
   "outputs": [],
   "source": [
    "del clicks[\"action_id\"]#Son todos nulls\n",
    "del clicks[\"country_code\"] #Son todos del mismo pais\n",
    "del clicks[\"trans_id\"]#Son todos valores unico\n",
    "del clicks[\"agent_device\"]#Son casi todos nulls\n",
    "del clicks[\"brand\"]#Son casi todos nulls"
   ]
  },
  {
   "cell_type": "code",
   "execution_count": 96,
   "metadata": {},
   "outputs": [],
   "source": [
    "clicks[\"touchX\"] = clicks[\"touchX\"].astype(\"float32\")\n",
    "clicks[\"touchY\"] = clicks[\"touchY\"].astype(\"float32\")"
   ]
  },
  {
   "cell_type": "code",
   "execution_count": 100,
   "metadata": {},
   "outputs": [
    {
     "data": {
      "text/html": [
       "<div>\n",
       "<style scoped>\n",
       "    .dataframe tbody tr th:only-of-type {\n",
       "        vertical-align: middle;\n",
       "    }\n",
       "\n",
       "    .dataframe tbody tr th {\n",
       "        vertical-align: top;\n",
       "    }\n",
       "\n",
       "    .dataframe thead th {\n",
       "        text-align: right;\n",
       "    }\n",
       "</style>\n",
       "<table border=\"1\" class=\"dataframe\">\n",
       "  <thead>\n",
       "    <tr style=\"text-align: right;\">\n",
       "      <th></th>\n",
       "      <th>latitude</th>\n",
       "      <th>longitude</th>\n",
       "      <th>timeToClick</th>\n",
       "      <th>wifi_connection</th>\n",
       "    </tr>\n",
       "    <tr>\n",
       "      <th>ref_hash</th>\n",
       "      <th></th>\n",
       "      <th></th>\n",
       "      <th></th>\n",
       "      <th></th>\n",
       "    </tr>\n",
       "  </thead>\n",
       "  <tbody>\n",
       "    <tr>\n",
       "      <th>693609737448534</th>\n",
       "      <td>1.729651</td>\n",
       "      <td>0.849176</td>\n",
       "      <td>40.210000</td>\n",
       "      <td>1.000000</td>\n",
       "    </tr>\n",
       "    <tr>\n",
       "      <th>1461247282174365</th>\n",
       "      <td>1.716947</td>\n",
       "      <td>0.871203</td>\n",
       "      <td>229.257000</td>\n",
       "      <td>1.000000</td>\n",
       "    </tr>\n",
       "    <tr>\n",
       "      <th>1814167382111032</th>\n",
       "      <td>1.792518</td>\n",
       "      <td>0.866689</td>\n",
       "      <td>2.251000</td>\n",
       "      <td>0.000000</td>\n",
       "    </tr>\n",
       "    <tr>\n",
       "      <th>2204225481747532</th>\n",
       "      <td>1.714512</td>\n",
       "      <td>0.871062</td>\n",
       "      <td>1.920000</td>\n",
       "      <td>0.000000</td>\n",
       "    </tr>\n",
       "    <tr>\n",
       "      <th>3053562033305798</th>\n",
       "      <td>1.885801</td>\n",
       "      <td>0.815201</td>\n",
       "      <td>0.937500</td>\n",
       "      <td>1.000000</td>\n",
       "    </tr>\n",
       "    <tr>\n",
       "      <th>5197805394267564</th>\n",
       "      <td>1.744500</td>\n",
       "      <td>0.859585</td>\n",
       "      <td>20.016000</td>\n",
       "      <td>1.000000</td>\n",
       "    </tr>\n",
       "    <tr>\n",
       "      <th>5470466329076030</th>\n",
       "      <td>1.873294</td>\n",
       "      <td>0.844857</td>\n",
       "      <td>NaN</td>\n",
       "      <td>1.000000</td>\n",
       "    </tr>\n",
       "    <tr>\n",
       "      <th>5534899846690585</th>\n",
       "      <td>1.816352</td>\n",
       "      <td>0.833068</td>\n",
       "      <td>10.223000</td>\n",
       "      <td>1.000000</td>\n",
       "    </tr>\n",
       "    <tr>\n",
       "      <th>6380906313550611</th>\n",
       "      <td>1.701398</td>\n",
       "      <td>0.869526</td>\n",
       "      <td>1.524000</td>\n",
       "      <td>1.000000</td>\n",
       "    </tr>\n",
       "    <tr>\n",
       "      <th>7164788605058735</th>\n",
       "      <td>1.735196</td>\n",
       "      <td>0.861823</td>\n",
       "      <td>2.175000</td>\n",
       "      <td>1.000000</td>\n",
       "    </tr>\n",
       "    <tr>\n",
       "      <th>7429113196145773</th>\n",
       "      <td>1.792936</td>\n",
       "      <td>0.866687</td>\n",
       "      <td>6.813000</td>\n",
       "      <td>0.333333</td>\n",
       "    </tr>\n",
       "    <tr>\n",
       "      <th>7483677933998446</th>\n",
       "      <td>1.822148</td>\n",
       "      <td>0.829766</td>\n",
       "      <td>5027.940000</td>\n",
       "      <td>1.000000</td>\n",
       "    </tr>\n",
       "    <tr>\n",
       "      <th>8452408857001723</th>\n",
       "      <td>1.701285</td>\n",
       "      <td>0.869528</td>\n",
       "      <td>0.570000</td>\n",
       "      <td>1.000000</td>\n",
       "    </tr>\n",
       "    <tr>\n",
       "      <th>8577232270715133</th>\n",
       "      <td>1.712736</td>\n",
       "      <td>0.869157</td>\n",
       "      <td>NaN</td>\n",
       "      <td>1.000000</td>\n",
       "    </tr>\n",
       "    <tr>\n",
       "      <th>9199632172596045</th>\n",
       "      <td>1.714547</td>\n",
       "      <td>0.871535</td>\n",
       "      <td>1.368000</td>\n",
       "      <td>0.000000</td>\n",
       "    </tr>\n",
       "    <tr>\n",
       "      <th>10151602175762247</th>\n",
       "      <td>1.714512</td>\n",
       "      <td>0.871062</td>\n",
       "      <td>NaN</td>\n",
       "      <td>0.000000</td>\n",
       "    </tr>\n",
       "    <tr>\n",
       "      <th>10261987748713353</th>\n",
       "      <td>1.714241</td>\n",
       "      <td>0.860456</td>\n",
       "      <td>0.717667</td>\n",
       "      <td>1.000000</td>\n",
       "    </tr>\n",
       "    <tr>\n",
       "      <th>10561378909316625</th>\n",
       "      <td>1.686080</td>\n",
       "      <td>0.880132</td>\n",
       "      <td>159.922000</td>\n",
       "      <td>1.000000</td>\n",
       "    </tr>\n",
       "    <tr>\n",
       "      <th>10745840231746185</th>\n",
       "      <td>1.721731</td>\n",
       "      <td>0.865136</td>\n",
       "      <td>3116.688000</td>\n",
       "      <td>1.000000</td>\n",
       "    </tr>\n",
       "    <tr>\n",
       "      <th>10954770305551958</th>\n",
       "      <td>1.744644</td>\n",
       "      <td>0.859606</td>\n",
       "      <td>0.195000</td>\n",
       "      <td>1.000000</td>\n",
       "    </tr>\n",
       "    <tr>\n",
       "      <th>11041860037197738</th>\n",
       "      <td>1.885801</td>\n",
       "      <td>0.815201</td>\n",
       "      <td>NaN</td>\n",
       "      <td>1.000000</td>\n",
       "    </tr>\n",
       "    <tr>\n",
       "      <th>11447172392196885</th>\n",
       "      <td>1.789172</td>\n",
       "      <td>0.864158</td>\n",
       "      <td>0.241000</td>\n",
       "      <td>0.000000</td>\n",
       "    </tr>\n",
       "    <tr>\n",
       "      <th>12173926012891980</th>\n",
       "      <td>1.714512</td>\n",
       "      <td>0.871062</td>\n",
       "      <td>1.942500</td>\n",
       "      <td>0.000000</td>\n",
       "    </tr>\n",
       "    <tr>\n",
       "      <th>12240396390252142</th>\n",
       "      <td>1.884068</td>\n",
       "      <td>0.810355</td>\n",
       "      <td>0.239000</td>\n",
       "      <td>1.000000</td>\n",
       "    </tr>\n",
       "    <tr>\n",
       "      <th>12387603501478553</th>\n",
       "      <td>1.714237</td>\n",
       "      <td>0.871823</td>\n",
       "      <td>214.503000</td>\n",
       "      <td>1.000000</td>\n",
       "    </tr>\n",
       "    <tr>\n",
       "      <th>12552176992342593</th>\n",
       "      <td>1.714512</td>\n",
       "      <td>0.871062</td>\n",
       "      <td>75.630267</td>\n",
       "      <td>0.000000</td>\n",
       "    </tr>\n",
       "    <tr>\n",
       "      <th>12825186281597238</th>\n",
       "      <td>1.712800</td>\n",
       "      <td>0.872035</td>\n",
       "      <td>414.027500</td>\n",
       "      <td>1.000000</td>\n",
       "    </tr>\n",
       "    <tr>\n",
       "      <th>12910208644094312</th>\n",
       "      <td>1.792830</td>\n",
       "      <td>0.866928</td>\n",
       "      <td>1.648000</td>\n",
       "      <td>1.000000</td>\n",
       "    </tr>\n",
       "    <tr>\n",
       "      <th>13226048234548178</th>\n",
       "      <td>1.714573</td>\n",
       "      <td>0.871015</td>\n",
       "      <td>NaN</td>\n",
       "      <td>0.000000</td>\n",
       "    </tr>\n",
       "    <tr>\n",
       "      <th>13890486937640855</th>\n",
       "      <td>1.714512</td>\n",
       "      <td>0.871062</td>\n",
       "      <td>NaN</td>\n",
       "      <td>0.000000</td>\n",
       "    </tr>\n",
       "    <tr>\n",
       "      <th>...</th>\n",
       "      <td>...</td>\n",
       "      <td>...</td>\n",
       "      <td>...</td>\n",
       "      <td>...</td>\n",
       "    </tr>\n",
       "    <tr>\n",
       "      <th>9213379761278541904</th>\n",
       "      <td>1.709773</td>\n",
       "      <td>0.874554</td>\n",
       "      <td>126.806500</td>\n",
       "      <td>1.000000</td>\n",
       "    </tr>\n",
       "    <tr>\n",
       "      <th>9213933658664084182</th>\n",
       "      <td>1.714512</td>\n",
       "      <td>0.871062</td>\n",
       "      <td>174.883000</td>\n",
       "      <td>1.000000</td>\n",
       "    </tr>\n",
       "    <tr>\n",
       "      <th>9214666669829833350</th>\n",
       "      <td>1.683617</td>\n",
       "      <td>0.868367</td>\n",
       "      <td>NaN</td>\n",
       "      <td>0.666667</td>\n",
       "    </tr>\n",
       "    <tr>\n",
       "      <th>9214980428910516962</th>\n",
       "      <td>1.729655</td>\n",
       "      <td>0.855730</td>\n",
       "      <td>NaN</td>\n",
       "      <td>0.000000</td>\n",
       "    </tr>\n",
       "    <tr>\n",
       "      <th>9216062409620701548</th>\n",
       "      <td>1.735086</td>\n",
       "      <td>0.861811</td>\n",
       "      <td>2.497000</td>\n",
       "      <td>1.000000</td>\n",
       "    </tr>\n",
       "    <tr>\n",
       "      <th>9216759327028712393</th>\n",
       "      <td>1.733375</td>\n",
       "      <td>0.908130</td>\n",
       "      <td>2.124000</td>\n",
       "      <td>0.000000</td>\n",
       "    </tr>\n",
       "    <tr>\n",
       "      <th>9217129882178730989</th>\n",
       "      <td>1.716947</td>\n",
       "      <td>0.871203</td>\n",
       "      <td>10.339000</td>\n",
       "      <td>1.000000</td>\n",
       "    </tr>\n",
       "    <tr>\n",
       "      <th>9217200070675178904</th>\n",
       "      <td>1.714512</td>\n",
       "      <td>0.871062</td>\n",
       "      <td>104.001000</td>\n",
       "      <td>1.000000</td>\n",
       "    </tr>\n",
       "    <tr>\n",
       "      <th>9217431991133200559</th>\n",
       "      <td>1.770240</td>\n",
       "      <td>0.868073</td>\n",
       "      <td>390.118500</td>\n",
       "      <td>0.714286</td>\n",
       "    </tr>\n",
       "    <tr>\n",
       "      <th>9217432779744812448</th>\n",
       "      <td>1.714547</td>\n",
       "      <td>0.871535</td>\n",
       "      <td>NaN</td>\n",
       "      <td>0.000000</td>\n",
       "    </tr>\n",
       "    <tr>\n",
       "      <th>9217722208180335582</th>\n",
       "      <td>1.816877</td>\n",
       "      <td>0.869521</td>\n",
       "      <td>2.488000</td>\n",
       "      <td>1.000000</td>\n",
       "    </tr>\n",
       "    <tr>\n",
       "      <th>9217751448828400603</th>\n",
       "      <td>1.714512</td>\n",
       "      <td>0.871062</td>\n",
       "      <td>NaN</td>\n",
       "      <td>0.000000</td>\n",
       "    </tr>\n",
       "    <tr>\n",
       "      <th>9217948146526016429</th>\n",
       "      <td>1.715050</td>\n",
       "      <td>0.870687</td>\n",
       "      <td>NaN</td>\n",
       "      <td>1.000000</td>\n",
       "    </tr>\n",
       "    <tr>\n",
       "      <th>9217998939753755880</th>\n",
       "      <td>1.779620</td>\n",
       "      <td>0.842005</td>\n",
       "      <td>0.327000</td>\n",
       "      <td>1.000000</td>\n",
       "    </tr>\n",
       "    <tr>\n",
       "      <th>9218343761928233215</th>\n",
       "      <td>1.709773</td>\n",
       "      <td>0.874554</td>\n",
       "      <td>30.209000</td>\n",
       "      <td>1.000000</td>\n",
       "    </tr>\n",
       "    <tr>\n",
       "      <th>9218755563310337421</th>\n",
       "      <td>1.686080</td>\n",
       "      <td>0.880132</td>\n",
       "      <td>NaN</td>\n",
       "      <td>1.000000</td>\n",
       "    </tr>\n",
       "    <tr>\n",
       "      <th>9219317754784541849</th>\n",
       "      <td>1.727099</td>\n",
       "      <td>0.895932</td>\n",
       "      <td>123.432333</td>\n",
       "      <td>0.333333</td>\n",
       "    </tr>\n",
       "    <tr>\n",
       "      <th>9219318654980271103</th>\n",
       "      <td>1.709773</td>\n",
       "      <td>0.874554</td>\n",
       "      <td>1.635333</td>\n",
       "      <td>0.000000</td>\n",
       "    </tr>\n",
       "    <tr>\n",
       "      <th>9219377290048922133</th>\n",
       "      <td>1.729224</td>\n",
       "      <td>0.866344</td>\n",
       "      <td>1.384000</td>\n",
       "      <td>0.000000</td>\n",
       "    </tr>\n",
       "    <tr>\n",
       "      <th>9219577127061936159</th>\n",
       "      <td>1.792518</td>\n",
       "      <td>0.866689</td>\n",
       "      <td>46.229500</td>\n",
       "      <td>0.000000</td>\n",
       "    </tr>\n",
       "    <tr>\n",
       "      <th>9219959161450492233</th>\n",
       "      <td>1.714386</td>\n",
       "      <td>0.871408</td>\n",
       "      <td>26.341000</td>\n",
       "      <td>1.000000</td>\n",
       "    </tr>\n",
       "    <tr>\n",
       "      <th>9220645130750654331</th>\n",
       "      <td>1.884068</td>\n",
       "      <td>0.810355</td>\n",
       "      <td>NaN</td>\n",
       "      <td>0.000000</td>\n",
       "    </tr>\n",
       "    <tr>\n",
       "      <th>9221181791793623431</th>\n",
       "      <td>1.761357</td>\n",
       "      <td>0.845152</td>\n",
       "      <td>NaN</td>\n",
       "      <td>1.000000</td>\n",
       "    </tr>\n",
       "    <tr>\n",
       "      <th>9221238196014806639</th>\n",
       "      <td>1.712142</td>\n",
       "      <td>0.872808</td>\n",
       "      <td>NaN</td>\n",
       "      <td>0.500000</td>\n",
       "    </tr>\n",
       "    <tr>\n",
       "      <th>9222254302684414708</th>\n",
       "      <td>1.714512</td>\n",
       "      <td>0.871062</td>\n",
       "      <td>9.589000</td>\n",
       "      <td>1.000000</td>\n",
       "    </tr>\n",
       "    <tr>\n",
       "      <th>9222522974949986044</th>\n",
       "      <td>1.714512</td>\n",
       "      <td>0.871062</td>\n",
       "      <td>0.449000</td>\n",
       "      <td>0.000000</td>\n",
       "    </tr>\n",
       "    <tr>\n",
       "      <th>9222830073132521659</th>\n",
       "      <td>1.720799</td>\n",
       "      <td>0.883418</td>\n",
       "      <td>260.583000</td>\n",
       "      <td>0.666667</td>\n",
       "    </tr>\n",
       "    <tr>\n",
       "      <th>9223189551280812934</th>\n",
       "      <td>1.714547</td>\n",
       "      <td>0.871535</td>\n",
       "      <td>1.398000</td>\n",
       "      <td>0.000000</td>\n",
       "    </tr>\n",
       "    <tr>\n",
       "      <th>9223229584859890420</th>\n",
       "      <td>1.729180</td>\n",
       "      <td>0.855459</td>\n",
       "      <td>119.791000</td>\n",
       "      <td>1.000000</td>\n",
       "    </tr>\n",
       "    <tr>\n",
       "      <th>9223285798152466987</th>\n",
       "      <td>1.733472</td>\n",
       "      <td>0.908199</td>\n",
       "      <td>52.814000</td>\n",
       "      <td>1.000000</td>\n",
       "    </tr>\n",
       "  </tbody>\n",
       "</table>\n",
       "<p>31809 rows × 4 columns</p>\n",
       "</div>"
      ],
      "text/plain": [
       "                     latitude  longitude  timeToClick  wifi_connection\n",
       "ref_hash                                                              \n",
       "693609737448534      1.729651   0.849176    40.210000         1.000000\n",
       "1461247282174365     1.716947   0.871203   229.257000         1.000000\n",
       "1814167382111032     1.792518   0.866689     2.251000         0.000000\n",
       "2204225481747532     1.714512   0.871062     1.920000         0.000000\n",
       "3053562033305798     1.885801   0.815201     0.937500         1.000000\n",
       "5197805394267564     1.744500   0.859585    20.016000         1.000000\n",
       "5470466329076030     1.873294   0.844857          NaN         1.000000\n",
       "5534899846690585     1.816352   0.833068    10.223000         1.000000\n",
       "6380906313550611     1.701398   0.869526     1.524000         1.000000\n",
       "7164788605058735     1.735196   0.861823     2.175000         1.000000\n",
       "7429113196145773     1.792936   0.866687     6.813000         0.333333\n",
       "7483677933998446     1.822148   0.829766  5027.940000         1.000000\n",
       "8452408857001723     1.701285   0.869528     0.570000         1.000000\n",
       "8577232270715133     1.712736   0.869157          NaN         1.000000\n",
       "9199632172596045     1.714547   0.871535     1.368000         0.000000\n",
       "10151602175762247    1.714512   0.871062          NaN         0.000000\n",
       "10261987748713353    1.714241   0.860456     0.717667         1.000000\n",
       "10561378909316625    1.686080   0.880132   159.922000         1.000000\n",
       "10745840231746185    1.721731   0.865136  3116.688000         1.000000\n",
       "10954770305551958    1.744644   0.859606     0.195000         1.000000\n",
       "11041860037197738    1.885801   0.815201          NaN         1.000000\n",
       "11447172392196885    1.789172   0.864158     0.241000         0.000000\n",
       "12173926012891980    1.714512   0.871062     1.942500         0.000000\n",
       "12240396390252142    1.884068   0.810355     0.239000         1.000000\n",
       "12387603501478553    1.714237   0.871823   214.503000         1.000000\n",
       "12552176992342593    1.714512   0.871062    75.630267         0.000000\n",
       "12825186281597238    1.712800   0.872035   414.027500         1.000000\n",
       "12910208644094312    1.792830   0.866928     1.648000         1.000000\n",
       "13226048234548178    1.714573   0.871015          NaN         0.000000\n",
       "13890486937640855    1.714512   0.871062          NaN         0.000000\n",
       "...                       ...        ...          ...              ...\n",
       "9213379761278541904  1.709773   0.874554   126.806500         1.000000\n",
       "9213933658664084182  1.714512   0.871062   174.883000         1.000000\n",
       "9214666669829833350  1.683617   0.868367          NaN         0.666667\n",
       "9214980428910516962  1.729655   0.855730          NaN         0.000000\n",
       "9216062409620701548  1.735086   0.861811     2.497000         1.000000\n",
       "9216759327028712393  1.733375   0.908130     2.124000         0.000000\n",
       "9217129882178730989  1.716947   0.871203    10.339000         1.000000\n",
       "9217200070675178904  1.714512   0.871062   104.001000         1.000000\n",
       "9217431991133200559  1.770240   0.868073   390.118500         0.714286\n",
       "9217432779744812448  1.714547   0.871535          NaN         0.000000\n",
       "9217722208180335582  1.816877   0.869521     2.488000         1.000000\n",
       "9217751448828400603  1.714512   0.871062          NaN         0.000000\n",
       "9217948146526016429  1.715050   0.870687          NaN         1.000000\n",
       "9217998939753755880  1.779620   0.842005     0.327000         1.000000\n",
       "9218343761928233215  1.709773   0.874554    30.209000         1.000000\n",
       "9218755563310337421  1.686080   0.880132          NaN         1.000000\n",
       "9219317754784541849  1.727099   0.895932   123.432333         0.333333\n",
       "9219318654980271103  1.709773   0.874554     1.635333         0.000000\n",
       "9219377290048922133  1.729224   0.866344     1.384000         0.000000\n",
       "9219577127061936159  1.792518   0.866689    46.229500         0.000000\n",
       "9219959161450492233  1.714386   0.871408    26.341000         1.000000\n",
       "9220645130750654331  1.884068   0.810355          NaN         0.000000\n",
       "9221181791793623431  1.761357   0.845152          NaN         1.000000\n",
       "9221238196014806639  1.712142   0.872808          NaN         0.500000\n",
       "9222254302684414708  1.714512   0.871062     9.589000         1.000000\n",
       "9222522974949986044  1.714512   0.871062     0.449000         0.000000\n",
       "9222830073132521659  1.720799   0.883418   260.583000         0.666667\n",
       "9223189551280812934  1.714547   0.871535     1.398000         0.000000\n",
       "9223229584859890420  1.729180   0.855459   119.791000         1.000000\n",
       "9223285798152466987  1.733472   0.908199    52.814000         1.000000\n",
       "\n",
       "[31809 rows x 4 columns]"
      ]
     },
     "execution_count": 100,
     "metadata": {},
     "output_type": "execute_result"
    }
   ],
   "source": [
    "clicks.groupby('ref_hash').agg({'latitude': 'mean', 'longitude' : 'mean', 'timeToClick' : 'mean', 'wifi_connection' : 'mean'})"
   ]
  },
  {
   "cell_type": "code",
   "execution_count": null,
   "metadata": {},
   "outputs": [],
   "source": []
  },
  {
   "cell_type": "markdown",
   "metadata": {},
   "source": [
    "## Creo las ventanas"
   ]
  },
  {
   "cell_type": "code",
   "execution_count": 9,
   "metadata": {},
   "outputs": [],
   "source": [
    "installs1 = installs[(installs['created'].dt.day < 21)]\n",
    "installs2 = installs[(installs['created'].dt.day > 18) & (installs['created'].dt.day < 22)]\n",
    "installs3 = installs[(installs['created'].dt.day > 19) & (installs['created'].dt.day < 23)]\n",
    "installs4 = installs[(installs['created'].dt.day > 20) & (installs['created'].dt.day < 24)]\n",
    "installs5 = installs[(installs['created'].dt.day > 21) & (installs['created'].dt.day < 25)]"
   ]
  },
  {
   "cell_type": "code",
   "execution_count": 10,
   "metadata": {},
   "outputs": [],
   "source": [
    "installsCheck1 = installs[(installs['created'].dt.day > 20) & (installs['created'].dt.day < 23)]\n",
    "installsCheck2 = installs[(installs['created'].dt.day > 21) & (installs['created'].dt.day < 24)]\n",
    "installsCheck3 = installs[(installs['created'].dt.day > 22) & (installs['created'].dt.day < 25)]\n",
    "installsCheck4 = installs[(installs['created'].dt.day > 23) & (installs['created'].dt.day < 26)]\n",
    "installsCheck5 = installs[(installs['created'].dt.day > 24) & (installs['created'].dt.day < 27)]"
   ]
  },
  {
   "cell_type": "code",
   "execution_count": 11,
   "metadata": {
    "collapsed": true
   },
   "outputs": [
    {
     "name": "stderr",
     "output_type": "stream",
     "text": [
      "/home/fede/anaconda3/lib/python3.7/site-packages/ipykernel_launcher.py:1: SettingWithCopyWarning: \n",
      "A value is trying to be set on a copy of a slice from a DataFrame.\n",
      "Try using .loc[row_indexer,col_indexer] = value instead\n",
      "\n",
      "See the caveats in the documentation: http://pandas.pydata.org/pandas-docs/stable/indexing.html#indexing-view-versus-copy\n",
      "  \"\"\"Entry point for launching an IPython kernel.\n",
      "/home/fede/anaconda3/lib/python3.7/site-packages/ipykernel_launcher.py:2: SettingWithCopyWarning: \n",
      "A value is trying to be set on a copy of a slice from a DataFrame.\n",
      "Try using .loc[row_indexer,col_indexer] = value instead\n",
      "\n",
      "See the caveats in the documentation: http://pandas.pydata.org/pandas-docs/stable/indexing.html#indexing-view-versus-copy\n",
      "  \n",
      "/home/fede/anaconda3/lib/python3.7/site-packages/ipykernel_launcher.py:3: SettingWithCopyWarning: \n",
      "A value is trying to be set on a copy of a slice from a DataFrame.\n",
      "Try using .loc[row_indexer,col_indexer] = value instead\n",
      "\n",
      "See the caveats in the documentation: http://pandas.pydata.org/pandas-docs/stable/indexing.html#indexing-view-versus-copy\n",
      "  This is separate from the ipykernel package so we can avoid doing imports until\n",
      "/home/fede/anaconda3/lib/python3.7/site-packages/ipykernel_launcher.py:4: SettingWithCopyWarning: \n",
      "A value is trying to be set on a copy of a slice from a DataFrame.\n",
      "Try using .loc[row_indexer,col_indexer] = value instead\n",
      "\n",
      "See the caveats in the documentation: http://pandas.pydata.org/pandas-docs/stable/indexing.html#indexing-view-versus-copy\n",
      "  after removing the cwd from sys.path.\n",
      "/home/fede/anaconda3/lib/python3.7/site-packages/ipykernel_launcher.py:5: SettingWithCopyWarning: \n",
      "A value is trying to be set on a copy of a slice from a DataFrame.\n",
      "Try using .loc[row_indexer,col_indexer] = value instead\n",
      "\n",
      "See the caveats in the documentation: http://pandas.pydata.org/pandas-docs/stable/indexing.html#indexing-view-versus-copy\n",
      "  \"\"\"\n"
     ]
    }
   ],
   "source": [
    "installs1['sc'] = (installs1['created'] - pd.to_datetime('2019-04-18'))/np.timedelta64(1,'s')\n",
    "installs2['sc'] = (installs2['created'] - pd.to_datetime('2019-04-19'))/np.timedelta64(1,'s')\n",
    "installs3['sc'] = (installs3['created'] - pd.to_datetime('2019-04-20'))/np.timedelta64(1,'s')\n",
    "installs4['sc'] = (installs4['created'] - pd.to_datetime('2019-04-21'))/np.timedelta64(1,'s')\n",
    "installs4['sc'] = (installs4['created'] - pd.to_datetime('2019-04-22'))/np.timedelta64(1,'s')"
   ]
  },
  {
   "cell_type": "code",
   "execution_count": 12,
   "metadata": {
    "collapsed": true
   },
   "outputs": [
    {
     "name": "stderr",
     "output_type": "stream",
     "text": [
      "/home/fede/anaconda3/lib/python3.7/site-packages/ipykernel_launcher.py:1: SettingWithCopyWarning: \n",
      "A value is trying to be set on a copy of a slice from a DataFrame.\n",
      "Try using .loc[row_indexer,col_indexer] = value instead\n",
      "\n",
      "See the caveats in the documentation: http://pandas.pydata.org/pandas-docs/stable/indexing.html#indexing-view-versus-copy\n",
      "  \"\"\"Entry point for launching an IPython kernel.\n",
      "/home/fede/anaconda3/lib/python3.7/site-packages/ipykernel_launcher.py:2: SettingWithCopyWarning: \n",
      "A value is trying to be set on a copy of a slice from a DataFrame.\n",
      "Try using .loc[row_indexer,col_indexer] = value instead\n",
      "\n",
      "See the caveats in the documentation: http://pandas.pydata.org/pandas-docs/stable/indexing.html#indexing-view-versus-copy\n",
      "  \n",
      "/home/fede/anaconda3/lib/python3.7/site-packages/ipykernel_launcher.py:3: SettingWithCopyWarning: \n",
      "A value is trying to be set on a copy of a slice from a DataFrame.\n",
      "Try using .loc[row_indexer,col_indexer] = value instead\n",
      "\n",
      "See the caveats in the documentation: http://pandas.pydata.org/pandas-docs/stable/indexing.html#indexing-view-versus-copy\n",
      "  This is separate from the ipykernel package so we can avoid doing imports until\n",
      "/home/fede/anaconda3/lib/python3.7/site-packages/ipykernel_launcher.py:4: SettingWithCopyWarning: \n",
      "A value is trying to be set on a copy of a slice from a DataFrame.\n",
      "Try using .loc[row_indexer,col_indexer] = value instead\n",
      "\n",
      "See the caveats in the documentation: http://pandas.pydata.org/pandas-docs/stable/indexing.html#indexing-view-versus-copy\n",
      "  after removing the cwd from sys.path.\n",
      "/home/fede/anaconda3/lib/python3.7/site-packages/ipykernel_launcher.py:5: SettingWithCopyWarning: \n",
      "A value is trying to be set on a copy of a slice from a DataFrame.\n",
      "Try using .loc[row_indexer,col_indexer] = value instead\n",
      "\n",
      "See the caveats in the documentation: http://pandas.pydata.org/pandas-docs/stable/indexing.html#indexing-view-versus-copy\n",
      "  \"\"\"\n"
     ]
    }
   ],
   "source": [
    "installsCheck1['sc'] = (installsCheck1['created'] - pd.to_datetime('2019-04-21'))/np.timedelta64(1,'s')\n",
    "installsCheck2['sc'] = (installsCheck2['created'] - pd.to_datetime('2019-04-22'))/np.timedelta64(1,'s')\n",
    "installsCheck3['sc'] = (installsCheck3['created'] - pd.to_datetime('2019-04-23'))/np.timedelta64(1,'s')\n",
    "installsCheck4['sc'] = (installsCheck4['created'] - pd.to_datetime('2019-04-24'))/np.timedelta64(1,'s')\n",
    "installsCheck4['sc'] = (installsCheck4['created'] - pd.to_datetime('2019-04-25'))/np.timedelta64(1,'s')"
   ]
  },
  {
   "cell_type": "code",
   "execution_count": 13,
   "metadata": {},
   "outputs": [],
   "source": [
    "installs1 = installs1.drop_duplicates('ref_hash', keep = 'first')\n",
    "installs2 = installs1.drop_duplicates('ref_hash', keep = 'first')\n",
    "installs3 = installs1.drop_duplicates('ref_hash', keep = 'first')\n",
    "installs4 = installs1.drop_duplicates('ref_hash', keep = 'first')\n",
    "installs5 = installs1.drop_duplicates('ref_hash', keep = 'first')\n",
    "installsCheck1 = installsCheck1.drop_duplicates('ref_hash', keep = 'first')\n",
    "installsCheck2 = installsCheck1.drop_duplicates('ref_hash', keep = 'first')\n",
    "installsCheck3 = installsCheck1.drop_duplicates('ref_hash', keep = 'first')\n",
    "installsCheck4 = installsCheck1.drop_duplicates('ref_hash', keep = 'first')\n",
    "installsCheck5 = installsCheck1.drop_duplicates('ref_hash', keep = 'first')"
   ]
  },
  {
   "cell_type": "code",
   "execution_count": 14,
   "metadata": {},
   "outputs": [],
   "source": [
    "del installs1['created']\n",
    "del installs2['created']\n",
    "del installs3['created']\n",
    "del installs4['created']\n",
    "del installs5['created']\n",
    "del installsCheck1['created']\n",
    "del installsCheck2['created']\n",
    "del installsCheck3['created']\n",
    "del installsCheck4['created']\n",
    "del installsCheck5['created']"
   ]
  },
  {
   "cell_type": "code",
   "execution_count": 15,
   "metadata": {},
   "outputs": [
    {
     "data": {
      "text/html": [
       "<div>\n",
       "<style scoped>\n",
       "    .dataframe tbody tr th:only-of-type {\n",
       "        vertical-align: middle;\n",
       "    }\n",
       "\n",
       "    .dataframe tbody tr th {\n",
       "        vertical-align: top;\n",
       "    }\n",
       "\n",
       "    .dataframe thead th {\n",
       "        text-align: right;\n",
       "    }\n",
       "</style>\n",
       "<table border=\"1\" class=\"dataframe\">\n",
       "  <thead>\n",
       "    <tr style=\"text-align: right;\">\n",
       "      <th></th>\n",
       "      <th>application_id</th>\n",
       "      <th>ref_type</th>\n",
       "      <th>ref_hash</th>\n",
       "      <th>attributed</th>\n",
       "      <th>implicit</th>\n",
       "      <th>device_model</th>\n",
       "      <th>ip_address</th>\n",
       "      <th>device_language</th>\n",
       "      <th>sc</th>\n",
       "    </tr>\n",
       "  </thead>\n",
       "  <tbody>\n",
       "    <tr>\n",
       "      <th>46742</th>\n",
       "      <td>77</td>\n",
       "      <td>1891515180541284343</td>\n",
       "      <td>40621409780134</td>\n",
       "      <td>False</td>\n",
       "      <td>False</td>\n",
       "      <td>2.019322e+18</td>\n",
       "      <td>990380024993756535</td>\n",
       "      <td>3.301378e+18</td>\n",
       "      <td>69467.657</td>\n",
       "    </tr>\n",
       "    <tr>\n",
       "      <th>418098</th>\n",
       "      <td>65</td>\n",
       "      <td>1891515180541284343</td>\n",
       "      <td>161514654074162</td>\n",
       "      <td>False</td>\n",
       "      <td>True</td>\n",
       "      <td>6.684966e+18</td>\n",
       "      <td>7251732924179152213</td>\n",
       "      <td>6.977049e+18</td>\n",
       "      <td>152024.805</td>\n",
       "    </tr>\n",
       "    <tr>\n",
       "      <th>198205</th>\n",
       "      <td>155</td>\n",
       "      <td>1891515180541284343</td>\n",
       "      <td>168103949904656</td>\n",
       "      <td>False</td>\n",
       "      <td>False</td>\n",
       "      <td>1.816356e+18</td>\n",
       "      <td>2759827436407391547</td>\n",
       "      <td>3.301378e+18</td>\n",
       "      <td>86973.188</td>\n",
       "    </tr>\n",
       "    <tr>\n",
       "      <th>374761</th>\n",
       "      <td>210</td>\n",
       "      <td>1891515180541284343</td>\n",
       "      <td>283297668933729</td>\n",
       "      <td>False</td>\n",
       "      <td>False</td>\n",
       "      <td>1.805456e+18</td>\n",
       "      <td>3663507817982540667</td>\n",
       "      <td>3.301378e+18</td>\n",
       "      <td>135729.476</td>\n",
       "    </tr>\n",
       "    <tr>\n",
       "      <th>154739</th>\n",
       "      <td>155</td>\n",
       "      <td>1891515180541284343</td>\n",
       "      <td>345999128501141</td>\n",
       "      <td>False</td>\n",
       "      <td>False</td>\n",
       "      <td>1.709140e+17</td>\n",
       "      <td>8701462141750383338</td>\n",
       "      <td>3.301378e+18</td>\n",
       "      <td>15578.532</td>\n",
       "    </tr>\n",
       "  </tbody>\n",
       "</table>\n",
       "</div>"
      ],
      "text/plain": [
       "        application_id             ref_type         ref_hash  attributed  \\\n",
       "46742               77  1891515180541284343   40621409780134       False   \n",
       "418098              65  1891515180541284343  161514654074162       False   \n",
       "198205             155  1891515180541284343  168103949904656       False   \n",
       "374761             210  1891515180541284343  283297668933729       False   \n",
       "154739             155  1891515180541284343  345999128501141       False   \n",
       "\n",
       "        implicit  device_model           ip_address  device_language  \\\n",
       "46742      False  2.019322e+18   990380024993756535     3.301378e+18   \n",
       "418098      True  6.684966e+18  7251732924179152213     6.977049e+18   \n",
       "198205     False  1.816356e+18  2759827436407391547     3.301378e+18   \n",
       "374761     False  1.805456e+18  3663507817982540667     3.301378e+18   \n",
       "154739     False  1.709140e+17  8701462141750383338     3.301378e+18   \n",
       "\n",
       "                sc  \n",
       "46742    69467.657  \n",
       "418098  152024.805  \n",
       "198205   86973.188  \n",
       "374761  135729.476  \n",
       "154739   15578.532  "
      ]
     },
     "execution_count": 15,
     "metadata": {},
     "output_type": "execute_result"
    }
   ],
   "source": [
    "installsCheck1.head()"
   ]
  },
  {
   "cell_type": "code",
   "execution_count": 16,
   "metadata": {},
   "outputs": [],
   "source": [
    "import xgboost as xgb\n",
    "from sklearn.metrics import mean_squared_error"
   ]
  },
  {
   "cell_type": "code",
   "execution_count": null,
   "metadata": {},
   "outputs": [],
   "source": []
  },
  {
   "cell_type": "code",
   "execution_count": 18,
   "metadata": {},
   "outputs": [
    {
     "data": {
      "text/plain": [
       "Index(['application_id', 'ref_type', 'ref_hash', 'attributed', 'implicit',\n",
       "       'device_model', 'ip_address', 'device_language'],\n",
       "      dtype='object')"
      ]
     },
     "execution_count": 18,
     "metadata": {},
     "output_type": "execute_result"
    }
   ],
   "source": [
    "installs1.iloc[:,:-1].columns"
   ]
  },
  {
   "cell_type": "code",
   "execution_count": 19,
   "metadata": {},
   "outputs": [
    {
     "name": "stderr",
     "output_type": "stream",
     "text": [
      "/home/fede/anaconda3/lib/python3.7/site-packages/xgboost/core.py:587: FutureWarning: Series.base is deprecated and will be removed in a future version\n",
      "  if getattr(data, 'base', None) is not None and \\\n",
      "/home/fede/anaconda3/lib/python3.7/site-packages/xgboost/core.py:588: FutureWarning: Series.base is deprecated and will be removed in a future version\n",
      "  data.base is not None and isinstance(data, np.ndarray) \\\n"
     ]
    }
   ],
   "source": [
    "X, y = installs1.iloc[:,:-1], installs1.iloc[:,-1]\n",
    "data_dmatrix = xgb.DMatrix(data=X,label=y)\n",
    "xg_reg = xgb.XGBRegressor(objective ='reg:squarederror', \n",
    "                colsample_bytree = 0.2, learning_rate = 0.1,\n",
    "                max_depth = 5, alpha =10, n_estimators = 10, random_state=123)"
   ]
  },
  {
   "cell_type": "code",
   "execution_count": 20,
   "metadata": {},
   "outputs": [
    {
     "data": {
      "text/plain": [
       "XGBRegressor(alpha=10, base_score=0.5, booster='gbtree', colsample_bylevel=1,\n",
       "       colsample_bynode=1, colsample_bytree=0.2, gamma=0,\n",
       "       importance_type='gain', learning_rate=0.1, max_delta_step=0,\n",
       "       max_depth=5, min_child_weight=1, missing=None, n_estimators=10,\n",
       "       n_jobs=1, nthread=None, objective='reg:squarederror',\n",
       "       random_state=123, reg_alpha=0, reg_lambda=1, scale_pos_weight=1,\n",
       "       seed=None, silent=None, subsample=1, verbosity=1)"
      ]
     },
     "execution_count": 20,
     "metadata": {},
     "output_type": "execute_result"
    }
   ],
   "source": [
    "xg_reg.fit(X, y)"
   ]
  },
  {
   "cell_type": "code",
   "execution_count": 21,
   "metadata": {},
   "outputs": [],
   "source": [
    "preds = xg_reg.predict(installsCheck1.iloc[:,:-1])"
   ]
  },
  {
   "cell_type": "code",
   "execution_count": 22,
   "metadata": {
    "scrolled": true
   },
   "outputs": [
    {
     "name": "stdout",
     "output_type": "stream",
     "text": [
      "RMSE: 52429.322664\n"
     ]
    }
   ],
   "source": [
    "rmse = np.sqrt(mean_squared_error(installsCheck1.iloc[:,-1], preds))\n",
    "print(\"RMSE: %f\" % (rmse))"
   ]
  },
  {
   "cell_type": "code",
   "execution_count": 23,
   "metadata": {},
   "outputs": [],
   "source": [
    "params = {\"objective\":\"reg:squarederror\",'colsample_bytree': 0.3,\n",
    "          'learning_rate': 0.1, 'max_depth': 5, 'alpha': 10}\n",
    "\n",
    "cv_results = xgb.cv(dtrain=data_dmatrix, params=params, nfold=3,\n",
    "                    num_boost_round=50, early_stopping_rounds=10,\n",
    "                    metrics=\"rmse\", as_pandas=True,)"
   ]
  },
  {
   "cell_type": "code",
   "execution_count": 24,
   "metadata": {
    "scrolled": true
   },
   "outputs": [
    {
     "name": "stdout",
     "output_type": "stream",
     "text": [
      "49    76515.286458\n",
      "Name: test-rmse-mean, dtype: float64\n"
     ]
    }
   ],
   "source": [
    "print((cv_results[\"test-rmse-mean\"]).tail(1))"
   ]
  },
  {
   "cell_type": "markdown",
   "metadata": {},
   "source": [
    "## Entreno con la 2da ventana"
   ]
  },
  {
   "cell_type": "code",
   "execution_count": 25,
   "metadata": {},
   "outputs": [
    {
     "name": "stderr",
     "output_type": "stream",
     "text": [
      "/home/fede/anaconda3/lib/python3.7/site-packages/xgboost/core.py:587: FutureWarning: Series.base is deprecated and will be removed in a future version\n",
      "  if getattr(data, 'base', None) is not None and \\\n",
      "/home/fede/anaconda3/lib/python3.7/site-packages/xgboost/core.py:588: FutureWarning: Series.base is deprecated and will be removed in a future version\n",
      "  data.base is not None and isinstance(data, np.ndarray) \\\n"
     ]
    }
   ],
   "source": [
    "X, y = installs2.iloc[:,:-1], installs2.iloc[:,-1]\n",
    "data_dmatrix = xgb.DMatrix(data=X,label=y)\n",
    "xg_reg = xgb.XGBRegressor(objective ='reg:squarederror', \n",
    "                colsample_bytree = 0.2, learning_rate = 0.10,\n",
    "                max_depth = 5, alpha =10, n_estimators = 10)"
   ]
  },
  {
   "cell_type": "code",
   "execution_count": 26,
   "metadata": {},
   "outputs": [
    {
     "data": {
      "text/plain": [
       "XGBRegressor(alpha=10, base_score=0.5, booster='gbtree', colsample_bylevel=1,\n",
       "       colsample_bynode=1, colsample_bytree=0.2, gamma=0,\n",
       "       importance_type='gain', learning_rate=0.1, max_delta_step=0,\n",
       "       max_depth=5, min_child_weight=1, missing=None, n_estimators=10,\n",
       "       n_jobs=1, nthread=None, objective='reg:squarederror',\n",
       "       random_state=0, reg_alpha=0, reg_lambda=1, scale_pos_weight=1,\n",
       "       seed=None, silent=None, subsample=1, verbosity=1)"
      ]
     },
     "execution_count": 26,
     "metadata": {},
     "output_type": "execute_result"
    }
   ],
   "source": [
    "xg_reg.fit(X, y)"
   ]
  },
  {
   "cell_type": "code",
   "execution_count": 27,
   "metadata": {},
   "outputs": [
    {
     "name": "stdout",
     "output_type": "stream",
     "text": [
      "RMSE: 52434.019612\n"
     ]
    }
   ],
   "source": [
    "preds = xg_reg.predict(installsCheck2.iloc[:,:-1])\n",
    "rmse = np.sqrt(mean_squared_error(installsCheck2.iloc[:,-1], preds))\n",
    "print(\"RMSE: %f\" % (rmse))"
   ]
  },
  {
   "cell_type": "markdown",
   "metadata": {},
   "source": [
    "## Entreno con la 3ra ventana"
   ]
  },
  {
   "cell_type": "code",
   "execution_count": 28,
   "metadata": {},
   "outputs": [
    {
     "name": "stderr",
     "output_type": "stream",
     "text": [
      "/home/fede/anaconda3/lib/python3.7/site-packages/xgboost/core.py:587: FutureWarning: Series.base is deprecated and will be removed in a future version\n",
      "  if getattr(data, 'base', None) is not None and \\\n",
      "/home/fede/anaconda3/lib/python3.7/site-packages/xgboost/core.py:588: FutureWarning: Series.base is deprecated and will be removed in a future version\n",
      "  data.base is not None and isinstance(data, np.ndarray) \\\n"
     ]
    }
   ],
   "source": [
    "X, y = installs3.iloc[:,:-1], installs3.iloc[:,-1]\n",
    "data_dmatrix = xgb.DMatrix(data=X,label=y)\n",
    "xg_reg = xgb.XGBRegressor(objective ='reg:squarederror', \n",
    "                colsample_bytree = 0.3, learning_rate = 0.1,\n",
    "                max_depth = 5, alpha = 10, n_estimators = 15, subsample = 0.8)"
   ]
  },
  {
   "cell_type": "code",
   "execution_count": 29,
   "metadata": {},
   "outputs": [
    {
     "data": {
      "text/plain": [
       "XGBRegressor(alpha=10, base_score=0.5, booster='gbtree', colsample_bylevel=1,\n",
       "       colsample_bynode=1, colsample_bytree=0.3, gamma=0,\n",
       "       importance_type='gain', learning_rate=0.1, max_delta_step=0,\n",
       "       max_depth=5, min_child_weight=1, missing=None, n_estimators=15,\n",
       "       n_jobs=1, nthread=None, objective='reg:squarederror',\n",
       "       random_state=0, reg_alpha=0, reg_lambda=1, scale_pos_weight=1,\n",
       "       seed=None, silent=None, subsample=0.8, verbosity=1)"
      ]
     },
     "execution_count": 29,
     "metadata": {},
     "output_type": "execute_result"
    }
   ],
   "source": [
    "xg_reg.fit(X, y)"
   ]
  },
  {
   "cell_type": "code",
   "execution_count": 30,
   "metadata": {},
   "outputs": [
    {
     "name": "stdout",
     "output_type": "stream",
     "text": [
      "RMSE: 54045.492249\n"
     ]
    }
   ],
   "source": [
    "preds = xg_reg.predict(installsCheck3.iloc[:,:-1])\n",
    "rmse = np.sqrt(mean_squared_error(installsCheck3.iloc[:,-1], preds))\n",
    "print(\"RMSE: %f\" % (rmse))"
   ]
  },
  {
   "cell_type": "markdown",
   "metadata": {},
   "source": [
    "## Entreno con la 4ta ventana"
   ]
  },
  {
   "cell_type": "code",
   "execution_count": 31,
   "metadata": {},
   "outputs": [
    {
     "name": "stderr",
     "output_type": "stream",
     "text": [
      "/home/fede/anaconda3/lib/python3.7/site-packages/xgboost/core.py:587: FutureWarning: Series.base is deprecated and will be removed in a future version\n",
      "  if getattr(data, 'base', None) is not None and \\\n",
      "/home/fede/anaconda3/lib/python3.7/site-packages/xgboost/core.py:588: FutureWarning: Series.base is deprecated and will be removed in a future version\n",
      "  data.base is not None and isinstance(data, np.ndarray) \\\n"
     ]
    },
    {
     "name": "stdout",
     "output_type": "stream",
     "text": [
      "RMSE: 52450.657455\n"
     ]
    }
   ],
   "source": [
    "X, y = installs4.iloc[:,:-1], installs4.iloc[:,-1]\n",
    "data_dmatrix = xgb.DMatrix(data=X,label=y)\n",
    "xg_reg = xgb.XGBRegressor(objective ='reg:squarederror', \n",
    "                colsample_bytree = 0.4, learning_rate = 0.1,\n",
    "                max_depth = 5, alpha = 10, n_estimators = 10)\n",
    "xg_reg.fit(X, y)\n",
    "preds = xg_reg.predict(installsCheck4.iloc[:,:-1])\n",
    "rmse = np.sqrt(mean_squared_error(installsCheck4.iloc[:,-1], preds))\n",
    "print(\"RMSE: %f\" % (rmse))"
   ]
  },
  {
   "cell_type": "markdown",
   "metadata": {},
   "source": [
    "## Entreno con la 5ta ventana"
   ]
  },
  {
   "cell_type": "code",
   "execution_count": 32,
   "metadata": {},
   "outputs": [
    {
     "name": "stderr",
     "output_type": "stream",
     "text": [
      "/home/fede/anaconda3/lib/python3.7/site-packages/xgboost/core.py:587: FutureWarning: Series.base is deprecated and will be removed in a future version\n",
      "  if getattr(data, 'base', None) is not None and \\\n",
      "/home/fede/anaconda3/lib/python3.7/site-packages/xgboost/core.py:588: FutureWarning: Series.base is deprecated and will be removed in a future version\n",
      "  data.base is not None and isinstance(data, np.ndarray) \\\n"
     ]
    },
    {
     "name": "stdout",
     "output_type": "stream",
     "text": [
      "RMSE: 52434.019612\n"
     ]
    }
   ],
   "source": [
    "X, y = installs5.iloc[:,:-1], installs5.iloc[:,-1]\n",
    "data_dmatrix = xgb.DMatrix(data=X,label=y)\n",
    "xg_reg = xgb.XGBRegressor(objective ='reg:squarederror', \n",
    "                colsample_bytree = 0.1, learning_rate = 0.1,\n",
    "                max_depth = 5, alpha = 10, n_estimators = 10)\n",
    "xg_reg.fit(X, y)\n",
    "preds = xg_reg.predict(installsCheck5.iloc[:,:-1])\n",
    "rmse = np.sqrt(mean_squared_error(installsCheck5.iloc[:,-1], preds))\n",
    "print(\"RMSE: %f\" % (rmse))"
   ]
  },
  {
   "cell_type": "markdown",
   "metadata": {},
   "source": [
    "## Predicciones con el target"
   ]
  },
  {
   "cell_type": "code",
   "execution_count": 33,
   "metadata": {},
   "outputs": [],
   "source": [
    "target = pd.read_csv('../datos/target_competencia_ids.csv')"
   ]
  },
  {
   "cell_type": "code",
   "execution_count": 34,
   "metadata": {},
   "outputs": [
    {
     "data": {
      "text/plain": [
       "ref_hash    object\n",
       "obj          int64\n",
       "dtype: object"
      ]
     },
     "execution_count": 34,
     "metadata": {},
     "output_type": "execute_result"
    }
   ],
   "source": [
    "target.dtypes"
   ]
  },
  {
   "cell_type": "code",
   "execution_count": 35,
   "metadata": {},
   "outputs": [
    {
     "data": {
      "text/html": [
       "<div>\n",
       "<style scoped>\n",
       "    .dataframe tbody tr th:only-of-type {\n",
       "        vertical-align: middle;\n",
       "    }\n",
       "\n",
       "    .dataframe tbody tr th {\n",
       "        vertical-align: top;\n",
       "    }\n",
       "\n",
       "    .dataframe thead th {\n",
       "        text-align: right;\n",
       "    }\n",
       "</style>\n",
       "<table border=\"1\" class=\"dataframe\">\n",
       "  <thead>\n",
       "    <tr style=\"text-align: right;\">\n",
       "      <th></th>\n",
       "      <th>ref_hash</th>\n",
       "      <th>obj</th>\n",
       "    </tr>\n",
       "  </thead>\n",
       "  <tbody>\n",
       "    <tr>\n",
       "      <th>0</th>\n",
       "      <td>1000169251625791246_sc</td>\n",
       "      <td>0</td>\n",
       "    </tr>\n",
       "    <tr>\n",
       "      <th>1</th>\n",
       "      <td>1000169251625791246_st</td>\n",
       "      <td>0</td>\n",
       "    </tr>\n",
       "    <tr>\n",
       "      <th>2</th>\n",
       "      <td>1000395625957344683_sc</td>\n",
       "      <td>0</td>\n",
       "    </tr>\n",
       "    <tr>\n",
       "      <th>3</th>\n",
       "      <td>1000395625957344683_st</td>\n",
       "      <td>0</td>\n",
       "    </tr>\n",
       "    <tr>\n",
       "      <th>4</th>\n",
       "      <td>1003027494996471685_sc</td>\n",
       "      <td>0</td>\n",
       "    </tr>\n",
       "  </tbody>\n",
       "</table>\n",
       "</div>"
      ],
      "text/plain": [
       "                 ref_hash  obj\n",
       "0  1000169251625791246_sc    0\n",
       "1  1000169251625791246_st    0\n",
       "2  1000395625957344683_sc    0\n",
       "3  1000395625957344683_st    0\n",
       "4  1003027494996471685_sc    0"
      ]
     },
     "execution_count": 35,
     "metadata": {},
     "output_type": "execute_result"
    }
   ],
   "source": [
    "target.head()"
   ]
  },
  {
   "cell_type": "markdown",
   "metadata": {},
   "source": [
    "Está viniendo con \\_st y \\_sc cada ref_hash así que vamos a tener que trabajar un poco esto para poder usarlo"
   ]
  },
  {
   "cell_type": "code",
   "execution_count": 36,
   "metadata": {},
   "outputs": [],
   "source": [
    "targets_sc = target[target['ref_hash'].str.contains('_sc')]"
   ]
  },
  {
   "cell_type": "code",
   "execution_count": 74,
   "metadata": {},
   "outputs": [],
   "source": [
    "targets_st = target[target['ref_hash'].str.contains('_st')]"
   ]
  },
  {
   "cell_type": "markdown",
   "metadata": {},
   "source": [
    "Quiero ver si todos los ref_hash están correctamente repetidos."
   ]
  },
  {
   "cell_type": "code",
   "execution_count": 38,
   "metadata": {},
   "outputs": [
    {
     "data": {
      "text/plain": [
       "ref_hash    4037\n",
       "obj         4037\n",
       "dtype: int64"
      ]
     },
     "execution_count": 38,
     "metadata": {},
     "output_type": "execute_result"
    }
   ],
   "source": [
    "targets_st.count()"
   ]
  },
  {
   "cell_type": "code",
   "execution_count": 39,
   "metadata": {},
   "outputs": [
    {
     "data": {
      "text/plain": [
       "ref_hash    4037\n",
       "obj         4037\n",
       "dtype: int64"
      ]
     },
     "execution_count": 39,
     "metadata": {},
     "output_type": "execute_result"
    }
   ],
   "source": [
    "targets_sc.count()"
   ]
  },
  {
   "cell_type": "markdown",
   "metadata": {},
   "source": [
    "Por lo menos el número es el mismo."
   ]
  },
  {
   "cell_type": "code",
   "execution_count": 40,
   "metadata": {},
   "outputs": [
    {
     "name": "stderr",
     "output_type": "stream",
     "text": [
      "/home/fede/anaconda3/lib/python3.7/site-packages/ipykernel_launcher.py:1: SettingWithCopyWarning: \n",
      "A value is trying to be set on a copy of a slice from a DataFrame.\n",
      "Try using .loc[row_indexer,col_indexer] = value instead\n",
      "\n",
      "See the caveats in the documentation: http://pandas.pydata.org/pandas-docs/stable/indexing.html#indexing-view-versus-copy\n",
      "  \"\"\"Entry point for launching an IPython kernel.\n",
      "/home/fede/anaconda3/lib/python3.7/site-packages/ipykernel_launcher.py:2: SettingWithCopyWarning: \n",
      "A value is trying to be set on a copy of a slice from a DataFrame.\n",
      "Try using .loc[row_indexer,col_indexer] = value instead\n",
      "\n",
      "See the caveats in the documentation: http://pandas.pydata.org/pandas-docs/stable/indexing.html#indexing-view-versus-copy\n",
      "  \n",
      "/home/fede/anaconda3/lib/python3.7/site-packages/ipykernel_launcher.py:3: SettingWithCopyWarning: \n",
      "A value is trying to be set on a copy of a slice from a DataFrame.\n",
      "Try using .loc[row_indexer,col_indexer] = value instead\n",
      "\n",
      "See the caveats in the documentation: http://pandas.pydata.org/pandas-docs/stable/indexing.html#indexing-view-versus-copy\n",
      "  This is separate from the ipykernel package so we can avoid doing imports until\n",
      "/home/fede/anaconda3/lib/python3.7/site-packages/ipykernel_launcher.py:4: SettingWithCopyWarning: \n",
      "A value is trying to be set on a copy of a slice from a DataFrame.\n",
      "Try using .loc[row_indexer,col_indexer] = value instead\n",
      "\n",
      "See the caveats in the documentation: http://pandas.pydata.org/pandas-docs/stable/indexing.html#indexing-view-versus-copy\n",
      "  after removing the cwd from sys.path.\n"
     ]
    },
    {
     "data": {
      "text/plain": [
       "ref_hash    int64\n",
       "obj         int64\n",
       "dtype: object"
      ]
     },
     "execution_count": 40,
     "metadata": {},
     "output_type": "execute_result"
    }
   ],
   "source": [
    "targets_sc['ref_hash'] = targets_sc['ref_hash'].map(lambda x: str(x)[:-3])\n",
    "targets_st['ref_hash'] = targets_st['ref_hash'].astype(np.int64)\n",
    "targets_sc['ref_hash'] = targets_sc['ref_hash'].astype(np.int64)\n",
    "targets_sc.dtypes"
   ]
  },
  {
   "cell_type": "code",
   "execution_count": null,
   "metadata": {},
   "outputs": [],
   "source": []
  },
  {
   "cell_type": "code",
   "execution_count": 42,
   "metadata": {},
   "outputs": [],
   "source": [
    "installs_sin_dup = installs.drop_duplicates('ref_hash')"
   ]
  },
  {
   "cell_type": "code",
   "execution_count": 43,
   "metadata": {},
   "outputs": [],
   "source": [
    "targets_sc_with_installs = targets_sc.merge(installs_sin_dup, how = 'left', on = 'ref_hash')"
   ]
  },
  {
   "cell_type": "code",
   "execution_count": 53,
   "metadata": {},
   "outputs": [],
   "source": [
    "targets_sc_with_installs.fillna({'application_id' : 0, 'ref_type' : 0, 'attributed' : False, 'implicit': False, 'device_model' : 0, 'device_language' : 0, 'ip_address' : 0}, inplace = True)"
   ]
  },
  {
   "cell_type": "code",
   "execution_count": 62,
   "metadata": {},
   "outputs": [
    {
     "data": {
      "text/html": [
       "<div>\n",
       "<style scoped>\n",
       "    .dataframe tbody tr th:only-of-type {\n",
       "        vertical-align: middle;\n",
       "    }\n",
       "\n",
       "    .dataframe tbody tr th {\n",
       "        vertical-align: top;\n",
       "    }\n",
       "\n",
       "    .dataframe thead th {\n",
       "        text-align: right;\n",
       "    }\n",
       "</style>\n",
       "<table border=\"1\" class=\"dataframe\">\n",
       "  <thead>\n",
       "    <tr style=\"text-align: right;\">\n",
       "      <th></th>\n",
       "      <th>application_id</th>\n",
       "      <th>ref_type</th>\n",
       "      <th>ref_hash</th>\n",
       "      <th>attributed</th>\n",
       "      <th>implicit</th>\n",
       "      <th>device_model</th>\n",
       "      <th>ip_address</th>\n",
       "      <th>device_language</th>\n",
       "    </tr>\n",
       "  </thead>\n",
       "  <tbody>\n",
       "    <tr>\n",
       "      <th>0</th>\n",
       "      <td>122.0</td>\n",
       "      <td>1.891515e+18</td>\n",
       "      <td>1000169251625791246</td>\n",
       "      <td>False</td>\n",
       "      <td>False</td>\n",
       "      <td>1.805456e+18</td>\n",
       "      <td>5.483720e+18</td>\n",
       "      <td>3.301378e+18</td>\n",
       "    </tr>\n",
       "    <tr>\n",
       "      <th>1</th>\n",
       "      <td>121.0</td>\n",
       "      <td>1.891515e+18</td>\n",
       "      <td>1000395625957344683</td>\n",
       "      <td>False</td>\n",
       "      <td>True</td>\n",
       "      <td>8.058599e+17</td>\n",
       "      <td>6.126933e+18</td>\n",
       "      <td>6.977049e+18</td>\n",
       "    </tr>\n",
       "    <tr>\n",
       "      <th>2</th>\n",
       "      <td>14.0</td>\n",
       "      <td>1.891515e+18</td>\n",
       "      <td>1003027494996471685</td>\n",
       "      <td>False</td>\n",
       "      <td>True</td>\n",
       "      <td>8.590181e+18</td>\n",
       "      <td>2.036110e+18</td>\n",
       "      <td>3.301378e+18</td>\n",
       "    </tr>\n",
       "    <tr>\n",
       "      <th>3</th>\n",
       "      <td>68.0</td>\n",
       "      <td>1.494519e+18</td>\n",
       "      <td>1006670001679961544</td>\n",
       "      <td>False</td>\n",
       "      <td>True</td>\n",
       "      <td>6.794880e+18</td>\n",
       "      <td>2.799308e+18</td>\n",
       "      <td>8.441417e+18</td>\n",
       "    </tr>\n",
       "    <tr>\n",
       "      <th>4</th>\n",
       "      <td>94.0</td>\n",
       "      <td>1.891515e+18</td>\n",
       "      <td>1007573308966476713</td>\n",
       "      <td>False</td>\n",
       "      <td>False</td>\n",
       "      <td>1.327864e+18</td>\n",
       "      <td>8.238829e+18</td>\n",
       "      <td>3.301378e+18</td>\n",
       "    </tr>\n",
       "  </tbody>\n",
       "</table>\n",
       "</div>"
      ],
      "text/plain": [
       "   application_id      ref_type             ref_hash  attributed  implicit  \\\n",
       "0           122.0  1.891515e+18  1000169251625791246       False     False   \n",
       "1           121.0  1.891515e+18  1000395625957344683       False      True   \n",
       "2            14.0  1.891515e+18  1003027494996471685       False      True   \n",
       "3            68.0  1.494519e+18  1006670001679961544       False      True   \n",
       "4            94.0  1.891515e+18  1007573308966476713       False     False   \n",
       "\n",
       "   device_model    ip_address  device_language  \n",
       "0  1.805456e+18  5.483720e+18     3.301378e+18  \n",
       "1  8.058599e+17  6.126933e+18     6.977049e+18  \n",
       "2  8.590181e+18  2.036110e+18     3.301378e+18  \n",
       "3  6.794880e+18  2.799308e+18     8.441417e+18  \n",
       "4  1.327864e+18  8.238829e+18     3.301378e+18  "
      ]
     },
     "execution_count": 62,
     "metadata": {},
     "output_type": "execute_result"
    }
   ],
   "source": [
    "X = targets_sc_with_installs.loc[:,['application_id', 'ref_type', 'ref_hash', 'attributed', 'implicit', 'device_model', 'ip_address', 'device_language']]\n",
    "X.head()"
   ]
  },
  {
   "cell_type": "code",
   "execution_count": 55,
   "metadata": {},
   "outputs": [],
   "source": [
    "predictions_sc = xg_reg.predict(X)"
   ]
  },
  {
   "cell_type": "code",
   "execution_count": 56,
   "metadata": {},
   "outputs": [
    {
     "data": {
      "text/plain": [
       "array([83378.77, 83012.53, 82980.02, ..., 74615.7 , 82943.45, 83012.53],\n",
       "      dtype=float32)"
      ]
     },
     "execution_count": 56,
     "metadata": {},
     "output_type": "execute_result"
    }
   ],
   "source": [
    "predictions_sc"
   ]
  },
  {
   "cell_type": "code",
   "execution_count": 59,
   "metadata": {},
   "outputs": [
    {
     "name": "stderr",
     "output_type": "stream",
     "text": [
      "/home/fede/anaconda3/lib/python3.7/site-packages/ipykernel_launcher.py:1: SettingWithCopyWarning: \n",
      "A value is trying to be set on a copy of a slice from a DataFrame.\n",
      "Try using .loc[row_indexer,col_indexer] = value instead\n",
      "\n",
      "See the caveats in the documentation: http://pandas.pydata.org/pandas-docs/stable/indexing.html#indexing-view-versus-copy\n",
      "  \"\"\"Entry point for launching an IPython kernel.\n"
     ]
    }
   ],
   "source": [
    "targets_sc['obj'] = predictions_sc"
   ]
  },
  {
   "cell_type": "code",
   "execution_count": 69,
   "metadata": {},
   "outputs": [
    {
     "name": "stderr",
     "output_type": "stream",
     "text": [
      "/home/fede/anaconda3/lib/python3.7/site-packages/ipykernel_launcher.py:2: SettingWithCopyWarning: \n",
      "A value is trying to be set on a copy of a slice from a DataFrame.\n",
      "Try using .loc[row_indexer,col_indexer] = value instead\n",
      "\n",
      "See the caveats in the documentation: http://pandas.pydata.org/pandas-docs/stable/indexing.html#indexing-view-versus-copy\n",
      "  \n"
     ]
    }
   ],
   "source": [
    "predicciones_target_sc = target[target['ref_hash'].str.contains('_sc')]\n",
    "predicciones_target_sc['obj'] = predictions_sc"
   ]
  },
  {
   "cell_type": "code",
   "execution_count": 79,
   "metadata": {
    "scrolled": true
   },
   "outputs": [
    {
     "data": {
      "text/html": [
       "<div>\n",
       "<style scoped>\n",
       "    .dataframe tbody tr th:only-of-type {\n",
       "        vertical-align: middle;\n",
       "    }\n",
       "\n",
       "    .dataframe tbody tr th {\n",
       "        vertical-align: top;\n",
       "    }\n",
       "\n",
       "    .dataframe thead th {\n",
       "        text-align: right;\n",
       "    }\n",
       "</style>\n",
       "<table border=\"1\" class=\"dataframe\">\n",
       "  <thead>\n",
       "    <tr style=\"text-align: right;\">\n",
       "      <th></th>\n",
       "      <th>ref_hash</th>\n",
       "      <th>obj</th>\n",
       "    </tr>\n",
       "  </thead>\n",
       "  <tbody>\n",
       "    <tr>\n",
       "      <th>0</th>\n",
       "      <td>1000169251625791246_sc</td>\n",
       "      <td>83378.773438</td>\n",
       "    </tr>\n",
       "    <tr>\n",
       "      <th>1</th>\n",
       "      <td>1000169251625791246_st</td>\n",
       "      <td>70165.230000</td>\n",
       "    </tr>\n",
       "    <tr>\n",
       "      <th>2</th>\n",
       "      <td>1000395625957344683_sc</td>\n",
       "      <td>83012.531250</td>\n",
       "    </tr>\n",
       "    <tr>\n",
       "      <th>3</th>\n",
       "      <td>1000395625957344683_st</td>\n",
       "      <td>69477.260000</td>\n",
       "    </tr>\n",
       "    <tr>\n",
       "      <th>4</th>\n",
       "      <td>1003027494996471685_sc</td>\n",
       "      <td>82980.023438</td>\n",
       "    </tr>\n",
       "    <tr>\n",
       "      <th>5</th>\n",
       "      <td>1003027494996471685_st</td>\n",
       "      <td>70165.230000</td>\n",
       "    </tr>\n",
       "    <tr>\n",
       "      <th>6</th>\n",
       "      <td>1006670001679961544_sc</td>\n",
       "      <td>83494.421875</td>\n",
       "    </tr>\n",
       "    <tr>\n",
       "      <th>7</th>\n",
       "      <td>1006670001679961544_st</td>\n",
       "      <td>69477.260000</td>\n",
       "    </tr>\n",
       "    <tr>\n",
       "      <th>8</th>\n",
       "      <td>1007573308966476713_sc</td>\n",
       "      <td>74615.703125</td>\n",
       "    </tr>\n",
       "    <tr>\n",
       "      <th>9</th>\n",
       "      <td>1007573308966476713_st</td>\n",
       "      <td>71122.820000</td>\n",
       "    </tr>\n",
       "    <tr>\n",
       "      <th>10</th>\n",
       "      <td>1010070503877148763_sc</td>\n",
       "      <td>83064.562500</td>\n",
       "    </tr>\n",
       "    <tr>\n",
       "      <th>11</th>\n",
       "      <td>1010070503877148763_st</td>\n",
       "      <td>65107.960000</td>\n",
       "    </tr>\n",
       "    <tr>\n",
       "      <th>12</th>\n",
       "      <td>1010265377387765028_sc</td>\n",
       "      <td>74198.687500</td>\n",
       "    </tr>\n",
       "    <tr>\n",
       "      <th>13</th>\n",
       "      <td>1010265377387765028_st</td>\n",
       "      <td>71122.820000</td>\n",
       "    </tr>\n",
       "    <tr>\n",
       "      <th>14</th>\n",
       "      <td>1010531372912327058_sc</td>\n",
       "      <td>84433.210938</td>\n",
       "    </tr>\n",
       "    <tr>\n",
       "      <th>15</th>\n",
       "      <td>1010531372912327058_st</td>\n",
       "      <td>69389.150000</td>\n",
       "    </tr>\n",
       "    <tr>\n",
       "      <th>16</th>\n",
       "      <td>1011610998357271358_sc</td>\n",
       "      <td>83397.039062</td>\n",
       "    </tr>\n",
       "    <tr>\n",
       "      <th>17</th>\n",
       "      <td>1011610998357271358_st</td>\n",
       "      <td>69477.260000</td>\n",
       "    </tr>\n",
       "    <tr>\n",
       "      <th>18</th>\n",
       "      <td>1013543838965040946_sc</td>\n",
       "      <td>82943.453125</td>\n",
       "    </tr>\n",
       "    <tr>\n",
       "      <th>19</th>\n",
       "      <td>1013543838965040946_st</td>\n",
       "      <td>69389.150000</td>\n",
       "    </tr>\n",
       "    <tr>\n",
       "      <th>20</th>\n",
       "      <td>1014428234021750342_sc</td>\n",
       "      <td>83522.960938</td>\n",
       "    </tr>\n",
       "    <tr>\n",
       "      <th>21</th>\n",
       "      <td>1014428234021750342_st</td>\n",
       "      <td>69477.260000</td>\n",
       "    </tr>\n",
       "    <tr>\n",
       "      <th>22</th>\n",
       "      <td>101763096421653092_sc</td>\n",
       "      <td>84581.218750</td>\n",
       "    </tr>\n",
       "    <tr>\n",
       "      <th>23</th>\n",
       "      <td>101763096421653092_st</td>\n",
       "      <td>69592.766000</td>\n",
       "    </tr>\n",
       "    <tr>\n",
       "      <th>24</th>\n",
       "      <td>1017668882534236751_sc</td>\n",
       "      <td>83617.828125</td>\n",
       "    </tr>\n",
       "    <tr>\n",
       "      <th>25</th>\n",
       "      <td>1017668882534236751_st</td>\n",
       "      <td>69592.766000</td>\n",
       "    </tr>\n",
       "    <tr>\n",
       "      <th>26</th>\n",
       "      <td>1017958004932387739_sc</td>\n",
       "      <td>82782.515625</td>\n",
       "    </tr>\n",
       "    <tr>\n",
       "      <th>27</th>\n",
       "      <td>1017958004932387739_st</td>\n",
       "      <td>69477.260000</td>\n",
       "    </tr>\n",
       "    <tr>\n",
       "      <th>28</th>\n",
       "      <td>1018126962792619181_sc</td>\n",
       "      <td>83397.039062</td>\n",
       "    </tr>\n",
       "    <tr>\n",
       "      <th>29</th>\n",
       "      <td>1018126962792619181_st</td>\n",
       "      <td>69477.260000</td>\n",
       "    </tr>\n",
       "    <tr>\n",
       "      <th>...</th>\n",
       "      <td>...</td>\n",
       "      <td>...</td>\n",
       "    </tr>\n",
       "    <tr>\n",
       "      <th>8044</th>\n",
       "      <td>950195972417607793_sc</td>\n",
       "      <td>81368.093750</td>\n",
       "    </tr>\n",
       "    <tr>\n",
       "      <th>8045</th>\n",
       "      <td>950195972417607793_st</td>\n",
       "      <td>0.000000</td>\n",
       "    </tr>\n",
       "    <tr>\n",
       "      <th>8046</th>\n",
       "      <td>954110623376544206_sc</td>\n",
       "      <td>83243.054688</td>\n",
       "    </tr>\n",
       "    <tr>\n",
       "      <th>8047</th>\n",
       "      <td>954110623376544206_st</td>\n",
       "      <td>0.000000</td>\n",
       "    </tr>\n",
       "    <tr>\n",
       "      <th>8048</th>\n",
       "      <td>954940018576714924_sc</td>\n",
       "      <td>85350.148438</td>\n",
       "    </tr>\n",
       "    <tr>\n",
       "      <th>8049</th>\n",
       "      <td>954940018576714924_st</td>\n",
       "      <td>0.000000</td>\n",
       "    </tr>\n",
       "    <tr>\n",
       "      <th>8050</th>\n",
       "      <td>956704247780926402_sc</td>\n",
       "      <td>83617.828125</td>\n",
       "    </tr>\n",
       "    <tr>\n",
       "      <th>8051</th>\n",
       "      <td>956704247780926402_st</td>\n",
       "      <td>0.000000</td>\n",
       "    </tr>\n",
       "    <tr>\n",
       "      <th>8052</th>\n",
       "      <td>960623204161846765_sc</td>\n",
       "      <td>83012.531250</td>\n",
       "    </tr>\n",
       "    <tr>\n",
       "      <th>8053</th>\n",
       "      <td>960623204161846765_st</td>\n",
       "      <td>0.000000</td>\n",
       "    </tr>\n",
       "    <tr>\n",
       "      <th>8054</th>\n",
       "      <td>961631829441650729_sc</td>\n",
       "      <td>83036.351562</td>\n",
       "    </tr>\n",
       "    <tr>\n",
       "      <th>8055</th>\n",
       "      <td>961631829441650729_st</td>\n",
       "      <td>0.000000</td>\n",
       "    </tr>\n",
       "    <tr>\n",
       "      <th>8056</th>\n",
       "      <td>962595921037755088_sc</td>\n",
       "      <td>85693.312500</td>\n",
       "    </tr>\n",
       "    <tr>\n",
       "      <th>8057</th>\n",
       "      <td>962595921037755088_st</td>\n",
       "      <td>0.000000</td>\n",
       "    </tr>\n",
       "    <tr>\n",
       "      <th>8058</th>\n",
       "      <td>964658792449865522_sc</td>\n",
       "      <td>84027.093750</td>\n",
       "    </tr>\n",
       "    <tr>\n",
       "      <th>8059</th>\n",
       "      <td>964658792449865522_st</td>\n",
       "      <td>0.000000</td>\n",
       "    </tr>\n",
       "    <tr>\n",
       "      <th>8060</th>\n",
       "      <td>974553511695777483_sc</td>\n",
       "      <td>82647.546875</td>\n",
       "    </tr>\n",
       "    <tr>\n",
       "      <th>8061</th>\n",
       "      <td>974553511695777483_st</td>\n",
       "      <td>0.000000</td>\n",
       "    </tr>\n",
       "    <tr>\n",
       "      <th>8062</th>\n",
       "      <td>97694307709005918_sc</td>\n",
       "      <td>31632.500000</td>\n",
       "    </tr>\n",
       "    <tr>\n",
       "      <th>8063</th>\n",
       "      <td>97694307709005918_st</td>\n",
       "      <td>0.000000</td>\n",
       "    </tr>\n",
       "    <tr>\n",
       "      <th>8064</th>\n",
       "      <td>977508757724050464_sc</td>\n",
       "      <td>74198.687500</td>\n",
       "    </tr>\n",
       "    <tr>\n",
       "      <th>8065</th>\n",
       "      <td>977508757724050464_st</td>\n",
       "      <td>0.000000</td>\n",
       "    </tr>\n",
       "    <tr>\n",
       "      <th>8066</th>\n",
       "      <td>979880031097032355_sc</td>\n",
       "      <td>83647.906250</td>\n",
       "    </tr>\n",
       "    <tr>\n",
       "      <th>8067</th>\n",
       "      <td>979880031097032355_st</td>\n",
       "      <td>0.000000</td>\n",
       "    </tr>\n",
       "    <tr>\n",
       "      <th>8068</th>\n",
       "      <td>987443249627191692_sc</td>\n",
       "      <td>74615.703125</td>\n",
       "    </tr>\n",
       "    <tr>\n",
       "      <th>8069</th>\n",
       "      <td>987443249627191692_st</td>\n",
       "      <td>0.000000</td>\n",
       "    </tr>\n",
       "    <tr>\n",
       "      <th>8070</th>\n",
       "      <td>997953354533822687_sc</td>\n",
       "      <td>82943.453125</td>\n",
       "    </tr>\n",
       "    <tr>\n",
       "      <th>8071</th>\n",
       "      <td>997953354533822687_st</td>\n",
       "      <td>0.000000</td>\n",
       "    </tr>\n",
       "    <tr>\n",
       "      <th>8072</th>\n",
       "      <td>998948062397755366_sc</td>\n",
       "      <td>83012.531250</td>\n",
       "    </tr>\n",
       "    <tr>\n",
       "      <th>8073</th>\n",
       "      <td>998948062397755366_st</td>\n",
       "      <td>0.000000</td>\n",
       "    </tr>\n",
       "  </tbody>\n",
       "</table>\n",
       "<p>8074 rows × 2 columns</p>\n",
       "</div>"
      ],
      "text/plain": [
       "                    ref_hash           obj\n",
       "0     1000169251625791246_sc  83378.773438\n",
       "1     1000169251625791246_st  70165.230000\n",
       "2     1000395625957344683_sc  83012.531250\n",
       "3     1000395625957344683_st  69477.260000\n",
       "4     1003027494996471685_sc  82980.023438\n",
       "5     1003027494996471685_st  70165.230000\n",
       "6     1006670001679961544_sc  83494.421875\n",
       "7     1006670001679961544_st  69477.260000\n",
       "8     1007573308966476713_sc  74615.703125\n",
       "9     1007573308966476713_st  71122.820000\n",
       "10    1010070503877148763_sc  83064.562500\n",
       "11    1010070503877148763_st  65107.960000\n",
       "12    1010265377387765028_sc  74198.687500\n",
       "13    1010265377387765028_st  71122.820000\n",
       "14    1010531372912327058_sc  84433.210938\n",
       "15    1010531372912327058_st  69389.150000\n",
       "16    1011610998357271358_sc  83397.039062\n",
       "17    1011610998357271358_st  69477.260000\n",
       "18    1013543838965040946_sc  82943.453125\n",
       "19    1013543838965040946_st  69389.150000\n",
       "20    1014428234021750342_sc  83522.960938\n",
       "21    1014428234021750342_st  69477.260000\n",
       "22     101763096421653092_sc  84581.218750\n",
       "23     101763096421653092_st  69592.766000\n",
       "24    1017668882534236751_sc  83617.828125\n",
       "25    1017668882534236751_st  69592.766000\n",
       "26    1017958004932387739_sc  82782.515625\n",
       "27    1017958004932387739_st  69477.260000\n",
       "28    1018126962792619181_sc  83397.039062\n",
       "29    1018126962792619181_st  69477.260000\n",
       "...                      ...           ...\n",
       "8044   950195972417607793_sc  81368.093750\n",
       "8045   950195972417607793_st      0.000000\n",
       "8046   954110623376544206_sc  83243.054688\n",
       "8047   954110623376544206_st      0.000000\n",
       "8048   954940018576714924_sc  85350.148438\n",
       "8049   954940018576714924_st      0.000000\n",
       "8050   956704247780926402_sc  83617.828125\n",
       "8051   956704247780926402_st      0.000000\n",
       "8052   960623204161846765_sc  83012.531250\n",
       "8053   960623204161846765_st      0.000000\n",
       "8054   961631829441650729_sc  83036.351562\n",
       "8055   961631829441650729_st      0.000000\n",
       "8056   962595921037755088_sc  85693.312500\n",
       "8057   962595921037755088_st      0.000000\n",
       "8058   964658792449865522_sc  84027.093750\n",
       "8059   964658792449865522_st      0.000000\n",
       "8060   974553511695777483_sc  82647.546875\n",
       "8061   974553511695777483_st      0.000000\n",
       "8062    97694307709005918_sc  31632.500000\n",
       "8063    97694307709005918_st      0.000000\n",
       "8064   977508757724050464_sc  74198.687500\n",
       "8065   977508757724050464_st      0.000000\n",
       "8066   979880031097032355_sc  83647.906250\n",
       "8067   979880031097032355_st      0.000000\n",
       "8068   987443249627191692_sc  74615.703125\n",
       "8069   987443249627191692_st      0.000000\n",
       "8070   997953354533822687_sc  82943.453125\n",
       "8071   997953354533822687_st      0.000000\n",
       "8072   998948062397755366_sc  83012.531250\n",
       "8073   998948062397755366_st      0.000000\n",
       "\n",
       "[8074 rows x 2 columns]"
      ]
     },
     "execution_count": 79,
     "metadata": {},
     "output_type": "execute_result"
    }
   ],
   "source": [
    "target.update(predicciones_target_sc)\n",
    "target"
   ]
  },
  {
   "cell_type": "code",
   "execution_count": 72,
   "metadata": {},
   "outputs": [],
   "source": [
    "sc_pred = pd.read_csv('../datos/preds-xgboost.txt')"
   ]
  },
  {
   "cell_type": "code",
   "execution_count": 78,
   "metadata": {},
   "outputs": [
    {
     "name": "stderr",
     "output_type": "stream",
     "text": [
      "/home/fede/anaconda3/lib/python3.7/site-packages/ipykernel_launcher.py:1: SettingWithCopyWarning: \n",
      "A value is trying to be set on a copy of a slice from a DataFrame.\n",
      "Try using .loc[row_indexer,col_indexer] = value instead\n",
      "\n",
      "See the caveats in the documentation: http://pandas.pydata.org/pandas-docs/stable/indexing.html#indexing-view-versus-copy\n",
      "  \"\"\"Entry point for launching an IPython kernel.\n"
     ]
    }
   ],
   "source": [
    "targets_st['obj'] = sc_pred\n",
    "target.update(targets_st)"
   ]
  },
  {
   "cell_type": "code",
   "execution_count": 98,
   "metadata": {},
   "outputs": [],
   "source": [
    "target.to_csv('../datos/predicciones1.csv', index = False)"
   ]
  },
  {
   "cell_type": "code",
   "execution_count": null,
   "metadata": {},
   "outputs": [],
   "source": []
  }
 ],
 "metadata": {
  "kernelspec": {
   "display_name": "Python 3",
   "language": "python",
   "name": "python3"
  },
  "language_info": {
   "codemirror_mode": {
    "name": "ipython",
    "version": 3
   },
   "file_extension": ".py",
   "mimetype": "text/x-python",
   "name": "python",
   "nbconvert_exporter": "python",
   "pygments_lexer": "ipython3",
   "version": "3.7.3"
  }
 },
 "nbformat": 4,
 "nbformat_minor": 2
}

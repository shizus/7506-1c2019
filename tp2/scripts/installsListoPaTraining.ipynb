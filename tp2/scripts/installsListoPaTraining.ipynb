{
 "cells": [
  {
   "cell_type": "code",
   "execution_count": 1,
   "metadata": {},
   "outputs": [],
   "source": [
    "import pandas as pd\n",
    "import numpy as np\n",
    "import matplotlib.pyplot as plt"
   ]
  },
  {
   "cell_type": "code",
   "execution_count": 2,
   "metadata": {},
   "outputs": [],
   "source": [
    "installs = pd.read_csv('../datos/installs.csv', dtype ={'click_hash': object, 'wifi': object, 'trans_id': object})"
   ]
  },
  {
   "cell_type": "markdown",
   "metadata": {},
   "source": [
    "### Analizo columna por columna"
   ]
  },
  {
   "cell_type": "code",
   "execution_count": 3,
   "metadata": {},
   "outputs": [],
   "source": [
    "# No tiene sentido quedarse con el pais, porque es uno solo\n",
    "#No tiene sentido quedarse con la columna trans_id. El 98% de los valores son Null\n",
    "#No tiene sentido quedarse con click_hash, el 99% de los valors son null\n",
    "#No tiene sentido quedarse con event_uuid, el 78% de los valores son null\n",
    "#No tiene sentido quedarse con kind, el 78% de los valores son null\n",
    "#No tiene sentido quedarse con wifi, el 48% de los valores son null\n",
    "#No tiene sentido quedarse con device_brand. El 42% son null\n",
    "#No tiene sentido quedarse con la columna user_agent El 31% de los valores son Null\n",
    "#¿Tiene sentido quedarse con la columna session_user_agent? El 3% de los valores son Null\n",
    "# session_user_agent tiene el 3% de los valores null. Borro esas filas\n",
    "del installs['trans_id']\n",
    "del installs['device_countrycode']\n",
    "del installs['click_hash']\n",
    "del installs['event_uuid']\n",
    "del installs['kind']\n",
    "del installs['wifi']\n",
    "del installs['device_brand']\n",
    "del installs['user_agent']\n",
    "del installs['session_user_agent']\n",
    "\n",
    "##Borro las filas que tienen null en device_model y device_language. Juntas son el 5% de las filas en null\n",
    "installs = installs[pd.notnull(installs['device_model'])]\n",
    "installs = installs[pd.notnull(installs['device_language'])]"
   ]
  },
  {
   "cell_type": "code",
   "execution_count": 4,
   "metadata": {},
   "outputs": [
    {
     "data": {
      "text/plain": [
       "created             object\n",
       "application_id       int64\n",
       "ref_type             int64\n",
       "ref_hash             int64\n",
       "attributed            bool\n",
       "implicit              bool\n",
       "device_model       float64\n",
       "ip_address           int64\n",
       "device_language    float64\n",
       "dtype: object"
      ]
     },
     "execution_count": 4,
     "metadata": {},
     "output_type": "execute_result"
    }
   ],
   "source": [
    "installs.dtypes"
   ]
  },
  {
   "cell_type": "code",
   "execution_count": 5,
   "metadata": {},
   "outputs": [
    {
     "data": {
      "text/plain": [
       "created            453354\n",
       "application_id     453354\n",
       "ref_type           453354\n",
       "ref_hash           453354\n",
       "attributed         453354\n",
       "implicit           453354\n",
       "device_model       453354\n",
       "ip_address         453354\n",
       "device_language    453354\n",
       "dtype: int64"
      ]
     },
     "execution_count": 5,
     "metadata": {},
     "output_type": "execute_result"
    }
   ],
   "source": [
    "installs.count()"
   ]
  },
  {
   "cell_type": "code",
   "execution_count": 6,
   "metadata": {},
   "outputs": [],
   "source": [
    "installs['created'] = pd.to_datetime(installs['created'], errors = 'coerce')"
   ]
  },
  {
   "cell_type": "code",
   "execution_count": 7,
   "metadata": {},
   "outputs": [],
   "source": [
    "installs = installs.sort_values(by = ['ref_hash', 'created'])"
   ]
  },
  {
   "cell_type": "code",
   "execution_count": 8,
   "metadata": {},
   "outputs": [
    {
     "data": {
      "text/html": [
       "<div>\n",
       "<style scoped>\n",
       "    .dataframe tbody tr th:only-of-type {\n",
       "        vertical-align: middle;\n",
       "    }\n",
       "\n",
       "    .dataframe tbody tr th {\n",
       "        vertical-align: top;\n",
       "    }\n",
       "\n",
       "    .dataframe thead th {\n",
       "        text-align: right;\n",
       "    }\n",
       "</style>\n",
       "<table border=\"1\" class=\"dataframe\">\n",
       "  <thead>\n",
       "    <tr style=\"text-align: right;\">\n",
       "      <th></th>\n",
       "      <th>created</th>\n",
       "      <th>application_id</th>\n",
       "      <th>ref_type</th>\n",
       "      <th>ref_hash</th>\n",
       "      <th>attributed</th>\n",
       "      <th>implicit</th>\n",
       "      <th>device_model</th>\n",
       "      <th>ip_address</th>\n",
       "      <th>device_language</th>\n",
       "    </tr>\n",
       "  </thead>\n",
       "  <tbody>\n",
       "    <tr>\n",
       "      <th>46742</th>\n",
       "      <td>2019-04-21 19:17:47.657</td>\n",
       "      <td>77</td>\n",
       "      <td>1891515180541284343</td>\n",
       "      <td>40621409780134</td>\n",
       "      <td>False</td>\n",
       "      <td>False</td>\n",
       "      <td>2.019322e+18</td>\n",
       "      <td>990380024993756535</td>\n",
       "      <td>3.301378e+18</td>\n",
       "    </tr>\n",
       "    <tr>\n",
       "      <th>398921</th>\n",
       "      <td>2019-04-18 21:11:50.326</td>\n",
       "      <td>121</td>\n",
       "      <td>1891515180541284343</td>\n",
       "      <td>41863526108385</td>\n",
       "      <td>False</td>\n",
       "      <td>True</td>\n",
       "      <td>1.658417e+18</td>\n",
       "      <td>7530145772806895848</td>\n",
       "      <td>6.977049e+18</td>\n",
       "    </tr>\n",
       "    <tr>\n",
       "      <th>249204</th>\n",
       "      <td>2019-04-18 21:11:51.966</td>\n",
       "      <td>121</td>\n",
       "      <td>1891515180541284343</td>\n",
       "      <td>41863526108385</td>\n",
       "      <td>False</td>\n",
       "      <td>False</td>\n",
       "      <td>1.658417e+18</td>\n",
       "      <td>7530145772806895848</td>\n",
       "      <td>6.977049e+18</td>\n",
       "    </tr>\n",
       "    <tr>\n",
       "      <th>112218</th>\n",
       "      <td>2019-04-18 21:17:11.946</td>\n",
       "      <td>65</td>\n",
       "      <td>1891515180541284343</td>\n",
       "      <td>41863526108385</td>\n",
       "      <td>False</td>\n",
       "      <td>False</td>\n",
       "      <td>1.658417e+18</td>\n",
       "      <td>7530145772806895848</td>\n",
       "      <td>6.977049e+18</td>\n",
       "    </tr>\n",
       "    <tr>\n",
       "      <th>112200</th>\n",
       "      <td>2019-04-18 21:17:16.531</td>\n",
       "      <td>65</td>\n",
       "      <td>1891515180541284343</td>\n",
       "      <td>41863526108385</td>\n",
       "      <td>False</td>\n",
       "      <td>True</td>\n",
       "      <td>1.658417e+18</td>\n",
       "      <td>7530145772806895848</td>\n",
       "      <td>6.977049e+18</td>\n",
       "    </tr>\n",
       "  </tbody>\n",
       "</table>\n",
       "</div>"
      ],
      "text/plain": [
       "                       created  application_id             ref_type  \\\n",
       "46742  2019-04-21 19:17:47.657              77  1891515180541284343   \n",
       "398921 2019-04-18 21:11:50.326             121  1891515180541284343   \n",
       "249204 2019-04-18 21:11:51.966             121  1891515180541284343   \n",
       "112218 2019-04-18 21:17:11.946              65  1891515180541284343   \n",
       "112200 2019-04-18 21:17:16.531              65  1891515180541284343   \n",
       "\n",
       "              ref_hash  attributed  implicit  device_model  \\\n",
       "46742   40621409780134       False     False  2.019322e+18   \n",
       "398921  41863526108385       False      True  1.658417e+18   \n",
       "249204  41863526108385       False     False  1.658417e+18   \n",
       "112218  41863526108385       False     False  1.658417e+18   \n",
       "112200  41863526108385       False      True  1.658417e+18   \n",
       "\n",
       "                 ip_address  device_language  \n",
       "46742    990380024993756535     3.301378e+18  \n",
       "398921  7530145772806895848     6.977049e+18  \n",
       "249204  7530145772806895848     6.977049e+18  \n",
       "112218  7530145772806895848     6.977049e+18  \n",
       "112200  7530145772806895848     6.977049e+18  "
      ]
     },
     "execution_count": 8,
     "metadata": {},
     "output_type": "execute_result"
    }
   ],
   "source": [
    "installs.head()"
   ]
  },
  {
   "cell_type": "code",
   "execution_count": 9,
   "metadata": {},
   "outputs": [],
   "source": [
    "installs1 = installs[(installs['created'].dt.day < 21)]\n",
    "installs2 = installs[(installs['created'].dt.day > 18) & (installs['created'].dt.day < 22)]\n",
    "installs3 = installs[(installs['created'].dt.day > 19) & (installs['created'].dt.day < 23)]\n",
    "installs4 = installs[(installs['created'].dt.day > 20) & (installs['created'].dt.day < 24)]\n",
    "installs5 = installs[(installs['created'].dt.day > 21) & (installs['created'].dt.day < 25)]"
   ]
  },
  {
   "cell_type": "code",
   "execution_count": 10,
   "metadata": {},
   "outputs": [],
   "source": [
    "installsCheck1 = installs[(installs['created'].dt.day > 20) & (installs['created'].dt.day < 23)]\n",
    "installsCheck2 = installs[(installs['created'].dt.day > 21) & (installs['created'].dt.day < 24)]\n",
    "installsCheck3 = installs[(installs['created'].dt.day > 22) & (installs['created'].dt.day < 25)]\n",
    "installsCheck4 = installs[(installs['created'].dt.day > 23) & (installs['created'].dt.day < 26)]\n",
    "installsCheck5 = installs[(installs['created'].dt.day > 24) & (installs['created'].dt.day < 27)]"
   ]
  },
  {
   "cell_type": "code",
   "execution_count": 11,
   "metadata": {
    "collapsed": true
   },
   "outputs": [
    {
     "name": "stderr",
     "output_type": "stream",
     "text": [
      "/home/fede/anaconda3/lib/python3.7/site-packages/ipykernel_launcher.py:1: SettingWithCopyWarning: \n",
      "A value is trying to be set on a copy of a slice from a DataFrame.\n",
      "Try using .loc[row_indexer,col_indexer] = value instead\n",
      "\n",
      "See the caveats in the documentation: http://pandas.pydata.org/pandas-docs/stable/indexing.html#indexing-view-versus-copy\n",
      "  \"\"\"Entry point for launching an IPython kernel.\n",
      "/home/fede/anaconda3/lib/python3.7/site-packages/ipykernel_launcher.py:2: SettingWithCopyWarning: \n",
      "A value is trying to be set on a copy of a slice from a DataFrame.\n",
      "Try using .loc[row_indexer,col_indexer] = value instead\n",
      "\n",
      "See the caveats in the documentation: http://pandas.pydata.org/pandas-docs/stable/indexing.html#indexing-view-versus-copy\n",
      "  \n",
      "/home/fede/anaconda3/lib/python3.7/site-packages/ipykernel_launcher.py:3: SettingWithCopyWarning: \n",
      "A value is trying to be set on a copy of a slice from a DataFrame.\n",
      "Try using .loc[row_indexer,col_indexer] = value instead\n",
      "\n",
      "See the caveats in the documentation: http://pandas.pydata.org/pandas-docs/stable/indexing.html#indexing-view-versus-copy\n",
      "  This is separate from the ipykernel package so we can avoid doing imports until\n",
      "/home/fede/anaconda3/lib/python3.7/site-packages/ipykernel_launcher.py:4: SettingWithCopyWarning: \n",
      "A value is trying to be set on a copy of a slice from a DataFrame.\n",
      "Try using .loc[row_indexer,col_indexer] = value instead\n",
      "\n",
      "See the caveats in the documentation: http://pandas.pydata.org/pandas-docs/stable/indexing.html#indexing-view-versus-copy\n",
      "  after removing the cwd from sys.path.\n",
      "/home/fede/anaconda3/lib/python3.7/site-packages/ipykernel_launcher.py:5: SettingWithCopyWarning: \n",
      "A value is trying to be set on a copy of a slice from a DataFrame.\n",
      "Try using .loc[row_indexer,col_indexer] = value instead\n",
      "\n",
      "See the caveats in the documentation: http://pandas.pydata.org/pandas-docs/stable/indexing.html#indexing-view-versus-copy\n",
      "  \"\"\"\n"
     ]
    }
   ],
   "source": [
    "installs1['sc'] = (installs1['created'] - pd.to_datetime('2019-04-18'))/np.timedelta64(1,'s')\n",
    "installs2['sc'] = (installs2['created'] - pd.to_datetime('2019-04-19'))/np.timedelta64(1,'s')\n",
    "installs3['sc'] = (installs3['created'] - pd.to_datetime('2019-04-20'))/np.timedelta64(1,'s')\n",
    "installs4['sc'] = (installs4['created'] - pd.to_datetime('2019-04-21'))/np.timedelta64(1,'s')\n",
    "installs4['sc'] = (installs4['created'] - pd.to_datetime('2019-04-22'))/np.timedelta64(1,'s')"
   ]
  },
  {
   "cell_type": "code",
   "execution_count": 12,
   "metadata": {
    "collapsed": true
   },
   "outputs": [
    {
     "name": "stderr",
     "output_type": "stream",
     "text": [
      "/home/fede/anaconda3/lib/python3.7/site-packages/ipykernel_launcher.py:1: SettingWithCopyWarning: \n",
      "A value is trying to be set on a copy of a slice from a DataFrame.\n",
      "Try using .loc[row_indexer,col_indexer] = value instead\n",
      "\n",
      "See the caveats in the documentation: http://pandas.pydata.org/pandas-docs/stable/indexing.html#indexing-view-versus-copy\n",
      "  \"\"\"Entry point for launching an IPython kernel.\n",
      "/home/fede/anaconda3/lib/python3.7/site-packages/ipykernel_launcher.py:2: SettingWithCopyWarning: \n",
      "A value is trying to be set on a copy of a slice from a DataFrame.\n",
      "Try using .loc[row_indexer,col_indexer] = value instead\n",
      "\n",
      "See the caveats in the documentation: http://pandas.pydata.org/pandas-docs/stable/indexing.html#indexing-view-versus-copy\n",
      "  \n",
      "/home/fede/anaconda3/lib/python3.7/site-packages/ipykernel_launcher.py:3: SettingWithCopyWarning: \n",
      "A value is trying to be set on a copy of a slice from a DataFrame.\n",
      "Try using .loc[row_indexer,col_indexer] = value instead\n",
      "\n",
      "See the caveats in the documentation: http://pandas.pydata.org/pandas-docs/stable/indexing.html#indexing-view-versus-copy\n",
      "  This is separate from the ipykernel package so we can avoid doing imports until\n",
      "/home/fede/anaconda3/lib/python3.7/site-packages/ipykernel_launcher.py:4: SettingWithCopyWarning: \n",
      "A value is trying to be set on a copy of a slice from a DataFrame.\n",
      "Try using .loc[row_indexer,col_indexer] = value instead\n",
      "\n",
      "See the caveats in the documentation: http://pandas.pydata.org/pandas-docs/stable/indexing.html#indexing-view-versus-copy\n",
      "  after removing the cwd from sys.path.\n",
      "/home/fede/anaconda3/lib/python3.7/site-packages/ipykernel_launcher.py:5: SettingWithCopyWarning: \n",
      "A value is trying to be set on a copy of a slice from a DataFrame.\n",
      "Try using .loc[row_indexer,col_indexer] = value instead\n",
      "\n",
      "See the caveats in the documentation: http://pandas.pydata.org/pandas-docs/stable/indexing.html#indexing-view-versus-copy\n",
      "  \"\"\"\n"
     ]
    }
   ],
   "source": [
    "installsCheck1['sc'] = (installsCheck1['created'] - pd.to_datetime('2019-04-21'))/np.timedelta64(1,'s')\n",
    "installsCheck2['sc'] = (installsCheck2['created'] - pd.to_datetime('2019-04-22'))/np.timedelta64(1,'s')\n",
    "installsCheck3['sc'] = (installsCheck3['created'] - pd.to_datetime('2019-04-23'))/np.timedelta64(1,'s')\n",
    "installsCheck4['sc'] = (installsCheck4['created'] - pd.to_datetime('2019-04-24'))/np.timedelta64(1,'s')\n",
    "installsCheck4['sc'] = (installsCheck4['created'] - pd.to_datetime('2019-04-25'))/np.timedelta64(1,'s')"
   ]
  },
  {
   "cell_type": "code",
   "execution_count": 25,
   "metadata": {},
   "outputs": [],
   "source": [
    "installs1 = installs1.drop_duplicates('ref_hash', keep = 'first')\n",
    "installs2 = installs1.drop_duplicates('ref_hash', keep = 'first')\n",
    "installs3 = installs1.drop_duplicates('ref_hash', keep = 'first')\n",
    "installs4 = installs1.drop_duplicates('ref_hash', keep = 'first')\n",
    "installs5 = installs1.drop_duplicates('ref_hash', keep = 'first')\n",
    "installsCheck1 = installsCheck1.drop_duplicates('ref_hash', keep = 'first')\n",
    "installsCheck2 = installsCheck1.drop_duplicates('ref_hash', keep = 'first')\n",
    "installsCheck3 = installsCheck1.drop_duplicates('ref_hash', keep = 'first')\n",
    "installsCheck4 = installsCheck1.drop_duplicates('ref_hash', keep = 'first')\n",
    "installsCheck5 = installsCheck1.drop_duplicates('ref_hash', keep = 'first')"
   ]
  },
  {
   "cell_type": "code",
   "execution_count": 13,
   "metadata": {},
   "outputs": [],
   "source": [
    "del installs1['created']\n",
    "del installs2['created']\n",
    "del installs3['created']\n",
    "del installs4['created']\n",
    "del installs5['created']\n",
    "del installsCheck1['created']\n",
    "del installsCheck2['created']\n",
    "del installsCheck3['created']\n",
    "del installsCheck4['created']\n",
    "del installsCheck5['created']"
   ]
  },
  {
   "cell_type": "code",
   "execution_count": 14,
   "metadata": {},
   "outputs": [
    {
     "data": {
      "text/html": [
       "<div>\n",
       "<style scoped>\n",
       "    .dataframe tbody tr th:only-of-type {\n",
       "        vertical-align: middle;\n",
       "    }\n",
       "\n",
       "    .dataframe tbody tr th {\n",
       "        vertical-align: top;\n",
       "    }\n",
       "\n",
       "    .dataframe thead th {\n",
       "        text-align: right;\n",
       "    }\n",
       "</style>\n",
       "<table border=\"1\" class=\"dataframe\">\n",
       "  <thead>\n",
       "    <tr style=\"text-align: right;\">\n",
       "      <th></th>\n",
       "      <th>application_id</th>\n",
       "      <th>ref_type</th>\n",
       "      <th>ref_hash</th>\n",
       "      <th>attributed</th>\n",
       "      <th>implicit</th>\n",
       "      <th>device_model</th>\n",
       "      <th>ip_address</th>\n",
       "      <th>device_language</th>\n",
       "      <th>sc</th>\n",
       "    </tr>\n",
       "  </thead>\n",
       "  <tbody>\n",
       "    <tr>\n",
       "      <th>46742</th>\n",
       "      <td>77</td>\n",
       "      <td>1891515180541284343</td>\n",
       "      <td>40621409780134</td>\n",
       "      <td>False</td>\n",
       "      <td>False</td>\n",
       "      <td>2.019322e+18</td>\n",
       "      <td>990380024993756535</td>\n",
       "      <td>3.301378e+18</td>\n",
       "      <td>69467.657</td>\n",
       "    </tr>\n",
       "    <tr>\n",
       "      <th>418098</th>\n",
       "      <td>65</td>\n",
       "      <td>1891515180541284343</td>\n",
       "      <td>161514654074162</td>\n",
       "      <td>False</td>\n",
       "      <td>True</td>\n",
       "      <td>6.684966e+18</td>\n",
       "      <td>7251732924179152213</td>\n",
       "      <td>6.977049e+18</td>\n",
       "      <td>152024.805</td>\n",
       "    </tr>\n",
       "    <tr>\n",
       "      <th>198205</th>\n",
       "      <td>155</td>\n",
       "      <td>1891515180541284343</td>\n",
       "      <td>168103949904656</td>\n",
       "      <td>False</td>\n",
       "      <td>False</td>\n",
       "      <td>1.816356e+18</td>\n",
       "      <td>2759827436407391547</td>\n",
       "      <td>3.301378e+18</td>\n",
       "      <td>86973.188</td>\n",
       "    </tr>\n",
       "    <tr>\n",
       "      <th>374761</th>\n",
       "      <td>210</td>\n",
       "      <td>1891515180541284343</td>\n",
       "      <td>283297668933729</td>\n",
       "      <td>False</td>\n",
       "      <td>False</td>\n",
       "      <td>1.805456e+18</td>\n",
       "      <td>3663507817982540667</td>\n",
       "      <td>3.301378e+18</td>\n",
       "      <td>135729.476</td>\n",
       "    </tr>\n",
       "    <tr>\n",
       "      <th>154739</th>\n",
       "      <td>155</td>\n",
       "      <td>1891515180541284343</td>\n",
       "      <td>345999128501141</td>\n",
       "      <td>False</td>\n",
       "      <td>False</td>\n",
       "      <td>1.709140e+17</td>\n",
       "      <td>8701462141750383338</td>\n",
       "      <td>3.301378e+18</td>\n",
       "      <td>15578.532</td>\n",
       "    </tr>\n",
       "  </tbody>\n",
       "</table>\n",
       "</div>"
      ],
      "text/plain": [
       "        application_id             ref_type         ref_hash  attributed  \\\n",
       "46742               77  1891515180541284343   40621409780134       False   \n",
       "418098              65  1891515180541284343  161514654074162       False   \n",
       "198205             155  1891515180541284343  168103949904656       False   \n",
       "374761             210  1891515180541284343  283297668933729       False   \n",
       "154739             155  1891515180541284343  345999128501141       False   \n",
       "\n",
       "        implicit  device_model           ip_address  device_language  \\\n",
       "46742      False  2.019322e+18   990380024993756535     3.301378e+18   \n",
       "418098      True  6.684966e+18  7251732924179152213     6.977049e+18   \n",
       "198205     False  1.816356e+18  2759827436407391547     3.301378e+18   \n",
       "374761     False  1.805456e+18  3663507817982540667     3.301378e+18   \n",
       "154739     False  1.709140e+17  8701462141750383338     3.301378e+18   \n",
       "\n",
       "                sc  \n",
       "46742    69467.657  \n",
       "418098  152024.805  \n",
       "198205   86973.188  \n",
       "374761  135729.476  \n",
       "154739   15578.532  "
      ]
     },
     "execution_count": 14,
     "metadata": {},
     "output_type": "execute_result"
    }
   ],
   "source": [
    "installsCheck1.head()"
   ]
  },
  {
   "cell_type": "code",
   "execution_count": 15,
   "metadata": {},
   "outputs": [],
   "source": [
    "import xgboost as xgb\n",
    "from sklearn.metrics import mean_squared_error"
   ]
  },
  {
   "cell_type": "code",
   "execution_count": 26,
   "metadata": {},
   "outputs": [
    {
     "name": "stderr",
     "output_type": "stream",
     "text": [
      "/home/fede/anaconda3/lib/python3.7/site-packages/xgboost/core.py:587: FutureWarning: Series.base is deprecated and will be removed in a future version\n",
      "  if getattr(data, 'base', None) is not None and \\\n",
      "/home/fede/anaconda3/lib/python3.7/site-packages/xgboost/core.py:588: FutureWarning: Series.base is deprecated and will be removed in a future version\n",
      "  data.base is not None and isinstance(data, np.ndarray) \\\n"
     ]
    }
   ],
   "source": [
    "X, y = installs1.iloc[:,:-1], installs1.iloc[:,-1]\n",
    "data_dmatrix = xgb.DMatrix(data=X,label=y)\n",
    "xg_reg = xgb.XGBRegressor(objective ='reg:linear', \n",
    "                colsample_bytree = 0.3, learning_rate = 0.1,\n",
    "                max_depth = 5, alpha = 10, n_estimators = 10)"
   ]
  },
  {
   "cell_type": "code",
   "execution_count": 27,
   "metadata": {},
   "outputs": [
    {
     "name": "stdout",
     "output_type": "stream",
     "text": [
      "[19:11:58] WARNING: /workspace/src/objective/regression_obj.cu:152: reg:linear is now deprecated in favor of reg:squarederror.\n"
     ]
    },
    {
     "data": {
      "text/plain": [
       "XGBRegressor(alpha=10, base_score=0.5, booster='gbtree', colsample_bylevel=1,\n",
       "       colsample_bynode=1, colsample_bytree=0.3, gamma=0,\n",
       "       importance_type='gain', learning_rate=0.1, max_delta_step=0,\n",
       "       max_depth=5, min_child_weight=1, missing=None, n_estimators=10,\n",
       "       n_jobs=1, nthread=None, objective='reg:linear', random_state=0,\n",
       "       reg_alpha=0, reg_lambda=1, scale_pos_weight=1, seed=None,\n",
       "       silent=None, subsample=1, verbosity=1)"
      ]
     },
     "execution_count": 27,
     "metadata": {},
     "output_type": "execute_result"
    }
   ],
   "source": [
    "xg_reg.fit(X, y)"
   ]
  },
  {
   "cell_type": "code",
   "execution_count": 28,
   "metadata": {},
   "outputs": [],
   "source": [
    "preds = xg_reg.predict(installsCheck1.iloc[:,:-1])"
   ]
  },
  {
   "cell_type": "code",
   "execution_count": 29,
   "metadata": {
    "scrolled": true
   },
   "outputs": [
    {
     "name": "stdout",
     "output_type": "stream",
     "text": [
      "RMSE: 52411.491125\n"
     ]
    }
   ],
   "source": [
    "rmse = np.sqrt(mean_squared_error(installsCheck1.iloc[:,-1], preds))\n",
    "print(\"RMSE: %f\" % (rmse))"
   ]
  },
  {
   "cell_type": "code",
   "execution_count": 30,
   "metadata": {},
   "outputs": [
    {
     "name": "stdout",
     "output_type": "stream",
     "text": [
      "[19:12:08] WARNING: /workspace/src/objective/regression_obj.cu:152: reg:linear is now deprecated in favor of reg:squarederror.\n",
      "[19:12:08] WARNING: /workspace/src/objective/regression_obj.cu:152: reg:linear is now deprecated in favor of reg:squarederror.\n",
      "[19:12:08] WARNING: /workspace/src/objective/regression_obj.cu:152: reg:linear is now deprecated in favor of reg:squarederror.\n"
     ]
    }
   ],
   "source": [
    "params = {\"objective\":\"reg:linear\",'colsample_bytree': 0.3,\n",
    "          'learning_rate': 0.1, 'max_depth': 5, 'alpha': 10}\n",
    "\n",
    "cv_results = xgb.cv(dtrain=data_dmatrix, params=params, nfold=3,\n",
    "                    num_boost_round=50, early_stopping_rounds=10,\n",
    "                    metrics=\"rmse\", as_pandas=True, seed=123)"
   ]
  },
  {
   "cell_type": "code",
   "execution_count": 31,
   "metadata": {
    "scrolled": true
   },
   "outputs": [
    {
     "name": "stdout",
     "output_type": "stream",
     "text": [
      "49    76491.380208\n",
      "Name: test-rmse-mean, dtype: float64\n"
     ]
    }
   ],
   "source": [
    "print((cv_results[\"test-rmse-mean\"]).tail(1))"
   ]
  },
  {
   "cell_type": "code",
   "execution_count": null,
   "metadata": {},
   "outputs": [],
   "source": []
  }
 ],
 "metadata": {
  "kernelspec": {
   "display_name": "Python 3",
   "language": "python",
   "name": "python3"
  },
  "language_info": {
   "codemirror_mode": {
    "name": "ipython",
    "version": 3
   },
   "file_extension": ".py",
   "mimetype": "text/x-python",
   "name": "python",
   "nbconvert_exporter": "python",
   "pygments_lexer": "ipython3",
   "version": "3.7.3"
  }
 },
 "nbformat": 4,
 "nbformat_minor": 2
}

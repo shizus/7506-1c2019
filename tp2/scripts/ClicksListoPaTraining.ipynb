{
 "cells": [
  {
   "cell_type": "code",
   "execution_count": 1,
   "metadata": {},
   "outputs": [],
   "source": [
    "import pandas as pd\n",
    "import numpy as np"
   ]
  },
  {
   "cell_type": "code",
   "execution_count": 2,
   "metadata": {},
   "outputs": [
    {
     "name": "stderr",
     "output_type": "stream",
     "text": [
      "/home/arielpm/anaconda3/lib/python3.7/site-packages/IPython/core/interactiveshell.py:3020: DtypeWarning: Columns (16,17) have mixed types. Specify dtype option on import or set low_memory=False.\n",
      "  interactivity=interactivity, compiler=compiler, result=result)\n"
     ]
    }
   ],
   "source": [
    "clicks = pd.read_csv(\"/home/arielpm/Escritorio/Org de Datos TP2/TP 1er Cuatrimestre 2019/clicks.csv\")"
   ]
  },
  {
   "cell_type": "code",
   "execution_count": 3,
   "metadata": {},
   "outputs": [],
   "source": [
    "del clicks[\"action_id\"]#Son todos nulls\n",
    "del clicks[\"country_code\"] #Son todos del mismo pais\n",
    "del clicks[\"trans_id\"]#Son todos valores unico\n",
    "del clicks[\"agent_device\"]#Son casi todos nulls\n",
    "del clicks[\"brand\"]#Son casi todos nulls"
   ]
  },
  {
   "cell_type": "code",
   "execution_count": 4,
   "metadata": {},
   "outputs": [],
   "source": [
    "clicks[\"latitude\"] = clicks[\"latitude\"].astype(\"float32\")\n",
    "clicks[\"longitude\"] = clicks[\"longitude\"].astype(\"float32\")\n",
    "clicks[\"carrier_id\"] = clicks[\"carrier_id\"].astype(\"category\")\n",
    "clicks[\"timeToClick\"] = clicks[\"timeToClick\"].astype(\"float32\")\n",
    "clicks[\"touchX\"] = clicks[\"touchX\"].astype(\"float32\")\n",
    "clicks[\"touchY\"] = clicks[\"touchY\"].astype(\"float32\")\n",
    "clicks[\"source_id\"] = clicks[\"source_id\"].astype(\"category\")\n",
    "clicks[\"advertiser_id\"] = clicks[\"advertiser_id\"].astype(\"category\") "
   ]
  },
  {
   "cell_type": "code",
   "execution_count": 5,
   "metadata": {},
   "outputs": [
    {
     "data": {
      "text/plain": [
       "0        0.503\n",
       "1        1.689\n",
       "2        0.251\n",
       "3        6.587\n",
       "4        0.142\n",
       "5        0.036\n",
       "6        0.879\n",
       "7          NaN\n",
       "8        7.770\n",
       "9        0.062\n",
       "10       0.542\n",
       "11       0.896\n",
       "12       0.028\n",
       "13       1.333\n",
       "14         NaN\n",
       "15       0.493\n",
       "16         NaN\n",
       "17       0.073\n",
       "18       0.967\n",
       "19       0.076\n",
       "20       0.036\n",
       "21       4.626\n",
       "22       0.875\n",
       "23       0.069\n",
       "24       0.709\n",
       "25       0.715\n",
       "26         NaN\n",
       "27       0.218\n",
       "28       0.573\n",
       "29       2.369\n",
       "         ...  \n",
       "64266    0.029\n",
       "64267    0.661\n",
       "64268    0.956\n",
       "64269    0.624\n",
       "64270    0.594\n",
       "64271    0.785\n",
       "64272    0.689\n",
       "64273    0.421\n",
       "64274    0.023\n",
       "64275    0.080\n",
       "64276    0.960\n",
       "64277    0.692\n",
       "64278    2.254\n",
       "64279    0.921\n",
       "64280    0.034\n",
       "64281    2.211\n",
       "64282    0.934\n",
       "64283    0.622\n",
       "64284    0.526\n",
       "64285    0.839\n",
       "64286    0.806\n",
       "64287    0.305\n",
       "64288    0.024\n",
       "64289    0.652\n",
       "64290      NaN\n",
       "64291    0.040\n",
       "64292    0.844\n",
       "64293      NaN\n",
       "64294    0.134\n",
       "64295    0.054\n",
       "Name: touchY, Length: 64296, dtype: float32"
      ]
     },
     "execution_count": 5,
     "metadata": {},
     "output_type": "execute_result"
    }
   ],
   "source": [
    "clicks[\"carrier_id\"]#Hay que rellenar tiene 1200 nulls\n",
    "clicks[\"os_major\"]#Hay que rellenar tiene 35 nulls\n",
    "clicks[\"os_minor\"]#Hay que rellenar tiene 35 nulls\n",
    "clicks[\"timeToClick\"]#Hay que rellenar con el promedio de tiempo en tocar clicks sin tener en cuenta los clicks que tardaron mas de 10mins(da 46 segs aprox)\n",
    "clicks[\"touchX\"]#Hay que rellenar con el promedio de touchsX\n",
    "clicks[\"touchY\"]#Hay que rellenar con el promedio de touchsY"
   ]
  },
  {
   "cell_type": "code",
   "execution_count": 28,
   "metadata": {},
   "outputs": [],
   "source": [
    "aux = clicks[clicks[\"timeToClick\"] < 600]"
   ]
  },
  {
   "cell_type": "code",
   "execution_count": 37,
   "metadata": {},
   "outputs": [],
   "source": [
    "clicks[\"os_minor\"].fillna(clicks[\"os_minor\"].mode().values[0], inplace = True)"
   ]
  },
  {
   "cell_type": "code",
   "execution_count": 39,
   "metadata": {},
   "outputs": [],
   "source": [
    "clicks[\"os_major\"].fillna(clicks[\"os_major\"].mode().values[0], inplace = True)"
   ]
  },
  {
   "cell_type": "code",
   "execution_count": 43,
   "metadata": {},
   "outputs": [],
   "source": [
    "clicks = clicks.drop([7854],axis=0)"
   ]
  },
  {
   "cell_type": "code",
   "execution_count": 47,
   "metadata": {},
   "outputs": [],
   "source": [
    "clicks[\"touchX\"].fillna(clicks[\"touchX\"].mean(), inplace = True)"
   ]
  },
  {
   "cell_type": "code",
   "execution_count": 49,
   "metadata": {},
   "outputs": [],
   "source": [
    "clicks[\"touchY\"].fillna(clicks[\"touchY\"].mean(), inplace = True)"
   ]
  },
  {
   "cell_type": "code",
   "execution_count": 52,
   "metadata": {},
   "outputs": [],
   "source": [
    "aux = clicks[clicks[\"timeToClick\"] < 600]"
   ]
  },
  {
   "cell_type": "code",
   "execution_count": 54,
   "metadata": {},
   "outputs": [
    {
     "data": {
      "text/plain": [
       "46.60588455200195"
      ]
     },
     "execution_count": 54,
     "metadata": {},
     "output_type": "execute_result"
    }
   ],
   "source": [
    "timeToClick_mean = aux[\"timeToClick\"].mean()\n",
    "timeToClick_mean"
   ]
  },
  {
   "cell_type": "code",
   "execution_count": 56,
   "metadata": {},
   "outputs": [],
   "source": [
    "clicks[\"timeToClick\"].fillna(timeToClick_mean, inplace = True)"
   ]
  },
  {
   "cell_type": "code",
   "execution_count": 59,
   "metadata": {},
   "outputs": [],
   "source": [
    "clicks[\"carrier_id\"].fillna(clicks[\"carrier_id\"].mode().values[0], inplace = True)"
   ]
  }
 ],
 "metadata": {
  "kernelspec": {
   "display_name": "Python 3",
   "language": "python",
   "name": "python3"
  },
  "language_info": {
   "codemirror_mode": {
    "name": "ipython",
    "version": 3
   },
   "file_extension": ".py",
   "mimetype": "text/x-python",
   "name": "python",
   "nbconvert_exporter": "python",
   "pygments_lexer": "ipython3",
   "version": "3.6.3"
  }
 },
 "nbformat": 4,
 "nbformat_minor": 2
}

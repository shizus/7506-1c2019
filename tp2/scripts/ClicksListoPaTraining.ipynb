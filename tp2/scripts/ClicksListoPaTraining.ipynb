{
 "cells": [
  {
   "cell_type": "code",
   "execution_count": 1,
   "metadata": {},
   "outputs": [],
   "source": [
    "import pandas as pd\n",
    "import numpy as np"
   ]
  },
  {
   "cell_type": "code",
   "execution_count": 2,
   "metadata": {},
   "outputs": [
    {
     "name": "stderr",
     "output_type": "stream",
     "text": [
      "/home/arielpm/anaconda3/lib/python3.7/site-packages/IPython/core/interactiveshell.py:3020: DtypeWarning: Columns (16,17) have mixed types. Specify dtype option on import or set low_memory=False.\n",
      "  interactivity=interactivity, compiler=compiler, result=result)\n"
     ]
    }
   ],
   "source": [
    "clicks = pd.read_csv(\"/home/arielpm/Escritorio/Org de Datos TP2/TP 1er Cuatrimestre 2019/clicks.csv\")"
   ]
  },
  {
   "cell_type": "code",
   "execution_count": null,
   "metadata": {},
   "outputs": [],
   "source": []
  },
  {
   "cell_type": "code",
   "execution_count": null,
   "metadata": {},
   "outputs": [],
   "source": []
  },
  {
   "cell_type": "code",
   "execution_count": null,
   "metadata": {},
   "outputs": [],
   "source": []
  },
  {
   "cell_type": "code",
   "execution_count": null,
   "metadata": {},
   "outputs": [],
   "source": []
  },
  {
   "cell_type": "code",
   "execution_count": 3,
   "metadata": {},
   "outputs": [],
   "source": [
    "del clicks[\"action_id\"]#Son todos nulls\n",
    "del clicks[\"country_code\"] #Son todos del mismo pais\n",
    "del clicks[\"trans_id\"]#Son todos valores unico\n",
    "del clicks[\"agent_device\"]#Son casi todos nulls\n",
    "del clicks[\"brand\"]#Son casi todos nulls"
   ]
  },
  {
   "cell_type": "code",
   "execution_count": 4,
   "metadata": {},
   "outputs": [],
   "source": [
    "clicks[\"latitude\"] = clicks[\"latitude\"].astype(\"float32\")\n",
    "clicks[\"longitude\"] = clicks[\"longitude\"].astype(\"float32\")\n",
    "clicks[\"carrier_id\"] = clicks[\"carrier_id\"].astype(\"category\")\n",
    "clicks[\"timeToClick\"] = clicks[\"timeToClick\"].astype(\"float32\")\n",
    "clicks[\"touchX\"] = clicks[\"touchX\"].astype(\"float32\")\n",
    "clicks[\"touchY\"] = clicks[\"touchY\"].astype(\"float32\")\n",
    "clicks[\"source_id\"] = clicks[\"source_id\"].astype(\"category\")\n",
    "clicks[\"advertiser_id\"] = clicks[\"advertiser_id\"].astype(\"category\") "
   ]
  },
  {
   "cell_type": "code",
   "execution_count": null,
   "metadata": {},
   "outputs": [],
   "source": []
  },
  {
   "cell_type": "code",
   "execution_count": 5,
   "metadata": {},
   "outputs": [
    {
     "data": {
      "text/plain": [
       "0        0.503\n",
       "1        1.689\n",
       "2        0.251\n",
       "3        6.587\n",
       "4        0.142\n",
       "5        0.036\n",
       "6        0.879\n",
       "7          NaN\n",
       "8        7.770\n",
       "9        0.062\n",
       "10       0.542\n",
       "11       0.896\n",
       "12       0.028\n",
       "13       1.333\n",
       "14         NaN\n",
       "15       0.493\n",
       "16         NaN\n",
       "17       0.073\n",
       "18       0.967\n",
       "19       0.076\n",
       "20       0.036\n",
       "21       4.626\n",
       "22       0.875\n",
       "23       0.069\n",
       "24       0.709\n",
       "25       0.715\n",
       "26         NaN\n",
       "27       0.218\n",
       "28       0.573\n",
       "29       2.369\n",
       "         ...  \n",
       "64266    0.029\n",
       "64267    0.661\n",
       "64268    0.956\n",
       "64269    0.624\n",
       "64270    0.594\n",
       "64271    0.785\n",
       "64272    0.689\n",
       "64273    0.421\n",
       "64274    0.023\n",
       "64275    0.080\n",
       "64276    0.960\n",
       "64277    0.692\n",
       "64278    2.254\n",
       "64279    0.921\n",
       "64280    0.034\n",
       "64281    2.211\n",
       "64282    0.934\n",
       "64283    0.622\n",
       "64284    0.526\n",
       "64285    0.839\n",
       "64286    0.806\n",
       "64287    0.305\n",
       "64288    0.024\n",
       "64289    0.652\n",
       "64290      NaN\n",
       "64291    0.040\n",
       "64292    0.844\n",
       "64293      NaN\n",
       "64294    0.134\n",
       "64295    0.054\n",
       "Name: touchY, Length: 64296, dtype: float32"
      ]
     },
     "execution_count": 5,
     "metadata": {},
     "output_type": "execute_result"
    }
   ],
   "source": [
    "clicks[\"carrier_id\"]#Hay que rellenar tiene 1200 nulls\n",
    "clicks[\"os_major\"]#Hay que rellenar tiene 35 nulls\n",
    "clicks[\"os_minor\"]#Hay que rellenar tiene 35 nulls\n",
    "clicks[\"timeToClick\"]#Hay que rellenar con el promedio de tiempo en tocar clicks sin tener en cuenta los clicks que tardaron mas de 10mins(da 46 segs aprox)\n",
    "clicks[\"touchX\"]#Hay que rellenar con el promedio de touchsX\n",
    "clicks[\"touchY\"]#Hay que rellenar con el promedio de touchsY"
   ]
  },
  {
   "cell_type": "code",
   "execution_count": 6,
   "metadata": {},
   "outputs": [
    {
     "data": {
      "text/plain": [
       "(64296, 15)"
      ]
     },
     "execution_count": 6,
     "metadata": {},
     "output_type": "execute_result"
    }
   ],
   "source": [
    "clicks.shape"
   ]
  },
  {
   "cell_type": "code",
   "execution_count": 7,
   "metadata": {
    "scrolled": true
   },
   "outputs": [
    {
     "data": {
      "text/html": [
       "<div>\n",
       "<style scoped>\n",
       "    .dataframe tbody tr th:only-of-type {\n",
       "        vertical-align: middle;\n",
       "    }\n",
       "\n",
       "    .dataframe tbody tr th {\n",
       "        vertical-align: top;\n",
       "    }\n",
       "\n",
       "    .dataframe thead th {\n",
       "        text-align: right;\n",
       "    }\n",
       "</style>\n",
       "<table border=\"1\" class=\"dataframe\">\n",
       "  <thead>\n",
       "    <tr style=\"text-align: right;\">\n",
       "      <th></th>\n",
       "      <th>advertiser_id</th>\n",
       "      <th>source_id</th>\n",
       "      <th>created</th>\n",
       "      <th>latitude</th>\n",
       "      <th>longitude</th>\n",
       "      <th>wifi_connection</th>\n",
       "      <th>carrier_id</th>\n",
       "      <th>os_minor</th>\n",
       "      <th>os_major</th>\n",
       "      <th>specs_brand</th>\n",
       "      <th>timeToClick</th>\n",
       "      <th>touchX</th>\n",
       "      <th>touchY</th>\n",
       "      <th>ref_type</th>\n",
       "      <th>ref_hash</th>\n",
       "    </tr>\n",
       "  </thead>\n",
       "  <tbody>\n",
       "    <tr>\n",
       "      <th>0</th>\n",
       "      <td>1</td>\n",
       "      <td>2</td>\n",
       "      <td>2019-04-18T05:27:42.197Z</td>\n",
       "      <td>1.714547</td>\n",
       "      <td>0.871535</td>\n",
       "      <td>False</td>\n",
       "      <td>3.0</td>\n",
       "      <td>1.517644e+18</td>\n",
       "      <td>5.131616e+18</td>\n",
       "      <td>71913840936116953</td>\n",
       "      <td>2.317000</td>\n",
       "      <td>0.968</td>\n",
       "      <td>0.503</td>\n",
       "      <td>1891515180541284343</td>\n",
       "      <td>1293710398598742392</td>\n",
       "    </tr>\n",
       "    <tr>\n",
       "      <th>1</th>\n",
       "      <td>1</td>\n",
       "      <td>1</td>\n",
       "      <td>2019-04-18T05:27:03.164Z</td>\n",
       "      <td>1.714512</td>\n",
       "      <td>0.871062</td>\n",
       "      <td>True</td>\n",
       "      <td>2.0</td>\n",
       "      <td>1.288578e+18</td>\n",
       "      <td>3.908390e+18</td>\n",
       "      <td>3576558787748411622</td>\n",
       "      <td>7.653000</td>\n",
       "      <td>0.712</td>\n",
       "      <td>1.689</td>\n",
       "      <td>1891515180541284343</td>\n",
       "      <td>1663930990551616564</td>\n",
       "    </tr>\n",
       "    <tr>\n",
       "      <th>2</th>\n",
       "      <td>1</td>\n",
       "      <td>1</td>\n",
       "      <td>2019-04-18T05:42:07.926Z</td>\n",
       "      <td>1.714547</td>\n",
       "      <td>0.871535</td>\n",
       "      <td>True</td>\n",
       "      <td>4.0</td>\n",
       "      <td>2.238736e+18</td>\n",
       "      <td>3.581233e+18</td>\n",
       "      <td>3576558787748411622</td>\n",
       "      <td>464.795990</td>\n",
       "      <td>0.227</td>\n",
       "      <td>0.251</td>\n",
       "      <td>1891515180541284343</td>\n",
       "      <td>8488038938665586188</td>\n",
       "    </tr>\n",
       "    <tr>\n",
       "      <th>3</th>\n",
       "      <td>1</td>\n",
       "      <td>1</td>\n",
       "      <td>2019-04-18T05:26:04.446Z</td>\n",
       "      <td>1.708041</td>\n",
       "      <td>0.870772</td>\n",
       "      <td>True</td>\n",
       "      <td>1.0</td>\n",
       "      <td>2.411640e+18</td>\n",
       "      <td>3.908390e+18</td>\n",
       "      <td>3576558787748411622</td>\n",
       "      <td>225.311005</td>\n",
       "      <td>0.696</td>\n",
       "      <td>6.587</td>\n",
       "      <td>1891515180541284343</td>\n",
       "      <td>6488361690105189959</td>\n",
       "    </tr>\n",
       "    <tr>\n",
       "      <th>4</th>\n",
       "      <td>1</td>\n",
       "      <td>1</td>\n",
       "      <td>2019-04-18T05:23:37.764Z</td>\n",
       "      <td>1.715514</td>\n",
       "      <td>0.870772</td>\n",
       "      <td>True</td>\n",
       "      <td>2.0</td>\n",
       "      <td>1.517644e+18</td>\n",
       "      <td>5.131616e+18</td>\n",
       "      <td>3576558787748411622</td>\n",
       "      <td>84.736000</td>\n",
       "      <td>0.059</td>\n",
       "      <td>0.142</td>\n",
       "      <td>1891515180541284343</td>\n",
       "      <td>1348993302102753419</td>\n",
       "    </tr>\n",
       "  </tbody>\n",
       "</table>\n",
       "</div>"
      ],
      "text/plain": [
       "  advertiser_id source_id                   created  latitude  longitude  \\\n",
       "0             1         2  2019-04-18T05:27:42.197Z  1.714547   0.871535   \n",
       "1             1         1  2019-04-18T05:27:03.164Z  1.714512   0.871062   \n",
       "2             1         1  2019-04-18T05:42:07.926Z  1.714547   0.871535   \n",
       "3             1         1  2019-04-18T05:26:04.446Z  1.708041   0.870772   \n",
       "4             1         1  2019-04-18T05:23:37.764Z  1.715514   0.870772   \n",
       "\n",
       "   wifi_connection carrier_id      os_minor      os_major  \\\n",
       "0            False        3.0  1.517644e+18  5.131616e+18   \n",
       "1             True        2.0  1.288578e+18  3.908390e+18   \n",
       "2             True        4.0  2.238736e+18  3.581233e+18   \n",
       "3             True        1.0  2.411640e+18  3.908390e+18   \n",
       "4             True        2.0  1.517644e+18  5.131616e+18   \n",
       "\n",
       "           specs_brand  timeToClick  touchX  touchY             ref_type  \\\n",
       "0    71913840936116953     2.317000   0.968   0.503  1891515180541284343   \n",
       "1  3576558787748411622     7.653000   0.712   1.689  1891515180541284343   \n",
       "2  3576558787748411622   464.795990   0.227   0.251  1891515180541284343   \n",
       "3  3576558787748411622   225.311005   0.696   6.587  1891515180541284343   \n",
       "4  3576558787748411622    84.736000   0.059   0.142  1891515180541284343   \n",
       "\n",
       "              ref_hash  \n",
       "0  1293710398598742392  \n",
       "1  1663930990551616564  \n",
       "2  8488038938665586188  \n",
       "3  6488361690105189959  \n",
       "4  1348993302102753419  "
      ]
     },
     "execution_count": 7,
     "metadata": {},
     "output_type": "execute_result"
    }
   ],
   "source": [
    "clicks.head()"
   ]
  },
  {
   "cell_type": "code",
   "execution_count": 8,
   "metadata": {},
   "outputs": [
    {
     "data": {
      "text/plain": [
       "2    36135\n",
       "1    27433\n",
       "0      516\n",
       "3      211\n",
       "4        1\n",
       "Name: advertiser_id, dtype: int64"
      ]
     },
     "execution_count": 8,
     "metadata": {},
     "output_type": "execute_result"
    }
   ],
   "source": [
    "clicks[\"advertiser_id\"].value_counts()"
   ]
  },
  {
   "cell_type": "code",
   "execution_count": 9,
   "metadata": {},
   "outputs": [
    {
     "data": {
      "text/plain": [
       "0"
      ]
     },
     "execution_count": 9,
     "metadata": {},
     "output_type": "execute_result"
    }
   ],
   "source": [
    "clicks[\"advertiser_id\"].isnull().sum()"
   ]
  },
  {
   "cell_type": "code",
   "execution_count": null,
   "metadata": {},
   "outputs": [],
   "source": []
  },
  {
   "cell_type": "code",
   "execution_count": 10,
   "metadata": {},
   "outputs": [
    {
     "data": {
      "text/plain": [
       "0"
      ]
     },
     "execution_count": 10,
     "metadata": {},
     "output_type": "execute_result"
    }
   ],
   "source": [
    "clicks[\"source_id\"].isnull().sum()"
   ]
  },
  {
   "cell_type": "code",
   "execution_count": 11,
   "metadata": {},
   "outputs": [
    {
     "data": {
      "text/plain": [
       "1    33695\n",
       "0    17155\n",
       "3     5639\n",
       "2     3878\n",
       "6     2186\n",
       "4      823\n",
       "5      454\n",
       "7      329\n",
       "8      137\n",
       "Name: source_id, dtype: int64"
      ]
     },
     "execution_count": 11,
     "metadata": {},
     "output_type": "execute_result"
    }
   ],
   "source": [
    "clicks[\"source_id\"].value_counts()"
   ]
  },
  {
   "cell_type": "code",
   "execution_count": 12,
   "metadata": {},
   "outputs": [
    {
     "data": {
      "text/plain": [
       "0"
      ]
     },
     "execution_count": 12,
     "metadata": {},
     "output_type": "execute_result"
    }
   ],
   "source": [
    "clicks[\"created\"].isnull().sum()"
   ]
  },
  {
   "cell_type": "code",
   "execution_count": null,
   "metadata": {},
   "outputs": [],
   "source": []
  },
  {
   "cell_type": "code",
   "execution_count": null,
   "metadata": {},
   "outputs": [],
   "source": []
  },
  {
   "cell_type": "code",
   "execution_count": 13,
   "metadata": {},
   "outputs": [
    {
     "data": {
      "text/plain": [
       "0"
      ]
     },
     "execution_count": 13,
     "metadata": {},
     "output_type": "execute_result"
    }
   ],
   "source": [
    "clicks[\"latitude\"].isnull().sum()"
   ]
  },
  {
   "cell_type": "code",
   "execution_count": 14,
   "metadata": {},
   "outputs": [
    {
     "data": {
      "text/plain": [
       "0"
      ]
     },
     "execution_count": 14,
     "metadata": {},
     "output_type": "execute_result"
    }
   ],
   "source": [
    "clicks[\"longitude\"].isnull().sum()"
   ]
  },
  {
   "cell_type": "code",
   "execution_count": 15,
   "metadata": {},
   "outputs": [
    {
     "data": {
      "text/plain": [
       "0"
      ]
     },
     "execution_count": 15,
     "metadata": {},
     "output_type": "execute_result"
    }
   ],
   "source": [
    "clicks[\"wifi_connection\"].isnull().sum()"
   ]
  },
  {
   "cell_type": "code",
   "execution_count": 16,
   "metadata": {},
   "outputs": [
    {
     "data": {
      "text/plain": [
       "True     40254\n",
       "False    24042\n",
       "Name: wifi_connection, dtype: int64"
      ]
     },
     "execution_count": 16,
     "metadata": {},
     "output_type": "execute_result"
    }
   ],
   "source": [
    "clicks[\"wifi_connection\"].value_counts()"
   ]
  },
  {
   "cell_type": "code",
   "execution_count": 17,
   "metadata": {},
   "outputs": [
    {
     "data": {
      "text/plain": [
       "1.0      14992\n",
       "7.0       6696\n",
       "2.0       5758\n",
       "0.0       3977\n",
       "13.0      3494\n",
       "4.0       3378\n",
       "21.0      2917\n",
       "10.0      2424\n",
       "25.0      1946\n",
       "11.0      1819\n",
       "9.0       1711\n",
       "20.0      1256\n",
       "23.0      1212\n",
       "19.0      1173\n",
       "8.0       1000\n",
       "12.0       930\n",
       "22.0       912\n",
       "17.0       783\n",
       "27.0       747\n",
       "3.0        502\n",
       "5.0        490\n",
       "6.0        475\n",
       "37.0       475\n",
       "47.0       420\n",
       "36.0       376\n",
       "24.0       314\n",
       "28.0       250\n",
       "52.0       245\n",
       "48.0       237\n",
       "15.0       188\n",
       "         ...  \n",
       "181.0        1\n",
       "180.0        1\n",
       "179.0        1\n",
       "171.0        1\n",
       "140.0        1\n",
       "161.0        1\n",
       "125.0        1\n",
       "82.0         1\n",
       "83.0         1\n",
       "190.0        1\n",
       "68.0         1\n",
       "96.0         1\n",
       "105.0        1\n",
       "117.0        1\n",
       "60.0         1\n",
       "120.0        1\n",
       "123.0        1\n",
       "128.0        1\n",
       "160.0        1\n",
       "130.0        1\n",
       "135.0        1\n",
       "137.0        1\n",
       "138.0        1\n",
       "139.0        1\n",
       "143.0        1\n",
       "145.0        1\n",
       "149.0        1\n",
       "155.0        1\n",
       "157.0        1\n",
       "191.0        1\n",
       "Name: carrier_id, Length: 182, dtype: int64"
      ]
     },
     "execution_count": 17,
     "metadata": {},
     "output_type": "execute_result"
    }
   ],
   "source": [
    "clicks[\"carrier_id\"].value_counts()"
   ]
  },
  {
   "cell_type": "code",
   "execution_count": 18,
   "metadata": {},
   "outputs": [
    {
     "data": {
      "text/plain": [
       "1199"
      ]
     },
     "execution_count": 18,
     "metadata": {},
     "output_type": "execute_result"
    }
   ],
   "source": [
    "clicks[\"carrier_id\"].isnull().sum()"
   ]
  },
  {
   "cell_type": "code",
   "execution_count": null,
   "metadata": {},
   "outputs": [],
   "source": []
  },
  {
   "cell_type": "code",
   "execution_count": null,
   "metadata": {},
   "outputs": [],
   "source": []
  },
  {
   "cell_type": "code",
   "execution_count": 19,
   "metadata": {},
   "outputs": [
    {
     "data": {
      "text/plain": [
       "35"
      ]
     },
     "execution_count": 19,
     "metadata": {},
     "output_type": "execute_result"
    }
   ],
   "source": [
    "clicks[\"os_major\"].isnull().sum()"
   ]
  },
  {
   "cell_type": "code",
   "execution_count": 20,
   "metadata": {},
   "outputs": [
    {
     "data": {
      "text/plain": [
       "5.131616e+18    26762\n",
       "3.908390e+18    13979\n",
       "5.754947e+18     9627\n",
       "5.648867e+18     5697\n",
       "3.581233e+18     3590\n",
       "8.310800e+18     3259\n",
       "6.900651e+17      815\n",
       "4.449327e+18      268\n",
       "7.623718e+18      156\n",
       "8.079288e+18      103\n",
       "3.184076e+18        3\n",
       "7.531669e+18        1\n",
       "3.564003e+18        1\n",
       "Name: os_major, dtype: int64"
      ]
     },
     "execution_count": 20,
     "metadata": {},
     "output_type": "execute_result"
    }
   ],
   "source": [
    "clicks[\"os_major\"].value_counts()"
   ]
  },
  {
   "cell_type": "code",
   "execution_count": 21,
   "metadata": {},
   "outputs": [
    {
     "data": {
      "text/plain": [
       "1.517644e+18    16432\n",
       "6.795762e+18    10330\n",
       "3.575963e+18     9626\n",
       "1.288578e+18     8681\n",
       "7.531669e+18     5697\n",
       "2.411640e+18     5298\n",
       "5.138422e+18     2528\n",
       "2.238736e+18     2497\n",
       "5.310345e+18     1093\n",
       "6.273862e+18      700\n",
       "1.295193e+18      686\n",
       "3.618192e+18      155\n",
       "6.997704e+18      129\n",
       "4.167211e+18      101\n",
       "7.592820e+18       97\n",
       "7.199889e+18       66\n",
       "6.057028e+18       33\n",
       "4.674602e+18       23\n",
       "1.351827e+18       22\n",
       "2.027026e+18       20\n",
       "5.706763e+18        9\n",
       "7.829704e+18        9\n",
       "8.249712e+18        7\n",
       "5.175418e+18        7\n",
       "5.106671e+17        5\n",
       "1.762460e+18        2\n",
       "8.203607e+18        1\n",
       "6.600854e+18        1\n",
       "7.369656e+18        1\n",
       "3.904691e+18        1\n",
       "6.201797e+18        1\n",
       "6.819200e+18        1\n",
       "8.317279e+18        1\n",
       "6.660544e+18        1\n",
       "Name: os_minor, dtype: int64"
      ]
     },
     "execution_count": 21,
     "metadata": {},
     "output_type": "execute_result"
    }
   ],
   "source": [
    "clicks[\"os_minor\"].value_counts()"
   ]
  },
  {
   "cell_type": "code",
   "execution_count": 22,
   "metadata": {},
   "outputs": [
    {
     "data": {
      "text/plain": [
       "35"
      ]
     },
     "execution_count": 22,
     "metadata": {},
     "output_type": "execute_result"
    }
   ],
   "source": [
    "clicks[\"os_minor\"].isnull().sum()"
   ]
  },
  {
   "cell_type": "code",
   "execution_count": null,
   "metadata": {},
   "outputs": [],
   "source": []
  },
  {
   "cell_type": "code",
   "execution_count": 23,
   "metadata": {},
   "outputs": [
    {
     "data": {
      "text/plain": [
       "0"
      ]
     },
     "execution_count": 23,
     "metadata": {},
     "output_type": "execute_result"
    }
   ],
   "source": [
    "clicks[\"specs_brand\"].isnull().sum()"
   ]
  },
  {
   "cell_type": "code",
   "execution_count": 24,
   "metadata": {},
   "outputs": [
    {
     "data": {
      "text/plain": [
       "71913840936116953      35613\n",
       "3576558787748411622    28659\n",
       "6341583823913642480       13\n",
       "784329784168794382         9\n",
       "4222063286888578800        2\n",
       "Name: specs_brand, dtype: int64"
      ]
     },
     "execution_count": 24,
     "metadata": {},
     "output_type": "execute_result"
    }
   ],
   "source": [
    "clicks[\"specs_brand\"].value_counts()"
   ]
  },
  {
   "cell_type": "code",
   "execution_count": null,
   "metadata": {},
   "outputs": [],
   "source": []
  },
  {
   "cell_type": "code",
   "execution_count": 25,
   "metadata": {},
   "outputs": [
    {
     "data": {
      "text/plain": [
       "26118"
      ]
     },
     "execution_count": 25,
     "metadata": {},
     "output_type": "execute_result"
    }
   ],
   "source": [
    "clicks[\"timeToClick\"].isnull().sum()"
   ]
  },
  {
   "cell_type": "code",
   "execution_count": 26,
   "metadata": {},
   "outputs": [
    {
     "data": {
      "text/plain": [
       "17578.725"
      ]
     },
     "execution_count": 26,
     "metadata": {},
     "output_type": "execute_result"
    }
   ],
   "source": [
    "clicks[\"timeToClick\"].max()"
   ]
  },
  {
   "cell_type": "code",
   "execution_count": 27,
   "metadata": {},
   "outputs": [
    {
     "data": {
      "text/plain": [
       "206.95361328125"
      ]
     },
     "execution_count": 27,
     "metadata": {},
     "output_type": "execute_result"
    }
   ],
   "source": [
    "clicks[\"timeToClick\"].mean()"
   ]
  },
  {
   "cell_type": "code",
   "execution_count": 28,
   "metadata": {},
   "outputs": [],
   "source": [
    "aux = clicks[clicks[\"timeToClick\"] < 600]"
   ]
  },
  {
   "cell_type": "code",
   "execution_count": 29,
   "metadata": {},
   "outputs": [
    {
     "data": {
      "text/plain": [
       "46.60588455200195"
      ]
     },
     "execution_count": 29,
     "metadata": {},
     "output_type": "execute_result"
    }
   ],
   "source": [
    "aux[\"timeToClick\"].mean()"
   ]
  },
  {
   "cell_type": "code",
   "execution_count": 30,
   "metadata": {},
   "outputs": [
    {
     "data": {
      "text/plain": [
       "20618"
      ]
     },
     "execution_count": 30,
     "metadata": {},
     "output_type": "execute_result"
    }
   ],
   "source": [
    "clicks[\"touchX\"].isnull().sum()"
   ]
  },
  {
   "cell_type": "code",
   "execution_count": 31,
   "metadata": {},
   "outputs": [
    {
     "data": {
      "text/plain": [
       "20618"
      ]
     },
     "execution_count": 31,
     "metadata": {},
     "output_type": "execute_result"
    }
   ],
   "source": [
    "clicks[\"touchY\"].isnull().sum()"
   ]
  },
  {
   "cell_type": "code",
   "execution_count": 32,
   "metadata": {},
   "outputs": [
    {
     "data": {
      "text/plain": [
       "0"
      ]
     },
     "execution_count": 32,
     "metadata": {},
     "output_type": "execute_result"
    }
   ],
   "source": [
    "clicks[\"ref_type\"].isnull().sum()"
   ]
  },
  {
   "cell_type": "code",
   "execution_count": 33,
   "metadata": {},
   "outputs": [
    {
     "data": {
      "text/plain": [
       "1891515180541284343    60492\n",
       "1494519392962156891     3804\n",
       "Name: ref_type, dtype: int64"
      ]
     },
     "execution_count": 33,
     "metadata": {},
     "output_type": "execute_result"
    }
   ],
   "source": [
    "clicks[\"ref_type\"].value_counts()"
   ]
  },
  {
   "cell_type": "code",
   "execution_count": 34,
   "metadata": {},
   "outputs": [
    {
     "data": {
      "text/plain": [
       "0"
      ]
     },
     "execution_count": 34,
     "metadata": {},
     "output_type": "execute_result"
    }
   ],
   "source": [
    "clicks[\"ref_hash\"].isnull().sum()"
   ]
  },
  {
   "cell_type": "code",
   "execution_count": 35,
   "metadata": {},
   "outputs": [
    {
     "data": {
      "text/plain": [
       "1999681247947819001    62\n",
       "407335392093682287     54\n",
       "2093218473313726232    50\n",
       "1153786347378072057    43\n",
       "1533680267333692672    43\n",
       "4053371693190335581    42\n",
       "2822277134874324288    40\n",
       "2120207848540337470    36\n",
       "406109452263558491     36\n",
       "1314961964358356814    35\n",
       "1555232256616417943    34\n",
       "3474363326324590034    33\n",
       "6340100001128074332    33\n",
       "336418860500709274     32\n",
       "5563201733118730939    32\n",
       "2191900200262474405    32\n",
       "4788456827412910436    32\n",
       "259739936342986289     30\n",
       "7059506900875777936    30\n",
       "3057463431041942739    30\n",
       "3012384732267112837    29\n",
       "5061761822971260588    29\n",
       "3806738993874726723    29\n",
       "2402572081473431194    27\n",
       "3870573592046145447    27\n",
       "994952742692964169     26\n",
       "2537636611457496026    26\n",
       "8771762948574088406    26\n",
       "5242184845582472615    25\n",
       "3532045874686965865    25\n",
       "                       ..\n",
       "8877312490046041908     1\n",
       "6654704333440840484     1\n",
       "8341985094114606523     1\n",
       "2863744542905491067     1\n",
       "1764718066674572674     1\n",
       "8591403118648112275     1\n",
       "6574744805513602552     1\n",
       "8975180583812849345     1\n",
       "1098002367972593917     1\n",
       "4529511164677743906     1\n",
       "6004326224877076860     1\n",
       "8727600025274809627     1\n",
       "7808470823181840611     1\n",
       "748858307409204403      1\n",
       "8899046924724489100     1\n",
       "2200725278555323510     1\n",
       "8504200433138640757     1\n",
       "2655900231141229172     1\n",
       "3218341529596734913     1\n",
       "749628494579034720      1\n",
       "5861428922883314884     1\n",
       "4893661043111283228     1\n",
       "7325663264922395661     1\n",
       "2581432514657421849     1\n",
       "7911733414211225039     1\n",
       "6231253423868032130     1\n",
       "5550450662040201635     1\n",
       "8503777619366399414     1\n",
       "6321031540476904019     1\n",
       "807316174194042553      1\n",
       "Name: ref_hash, Length: 31809, dtype: int64"
      ]
     },
     "execution_count": 35,
     "metadata": {},
     "output_type": "execute_result"
    }
   ],
   "source": [
    "clicks[\"ref_hash\"].value_counts()"
   ]
  },
  {
   "cell_type": "code",
   "execution_count": 36,
   "metadata": {
    "scrolled": false
   },
   "outputs": [
    {
     "data": {
      "text/plain": [
       "1.0      14992\n",
       "7.0       6696\n",
       "2.0       5758\n",
       "0.0       3977\n",
       "13.0      3494\n",
       "4.0       3378\n",
       "21.0      2917\n",
       "10.0      2424\n",
       "25.0      1946\n",
       "11.0      1819\n",
       "9.0       1711\n",
       "20.0      1256\n",
       "23.0      1212\n",
       "19.0      1173\n",
       "8.0       1000\n",
       "12.0       930\n",
       "22.0       912\n",
       "17.0       783\n",
       "27.0       747\n",
       "3.0        502\n",
       "5.0        490\n",
       "6.0        475\n",
       "37.0       475\n",
       "47.0       420\n",
       "36.0       376\n",
       "24.0       314\n",
       "28.0       250\n",
       "52.0       245\n",
       "48.0       237\n",
       "15.0       188\n",
       "         ...  \n",
       "181.0        1\n",
       "180.0        1\n",
       "179.0        1\n",
       "171.0        1\n",
       "140.0        1\n",
       "161.0        1\n",
       "125.0        1\n",
       "82.0         1\n",
       "83.0         1\n",
       "190.0        1\n",
       "68.0         1\n",
       "96.0         1\n",
       "105.0        1\n",
       "117.0        1\n",
       "60.0         1\n",
       "120.0        1\n",
       "123.0        1\n",
       "128.0        1\n",
       "160.0        1\n",
       "130.0        1\n",
       "135.0        1\n",
       "137.0        1\n",
       "138.0        1\n",
       "139.0        1\n",
       "143.0        1\n",
       "145.0        1\n",
       "149.0        1\n",
       "155.0        1\n",
       "157.0        1\n",
       "191.0        1\n",
       "Name: carrier_id, Length: 182, dtype: int64"
      ]
     },
     "execution_count": 36,
     "metadata": {},
     "output_type": "execute_result"
    }
   ],
   "source": [
    "clicks[\"carrier_id\"].value_counts()"
   ]
  },
  {
   "cell_type": "code",
   "execution_count": 37,
   "metadata": {},
   "outputs": [],
   "source": [
    "clicks[\"os_minor\"].fillna(clicks[\"os_minor\"].mode().values[0], inplace = True)"
   ]
  },
  {
   "cell_type": "code",
   "execution_count": 38,
   "metadata": {},
   "outputs": [
    {
     "data": {
      "text/plain": [
       "0"
      ]
     },
     "execution_count": 38,
     "metadata": {},
     "output_type": "execute_result"
    }
   ],
   "source": [
    "clicks[\"os_minor\"].isnull().sum()"
   ]
  },
  {
   "cell_type": "code",
   "execution_count": 39,
   "metadata": {},
   "outputs": [],
   "source": [
    "clicks[\"os_major\"].fillna(clicks[\"os_major\"].mode().values[0], inplace = True)"
   ]
  },
  {
   "cell_type": "code",
   "execution_count": 40,
   "metadata": {},
   "outputs": [
    {
     "data": {
      "text/plain": [
       "0"
      ]
     },
     "execution_count": 40,
     "metadata": {},
     "output_type": "execute_result"
    }
   ],
   "source": [
    "clicks[\"os_major\"].isnull().sum()"
   ]
  },
  {
   "cell_type": "code",
   "execution_count": null,
   "metadata": {},
   "outputs": [],
   "source": []
  },
  {
   "cell_type": "code",
   "execution_count": null,
   "metadata": {},
   "outputs": [],
   "source": []
  },
  {
   "cell_type": "code",
   "execution_count": 41,
   "metadata": {},
   "outputs": [
    {
     "data": {
      "text/plain": [
       "(64296, 15)"
      ]
     },
     "execution_count": 41,
     "metadata": {},
     "output_type": "execute_result"
    }
   ],
   "source": [
    "clicks.shape"
   ]
  },
  {
   "cell_type": "code",
   "execution_count": 42,
   "metadata": {},
   "outputs": [
    {
     "data": {
      "text/plain": [
       "7854           inf\n",
       "42610    16.229000\n",
       "1430     15.962000\n",
       "54342    15.800000\n",
       "8157     15.544000\n",
       "Name: touchY, dtype: float32"
      ]
     },
     "execution_count": 42,
     "metadata": {},
     "output_type": "execute_result"
    }
   ],
   "source": [
    "clicks[\"touchY\"].nlargest()"
   ]
  },
  {
   "cell_type": "code",
   "execution_count": 43,
   "metadata": {},
   "outputs": [],
   "source": [
    "clicks = clicks.drop([7854],axis=0)"
   ]
  },
  {
   "cell_type": "code",
   "execution_count": 44,
   "metadata": {},
   "outputs": [
    {
     "data": {
      "text/plain": [
       "(64295, 15)"
      ]
     },
     "execution_count": 44,
     "metadata": {},
     "output_type": "execute_result"
    }
   ],
   "source": [
    "clicks.shape"
   ]
  },
  {
   "cell_type": "code",
   "execution_count": 45,
   "metadata": {},
   "outputs": [
    {
     "data": {
      "text/plain": [
       "12219    1.603\n",
       "62300    1.057\n",
       "45825    1.019\n",
       "52643    1.019\n",
       "59440    1.019\n",
       "Name: touchX, dtype: float32"
      ]
     },
     "execution_count": 45,
     "metadata": {},
     "output_type": "execute_result"
    }
   ],
   "source": [
    "clicks[\"touchX\"].nlargest()"
   ]
  },
  {
   "cell_type": "code",
   "execution_count": 46,
   "metadata": {},
   "outputs": [
    {
     "data": {
      "text/plain": [
       "42610    16.229\n",
       "1430     15.962\n",
       "54342    15.800\n",
       "8157     15.544\n",
       "62267    15.543\n",
       "Name: touchY, dtype: float32"
      ]
     },
     "execution_count": 46,
     "metadata": {},
     "output_type": "execute_result"
    }
   ],
   "source": [
    "clicks[\"touchY\"].nlargest()"
   ]
  },
  {
   "cell_type": "code",
   "execution_count": 47,
   "metadata": {},
   "outputs": [],
   "source": [
    "clicks[\"touchX\"].fillna(clicks[\"touchX\"].mean(), inplace = True)"
   ]
  },
  {
   "cell_type": "code",
   "execution_count": 48,
   "metadata": {},
   "outputs": [
    {
     "data": {
      "text/plain": [
       "0"
      ]
     },
     "execution_count": 48,
     "metadata": {},
     "output_type": "execute_result"
    }
   ],
   "source": [
    "clicks[\"touchX\"].isnull().sum()"
   ]
  },
  {
   "cell_type": "code",
   "execution_count": 49,
   "metadata": {},
   "outputs": [],
   "source": [
    "clicks[\"touchY\"].fillna(clicks[\"touchY\"].mean(), inplace = True)"
   ]
  },
  {
   "cell_type": "code",
   "execution_count": 50,
   "metadata": {},
   "outputs": [
    {
     "data": {
      "text/plain": [
       "0"
      ]
     },
     "execution_count": 50,
     "metadata": {},
     "output_type": "execute_result"
    }
   ],
   "source": [
    "clicks[\"touchY\"].isnull().sum()"
   ]
  },
  {
   "cell_type": "code",
   "execution_count": 51,
   "metadata": {},
   "outputs": [
    {
     "data": {
      "text/plain": [
       "advertiser_id      category\n",
       "source_id          category\n",
       "created              object\n",
       "latitude            float32\n",
       "longitude           float32\n",
       "wifi_connection        bool\n",
       "carrier_id         category\n",
       "os_minor            float64\n",
       "os_major            float64\n",
       "specs_brand           int64\n",
       "timeToClick         float32\n",
       "touchX              float32\n",
       "touchY              float32\n",
       "ref_type              int64\n",
       "ref_hash              int64\n",
       "dtype: object"
      ]
     },
     "execution_count": 51,
     "metadata": {},
     "output_type": "execute_result"
    }
   ],
   "source": [
    "clicks.dtypes"
   ]
  },
  {
   "cell_type": "code",
   "execution_count": 52,
   "metadata": {},
   "outputs": [],
   "source": [
    "aux = clicks[clicks[\"timeToClick\"] < 600]"
   ]
  },
  {
   "cell_type": "code",
   "execution_count": 53,
   "metadata": {},
   "outputs": [
    {
     "data": {
      "text/plain": [
       "(35747, 15)"
      ]
     },
     "execution_count": 53,
     "metadata": {},
     "output_type": "execute_result"
    }
   ],
   "source": [
    "aux.shape"
   ]
  },
  {
   "cell_type": "code",
   "execution_count": 54,
   "metadata": {},
   "outputs": [
    {
     "data": {
      "text/plain": [
       "46.60588455200195"
      ]
     },
     "execution_count": 54,
     "metadata": {},
     "output_type": "execute_result"
    }
   ],
   "source": [
    "timeToClick_mean = aux[\"timeToClick\"].mean()\n",
    "timeToClick_mean"
   ]
  },
  {
   "cell_type": "code",
   "execution_count": 55,
   "metadata": {},
   "outputs": [
    {
     "data": {
      "text/plain": [
       "(64295, 15)"
      ]
     },
     "execution_count": 55,
     "metadata": {},
     "output_type": "execute_result"
    }
   ],
   "source": [
    "clicks.shape"
   ]
  },
  {
   "cell_type": "code",
   "execution_count": 56,
   "metadata": {},
   "outputs": [],
   "source": [
    "clicks[\"timeToClick\"].fillna(timeToClick_mean, inplace = True)"
   ]
  },
  {
   "cell_type": "code",
   "execution_count": 57,
   "metadata": {},
   "outputs": [
    {
     "data": {
      "text/plain": [
       "0"
      ]
     },
     "execution_count": 57,
     "metadata": {},
     "output_type": "execute_result"
    }
   ],
   "source": [
    "clicks[\"timeToClick\"].isnull().sum()"
   ]
  },
  {
   "cell_type": "code",
   "execution_count": null,
   "metadata": {},
   "outputs": [],
   "source": []
  },
  {
   "cell_type": "code",
   "execution_count": null,
   "metadata": {},
   "outputs": [],
   "source": []
  },
  {
   "cell_type": "code",
   "execution_count": 58,
   "metadata": {},
   "outputs": [
    {
     "data": {
      "text/plain": [
       "1.0      14992\n",
       "7.0       6696\n",
       "2.0       5758\n",
       "0.0       3977\n",
       "13.0      3494\n",
       "4.0       3378\n",
       "21.0      2917\n",
       "10.0      2424\n",
       "25.0      1945\n",
       "11.0      1819\n",
       "9.0       1711\n",
       "20.0      1256\n",
       "23.0      1212\n",
       "19.0      1173\n",
       "8.0       1000\n",
       "12.0       930\n",
       "22.0       912\n",
       "17.0       783\n",
       "27.0       747\n",
       "3.0        502\n",
       "5.0        490\n",
       "6.0        475\n",
       "37.0       475\n",
       "47.0       420\n",
       "36.0       376\n",
       "24.0       314\n",
       "28.0       250\n",
       "52.0       245\n",
       "48.0       237\n",
       "15.0       188\n",
       "         ...  \n",
       "181.0        1\n",
       "180.0        1\n",
       "179.0        1\n",
       "171.0        1\n",
       "140.0        1\n",
       "161.0        1\n",
       "125.0        1\n",
       "82.0         1\n",
       "83.0         1\n",
       "190.0        1\n",
       "68.0         1\n",
       "96.0         1\n",
       "105.0        1\n",
       "117.0        1\n",
       "60.0         1\n",
       "120.0        1\n",
       "123.0        1\n",
       "128.0        1\n",
       "160.0        1\n",
       "130.0        1\n",
       "135.0        1\n",
       "137.0        1\n",
       "138.0        1\n",
       "139.0        1\n",
       "143.0        1\n",
       "145.0        1\n",
       "149.0        1\n",
       "155.0        1\n",
       "157.0        1\n",
       "191.0        1\n",
       "Name: carrier_id, Length: 182, dtype: int64"
      ]
     },
     "execution_count": 58,
     "metadata": {},
     "output_type": "execute_result"
    }
   ],
   "source": [
    "clicks[\"carrier_id\"].value_counts()"
   ]
  },
  {
   "cell_type": "code",
   "execution_count": 59,
   "metadata": {},
   "outputs": [],
   "source": [
    "clicks[\"carrier_id\"].fillna(clicks[\"carrier_id\"].mode().values[0], inplace = True)"
   ]
  },
  {
   "cell_type": "code",
   "execution_count": 60,
   "metadata": {},
   "outputs": [
    {
     "data": {
      "text/plain": [
       "1.0      16191\n",
       "7.0       6696\n",
       "2.0       5758\n",
       "0.0       3977\n",
       "13.0      3494\n",
       "4.0       3378\n",
       "21.0      2917\n",
       "10.0      2424\n",
       "25.0      1945\n",
       "11.0      1819\n",
       "9.0       1711\n",
       "20.0      1256\n",
       "23.0      1212\n",
       "19.0      1173\n",
       "8.0       1000\n",
       "12.0       930\n",
       "22.0       912\n",
       "17.0       783\n",
       "27.0       747\n",
       "3.0        502\n",
       "5.0        490\n",
       "6.0        475\n",
       "37.0       475\n",
       "47.0       420\n",
       "36.0       376\n",
       "24.0       314\n",
       "28.0       250\n",
       "52.0       245\n",
       "48.0       237\n",
       "15.0       188\n",
       "         ...  \n",
       "181.0        1\n",
       "180.0        1\n",
       "179.0        1\n",
       "171.0        1\n",
       "140.0        1\n",
       "161.0        1\n",
       "125.0        1\n",
       "82.0         1\n",
       "83.0         1\n",
       "190.0        1\n",
       "68.0         1\n",
       "96.0         1\n",
       "105.0        1\n",
       "117.0        1\n",
       "60.0         1\n",
       "120.0        1\n",
       "123.0        1\n",
       "128.0        1\n",
       "160.0        1\n",
       "130.0        1\n",
       "135.0        1\n",
       "137.0        1\n",
       "138.0        1\n",
       "139.0        1\n",
       "143.0        1\n",
       "145.0        1\n",
       "149.0        1\n",
       "155.0        1\n",
       "157.0        1\n",
       "191.0        1\n",
       "Name: carrier_id, Length: 182, dtype: int64"
      ]
     },
     "execution_count": 60,
     "metadata": {},
     "output_type": "execute_result"
    }
   ],
   "source": [
    "clicks[\"carrier_id\"].value_counts()"
   ]
  },
  {
   "cell_type": "code",
   "execution_count": 61,
   "metadata": {},
   "outputs": [
    {
     "data": {
      "text/plain": [
       "0"
      ]
     },
     "execution_count": 61,
     "metadata": {},
     "output_type": "execute_result"
    }
   ],
   "source": [
    "clicks[\"carrier_id\"].isnull().sum()"
   ]
  },
  {
   "cell_type": "code",
   "execution_count": 64,
   "metadata": {},
   "outputs": [
    {
     "data": {
      "text/plain": [
       "0"
      ]
     },
     "execution_count": 64,
     "metadata": {},
     "output_type": "execute_result"
    }
   ],
   "source": [
    "clicks.isnull().sum().sum()"
   ]
  },
  {
   "cell_type": "code",
   "execution_count": null,
   "metadata": {},
   "outputs": [],
   "source": []
  }
 ],
 "metadata": {
  "kernelspec": {
   "display_name": "Python 3",
   "language": "python",
   "name": "python3"
  },
  "language_info": {
   "codemirror_mode": {
    "name": "ipython",
    "version": 3
   },
   "file_extension": ".py",
   "mimetype": "text/x-python",
   "name": "python",
   "nbconvert_exporter": "python",
   "pygments_lexer": "ipython3",
   "version": "3.7.1"
  }
 },
 "nbformat": 4,
 "nbformat_minor": 2
}

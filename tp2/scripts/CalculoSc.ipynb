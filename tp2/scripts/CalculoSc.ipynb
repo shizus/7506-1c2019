{
 "cells": [
  {
   "cell_type": "code",
   "execution_count": 46,
   "metadata": {},
   "outputs": [],
   "source": [
    "import pandas as pd\n",
    "import numpy as np\n",
    "import joblib\n",
    "from sklearn.metrics import mean_squared_error\n",
    "from sklearn.model_selection import train_test_split"
   ]
  },
  {
   "cell_type": "markdown",
   "metadata": {},
   "source": [
    "# Preparo los features"
   ]
  },
  {
   "cell_type": "code",
   "execution_count": 2,
   "metadata": {},
   "outputs": [],
   "source": [
    "installs = pd.read_csv('../datos/installs.csv', dtype ={'device_language' : 'str', 'click_hash': object, 'wifi': object, 'trans_id': object})"
   ]
  },
  {
   "cell_type": "code",
   "execution_count": 3,
   "metadata": {},
   "outputs": [],
   "source": [
    "# No tiene sentido quedarse con el pais, porque es uno solo\n",
    "#No tiene sentido quedarse con la columna trans_id. El 98% de los valores son Null\n",
    "#No tiene sentido quedarse con click_hash, el 99% de los valors son null\n",
    "#No tiene sentido quedarse con event_uuid, el 78% de los valores son null\n",
    "#No tiene sentido quedarse con kind, el 78% de los valores son null\n",
    "#No tiene sentido quedarse con wifi, el 48% de los valores son null\n",
    "#No tiene sentido quedarse con device_brand. El 42% son null\n",
    "#No tiene sentido quedarse con la columna user_agent El 31% de los valores son Null\n",
    "#¿Tiene sentido quedarse con la columna session_user_agent? El 3% de los valores son Null\n",
    "# session_user_agent tiene el 3% de los valores null. Borro esas filas\n",
    "del installs['trans_id']\n",
    "del installs['device_countrycode']\n",
    "del installs['click_hash']\n",
    "del installs['event_uuid']\n",
    "del installs['kind']\n",
    "del installs['wifi']\n",
    "del installs['device_brand']\n",
    "del installs['user_agent']\n",
    "del installs['session_user_agent']\n",
    "\n",
    "##Borro las filas que tienen null en device_model y device_language. Juntas son el 5% de las filas en null\n",
    "installs = installs[pd.notnull(installs['device_model'])]\n",
    "installs = installs[pd.notnull(installs['device_language'])]"
   ]
  },
  {
   "cell_type": "code",
   "execution_count": 4,
   "metadata": {},
   "outputs": [],
   "source": [
    "installs['created'] = pd.to_datetime(installs['created'], errors = 'coerce')\n",
    "installs = installs.sort_values(by = ['ref_hash', 'created'])"
   ]
  },
  {
   "cell_type": "code",
   "execution_count": 5,
   "metadata": {},
   "outputs": [],
   "source": [
    "events = pd.read_csv('../datos/events.csv',\n",
    "                     dtype={\n",
    "                         'device_countrycode': 'category', \n",
    "                         'device_city': 'category',\n",
    "                         'ref_type': 'int64',\n",
    "                         'application_id': 'int64',\n",
    "                         'device_os_version': 'category',\n",
    "                         'device_brand': 'category',\n",
    "                         'device_model': 'float64',\n",
    "                         'session_user_agent': 'category',\n",
    "                         'trans_id': 'category',\n",
    "                         'user_agent': 'category',\n",
    "                         'carrier': 'category',\n",
    "                         'device_os': 'category',\n",
    "                         'device_os_version': 'category',\n",
    "                         'device_language': 'category',\n",
    "                         'connection_type': 'category',\n",
    "                         'wifi': 'bool'\n",
    "                     })"
   ]
  },
  {
   "cell_type": "code",
   "execution_count": 6,
   "metadata": {},
   "outputs": [],
   "source": [
    "del events['attributed']\n",
    "del events['device_countrycode'] #Borrada porque hay un solo país\n",
    "del events['trans_id'] #Borrada por tener muy pocos valores (37000/7000000)\n",
    "del events['event_uuid'] #Borrada por tener todos los valores distintos\n",
    "del events['device_os_version'] #Borrado por tener 70% de los valores nulos.\n",
    "del events['device_brand'] #Borrado por tener 67% de los valores nulos\n",
    "del events['device_city'] #Borrado por tener 76% de los valores nulos\n",
    "del events['user_agent'] #Borrado por tener 57% de los valores nulos\n",
    "del events['carrier'] #Borrado por tener 75% de los valores nulos\n",
    "del events['device_os'] #Borrado por tener 76% de los valores nulos\n",
    "del events['connection_type'] #Borrado por tener 77% de los valores nulos\n",
    "del events['session_user_agent']\n",
    "#------------------------------------------------------------------\n",
    "events = events[pd.notnull(events['kind'])] #Borrados las filas nulas (0,5%)\n",
    "#------------------------------------------------------------------\n",
    "events = events[pd.notnull(events['device_model'])]"
   ]
  },
  {
   "cell_type": "code",
   "execution_count": 7,
   "metadata": {},
   "outputs": [
    {
     "data": {
      "text/plain": [
       "348229"
      ]
     },
     "execution_count": 7,
     "metadata": {},
     "output_type": "execute_result"
    }
   ],
   "source": [
    "events['ref_hash'].value_counts().count()"
   ]
  },
  {
   "cell_type": "code",
   "execution_count": 8,
   "metadata": {},
   "outputs": [
    {
     "data": {
      "text/plain": [
       "373799"
      ]
     },
     "execution_count": 8,
     "metadata": {},
     "output_type": "execute_result"
    }
   ],
   "source": [
    "installs['ref_hash'].value_counts().count()"
   ]
  },
  {
   "cell_type": "code",
   "execution_count": 9,
   "metadata": {},
   "outputs": [
    {
     "data": {
      "text/html": [
       "<div>\n",
       "<style scoped>\n",
       "    .dataframe tbody tr th:only-of-type {\n",
       "        vertical-align: middle;\n",
       "    }\n",
       "\n",
       "    .dataframe tbody tr th {\n",
       "        vertical-align: top;\n",
       "    }\n",
       "\n",
       "    .dataframe thead th {\n",
       "        text-align: right;\n",
       "    }\n",
       "</style>\n",
       "<table border=\"1\" class=\"dataframe\">\n",
       "  <thead>\n",
       "    <tr style=\"text-align: right;\">\n",
       "      <th></th>\n",
       "      <th>created</th>\n",
       "      <th>application_id</th>\n",
       "      <th>ref_type</th>\n",
       "      <th>ref_hash</th>\n",
       "      <th>attributed</th>\n",
       "      <th>implicit</th>\n",
       "      <th>device_model</th>\n",
       "      <th>ip_address</th>\n",
       "      <th>device_language</th>\n",
       "    </tr>\n",
       "  </thead>\n",
       "  <tbody>\n",
       "    <tr>\n",
       "      <th>46742</th>\n",
       "      <td>2019-04-21 19:17:47.657</td>\n",
       "      <td>77</td>\n",
       "      <td>1891515180541284343</td>\n",
       "      <td>40621409780134</td>\n",
       "      <td>False</td>\n",
       "      <td>False</td>\n",
       "      <td>2.019322e+18</td>\n",
       "      <td>990380024993756535</td>\n",
       "      <td>3.3013777759776993e+18</td>\n",
       "    </tr>\n",
       "    <tr>\n",
       "      <th>398921</th>\n",
       "      <td>2019-04-18 21:11:50.326</td>\n",
       "      <td>121</td>\n",
       "      <td>1891515180541284343</td>\n",
       "      <td>41863526108385</td>\n",
       "      <td>False</td>\n",
       "      <td>True</td>\n",
       "      <td>1.658417e+18</td>\n",
       "      <td>7530145772806895848</td>\n",
       "      <td>6.977049253562486e+18</td>\n",
       "    </tr>\n",
       "    <tr>\n",
       "      <th>249204</th>\n",
       "      <td>2019-04-18 21:11:51.966</td>\n",
       "      <td>121</td>\n",
       "      <td>1891515180541284343</td>\n",
       "      <td>41863526108385</td>\n",
       "      <td>False</td>\n",
       "      <td>False</td>\n",
       "      <td>1.658417e+18</td>\n",
       "      <td>7530145772806895848</td>\n",
       "      <td>6.977049253562486e+18</td>\n",
       "    </tr>\n",
       "    <tr>\n",
       "      <th>112218</th>\n",
       "      <td>2019-04-18 21:17:11.946</td>\n",
       "      <td>65</td>\n",
       "      <td>1891515180541284343</td>\n",
       "      <td>41863526108385</td>\n",
       "      <td>False</td>\n",
       "      <td>False</td>\n",
       "      <td>1.658417e+18</td>\n",
       "      <td>7530145772806895848</td>\n",
       "      <td>6.977049253562486e+18</td>\n",
       "    </tr>\n",
       "    <tr>\n",
       "      <th>112200</th>\n",
       "      <td>2019-04-18 21:17:16.531</td>\n",
       "      <td>65</td>\n",
       "      <td>1891515180541284343</td>\n",
       "      <td>41863526108385</td>\n",
       "      <td>False</td>\n",
       "      <td>True</td>\n",
       "      <td>1.658417e+18</td>\n",
       "      <td>7530145772806895848</td>\n",
       "      <td>6.977049253562486e+18</td>\n",
       "    </tr>\n",
       "  </tbody>\n",
       "</table>\n",
       "</div>"
      ],
      "text/plain": [
       "                       created  application_id             ref_type  \\\n",
       "46742  2019-04-21 19:17:47.657              77  1891515180541284343   \n",
       "398921 2019-04-18 21:11:50.326             121  1891515180541284343   \n",
       "249204 2019-04-18 21:11:51.966             121  1891515180541284343   \n",
       "112218 2019-04-18 21:17:11.946              65  1891515180541284343   \n",
       "112200 2019-04-18 21:17:16.531              65  1891515180541284343   \n",
       "\n",
       "              ref_hash  attributed  implicit  device_model  \\\n",
       "46742   40621409780134       False     False  2.019322e+18   \n",
       "398921  41863526108385       False      True  1.658417e+18   \n",
       "249204  41863526108385       False     False  1.658417e+18   \n",
       "112218  41863526108385       False     False  1.658417e+18   \n",
       "112200  41863526108385       False      True  1.658417e+18   \n",
       "\n",
       "                 ip_address         device_language  \n",
       "46742    990380024993756535  3.3013777759776993e+18  \n",
       "398921  7530145772806895848   6.977049253562486e+18  \n",
       "249204  7530145772806895848   6.977049253562486e+18  \n",
       "112218  7530145772806895848   6.977049253562486e+18  \n",
       "112200  7530145772806895848   6.977049253562486e+18  "
      ]
     },
     "execution_count": 9,
     "metadata": {},
     "output_type": "execute_result"
    }
   ],
   "source": [
    "installs.head()"
   ]
  },
  {
   "cell_type": "code",
   "execution_count": 10,
   "metadata": {},
   "outputs": [],
   "source": [
    "eventos = events.groupby('ref_hash').agg({'wifi' : 'mean', 'application_id' : 'count', 'kind' : 'nunique', 'event_id' : 'count'}).reset_index()"
   ]
  },
  {
   "cell_type": "code",
   "execution_count": 11,
   "metadata": {},
   "outputs": [],
   "source": [
    "events['mode_model'] = events.groupby('ref_hash')['device_model'].agg(lambda x: x.value_counts().index[0])\n",
    "events['mode_lang'] = events.groupby('ref_hash')['device_language'].agg(lambda x: x.value_counts().index[0])"
   ]
  },
  {
   "cell_type": "code",
   "execution_count": 12,
   "metadata": {},
   "outputs": [],
   "source": [
    "installs['total_apps'] = installs.groupby('ref_hash')['application_id'].transform('count')\n",
    "installs['%implicit'] = installs.groupby('ref_hash')['implicit'].transform('mean')\n",
    "installs['%attributed'] = installs.groupby('ref_hash')['attributed'].transform('mean')\n",
    "installs['most_freq_lang'] = installs.groupby('ref_hash')['device_language'].transform(lambda x: x.mode().iloc[0])\n",
    "installs['most_freq_app'] = installs.groupby('ref_hash')['application_id'].transform(lambda x: x.mode().iloc[0])\n",
    "installs['model'] = installs.groupby('ref_hash')['device_model'].transform(lambda x: x.mode().iloc[0])\n",
    "installs['ip'] = installs.groupby('ref_hash')['ip_address'].transform(lambda x: x.mode().iloc[0])"
   ]
  },
  {
   "cell_type": "code",
   "execution_count": 13,
   "metadata": {},
   "outputs": [],
   "source": [
    "installs['events_%wifi'] = installs['ref_hash'].map(eventos.set_index('ref_hash')['wifi'])\n",
    "installs['event_apps'] = installs['ref_hash'].map(eventos.set_index('ref_hash')['application_id'])\n",
    "installs['distinct_events'] = installs['ref_hash'].map(eventos.set_index('ref_hash')['kind'])\n",
    "installs['total_events'] = installs['ref_hash'].map(eventos.set_index('ref_hash')['event_id'])"
   ]
  },
  {
   "cell_type": "code",
   "execution_count": 14,
   "metadata": {},
   "outputs": [],
   "source": [
    "del installs['attributed']\n",
    "del installs['implicit']\n",
    "del installs['application_id']\n",
    "del installs['device_model']\n",
    "del installs['ip_address']\n",
    "del installs['device_language']"
   ]
  },
  {
   "cell_type": "code",
   "execution_count": 15,
   "metadata": {
    "scrolled": false
   },
   "outputs": [],
   "source": [
    "installs.fillna(0, inplace=True)"
   ]
  },
  {
   "cell_type": "code",
   "execution_count": 16,
   "metadata": {},
   "outputs": [],
   "source": [
    "installs = installs.sort_values(by = ['ref_hash', 'created'])"
   ]
  },
  {
   "cell_type": "code",
   "execution_count": 17,
   "metadata": {},
   "outputs": [],
   "source": [
    "installs['most_freq_lang'] = installs['most_freq_lang'].astype('float64')"
   ]
  },
  {
   "cell_type": "code",
   "execution_count": 18,
   "metadata": {},
   "outputs": [],
   "source": [
    "installs1 = installs[(installs['created'].dt.day < 21)]\n",
    "installs2 = installs[(installs['created'].dt.day > 18) & (installs['created'].dt.day < 22)]\n",
    "installs3 = installs[(installs['created'].dt.day > 19) & (installs['created'].dt.day < 23)]\n",
    "installs4 = installs[(installs['created'].dt.day > 20) & (installs['created'].dt.day < 24)]\n",
    "installs5 = installs[(installs['created'].dt.day > 21) & (installs['created'].dt.day < 25)]\n",
    "installsCheck1 = installs[(installs['created'].dt.day > 20) & (installs['created'].dt.day < 23)]\n",
    "installsCheck2 = installs[(installs['created'].dt.day > 21) & (installs['created'].dt.day < 24)]\n",
    "installsCheck3 = installs[(installs['created'].dt.day > 22) & (installs['created'].dt.day < 25)]\n",
    "installsCheck4 = installs[(installs['created'].dt.day > 23) & (installs['created'].dt.day < 26)]\n",
    "installsCheck5 = installs[(installs['created'].dt.day > 24) & (installs['created'].dt.day < 27)]"
   ]
  },
  {
   "cell_type": "code",
   "execution_count": 19,
   "metadata": {},
   "outputs": [
    {
     "name": "stderr",
     "output_type": "stream",
     "text": [
      "/home/gabriel/workspace/7506-1c2019/env/lib/python3.5/site-packages/ipykernel_launcher.py:1: SettingWithCopyWarning: \n",
      "A value is trying to be set on a copy of a slice from a DataFrame.\n",
      "Try using .loc[row_indexer,col_indexer] = value instead\n",
      "\n",
      "See the caveats in the documentation: http://pandas.pydata.org/pandas-docs/stable/indexing.html#indexing-view-versus-copy\n",
      "  \"\"\"Entry point for launching an IPython kernel.\n",
      "/home/gabriel/workspace/7506-1c2019/env/lib/python3.5/site-packages/ipykernel_launcher.py:2: SettingWithCopyWarning: \n",
      "A value is trying to be set on a copy of a slice from a DataFrame.\n",
      "Try using .loc[row_indexer,col_indexer] = value instead\n",
      "\n",
      "See the caveats in the documentation: http://pandas.pydata.org/pandas-docs/stable/indexing.html#indexing-view-versus-copy\n",
      "  \n",
      "/home/gabriel/workspace/7506-1c2019/env/lib/python3.5/site-packages/ipykernel_launcher.py:3: SettingWithCopyWarning: \n",
      "A value is trying to be set on a copy of a slice from a DataFrame.\n",
      "Try using .loc[row_indexer,col_indexer] = value instead\n",
      "\n",
      "See the caveats in the documentation: http://pandas.pydata.org/pandas-docs/stable/indexing.html#indexing-view-versus-copy\n",
      "  This is separate from the ipykernel package so we can avoid doing imports until\n",
      "/home/gabriel/workspace/7506-1c2019/env/lib/python3.5/site-packages/ipykernel_launcher.py:4: SettingWithCopyWarning: \n",
      "A value is trying to be set on a copy of a slice from a DataFrame.\n",
      "Try using .loc[row_indexer,col_indexer] = value instead\n",
      "\n",
      "See the caveats in the documentation: http://pandas.pydata.org/pandas-docs/stable/indexing.html#indexing-view-versus-copy\n",
      "  after removing the cwd from sys.path.\n",
      "/home/gabriel/workspace/7506-1c2019/env/lib/python3.5/site-packages/ipykernel_launcher.py:5: SettingWithCopyWarning: \n",
      "A value is trying to be set on a copy of a slice from a DataFrame.\n",
      "Try using .loc[row_indexer,col_indexer] = value instead\n",
      "\n",
      "See the caveats in the documentation: http://pandas.pydata.org/pandas-docs/stable/indexing.html#indexing-view-versus-copy\n",
      "  \"\"\"\n",
      "/home/gabriel/workspace/7506-1c2019/env/lib/python3.5/site-packages/ipykernel_launcher.py:6: SettingWithCopyWarning: \n",
      "A value is trying to be set on a copy of a slice from a DataFrame.\n",
      "Try using .loc[row_indexer,col_indexer] = value instead\n",
      "\n",
      "See the caveats in the documentation: http://pandas.pydata.org/pandas-docs/stable/indexing.html#indexing-view-versus-copy\n",
      "  \n",
      "/home/gabriel/workspace/7506-1c2019/env/lib/python3.5/site-packages/ipykernel_launcher.py:7: SettingWithCopyWarning: \n",
      "A value is trying to be set on a copy of a slice from a DataFrame.\n",
      "Try using .loc[row_indexer,col_indexer] = value instead\n",
      "\n",
      "See the caveats in the documentation: http://pandas.pydata.org/pandas-docs/stable/indexing.html#indexing-view-versus-copy\n",
      "  import sys\n",
      "/home/gabriel/workspace/7506-1c2019/env/lib/python3.5/site-packages/ipykernel_launcher.py:8: SettingWithCopyWarning: \n",
      "A value is trying to be set on a copy of a slice from a DataFrame.\n",
      "Try using .loc[row_indexer,col_indexer] = value instead\n",
      "\n",
      "See the caveats in the documentation: http://pandas.pydata.org/pandas-docs/stable/indexing.html#indexing-view-versus-copy\n",
      "  \n",
      "/home/gabriel/workspace/7506-1c2019/env/lib/python3.5/site-packages/ipykernel_launcher.py:9: SettingWithCopyWarning: \n",
      "A value is trying to be set on a copy of a slice from a DataFrame.\n",
      "Try using .loc[row_indexer,col_indexer] = value instead\n",
      "\n",
      "See the caveats in the documentation: http://pandas.pydata.org/pandas-docs/stable/indexing.html#indexing-view-versus-copy\n",
      "  if __name__ == '__main__':\n",
      "/home/gabriel/workspace/7506-1c2019/env/lib/python3.5/site-packages/ipykernel_launcher.py:10: SettingWithCopyWarning: \n",
      "A value is trying to be set on a copy of a slice from a DataFrame.\n",
      "Try using .loc[row_indexer,col_indexer] = value instead\n",
      "\n",
      "See the caveats in the documentation: http://pandas.pydata.org/pandas-docs/stable/indexing.html#indexing-view-versus-copy\n",
      "  # Remove the CWD from sys.path while we load stuff.\n"
     ]
    }
   ],
   "source": [
    "installs1['sc'] = (installs1['created'] - pd.to_datetime('2019-04-18'))/np.timedelta64(1,'s')\n",
    "installs2['sc'] = (installs2['created'] - pd.to_datetime('2019-04-19'))/np.timedelta64(1,'s')\n",
    "installs3['sc'] = (installs3['created'] - pd.to_datetime('2019-04-20'))/np.timedelta64(1,'s')\n",
    "installs4['sc'] = (installs4['created'] - pd.to_datetime('2019-04-21'))/np.timedelta64(1,'s')\n",
    "installs5['sc'] = (installs5['created'] - pd.to_datetime('2019-04-22'))/np.timedelta64(1,'s')\n",
    "installsCheck1['sc'] = (installsCheck1['created'] - pd.to_datetime('2019-04-21'))/np.timedelta64(1,'s')\n",
    "installsCheck2['sc'] = (installsCheck2['created'] - pd.to_datetime('2019-04-22'))/np.timedelta64(1,'s')\n",
    "installsCheck3['sc'] = (installsCheck3['created'] - pd.to_datetime('2019-04-23'))/np.timedelta64(1,'s')\n",
    "installsCheck4['sc'] = (installsCheck4['created'] - pd.to_datetime('2019-04-24'))/np.timedelta64(1,'s')\n",
    "installsCheck5['sc'] = (installsCheck5['created'] - pd.to_datetime('2019-04-25'))/np.timedelta64(1,'s')"
   ]
  },
  {
   "cell_type": "code",
   "execution_count": 20,
   "metadata": {},
   "outputs": [],
   "source": [
    "installs1 = installs1.drop_duplicates('ref_hash', keep = 'first')\n",
    "installs2 = installs2.drop_duplicates('ref_hash', keep = 'first')\n",
    "installs3 = installs3.drop_duplicates('ref_hash', keep = 'first')\n",
    "installs4 = installs4.drop_duplicates('ref_hash', keep = 'first')\n",
    "installs5 = installs5.drop_duplicates('ref_hash', keep = 'first')\n",
    "installsCheck1 = installsCheck1.drop_duplicates('ref_hash', keep = 'first')\n",
    "installsCheck2 = installsCheck2.drop_duplicates('ref_hash', keep = 'first')\n",
    "installsCheck3 = installsCheck3.drop_duplicates('ref_hash', keep = 'first')\n",
    "installsCheck4 = installsCheck4.drop_duplicates('ref_hash', keep = 'first')\n",
    "installsCheck5 = installsCheck5.drop_duplicates('ref_hash', keep = 'first')"
   ]
  },
  {
   "cell_type": "code",
   "execution_count": 21,
   "metadata": {},
   "outputs": [],
   "source": [
    "del installs1['created']\n",
    "del installs2['created']\n",
    "del installs3['created']\n",
    "del installs4['created']\n",
    "del installs5['created']\n",
    "del installsCheck1['created']\n",
    "del installsCheck2['created']\n",
    "del installsCheck3['created']\n",
    "del installsCheck4['created']\n",
    "del installsCheck5['created']"
   ]
  },
  {
   "cell_type": "markdown",
   "metadata": {},
   "source": [
    "# Target"
   ]
  },
  {
   "cell_type": "markdown",
   "metadata": {},
   "source": [
    "En base a los target ids armo los features de esos ids para la predicción."
   ]
  },
  {
   "cell_type": "code",
   "execution_count": 22,
   "metadata": {},
   "outputs": [],
   "source": [
    "target = pd.read_csv('../datos/target_competencia_ids.csv')"
   ]
  },
  {
   "cell_type": "code",
   "execution_count": 23,
   "metadata": {},
   "outputs": [],
   "source": [
    "targets_sc = target[target['ref_hash'].str.contains('_sc')]\n",
    "targets_st = target[target['ref_hash'].str.contains('_st')]"
   ]
  },
  {
   "cell_type": "code",
   "execution_count": 24,
   "metadata": {},
   "outputs": [
    {
     "name": "stderr",
     "output_type": "stream",
     "text": [
      "/home/gabriel/workspace/7506-1c2019/env/lib/python3.5/site-packages/ipykernel_launcher.py:1: SettingWithCopyWarning: \n",
      "A value is trying to be set on a copy of a slice from a DataFrame.\n",
      "Try using .loc[row_indexer,col_indexer] = value instead\n",
      "\n",
      "See the caveats in the documentation: http://pandas.pydata.org/pandas-docs/stable/indexing.html#indexing-view-versus-copy\n",
      "  \"\"\"Entry point for launching an IPython kernel.\n",
      "/home/gabriel/workspace/7506-1c2019/env/lib/python3.5/site-packages/ipykernel_launcher.py:2: SettingWithCopyWarning: \n",
      "A value is trying to be set on a copy of a slice from a DataFrame.\n",
      "Try using .loc[row_indexer,col_indexer] = value instead\n",
      "\n",
      "See the caveats in the documentation: http://pandas.pydata.org/pandas-docs/stable/indexing.html#indexing-view-versus-copy\n",
      "  \n"
     ]
    }
   ],
   "source": [
    "targets_sc['ref_hash'] = targets_sc['ref_hash'].map(lambda x: str(x)[:-3])\n",
    "targets_sc['ref_hash'] = targets_sc['ref_hash'].astype(np.int64)"
   ]
  },
  {
   "cell_type": "code",
   "execution_count": 25,
   "metadata": {},
   "outputs": [],
   "source": [
    "installs_sin_dup = installs.drop_duplicates('ref_hash')"
   ]
  },
  {
   "cell_type": "code",
   "execution_count": 26,
   "metadata": {},
   "outputs": [],
   "source": [
    "targets_sc_with_installs = targets_sc.merge(installs_sin_dup, how = 'left', on = 'ref_hash')"
   ]
  },
  {
   "cell_type": "code",
   "execution_count": 27,
   "metadata": {},
   "outputs": [],
   "source": [
    "events.drop_duplicates('ref_hash', inplace= True)"
   ]
  },
  {
   "cell_type": "code",
   "execution_count": 28,
   "metadata": {},
   "outputs": [
    {
     "name": "stderr",
     "output_type": "stream",
     "text": [
      "/home/gabriel/workspace/7506-1c2019/env/lib/python3.5/site-packages/ipykernel_launcher.py:2: SettingWithCopyWarning: \n",
      "A value is trying to be set on a copy of a slice from a DataFrame.\n",
      "Try using .loc[row_indexer,col_indexer] = value instead\n",
      "\n",
      "See the caveats in the documentation: http://pandas.pydata.org/pandas-docs/stable/indexing.html#indexing-view-versus-copy\n",
      "  \n",
      "/home/gabriel/workspace/7506-1c2019/env/lib/python3.5/site-packages/ipykernel_launcher.py:3: SettingWithCopyWarning: \n",
      "A value is trying to be set on a copy of a slice from a DataFrame.\n",
      "Try using .loc[row_indexer,col_indexer] = value instead\n",
      "\n",
      "See the caveats in the documentation: http://pandas.pydata.org/pandas-docs/stable/indexing.html#indexing-view-versus-copy\n",
      "  This is separate from the ipykernel package so we can avoid doing imports until\n",
      "/home/gabriel/workspace/7506-1c2019/env/lib/python3.5/site-packages/ipykernel_launcher.py:4: SettingWithCopyWarning: \n",
      "A value is trying to be set on a copy of a slice from a DataFrame.\n",
      "Try using .loc[row_indexer,col_indexer] = value instead\n",
      "\n",
      "See the caveats in the documentation: http://pandas.pydata.org/pandas-docs/stable/indexing.html#indexing-view-versus-copy\n",
      "  after removing the cwd from sys.path.\n",
      "/home/gabriel/workspace/7506-1c2019/env/lib/python3.5/site-packages/ipykernel_launcher.py:5: SettingWithCopyWarning: \n",
      "A value is trying to be set on a copy of a slice from a DataFrame.\n",
      "Try using .loc[row_indexer,col_indexer] = value instead\n",
      "\n",
      "See the caveats in the documentation: http://pandas.pydata.org/pandas-docs/stable/indexing.html#indexing-view-versus-copy\n",
      "  \"\"\"\n",
      "/home/gabriel/workspace/7506-1c2019/env/lib/python3.5/site-packages/ipykernel_launcher.py:6: SettingWithCopyWarning: \n",
      "A value is trying to be set on a copy of a slice from a DataFrame.\n",
      "Try using .loc[row_indexer,col_indexer] = value instead\n",
      "\n",
      "See the caveats in the documentation: http://pandas.pydata.org/pandas-docs/stable/indexing.html#indexing-view-versus-copy\n",
      "  \n",
      "/home/gabriel/workspace/7506-1c2019/env/lib/python3.5/site-packages/ipykernel_launcher.py:7: SettingWithCopyWarning: \n",
      "A value is trying to be set on a copy of a slice from a DataFrame.\n",
      "Try using .loc[row_indexer,col_indexer] = value instead\n",
      "\n",
      "See the caveats in the documentation: http://pandas.pydata.org/pandas-docs/stable/indexing.html#indexing-view-versus-copy\n",
      "  import sys\n",
      "/home/gabriel/workspace/7506-1c2019/env/lib/python3.5/site-packages/ipykernel_launcher.py:8: SettingWithCopyWarning: \n",
      "A value is trying to be set on a copy of a slice from a DataFrame.\n",
      "Try using .loc[row_indexer,col_indexer] = value instead\n",
      "\n",
      "See the caveats in the documentation: http://pandas.pydata.org/pandas-docs/stable/indexing.html#indexing-view-versus-copy\n",
      "  \n",
      "/home/gabriel/workspace/7506-1c2019/env/lib/python3.5/site-packages/ipykernel_launcher.py:9: SettingWithCopyWarning: \n",
      "A value is trying to be set on a copy of a slice from a DataFrame.\n",
      "Try using .loc[row_indexer,col_indexer] = value instead\n",
      "\n",
      "See the caveats in the documentation: http://pandas.pydata.org/pandas-docs/stable/indexing.html#indexing-view-versus-copy\n",
      "  if __name__ == '__main__':\n",
      "/home/gabriel/workspace/7506-1c2019/env/lib/python3.5/site-packages/ipykernel_launcher.py:10: SettingWithCopyWarning: \n",
      "A value is trying to be set on a copy of a slice from a DataFrame.\n",
      "Try using .loc[row_indexer,col_indexer] = value instead\n",
      "\n",
      "See the caveats in the documentation: http://pandas.pydata.org/pandas-docs/stable/indexing.html#indexing-view-versus-copy\n",
      "  # Remove the CWD from sys.path while we load stuff.\n"
     ]
    }
   ],
   "source": [
    "nulls = targets_sc_with_installs[targets_sc_with_installs['created'].isnull()]\n",
    "nulls['ref_type'] = nulls['ref_hash'].map(events.set_index('ref_hash')['ref_type'])\n",
    "nulls['model'] = nulls['ref_hash'].map(events.set_index('ref_hash')['device_model'])\n",
    "nulls['most_freq_lang'] = nulls['ref_hash'].map(events.set_index('ref_hash')['device_language'])\n",
    "nulls['most_freq_app'] = nulls['ref_hash'].map(events.set_index('ref_hash')['application_id'])\n",
    "nulls['ip'] = nulls['ref_hash'].map(events.set_index('ref_hash')['ip_address'])\n",
    "nulls['events_%wifi'] = nulls['ref_hash'].map(eventos.set_index('ref_hash')['wifi'])\n",
    "nulls['event_apps'] = nulls['ref_hash'].map(eventos.set_index('ref_hash')['application_id'])\n",
    "nulls['distinct_events'] = nulls['ref_hash'].map(eventos.set_index('ref_hash')['kind'])\n",
    "nulls['total_events'] = nulls['ref_hash'].map(eventos.set_index('ref_hash')['event_id'])"
   ]
  },
  {
   "cell_type": "code",
   "execution_count": 29,
   "metadata": {
    "scrolled": true
   },
   "outputs": [
    {
     "data": {
      "text/html": [
       "<div>\n",
       "<style scoped>\n",
       "    .dataframe tbody tr th:only-of-type {\n",
       "        vertical-align: middle;\n",
       "    }\n",
       "\n",
       "    .dataframe tbody tr th {\n",
       "        vertical-align: top;\n",
       "    }\n",
       "\n",
       "    .dataframe thead th {\n",
       "        text-align: right;\n",
       "    }\n",
       "</style>\n",
       "<table border=\"1\" class=\"dataframe\">\n",
       "  <thead>\n",
       "    <tr style=\"text-align: right;\">\n",
       "      <th></th>\n",
       "      <th>ref_hash</th>\n",
       "      <th>obj</th>\n",
       "      <th>created</th>\n",
       "      <th>ref_type</th>\n",
       "      <th>total_apps</th>\n",
       "      <th>%implicit</th>\n",
       "      <th>%attributed</th>\n",
       "      <th>most_freq_lang</th>\n",
       "      <th>most_freq_app</th>\n",
       "      <th>model</th>\n",
       "      <th>ip</th>\n",
       "      <th>events_%wifi</th>\n",
       "      <th>event_apps</th>\n",
       "      <th>distinct_events</th>\n",
       "      <th>total_events</th>\n",
       "    </tr>\n",
       "  </thead>\n",
       "  <tbody>\n",
       "    <tr>\n",
       "      <th>0</th>\n",
       "      <td>1.000169e+18</td>\n",
       "      <td>0.0</td>\n",
       "      <td>2019-04-21 08:14:06.178</td>\n",
       "      <td>1.891515e+18</td>\n",
       "      <td>1.0</td>\n",
       "      <td>0.0</td>\n",
       "      <td>0.0</td>\n",
       "      <td>3.30138e+18</td>\n",
       "      <td>122.0</td>\n",
       "      <td>1.805456e+18</td>\n",
       "      <td>5.483720e+18</td>\n",
       "      <td>0.000000</td>\n",
       "      <td>32.0</td>\n",
       "      <td>4.0</td>\n",
       "      <td>32.0</td>\n",
       "    </tr>\n",
       "    <tr>\n",
       "      <th>1</th>\n",
       "      <td>1.000396e+18</td>\n",
       "      <td>0.0</td>\n",
       "      <td>2019-04-20 05:59:26.866</td>\n",
       "      <td>1.891515e+18</td>\n",
       "      <td>2.0</td>\n",
       "      <td>0.5</td>\n",
       "      <td>0.0</td>\n",
       "      <td>6.97705e+18</td>\n",
       "      <td>121.0</td>\n",
       "      <td>8.058599e+17</td>\n",
       "      <td>6.126933e+18</td>\n",
       "      <td>1.000000</td>\n",
       "      <td>2.0</td>\n",
       "      <td>2.0</td>\n",
       "      <td>2.0</td>\n",
       "    </tr>\n",
       "    <tr>\n",
       "      <th>2</th>\n",
       "      <td>1.003027e+18</td>\n",
       "      <td>0.0</td>\n",
       "      <td>2019-04-23 20:37:24.299</td>\n",
       "      <td>1.891515e+18</td>\n",
       "      <td>2.0</td>\n",
       "      <td>0.5</td>\n",
       "      <td>0.0</td>\n",
       "      <td>3.30138e+18</td>\n",
       "      <td>14.0</td>\n",
       "      <td>8.590181e+18</td>\n",
       "      <td>2.036110e+18</td>\n",
       "      <td>0.833333</td>\n",
       "      <td>54.0</td>\n",
       "      <td>10.0</td>\n",
       "      <td>54.0</td>\n",
       "    </tr>\n",
       "    <tr>\n",
       "      <th>3</th>\n",
       "      <td>1.006670e+18</td>\n",
       "      <td>0.0</td>\n",
       "      <td>2019-04-21 01:20:43.968</td>\n",
       "      <td>1.494519e+18</td>\n",
       "      <td>2.0</td>\n",
       "      <td>0.5</td>\n",
       "      <td>0.0</td>\n",
       "      <td>8.44142e+18</td>\n",
       "      <td>68.0</td>\n",
       "      <td>6.794880e+18</td>\n",
       "      <td>2.799308e+18</td>\n",
       "      <td>0.333333</td>\n",
       "      <td>3.0</td>\n",
       "      <td>2.0</td>\n",
       "      <td>3.0</td>\n",
       "    </tr>\n",
       "    <tr>\n",
       "      <th>4</th>\n",
       "      <td>1.007573e+18</td>\n",
       "      <td>0.0</td>\n",
       "      <td>2019-04-18 07:32:44.992</td>\n",
       "      <td>1.891515e+18</td>\n",
       "      <td>1.0</td>\n",
       "      <td>0.0</td>\n",
       "      <td>0.0</td>\n",
       "      <td>3.30138e+18</td>\n",
       "      <td>94.0</td>\n",
       "      <td>1.327864e+18</td>\n",
       "      <td>8.238829e+18</td>\n",
       "      <td>0.000000</td>\n",
       "      <td>6.0</td>\n",
       "      <td>1.0</td>\n",
       "      <td>6.0</td>\n",
       "    </tr>\n",
       "  </tbody>\n",
       "</table>\n",
       "</div>"
      ],
      "text/plain": [
       "       ref_hash  obj                 created      ref_type  total_apps  \\\n",
       "0  1.000169e+18  0.0 2019-04-21 08:14:06.178  1.891515e+18         1.0   \n",
       "1  1.000396e+18  0.0 2019-04-20 05:59:26.866  1.891515e+18         2.0   \n",
       "2  1.003027e+18  0.0 2019-04-23 20:37:24.299  1.891515e+18         2.0   \n",
       "3  1.006670e+18  0.0 2019-04-21 01:20:43.968  1.494519e+18         2.0   \n",
       "4  1.007573e+18  0.0 2019-04-18 07:32:44.992  1.891515e+18         1.0   \n",
       "\n",
       "   %implicit  %attributed most_freq_lang  most_freq_app         model  \\\n",
       "0        0.0          0.0    3.30138e+18          122.0  1.805456e+18   \n",
       "1        0.5          0.0    6.97705e+18          121.0  8.058599e+17   \n",
       "2        0.5          0.0    3.30138e+18           14.0  8.590181e+18   \n",
       "3        0.5          0.0    8.44142e+18           68.0  6.794880e+18   \n",
       "4        0.0          0.0    3.30138e+18           94.0  1.327864e+18   \n",
       "\n",
       "             ip  events_%wifi  event_apps  distinct_events  total_events  \n",
       "0  5.483720e+18      0.000000        32.0              4.0          32.0  \n",
       "1  6.126933e+18      1.000000         2.0              2.0           2.0  \n",
       "2  2.036110e+18      0.833333        54.0             10.0          54.0  \n",
       "3  2.799308e+18      0.333333         3.0              2.0           3.0  \n",
       "4  8.238829e+18      0.000000         6.0              1.0           6.0  "
      ]
     },
     "execution_count": 29,
     "metadata": {},
     "output_type": "execute_result"
    }
   ],
   "source": [
    "targets_sc_with_installs.update(nulls)\n",
    "targets_sc_with_installs.head()"
   ]
  },
  {
   "cell_type": "code",
   "execution_count": 30,
   "metadata": {
    "scrolled": true
   },
   "outputs": [],
   "source": [
    "targets_sc_with_installs.fillna({'total_apps' : 0, 'ref_type' : 0, '%attributed' : 0, '%implicit': 0, 'model' : 0,\n",
    "                                 'most_freq_lang' : 0, 'ip' : 0, 'events_%wifi' : 0, 'event_apps' : 0, \n",
    "                                 'distinct_events' : 0, 'total_events' : 0, 'most_freq_app' : 0}, inplace = True)"
   ]
  },
  {
   "cell_type": "code",
   "execution_count": 31,
   "metadata": {},
   "outputs": [],
   "source": [
    "del targets_sc_with_installs['created']\n",
    "del targets_sc_with_installs['obj']"
   ]
  },
  {
   "cell_type": "code",
   "execution_count": 32,
   "metadata": {},
   "outputs": [],
   "source": [
    "targets_sc_with_installs['most_freq_lang'] = targets_sc_with_installs['most_freq_lang'].astype('float64')\n",
    "X = targets_sc_with_installs[['ref_type', 'ref_hash', 'total_apps', '%implicit', '%attributed', 'most_freq_lang', \n",
    "                             'most_freq_app', 'model', 'ip', 'events_%wifi', 'event_apps', 'distinct_events', \n",
    "                             'total_events']]"
   ]
  },
  {
   "cell_type": "markdown",
   "metadata": {},
   "source": [
    "Ahora en _X_ tengo los features necesarios para los ids que quiero predecir."
   ]
  },
  {
   "cell_type": "markdown",
   "metadata": {},
   "source": [
    "# Cargo los modelos entrenados en _PromedioPrediccionesSc.ipynb_\n",
    "## XBoost"
   ]
  },
  {
   "cell_type": "code",
   "execution_count": 33,
   "metadata": {},
   "outputs": [],
   "source": [
    "# Cargo el modelo del archivo\n",
    "xg_reg = joblib.load('modelos/sc/xg_reg.pkl')  \n",
    "  \n",
    "predictions_sc_xgb = xg_reg.predict(X)"
   ]
  },
  {
   "cell_type": "markdown",
   "metadata": {},
   "source": [
    "## Bagging"
   ]
  },
  {
   "cell_type": "code",
   "execution_count": 34,
   "metadata": {},
   "outputs": [],
   "source": [
    "bagging = joblib.load('modelos/sc/bagging.pkl')  \n",
    "predictions_sc_bagging = bagging.predict(X)"
   ]
  },
  {
   "cell_type": "markdown",
   "metadata": {},
   "source": [
    "## AdaBoost"
   ]
  },
  {
   "cell_type": "code",
   "execution_count": 35,
   "metadata": {},
   "outputs": [],
   "source": [
    "regr = joblib.load('modelos/sc/regr.pkl') \n",
    "predictions_sc_adaboost = regr.predict(X)"
   ]
  },
  {
   "cell_type": "markdown",
   "metadata": {},
   "source": [
    "## LGBM"
   ]
  },
  {
   "cell_type": "code",
   "execution_count": 36,
   "metadata": {},
   "outputs": [],
   "source": [
    "gbm = joblib.load('modelos/sc/gbm.pkl')\n",
    "predictions_sc_lgbm = gbm.predict(X)"
   ]
  },
  {
   "cell_type": "markdown",
   "metadata": {},
   "source": [
    "## Random Forests"
   ]
  },
  {
   "cell_type": "code",
   "execution_count": 37,
   "metadata": {},
   "outputs": [],
   "source": [
    "rf = joblib.load('modelos/sc/rf.pkl')\n",
    "predictions_sc_rf = rf.predict(X)"
   ]
  },
  {
   "cell_type": "markdown",
   "metadata": {},
   "source": [
    "## MLP"
   ]
  },
  {
   "cell_type": "code",
   "execution_count": 38,
   "metadata": {},
   "outputs": [],
   "source": [
    "nn = joblib.load('modelos/sc/nn.pkl')\n",
    "predictions_sc_nn = nn.predict(X)"
   ]
  },
  {
   "cell_type": "markdown",
   "metadata": {},
   "source": [
    "# Promedio las predicciones y actualizo el target"
   ]
  },
  {
   "cell_type": "code",
   "execution_count": 39,
   "metadata": {},
   "outputs": [
    {
     "name": "stderr",
     "output_type": "stream",
     "text": [
      "/home/gabriel/workspace/7506-1c2019/env/lib/python3.5/site-packages/ipykernel_launcher.py:3: SettingWithCopyWarning: \n",
      "A value is trying to be set on a copy of a slice from a DataFrame.\n",
      "Try using .loc[row_indexer,col_indexer] = value instead\n",
      "\n",
      "See the caveats in the documentation: http://pandas.pydata.org/pandas-docs/stable/indexing.html#indexing-view-versus-copy\n",
      "  This is separate from the ipykernel package so we can avoid doing imports until\n"
     ]
    },
    {
     "data": {
      "text/html": [
       "<div>\n",
       "<style scoped>\n",
       "    .dataframe tbody tr th:only-of-type {\n",
       "        vertical-align: middle;\n",
       "    }\n",
       "\n",
       "    .dataframe tbody tr th {\n",
       "        vertical-align: top;\n",
       "    }\n",
       "\n",
       "    .dataframe thead th {\n",
       "        text-align: right;\n",
       "    }\n",
       "</style>\n",
       "<table border=\"1\" class=\"dataframe\">\n",
       "  <thead>\n",
       "    <tr style=\"text-align: right;\">\n",
       "      <th></th>\n",
       "      <th>ref_hash</th>\n",
       "      <th>obj</th>\n",
       "    </tr>\n",
       "  </thead>\n",
       "  <tbody>\n",
       "    <tr>\n",
       "      <th>0</th>\n",
       "      <td>1.00017e+18</td>\n",
       "      <td>105747.054158</td>\n",
       "    </tr>\n",
       "    <tr>\n",
       "      <th>1</th>\n",
       "      <td>1000169251625791246_st</td>\n",
       "      <td>0.000000</td>\n",
       "    </tr>\n",
       "    <tr>\n",
       "      <th>2</th>\n",
       "      <td>1.0004e+18</td>\n",
       "      <td>110877.400863</td>\n",
       "    </tr>\n",
       "    <tr>\n",
       "      <th>3</th>\n",
       "      <td>1000395625957344683_st</td>\n",
       "      <td>0.000000</td>\n",
       "    </tr>\n",
       "    <tr>\n",
       "      <th>4</th>\n",
       "      <td>1.00303e+18</td>\n",
       "      <td>107322.915289</td>\n",
       "    </tr>\n",
       "    <tr>\n",
       "      <th>5</th>\n",
       "      <td>1003027494996471685_st</td>\n",
       "      <td>0.000000</td>\n",
       "    </tr>\n",
       "    <tr>\n",
       "      <th>6</th>\n",
       "      <td>1.00667e+18</td>\n",
       "      <td>108395.398453</td>\n",
       "    </tr>\n",
       "    <tr>\n",
       "      <th>7</th>\n",
       "      <td>1006670001679961544_st</td>\n",
       "      <td>0.000000</td>\n",
       "    </tr>\n",
       "    <tr>\n",
       "      <th>8</th>\n",
       "      <td>1.00757e+18</td>\n",
       "      <td>107132.568269</td>\n",
       "    </tr>\n",
       "    <tr>\n",
       "      <th>9</th>\n",
       "      <td>1007573308966476713_st</td>\n",
       "      <td>0.000000</td>\n",
       "    </tr>\n",
       "    <tr>\n",
       "      <th>10</th>\n",
       "      <td>1.01007e+18</td>\n",
       "      <td>104001.010367</td>\n",
       "    </tr>\n",
       "    <tr>\n",
       "      <th>11</th>\n",
       "      <td>1010070503877148763_st</td>\n",
       "      <td>0.000000</td>\n",
       "    </tr>\n",
       "    <tr>\n",
       "      <th>12</th>\n",
       "      <td>1.01027e+18</td>\n",
       "      <td>101634.728198</td>\n",
       "    </tr>\n",
       "    <tr>\n",
       "      <th>13</th>\n",
       "      <td>1010265377387765028_st</td>\n",
       "      <td>0.000000</td>\n",
       "    </tr>\n",
       "    <tr>\n",
       "      <th>14</th>\n",
       "      <td>1.01053e+18</td>\n",
       "      <td>103423.491709</td>\n",
       "    </tr>\n",
       "    <tr>\n",
       "      <th>15</th>\n",
       "      <td>1010531372912327058_st</td>\n",
       "      <td>0.000000</td>\n",
       "    </tr>\n",
       "    <tr>\n",
       "      <th>16</th>\n",
       "      <td>1.01161e+18</td>\n",
       "      <td>107937.421483</td>\n",
       "    </tr>\n",
       "    <tr>\n",
       "      <th>17</th>\n",
       "      <td>1011610998357271358_st</td>\n",
       "      <td>0.000000</td>\n",
       "    </tr>\n",
       "    <tr>\n",
       "      <th>18</th>\n",
       "      <td>1.01354e+18</td>\n",
       "      <td>106205.433597</td>\n",
       "    </tr>\n",
       "    <tr>\n",
       "      <th>19</th>\n",
       "      <td>1013543838965040946_st</td>\n",
       "      <td>0.000000</td>\n",
       "    </tr>\n",
       "    <tr>\n",
       "      <th>20</th>\n",
       "      <td>1.01443e+18</td>\n",
       "      <td>109139.126434</td>\n",
       "    </tr>\n",
       "    <tr>\n",
       "      <th>21</th>\n",
       "      <td>1014428234021750342_st</td>\n",
       "      <td>0.000000</td>\n",
       "    </tr>\n",
       "    <tr>\n",
       "      <th>22</th>\n",
       "      <td>1.01763e+17</td>\n",
       "      <td>107733.984964</td>\n",
       "    </tr>\n",
       "    <tr>\n",
       "      <th>23</th>\n",
       "      <td>101763096421653092_st</td>\n",
       "      <td>0.000000</td>\n",
       "    </tr>\n",
       "    <tr>\n",
       "      <th>24</th>\n",
       "      <td>1.01767e+18</td>\n",
       "      <td>104885.089797</td>\n",
       "    </tr>\n",
       "    <tr>\n",
       "      <th>25</th>\n",
       "      <td>1017668882534236751_st</td>\n",
       "      <td>0.000000</td>\n",
       "    </tr>\n",
       "    <tr>\n",
       "      <th>26</th>\n",
       "      <td>1.01796e+18</td>\n",
       "      <td>107436.524832</td>\n",
       "    </tr>\n",
       "    <tr>\n",
       "      <th>27</th>\n",
       "      <td>1017958004932387739_st</td>\n",
       "      <td>0.000000</td>\n",
       "    </tr>\n",
       "    <tr>\n",
       "      <th>28</th>\n",
       "      <td>1.01813e+18</td>\n",
       "      <td>110989.094037</td>\n",
       "    </tr>\n",
       "    <tr>\n",
       "      <th>29</th>\n",
       "      <td>1018126962792619181_st</td>\n",
       "      <td>0.000000</td>\n",
       "    </tr>\n",
       "    <tr>\n",
       "      <th>...</th>\n",
       "      <td>...</td>\n",
       "      <td>...</td>\n",
       "    </tr>\n",
       "    <tr>\n",
       "      <th>8044</th>\n",
       "      <td>9.50196e+17</td>\n",
       "      <td>108104.028132</td>\n",
       "    </tr>\n",
       "    <tr>\n",
       "      <th>8045</th>\n",
       "      <td>950195972417607793_st</td>\n",
       "      <td>0.000000</td>\n",
       "    </tr>\n",
       "    <tr>\n",
       "      <th>8046</th>\n",
       "      <td>9.54111e+17</td>\n",
       "      <td>109250.754957</td>\n",
       "    </tr>\n",
       "    <tr>\n",
       "      <th>8047</th>\n",
       "      <td>954110623376544206_st</td>\n",
       "      <td>0.000000</td>\n",
       "    </tr>\n",
       "    <tr>\n",
       "      <th>8048</th>\n",
       "      <td>9.5494e+17</td>\n",
       "      <td>104150.172807</td>\n",
       "    </tr>\n",
       "    <tr>\n",
       "      <th>8049</th>\n",
       "      <td>954940018576714924_st</td>\n",
       "      <td>0.000000</td>\n",
       "    </tr>\n",
       "    <tr>\n",
       "      <th>8050</th>\n",
       "      <td>9.56704e+17</td>\n",
       "      <td>106132.747233</td>\n",
       "    </tr>\n",
       "    <tr>\n",
       "      <th>8051</th>\n",
       "      <td>956704247780926402_st</td>\n",
       "      <td>0.000000</td>\n",
       "    </tr>\n",
       "    <tr>\n",
       "      <th>8052</th>\n",
       "      <td>9.60623e+17</td>\n",
       "      <td>110639.459815</td>\n",
       "    </tr>\n",
       "    <tr>\n",
       "      <th>8053</th>\n",
       "      <td>960623204161846765_st</td>\n",
       "      <td>0.000000</td>\n",
       "    </tr>\n",
       "    <tr>\n",
       "      <th>8054</th>\n",
       "      <td>9.61632e+17</td>\n",
       "      <td>107144.665541</td>\n",
       "    </tr>\n",
       "    <tr>\n",
       "      <th>8055</th>\n",
       "      <td>961631829441650729_st</td>\n",
       "      <td>0.000000</td>\n",
       "    </tr>\n",
       "    <tr>\n",
       "      <th>8056</th>\n",
       "      <td>9.62596e+17</td>\n",
       "      <td>110114.505090</td>\n",
       "    </tr>\n",
       "    <tr>\n",
       "      <th>8057</th>\n",
       "      <td>962595921037755088_st</td>\n",
       "      <td>0.000000</td>\n",
       "    </tr>\n",
       "    <tr>\n",
       "      <th>8058</th>\n",
       "      <td>9.64659e+17</td>\n",
       "      <td>100518.830731</td>\n",
       "    </tr>\n",
       "    <tr>\n",
       "      <th>8059</th>\n",
       "      <td>964658792449865522_st</td>\n",
       "      <td>0.000000</td>\n",
       "    </tr>\n",
       "    <tr>\n",
       "      <th>8060</th>\n",
       "      <td>9.74554e+17</td>\n",
       "      <td>105697.885230</td>\n",
       "    </tr>\n",
       "    <tr>\n",
       "      <th>8061</th>\n",
       "      <td>974553511695777483_st</td>\n",
       "      <td>0.000000</td>\n",
       "    </tr>\n",
       "    <tr>\n",
       "      <th>8062</th>\n",
       "      <td>9.76943e+16</td>\n",
       "      <td>103830.821659</td>\n",
       "    </tr>\n",
       "    <tr>\n",
       "      <th>8063</th>\n",
       "      <td>97694307709005918_st</td>\n",
       "      <td>0.000000</td>\n",
       "    </tr>\n",
       "    <tr>\n",
       "      <th>8064</th>\n",
       "      <td>9.77509e+17</td>\n",
       "      <td>105057.211798</td>\n",
       "    </tr>\n",
       "    <tr>\n",
       "      <th>8065</th>\n",
       "      <td>977508757724050464_st</td>\n",
       "      <td>0.000000</td>\n",
       "    </tr>\n",
       "    <tr>\n",
       "      <th>8066</th>\n",
       "      <td>9.7988e+17</td>\n",
       "      <td>113509.397079</td>\n",
       "    </tr>\n",
       "    <tr>\n",
       "      <th>8067</th>\n",
       "      <td>979880031097032355_st</td>\n",
       "      <td>0.000000</td>\n",
       "    </tr>\n",
       "    <tr>\n",
       "      <th>8068</th>\n",
       "      <td>9.87443e+17</td>\n",
       "      <td>102310.709433</td>\n",
       "    </tr>\n",
       "    <tr>\n",
       "      <th>8069</th>\n",
       "      <td>987443249627191692_st</td>\n",
       "      <td>0.000000</td>\n",
       "    </tr>\n",
       "    <tr>\n",
       "      <th>8070</th>\n",
       "      <td>9.97953e+17</td>\n",
       "      <td>106215.240050</td>\n",
       "    </tr>\n",
       "    <tr>\n",
       "      <th>8071</th>\n",
       "      <td>997953354533822687_st</td>\n",
       "      <td>0.000000</td>\n",
       "    </tr>\n",
       "    <tr>\n",
       "      <th>8072</th>\n",
       "      <td>9.98948e+17</td>\n",
       "      <td>105601.216125</td>\n",
       "    </tr>\n",
       "    <tr>\n",
       "      <th>8073</th>\n",
       "      <td>998948062397755366_st</td>\n",
       "      <td>0.000000</td>\n",
       "    </tr>\n",
       "  </tbody>\n",
       "</table>\n",
       "<p>8074 rows × 2 columns</p>\n",
       "</div>"
      ],
      "text/plain": [
       "                    ref_hash            obj\n",
       "0                1.00017e+18  105747.054158\n",
       "1     1000169251625791246_st       0.000000\n",
       "2                 1.0004e+18  110877.400863\n",
       "3     1000395625957344683_st       0.000000\n",
       "4                1.00303e+18  107322.915289\n",
       "5     1003027494996471685_st       0.000000\n",
       "6                1.00667e+18  108395.398453\n",
       "7     1006670001679961544_st       0.000000\n",
       "8                1.00757e+18  107132.568269\n",
       "9     1007573308966476713_st       0.000000\n",
       "10               1.01007e+18  104001.010367\n",
       "11    1010070503877148763_st       0.000000\n",
       "12               1.01027e+18  101634.728198\n",
       "13    1010265377387765028_st       0.000000\n",
       "14               1.01053e+18  103423.491709\n",
       "15    1010531372912327058_st       0.000000\n",
       "16               1.01161e+18  107937.421483\n",
       "17    1011610998357271358_st       0.000000\n",
       "18               1.01354e+18  106205.433597\n",
       "19    1013543838965040946_st       0.000000\n",
       "20               1.01443e+18  109139.126434\n",
       "21    1014428234021750342_st       0.000000\n",
       "22               1.01763e+17  107733.984964\n",
       "23     101763096421653092_st       0.000000\n",
       "24               1.01767e+18  104885.089797\n",
       "25    1017668882534236751_st       0.000000\n",
       "26               1.01796e+18  107436.524832\n",
       "27    1017958004932387739_st       0.000000\n",
       "28               1.01813e+18  110989.094037\n",
       "29    1018126962792619181_st       0.000000\n",
       "...                      ...            ...\n",
       "8044             9.50196e+17  108104.028132\n",
       "8045   950195972417607793_st       0.000000\n",
       "8046             9.54111e+17  109250.754957\n",
       "8047   954110623376544206_st       0.000000\n",
       "8048              9.5494e+17  104150.172807\n",
       "8049   954940018576714924_st       0.000000\n",
       "8050             9.56704e+17  106132.747233\n",
       "8051   956704247780926402_st       0.000000\n",
       "8052             9.60623e+17  110639.459815\n",
       "8053   960623204161846765_st       0.000000\n",
       "8054             9.61632e+17  107144.665541\n",
       "8055   961631829441650729_st       0.000000\n",
       "8056             9.62596e+17  110114.505090\n",
       "8057   962595921037755088_st       0.000000\n",
       "8058             9.64659e+17  100518.830731\n",
       "8059   964658792449865522_st       0.000000\n",
       "8060             9.74554e+17  105697.885230\n",
       "8061   974553511695777483_st       0.000000\n",
       "8062             9.76943e+16  103830.821659\n",
       "8063    97694307709005918_st       0.000000\n",
       "8064             9.77509e+17  105057.211798\n",
       "8065   977508757724050464_st       0.000000\n",
       "8066              9.7988e+17  113509.397079\n",
       "8067   979880031097032355_st       0.000000\n",
       "8068             9.87443e+17  102310.709433\n",
       "8069   987443249627191692_st       0.000000\n",
       "8070             9.97953e+17  106215.240050\n",
       "8071   997953354533822687_st       0.000000\n",
       "8072             9.98948e+17  105601.216125\n",
       "8073   998948062397755366_st       0.000000\n",
       "\n",
       "[8074 rows x 2 columns]"
      ]
     },
     "execution_count": 39,
     "metadata": {},
     "output_type": "execute_result"
    }
   ],
   "source": [
    "predictions_sc = np.add(np.add(np.add(np.add(np.add(predictions_sc_xgb,predictions_sc_bagging), predictions_sc_adaboost), predictions_sc_lgbm),predictions_sc_rf), predictions_sc_nn)\n",
    "predictions_sc = predictions_sc / 6\n",
    "targets_sc['obj'] = predictions_sc\n",
    "target.update(targets_sc)\n",
    "target"
   ]
  },
  {
   "cell_type": "code",
   "execution_count": 47,
   "metadata": {},
   "outputs": [],
   "source": [
    "target = pd.read_csv('../datos/preds-promedios.csv')"
   ]
  },
  {
   "cell_type": "code",
   "execution_count": 48,
   "metadata": {},
   "outputs": [
    {
     "data": {
      "text/plain": [
       "ref_hash    8074\n",
       "obj         8074\n",
       "dtype: int64"
      ]
     },
     "execution_count": 48,
     "metadata": {},
     "output_type": "execute_result"
    }
   ],
   "source": [
    "target.count()"
   ]
  },
  {
   "cell_type": "markdown",
   "metadata": {},
   "source": [
    "## Blending"
   ]
  },
  {
   "cell_type": "markdown",
   "metadata": {},
   "source": [
    "#### Ventana 1"
   ]
  },
  {
   "cell_type": "code",
   "execution_count": 49,
   "metadata": {},
   "outputs": [],
   "source": [
    "X_test, y_test = installsCheck1.iloc[:,:-1], installsCheck1.iloc[:,-1]"
   ]
  },
  {
   "cell_type": "code",
   "execution_count": 50,
   "metadata": {},
   "outputs": [],
   "source": [
    "X, y = installs1.iloc[:,:-1], installs1.iloc[:,-1]\n",
    "X_train, X_val, y_train, y_val = train_test_split(X, y, test_size=0.3)"
   ]
  },
  {
   "cell_type": "code",
   "execution_count": 51,
   "metadata": {},
   "outputs": [],
   "source": [
    "preds_xgb = xg_reg.predict(X_val)\n",
    "preds_rf = rf.predict(X_val)\n",
    "preds_bag = bagging.predict(X_val)\n",
    "preds_lgbm = gbm.predict(X_val)\n",
    "test_preds_xgb = xg_reg.predict(X_test)\n",
    "test_preds_rf = rf.predict(X_test)\n",
    "test_preds_bag = bagging.predict(X_test)\n",
    "test_preds_lgbm = gbm.predict(X_test)"
   ]
  },
  {
   "cell_type": "code",
   "execution_count": 52,
   "metadata": {
    "scrolled": true
   },
   "outputs": [
    {
     "name": "stderr",
     "output_type": "stream",
     "text": [
      "/home/gabriel/workspace/7506-1c2019/env/lib/python3.5/site-packages/ipykernel_launcher.py:1: SettingWithCopyWarning: \n",
      "A value is trying to be set on a copy of a slice from a DataFrame.\n",
      "Try using .loc[row_indexer,col_indexer] = value instead\n",
      "\n",
      "See the caveats in the documentation: http://pandas.pydata.org/pandas-docs/stable/indexing.html#indexing-view-versus-copy\n",
      "  \"\"\"Entry point for launching an IPython kernel.\n",
      "/home/gabriel/workspace/7506-1c2019/env/lib/python3.5/site-packages/ipykernel_launcher.py:2: SettingWithCopyWarning: \n",
      "A value is trying to be set on a copy of a slice from a DataFrame.\n",
      "Try using .loc[row_indexer,col_indexer] = value instead\n",
      "\n",
      "See the caveats in the documentation: http://pandas.pydata.org/pandas-docs/stable/indexing.html#indexing-view-versus-copy\n",
      "  \n",
      "/home/gabriel/workspace/7506-1c2019/env/lib/python3.5/site-packages/ipykernel_launcher.py:3: SettingWithCopyWarning: \n",
      "A value is trying to be set on a copy of a slice from a DataFrame.\n",
      "Try using .loc[row_indexer,col_indexer] = value instead\n",
      "\n",
      "See the caveats in the documentation: http://pandas.pydata.org/pandas-docs/stable/indexing.html#indexing-view-versus-copy\n",
      "  This is separate from the ipykernel package so we can avoid doing imports until\n",
      "/home/gabriel/workspace/7506-1c2019/env/lib/python3.5/site-packages/ipykernel_launcher.py:4: SettingWithCopyWarning: \n",
      "A value is trying to be set on a copy of a slice from a DataFrame.\n",
      "Try using .loc[row_indexer,col_indexer] = value instead\n",
      "\n",
      "See the caveats in the documentation: http://pandas.pydata.org/pandas-docs/stable/indexing.html#indexing-view-versus-copy\n",
      "  after removing the cwd from sys.path.\n"
     ]
    }
   ],
   "source": [
    "X_val['pred_xgb'] = preds_xgb\n",
    "X_val['pred_rf'] = preds_rf\n",
    "X_val['pred_bag'] = preds_bag\n",
    "X_val['pred_lgbm'] = preds_lgbm\n",
    "X_test['pred_xgb'] = test_preds_xgb\n",
    "X_test['pred_rf'] = test_preds_rf\n",
    "X_test['pred_bag'] = test_preds_bag\n",
    "X_test['pred_lgbm'] = test_preds_lgbm"
   ]
  },
  {
   "cell_type": "code",
   "execution_count": 53,
   "metadata": {},
   "outputs": [
    {
     "name": "stdout",
     "output_type": "stream",
     "text": [
      "RMSE: 66151.650815\n"
     ]
    }
   ],
   "source": [
    "regr.fit(X_val, y_val)\n",
    "preds = regr.predict(X_test)\n",
    "rmse = np.sqrt(mean_squared_error(y_test, preds))\n",
    "print(\"RMSE: %f\" % (rmse))"
   ]
  },
  {
   "cell_type": "markdown",
   "metadata": {},
   "source": [
    "#### Ventana 2"
   ]
  },
  {
   "cell_type": "code",
   "execution_count": 54,
   "metadata": {},
   "outputs": [],
   "source": [
    "X_test, y_test = installsCheck2.iloc[:,:-1], installsCheck2.iloc[:,-1]\n",
    "X, y = installs2.iloc[:,:-1], installs2.iloc[:,-1]\n",
    "X_train, X_val, y_train, y_val = train_test_split(X, y, test_size=0.3)"
   ]
  },
  {
   "cell_type": "code",
   "execution_count": 55,
   "metadata": {},
   "outputs": [],
   "source": [
    "preds_xgb = xg_reg.predict(X_val)\n",
    "preds_rf = rf.predict(X_val)\n",
    "preds_bag = bagging.predict(X_val)\n",
    "preds_lgbm = gbm.predict(X_val)\n",
    "test_preds_xgb = xg_reg.predict(X_test)\n",
    "test_preds_rf = rf.predict(X_test)\n",
    "test_preds_bag = bagging.predict(X_test)\n",
    "test_preds_lgbm = gbm.predict(X_test)"
   ]
  },
  {
   "cell_type": "code",
   "execution_count": 56,
   "metadata": {},
   "outputs": [
    {
     "name": "stderr",
     "output_type": "stream",
     "text": [
      "/home/gabriel/workspace/7506-1c2019/env/lib/python3.5/site-packages/ipykernel_launcher.py:1: SettingWithCopyWarning: \n",
      "A value is trying to be set on a copy of a slice from a DataFrame.\n",
      "Try using .loc[row_indexer,col_indexer] = value instead\n",
      "\n",
      "See the caveats in the documentation: http://pandas.pydata.org/pandas-docs/stable/indexing.html#indexing-view-versus-copy\n",
      "  \"\"\"Entry point for launching an IPython kernel.\n",
      "/home/gabriel/workspace/7506-1c2019/env/lib/python3.5/site-packages/ipykernel_launcher.py:2: SettingWithCopyWarning: \n",
      "A value is trying to be set on a copy of a slice from a DataFrame.\n",
      "Try using .loc[row_indexer,col_indexer] = value instead\n",
      "\n",
      "See the caveats in the documentation: http://pandas.pydata.org/pandas-docs/stable/indexing.html#indexing-view-versus-copy\n",
      "  \n",
      "/home/gabriel/workspace/7506-1c2019/env/lib/python3.5/site-packages/ipykernel_launcher.py:3: SettingWithCopyWarning: \n",
      "A value is trying to be set on a copy of a slice from a DataFrame.\n",
      "Try using .loc[row_indexer,col_indexer] = value instead\n",
      "\n",
      "See the caveats in the documentation: http://pandas.pydata.org/pandas-docs/stable/indexing.html#indexing-view-versus-copy\n",
      "  This is separate from the ipykernel package so we can avoid doing imports until\n",
      "/home/gabriel/workspace/7506-1c2019/env/lib/python3.5/site-packages/ipykernel_launcher.py:4: SettingWithCopyWarning: \n",
      "A value is trying to be set on a copy of a slice from a DataFrame.\n",
      "Try using .loc[row_indexer,col_indexer] = value instead\n",
      "\n",
      "See the caveats in the documentation: http://pandas.pydata.org/pandas-docs/stable/indexing.html#indexing-view-versus-copy\n",
      "  after removing the cwd from sys.path.\n"
     ]
    },
    {
     "name": "stdout",
     "output_type": "stream",
     "text": [
      "RMSE: 66100.498417\n"
     ]
    }
   ],
   "source": [
    "X_val['pred_xgb'] = preds_xgb\n",
    "X_val['pred_rf'] = preds_rf\n",
    "X_val['pred_bag'] = preds_bag\n",
    "X_val['pred_lgbm'] = preds_lgbm\n",
    "X_test['pred_xgb'] = test_preds_xgb\n",
    "X_test['pred_rf'] = test_preds_rf\n",
    "X_test['pred_bag'] = test_preds_bag\n",
    "X_test['pred_lgbm'] = test_preds_lgbm\n",
    "preds = regr.predict(X_test)\n",
    "rmse = np.sqrt(mean_squared_error(y_test, preds))\n",
    "print(\"RMSE: %f\" % (rmse))"
   ]
  },
  {
   "cell_type": "markdown",
   "metadata": {},
   "source": [
    "#### Ventana 3"
   ]
  },
  {
   "cell_type": "code",
   "execution_count": 57,
   "metadata": {},
   "outputs": [],
   "source": [
    "X_test, y_test = installsCheck3.iloc[:,:-1], installsCheck3.iloc[:,-1]\n",
    "X, y = installs3.iloc[:,:-1], installs3.iloc[:,-1]\n",
    "X_train, X_val, y_train, y_val = train_test_split(X, y, test_size=0.3)"
   ]
  },
  {
   "cell_type": "code",
   "execution_count": 58,
   "metadata": {},
   "outputs": [
    {
     "name": "stderr",
     "output_type": "stream",
     "text": [
      "/home/gabriel/workspace/7506-1c2019/env/lib/python3.5/site-packages/ipykernel_launcher.py:9: SettingWithCopyWarning: \n",
      "A value is trying to be set on a copy of a slice from a DataFrame.\n",
      "Try using .loc[row_indexer,col_indexer] = value instead\n",
      "\n",
      "See the caveats in the documentation: http://pandas.pydata.org/pandas-docs/stable/indexing.html#indexing-view-versus-copy\n",
      "  if __name__ == '__main__':\n",
      "/home/gabriel/workspace/7506-1c2019/env/lib/python3.5/site-packages/ipykernel_launcher.py:10: SettingWithCopyWarning: \n",
      "A value is trying to be set on a copy of a slice from a DataFrame.\n",
      "Try using .loc[row_indexer,col_indexer] = value instead\n",
      "\n",
      "See the caveats in the documentation: http://pandas.pydata.org/pandas-docs/stable/indexing.html#indexing-view-versus-copy\n",
      "  # Remove the CWD from sys.path while we load stuff.\n",
      "/home/gabriel/workspace/7506-1c2019/env/lib/python3.5/site-packages/ipykernel_launcher.py:11: SettingWithCopyWarning: \n",
      "A value is trying to be set on a copy of a slice from a DataFrame.\n",
      "Try using .loc[row_indexer,col_indexer] = value instead\n",
      "\n",
      "See the caveats in the documentation: http://pandas.pydata.org/pandas-docs/stable/indexing.html#indexing-view-versus-copy\n",
      "  # This is added back by InteractiveShellApp.init_path()\n",
      "/home/gabriel/workspace/7506-1c2019/env/lib/python3.5/site-packages/ipykernel_launcher.py:12: SettingWithCopyWarning: \n",
      "A value is trying to be set on a copy of a slice from a DataFrame.\n",
      "Try using .loc[row_indexer,col_indexer] = value instead\n",
      "\n",
      "See the caveats in the documentation: http://pandas.pydata.org/pandas-docs/stable/indexing.html#indexing-view-versus-copy\n",
      "  if sys.path[0] == '':\n"
     ]
    },
    {
     "name": "stdout",
     "output_type": "stream",
     "text": [
      "RMSE: 66700.615441\n"
     ]
    }
   ],
   "source": [
    "preds_xgb = xg_reg.predict(X_val)\n",
    "preds_rf = rf.predict(X_val)\n",
    "preds_bag = bagging.predict(X_val)\n",
    "preds_lgbm = gbm.predict(X_val)\n",
    "test_preds_xgb = xg_reg.predict(X_test)\n",
    "test_preds_rf = rf.predict(X_test)\n",
    "test_preds_bag = bagging.predict(X_test)\n",
    "test_preds_lgbm = gbm.predict(X_test)\n",
    "X_val['pred_xgb'] = preds_xgb\n",
    "X_val['pred_rf'] = preds_rf\n",
    "X_val['pred_bag'] = preds_bag\n",
    "X_val['pred_lgbm'] = preds_lgbm\n",
    "X_test['pred_xgb'] = test_preds_xgb\n",
    "X_test['pred_rf'] = test_preds_rf\n",
    "X_test['pred_bag'] = test_preds_bag\n",
    "X_test['pred_lgbm'] = test_preds_lgbm\n",
    "preds = regr.predict(X_test)\n",
    "rmse = np.sqrt(mean_squared_error(y_test, preds))\n",
    "print(\"RMSE: %f\" % (rmse))"
   ]
  },
  {
   "cell_type": "markdown",
   "metadata": {},
   "source": [
    "#### Ventana 4"
   ]
  },
  {
   "cell_type": "code",
   "execution_count": 59,
   "metadata": {},
   "outputs": [],
   "source": [
    "X_test, y_test = installsCheck4.iloc[:,:-1], installsCheck4.iloc[:,-1]\n",
    "X, y = installs4.iloc[:,:-1], installs4.iloc[:,-1]\n",
    "X_train, X_val, y_train, y_val = train_test_split(X, y, test_size=0.3)"
   ]
  },
  {
   "cell_type": "code",
   "execution_count": 60,
   "metadata": {},
   "outputs": [
    {
     "name": "stderr",
     "output_type": "stream",
     "text": [
      "/home/gabriel/workspace/7506-1c2019/env/lib/python3.5/site-packages/ipykernel_launcher.py:9: SettingWithCopyWarning: \n",
      "A value is trying to be set on a copy of a slice from a DataFrame.\n",
      "Try using .loc[row_indexer,col_indexer] = value instead\n",
      "\n",
      "See the caveats in the documentation: http://pandas.pydata.org/pandas-docs/stable/indexing.html#indexing-view-versus-copy\n",
      "  if __name__ == '__main__':\n",
      "/home/gabriel/workspace/7506-1c2019/env/lib/python3.5/site-packages/ipykernel_launcher.py:10: SettingWithCopyWarning: \n",
      "A value is trying to be set on a copy of a slice from a DataFrame.\n",
      "Try using .loc[row_indexer,col_indexer] = value instead\n",
      "\n",
      "See the caveats in the documentation: http://pandas.pydata.org/pandas-docs/stable/indexing.html#indexing-view-versus-copy\n",
      "  # Remove the CWD from sys.path while we load stuff.\n",
      "/home/gabriel/workspace/7506-1c2019/env/lib/python3.5/site-packages/ipykernel_launcher.py:11: SettingWithCopyWarning: \n",
      "A value is trying to be set on a copy of a slice from a DataFrame.\n",
      "Try using .loc[row_indexer,col_indexer] = value instead\n",
      "\n",
      "See the caveats in the documentation: http://pandas.pydata.org/pandas-docs/stable/indexing.html#indexing-view-versus-copy\n",
      "  # This is added back by InteractiveShellApp.init_path()\n",
      "/home/gabriel/workspace/7506-1c2019/env/lib/python3.5/site-packages/ipykernel_launcher.py:12: SettingWithCopyWarning: \n",
      "A value is trying to be set on a copy of a slice from a DataFrame.\n",
      "Try using .loc[row_indexer,col_indexer] = value instead\n",
      "\n",
      "See the caveats in the documentation: http://pandas.pydata.org/pandas-docs/stable/indexing.html#indexing-view-versus-copy\n",
      "  if sys.path[0] == '':\n"
     ]
    },
    {
     "name": "stdout",
     "output_type": "stream",
     "text": [
      "RMSE: 66084.058763\n"
     ]
    }
   ],
   "source": [
    "preds_xgb = xg_reg.predict(X_val)\n",
    "preds_rf = rf.predict(X_val)\n",
    "preds_bag = bagging.predict(X_val)\n",
    "preds_lgbm = gbm.predict(X_val)\n",
    "test_preds_xgb = xg_reg.predict(X_test)\n",
    "test_preds_rf = rf.predict(X_test)\n",
    "test_preds_bag = bagging.predict(X_test)\n",
    "test_preds_lgbm = gbm.predict(X_test)\n",
    "X_val['pred_xgb'] = preds_xgb\n",
    "X_val['pred_rf'] = preds_rf\n",
    "X_val['pred_bag'] = preds_bag\n",
    "X_val['pred_lgbm'] = preds_lgbm\n",
    "X_test['pred_xgb'] = test_preds_xgb\n",
    "X_test['pred_rf'] = test_preds_rf\n",
    "X_test['pred_bag'] = test_preds_bag\n",
    "X_test['pred_lgbm'] = test_preds_lgbm\n",
    "preds = regr.predict(X_test)\n",
    "rmse = np.sqrt(mean_squared_error(y_test, preds))\n",
    "print(\"RMSE: %f\" % (rmse))"
   ]
  },
  {
   "cell_type": "markdown",
   "metadata": {},
   "source": [
    "#### Ventana 5"
   ]
  },
  {
   "cell_type": "code",
   "execution_count": 61,
   "metadata": {},
   "outputs": [],
   "source": [
    "X_test, y_test = installsCheck5.iloc[:,:-1], installsCheck5.iloc[:,-1]\n",
    "X, y = installs5.iloc[:,:-1], installs5.iloc[:,-1]\n",
    "X_train, X_val, y_train, y_val = train_test_split(X, y, test_size=0.3)"
   ]
  },
  {
   "cell_type": "code",
   "execution_count": 62,
   "metadata": {},
   "outputs": [
    {
     "name": "stderr",
     "output_type": "stream",
     "text": [
      "/home/gabriel/workspace/7506-1c2019/env/lib/python3.5/site-packages/ipykernel_launcher.py:9: SettingWithCopyWarning: \n",
      "A value is trying to be set on a copy of a slice from a DataFrame.\n",
      "Try using .loc[row_indexer,col_indexer] = value instead\n",
      "\n",
      "See the caveats in the documentation: http://pandas.pydata.org/pandas-docs/stable/indexing.html#indexing-view-versus-copy\n",
      "  if __name__ == '__main__':\n",
      "/home/gabriel/workspace/7506-1c2019/env/lib/python3.5/site-packages/ipykernel_launcher.py:10: SettingWithCopyWarning: \n",
      "A value is trying to be set on a copy of a slice from a DataFrame.\n",
      "Try using .loc[row_indexer,col_indexer] = value instead\n",
      "\n",
      "See the caveats in the documentation: http://pandas.pydata.org/pandas-docs/stable/indexing.html#indexing-view-versus-copy\n",
      "  # Remove the CWD from sys.path while we load stuff.\n",
      "/home/gabriel/workspace/7506-1c2019/env/lib/python3.5/site-packages/ipykernel_launcher.py:11: SettingWithCopyWarning: \n",
      "A value is trying to be set on a copy of a slice from a DataFrame.\n",
      "Try using .loc[row_indexer,col_indexer] = value instead\n",
      "\n",
      "See the caveats in the documentation: http://pandas.pydata.org/pandas-docs/stable/indexing.html#indexing-view-versus-copy\n",
      "  # This is added back by InteractiveShellApp.init_path()\n",
      "/home/gabriel/workspace/7506-1c2019/env/lib/python3.5/site-packages/ipykernel_launcher.py:12: SettingWithCopyWarning: \n",
      "A value is trying to be set on a copy of a slice from a DataFrame.\n",
      "Try using .loc[row_indexer,col_indexer] = value instead\n",
      "\n",
      "See the caveats in the documentation: http://pandas.pydata.org/pandas-docs/stable/indexing.html#indexing-view-versus-copy\n",
      "  if sys.path[0] == '':\n"
     ]
    },
    {
     "name": "stdout",
     "output_type": "stream",
     "text": [
      "RMSE: 63978.624209\n"
     ]
    }
   ],
   "source": [
    "preds_xgb = xg_reg.predict(X_val)\n",
    "preds_rf = rf.predict(X_val)\n",
    "preds_bag = bagging.predict(X_val)\n",
    "preds_lgbm = gbm.predict(X_val)\n",
    "test_preds_xgb = xg_reg.predict(X_test)\n",
    "test_preds_rf = rf.predict(X_test)\n",
    "test_preds_bag = bagging.predict(X_test)\n",
    "test_preds_lgbm = gbm.predict(X_test)\n",
    "X_val['pred_xgb'] = preds_xgb\n",
    "X_val['pred_rf'] = preds_rf\n",
    "X_val['pred_bag'] = preds_bag\n",
    "X_val['pred_lgbm'] = preds_lgbm\n",
    "X_test['pred_xgb'] = test_preds_xgb\n",
    "X_test['pred_rf'] = test_preds_rf\n",
    "X_test['pred_bag'] = test_preds_bag\n",
    "X_test['pred_lgbm'] = test_preds_lgbm\n",
    "\n",
    "preds = regr.predict(X_test)\n",
    "rmse = np.sqrt(mean_squared_error(y_test, preds))\n",
    "print(\"RMSE: %f\" % (rmse))"
   ]
  },
  {
   "cell_type": "code",
   "execution_count": 63,
   "metadata": {},
   "outputs": [],
   "source": [
    "test = targets_sc_with_installs[['ref_type', 'ref_hash', 'total_apps', '%implicit', '%attributed', 'most_freq_lang', 'most_freq_app', 'model', 'ip', 'events_%wifi', 'event_apps', 'distinct_events', 'total_events']]"
   ]
  },
  {
   "cell_type": "code",
   "execution_count": 64,
   "metadata": {},
   "outputs": [],
   "source": [
    "preds_xgb = xg_reg.predict(test)\n",
    "preds_rf = rf.predict(test)\n",
    "preds_bag = bagging.predict(test)\n",
    "preds_lgbm = gbm.predict(test)"
   ]
  },
  {
   "cell_type": "code",
   "execution_count": 65,
   "metadata": {},
   "outputs": [
    {
     "name": "stderr",
     "output_type": "stream",
     "text": [
      "/home/gabriel/workspace/7506-1c2019/env/lib/python3.5/site-packages/ipykernel_launcher.py:1: SettingWithCopyWarning: \n",
      "A value is trying to be set on a copy of a slice from a DataFrame.\n",
      "Try using .loc[row_indexer,col_indexer] = value instead\n",
      "\n",
      "See the caveats in the documentation: http://pandas.pydata.org/pandas-docs/stable/indexing.html#indexing-view-versus-copy\n",
      "  \"\"\"Entry point for launching an IPython kernel.\n",
      "/home/gabriel/workspace/7506-1c2019/env/lib/python3.5/site-packages/ipykernel_launcher.py:2: SettingWithCopyWarning: \n",
      "A value is trying to be set on a copy of a slice from a DataFrame.\n",
      "Try using .loc[row_indexer,col_indexer] = value instead\n",
      "\n",
      "See the caveats in the documentation: http://pandas.pydata.org/pandas-docs/stable/indexing.html#indexing-view-versus-copy\n",
      "  \n",
      "/home/gabriel/workspace/7506-1c2019/env/lib/python3.5/site-packages/ipykernel_launcher.py:3: SettingWithCopyWarning: \n",
      "A value is trying to be set on a copy of a slice from a DataFrame.\n",
      "Try using .loc[row_indexer,col_indexer] = value instead\n",
      "\n",
      "See the caveats in the documentation: http://pandas.pydata.org/pandas-docs/stable/indexing.html#indexing-view-versus-copy\n",
      "  This is separate from the ipykernel package so we can avoid doing imports until\n",
      "/home/gabriel/workspace/7506-1c2019/env/lib/python3.5/site-packages/ipykernel_launcher.py:4: SettingWithCopyWarning: \n",
      "A value is trying to be set on a copy of a slice from a DataFrame.\n",
      "Try using .loc[row_indexer,col_indexer] = value instead\n",
      "\n",
      "See the caveats in the documentation: http://pandas.pydata.org/pandas-docs/stable/indexing.html#indexing-view-versus-copy\n",
      "  after removing the cwd from sys.path.\n"
     ]
    }
   ],
   "source": [
    "test['preds_xgb'] = preds_xgb\n",
    "test['preds_rf'] = preds_rf\n",
    "test['preds_bag'] = preds_bag\n",
    "test['preds_lgbm'] = preds_lgbm"
   ]
  },
  {
   "cell_type": "code",
   "execution_count": 66,
   "metadata": {},
   "outputs": [],
   "source": [
    "test.to_csv('modelos/sc/test_sc.csv', index=False)"
   ]
  },
  {
   "cell_type": "code",
   "execution_count": 67,
   "metadata": {},
   "outputs": [
    {
     "data": {
      "text/plain": [
       "array([128624.98410852, 128939.19313165, 127473.56678809, ...,\n",
       "       128806.227345  , 128559.35813826, 128180.49846795])"
      ]
     },
     "execution_count": 67,
     "metadata": {},
     "output_type": "execute_result"
    }
   ],
   "source": [
    "predictions_sc = regr.predict(test)\n",
    "predictions_sc"
   ]
  },
  {
   "cell_type": "code",
   "execution_count": 69,
   "metadata": {},
   "outputs": [
    {
     "data": {
      "text/plain": [
       "4037"
      ]
     },
     "execution_count": 69,
     "metadata": {},
     "output_type": "execute_result"
    }
   ],
   "source": [
    "predictions_sc.size"
   ]
  },
  {
   "cell_type": "code",
   "execution_count": 68,
   "metadata": {},
   "outputs": [],
   "source": [
    "pd.DataFrame(predictions_sc).to_csv(\"../output/predicciones_sc.csv\", header=None, index=False)"
   ]
  },
  {
   "cell_type": "code",
   "execution_count": null,
   "metadata": {},
   "outputs": [],
   "source": []
  }
 ],
 "metadata": {
  "kernelspec": {
   "display_name": "Python 3",
   "language": "python",
   "name": "python3"
  },
  "language_info": {
   "codemirror_mode": {
    "name": "ipython",
    "version": 3
   },
   "file_extension": ".py",
   "mimetype": "text/x-python",
   "name": "python",
   "nbconvert_exporter": "python",
   "pygments_lexer": "ipython3",
   "version": "3.5.2"
  }
 },
 "nbformat": 4,
 "nbformat_minor": 2
}

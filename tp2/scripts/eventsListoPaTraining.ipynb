{
 "cells": [
  {
   "cell_type": "code",
   "execution_count": 1,
   "metadata": {},
   "outputs": [],
   "source": [
    "import pandas as pd\n",
    "import numpy as np\n",
    "#import matplotlib.pyplot as plt"
   ]
  },
  {
   "cell_type": "code",
   "execution_count": 2,
   "metadata": {},
   "outputs": [],
   "source": [
    "events = pd.read_csv('events.csv.gzip', compression='gzip', \n",
    "                     dtype={\n",
    "                         'device_countrycode': 'category', \n",
    "                         'device_city': 'category',\n",
    "                         'ref_type': 'category',\n",
    "                         'application_id': 'uint16',\n",
    "                         'device_os_version': 'category',\n",
    "                         'device_brand': 'category',\n",
    "                         'device_model': 'category',\n",
    "                         'session_user_agent': 'category',\n",
    "                         'trans_id': 'category',\n",
    "                         'user_agent': 'category',\n",
    "                         'carrier': 'category',\n",
    "                         'device_os': 'category',\n",
    "                         'device_os_version': 'category',\n",
    "                         'device_language': 'category',\n",
    "                         'connection_type': 'category',\n",
    "                         'wifi': 'category'\n",
    "                     })"
   ]
  },
  {
   "cell_type": "code",
   "execution_count": 3,
   "metadata": {},
   "outputs": [],
   "source": [
    "del events['device_countrycode'] #Borrada porque hay un solo país\n",
    "del events['trans_id'] #Borrada por tener muy pocos valores (37000/7000000)\n",
    "del events['event_uuid'] #Borrada por tener todos los valores distintos\n",
    "del events['device_os_version'] #Borrado por tener 70% de los valores nulos.\n",
    "del events['device_brand'] #Borrado por tener 67% de los valores nulos\n",
    "del events['device_city'] #Borrado por tener 76% de los valores nulos\n",
    "del events['user_agent'] #Borrado por tener 57% de los valores nulos\n",
    "del events['carrier'] #Borrado por tener 75% de los valores nulos\n",
    "del events['device_os'] #Borrado por tener 76% de los valores nulos\n",
    "del events['connection_type'] #Borrado por tener 77% de los valores nulos\n",
    "del events['device_language'] #Borrado por tener 27% de los valores nulos\n",
    "#------------------------------------------------------------------\n",
    "events = events[pd.notnull(events['session_user_agent'])] #Borrados las filas nulas (0,5%)\n",
    "events = events[pd.notnull(events['kind'])] #Borrados las filas nulas (0,5%)\n",
    "#------------------------------------------------------------------\n",
    "events = events[pd.notnull(events['device_model'])] #Borrado por tener 27% de nulos, podria rellenarse si no andan los algoritmos"
   ]
  },
  {
   "cell_type": "code",
   "execution_count": 4,
   "metadata": {},
   "outputs": [],
   "source": [
    "# device_model tiene 27% de los valores nulos\n",
    "# session_user_agent tiene 0,5% de los valores nulos\n",
    "# kind tiene tiene 0,4% de los valores nulos"
   ]
  }
 ],
 "metadata": {
  "kernelspec": {
   "display_name": "Python 3",
   "language": "python",
   "name": "python3"
  },
  "language_info": {
   "codemirror_mode": {
    "name": "ipython",
    "version": 3
   },
   "file_extension": ".py",
   "mimetype": "text/x-python",
   "name": "python",
   "nbconvert_exporter": "python",
   "pygments_lexer": "ipython3",
   "version": "3.7.3"
  }
 },
 "nbformat": 4,
 "nbformat_minor": 2
}

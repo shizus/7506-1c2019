{
 "cells": [
  {
   "cell_type": "code",
   "execution_count": 1,
   "metadata": {},
   "outputs": [],
   "source": [
    "import pandas as pd\n",
    "import numpy as np"
   ]
  },
  {
   "cell_type": "code",
   "execution_count": 2,
   "metadata": {},
   "outputs": [],
   "source": [
    "installs = pd.read_csv('../datos/installs.csv', dtype ={'device_language' : 'str', 'click_hash': object, 'wifi': object, 'trans_id': object})"
   ]
  },
  {
   "cell_type": "code",
   "execution_count": 3,
   "metadata": {},
   "outputs": [],
   "source": [
    "# No tiene sentido quedarse con el pais, porque es uno solo\n",
    "#No tiene sentido quedarse con la columna trans_id. El 98% de los valores son Null\n",
    "#No tiene sentido quedarse con click_hash, el 99% de los valors son null\n",
    "#No tiene sentido quedarse con event_uuid, el 78% de los valores son null\n",
    "#No tiene sentido quedarse con kind, el 78% de los valores son null\n",
    "#No tiene sentido quedarse con wifi, el 48% de los valores son null\n",
    "#No tiene sentido quedarse con device_brand. El 42% son null\n",
    "#No tiene sentido quedarse con la columna user_agent El 31% de los valores son Null\n",
    "#¿Tiene sentido quedarse con la columna session_user_agent? El 3% de los valores son Null\n",
    "# session_user_agent tiene el 3% de los valores null. Borro esas filas\n",
    "del installs['trans_id']\n",
    "del installs['device_countrycode']\n",
    "del installs['click_hash']\n",
    "del installs['event_uuid']\n",
    "del installs['kind']\n",
    "del installs['wifi']\n",
    "del installs['device_brand']\n",
    "del installs['user_agent']\n",
    "del installs['session_user_agent']\n",
    "\n",
    "##Borro las filas que tienen null en device_model y device_language. Juntas son el 5% de las filas en null\n",
    "installs = installs[pd.notnull(installs['device_model'])]\n",
    "installs = installs[pd.notnull(installs['device_language'])]"
   ]
  },
  {
   "cell_type": "code",
   "execution_count": 4,
   "metadata": {},
   "outputs": [],
   "source": [
    "installs['created'] = pd.to_datetime(installs['created'], errors = 'coerce')\n",
    "installs = installs.sort_values(by = ['ref_hash', 'created'])"
   ]
  },
  {
   "cell_type": "code",
   "execution_count": 5,
   "metadata": {},
   "outputs": [],
   "source": [
    "events = pd.read_csv('../datos/events.csv',\n",
    "                     dtype={\n",
    "                         'device_countrycode': 'category', \n",
    "                         'device_city': 'category',\n",
    "                         'ref_type': 'int64',\n",
    "                         'application_id': 'int64',\n",
    "                         'device_os_version': 'category',\n",
    "                         'device_brand': 'category',\n",
    "                         'device_model': 'float64',\n",
    "                         'session_user_agent': 'category',\n",
    "                         'trans_id': 'category',\n",
    "                         'user_agent': 'category',\n",
    "                         'carrier': 'category',\n",
    "                         'device_os': 'category',\n",
    "                         'device_os_version': 'category',\n",
    "                         'device_language': 'category',\n",
    "                         'connection_type': 'category',\n",
    "                         'wifi': 'bool'\n",
    "                     })"
   ]
  },
  {
   "cell_type": "code",
   "execution_count": 6,
   "metadata": {},
   "outputs": [],
   "source": [
    "del events['attributed']\n",
    "del events['device_countrycode'] #Borrada porque hay un solo país\n",
    "del events['trans_id'] #Borrada por tener muy pocos valores (37000/7000000)\n",
    "del events['event_uuid'] #Borrada por tener todos los valores distintos\n",
    "del events['device_os_version'] #Borrado por tener 70% de los valores nulos.\n",
    "del events['device_brand'] #Borrado por tener 67% de los valores nulos\n",
    "del events['device_city'] #Borrado por tener 76% de los valores nulos\n",
    "del events['user_agent'] #Borrado por tener 57% de los valores nulos\n",
    "del events['carrier'] #Borrado por tener 75% de los valores nulos\n",
    "del events['device_os'] #Borrado por tener 76% de los valores nulos\n",
    "del events['connection_type'] #Borrado por tener 77% de los valores nulos\n",
    "del events['session_user_agent']\n",
    "#------------------------------------------------------------------\n",
    "events = events[pd.notnull(events['kind'])] #Borrados las filas nulas (0,5%)\n",
    "#------------------------------------------------------------------\n",
    "events = events[pd.notnull(events['device_model'])]"
   ]
  },
  {
   "cell_type": "code",
   "execution_count": 7,
   "metadata": {},
   "outputs": [
    {
     "data": {
      "text/plain": [
       "348229"
      ]
     },
     "execution_count": 7,
     "metadata": {},
     "output_type": "execute_result"
    }
   ],
   "source": [
    "events['ref_hash'].value_counts().count()"
   ]
  },
  {
   "cell_type": "code",
   "execution_count": 8,
   "metadata": {},
   "outputs": [
    {
     "data": {
      "text/plain": [
       "373799"
      ]
     },
     "execution_count": 8,
     "metadata": {},
     "output_type": "execute_result"
    }
   ],
   "source": [
    "installs['ref_hash'].value_counts().count()"
   ]
  },
  {
   "cell_type": "code",
   "execution_count": 55,
   "metadata": {},
   "outputs": [
    {
     "data": {
      "text/html": [
       "<div>\n",
       "<style scoped>\n",
       "    .dataframe tbody tr th:only-of-type {\n",
       "        vertical-align: middle;\n",
       "    }\n",
       "\n",
       "    .dataframe tbody tr th {\n",
       "        vertical-align: top;\n",
       "    }\n",
       "\n",
       "    .dataframe thead th {\n",
       "        text-align: right;\n",
       "    }\n",
       "</style>\n",
       "<table border=\"1\" class=\"dataframe\">\n",
       "  <thead>\n",
       "    <tr style=\"text-align: right;\">\n",
       "      <th></th>\n",
       "      <th>created</th>\n",
       "      <th>ref_type</th>\n",
       "      <th>ref_hash</th>\n",
       "      <th>total_apps</th>\n",
       "      <th>%implicit</th>\n",
       "      <th>%attributed</th>\n",
       "      <th>most_freq_lang</th>\n",
       "      <th>most_freq_app</th>\n",
       "      <th>model</th>\n",
       "      <th>ip</th>\n",
       "      <th>events_%wifi</th>\n",
       "      <th>event_apps</th>\n",
       "      <th>distinct_events</th>\n",
       "      <th>total_events</th>\n",
       "    </tr>\n",
       "  </thead>\n",
       "  <tbody>\n",
       "    <tr>\n",
       "      <th>46742</th>\n",
       "      <td>2019-04-21 19:17:47.657</td>\n",
       "      <td>1891515180541284343</td>\n",
       "      <td>40621409780134</td>\n",
       "      <td>1</td>\n",
       "      <td>0.0</td>\n",
       "      <td>0.0</td>\n",
       "      <td>3.301378e+18</td>\n",
       "      <td>77</td>\n",
       "      <td>2.019322e+18</td>\n",
       "      <td>990380024993756535</td>\n",
       "      <td>0.0</td>\n",
       "      <td>9.0</td>\n",
       "      <td>3.0</td>\n",
       "      <td>9.0</td>\n",
       "    </tr>\n",
       "    <tr>\n",
       "      <th>398921</th>\n",
       "      <td>2019-04-18 21:11:50.326</td>\n",
       "      <td>1891515180541284343</td>\n",
       "      <td>41863526108385</td>\n",
       "      <td>4</td>\n",
       "      <td>0.5</td>\n",
       "      <td>0.0</td>\n",
       "      <td>6.977049e+18</td>\n",
       "      <td>65</td>\n",
       "      <td>1.658417e+18</td>\n",
       "      <td>7530145772806895848</td>\n",
       "      <td>0.0</td>\n",
       "      <td>32.0</td>\n",
       "      <td>7.0</td>\n",
       "      <td>32.0</td>\n",
       "    </tr>\n",
       "    <tr>\n",
       "      <th>249204</th>\n",
       "      <td>2019-04-18 21:11:51.966</td>\n",
       "      <td>1891515180541284343</td>\n",
       "      <td>41863526108385</td>\n",
       "      <td>4</td>\n",
       "      <td>0.5</td>\n",
       "      <td>0.0</td>\n",
       "      <td>6.977049e+18</td>\n",
       "      <td>65</td>\n",
       "      <td>1.658417e+18</td>\n",
       "      <td>7530145772806895848</td>\n",
       "      <td>0.0</td>\n",
       "      <td>32.0</td>\n",
       "      <td>7.0</td>\n",
       "      <td>32.0</td>\n",
       "    </tr>\n",
       "    <tr>\n",
       "      <th>112218</th>\n",
       "      <td>2019-04-18 21:17:11.946</td>\n",
       "      <td>1891515180541284343</td>\n",
       "      <td>41863526108385</td>\n",
       "      <td>4</td>\n",
       "      <td>0.5</td>\n",
       "      <td>0.0</td>\n",
       "      <td>6.977049e+18</td>\n",
       "      <td>65</td>\n",
       "      <td>1.658417e+18</td>\n",
       "      <td>7530145772806895848</td>\n",
       "      <td>0.0</td>\n",
       "      <td>32.0</td>\n",
       "      <td>7.0</td>\n",
       "      <td>32.0</td>\n",
       "    </tr>\n",
       "    <tr>\n",
       "      <th>112200</th>\n",
       "      <td>2019-04-18 21:17:16.531</td>\n",
       "      <td>1891515180541284343</td>\n",
       "      <td>41863526108385</td>\n",
       "      <td>4</td>\n",
       "      <td>0.5</td>\n",
       "      <td>0.0</td>\n",
       "      <td>6.977049e+18</td>\n",
       "      <td>65</td>\n",
       "      <td>1.658417e+18</td>\n",
       "      <td>7530145772806895848</td>\n",
       "      <td>0.0</td>\n",
       "      <td>32.0</td>\n",
       "      <td>7.0</td>\n",
       "      <td>32.0</td>\n",
       "    </tr>\n",
       "  </tbody>\n",
       "</table>\n",
       "</div>"
      ],
      "text/plain": [
       "                       created             ref_type        ref_hash  \\\n",
       "46742  2019-04-21 19:17:47.657  1891515180541284343  40621409780134   \n",
       "398921 2019-04-18 21:11:50.326  1891515180541284343  41863526108385   \n",
       "249204 2019-04-18 21:11:51.966  1891515180541284343  41863526108385   \n",
       "112218 2019-04-18 21:17:11.946  1891515180541284343  41863526108385   \n",
       "112200 2019-04-18 21:17:16.531  1891515180541284343  41863526108385   \n",
       "\n",
       "        total_apps  %implicit  %attributed  most_freq_lang  most_freq_app  \\\n",
       "46742            1        0.0          0.0    3.301378e+18             77   \n",
       "398921           4        0.5          0.0    6.977049e+18             65   \n",
       "249204           4        0.5          0.0    6.977049e+18             65   \n",
       "112218           4        0.5          0.0    6.977049e+18             65   \n",
       "112200           4        0.5          0.0    6.977049e+18             65   \n",
       "\n",
       "               model                   ip  events_%wifi  event_apps  \\\n",
       "46742   2.019322e+18   990380024993756535           0.0         9.0   \n",
       "398921  1.658417e+18  7530145772806895848           0.0        32.0   \n",
       "249204  1.658417e+18  7530145772806895848           0.0        32.0   \n",
       "112218  1.658417e+18  7530145772806895848           0.0        32.0   \n",
       "112200  1.658417e+18  7530145772806895848           0.0        32.0   \n",
       "\n",
       "        distinct_events  total_events  \n",
       "46742               3.0           9.0  \n",
       "398921              7.0          32.0  \n",
       "249204              7.0          32.0  \n",
       "112218              7.0          32.0  \n",
       "112200              7.0          32.0  "
      ]
     },
     "execution_count": 55,
     "metadata": {},
     "output_type": "execute_result"
    }
   ],
   "source": [
    "installs.head()"
   ]
  },
  {
   "cell_type": "code",
   "execution_count": 10,
   "metadata": {},
   "outputs": [],
   "source": [
    "eventos = events.groupby('ref_hash').agg({'wifi' : 'mean', 'application_id' : 'count', 'kind' : 'nunique', 'event_id' : 'count'}).reset_index()"
   ]
  },
  {
   "cell_type": "code",
   "execution_count": 12,
   "metadata": {},
   "outputs": [],
   "source": [
    "events['mode_model'] = events.groupby('ref_hash')['device_model'].agg(lambda x: x.value_counts().index[0])\n",
    "events['mode_lang'] = events.groupby('ref_hash')['device_language'].agg(lambda x: x.value_counts().index[0])"
   ]
  },
  {
   "cell_type": "code",
   "execution_count": 14,
   "metadata": {},
   "outputs": [],
   "source": [
    "installs['total_apps'] = installs.groupby('ref_hash')['application_id'].transform('count')\n",
    "installs['%implicit'] = installs.groupby('ref_hash')['implicit'].transform('mean')\n",
    "installs['%attributed'] = installs.groupby('ref_hash')['attributed'].transform('mean')\n",
    "installs['most_freq_lang'] = installs.groupby('ref_hash')['device_language'].transform(lambda x: x.mode().iloc[0])\n",
    "installs['most_freq_app'] = installs.groupby('ref_hash')['application_id'].transform(lambda x: x.mode().iloc[0])\n",
    "installs['model'] = installs.groupby('ref_hash')['device_model'].transform(lambda x: x.mode().iloc[0])\n",
    "installs['ip'] = installs.groupby('ref_hash')['ip_address'].transform(lambda x: x.mode().iloc[0])"
   ]
  },
  {
   "cell_type": "code",
   "execution_count": 15,
   "metadata": {},
   "outputs": [],
   "source": [
    "installs['events_%wifi'] = installs['ref_hash'].map(eventos.set_index('ref_hash')['wifi'])\n",
    "installs['event_apps'] = installs['ref_hash'].map(eventos.set_index('ref_hash')['application_id'])\n",
    "installs['distinct_events'] = installs['ref_hash'].map(eventos.set_index('ref_hash')['kind'])\n",
    "installs['total_events'] = installs['ref_hash'].map(eventos.set_index('ref_hash')['event_id'])"
   ]
  },
  {
   "cell_type": "code",
   "execution_count": 16,
   "metadata": {},
   "outputs": [],
   "source": [
    "del installs['attributed']\n",
    "del installs['implicit']\n",
    "del installs['application_id']\n",
    "del installs['device_model']\n",
    "del installs['ip_address']\n",
    "del installs['device_language']"
   ]
  },
  {
   "cell_type": "code",
   "execution_count": 18,
   "metadata": {
    "scrolled": false
   },
   "outputs": [],
   "source": [
    "installs.fillna(0, inplace=True)"
   ]
  },
  {
   "cell_type": "code",
   "execution_count": 19,
   "metadata": {},
   "outputs": [],
   "source": [
    "installs = installs.sort_values(by = ['ref_hash', 'created'])"
   ]
  },
  {
   "cell_type": "code",
   "execution_count": 20,
   "metadata": {},
   "outputs": [],
   "source": [
    "installs['most_freq_lang'] = installs['most_freq_lang'].astype('float64')"
   ]
  },
  {
   "cell_type": "code",
   "execution_count": 21,
   "metadata": {},
   "outputs": [],
   "source": [
    "installs1 = installs[(installs['created'].dt.day < 21)]\n",
    "installs2 = installs[(installs['created'].dt.day > 18) & (installs['created'].dt.day < 22)]\n",
    "installs3 = installs[(installs['created'].dt.day > 19) & (installs['created'].dt.day < 23)]\n",
    "installs4 = installs[(installs['created'].dt.day > 20) & (installs['created'].dt.day < 24)]\n",
    "installs5 = installs[(installs['created'].dt.day > 21) & (installs['created'].dt.day < 25)]\n",
    "installsCheck1 = installs[(installs['created'].dt.day > 20) & (installs['created'].dt.day < 23)]\n",
    "installsCheck2 = installs[(installs['created'].dt.day > 21) & (installs['created'].dt.day < 24)]\n",
    "installsCheck3 = installs[(installs['created'].dt.day > 22) & (installs['created'].dt.day < 25)]\n",
    "installsCheck4 = installs[(installs['created'].dt.day > 23) & (installs['created'].dt.day < 26)]\n",
    "installsCheck5 = installs[(installs['created'].dt.day > 24) & (installs['created'].dt.day < 27)]"
   ]
  },
  {
   "cell_type": "code",
   "execution_count": 22,
   "metadata": {},
   "outputs": [
    {
     "name": "stderr",
     "output_type": "stream",
     "text": [
      "/home/fede/anaconda3/lib/python3.7/site-packages/ipykernel_launcher.py:1: SettingWithCopyWarning: \n",
      "A value is trying to be set on a copy of a slice from a DataFrame.\n",
      "Try using .loc[row_indexer,col_indexer] = value instead\n",
      "\n",
      "See the caveats in the documentation: http://pandas.pydata.org/pandas-docs/stable/indexing.html#indexing-view-versus-copy\n",
      "  \"\"\"Entry point for launching an IPython kernel.\n",
      "/home/fede/anaconda3/lib/python3.7/site-packages/ipykernel_launcher.py:2: SettingWithCopyWarning: \n",
      "A value is trying to be set on a copy of a slice from a DataFrame.\n",
      "Try using .loc[row_indexer,col_indexer] = value instead\n",
      "\n",
      "See the caveats in the documentation: http://pandas.pydata.org/pandas-docs/stable/indexing.html#indexing-view-versus-copy\n",
      "  \n",
      "/home/fede/anaconda3/lib/python3.7/site-packages/ipykernel_launcher.py:3: SettingWithCopyWarning: \n",
      "A value is trying to be set on a copy of a slice from a DataFrame.\n",
      "Try using .loc[row_indexer,col_indexer] = value instead\n",
      "\n",
      "See the caveats in the documentation: http://pandas.pydata.org/pandas-docs/stable/indexing.html#indexing-view-versus-copy\n",
      "  This is separate from the ipykernel package so we can avoid doing imports until\n",
      "/home/fede/anaconda3/lib/python3.7/site-packages/ipykernel_launcher.py:4: SettingWithCopyWarning: \n",
      "A value is trying to be set on a copy of a slice from a DataFrame.\n",
      "Try using .loc[row_indexer,col_indexer] = value instead\n",
      "\n",
      "See the caveats in the documentation: http://pandas.pydata.org/pandas-docs/stable/indexing.html#indexing-view-versus-copy\n",
      "  after removing the cwd from sys.path.\n",
      "/home/fede/anaconda3/lib/python3.7/site-packages/ipykernel_launcher.py:5: SettingWithCopyWarning: \n",
      "A value is trying to be set on a copy of a slice from a DataFrame.\n",
      "Try using .loc[row_indexer,col_indexer] = value instead\n",
      "\n",
      "See the caveats in the documentation: http://pandas.pydata.org/pandas-docs/stable/indexing.html#indexing-view-versus-copy\n",
      "  \"\"\"\n",
      "/home/fede/anaconda3/lib/python3.7/site-packages/ipykernel_launcher.py:6: SettingWithCopyWarning: \n",
      "A value is trying to be set on a copy of a slice from a DataFrame.\n",
      "Try using .loc[row_indexer,col_indexer] = value instead\n",
      "\n",
      "See the caveats in the documentation: http://pandas.pydata.org/pandas-docs/stable/indexing.html#indexing-view-versus-copy\n",
      "  \n",
      "/home/fede/anaconda3/lib/python3.7/site-packages/ipykernel_launcher.py:7: SettingWithCopyWarning: \n",
      "A value is trying to be set on a copy of a slice from a DataFrame.\n",
      "Try using .loc[row_indexer,col_indexer] = value instead\n",
      "\n",
      "See the caveats in the documentation: http://pandas.pydata.org/pandas-docs/stable/indexing.html#indexing-view-versus-copy\n",
      "  import sys\n",
      "/home/fede/anaconda3/lib/python3.7/site-packages/ipykernel_launcher.py:8: SettingWithCopyWarning: \n",
      "A value is trying to be set on a copy of a slice from a DataFrame.\n",
      "Try using .loc[row_indexer,col_indexer] = value instead\n",
      "\n",
      "See the caveats in the documentation: http://pandas.pydata.org/pandas-docs/stable/indexing.html#indexing-view-versus-copy\n",
      "  \n",
      "/home/fede/anaconda3/lib/python3.7/site-packages/ipykernel_launcher.py:9: SettingWithCopyWarning: \n",
      "A value is trying to be set on a copy of a slice from a DataFrame.\n",
      "Try using .loc[row_indexer,col_indexer] = value instead\n",
      "\n",
      "See the caveats in the documentation: http://pandas.pydata.org/pandas-docs/stable/indexing.html#indexing-view-versus-copy\n",
      "  if __name__ == '__main__':\n",
      "/home/fede/anaconda3/lib/python3.7/site-packages/ipykernel_launcher.py:10: SettingWithCopyWarning: \n",
      "A value is trying to be set on a copy of a slice from a DataFrame.\n",
      "Try using .loc[row_indexer,col_indexer] = value instead\n",
      "\n",
      "See the caveats in the documentation: http://pandas.pydata.org/pandas-docs/stable/indexing.html#indexing-view-versus-copy\n",
      "  # Remove the CWD from sys.path while we load stuff.\n"
     ]
    }
   ],
   "source": [
    "installs1['sc'] = (installs1['created'] - pd.to_datetime('2019-04-18'))/np.timedelta64(1,'s')\n",
    "installs2['sc'] = (installs2['created'] - pd.to_datetime('2019-04-19'))/np.timedelta64(1,'s')\n",
    "installs3['sc'] = (installs3['created'] - pd.to_datetime('2019-04-20'))/np.timedelta64(1,'s')\n",
    "installs4['sc'] = (installs4['created'] - pd.to_datetime('2019-04-21'))/np.timedelta64(1,'s')\n",
    "installs5['sc'] = (installs5['created'] - pd.to_datetime('2019-04-22'))/np.timedelta64(1,'s')\n",
    "installsCheck1['sc'] = (installsCheck1['created'] - pd.to_datetime('2019-04-21'))/np.timedelta64(1,'s')\n",
    "installsCheck2['sc'] = (installsCheck2['created'] - pd.to_datetime('2019-04-22'))/np.timedelta64(1,'s')\n",
    "installsCheck3['sc'] = (installsCheck3['created'] - pd.to_datetime('2019-04-23'))/np.timedelta64(1,'s')\n",
    "installsCheck4['sc'] = (installsCheck4['created'] - pd.to_datetime('2019-04-24'))/np.timedelta64(1,'s')\n",
    "installsCheck5['sc'] = (installsCheck5['created'] - pd.to_datetime('2019-04-25'))/np.timedelta64(1,'s')"
   ]
  },
  {
   "cell_type": "code",
   "execution_count": 23,
   "metadata": {},
   "outputs": [],
   "source": [
    "installs1 = installs1.drop_duplicates('ref_hash', keep = 'first')\n",
    "installs2 = installs2.drop_duplicates('ref_hash', keep = 'first')\n",
    "installs3 = installs3.drop_duplicates('ref_hash', keep = 'first')\n",
    "installs4 = installs4.drop_duplicates('ref_hash', keep = 'first')\n",
    "installs5 = installs5.drop_duplicates('ref_hash', keep = 'first')\n",
    "installsCheck1 = installsCheck1.drop_duplicates('ref_hash', keep = 'first')\n",
    "installsCheck2 = installsCheck2.drop_duplicates('ref_hash', keep = 'first')\n",
    "installsCheck3 = installsCheck3.drop_duplicates('ref_hash', keep = 'first')\n",
    "installsCheck4 = installsCheck4.drop_duplicates('ref_hash', keep = 'first')\n",
    "installsCheck5 = installsCheck5.drop_duplicates('ref_hash', keep = 'first')"
   ]
  },
  {
   "cell_type": "code",
   "execution_count": 24,
   "metadata": {},
   "outputs": [],
   "source": [
    "del installs1['created']\n",
    "del installs2['created']\n",
    "del installs3['created']\n",
    "del installs4['created']\n",
    "del installs5['created']\n",
    "del installsCheck1['created']\n",
    "del installsCheck2['created']\n",
    "del installsCheck3['created']\n",
    "del installsCheck4['created']\n",
    "del installsCheck5['created']"
   ]
  },
  {
   "cell_type": "markdown",
   "metadata": {},
   "source": [
    "# Algoritmos"
   ]
  },
  {
   "cell_type": "markdown",
   "metadata": {},
   "source": [
    "### XGBoost"
   ]
  },
  {
   "cell_type": "code",
   "execution_count": 25,
   "metadata": {},
   "outputs": [],
   "source": [
    "import xgboost as xgb\n",
    "from sklearn.metrics import mean_squared_error"
   ]
  },
  {
   "cell_type": "markdown",
   "metadata": {},
   "source": [
    "#### Ventana 1"
   ]
  },
  {
   "cell_type": "code",
   "execution_count": 94,
   "metadata": {},
   "outputs": [
    {
     "name": "stderr",
     "output_type": "stream",
     "text": [
      "/home/fede/anaconda3/lib/python3.7/site-packages/xgboost/core.py:587: FutureWarning: Series.base is deprecated and will be removed in a future version\n",
      "  if getattr(data, 'base', None) is not None and \\\n",
      "/home/fede/anaconda3/lib/python3.7/site-packages/xgboost/core.py:588: FutureWarning: Series.base is deprecated and will be removed in a future version\n",
      "  data.base is not None and isinstance(data, np.ndarray) \\\n"
     ]
    },
    {
     "name": "stdout",
     "output_type": "stream",
     "text": [
      "RMSE: 52221.659961\n"
     ]
    }
   ],
   "source": [
    "X, y = installs1.iloc[:,:-1], installs1.iloc[:,-1]\n",
    "data_dmatrix = xgb.DMatrix(data=X,label=y)\n",
    "xg_reg = xgb.XGBRegressor(objective ='reg:squarederror', \n",
    "                colsample_bytree = 0.3, learning_rate = 0.1,\n",
    "                max_depth = 5, alpha =10, n_estimators = 11)\n",
    "xg_reg.fit(X, y)\n",
    "preds = xg_reg.predict(installsCheck1.iloc[:,:-1])\n",
    "rmse = np.sqrt(mean_squared_error(installsCheck1.iloc[:,-1], preds))\n",
    "print(\"RMSE: %f\" % (rmse))"
   ]
  },
  {
   "cell_type": "markdown",
   "metadata": {},
   "source": [
    "#### Ventana 2"
   ]
  },
  {
   "cell_type": "code",
   "execution_count": 95,
   "metadata": {},
   "outputs": [
    {
     "name": "stderr",
     "output_type": "stream",
     "text": [
      "/home/fede/anaconda3/lib/python3.7/site-packages/xgboost/core.py:587: FutureWarning: Series.base is deprecated and will be removed in a future version\n",
      "  if getattr(data, 'base', None) is not None and \\\n",
      "/home/fede/anaconda3/lib/python3.7/site-packages/xgboost/core.py:588: FutureWarning: Series.base is deprecated and will be removed in a future version\n",
      "  data.base is not None and isinstance(data, np.ndarray) \\\n"
     ]
    },
    {
     "name": "stdout",
     "output_type": "stream",
     "text": [
      "RMSE: 52146.316026\n"
     ]
    }
   ],
   "source": [
    "X, y = installs2.iloc[:,:-1], installs2.iloc[:,-1]\n",
    "data_dmatrix = xgb.DMatrix(data=X,label=y)\n",
    "xg_reg.fit(X, y)\n",
    "preds = xg_reg.predict(installsCheck2.iloc[:,:-1])\n",
    "rmse = np.sqrt(mean_squared_error(installsCheck2.iloc[:,-1], preds))\n",
    "print(\"RMSE: %f\" % (rmse))"
   ]
  },
  {
   "cell_type": "markdown",
   "metadata": {},
   "source": [
    "#### Ventana 3"
   ]
  },
  {
   "cell_type": "code",
   "execution_count": 96,
   "metadata": {},
   "outputs": [
    {
     "name": "stderr",
     "output_type": "stream",
     "text": [
      "/home/fede/anaconda3/lib/python3.7/site-packages/xgboost/core.py:587: FutureWarning: Series.base is deprecated and will be removed in a future version\n",
      "  if getattr(data, 'base', None) is not None and \\\n",
      "/home/fede/anaconda3/lib/python3.7/site-packages/xgboost/core.py:588: FutureWarning: Series.base is deprecated and will be removed in a future version\n",
      "  data.base is not None and isinstance(data, np.ndarray) \\\n"
     ]
    },
    {
     "name": "stdout",
     "output_type": "stream",
     "text": [
      "RMSE: 52157.097772\n"
     ]
    }
   ],
   "source": [
    "X, y = installs3.iloc[:,:-1], installs3.iloc[:,-1]\n",
    "data_dmatrix = xgb.DMatrix(data=X,label=y)\n",
    "xg_reg.fit(X, y)\n",
    "preds = xg_reg.predict(installsCheck3.iloc[:,:-1])\n",
    "rmse = np.sqrt(mean_squared_error(installsCheck3.iloc[:,-1], preds))\n",
    "print(\"RMSE: %f\" % (rmse))"
   ]
  },
  {
   "cell_type": "markdown",
   "metadata": {},
   "source": [
    "#### Ventana 4"
   ]
  },
  {
   "cell_type": "code",
   "execution_count": 97,
   "metadata": {},
   "outputs": [
    {
     "name": "stderr",
     "output_type": "stream",
     "text": [
      "/home/fede/anaconda3/lib/python3.7/site-packages/xgboost/core.py:587: FutureWarning: Series.base is deprecated and will be removed in a future version\n",
      "  if getattr(data, 'base', None) is not None and \\\n",
      "/home/fede/anaconda3/lib/python3.7/site-packages/xgboost/core.py:588: FutureWarning: Series.base is deprecated and will be removed in a future version\n",
      "  data.base is not None and isinstance(data, np.ndarray) \\\n"
     ]
    },
    {
     "name": "stdout",
     "output_type": "stream",
     "text": [
      "RMSE: 53224.249049\n"
     ]
    }
   ],
   "source": [
    "X, y = installs4.iloc[:,:-1], installs4.iloc[:,-1]\n",
    "data_dmatrix = xgb.DMatrix(data=X,label=y)\n",
    "xg_reg.fit(X, y)\n",
    "preds = xg_reg.predict(installsCheck4.iloc[:,:-1])\n",
    "rmse = np.sqrt(mean_squared_error(installsCheck4.iloc[:,-1], preds))\n",
    "print(\"RMSE: %f\" % (rmse))"
   ]
  },
  {
   "cell_type": "markdown",
   "metadata": {},
   "source": [
    "#### Ventana 5"
   ]
  },
  {
   "cell_type": "code",
   "execution_count": 98,
   "metadata": {},
   "outputs": [
    {
     "name": "stderr",
     "output_type": "stream",
     "text": [
      "/home/fede/anaconda3/lib/python3.7/site-packages/xgboost/core.py:587: FutureWarning: Series.base is deprecated and will be removed in a future version\n",
      "  if getattr(data, 'base', None) is not None and \\\n",
      "/home/fede/anaconda3/lib/python3.7/site-packages/xgboost/core.py:588: FutureWarning: Series.base is deprecated and will be removed in a future version\n",
      "  data.base is not None and isinstance(data, np.ndarray) \\\n"
     ]
    },
    {
     "name": "stdout",
     "output_type": "stream",
     "text": [
      "RMSE: 51092.387332\n"
     ]
    }
   ],
   "source": [
    "X, y = installs5.iloc[:,:-1], installs5.iloc[:,-1]\n",
    "data_dmatrix = xgb.DMatrix(data=X,label=y)\n",
    "xg_reg.fit(X, y)\n",
    "preds = xg_reg.predict(installsCheck5.iloc[:,:-1])\n",
    "rmse = np.sqrt(mean_squared_error(installsCheck5.iloc[:,-1], preds))\n",
    "print(\"RMSE: %f\" % (rmse))"
   ]
  },
  {
   "cell_type": "markdown",
   "metadata": {},
   "source": [
    "#### Target"
   ]
  },
  {
   "cell_type": "code",
   "execution_count": 31,
   "metadata": {},
   "outputs": [],
   "source": [
    "target = pd.read_csv('../datos/target_competencia_ids.csv')"
   ]
  },
  {
   "cell_type": "code",
   "execution_count": 32,
   "metadata": {},
   "outputs": [],
   "source": [
    "targets_sc = target[target['ref_hash'].str.contains('_sc')]\n",
    "targets_st = target[target['ref_hash'].str.contains('_st')]"
   ]
  },
  {
   "cell_type": "code",
   "execution_count": 33,
   "metadata": {},
   "outputs": [
    {
     "name": "stderr",
     "output_type": "stream",
     "text": [
      "/home/fede/anaconda3/lib/python3.7/site-packages/ipykernel_launcher.py:1: SettingWithCopyWarning: \n",
      "A value is trying to be set on a copy of a slice from a DataFrame.\n",
      "Try using .loc[row_indexer,col_indexer] = value instead\n",
      "\n",
      "See the caveats in the documentation: http://pandas.pydata.org/pandas-docs/stable/indexing.html#indexing-view-versus-copy\n",
      "  \"\"\"Entry point for launching an IPython kernel.\n",
      "/home/fede/anaconda3/lib/python3.7/site-packages/ipykernel_launcher.py:2: SettingWithCopyWarning: \n",
      "A value is trying to be set on a copy of a slice from a DataFrame.\n",
      "Try using .loc[row_indexer,col_indexer] = value instead\n",
      "\n",
      "See the caveats in the documentation: http://pandas.pydata.org/pandas-docs/stable/indexing.html#indexing-view-versus-copy\n",
      "  \n"
     ]
    }
   ],
   "source": [
    "targets_sc['ref_hash'] = targets_sc['ref_hash'].map(lambda x: str(x)[:-3])\n",
    "targets_sc['ref_hash'] = targets_sc['ref_hash'].astype(np.int64)"
   ]
  },
  {
   "cell_type": "code",
   "execution_count": 34,
   "metadata": {},
   "outputs": [],
   "source": [
    "installs_sin_dup = installs.drop_duplicates('ref_hash')"
   ]
  },
  {
   "cell_type": "code",
   "execution_count": 35,
   "metadata": {},
   "outputs": [],
   "source": [
    "targets_sc_with_installs = targets_sc.merge(installs_sin_dup, how = 'left', on = 'ref_hash')"
   ]
  },
  {
   "cell_type": "code",
   "execution_count": 36,
   "metadata": {},
   "outputs": [],
   "source": [
    "events.drop_duplicates('ref_hash', inplace= True)"
   ]
  },
  {
   "cell_type": "code",
   "execution_count": 45,
   "metadata": {
    "collapsed": true
   },
   "outputs": [
    {
     "name": "stderr",
     "output_type": "stream",
     "text": [
      "/home/fede/anaconda3/lib/python3.7/site-packages/ipykernel_launcher.py:2: SettingWithCopyWarning: \n",
      "A value is trying to be set on a copy of a slice from a DataFrame.\n",
      "Try using .loc[row_indexer,col_indexer] = value instead\n",
      "\n",
      "See the caveats in the documentation: http://pandas.pydata.org/pandas-docs/stable/indexing.html#indexing-view-versus-copy\n",
      "  \n",
      "/home/fede/anaconda3/lib/python3.7/site-packages/ipykernel_launcher.py:3: SettingWithCopyWarning: \n",
      "A value is trying to be set on a copy of a slice from a DataFrame.\n",
      "Try using .loc[row_indexer,col_indexer] = value instead\n",
      "\n",
      "See the caveats in the documentation: http://pandas.pydata.org/pandas-docs/stable/indexing.html#indexing-view-versus-copy\n",
      "  This is separate from the ipykernel package so we can avoid doing imports until\n",
      "/home/fede/anaconda3/lib/python3.7/site-packages/ipykernel_launcher.py:4: SettingWithCopyWarning: \n",
      "A value is trying to be set on a copy of a slice from a DataFrame.\n",
      "Try using .loc[row_indexer,col_indexer] = value instead\n",
      "\n",
      "See the caveats in the documentation: http://pandas.pydata.org/pandas-docs/stable/indexing.html#indexing-view-versus-copy\n",
      "  after removing the cwd from sys.path.\n",
      "/home/fede/anaconda3/lib/python3.7/site-packages/ipykernel_launcher.py:5: SettingWithCopyWarning: \n",
      "A value is trying to be set on a copy of a slice from a DataFrame.\n",
      "Try using .loc[row_indexer,col_indexer] = value instead\n",
      "\n",
      "See the caveats in the documentation: http://pandas.pydata.org/pandas-docs/stable/indexing.html#indexing-view-versus-copy\n",
      "  \"\"\"\n",
      "/home/fede/anaconda3/lib/python3.7/site-packages/ipykernel_launcher.py:6: SettingWithCopyWarning: \n",
      "A value is trying to be set on a copy of a slice from a DataFrame.\n",
      "Try using .loc[row_indexer,col_indexer] = value instead\n",
      "\n",
      "See the caveats in the documentation: http://pandas.pydata.org/pandas-docs/stable/indexing.html#indexing-view-versus-copy\n",
      "  \n",
      "/home/fede/anaconda3/lib/python3.7/site-packages/ipykernel_launcher.py:7: SettingWithCopyWarning: \n",
      "A value is trying to be set on a copy of a slice from a DataFrame.\n",
      "Try using .loc[row_indexer,col_indexer] = value instead\n",
      "\n",
      "See the caveats in the documentation: http://pandas.pydata.org/pandas-docs/stable/indexing.html#indexing-view-versus-copy\n",
      "  import sys\n",
      "/home/fede/anaconda3/lib/python3.7/site-packages/ipykernel_launcher.py:8: SettingWithCopyWarning: \n",
      "A value is trying to be set on a copy of a slice from a DataFrame.\n",
      "Try using .loc[row_indexer,col_indexer] = value instead\n",
      "\n",
      "See the caveats in the documentation: http://pandas.pydata.org/pandas-docs/stable/indexing.html#indexing-view-versus-copy\n",
      "  \n",
      "/home/fede/anaconda3/lib/python3.7/site-packages/ipykernel_launcher.py:9: SettingWithCopyWarning: \n",
      "A value is trying to be set on a copy of a slice from a DataFrame.\n",
      "Try using .loc[row_indexer,col_indexer] = value instead\n",
      "\n",
      "See the caveats in the documentation: http://pandas.pydata.org/pandas-docs/stable/indexing.html#indexing-view-versus-copy\n",
      "  if __name__ == '__main__':\n",
      "/home/fede/anaconda3/lib/python3.7/site-packages/ipykernel_launcher.py:10: SettingWithCopyWarning: \n",
      "A value is trying to be set on a copy of a slice from a DataFrame.\n",
      "Try using .loc[row_indexer,col_indexer] = value instead\n",
      "\n",
      "See the caveats in the documentation: http://pandas.pydata.org/pandas-docs/stable/indexing.html#indexing-view-versus-copy\n",
      "  # Remove the CWD from sys.path while we load stuff.\n"
     ]
    }
   ],
   "source": [
    "nulls = targets_sc_with_installs[targets_sc_with_installs['created'].isnull()]\n",
    "nulls['ref_type'] = nulls['ref_hash'].map(events.set_index('ref_hash')['ref_type'])\n",
    "nulls['model'] = nulls['ref_hash'].map(events.set_index('ref_hash')['device_model'])\n",
    "nulls['most_freq_lang'] = nulls['ref_hash'].map(events.set_index('ref_hash')['device_language'])\n",
    "nulls['most_freq_app'] = nulls['ref_hash'].map(events.set_index('ref_hash')['application_id'])\n",
    "nulls['ip'] = nulls['ref_hash'].map(events.set_index('ref_hash')['ip_address'])\n",
    "nulls['events_%wifi'] = nulls['ref_hash'].map(eventos.set_index('ref_hash')['wifi'])\n",
    "nulls['event_apps'] = nulls['ref_hash'].map(eventos.set_index('ref_hash')['application_id'])\n",
    "nulls['distinct_events'] = nulls['ref_hash'].map(eventos.set_index('ref_hash')['kind'])\n",
    "nulls['total_events'] = nulls['ref_hash'].map(eventos.set_index('ref_hash')['event_id'])"
   ]
  },
  {
   "cell_type": "code",
   "execution_count": 48,
   "metadata": {
    "scrolled": true
   },
   "outputs": [
    {
     "data": {
      "text/html": [
       "<div>\n",
       "<style scoped>\n",
       "    .dataframe tbody tr th:only-of-type {\n",
       "        vertical-align: middle;\n",
       "    }\n",
       "\n",
       "    .dataframe tbody tr th {\n",
       "        vertical-align: top;\n",
       "    }\n",
       "\n",
       "    .dataframe thead th {\n",
       "        text-align: right;\n",
       "    }\n",
       "</style>\n",
       "<table border=\"1\" class=\"dataframe\">\n",
       "  <thead>\n",
       "    <tr style=\"text-align: right;\">\n",
       "      <th></th>\n",
       "      <th>ref_hash</th>\n",
       "      <th>obj</th>\n",
       "      <th>created</th>\n",
       "      <th>ref_type</th>\n",
       "      <th>total_apps</th>\n",
       "      <th>%implicit</th>\n",
       "      <th>%attributed</th>\n",
       "      <th>most_freq_lang</th>\n",
       "      <th>most_freq_app</th>\n",
       "      <th>model</th>\n",
       "      <th>ip</th>\n",
       "      <th>events_%wifi</th>\n",
       "      <th>event_apps</th>\n",
       "      <th>distinct_events</th>\n",
       "      <th>total_events</th>\n",
       "    </tr>\n",
       "  </thead>\n",
       "  <tbody>\n",
       "    <tr>\n",
       "      <th>0</th>\n",
       "      <td>1.000169e+18</td>\n",
       "      <td>0.0</td>\n",
       "      <td>2019-04-21 08:14:06.178</td>\n",
       "      <td>1.891515e+18</td>\n",
       "      <td>1.0</td>\n",
       "      <td>0.0</td>\n",
       "      <td>0.0</td>\n",
       "      <td>3.30138e+18</td>\n",
       "      <td>122.0</td>\n",
       "      <td>1.805456e+18</td>\n",
       "      <td>5.483720e+18</td>\n",
       "      <td>0.000000</td>\n",
       "      <td>32.0</td>\n",
       "      <td>4.0</td>\n",
       "      <td>32.0</td>\n",
       "    </tr>\n",
       "    <tr>\n",
       "      <th>1</th>\n",
       "      <td>1.000396e+18</td>\n",
       "      <td>0.0</td>\n",
       "      <td>2019-04-20 05:59:26.866</td>\n",
       "      <td>1.891515e+18</td>\n",
       "      <td>2.0</td>\n",
       "      <td>0.5</td>\n",
       "      <td>0.0</td>\n",
       "      <td>6.97705e+18</td>\n",
       "      <td>121.0</td>\n",
       "      <td>8.058599e+17</td>\n",
       "      <td>6.126933e+18</td>\n",
       "      <td>1.000000</td>\n",
       "      <td>2.0</td>\n",
       "      <td>2.0</td>\n",
       "      <td>2.0</td>\n",
       "    </tr>\n",
       "    <tr>\n",
       "      <th>2</th>\n",
       "      <td>1.003027e+18</td>\n",
       "      <td>0.0</td>\n",
       "      <td>2019-04-23 20:37:24.299</td>\n",
       "      <td>1.891515e+18</td>\n",
       "      <td>2.0</td>\n",
       "      <td>0.5</td>\n",
       "      <td>0.0</td>\n",
       "      <td>3.30138e+18</td>\n",
       "      <td>14.0</td>\n",
       "      <td>8.590181e+18</td>\n",
       "      <td>2.036110e+18</td>\n",
       "      <td>0.833333</td>\n",
       "      <td>54.0</td>\n",
       "      <td>10.0</td>\n",
       "      <td>54.0</td>\n",
       "    </tr>\n",
       "    <tr>\n",
       "      <th>3</th>\n",
       "      <td>1.006670e+18</td>\n",
       "      <td>0.0</td>\n",
       "      <td>2019-04-21 01:20:43.968</td>\n",
       "      <td>1.494519e+18</td>\n",
       "      <td>2.0</td>\n",
       "      <td>0.5</td>\n",
       "      <td>0.0</td>\n",
       "      <td>8.44142e+18</td>\n",
       "      <td>68.0</td>\n",
       "      <td>6.794880e+18</td>\n",
       "      <td>2.799308e+18</td>\n",
       "      <td>0.333333</td>\n",
       "      <td>3.0</td>\n",
       "      <td>2.0</td>\n",
       "      <td>3.0</td>\n",
       "    </tr>\n",
       "    <tr>\n",
       "      <th>4</th>\n",
       "      <td>1.007573e+18</td>\n",
       "      <td>0.0</td>\n",
       "      <td>2019-04-18 07:32:44.992</td>\n",
       "      <td>1.891515e+18</td>\n",
       "      <td>1.0</td>\n",
       "      <td>0.0</td>\n",
       "      <td>0.0</td>\n",
       "      <td>3.30138e+18</td>\n",
       "      <td>94.0</td>\n",
       "      <td>1.327864e+18</td>\n",
       "      <td>8.238829e+18</td>\n",
       "      <td>0.000000</td>\n",
       "      <td>6.0</td>\n",
       "      <td>1.0</td>\n",
       "      <td>6.0</td>\n",
       "    </tr>\n",
       "  </tbody>\n",
       "</table>\n",
       "</div>"
      ],
      "text/plain": [
       "       ref_hash  obj                 created      ref_type  total_apps  \\\n",
       "0  1.000169e+18  0.0 2019-04-21 08:14:06.178  1.891515e+18         1.0   \n",
       "1  1.000396e+18  0.0 2019-04-20 05:59:26.866  1.891515e+18         2.0   \n",
       "2  1.003027e+18  0.0 2019-04-23 20:37:24.299  1.891515e+18         2.0   \n",
       "3  1.006670e+18  0.0 2019-04-21 01:20:43.968  1.494519e+18         2.0   \n",
       "4  1.007573e+18  0.0 2019-04-18 07:32:44.992  1.891515e+18         1.0   \n",
       "\n",
       "   %implicit  %attributed most_freq_lang  most_freq_app         model  \\\n",
       "0        0.0          0.0    3.30138e+18          122.0  1.805456e+18   \n",
       "1        0.5          0.0    6.97705e+18          121.0  8.058599e+17   \n",
       "2        0.5          0.0    3.30138e+18           14.0  8.590181e+18   \n",
       "3        0.5          0.0    8.44142e+18           68.0  6.794880e+18   \n",
       "4        0.0          0.0    3.30138e+18           94.0  1.327864e+18   \n",
       "\n",
       "             ip  events_%wifi  event_apps  distinct_events  total_events  \n",
       "0  5.483720e+18      0.000000        32.0              4.0          32.0  \n",
       "1  6.126933e+18      1.000000         2.0              2.0           2.0  \n",
       "2  2.036110e+18      0.833333        54.0             10.0          54.0  \n",
       "3  2.799308e+18      0.333333         3.0              2.0           3.0  \n",
       "4  8.238829e+18      0.000000         6.0              1.0           6.0  "
      ]
     },
     "execution_count": 48,
     "metadata": {},
     "output_type": "execute_result"
    }
   ],
   "source": [
    "targets_sc_with_installs.update(nulls)\n",
    "targets_sc_with_installs.head()"
   ]
  },
  {
   "cell_type": "code",
   "execution_count": 116,
   "metadata": {
    "scrolled": true
   },
   "outputs": [],
   "source": [
    "targets_sc_with_installs.fillna({'total_apps' : 0, 'ref_type' : 0, '%attributed' : 0, '%implicit': 0, 'model' : 0,\n",
    "                                 'most_freq_lang' : 0, 'ip' : 0, 'events_%wifi' : 0, 'event_apps' : 0, \n",
    "                                 'distinct_events' : 0, 'total_events' : 0, 'most_freq_app' : 0}, inplace = True)"
   ]
  },
  {
   "cell_type": "code",
   "execution_count": 50,
   "metadata": {},
   "outputs": [],
   "source": [
    "del targets_sc_with_installs['created']\n",
    "del targets_sc_with_installs['obj']"
   ]
  },
  {
   "cell_type": "code",
   "execution_count": 142,
   "metadata": {},
   "outputs": [],
   "source": [
    "targets_sc_with_installs['most_freq_lang'] = targets_sc_with_installs['most_freq_lang'].astype('float64')\n",
    "X = targets_sc_with_installs[['ref_type', 'ref_hash', 'total_apps', '%implicit', '%attributed', 'most_freq_lang', \n",
    "                             'most_freq_app', 'model', 'ip', 'events_%wifi', 'event_apps', 'distinct_events', \n",
    "                             'total_events']]\n",
    "predictions_sc_xgb = xg_reg.predict(X)"
   ]
  },
  {
   "cell_type": "code",
   "execution_count": 63,
   "metadata": {},
   "outputs": [
    {
     "name": "stderr",
     "output_type": "stream",
     "text": [
      "/home/fede/anaconda3/lib/python3.7/site-packages/ipykernel_launcher.py:3: SettingWithCopyWarning: \n",
      "A value is trying to be set on a copy of a slice from a DataFrame.\n",
      "Try using .loc[row_indexer,col_indexer] = value instead\n",
      "\n",
      "See the caveats in the documentation: http://pandas.pydata.org/pandas-docs/stable/indexing.html#indexing-view-versus-copy\n",
      "  This is separate from the ipykernel package so we can avoid doing imports until\n"
     ]
    },
    {
     "data": {
      "text/html": [
       "<div>\n",
       "<style scoped>\n",
       "    .dataframe tbody tr th:only-of-type {\n",
       "        vertical-align: middle;\n",
       "    }\n",
       "\n",
       "    .dataframe tbody tr th {\n",
       "        vertical-align: top;\n",
       "    }\n",
       "\n",
       "    .dataframe thead th {\n",
       "        text-align: right;\n",
       "    }\n",
       "</style>\n",
       "<table border=\"1\" class=\"dataframe\">\n",
       "  <thead>\n",
       "    <tr style=\"text-align: right;\">\n",
       "      <th></th>\n",
       "      <th>ref_hash</th>\n",
       "      <th>obj</th>\n",
       "    </tr>\n",
       "  </thead>\n",
       "  <tbody>\n",
       "    <tr>\n",
       "      <th>0</th>\n",
       "      <td>1000169251625791246_sc</td>\n",
       "      <td>80867.218750</td>\n",
       "    </tr>\n",
       "    <tr>\n",
       "      <th>1</th>\n",
       "      <td>1000169251625791246_st</td>\n",
       "      <td>79631.730000</td>\n",
       "    </tr>\n",
       "    <tr>\n",
       "      <th>2</th>\n",
       "      <td>1000395625957344683_sc</td>\n",
       "      <td>85391.179688</td>\n",
       "    </tr>\n",
       "    <tr>\n",
       "      <th>3</th>\n",
       "      <td>1000395625957344683_st</td>\n",
       "      <td>79679.830000</td>\n",
       "    </tr>\n",
       "    <tr>\n",
       "      <th>4</th>\n",
       "      <td>1003027494996471685_sc</td>\n",
       "      <td>81212.171875</td>\n",
       "    </tr>\n",
       "    <tr>\n",
       "      <th>5</th>\n",
       "      <td>1003027494996471685_st</td>\n",
       "      <td>82655.695000</td>\n",
       "    </tr>\n",
       "    <tr>\n",
       "      <th>6</th>\n",
       "      <td>1006670001679961544_sc</td>\n",
       "      <td>83880.101562</td>\n",
       "    </tr>\n",
       "    <tr>\n",
       "      <th>7</th>\n",
       "      <td>1006670001679961544_st</td>\n",
       "      <td>79636.414000</td>\n",
       "    </tr>\n",
       "    <tr>\n",
       "      <th>8</th>\n",
       "      <td>1007573308966476713_sc</td>\n",
       "      <td>82855.875000</td>\n",
       "    </tr>\n",
       "    <tr>\n",
       "      <th>9</th>\n",
       "      <td>1007573308966476713_st</td>\n",
       "      <td>79631.730000</td>\n",
       "    </tr>\n",
       "    <tr>\n",
       "      <th>10</th>\n",
       "      <td>1010070503877148763_sc</td>\n",
       "      <td>84689.500000</td>\n",
       "    </tr>\n",
       "    <tr>\n",
       "      <th>11</th>\n",
       "      <td>1010070503877148763_st</td>\n",
       "      <td>82655.695000</td>\n",
       "    </tr>\n",
       "    <tr>\n",
       "      <th>12</th>\n",
       "      <td>1010265377387765028_sc</td>\n",
       "      <td>84180.882812</td>\n",
       "    </tr>\n",
       "    <tr>\n",
       "      <th>13</th>\n",
       "      <td>1010265377387765028_st</td>\n",
       "      <td>82726.280000</td>\n",
       "    </tr>\n",
       "    <tr>\n",
       "      <th>14</th>\n",
       "      <td>1010531372912327058_sc</td>\n",
       "      <td>84076.828125</td>\n",
       "    </tr>\n",
       "    <tr>\n",
       "      <th>15</th>\n",
       "      <td>1010531372912327058_st</td>\n",
       "      <td>82651.010000</td>\n",
       "    </tr>\n",
       "    <tr>\n",
       "      <th>16</th>\n",
       "      <td>1011610998357271358_sc</td>\n",
       "      <td>85077.203125</td>\n",
       "    </tr>\n",
       "    <tr>\n",
       "      <th>17</th>\n",
       "      <td>1011610998357271358_st</td>\n",
       "      <td>82651.010000</td>\n",
       "    </tr>\n",
       "    <tr>\n",
       "      <th>18</th>\n",
       "      <td>1013543838965040946_sc</td>\n",
       "      <td>85505.375000</td>\n",
       "    </tr>\n",
       "    <tr>\n",
       "      <th>19</th>\n",
       "      <td>1013543838965040946_st</td>\n",
       "      <td>79631.730000</td>\n",
       "    </tr>\n",
       "    <tr>\n",
       "      <th>20</th>\n",
       "      <td>1014428234021750342_sc</td>\n",
       "      <td>85387.203125</td>\n",
       "    </tr>\n",
       "    <tr>\n",
       "      <th>21</th>\n",
       "      <td>1014428234021750342_st</td>\n",
       "      <td>79631.730000</td>\n",
       "    </tr>\n",
       "    <tr>\n",
       "      <th>22</th>\n",
       "      <td>101763096421653092_sc</td>\n",
       "      <td>83155.062500</td>\n",
       "    </tr>\n",
       "    <tr>\n",
       "      <th>23</th>\n",
       "      <td>101763096421653092_st</td>\n",
       "      <td>79658.240000</td>\n",
       "    </tr>\n",
       "    <tr>\n",
       "      <th>24</th>\n",
       "      <td>1017668882534236751_sc</td>\n",
       "      <td>85836.281250</td>\n",
       "    </tr>\n",
       "    <tr>\n",
       "      <th>25</th>\n",
       "      <td>1017668882534236751_st</td>\n",
       "      <td>82652.920000</td>\n",
       "    </tr>\n",
       "    <tr>\n",
       "      <th>26</th>\n",
       "      <td>1017958004932387739_sc</td>\n",
       "      <td>82651.437500</td>\n",
       "    </tr>\n",
       "    <tr>\n",
       "      <th>27</th>\n",
       "      <td>1017958004932387739_st</td>\n",
       "      <td>82655.695000</td>\n",
       "    </tr>\n",
       "    <tr>\n",
       "      <th>28</th>\n",
       "      <td>1018126962792619181_sc</td>\n",
       "      <td>88076.281250</td>\n",
       "    </tr>\n",
       "    <tr>\n",
       "      <th>29</th>\n",
       "      <td>1018126962792619181_st</td>\n",
       "      <td>82651.010000</td>\n",
       "    </tr>\n",
       "    <tr>\n",
       "      <th>...</th>\n",
       "      <td>...</td>\n",
       "      <td>...</td>\n",
       "    </tr>\n",
       "    <tr>\n",
       "      <th>8044</th>\n",
       "      <td>950195972417607793_sc</td>\n",
       "      <td>86468.351562</td>\n",
       "    </tr>\n",
       "    <tr>\n",
       "      <th>8045</th>\n",
       "      <td>950195972417607793_st</td>\n",
       "      <td>79631.730000</td>\n",
       "    </tr>\n",
       "    <tr>\n",
       "      <th>8046</th>\n",
       "      <td>954110623376544206_sc</td>\n",
       "      <td>86056.078125</td>\n",
       "    </tr>\n",
       "    <tr>\n",
       "      <th>8047</th>\n",
       "      <td>954110623376544206_st</td>\n",
       "      <td>79649.770000</td>\n",
       "    </tr>\n",
       "    <tr>\n",
       "      <th>8048</th>\n",
       "      <td>954940018576714924_sc</td>\n",
       "      <td>82271.578125</td>\n",
       "    </tr>\n",
       "    <tr>\n",
       "      <th>8049</th>\n",
       "      <td>954940018576714924_st</td>\n",
       "      <td>79631.730000</td>\n",
       "    </tr>\n",
       "    <tr>\n",
       "      <th>8050</th>\n",
       "      <td>956704247780926402_sc</td>\n",
       "      <td>82630.062500</td>\n",
       "    </tr>\n",
       "    <tr>\n",
       "      <th>8051</th>\n",
       "      <td>956704247780926402_st</td>\n",
       "      <td>82669.055000</td>\n",
       "    </tr>\n",
       "    <tr>\n",
       "      <th>8052</th>\n",
       "      <td>960623204161846765_sc</td>\n",
       "      <td>85391.179688</td>\n",
       "    </tr>\n",
       "    <tr>\n",
       "      <th>8053</th>\n",
       "      <td>960623204161846765_st</td>\n",
       "      <td>79631.730000</td>\n",
       "    </tr>\n",
       "    <tr>\n",
       "      <th>8054</th>\n",
       "      <td>961631829441650729_sc</td>\n",
       "      <td>82096.109375</td>\n",
       "    </tr>\n",
       "    <tr>\n",
       "      <th>8055</th>\n",
       "      <td>961631829441650729_st</td>\n",
       "      <td>79633.640000</td>\n",
       "    </tr>\n",
       "    <tr>\n",
       "      <th>8056</th>\n",
       "      <td>962595921037755088_sc</td>\n",
       "      <td>82629.468750</td>\n",
       "    </tr>\n",
       "    <tr>\n",
       "      <th>8057</th>\n",
       "      <td>962595921037755088_st</td>\n",
       "      <td>79631.730000</td>\n",
       "    </tr>\n",
       "    <tr>\n",
       "      <th>8058</th>\n",
       "      <td>964658792449865522_sc</td>\n",
       "      <td>84180.882812</td>\n",
       "    </tr>\n",
       "    <tr>\n",
       "      <th>8059</th>\n",
       "      <td>964658792449865522_st</td>\n",
       "      <td>82651.010000</td>\n",
       "    </tr>\n",
       "    <tr>\n",
       "      <th>8060</th>\n",
       "      <td>974553511695777483_sc</td>\n",
       "      <td>83163.656250</td>\n",
       "    </tr>\n",
       "    <tr>\n",
       "      <th>8061</th>\n",
       "      <td>974553511695777483_st</td>\n",
       "      <td>79631.730000</td>\n",
       "    </tr>\n",
       "    <tr>\n",
       "      <th>8062</th>\n",
       "      <td>97694307709005918_sc</td>\n",
       "      <td>81420.703125</td>\n",
       "    </tr>\n",
       "    <tr>\n",
       "      <th>8063</th>\n",
       "      <td>97694307709005918_st</td>\n",
       "      <td>79644.880000</td>\n",
       "    </tr>\n",
       "    <tr>\n",
       "      <th>8064</th>\n",
       "      <td>977508757724050464_sc</td>\n",
       "      <td>85137.078125</td>\n",
       "    </tr>\n",
       "    <tr>\n",
       "      <th>8065</th>\n",
       "      <td>977508757724050464_st</td>\n",
       "      <td>82652.920000</td>\n",
       "    </tr>\n",
       "    <tr>\n",
       "      <th>8066</th>\n",
       "      <td>979880031097032355_sc</td>\n",
       "      <td>84774.203125</td>\n",
       "    </tr>\n",
       "    <tr>\n",
       "      <th>8067</th>\n",
       "      <td>979880031097032355_st</td>\n",
       "      <td>82699.110000</td>\n",
       "    </tr>\n",
       "    <tr>\n",
       "      <th>8068</th>\n",
       "      <td>987443249627191692_sc</td>\n",
       "      <td>82932.609375</td>\n",
       "    </tr>\n",
       "    <tr>\n",
       "      <th>8069</th>\n",
       "      <td>987443249627191692_st</td>\n",
       "      <td>82669.055000</td>\n",
       "    </tr>\n",
       "    <tr>\n",
       "      <th>8070</th>\n",
       "      <td>997953354533822687_sc</td>\n",
       "      <td>85449.281250</td>\n",
       "    </tr>\n",
       "    <tr>\n",
       "      <th>8071</th>\n",
       "      <td>997953354533822687_st</td>\n",
       "      <td>82655.695000</td>\n",
       "    </tr>\n",
       "    <tr>\n",
       "      <th>8072</th>\n",
       "      <td>998948062397755366_sc</td>\n",
       "      <td>81917.875000</td>\n",
       "    </tr>\n",
       "    <tr>\n",
       "      <th>8073</th>\n",
       "      <td>998948062397755366_st</td>\n",
       "      <td>79631.730000</td>\n",
       "    </tr>\n",
       "  </tbody>\n",
       "</table>\n",
       "<p>8074 rows × 2 columns</p>\n",
       "</div>"
      ],
      "text/plain": [
       "                    ref_hash           obj\n",
       "0     1000169251625791246_sc  80867.218750\n",
       "1     1000169251625791246_st  79631.730000\n",
       "2     1000395625957344683_sc  85391.179688\n",
       "3     1000395625957344683_st  79679.830000\n",
       "4     1003027494996471685_sc  81212.171875\n",
       "5     1003027494996471685_st  82655.695000\n",
       "6     1006670001679961544_sc  83880.101562\n",
       "7     1006670001679961544_st  79636.414000\n",
       "8     1007573308966476713_sc  82855.875000\n",
       "9     1007573308966476713_st  79631.730000\n",
       "10    1010070503877148763_sc  84689.500000\n",
       "11    1010070503877148763_st  82655.695000\n",
       "12    1010265377387765028_sc  84180.882812\n",
       "13    1010265377387765028_st  82726.280000\n",
       "14    1010531372912327058_sc  84076.828125\n",
       "15    1010531372912327058_st  82651.010000\n",
       "16    1011610998357271358_sc  85077.203125\n",
       "17    1011610998357271358_st  82651.010000\n",
       "18    1013543838965040946_sc  85505.375000\n",
       "19    1013543838965040946_st  79631.730000\n",
       "20    1014428234021750342_sc  85387.203125\n",
       "21    1014428234021750342_st  79631.730000\n",
       "22     101763096421653092_sc  83155.062500\n",
       "23     101763096421653092_st  79658.240000\n",
       "24    1017668882534236751_sc  85836.281250\n",
       "25    1017668882534236751_st  82652.920000\n",
       "26    1017958004932387739_sc  82651.437500\n",
       "27    1017958004932387739_st  82655.695000\n",
       "28    1018126962792619181_sc  88076.281250\n",
       "29    1018126962792619181_st  82651.010000\n",
       "...                      ...           ...\n",
       "8044   950195972417607793_sc  86468.351562\n",
       "8045   950195972417607793_st  79631.730000\n",
       "8046   954110623376544206_sc  86056.078125\n",
       "8047   954110623376544206_st  79649.770000\n",
       "8048   954940018576714924_sc  82271.578125\n",
       "8049   954940018576714924_st  79631.730000\n",
       "8050   956704247780926402_sc  82630.062500\n",
       "8051   956704247780926402_st  82669.055000\n",
       "8052   960623204161846765_sc  85391.179688\n",
       "8053   960623204161846765_st  79631.730000\n",
       "8054   961631829441650729_sc  82096.109375\n",
       "8055   961631829441650729_st  79633.640000\n",
       "8056   962595921037755088_sc  82629.468750\n",
       "8057   962595921037755088_st  79631.730000\n",
       "8058   964658792449865522_sc  84180.882812\n",
       "8059   964658792449865522_st  82651.010000\n",
       "8060   974553511695777483_sc  83163.656250\n",
       "8061   974553511695777483_st  79631.730000\n",
       "8062    97694307709005918_sc  81420.703125\n",
       "8063    97694307709005918_st  79644.880000\n",
       "8064   977508757724050464_sc  85137.078125\n",
       "8065   977508757724050464_st  82652.920000\n",
       "8066   979880031097032355_sc  84774.203125\n",
       "8067   979880031097032355_st  82699.110000\n",
       "8068   987443249627191692_sc  82932.609375\n",
       "8069   987443249627191692_st  82669.055000\n",
       "8070   997953354533822687_sc  85449.281250\n",
       "8071   997953354533822687_st  82655.695000\n",
       "8072   998948062397755366_sc  81917.875000\n",
       "8073   998948062397755366_st  79631.730000\n",
       "\n",
       "[8074 rows x 2 columns]"
      ]
     },
     "execution_count": 63,
     "metadata": {},
     "output_type": "execute_result"
    }
   ],
   "source": [
    "sc_pred = pd.read_csv('../datos/PrediccionesKNN-RF-XGBoost.txt', header = None)\n",
    "sc_pred.index = np.arange(1, 8074, 2)\n",
    "targets_st['obj'] = sc_pred[0]\n",
    "target.update(targets_st)\n",
    "target"
   ]
  },
  {
   "cell_type": "code",
   "execution_count": 64,
   "metadata": {},
   "outputs": [],
   "source": [
    "target.to_csv('../datos/preds-xgboost-rf-knn-nuevos-features.csv', index = False)"
   ]
  },
  {
   "cell_type": "markdown",
   "metadata": {},
   "source": [
    "### Bagging"
   ]
  },
  {
   "cell_type": "code",
   "execution_count": 85,
   "metadata": {},
   "outputs": [],
   "source": [
    "from sklearn.ensemble import BaggingRegressor\n",
    "from sklearn.neighbors import KNeighborsRegressor\n",
    "from sklearn.tree import DecisionTreeRegressor\n",
    "from sklearn.ensemble import AdaBoostRegressor"
   ]
  },
  {
   "cell_type": "code",
   "execution_count": 141,
   "metadata": {},
   "outputs": [
    {
     "name": "stdout",
     "output_type": "stream",
     "text": [
      "RMSE: 67372.750068\n"
     ]
    }
   ],
   "source": [
    "X, y = installs1.iloc[:,:-1], installs1.iloc[:,-1]\n",
    "bagging = BaggingRegressor(KNeighborsRegressor(), max_samples=0.5, max_features=0.5)\n",
    "bagging.fit(X, y)\n",
    "preds = bagging.predict(installsCheck1.iloc[:,:-1])\n",
    "rmse = np.sqrt(mean_squared_error(installsCheck1.iloc[:,-1], preds))\n",
    "print(\"RMSE: %f\" % (rmse))"
   ]
  },
  {
   "cell_type": "code",
   "execution_count": 143,
   "metadata": {},
   "outputs": [
    {
     "name": "stdout",
     "output_type": "stream",
     "text": [
      "RMSE: 69828.794754\n"
     ]
    }
   ],
   "source": [
    "X, y = installs2.iloc[:,:-1], installs2.iloc[:,-1]\n",
    "bagging = BaggingRegressor(KNeighborsRegressor(), max_samples=0.5, max_features=0.5)\n",
    "bagging.fit(X, y)\n",
    "preds = bagging.predict(installsCheck2.iloc[:,:-1])\n",
    "rmse = np.sqrt(mean_squared_error(installsCheck2.iloc[:,-1], preds))\n",
    "print(\"RMSE: %f\" % (rmse))"
   ]
  },
  {
   "cell_type": "code",
   "execution_count": 144,
   "metadata": {},
   "outputs": [
    {
     "name": "stdout",
     "output_type": "stream",
     "text": [
      "RMSE: 70859.827872\n"
     ]
    }
   ],
   "source": [
    "X, y = installs3.iloc[:,:-1], installs3.iloc[:,-1]\n",
    "bagging = BaggingRegressor(KNeighborsRegressor(), max_samples=0.5, max_features=0.5)\n",
    "bagging.fit(X, y)\n",
    "preds = bagging.predict(installsCheck3.iloc[:,:-1])\n",
    "rmse = np.sqrt(mean_squared_error(installsCheck3.iloc[:,-1], preds))\n",
    "print(\"RMSE: %f\" % (rmse))"
   ]
  },
  {
   "cell_type": "code",
   "execution_count": 145,
   "metadata": {},
   "outputs": [
    {
     "name": "stdout",
     "output_type": "stream",
     "text": [
      "RMSE: 68939.568416\n"
     ]
    }
   ],
   "source": [
    "X, y = installs4.iloc[:,:-1], installs4.iloc[:,-1]\n",
    "bagging = BaggingRegressor(KNeighborsRegressor(), max_samples=0.5, max_features=0.5)\n",
    "bagging.fit(X, y)\n",
    "preds = bagging.predict(installsCheck4.iloc[:,:-1])\n",
    "rmse = np.sqrt(mean_squared_error(installsCheck4.iloc[:,-1], preds))\n",
    "print(\"RMSE: %f\" % (rmse))"
   ]
  },
  {
   "cell_type": "code",
   "execution_count": 147,
   "metadata": {},
   "outputs": [
    {
     "name": "stdout",
     "output_type": "stream",
     "text": [
      "RMSE: 66511.270489\n"
     ]
    }
   ],
   "source": [
    "X, y = installs5.iloc[:,:-1], installs5.iloc[:,-1]\n",
    "bagging = BaggingRegressor(KNeighborsRegressor(), max_samples=0.5, max_features=0.5)\n",
    "bagging.fit(X, y)\n",
    "preds = bagging.predict(installsCheck5.iloc[:,:-1])\n",
    "rmse = np.sqrt(mean_squared_error(installsCheck5.iloc[:,-1], preds))\n",
    "print(\"RMSE: %f\" % (rmse))"
   ]
  },
  {
   "cell_type": "code",
   "execution_count": 148,
   "metadata": {},
   "outputs": [],
   "source": [
    "X = targets_sc_with_installs[['ref_type', 'ref_hash', 'total_apps', '%implicit', '%attributed', 'most_freq_lang', \n",
    "                             'most_freq_app', 'model', 'ip', 'events_%wifi', 'event_apps', 'distinct_events', \n",
    "                             'total_events']]\n",
    "predictions_sc_bagging = bagging.predict(X)"
   ]
  },
  {
   "cell_type": "code",
   "execution_count": null,
   "metadata": {},
   "outputs": [],
   "source": []
  },
  {
   "cell_type": "markdown",
   "metadata": {},
   "source": [
    "### AdaBoost"
   ]
  },
  {
   "cell_type": "code",
   "execution_count": 149,
   "metadata": {},
   "outputs": [
    {
     "name": "stdout",
     "output_type": "stream",
     "text": [
      "RMSE: 66205.001008\n"
     ]
    }
   ],
   "source": [
    "X, y = installs1.iloc[:,:-1], installs1.iloc[:,-1]\n",
    "regr = AdaBoostRegressor(random_state=0, n_estimators=50, learning_rate=0.1)\n",
    "regr.fit(X, y) \n",
    "preds = regr.predict(installsCheck1.iloc[:,:-1])\n",
    "rmse = np.sqrt(mean_squared_error(installsCheck1.iloc[:,-1], preds))\n",
    "print(\"RMSE: %f\" % (rmse))"
   ]
  },
  {
   "cell_type": "code",
   "execution_count": 150,
   "metadata": {},
   "outputs": [
    {
     "name": "stdout",
     "output_type": "stream",
     "text": [
      "RMSE: 67957.789315\n"
     ]
    }
   ],
   "source": [
    "X, y = installs2.iloc[:,:-1], installs2.iloc[:,-1]\n",
    "regr.fit(X, y) \n",
    "preds = regr.predict(installsCheck2.iloc[:,:-1])\n",
    "rmse = np.sqrt(mean_squared_error(installsCheck2.iloc[:,-1], preds))\n",
    "print(\"RMSE: %f\" % (rmse))"
   ]
  },
  {
   "cell_type": "code",
   "execution_count": 151,
   "metadata": {},
   "outputs": [
    {
     "name": "stdout",
     "output_type": "stream",
     "text": [
      "RMSE: 68742.307108\n"
     ]
    }
   ],
   "source": [
    "X, y = installs3.iloc[:,:-1], installs3.iloc[:,-1]\n",
    "regr.fit(X, y) \n",
    "preds = regr.predict(installsCheck3.iloc[:,:-1])\n",
    "rmse = np.sqrt(mean_squared_error(installsCheck3.iloc[:,-1], preds))\n",
    "print(\"RMSE: %f\" % (rmse))"
   ]
  },
  {
   "cell_type": "code",
   "execution_count": 152,
   "metadata": {},
   "outputs": [
    {
     "name": "stdout",
     "output_type": "stream",
     "text": [
      "RMSE: 67266.935307\n"
     ]
    }
   ],
   "source": [
    "X, y = installs4.iloc[:,:-1], installs4.iloc[:,-1]\n",
    "regr.fit(X, y) \n",
    "preds = regr.predict(installsCheck4.iloc[:,:-1])\n",
    "rmse = np.sqrt(mean_squared_error(installsCheck4.iloc[:,-1], preds))\n",
    "print(\"RMSE: %f\" % (rmse))"
   ]
  },
  {
   "cell_type": "code",
   "execution_count": 153,
   "metadata": {},
   "outputs": [
    {
     "name": "stdout",
     "output_type": "stream",
     "text": [
      "RMSE: 64948.432210\n"
     ]
    }
   ],
   "source": [
    "X, y = installs5.iloc[:,:-1], installs5.iloc[:,-1]\n",
    "regr.fit(X, y) \n",
    "preds = regr.predict(installsCheck5.iloc[:,:-1])\n",
    "rmse = np.sqrt(mean_squared_error(installsCheck5.iloc[:,-1], preds))\n",
    "print(\"RMSE: %f\" % (rmse))"
   ]
  },
  {
   "cell_type": "code",
   "execution_count": 154,
   "metadata": {},
   "outputs": [],
   "source": [
    "targets_sc_with_installs['most_freq_lang'] = targets_sc_with_installs['most_freq_lang'].astype('float64')\n",
    "X = targets_sc_with_installs[['ref_type', 'ref_hash', 'total_apps', '%implicit', '%attributed', 'most_freq_lang', \n",
    "                             'most_freq_app', 'model', 'ip', 'events_%wifi', 'event_apps', 'distinct_events', \n",
    "                             'total_events']]\n",
    "predictions_sc_adaboost = regr.predict(X)"
   ]
  },
  {
   "cell_type": "markdown",
   "metadata": {},
   "source": [
    "### LGBM"
   ]
  },
  {
   "cell_type": "code",
   "execution_count": 120,
   "metadata": {},
   "outputs": [],
   "source": [
    "import lightgbm as lgb"
   ]
  },
  {
   "cell_type": "code",
   "execution_count": 123,
   "metadata": {},
   "outputs": [
    {
     "name": "stdout",
     "output_type": "stream",
     "text": [
      "[1]\tvalid_0's l2: 4.32643e+09\tvalid_0's l1: 55436.3\n",
      "Training until validation scores don't improve for 10 rounds.\n",
      "[2]\tvalid_0's l2: 4.32734e+09\tvalid_0's l1: 55438.4\n",
      "[3]\tvalid_0's l2: 4.32699e+09\tvalid_0's l1: 55433.8\n",
      "[4]\tvalid_0's l2: 4.32795e+09\tvalid_0's l1: 55435.3\n",
      "[5]\tvalid_0's l2: 4.3291e+09\tvalid_0's l1: 55437\n",
      "[6]\tvalid_0's l2: 4.33147e+09\tvalid_0's l1: 55446.4\n",
      "[7]\tvalid_0's l2: 4.33372e+09\tvalid_0's l1: 55453.3\n",
      "[8]\tvalid_0's l2: 4.33608e+09\tvalid_0's l1: 55462.3\n",
      "[9]\tvalid_0's l2: 4.33856e+09\tvalid_0's l1: 55473\n",
      "[10]\tvalid_0's l2: 4.34101e+09\tvalid_0's l1: 55483.8\n",
      "[11]\tvalid_0's l2: 4.3434e+09\tvalid_0's l1: 55492.2\n",
      "Early stopping, best iteration is:\n",
      "[1]\tvalid_0's l2: 4.32643e+09\tvalid_0's l1: 55436.3\n",
      "RMSE: 65775.576436\n"
     ]
    }
   ],
   "source": [
    "lgb_train = lgb.Dataset(installs1.iloc[:,:-1], installs1.iloc[:,-1])\n",
    "lgb_eval = lgb.Dataset(installsCheck1.iloc[:,:-1], installsCheck1.iloc[:,-1], reference=lgb_train)\n",
    "params = {\n",
    "    'boosting_type': 'gbdt',\n",
    "    'objective': 'regression',\n",
    "    'metric': {'l2', 'l1'},\n",
    "    'num_leaves': 31,\n",
    "    'learning_rate': 0.05,\n",
    "    'feature_fraction': 0.9,\n",
    "    'bagging_fraction': 0.8,\n",
    "    'bagging_freq': 5,\n",
    "    'verbose': 0\n",
    "}\n",
    "gbm = lgb.train(params, lgb_train, num_boost_round=20, valid_sets=lgb_eval, early_stopping_rounds=10)\n",
    "preds = gbm.predict(installsCheck1.iloc[:,:-1], num_iteration=gbm.best_iteration)\n",
    "rmse = np.sqrt(mean_squared_error(installsCheck1.iloc[:,-1], preds))\n",
    "print(\"RMSE: %f\" % (rmse))"
   ]
  },
  {
   "cell_type": "code",
   "execution_count": 127,
   "metadata": {},
   "outputs": [
    {
     "name": "stdout",
     "output_type": "stream",
     "text": [
      "[1]\tvalid_0's l2: 4.60391e+09\tvalid_0's l1: 56837.9\n",
      "Training until validation scores don't improve for 10 rounds.\n",
      "[2]\tvalid_0's l2: 4.60514e+09\tvalid_0's l1: 56843.4\n",
      "[3]\tvalid_0's l2: 4.60507e+09\tvalid_0's l1: 56841.2\n",
      "[4]\tvalid_0's l2: 4.60493e+09\tvalid_0's l1: 56835.3\n",
      "[5]\tvalid_0's l2: 4.60613e+09\tvalid_0's l1: 56838.4\n",
      "[6]\tvalid_0's l2: 4.60709e+09\tvalid_0's l1: 56841.7\n",
      "[7]\tvalid_0's l2: 4.60841e+09\tvalid_0's l1: 56847.4\n",
      "[8]\tvalid_0's l2: 4.6088e+09\tvalid_0's l1: 56846.6\n",
      "[9]\tvalid_0's l2: 4.61026e+09\tvalid_0's l1: 56852.1\n",
      "[10]\tvalid_0's l2: 4.61221e+09\tvalid_0's l1: 56860.1\n",
      "[11]\tvalid_0's l2: 4.61175e+09\tvalid_0's l1: 56855.8\n",
      "Early stopping, best iteration is:\n",
      "[1]\tvalid_0's l2: 4.60391e+09\tvalid_0's l1: 56837.9\n",
      "RMSE: 67852.095327\n"
     ]
    }
   ],
   "source": [
    "lgb_train = lgb.Dataset(installs2.iloc[:,:-1], installs2.iloc[:,-1])\n",
    "lgb_eval = lgb.Dataset(installsCheck2.iloc[:,:-1], installsCheck2.iloc[:,-1], reference=lgb_train)\n",
    "params = {\n",
    "    'boosting_type': 'gbdt',\n",
    "    'objective': 'regression',\n",
    "    'metric': {'l2', 'l1'},\n",
    "    'num_leaves': 31,\n",
    "    'learning_rate': 0.05,\n",
    "    'feature_fraction': 0.9,\n",
    "    'bagging_fraction': 0.8,\n",
    "    'bagging_freq': 5,\n",
    "    'verbose': 0\n",
    "}\n",
    "gbm = lgb.train(params, lgb_train, num_boost_round=20, valid_sets=lgb_eval, early_stopping_rounds=10)\n",
    "preds = gbm.predict(installsCheck2.iloc[:,:-1], num_iteration=gbm.best_iteration)\n",
    "rmse = np.sqrt(mean_squared_error(installsCheck2.iloc[:,-1], preds))\n",
    "print(\"RMSE: %f\" % (rmse))"
   ]
  },
  {
   "cell_type": "code",
   "execution_count": 128,
   "metadata": {},
   "outputs": [
    {
     "name": "stdout",
     "output_type": "stream",
     "text": [
      "[1]\tvalid_0's l2: 4.7152e+09\tvalid_0's l1: 57631.5\n",
      "Training until validation scores don't improve for 10 rounds.\n",
      "[2]\tvalid_0's l2: 4.71753e+09\tvalid_0's l1: 57639.1\n",
      "[3]\tvalid_0's l2: 4.71796e+09\tvalid_0's l1: 57639.4\n",
      "[4]\tvalid_0's l2: 4.71891e+09\tvalid_0's l1: 57639.1\n",
      "[5]\tvalid_0's l2: 4.72151e+09\tvalid_0's l1: 57647.1\n",
      "[6]\tvalid_0's l2: 4.72429e+09\tvalid_0's l1: 57656.3\n",
      "[7]\tvalid_0's l2: 4.72704e+09\tvalid_0's l1: 57665.1\n",
      "[8]\tvalid_0's l2: 4.72857e+09\tvalid_0's l1: 57667.8\n",
      "[9]\tvalid_0's l2: 4.73201e+09\tvalid_0's l1: 57680.3\n",
      "[10]\tvalid_0's l2: 4.7353e+09\tvalid_0's l1: 57691.3\n",
      "[11]\tvalid_0's l2: 4.73752e+09\tvalid_0's l1: 57698.8\n",
      "Early stopping, best iteration is:\n",
      "[1]\tvalid_0's l2: 4.7152e+09\tvalid_0's l1: 57631.5\n",
      "RMSE: 68667.326555\n"
     ]
    }
   ],
   "source": [
    "lgb_train = lgb.Dataset(installs3.iloc[:,:-1], installs3.iloc[:,-1])\n",
    "lgb_eval = lgb.Dataset(installsCheck3.iloc[:,:-1], installsCheck3.iloc[:,-1], reference=lgb_train)\n",
    "params = {\n",
    "    'boosting_type': 'gbdt',\n",
    "    'objective': 'regression',\n",
    "    'metric': {'l2', 'l1'},\n",
    "    'num_leaves': 31,\n",
    "    'learning_rate': 0.05,\n",
    "    'feature_fraction': 0.9,\n",
    "    'bagging_fraction': 0.8,\n",
    "    'bagging_freq': 5,\n",
    "    'verbose': 0\n",
    "}\n",
    "gbm = lgb.train(params, lgb_train, num_boost_round=20, valid_sets=lgb_eval, early_stopping_rounds=10)\n",
    "preds = gbm.predict(installsCheck3.iloc[:,:-1], num_iteration=gbm.best_iteration)\n",
    "rmse = np.sqrt(mean_squared_error(installsCheck3.iloc[:,-1], preds))\n",
    "print(\"RMSE: %f\" % (rmse))"
   ]
  },
  {
   "cell_type": "code",
   "execution_count": 129,
   "metadata": {},
   "outputs": [
    {
     "name": "stdout",
     "output_type": "stream",
     "text": [
      "[1]\tvalid_0's l2: 4.53583e+09\tvalid_0's l1: 56382.1\n",
      "Training until validation scores don't improve for 10 rounds.\n",
      "[2]\tvalid_0's l2: 4.53795e+09\tvalid_0's l1: 56390.9\n",
      "[3]\tvalid_0's l2: 4.53819e+09\tvalid_0's l1: 56393.7\n",
      "[4]\tvalid_0's l2: 4.53998e+09\tvalid_0's l1: 56402.9\n",
      "[5]\tvalid_0's l2: 4.54169e+09\tvalid_0's l1: 56410.6\n",
      "[6]\tvalid_0's l2: 4.54482e+09\tvalid_0's l1: 56427.7\n",
      "[7]\tvalid_0's l2: 4.54776e+09\tvalid_0's l1: 56443.3\n",
      "[8]\tvalid_0's l2: 4.55008e+09\tvalid_0's l1: 56455.5\n",
      "[9]\tvalid_0's l2: 4.55204e+09\tvalid_0's l1: 56462.7\n",
      "[10]\tvalid_0's l2: 4.55389e+09\tvalid_0's l1: 56472.5\n",
      "[11]\tvalid_0's l2: 4.55734e+09\tvalid_0's l1: 56487.6\n",
      "Early stopping, best iteration is:\n",
      "[1]\tvalid_0's l2: 4.53583e+09\tvalid_0's l1: 56382.1\n",
      "RMSE: 67348.581056\n"
     ]
    }
   ],
   "source": [
    "lgb_train = lgb.Dataset(installs4.iloc[:,:-1], installs4.iloc[:,-1])\n",
    "lgb_eval = lgb.Dataset(installsCheck4.iloc[:,:-1], installsCheck4.iloc[:,-1], reference=lgb_train)\n",
    "params = {\n",
    "    'boosting_type': 'gbdt',\n",
    "    'objective': 'regression',\n",
    "    'metric': {'l2', 'l1'},\n",
    "    'num_leaves': 31,\n",
    "    'learning_rate': 0.05,\n",
    "    'feature_fraction': 0.9,\n",
    "    'bagging_fraction': 0.8,\n",
    "    'bagging_freq': 5,\n",
    "    'verbose': 0\n",
    "}\n",
    "gbm = lgb.train(params, lgb_train, num_boost_round=20, valid_sets=lgb_eval, early_stopping_rounds=10)\n",
    "preds = gbm.predict(installsCheck4.iloc[:,:-1], num_iteration=gbm.best_iteration)\n",
    "rmse = np.sqrt(mean_squared_error(installsCheck4.iloc[:,-1], preds))\n",
    "print(\"RMSE: %f\" % (rmse))"
   ]
  },
  {
   "cell_type": "code",
   "execution_count": 130,
   "metadata": {},
   "outputs": [
    {
     "name": "stdout",
     "output_type": "stream",
     "text": [
      "[1]\tvalid_0's l2: 4.16867e+09\tvalid_0's l1: 54171.5\n",
      "Training until validation scores don't improve for 10 rounds.\n",
      "[2]\tvalid_0's l2: 4.17498e+09\tvalid_0's l1: 54199.4\n",
      "[3]\tvalid_0's l2: 4.17481e+09\tvalid_0's l1: 54193.9\n",
      "[4]\tvalid_0's l2: 4.18067e+09\tvalid_0's l1: 54221.2\n",
      "[5]\tvalid_0's l2: 4.18187e+09\tvalid_0's l1: 54219.4\n",
      "[6]\tvalid_0's l2: 4.18366e+09\tvalid_0's l1: 54221.2\n",
      "[7]\tvalid_0's l2: 4.18519e+09\tvalid_0's l1: 54221.1\n",
      "[8]\tvalid_0's l2: 4.18683e+09\tvalid_0's l1: 54221.9\n",
      "[9]\tvalid_0's l2: 4.1879e+09\tvalid_0's l1: 54219\n",
      "[10]\tvalid_0's l2: 4.19224e+09\tvalid_0's l1: 54237.4\n",
      "[11]\tvalid_0's l2: 4.1977e+09\tvalid_0's l1: 54259.8\n",
      "Early stopping, best iteration is:\n",
      "[1]\tvalid_0's l2: 4.16867e+09\tvalid_0's l1: 54171.5\n",
      "RMSE: 64565.240891\n"
     ]
    }
   ],
   "source": [
    "lgb_train = lgb.Dataset(installs5.iloc[:,:-1], installs5.iloc[:,-1])\n",
    "lgb_eval = lgb.Dataset(installsCheck5.iloc[:,:-1], installsCheck5.iloc[:,-1], reference=lgb_train)\n",
    "params = {\n",
    "    'boosting_type': 'gbdt',\n",
    "    'objective': 'regression',\n",
    "    'metric': {'l2', 'l1'},\n",
    "    'num_leaves': 31,\n",
    "    'learning_rate': 0.05,\n",
    "    'feature_fraction': 0.9,\n",
    "    'bagging_fraction': 0.8,\n",
    "    'bagging_freq': 5,\n",
    "    'verbose': 0\n",
    "}\n",
    "gbm = lgb.train(params, lgb_train, num_boost_round=20, valid_sets=lgb_eval, early_stopping_rounds=10)\n",
    "preds = gbm.predict(installsCheck5.iloc[:,:-1], num_iteration=gbm.best_iteration)\n",
    "rmse = np.sqrt(mean_squared_error(installsCheck5.iloc[:,-1], preds))\n",
    "print(\"RMSE: %f\" % (rmse))"
   ]
  },
  {
   "cell_type": "code",
   "execution_count": 155,
   "metadata": {},
   "outputs": [],
   "source": [
    "targets_sc_with_installs['most_freq_lang'] = targets_sc_with_installs['most_freq_lang'].astype('float64')\n",
    "X = targets_sc_with_installs[['ref_type', 'ref_hash', 'total_apps', '%implicit', '%attributed', 'most_freq_lang', \n",
    "                             'most_freq_app', 'model', 'ip', 'events_%wifi', 'event_apps', 'distinct_events', \n",
    "                             'total_events']]\n",
    "predictions_sc_lgbm = gbm.predict(X)"
   ]
  },
  {
   "cell_type": "markdown",
   "metadata": {},
   "source": [
    "### Random Forests"
   ]
  },
  {
   "cell_type": "code",
   "execution_count": 157,
   "metadata": {},
   "outputs": [],
   "source": [
    "from sklearn.ensemble import RandomForestRegressor\n",
    "rf = RandomForestRegressor(n_estimators=10, criterion='mse', max_depth=5, min_samples_split=2, \n",
    "                           min_samples_leaf=1, min_weight_fraction_leaf=0.0, max_features='auto', \n",
    "                           max_leaf_nodes=None, min_impurity_decrease=0.0, min_impurity_split=None, \n",
    "                           bootstrap=True, oob_score=False, n_jobs=None, random_state=None, verbose=0, \n",
    "                           warm_start=False)"
   ]
  },
  {
   "cell_type": "code",
   "execution_count": 158,
   "metadata": {},
   "outputs": [
    {
     "name": "stdout",
     "output_type": "stream",
     "text": [
      "RMSE: 66190.135760\n"
     ]
    }
   ],
   "source": [
    "X, y = installs1.iloc[:,:-1], installs1.iloc[:,-1]\n",
    "rf.fit(X, y)\n",
    "preds = rf.predict(installsCheck1.iloc[:,:-1])\n",
    "rmse = np.sqrt(mean_squared_error(installsCheck1.iloc[:,-1], preds))\n",
    "print(\"RMSE: %f\" % (rmse))"
   ]
  },
  {
   "cell_type": "code",
   "execution_count": 159,
   "metadata": {},
   "outputs": [
    {
     "name": "stdout",
     "output_type": "stream",
     "text": [
      "RMSE: 67879.801619\n"
     ]
    }
   ],
   "source": [
    "X, y = installs2.iloc[:,:-1], installs2.iloc[:,-1]\n",
    "rf.fit(X, y)\n",
    "preds = rf.predict(installsCheck2.iloc[:,:-1])\n",
    "rmse = np.sqrt(mean_squared_error(installsCheck2.iloc[:,-1], preds))\n",
    "print(\"RMSE: %f\" % (rmse))"
   ]
  },
  {
   "cell_type": "code",
   "execution_count": 160,
   "metadata": {},
   "outputs": [
    {
     "name": "stdout",
     "output_type": "stream",
     "text": [
      "RMSE: 68852.824544\n"
     ]
    }
   ],
   "source": [
    "X, y = installs3.iloc[:,:-1], installs3.iloc[:,-1]\n",
    "rf.fit(X, y)\n",
    "preds = rf.predict(installsCheck3.iloc[:,:-1])\n",
    "rmse = np.sqrt(mean_squared_error(installsCheck3.iloc[:,-1], preds))\n",
    "print(\"RMSE: %f\" % (rmse))"
   ]
  },
  {
   "cell_type": "code",
   "execution_count": 161,
   "metadata": {},
   "outputs": [
    {
     "name": "stdout",
     "output_type": "stream",
     "text": [
      "RMSE: 67593.833753\n"
     ]
    }
   ],
   "source": [
    "X, y = installs4.iloc[:,:-1], installs4.iloc[:,-1]\n",
    "rf.fit(X, y)\n",
    "preds = rf.predict(installsCheck4.iloc[:,:-1])\n",
    "rmse = np.sqrt(mean_squared_error(installsCheck4.iloc[:,-1], preds))\n",
    "print(\"RMSE: %f\" % (rmse))"
   ]
  },
  {
   "cell_type": "code",
   "execution_count": 162,
   "metadata": {},
   "outputs": [
    {
     "name": "stdout",
     "output_type": "stream",
     "text": [
      "RMSE: 64727.725242\n"
     ]
    }
   ],
   "source": [
    "X, y = installs5.iloc[:,:-1], installs5.iloc[:,-1]\n",
    "rf.fit(X, y)\n",
    "preds = rf.predict(installsCheck5.iloc[:,:-1])\n",
    "rmse = np.sqrt(mean_squared_error(installsCheck5.iloc[:,-1], preds))\n",
    "print(\"RMSE: %f\" % (rmse))"
   ]
  },
  {
   "cell_type": "code",
   "execution_count": 163,
   "metadata": {},
   "outputs": [],
   "source": [
    "targets_sc_with_installs['most_freq_lang'] = targets_sc_with_installs['most_freq_lang'].astype('float64')\n",
    "X = targets_sc_with_installs[['ref_type', 'ref_hash', 'total_apps', '%implicit', '%attributed', 'most_freq_lang', \n",
    "                             'most_freq_app', 'model', 'ip', 'events_%wifi', 'event_apps', 'distinct_events', \n",
    "                             'total_events']]\n",
    "predictions_sc_rf = rf.predict(X)"
   ]
  },
  {
   "cell_type": "markdown",
   "metadata": {},
   "source": [
    "## Promedio las predicciones y actualizo el target"
   ]
  },
  {
   "cell_type": "code",
   "execution_count": 166,
   "metadata": {},
   "outputs": [
    {
     "name": "stderr",
     "output_type": "stream",
     "text": [
      "/home/fede/anaconda3/lib/python3.7/site-packages/ipykernel_launcher.py:3: SettingWithCopyWarning: \n",
      "A value is trying to be set on a copy of a slice from a DataFrame.\n",
      "Try using .loc[row_indexer,col_indexer] = value instead\n",
      "\n",
      "See the caveats in the documentation: http://pandas.pydata.org/pandas-docs/stable/indexing.html#indexing-view-versus-copy\n",
      "  This is separate from the ipykernel package so we can avoid doing imports until\n",
      "/home/fede/anaconda3/lib/python3.7/site-packages/ipykernel_launcher.py:5: SettingWithCopyWarning: \n",
      "A value is trying to be set on a copy of a slice from a DataFrame.\n",
      "Try using .loc[row_indexer,col_indexer] = value instead\n",
      "\n",
      "See the caveats in the documentation: http://pandas.pydata.org/pandas-docs/stable/indexing.html#indexing-view-versus-copy\n",
      "  \"\"\"\n",
      "/home/fede/anaconda3/lib/python3.7/site-packages/ipykernel_launcher.py:9: SettingWithCopyWarning: \n",
      "A value is trying to be set on a copy of a slice from a DataFrame.\n",
      "Try using .loc[row_indexer,col_indexer] = value instead\n",
      "\n",
      "See the caveats in the documentation: http://pandas.pydata.org/pandas-docs/stable/indexing.html#indexing-view-versus-copy\n",
      "  if __name__ == '__main__':\n"
     ]
    },
    {
     "data": {
      "text/html": [
       "<div>\n",
       "<style scoped>\n",
       "    .dataframe tbody tr th:only-of-type {\n",
       "        vertical-align: middle;\n",
       "    }\n",
       "\n",
       "    .dataframe tbody tr th {\n",
       "        vertical-align: top;\n",
       "    }\n",
       "\n",
       "    .dataframe thead th {\n",
       "        text-align: right;\n",
       "    }\n",
       "</style>\n",
       "<table border=\"1\" class=\"dataframe\">\n",
       "  <thead>\n",
       "    <tr style=\"text-align: right;\">\n",
       "      <th></th>\n",
       "      <th>ref_hash</th>\n",
       "      <th>obj</th>\n",
       "    </tr>\n",
       "  </thead>\n",
       "  <tbody>\n",
       "    <tr>\n",
       "      <th>0</th>\n",
       "      <td>1000169251625791246_sc</td>\n",
       "      <td>119812.499918</td>\n",
       "    </tr>\n",
       "    <tr>\n",
       "      <th>1</th>\n",
       "      <td>1000169251625791246_st</td>\n",
       "      <td>79631.730000</td>\n",
       "    </tr>\n",
       "    <tr>\n",
       "      <th>2</th>\n",
       "      <td>1000395625957344683_sc</td>\n",
       "      <td>119704.066442</td>\n",
       "    </tr>\n",
       "    <tr>\n",
       "      <th>3</th>\n",
       "      <td>1000395625957344683_st</td>\n",
       "      <td>79679.830000</td>\n",
       "    </tr>\n",
       "    <tr>\n",
       "      <th>4</th>\n",
       "      <td>1003027494996471685_sc</td>\n",
       "      <td>122639.085441</td>\n",
       "    </tr>\n",
       "    <tr>\n",
       "      <th>5</th>\n",
       "      <td>1003027494996471685_st</td>\n",
       "      <td>82655.695000</td>\n",
       "    </tr>\n",
       "    <tr>\n",
       "      <th>6</th>\n",
       "      <td>1006670001679961544_sc</td>\n",
       "      <td>125853.029913</td>\n",
       "    </tr>\n",
       "    <tr>\n",
       "      <th>7</th>\n",
       "      <td>1006670001679961544_st</td>\n",
       "      <td>79636.414000</td>\n",
       "    </tr>\n",
       "    <tr>\n",
       "      <th>8</th>\n",
       "      <td>1007573308966476713_sc</td>\n",
       "      <td>113257.636739</td>\n",
       "    </tr>\n",
       "    <tr>\n",
       "      <th>9</th>\n",
       "      <td>1007573308966476713_st</td>\n",
       "      <td>79631.730000</td>\n",
       "    </tr>\n",
       "    <tr>\n",
       "      <th>10</th>\n",
       "      <td>1010070503877148763_sc</td>\n",
       "      <td>124067.426250</td>\n",
       "    </tr>\n",
       "    <tr>\n",
       "      <th>11</th>\n",
       "      <td>1010070503877148763_st</td>\n",
       "      <td>82655.695000</td>\n",
       "    </tr>\n",
       "    <tr>\n",
       "      <th>12</th>\n",
       "      <td>1010265377387765028_sc</td>\n",
       "      <td>123758.696867</td>\n",
       "    </tr>\n",
       "    <tr>\n",
       "      <th>13</th>\n",
       "      <td>1010265377387765028_st</td>\n",
       "      <td>82726.280000</td>\n",
       "    </tr>\n",
       "    <tr>\n",
       "      <th>14</th>\n",
       "      <td>1010531372912327058_sc</td>\n",
       "      <td>111956.646177</td>\n",
       "    </tr>\n",
       "    <tr>\n",
       "      <th>15</th>\n",
       "      <td>1010531372912327058_st</td>\n",
       "      <td>82651.010000</td>\n",
       "    </tr>\n",
       "    <tr>\n",
       "      <th>16</th>\n",
       "      <td>1011610998357271358_sc</td>\n",
       "      <td>119099.651274</td>\n",
       "    </tr>\n",
       "    <tr>\n",
       "      <th>17</th>\n",
       "      <td>1011610998357271358_st</td>\n",
       "      <td>82651.010000</td>\n",
       "    </tr>\n",
       "    <tr>\n",
       "      <th>18</th>\n",
       "      <td>1013543838965040946_sc</td>\n",
       "      <td>120370.410635</td>\n",
       "    </tr>\n",
       "    <tr>\n",
       "      <th>19</th>\n",
       "      <td>1013543838965040946_st</td>\n",
       "      <td>79631.730000</td>\n",
       "    </tr>\n",
       "    <tr>\n",
       "      <th>20</th>\n",
       "      <td>1014428234021750342_sc</td>\n",
       "      <td>119160.337442</td>\n",
       "    </tr>\n",
       "    <tr>\n",
       "      <th>21</th>\n",
       "      <td>1014428234021750342_st</td>\n",
       "      <td>79631.730000</td>\n",
       "    </tr>\n",
       "    <tr>\n",
       "      <th>22</th>\n",
       "      <td>101763096421653092_sc</td>\n",
       "      <td>119387.610446</td>\n",
       "    </tr>\n",
       "    <tr>\n",
       "      <th>23</th>\n",
       "      <td>101763096421653092_st</td>\n",
       "      <td>79658.240000</td>\n",
       "    </tr>\n",
       "    <tr>\n",
       "      <th>24</th>\n",
       "      <td>1017668882534236751_sc</td>\n",
       "      <td>121007.248039</td>\n",
       "    </tr>\n",
       "    <tr>\n",
       "      <th>25</th>\n",
       "      <td>1017668882534236751_st</td>\n",
       "      <td>82652.920000</td>\n",
       "    </tr>\n",
       "    <tr>\n",
       "      <th>26</th>\n",
       "      <td>1017958004932387739_sc</td>\n",
       "      <td>126088.199377</td>\n",
       "    </tr>\n",
       "    <tr>\n",
       "      <th>27</th>\n",
       "      <td>1017958004932387739_st</td>\n",
       "      <td>82655.695000</td>\n",
       "    </tr>\n",
       "    <tr>\n",
       "      <th>28</th>\n",
       "      <td>1018126962792619181_sc</td>\n",
       "      <td>126946.248550</td>\n",
       "    </tr>\n",
       "    <tr>\n",
       "      <th>29</th>\n",
       "      <td>1018126962792619181_st</td>\n",
       "      <td>82651.010000</td>\n",
       "    </tr>\n",
       "    <tr>\n",
       "      <th>...</th>\n",
       "      <td>...</td>\n",
       "      <td>...</td>\n",
       "    </tr>\n",
       "    <tr>\n",
       "      <th>8044</th>\n",
       "      <td>950195972417607793_sc</td>\n",
       "      <td>128576.075896</td>\n",
       "    </tr>\n",
       "    <tr>\n",
       "      <th>8045</th>\n",
       "      <td>950195972417607793_st</td>\n",
       "      <td>79631.730000</td>\n",
       "    </tr>\n",
       "    <tr>\n",
       "      <th>8046</th>\n",
       "      <td>954110623376544206_sc</td>\n",
       "      <td>120567.944144</td>\n",
       "    </tr>\n",
       "    <tr>\n",
       "      <th>8047</th>\n",
       "      <td>954110623376544206_st</td>\n",
       "      <td>79649.770000</td>\n",
       "    </tr>\n",
       "    <tr>\n",
       "      <th>8048</th>\n",
       "      <td>954940018576714924_sc</td>\n",
       "      <td>115814.804571</td>\n",
       "    </tr>\n",
       "    <tr>\n",
       "      <th>8049</th>\n",
       "      <td>954940018576714924_st</td>\n",
       "      <td>79631.730000</td>\n",
       "    </tr>\n",
       "    <tr>\n",
       "      <th>8050</th>\n",
       "      <td>956704247780926402_sc</td>\n",
       "      <td>115091.632081</td>\n",
       "    </tr>\n",
       "    <tr>\n",
       "      <th>8051</th>\n",
       "      <td>956704247780926402_st</td>\n",
       "      <td>82669.055000</td>\n",
       "    </tr>\n",
       "    <tr>\n",
       "      <th>8052</th>\n",
       "      <td>960623204161846765_sc</td>\n",
       "      <td>120469.260101</td>\n",
       "    </tr>\n",
       "    <tr>\n",
       "      <th>8053</th>\n",
       "      <td>960623204161846765_st</td>\n",
       "      <td>79631.730000</td>\n",
       "    </tr>\n",
       "    <tr>\n",
       "      <th>8054</th>\n",
       "      <td>961631829441650729_sc</td>\n",
       "      <td>115935.941000</td>\n",
       "    </tr>\n",
       "    <tr>\n",
       "      <th>8055</th>\n",
       "      <td>961631829441650729_st</td>\n",
       "      <td>79633.640000</td>\n",
       "    </tr>\n",
       "    <tr>\n",
       "      <th>8056</th>\n",
       "      <td>962595921037755088_sc</td>\n",
       "      <td>125847.973655</td>\n",
       "    </tr>\n",
       "    <tr>\n",
       "      <th>8057</th>\n",
       "      <td>962595921037755088_st</td>\n",
       "      <td>79631.730000</td>\n",
       "    </tr>\n",
       "    <tr>\n",
       "      <th>8058</th>\n",
       "      <td>964658792449865522_sc</td>\n",
       "      <td>115057.245440</td>\n",
       "    </tr>\n",
       "    <tr>\n",
       "      <th>8059</th>\n",
       "      <td>964658792449865522_st</td>\n",
       "      <td>82651.010000</td>\n",
       "    </tr>\n",
       "    <tr>\n",
       "      <th>8060</th>\n",
       "      <td>974553511695777483_sc</td>\n",
       "      <td>124679.827596</td>\n",
       "    </tr>\n",
       "    <tr>\n",
       "      <th>8061</th>\n",
       "      <td>974553511695777483_st</td>\n",
       "      <td>79631.730000</td>\n",
       "    </tr>\n",
       "    <tr>\n",
       "      <th>8062</th>\n",
       "      <td>97694307709005918_sc</td>\n",
       "      <td>115601.900292</td>\n",
       "    </tr>\n",
       "    <tr>\n",
       "      <th>8063</th>\n",
       "      <td>97694307709005918_st</td>\n",
       "      <td>79644.880000</td>\n",
       "    </tr>\n",
       "    <tr>\n",
       "      <th>8064</th>\n",
       "      <td>977508757724050464_sc</td>\n",
       "      <td>120505.803726</td>\n",
       "    </tr>\n",
       "    <tr>\n",
       "      <th>8065</th>\n",
       "      <td>977508757724050464_st</td>\n",
       "      <td>82652.920000</td>\n",
       "    </tr>\n",
       "    <tr>\n",
       "      <th>8066</th>\n",
       "      <td>979880031097032355_sc</td>\n",
       "      <td>126750.029232</td>\n",
       "    </tr>\n",
       "    <tr>\n",
       "      <th>8067</th>\n",
       "      <td>979880031097032355_st</td>\n",
       "      <td>82699.110000</td>\n",
       "    </tr>\n",
       "    <tr>\n",
       "      <th>8068</th>\n",
       "      <td>987443249627191692_sc</td>\n",
       "      <td>118408.724637</td>\n",
       "    </tr>\n",
       "    <tr>\n",
       "      <th>8069</th>\n",
       "      <td>987443249627191692_st</td>\n",
       "      <td>82669.055000</td>\n",
       "    </tr>\n",
       "    <tr>\n",
       "      <th>8070</th>\n",
       "      <td>997953354533822687_sc</td>\n",
       "      <td>121414.594499</td>\n",
       "    </tr>\n",
       "    <tr>\n",
       "      <th>8071</th>\n",
       "      <td>997953354533822687_st</td>\n",
       "      <td>82655.695000</td>\n",
       "    </tr>\n",
       "    <tr>\n",
       "      <th>8072</th>\n",
       "      <td>998948062397755366_sc</td>\n",
       "      <td>122063.165627</td>\n",
       "    </tr>\n",
       "    <tr>\n",
       "      <th>8073</th>\n",
       "      <td>998948062397755366_st</td>\n",
       "      <td>79631.730000</td>\n",
       "    </tr>\n",
       "  </tbody>\n",
       "</table>\n",
       "<p>8074 rows × 2 columns</p>\n",
       "</div>"
      ],
      "text/plain": [
       "                    ref_hash            obj\n",
       "0     1000169251625791246_sc  119812.499918\n",
       "1     1000169251625791246_st   79631.730000\n",
       "2     1000395625957344683_sc  119704.066442\n",
       "3     1000395625957344683_st   79679.830000\n",
       "4     1003027494996471685_sc  122639.085441\n",
       "5     1003027494996471685_st   82655.695000\n",
       "6     1006670001679961544_sc  125853.029913\n",
       "7     1006670001679961544_st   79636.414000\n",
       "8     1007573308966476713_sc  113257.636739\n",
       "9     1007573308966476713_st   79631.730000\n",
       "10    1010070503877148763_sc  124067.426250\n",
       "11    1010070503877148763_st   82655.695000\n",
       "12    1010265377387765028_sc  123758.696867\n",
       "13    1010265377387765028_st   82726.280000\n",
       "14    1010531372912327058_sc  111956.646177\n",
       "15    1010531372912327058_st   82651.010000\n",
       "16    1011610998357271358_sc  119099.651274\n",
       "17    1011610998357271358_st   82651.010000\n",
       "18    1013543838965040946_sc  120370.410635\n",
       "19    1013543838965040946_st   79631.730000\n",
       "20    1014428234021750342_sc  119160.337442\n",
       "21    1014428234021750342_st   79631.730000\n",
       "22     101763096421653092_sc  119387.610446\n",
       "23     101763096421653092_st   79658.240000\n",
       "24    1017668882534236751_sc  121007.248039\n",
       "25    1017668882534236751_st   82652.920000\n",
       "26    1017958004932387739_sc  126088.199377\n",
       "27    1017958004932387739_st   82655.695000\n",
       "28    1018126962792619181_sc  126946.248550\n",
       "29    1018126962792619181_st   82651.010000\n",
       "...                      ...            ...\n",
       "8044   950195972417607793_sc  128576.075896\n",
       "8045   950195972417607793_st   79631.730000\n",
       "8046   954110623376544206_sc  120567.944144\n",
       "8047   954110623376544206_st   79649.770000\n",
       "8048   954940018576714924_sc  115814.804571\n",
       "8049   954940018576714924_st   79631.730000\n",
       "8050   956704247780926402_sc  115091.632081\n",
       "8051   956704247780926402_st   82669.055000\n",
       "8052   960623204161846765_sc  120469.260101\n",
       "8053   960623204161846765_st   79631.730000\n",
       "8054   961631829441650729_sc  115935.941000\n",
       "8055   961631829441650729_st   79633.640000\n",
       "8056   962595921037755088_sc  125847.973655\n",
       "8057   962595921037755088_st   79631.730000\n",
       "8058   964658792449865522_sc  115057.245440\n",
       "8059   964658792449865522_st   82651.010000\n",
       "8060   974553511695777483_sc  124679.827596\n",
       "8061   974553511695777483_st   79631.730000\n",
       "8062    97694307709005918_sc  115601.900292\n",
       "8063    97694307709005918_st   79644.880000\n",
       "8064   977508757724050464_sc  120505.803726\n",
       "8065   977508757724050464_st   82652.920000\n",
       "8066   979880031097032355_sc  126750.029232\n",
       "8067   979880031097032355_st   82699.110000\n",
       "8068   987443249627191692_sc  118408.724637\n",
       "8069   987443249627191692_st   82669.055000\n",
       "8070   997953354533822687_sc  121414.594499\n",
       "8071   997953354533822687_st   82655.695000\n",
       "8072   998948062397755366_sc  122063.165627\n",
       "8073   998948062397755366_st   79631.730000\n",
       "\n",
       "[8074 rows x 2 columns]"
      ]
     },
     "execution_count": 166,
     "metadata": {},
     "output_type": "execute_result"
    }
   ],
   "source": [
    "predictions_sc = np.add(np.add(np.add(np.add(predictions_sc_xgb,predictions_sc_bagging), predictions_sc_adaboost), predictions_sc_lgbm),predictions_sc_rf)\n",
    "predictions_sc = predictions_sc / 5\n",
    "targets_sc['obj'] = predictions_sc\n",
    "predicciones_target_sc = target[target['ref_hash'].str.contains('_sc')]\n",
    "predicciones_target_sc['obj'] = predictions_sc\n",
    "target.update(predicciones_target_sc)\n",
    "sc_pred = pd.read_csv('../datos/PrediccionesKNN-RF-XGBoost.txt', header = None)\n",
    "sc_pred.index = np.arange(1, 8074, 2)\n",
    "targets_st['obj'] = sc_pred[0]\n",
    "target.update(targets_st)\n"
   ]
  },
  {
   "cell_type": "code",
   "execution_count": 167,
   "metadata": {},
   "outputs": [],
   "source": [
    "target.to_csv('../datos/preds-promedios.csv', index = False)"
   ]
  },
  {
   "cell_type": "code",
   "execution_count": 168,
   "metadata": {},
   "outputs": [
    {
     "data": {
      "text/plain": [
       "ref_hash    8074\n",
       "obj         8074\n",
       "dtype: int64"
      ]
     },
     "execution_count": 168,
     "metadata": {},
     "output_type": "execute_result"
    }
   ],
   "source": [
    "target.count()"
   ]
  },
  {
   "cell_type": "code",
   "execution_count": null,
   "metadata": {},
   "outputs": [],
   "source": []
  }
 ],
 "metadata": {
  "kernelspec": {
   "display_name": "Python 3",
   "language": "python",
   "name": "python3"
  },
  "language_info": {
   "codemirror_mode": {
    "name": "ipython",
    "version": 3
   },
   "file_extension": ".py",
   "mimetype": "text/x-python",
   "name": "python",
   "nbconvert_exporter": "python",
   "pygments_lexer": "ipython3",
   "version": "3.7.3"
  }
 },
 "nbformat": 4,
 "nbformat_minor": 2
}

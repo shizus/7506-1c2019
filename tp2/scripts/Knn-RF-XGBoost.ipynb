{
 "cells": [
  {
   "cell_type": "code",
   "execution_count": 1,
   "metadata": {},
   "outputs": [],
   "source": [
    "import pandas as pd\n",
    "import numpy as np"
   ]
  },
  {
   "cell_type": "code",
   "execution_count": 2,
   "metadata": {},
   "outputs": [],
   "source": [
    "auctions = pd.read_csv('auctions.csv.gzip', compression = 'gzip', low_memory=False)"
   ]
  },
  {
   "cell_type": "markdown",
   "metadata": {},
   "source": [
    "# Preparo el df y divido ventanas"
   ]
  },
  {
   "cell_type": "code",
   "execution_count": 3,
   "metadata": {},
   "outputs": [],
   "source": [
    "auctions['date'] = pd.to_datetime(auctions['date'])"
   ]
  },
  {
   "cell_type": "code",
   "execution_count": 4,
   "metadata": {},
   "outputs": [],
   "source": [
    "w1 = auctions[auctions['date'].dt.day < 21]\n",
    "w2 = auctions[(auctions['date'].dt.day > 18) & (auctions['date'].dt.day < 22)]\n",
    "w3 = auctions[(auctions['date'].dt.day > 19) & (auctions['date'].dt.day < 23)]\n",
    "w4 = auctions[(auctions['date'].dt.day > 20) & (auctions['date'].dt.day < 24)]\n",
    "w5 = auctions[(auctions['date'].dt.day > 21) & (auctions['date'].dt.day < 25)]\n",
    "w6 = auctions[(auctions['date'].dt.day > 22) & (auctions['date'].dt.day < 26)]\n",
    "w7 = auctions[(auctions['date'].dt.day > 23) & (auctions['date'].dt.day < 27)]"
   ]
  },
  {
   "cell_type": "code",
   "execution_count": 5,
   "metadata": {},
   "outputs": [
    {
     "name": "stderr",
     "output_type": "stream",
     "text": [
      "C:\\ProgramData\\Anaconda3\\lib\\site-packages\\ipykernel_launcher.py:2: SettingWithCopyWarning: \n",
      "A value is trying to be set on a copy of a slice from a DataFrame.\n",
      "Try using .loc[row_indexer,col_indexer] = value instead\n",
      "\n",
      "See the caveats in the documentation: http://pandas.pydata.org/pandas-docs/stable/indexing.html#indexing-view-versus-copy\n",
      "  \n",
      "C:\\ProgramData\\Anaconda3\\lib\\site-packages\\ipykernel_launcher.py:4: SettingWithCopyWarning: \n",
      "A value is trying to be set on a copy of a slice from a DataFrame.\n",
      "Try using .loc[row_indexer,col_indexer] = value instead\n",
      "\n",
      "See the caveats in the documentation: http://pandas.pydata.org/pandas-docs/stable/indexing.html#indexing-view-versus-copy\n",
      "  after removing the cwd from sys.path.\n",
      "C:\\ProgramData\\Anaconda3\\lib\\site-packages\\ipykernel_launcher.py:6: SettingWithCopyWarning: \n",
      "A value is trying to be set on a copy of a slice from a DataFrame.\n",
      "Try using .loc[row_indexer,col_indexer] = value instead\n",
      "\n",
      "See the caveats in the documentation: http://pandas.pydata.org/pandas-docs/stable/indexing.html#indexing-view-versus-copy\n",
      "  \n",
      "C:\\ProgramData\\Anaconda3\\lib\\site-packages\\ipykernel_launcher.py:8: SettingWithCopyWarning: \n",
      "A value is trying to be set on a copy of a slice from a DataFrame.\n",
      "Try using .loc[row_indexer,col_indexer] = value instead\n",
      "\n",
      "See the caveats in the documentation: http://pandas.pydata.org/pandas-docs/stable/indexing.html#indexing-view-versus-copy\n",
      "  \n",
      "C:\\ProgramData\\Anaconda3\\lib\\site-packages\\ipykernel_launcher.py:10: SettingWithCopyWarning: \n",
      "A value is trying to be set on a copy of a slice from a DataFrame.\n",
      "Try using .loc[row_indexer,col_indexer] = value instead\n",
      "\n",
      "See the caveats in the documentation: http://pandas.pydata.org/pandas-docs/stable/indexing.html#indexing-view-versus-copy\n",
      "  # Remove the CWD from sys.path while we load stuff.\n",
      "C:\\ProgramData\\Anaconda3\\lib\\site-packages\\ipykernel_launcher.py:12: SettingWithCopyWarning: \n",
      "A value is trying to be set on a copy of a slice from a DataFrame.\n",
      "Try using .loc[row_indexer,col_indexer] = value instead\n",
      "\n",
      "See the caveats in the documentation: http://pandas.pydata.org/pandas-docs/stable/indexing.html#indexing-view-versus-copy\n",
      "  if sys.path[0] == '':\n",
      "C:\\ProgramData\\Anaconda3\\lib\\site-packages\\ipykernel_launcher.py:14: SettingWithCopyWarning: \n",
      "A value is trying to be set on a copy of a slice from a DataFrame.\n",
      "Try using .loc[row_indexer,col_indexer] = value instead\n",
      "\n",
      "See the caveats in the documentation: http://pandas.pydata.org/pandas-docs/stable/indexing.html#indexing-view-versus-copy\n",
      "  \n"
     ]
    }
   ],
   "source": [
    "windowStart = pd.to_datetime(\"2019-04-18 00:00:00.000000\")\n",
    "w1['timeFromWindowStart'] = (w1['date'] - windowStart)/np.timedelta64(1,'s')\n",
    "windowStart = pd.to_datetime(\"2019-04-19 00:00:00.000000\")\n",
    "w2['timeFromWindowStart'] = (w2['date'] - windowStart)/np.timedelta64(1,'s')\n",
    "windowStart = pd.to_datetime(\"2019-04-20 00:00:00.000000\")\n",
    "w3['timeFromWindowStart'] = (w3['date'] - windowStart)/np.timedelta64(1,'s')\n",
    "windowStart = pd.to_datetime(\"2019-04-21 00:00:00.000000\")\n",
    "w4['timeFromWindowStart'] = (w4['date'] - windowStart)/np.timedelta64(1,'s')\n",
    "windowStart = pd.to_datetime(\"2019-04-22 00:00:00.000000\")\n",
    "w5['timeFromWindowStart'] = (w5['date'] - windowStart)/np.timedelta64(1,'s')\n",
    "windowStart = pd.to_datetime(\"2019-04-23 00:00:00.000000\")\n",
    "w6['timeFromWindowStart'] = (w6['date'] - windowStart)/np.timedelta64(1,'s')\n",
    "windowStart = pd.to_datetime(\"2019-04-23 00:00:00.000000\")\n",
    "w7['timeFromWindowStart'] = (w7['date'] - windowStart)/np.timedelta64(1,'s')"
   ]
  },
  {
   "cell_type": "code",
   "execution_count": 6,
   "metadata": {},
   "outputs": [],
   "source": [
    "w1 = w1.sort_values(by=['device_id', 'date'])\n",
    "w1 = w1.drop_duplicates('device_id', keep = 'first')\n",
    "w2 = w2.sort_values(by=['device_id', 'date'])\n",
    "w2 = w2.drop_duplicates('device_id', keep = 'first')\n",
    "w3 = w3.sort_values(by=['device_id', 'date'])\n",
    "w3 = w3.drop_duplicates('device_id', keep = 'first')\n",
    "w4 = w4.sort_values(by=['device_id', 'date'])\n",
    "w4 = w4.drop_duplicates('device_id', keep = 'first')\n",
    "w5 = w5.sort_values(by=['device_id', 'date'])\n",
    "w5 = w5.drop_duplicates('device_id', keep = 'first')\n",
    "w6 = w6.sort_values(by=['device_id', 'date'])\n",
    "w6 = w6.drop_duplicates('device_id', keep = 'first')\n",
    "w7 = w7.sort_values(by=['device_id', 'date'])\n",
    "w7 = w7.drop_duplicates('device_id', keep = 'first')"
   ]
  },
  {
   "cell_type": "code",
   "execution_count": 7,
   "metadata": {},
   "outputs": [],
   "source": [
    "w1.columns = ['date', 'device_id', 'ref_type_id', 'source_id', 'st']\n",
    "w2.columns = ['date', 'device_id', 'ref_type_id', 'source_id', 'st']\n",
    "w3.columns = ['date', 'device_id', 'ref_type_id', 'source_id', 'st']\n",
    "w4.columns = ['date', 'device_id', 'ref_type_id', 'source_id', 'st']\n",
    "w5.columns = ['date', 'device_id', 'ref_type_id', 'source_id', 'st']\n",
    "w6.columns = ['date', 'device_id', 'ref_type_id', 'source_id', 'st']\n",
    "w7.columns = ['date', 'device_id', 'ref_type_id', 'source_id', 'st']"
   ]
  },
  {
   "cell_type": "code",
   "execution_count": 8,
   "metadata": {},
   "outputs": [],
   "source": [
    "w1 = w1.drop(columns = ['date'])\n",
    "w2 = w2.drop(columns = ['date'])\n",
    "w3 = w3.drop(columns = ['date'])\n",
    "w4 = w4.drop(columns = ['date'])\n",
    "w5 = w5.drop(columns = ['date'])\n",
    "w6 = w6.drop(columns = ['date'])\n",
    "w7 = w7.drop(columns = ['date'])"
   ]
  },
  {
   "cell_type": "code",
   "execution_count": 46,
   "metadata": {},
   "outputs": [
    {
     "data": {
      "text/html": [
       "<div>\n",
       "<style scoped>\n",
       "    .dataframe tbody tr th:only-of-type {\n",
       "        vertical-align: middle;\n",
       "    }\n",
       "\n",
       "    .dataframe tbody tr th {\n",
       "        vertical-align: top;\n",
       "    }\n",
       "\n",
       "    .dataframe thead th {\n",
       "        text-align: right;\n",
       "    }\n",
       "</style>\n",
       "<table border=\"1\" class=\"dataframe\">\n",
       "  <thead>\n",
       "    <tr style=\"text-align: right;\">\n",
       "      <th></th>\n",
       "      <th>device_id</th>\n",
       "      <th>ref_type_id</th>\n",
       "      <th>source_id</th>\n",
       "      <th>pred_KNN</th>\n",
       "      <th>pred_RF</th>\n",
       "      <th>st</th>\n",
       "    </tr>\n",
       "  </thead>\n",
       "  <tbody>\n",
       "    <tr>\n",
       "      <th>36601349</th>\n",
       "      <td>40621409780134</td>\n",
       "      <td>1</td>\n",
       "      <td>0</td>\n",
       "      <td>226857.222979</td>\n",
       "      <td>82963.592845</td>\n",
       "      <td>75012.201701</td>\n",
       "    </tr>\n",
       "    <tr>\n",
       "      <th>33917684</th>\n",
       "      <td>168103949904656</td>\n",
       "      <td>1</td>\n",
       "      <td>3</td>\n",
       "      <td>173044.526198</td>\n",
       "      <td>82963.592845</td>\n",
       "      <td>81005.529793</td>\n",
       "    </tr>\n",
       "    <tr>\n",
       "      <th>9402375</th>\n",
       "      <td>186034136943920</td>\n",
       "      <td>1</td>\n",
       "      <td>1</td>\n",
       "      <td>88.851558</td>\n",
       "      <td>82963.592845</td>\n",
       "      <td>75747.944748</td>\n",
       "    </tr>\n",
       "    <tr>\n",
       "      <th>13736755</th>\n",
       "      <td>295841792051458</td>\n",
       "      <td>1</td>\n",
       "      <td>1</td>\n",
       "      <td>432.827168</td>\n",
       "      <td>82963.592845</td>\n",
       "      <td>75747.944748</td>\n",
       "    </tr>\n",
       "    <tr>\n",
       "      <th>43932908</th>\n",
       "      <td>345999128501141</td>\n",
       "      <td>1</td>\n",
       "      <td>0</td>\n",
       "      <td>164703.549846</td>\n",
       "      <td>82963.592845</td>\n",
       "      <td>75012.201701</td>\n",
       "    </tr>\n",
       "  </tbody>\n",
       "</table>\n",
       "</div>"
      ],
      "text/plain": [
       "                device_id  ref_type_id  source_id       pred_KNN  \\\n",
       "36601349   40621409780134            1          0  226857.222979   \n",
       "33917684  168103949904656            1          3  173044.526198   \n",
       "9402375   186034136943920            1          1      88.851558   \n",
       "13736755  295841792051458            1          1     432.827168   \n",
       "43932908  345999128501141            1          0  164703.549846   \n",
       "\n",
       "               pred_RF            st  \n",
       "36601349  82963.592845  75012.201701  \n",
       "33917684  82963.592845  81005.529793  \n",
       "9402375   82963.592845  75747.944748  \n",
       "13736755  82963.592845  75747.944748  \n",
       "43932908  82963.592845  75012.201701  "
      ]
     },
     "execution_count": 46,
     "metadata": {},
     "output_type": "execute_result"
    }
   ],
   "source": []
  },
  {
   "cell_type": "markdown",
   "metadata": {},
   "source": [
    "## Aplico KNN y RandomForest en la primer ventana y hago las predicciones de la cuarta ventana y despues le voy a agregar esas predicciones como features"
   ]
  },
  {
   "cell_type": "code",
   "execution_count": 10,
   "metadata": {},
   "outputs": [],
   "source": [
    "from sklearn.neighbors import KNeighborsRegressor\n",
    "from sklearn.ensemble import RandomForestRegressor\n",
    "import xgboost as xgb\n",
    "from sklearn.metrics import mean_squared_error"
   ]
  },
  {
   "cell_type": "code",
   "execution_count": 11,
   "metadata": {},
   "outputs": [],
   "source": [
    "X, y = w1.iloc[:,:-1],w1.iloc[:,-1]"
   ]
  },
  {
   "cell_type": "code",
   "execution_count": 12,
   "metadata": {},
   "outputs": [],
   "source": [
    "neigh = KNeighborsRegressor(n_neighbors=101)"
   ]
  },
  {
   "cell_type": "code",
   "execution_count": 13,
   "metadata": {},
   "outputs": [
    {
     "data": {
      "text/plain": [
       "KNeighborsRegressor(algorithm='auto', leaf_size=30, metric='minkowski',\n",
       "          metric_params=None, n_jobs=None, n_neighbors=101, p=2,\n",
       "          weights='uniform')"
      ]
     },
     "execution_count": 13,
     "metadata": {},
     "output_type": "execute_result"
    }
   ],
   "source": [
    "neigh.fit(X, y)"
   ]
  },
  {
   "cell_type": "code",
   "execution_count": 32,
   "metadata": {},
   "outputs": [],
   "source": [
    "preds_KNN_w4 = neigh.predict(w4.iloc[:,:-1])"
   ]
  },
  {
   "cell_type": "code",
   "execution_count": 15,
   "metadata": {},
   "outputs": [],
   "source": [
    "rf = RandomForestRegressor(n_estimators=10, criterion='mse', max_depth=5, min_samples_split=2, min_samples_leaf=1, min_weight_fraction_leaf=0.0, max_features='auto', max_leaf_nodes=None, min_impurity_decrease=0.0, min_impurity_split=None, bootstrap=True, oob_score=False, n_jobs=None, random_state=None, verbose=0, warm_start=False)"
   ]
  },
  {
   "cell_type": "code",
   "execution_count": 16,
   "metadata": {},
   "outputs": [
    {
     "data": {
      "text/plain": [
       "RandomForestRegressor(bootstrap=True, criterion='mse', max_depth=5,\n",
       "           max_features='auto', max_leaf_nodes=None,\n",
       "           min_impurity_decrease=0.0, min_impurity_split=None,\n",
       "           min_samples_leaf=1, min_samples_split=2,\n",
       "           min_weight_fraction_leaf=0.0, n_estimators=10, n_jobs=None,\n",
       "           oob_score=False, random_state=None, verbose=0, warm_start=False)"
      ]
     },
     "execution_count": 16,
     "metadata": {},
     "output_type": "execute_result"
    }
   ],
   "source": [
    "rf.fit(X, y)"
   ]
  },
  {
   "cell_type": "code",
   "execution_count": 33,
   "metadata": {},
   "outputs": [],
   "source": [
    "preds_RF_w4 = rf.predict(w4.iloc[:,:-1])"
   ]
  },
  {
   "cell_type": "markdown",
   "metadata": {},
   "source": [
    "## Ya me guarde las predicciones de w4 de RF y de KNN y las voy a agregar como features luego.\n",
    "## Ahora voy a entrenar con w4 y validar con w7 y luego les voy a agregar tanto a w4 como a w7 los features de las predicciones de KNN y de RF"
   ]
  },
  {
   "cell_type": "code",
   "execution_count": 34,
   "metadata": {},
   "outputs": [],
   "source": [
    "X, y = w4.iloc[:,:-1],w4.iloc[:,-1]"
   ]
  },
  {
   "cell_type": "code",
   "execution_count": 35,
   "metadata": {},
   "outputs": [],
   "source": [
    "neigh = KNeighborsRegressor(n_neighbors=101)"
   ]
  },
  {
   "cell_type": "code",
   "execution_count": 36,
   "metadata": {},
   "outputs": [
    {
     "data": {
      "text/plain": [
       "KNeighborsRegressor(algorithm='auto', leaf_size=30, metric='minkowski',\n",
       "          metric_params=None, n_jobs=None, n_neighbors=101, p=2,\n",
       "          weights='uniform')"
      ]
     },
     "execution_count": 36,
     "metadata": {},
     "output_type": "execute_result"
    }
   ],
   "source": [
    "neigh.fit(X, y)"
   ]
  },
  {
   "cell_type": "code",
   "execution_count": 37,
   "metadata": {},
   "outputs": [],
   "source": [
    "preds_KNN_w7 = neigh.predict(w7.iloc[:,:-1])"
   ]
  },
  {
   "cell_type": "code",
   "execution_count": 38,
   "metadata": {},
   "outputs": [],
   "source": [
    "rf = RandomForestRegressor(n_estimators=10, criterion='mse', max_depth=5, min_samples_split=2, min_samples_leaf=1, min_weight_fraction_leaf=0.0, max_features='auto', max_leaf_nodes=None, min_impurity_decrease=0.0, min_impurity_split=None, bootstrap=True, oob_score=False, n_jobs=None, random_state=None, verbose=0, warm_start=False)"
   ]
  },
  {
   "cell_type": "code",
   "execution_count": 39,
   "metadata": {},
   "outputs": [
    {
     "data": {
      "text/plain": [
       "RandomForestRegressor(bootstrap=True, criterion='mse', max_depth=5,\n",
       "           max_features='auto', max_leaf_nodes=None,\n",
       "           min_impurity_decrease=0.0, min_impurity_split=None,\n",
       "           min_samples_leaf=1, min_samples_split=2,\n",
       "           min_weight_fraction_leaf=0.0, n_estimators=10, n_jobs=None,\n",
       "           oob_score=False, random_state=None, verbose=0, warm_start=False)"
      ]
     },
     "execution_count": 39,
     "metadata": {},
     "output_type": "execute_result"
    }
   ],
   "source": [
    "rf.fit(X, y)"
   ]
  },
  {
   "cell_type": "code",
   "execution_count": 40,
   "metadata": {},
   "outputs": [],
   "source": [
    "preds_RF_w7 = rf.predict(w7.iloc[:,:-1])"
   ]
  },
  {
   "cell_type": "code",
   "execution_count": 41,
   "metadata": {},
   "outputs": [],
   "source": [
    "w4[\"pred_KNN\"] = preds_KNN_w4"
   ]
  },
  {
   "cell_type": "code",
   "execution_count": 42,
   "metadata": {},
   "outputs": [],
   "source": [
    "w4[\"pred_RF\"] = preds_RF_w4\n",
    "w7[\"pred_KNN\"] = preds_KNN_w7\n",
    "w7[\"pred_RF\"] = preds_RF_w7"
   ]
  },
  {
   "cell_type": "code",
   "execution_count": 45,
   "metadata": {},
   "outputs": [],
   "source": [
    "w4.columns = ['device_id', 'ref_type_id', 'source_id', 'pred_KNN', 'pred_RF', 'st']\n",
    "w7.columns = ['device_id', 'ref_type_id', 'source_id', 'pred_KNN', 'pred_RF', 'st']"
   ]
  },
  {
   "cell_type": "code",
   "execution_count": 47,
   "metadata": {},
   "outputs": [
    {
     "data": {
      "text/html": [
       "<div>\n",
       "<style scoped>\n",
       "    .dataframe tbody tr th:only-of-type {\n",
       "        vertical-align: middle;\n",
       "    }\n",
       "\n",
       "    .dataframe tbody tr th {\n",
       "        vertical-align: top;\n",
       "    }\n",
       "\n",
       "    .dataframe thead th {\n",
       "        text-align: right;\n",
       "    }\n",
       "</style>\n",
       "<table border=\"1\" class=\"dataframe\">\n",
       "  <thead>\n",
       "    <tr style=\"text-align: right;\">\n",
       "      <th></th>\n",
       "      <th>device_id</th>\n",
       "      <th>ref_type_id</th>\n",
       "      <th>source_id</th>\n",
       "      <th>pred_KNN</th>\n",
       "      <th>pred_RF</th>\n",
       "      <th>st</th>\n",
       "    </tr>\n",
       "  </thead>\n",
       "  <tbody>\n",
       "    <tr>\n",
       "      <th>36601349</th>\n",
       "      <td>40621409780134</td>\n",
       "      <td>1</td>\n",
       "      <td>0</td>\n",
       "      <td>226857.222979</td>\n",
       "      <td>82963.592845</td>\n",
       "      <td>75012.201701</td>\n",
       "    </tr>\n",
       "    <tr>\n",
       "      <th>33917684</th>\n",
       "      <td>168103949904656</td>\n",
       "      <td>1</td>\n",
       "      <td>3</td>\n",
       "      <td>173044.526198</td>\n",
       "      <td>82963.592845</td>\n",
       "      <td>81005.529793</td>\n",
       "    </tr>\n",
       "    <tr>\n",
       "      <th>9402375</th>\n",
       "      <td>186034136943920</td>\n",
       "      <td>1</td>\n",
       "      <td>1</td>\n",
       "      <td>88.851558</td>\n",
       "      <td>82963.592845</td>\n",
       "      <td>75747.944748</td>\n",
       "    </tr>\n",
       "    <tr>\n",
       "      <th>13736755</th>\n",
       "      <td>295841792051458</td>\n",
       "      <td>1</td>\n",
       "      <td>1</td>\n",
       "      <td>432.827168</td>\n",
       "      <td>82963.592845</td>\n",
       "      <td>75747.944748</td>\n",
       "    </tr>\n",
       "    <tr>\n",
       "      <th>43932908</th>\n",
       "      <td>345999128501141</td>\n",
       "      <td>1</td>\n",
       "      <td>0</td>\n",
       "      <td>164703.549846</td>\n",
       "      <td>82963.592845</td>\n",
       "      <td>75012.201701</td>\n",
       "    </tr>\n",
       "  </tbody>\n",
       "</table>\n",
       "</div>"
      ],
      "text/plain": [
       "                device_id  ref_type_id  source_id       pred_KNN  \\\n",
       "36601349   40621409780134            1          0  226857.222979   \n",
       "33917684  168103949904656            1          3  173044.526198   \n",
       "9402375   186034136943920            1          1      88.851558   \n",
       "13736755  295841792051458            1          1     432.827168   \n",
       "43932908  345999128501141            1          0  164703.549846   \n",
       "\n",
       "               pred_RF            st  \n",
       "36601349  82963.592845  75012.201701  \n",
       "33917684  82963.592845  81005.529793  \n",
       "9402375   82963.592845  75747.944748  \n",
       "13736755  82963.592845  75747.944748  \n",
       "43932908  82963.592845  75012.201701  "
      ]
     },
     "execution_count": 47,
     "metadata": {},
     "output_type": "execute_result"
    }
   ],
   "source": [
    "w4.head()"
   ]
  },
  {
   "cell_type": "code",
   "execution_count": 48,
   "metadata": {},
   "outputs": [
    {
     "data": {
      "text/html": [
       "<div>\n",
       "<style scoped>\n",
       "    .dataframe tbody tr th:only-of-type {\n",
       "        vertical-align: middle;\n",
       "    }\n",
       "\n",
       "    .dataframe tbody tr th {\n",
       "        vertical-align: top;\n",
       "    }\n",
       "\n",
       "    .dataframe thead th {\n",
       "        text-align: right;\n",
       "    }\n",
       "</style>\n",
       "<table border=\"1\" class=\"dataframe\">\n",
       "  <thead>\n",
       "    <tr style=\"text-align: right;\">\n",
       "      <th></th>\n",
       "      <th>device_id</th>\n",
       "      <th>ref_type_id</th>\n",
       "      <th>source_id</th>\n",
       "      <th>pred_KNN</th>\n",
       "      <th>pred_RF</th>\n",
       "      <th>st</th>\n",
       "    </tr>\n",
       "  </thead>\n",
       "  <tbody>\n",
       "    <tr>\n",
       "      <th>39675750</th>\n",
       "      <td>69039685746313</td>\n",
       "      <td>1</td>\n",
       "      <td>7</td>\n",
       "      <td>212658.597103</td>\n",
       "      <td>89392.758783</td>\n",
       "      <td>75890.993556</td>\n",
       "    </tr>\n",
       "    <tr>\n",
       "      <th>1528620</th>\n",
       "      <td>345999128501141</td>\n",
       "      <td>1</td>\n",
       "      <td>2</td>\n",
       "      <td>336762.048531</td>\n",
       "      <td>89392.758783</td>\n",
       "      <td>87800.256731</td>\n",
       "    </tr>\n",
       "    <tr>\n",
       "      <th>20706804</th>\n",
       "      <td>360710529886978</td>\n",
       "      <td>1</td>\n",
       "      <td>1</td>\n",
       "      <td>133087.256609</td>\n",
       "      <td>89392.758783</td>\n",
       "      <td>79290.162968</td>\n",
       "    </tr>\n",
       "    <tr>\n",
       "      <th>35163923</th>\n",
       "      <td>365882020742330</td>\n",
       "      <td>1</td>\n",
       "      <td>8</td>\n",
       "      <td>183027.763854</td>\n",
       "      <td>89392.758783</td>\n",
       "      <td>184289.399513</td>\n",
       "    </tr>\n",
       "    <tr>\n",
       "      <th>20794330</th>\n",
       "      <td>416301579449694</td>\n",
       "      <td>1</td>\n",
       "      <td>1</td>\n",
       "      <td>98969.446617</td>\n",
       "      <td>89392.758783</td>\n",
       "      <td>79290.162968</td>\n",
       "    </tr>\n",
       "  </tbody>\n",
       "</table>\n",
       "</div>"
      ],
      "text/plain": [
       "                device_id  ref_type_id  source_id       pred_KNN  \\\n",
       "39675750   69039685746313            1          7  212658.597103   \n",
       "1528620   345999128501141            1          2  336762.048531   \n",
       "20706804  360710529886978            1          1  133087.256609   \n",
       "35163923  365882020742330            1          8  183027.763854   \n",
       "20794330  416301579449694            1          1   98969.446617   \n",
       "\n",
       "               pred_RF             st  \n",
       "39675750  89392.758783   75890.993556  \n",
       "1528620   89392.758783   87800.256731  \n",
       "20706804  89392.758783   79290.162968  \n",
       "35163923  89392.758783  184289.399513  \n",
       "20794330  89392.758783   79290.162968  "
      ]
     },
     "execution_count": 48,
     "metadata": {},
     "output_type": "execute_result"
    }
   ],
   "source": [
    "w7.head()"
   ]
  },
  {
   "cell_type": "markdown",
   "metadata": {},
   "source": [
    "## Ahora voy a entrenar w4 y validar con w7 con XBBoost con las nuevas features"
   ]
  },
  {
   "cell_type": "code",
   "execution_count": 49,
   "metadata": {},
   "outputs": [],
   "source": [
    "X, y = w4.iloc[:,:-1],w4.iloc[:,-1]"
   ]
  },
  {
   "cell_type": "code",
   "execution_count": 50,
   "metadata": {},
   "outputs": [],
   "source": [
    "data_dmatrix = xgb.DMatrix(data=X,label=y)"
   ]
  },
  {
   "cell_type": "code",
   "execution_count": 51,
   "metadata": {},
   "outputs": [],
   "source": [
    "xg_reg = xgb.XGBRegressor(objective ='reg:linear', \n",
    "                colsample_bytree = 0.9, learning_rate = 0.80,\n",
    "                max_depth = 5, alpha = 10, n_estimators = 10)"
   ]
  },
  {
   "cell_type": "code",
   "execution_count": 52,
   "metadata": {},
   "outputs": [
    {
     "data": {
      "text/plain": [
       "XGBRegressor(alpha=10, base_score=0.5, booster='gbtree', colsample_bylevel=1,\n",
       "       colsample_bytree=0.9, gamma=0, learning_rate=0.8, max_delta_step=0,\n",
       "       max_depth=5, min_child_weight=1, missing=None, n_estimators=10,\n",
       "       n_jobs=1, nthread=None, objective='reg:linear', random_state=0,\n",
       "       reg_alpha=0, reg_lambda=1, scale_pos_weight=1, seed=None,\n",
       "       silent=True, subsample=1)"
      ]
     },
     "execution_count": 52,
     "metadata": {},
     "output_type": "execute_result"
    }
   ],
   "source": [
    "xg_reg.fit(X,y)"
   ]
  },
  {
   "cell_type": "code",
   "execution_count": 53,
   "metadata": {},
   "outputs": [],
   "source": [
    "preds = xg_reg.predict(w7.iloc[:,:-1])"
   ]
  },
  {
   "cell_type": "code",
   "execution_count": 54,
   "metadata": {},
   "outputs": [
    {
     "name": "stdout",
     "output_type": "stream",
     "text": [
      "RMSE: 7362.910028\n"
     ]
    }
   ],
   "source": [
    "rmse = np.sqrt(mean_squared_error(w7.iloc[:,-1], preds))\n",
    "print(\"RMSE: %f\" % (rmse))"
   ]
  },
  {
   "cell_type": "code",
   "execution_count": null,
   "metadata": {},
   "outputs": [],
   "source": []
  }
 ],
 "metadata": {
  "kernelspec": {
   "display_name": "Python 3",
   "language": "python",
   "name": "python3"
  },
  "language_info": {
   "codemirror_mode": {
    "name": "ipython",
    "version": 3
   },
   "file_extension": ".py",
   "mimetype": "text/x-python",
   "name": "python",
   "nbconvert_exporter": "python",
   "pygments_lexer": "ipython3",
   "version": "3.7.3"
  }
 },
 "nbformat": 4,
 "nbformat_minor": 2
}

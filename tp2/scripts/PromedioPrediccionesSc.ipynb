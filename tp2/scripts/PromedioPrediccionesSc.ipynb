{
 "cells": [
  {
   "cell_type": "code",
   "execution_count": 1,
   "metadata": {},
   "outputs": [],
   "source": [
    "import pandas as pd\n",
    "import numpy as np"
   ]
  },
  {
   "cell_type": "code",
   "execution_count": 2,
   "metadata": {},
   "outputs": [],
   "source": [
    "installs = pd.read_csv('../datos/installs.csv', dtype ={'device_language' : 'str', 'click_hash': object, 'wifi': object, 'trans_id': object})"
   ]
  },
  {
   "cell_type": "code",
   "execution_count": 3,
   "metadata": {},
   "outputs": [],
   "source": [
    "# No tiene sentido quedarse con el pais, porque es uno solo\n",
    "#No tiene sentido quedarse con la columna trans_id. El 98% de los valores son Null\n",
    "#No tiene sentido quedarse con click_hash, el 99% de los valors son null\n",
    "#No tiene sentido quedarse con event_uuid, el 78% de los valores son null\n",
    "#No tiene sentido quedarse con kind, el 78% de los valores son null\n",
    "#No tiene sentido quedarse con wifi, el 48% de los valores son null\n",
    "#No tiene sentido quedarse con device_brand. El 42% son null\n",
    "#No tiene sentido quedarse con la columna user_agent El 31% de los valores son Null\n",
    "#¿Tiene sentido quedarse con la columna session_user_agent? El 3% de los valores son Null\n",
    "# session_user_agent tiene el 3% de los valores null. Borro esas filas\n",
    "del installs['trans_id']\n",
    "del installs['device_countrycode']\n",
    "del installs['click_hash']\n",
    "del installs['event_uuid']\n",
    "del installs['kind']\n",
    "del installs['wifi']\n",
    "del installs['device_brand']\n",
    "del installs['user_agent']\n",
    "del installs['session_user_agent']\n",
    "\n",
    "##Borro las filas que tienen null en device_model y device_language. Juntas son el 5% de las filas en null\n",
    "installs = installs[pd.notnull(installs['device_model'])]\n",
    "installs = installs[pd.notnull(installs['device_language'])]"
   ]
  },
  {
   "cell_type": "code",
   "execution_count": 4,
   "metadata": {},
   "outputs": [],
   "source": [
    "installs['created'] = pd.to_datetime(installs['created'], errors = 'coerce')\n",
    "installs = installs.sort_values(by = ['ref_hash', 'created'])"
   ]
  },
  {
   "cell_type": "code",
   "execution_count": 5,
   "metadata": {},
   "outputs": [],
   "source": [
    "events = pd.read_csv('../datos/events.csv',\n",
    "                     dtype={\n",
    "                         'device_countrycode': 'category', \n",
    "                         'device_city': 'category',\n",
    "                         'ref_type': 'int64',\n",
    "                         'application_id': 'int64',\n",
    "                         'device_os_version': 'category',\n",
    "                         'device_brand': 'category',\n",
    "                         'device_model': 'float64',\n",
    "                         'session_user_agent': 'category',\n",
    "                         'trans_id': 'category',\n",
    "                         'user_agent': 'category',\n",
    "                         'carrier': 'category',\n",
    "                         'device_os': 'category',\n",
    "                         'device_os_version': 'category',\n",
    "                         'device_language': 'category',\n",
    "                         'connection_type': 'category',\n",
    "                         'wifi': 'bool'\n",
    "                     })"
   ]
  },
  {
   "cell_type": "code",
   "execution_count": 6,
   "metadata": {},
   "outputs": [],
   "source": [
    "del events['attributed']\n",
    "del events['device_countrycode'] #Borrada porque hay un solo país\n",
    "del events['trans_id'] #Borrada por tener muy pocos valores (37000/7000000)\n",
    "del events['event_uuid'] #Borrada por tener todos los valores distintos\n",
    "del events['device_os_version'] #Borrado por tener 70% de los valores nulos.\n",
    "del events['device_brand'] #Borrado por tener 67% de los valores nulos\n",
    "del events['device_city'] #Borrado por tener 76% de los valores nulos\n",
    "del events['user_agent'] #Borrado por tener 57% de los valores nulos\n",
    "del events['carrier'] #Borrado por tener 75% de los valores nulos\n",
    "del events['device_os'] #Borrado por tener 76% de los valores nulos\n",
    "del events['connection_type'] #Borrado por tener 77% de los valores nulos\n",
    "del events['session_user_agent']\n",
    "#------------------------------------------------------------------\n",
    "events = events[pd.notnull(events['kind'])] #Borrados las filas nulas (0,5%)\n",
    "#------------------------------------------------------------------\n",
    "events = events[pd.notnull(events['device_model'])]"
   ]
  },
  {
   "cell_type": "code",
   "execution_count": 7,
   "metadata": {},
   "outputs": [
    {
     "data": {
      "text/plain": [
       "348229"
      ]
     },
     "execution_count": 7,
     "metadata": {},
     "output_type": "execute_result"
    }
   ],
   "source": [
    "events['ref_hash'].value_counts().count()"
   ]
  },
  {
   "cell_type": "code",
   "execution_count": 8,
   "metadata": {},
   "outputs": [
    {
     "data": {
      "text/plain": [
       "373799"
      ]
     },
     "execution_count": 8,
     "metadata": {},
     "output_type": "execute_result"
    }
   ],
   "source": [
    "installs['ref_hash'].value_counts().count()"
   ]
  },
  {
   "cell_type": "code",
   "execution_count": 9,
   "metadata": {},
   "outputs": [
    {
     "data": {
      "text/html": [
       "<div>\n",
       "<style scoped>\n",
       "    .dataframe tbody tr th:only-of-type {\n",
       "        vertical-align: middle;\n",
       "    }\n",
       "\n",
       "    .dataframe tbody tr th {\n",
       "        vertical-align: top;\n",
       "    }\n",
       "\n",
       "    .dataframe thead th {\n",
       "        text-align: right;\n",
       "    }\n",
       "</style>\n",
       "<table border=\"1\" class=\"dataframe\">\n",
       "  <thead>\n",
       "    <tr style=\"text-align: right;\">\n",
       "      <th></th>\n",
       "      <th>created</th>\n",
       "      <th>application_id</th>\n",
       "      <th>ref_type</th>\n",
       "      <th>ref_hash</th>\n",
       "      <th>attributed</th>\n",
       "      <th>implicit</th>\n",
       "      <th>device_model</th>\n",
       "      <th>ip_address</th>\n",
       "      <th>device_language</th>\n",
       "    </tr>\n",
       "  </thead>\n",
       "  <tbody>\n",
       "    <tr>\n",
       "      <th>46742</th>\n",
       "      <td>2019-04-21 19:17:47.657</td>\n",
       "      <td>77</td>\n",
       "      <td>1891515180541284343</td>\n",
       "      <td>40621409780134</td>\n",
       "      <td>False</td>\n",
       "      <td>False</td>\n",
       "      <td>2.019322e+18</td>\n",
       "      <td>990380024993756535</td>\n",
       "      <td>3.3013777759776993e+18</td>\n",
       "    </tr>\n",
       "    <tr>\n",
       "      <th>398921</th>\n",
       "      <td>2019-04-18 21:11:50.326</td>\n",
       "      <td>121</td>\n",
       "      <td>1891515180541284343</td>\n",
       "      <td>41863526108385</td>\n",
       "      <td>False</td>\n",
       "      <td>True</td>\n",
       "      <td>1.658417e+18</td>\n",
       "      <td>7530145772806895848</td>\n",
       "      <td>6.977049253562486e+18</td>\n",
       "    </tr>\n",
       "    <tr>\n",
       "      <th>249204</th>\n",
       "      <td>2019-04-18 21:11:51.966</td>\n",
       "      <td>121</td>\n",
       "      <td>1891515180541284343</td>\n",
       "      <td>41863526108385</td>\n",
       "      <td>False</td>\n",
       "      <td>False</td>\n",
       "      <td>1.658417e+18</td>\n",
       "      <td>7530145772806895848</td>\n",
       "      <td>6.977049253562486e+18</td>\n",
       "    </tr>\n",
       "    <tr>\n",
       "      <th>112218</th>\n",
       "      <td>2019-04-18 21:17:11.946</td>\n",
       "      <td>65</td>\n",
       "      <td>1891515180541284343</td>\n",
       "      <td>41863526108385</td>\n",
       "      <td>False</td>\n",
       "      <td>False</td>\n",
       "      <td>1.658417e+18</td>\n",
       "      <td>7530145772806895848</td>\n",
       "      <td>6.977049253562486e+18</td>\n",
       "    </tr>\n",
       "    <tr>\n",
       "      <th>112200</th>\n",
       "      <td>2019-04-18 21:17:16.531</td>\n",
       "      <td>65</td>\n",
       "      <td>1891515180541284343</td>\n",
       "      <td>41863526108385</td>\n",
       "      <td>False</td>\n",
       "      <td>True</td>\n",
       "      <td>1.658417e+18</td>\n",
       "      <td>7530145772806895848</td>\n",
       "      <td>6.977049253562486e+18</td>\n",
       "    </tr>\n",
       "  </tbody>\n",
       "</table>\n",
       "</div>"
      ],
      "text/plain": [
       "                       created  application_id             ref_type  \\\n",
       "46742  2019-04-21 19:17:47.657              77  1891515180541284343   \n",
       "398921 2019-04-18 21:11:50.326             121  1891515180541284343   \n",
       "249204 2019-04-18 21:11:51.966             121  1891515180541284343   \n",
       "112218 2019-04-18 21:17:11.946              65  1891515180541284343   \n",
       "112200 2019-04-18 21:17:16.531              65  1891515180541284343   \n",
       "\n",
       "              ref_hash  attributed  implicit  device_model  \\\n",
       "46742   40621409780134       False     False  2.019322e+18   \n",
       "398921  41863526108385       False      True  1.658417e+18   \n",
       "249204  41863526108385       False     False  1.658417e+18   \n",
       "112218  41863526108385       False     False  1.658417e+18   \n",
       "112200  41863526108385       False      True  1.658417e+18   \n",
       "\n",
       "                 ip_address         device_language  \n",
       "46742    990380024993756535  3.3013777759776993e+18  \n",
       "398921  7530145772806895848   6.977049253562486e+18  \n",
       "249204  7530145772806895848   6.977049253562486e+18  \n",
       "112218  7530145772806895848   6.977049253562486e+18  \n",
       "112200  7530145772806895848   6.977049253562486e+18  "
      ]
     },
     "execution_count": 9,
     "metadata": {},
     "output_type": "execute_result"
    }
   ],
   "source": [
    "installs.head()"
   ]
  },
  {
   "cell_type": "code",
   "execution_count": 10,
   "metadata": {},
   "outputs": [],
   "source": [
    "eventos = events.groupby('ref_hash').agg({'wifi' : 'mean', 'application_id' : 'count', 'kind' : 'nunique', 'event_id' : 'count'}).reset_index()"
   ]
  },
  {
   "cell_type": "code",
   "execution_count": 11,
   "metadata": {},
   "outputs": [],
   "source": [
    "events['mode_model'] = events.groupby('ref_hash')['device_model'].agg(lambda x: x.value_counts().index[0])\n",
    "events['mode_lang'] = events.groupby('ref_hash')['device_language'].agg(lambda x: x.value_counts().index[0])"
   ]
  },
  {
   "cell_type": "code",
   "execution_count": 12,
   "metadata": {},
   "outputs": [],
   "source": [
    "installs['total_apps'] = installs.groupby('ref_hash')['application_id'].transform('count')\n",
    "installs['%implicit'] = installs.groupby('ref_hash')['implicit'].transform('mean')\n",
    "installs['%attributed'] = installs.groupby('ref_hash')['attributed'].transform('mean')\n",
    "installs['most_freq_lang'] = installs.groupby('ref_hash')['device_language'].transform(lambda x: x.mode().iloc[0])\n",
    "installs['most_freq_app'] = installs.groupby('ref_hash')['application_id'].transform(lambda x: x.mode().iloc[0])\n",
    "installs['model'] = installs.groupby('ref_hash')['device_model'].transform(lambda x: x.mode().iloc[0])\n",
    "installs['ip'] = installs.groupby('ref_hash')['ip_address'].transform(lambda x: x.mode().iloc[0])"
   ]
  },
  {
   "cell_type": "code",
   "execution_count": 13,
   "metadata": {},
   "outputs": [],
   "source": [
    "installs['events_%wifi'] = installs['ref_hash'].map(eventos.set_index('ref_hash')['wifi'])\n",
    "installs['event_apps'] = installs['ref_hash'].map(eventos.set_index('ref_hash')['application_id'])\n",
    "installs['distinct_events'] = installs['ref_hash'].map(eventos.set_index('ref_hash')['kind'])\n",
    "installs['total_events'] = installs['ref_hash'].map(eventos.set_index('ref_hash')['event_id'])"
   ]
  },
  {
   "cell_type": "code",
   "execution_count": 14,
   "metadata": {},
   "outputs": [],
   "source": [
    "del installs['attributed']\n",
    "del installs['implicit']\n",
    "del installs['application_id']\n",
    "del installs['device_model']\n",
    "del installs['ip_address']\n",
    "del installs['device_language']"
   ]
  },
  {
   "cell_type": "code",
   "execution_count": 15,
   "metadata": {
    "scrolled": false
   },
   "outputs": [],
   "source": [
    "installs.fillna(0, inplace=True)"
   ]
  },
  {
   "cell_type": "code",
   "execution_count": 16,
   "metadata": {},
   "outputs": [],
   "source": [
    "installs = installs.sort_values(by = ['ref_hash', 'created'])"
   ]
  },
  {
   "cell_type": "code",
   "execution_count": 17,
   "metadata": {},
   "outputs": [],
   "source": [
    "installs['most_freq_lang'] = installs['most_freq_lang'].astype('float64')"
   ]
  },
  {
   "cell_type": "code",
   "execution_count": 18,
   "metadata": {},
   "outputs": [],
   "source": [
    "installs1 = installs[(installs['created'].dt.day < 21)]\n",
    "installs2 = installs[(installs['created'].dt.day > 18) & (installs['created'].dt.day < 22)]\n",
    "installs3 = installs[(installs['created'].dt.day > 19) & (installs['created'].dt.day < 23)]\n",
    "installs4 = installs[(installs['created'].dt.day > 20) & (installs['created'].dt.day < 24)]\n",
    "installs5 = installs[(installs['created'].dt.day > 21) & (installs['created'].dt.day < 25)]\n",
    "installsCheck1 = installs[(installs['created'].dt.day > 20) & (installs['created'].dt.day < 23)]\n",
    "installsCheck2 = installs[(installs['created'].dt.day > 21) & (installs['created'].dt.day < 24)]\n",
    "installsCheck3 = installs[(installs['created'].dt.day > 22) & (installs['created'].dt.day < 25)]\n",
    "installsCheck4 = installs[(installs['created'].dt.day > 23) & (installs['created'].dt.day < 26)]\n",
    "installsCheck5 = installs[(installs['created'].dt.day > 24) & (installs['created'].dt.day < 27)]"
   ]
  },
  {
   "cell_type": "code",
   "execution_count": 19,
   "metadata": {},
   "outputs": [
    {
     "name": "stderr",
     "output_type": "stream",
     "text": [
      "/home/gabriel/workspace/7506-1c2019/env/lib/python3.5/site-packages/ipykernel_launcher.py:1: SettingWithCopyWarning: \n",
      "A value is trying to be set on a copy of a slice from a DataFrame.\n",
      "Try using .loc[row_indexer,col_indexer] = value instead\n",
      "\n",
      "See the caveats in the documentation: http://pandas.pydata.org/pandas-docs/stable/indexing.html#indexing-view-versus-copy\n",
      "  \"\"\"Entry point for launching an IPython kernel.\n",
      "/home/gabriel/workspace/7506-1c2019/env/lib/python3.5/site-packages/ipykernel_launcher.py:2: SettingWithCopyWarning: \n",
      "A value is trying to be set on a copy of a slice from a DataFrame.\n",
      "Try using .loc[row_indexer,col_indexer] = value instead\n",
      "\n",
      "See the caveats in the documentation: http://pandas.pydata.org/pandas-docs/stable/indexing.html#indexing-view-versus-copy\n",
      "  \n",
      "/home/gabriel/workspace/7506-1c2019/env/lib/python3.5/site-packages/ipykernel_launcher.py:3: SettingWithCopyWarning: \n",
      "A value is trying to be set on a copy of a slice from a DataFrame.\n",
      "Try using .loc[row_indexer,col_indexer] = value instead\n",
      "\n",
      "See the caveats in the documentation: http://pandas.pydata.org/pandas-docs/stable/indexing.html#indexing-view-versus-copy\n",
      "  This is separate from the ipykernel package so we can avoid doing imports until\n",
      "/home/gabriel/workspace/7506-1c2019/env/lib/python3.5/site-packages/ipykernel_launcher.py:4: SettingWithCopyWarning: \n",
      "A value is trying to be set on a copy of a slice from a DataFrame.\n",
      "Try using .loc[row_indexer,col_indexer] = value instead\n",
      "\n",
      "See the caveats in the documentation: http://pandas.pydata.org/pandas-docs/stable/indexing.html#indexing-view-versus-copy\n",
      "  after removing the cwd from sys.path.\n",
      "/home/gabriel/workspace/7506-1c2019/env/lib/python3.5/site-packages/ipykernel_launcher.py:5: SettingWithCopyWarning: \n",
      "A value is trying to be set on a copy of a slice from a DataFrame.\n",
      "Try using .loc[row_indexer,col_indexer] = value instead\n",
      "\n",
      "See the caveats in the documentation: http://pandas.pydata.org/pandas-docs/stable/indexing.html#indexing-view-versus-copy\n",
      "  \"\"\"\n",
      "/home/gabriel/workspace/7506-1c2019/env/lib/python3.5/site-packages/ipykernel_launcher.py:6: SettingWithCopyWarning: \n",
      "A value is trying to be set on a copy of a slice from a DataFrame.\n",
      "Try using .loc[row_indexer,col_indexer] = value instead\n",
      "\n",
      "See the caveats in the documentation: http://pandas.pydata.org/pandas-docs/stable/indexing.html#indexing-view-versus-copy\n",
      "  \n",
      "/home/gabriel/workspace/7506-1c2019/env/lib/python3.5/site-packages/ipykernel_launcher.py:7: SettingWithCopyWarning: \n",
      "A value is trying to be set on a copy of a slice from a DataFrame.\n",
      "Try using .loc[row_indexer,col_indexer] = value instead\n",
      "\n",
      "See the caveats in the documentation: http://pandas.pydata.org/pandas-docs/stable/indexing.html#indexing-view-versus-copy\n",
      "  import sys\n",
      "/home/gabriel/workspace/7506-1c2019/env/lib/python3.5/site-packages/ipykernel_launcher.py:8: SettingWithCopyWarning: \n",
      "A value is trying to be set on a copy of a slice from a DataFrame.\n",
      "Try using .loc[row_indexer,col_indexer] = value instead\n",
      "\n",
      "See the caveats in the documentation: http://pandas.pydata.org/pandas-docs/stable/indexing.html#indexing-view-versus-copy\n",
      "  \n",
      "/home/gabriel/workspace/7506-1c2019/env/lib/python3.5/site-packages/ipykernel_launcher.py:9: SettingWithCopyWarning: \n",
      "A value is trying to be set on a copy of a slice from a DataFrame.\n",
      "Try using .loc[row_indexer,col_indexer] = value instead\n",
      "\n",
      "See the caveats in the documentation: http://pandas.pydata.org/pandas-docs/stable/indexing.html#indexing-view-versus-copy\n",
      "  if __name__ == '__main__':\n",
      "/home/gabriel/workspace/7506-1c2019/env/lib/python3.5/site-packages/ipykernel_launcher.py:10: SettingWithCopyWarning: \n",
      "A value is trying to be set on a copy of a slice from a DataFrame.\n",
      "Try using .loc[row_indexer,col_indexer] = value instead\n",
      "\n",
      "See the caveats in the documentation: http://pandas.pydata.org/pandas-docs/stable/indexing.html#indexing-view-versus-copy\n",
      "  # Remove the CWD from sys.path while we load stuff.\n"
     ]
    }
   ],
   "source": [
    "installs1['sc'] = (installs1['created'] - pd.to_datetime('2019-04-18'))/np.timedelta64(1,'s')\n",
    "installs2['sc'] = (installs2['created'] - pd.to_datetime('2019-04-19'))/np.timedelta64(1,'s')\n",
    "installs3['sc'] = (installs3['created'] - pd.to_datetime('2019-04-20'))/np.timedelta64(1,'s')\n",
    "installs4['sc'] = (installs4['created'] - pd.to_datetime('2019-04-21'))/np.timedelta64(1,'s')\n",
    "installs5['sc'] = (installs5['created'] - pd.to_datetime('2019-04-22'))/np.timedelta64(1,'s')\n",
    "installsCheck1['sc'] = (installsCheck1['created'] - pd.to_datetime('2019-04-21'))/np.timedelta64(1,'s')\n",
    "installsCheck2['sc'] = (installsCheck2['created'] - pd.to_datetime('2019-04-22'))/np.timedelta64(1,'s')\n",
    "installsCheck3['sc'] = (installsCheck3['created'] - pd.to_datetime('2019-04-23'))/np.timedelta64(1,'s')\n",
    "installsCheck4['sc'] = (installsCheck4['created'] - pd.to_datetime('2019-04-24'))/np.timedelta64(1,'s')\n",
    "installsCheck5['sc'] = (installsCheck5['created'] - pd.to_datetime('2019-04-25'))/np.timedelta64(1,'s')"
   ]
  },
  {
   "cell_type": "code",
   "execution_count": 20,
   "metadata": {},
   "outputs": [],
   "source": [
    "installs1 = installs1.drop_duplicates('ref_hash', keep = 'first')\n",
    "installs2 = installs2.drop_duplicates('ref_hash', keep = 'first')\n",
    "installs3 = installs3.drop_duplicates('ref_hash', keep = 'first')\n",
    "installs4 = installs4.drop_duplicates('ref_hash', keep = 'first')\n",
    "installs5 = installs5.drop_duplicates('ref_hash', keep = 'first')\n",
    "installsCheck1 = installsCheck1.drop_duplicates('ref_hash', keep = 'first')\n",
    "installsCheck2 = installsCheck2.drop_duplicates('ref_hash', keep = 'first')\n",
    "installsCheck3 = installsCheck3.drop_duplicates('ref_hash', keep = 'first')\n",
    "installsCheck4 = installsCheck4.drop_duplicates('ref_hash', keep = 'first')\n",
    "installsCheck5 = installsCheck5.drop_duplicates('ref_hash', keep = 'first')"
   ]
  },
  {
   "cell_type": "code",
   "execution_count": 21,
   "metadata": {},
   "outputs": [],
   "source": [
    "del installs1['created']\n",
    "del installs2['created']\n",
    "del installs3['created']\n",
    "del installs4['created']\n",
    "del installs5['created']\n",
    "del installsCheck1['created']\n",
    "del installsCheck2['created']\n",
    "del installsCheck3['created']\n",
    "del installsCheck4['created']\n",
    "del installsCheck5['created']"
   ]
  },
  {
   "cell_type": "markdown",
   "metadata": {},
   "source": [
    "# Algoritmos"
   ]
  },
  {
   "cell_type": "markdown",
   "metadata": {},
   "source": [
    "### XGBoost"
   ]
  },
  {
   "cell_type": "code",
   "execution_count": 22,
   "metadata": {},
   "outputs": [],
   "source": [
    "import xgboost as xgb\n",
    "from sklearn.metrics import mean_squared_error"
   ]
  },
  {
   "cell_type": "markdown",
   "metadata": {},
   "source": [
    "#### Ventana 1"
   ]
  },
  {
   "cell_type": "code",
   "execution_count": 23,
   "metadata": {},
   "outputs": [
    {
     "name": "stderr",
     "output_type": "stream",
     "text": [
      "/home/gabriel/workspace/7506-1c2019/env/lib/python3.5/site-packages/xgboost/core.py:587: FutureWarning: Series.base is deprecated and will be removed in a future version\n",
      "  if getattr(data, 'base', None) is not None and \\\n",
      "/home/gabriel/workspace/7506-1c2019/env/lib/python3.5/site-packages/xgboost/core.py:588: FutureWarning: Series.base is deprecated and will be removed in a future version\n",
      "  data.base is not None and isinstance(data, np.ndarray) \\\n"
     ]
    },
    {
     "name": "stdout",
     "output_type": "stream",
     "text": [
      "RMSE: 52221.659961\n"
     ]
    }
   ],
   "source": [
    "X, y = installs1.iloc[:,:-1], installs1.iloc[:,-1]\n",
    "data_dmatrix = xgb.DMatrix(data=X,label=y)\n",
    "xg_reg = xgb.XGBRegressor(objective ='reg:squarederror', \n",
    "                colsample_bytree = 0.3, learning_rate = 0.1,\n",
    "                max_depth = 5, alpha =10, n_estimators = 11)\n",
    "xg_reg.fit(X, y)\n",
    "preds = xg_reg.predict(installsCheck1.iloc[:,:-1])\n",
    "rmse = np.sqrt(mean_squared_error(installsCheck1.iloc[:,-1], preds))\n",
    "print(\"RMSE: %f\" % (rmse))"
   ]
  },
  {
   "cell_type": "markdown",
   "metadata": {},
   "source": [
    "#### Ventana 2"
   ]
  },
  {
   "cell_type": "code",
   "execution_count": 24,
   "metadata": {},
   "outputs": [
    {
     "name": "stderr",
     "output_type": "stream",
     "text": [
      "/home/gabriel/workspace/7506-1c2019/env/lib/python3.5/site-packages/xgboost/core.py:587: FutureWarning: Series.base is deprecated and will be removed in a future version\n",
      "  if getattr(data, 'base', None) is not None and \\\n",
      "/home/gabriel/workspace/7506-1c2019/env/lib/python3.5/site-packages/xgboost/core.py:588: FutureWarning: Series.base is deprecated and will be removed in a future version\n",
      "  data.base is not None and isinstance(data, np.ndarray) \\\n"
     ]
    },
    {
     "name": "stdout",
     "output_type": "stream",
     "text": [
      "RMSE: 52146.316026\n"
     ]
    }
   ],
   "source": [
    "X, y = installs2.iloc[:,:-1], installs2.iloc[:,-1]\n",
    "data_dmatrix = xgb.DMatrix(data=X,label=y)\n",
    "xg_reg.fit(X, y)\n",
    "preds = xg_reg.predict(installsCheck2.iloc[:,:-1])\n",
    "rmse = np.sqrt(mean_squared_error(installsCheck2.iloc[:,-1], preds))\n",
    "print(\"RMSE: %f\" % (rmse))"
   ]
  },
  {
   "cell_type": "markdown",
   "metadata": {},
   "source": [
    "#### Ventana 3"
   ]
  },
  {
   "cell_type": "code",
   "execution_count": 25,
   "metadata": {},
   "outputs": [
    {
     "name": "stderr",
     "output_type": "stream",
     "text": [
      "/home/gabriel/workspace/7506-1c2019/env/lib/python3.5/site-packages/xgboost/core.py:587: FutureWarning: Series.base is deprecated and will be removed in a future version\n",
      "  if getattr(data, 'base', None) is not None and \\\n",
      "/home/gabriel/workspace/7506-1c2019/env/lib/python3.5/site-packages/xgboost/core.py:588: FutureWarning: Series.base is deprecated and will be removed in a future version\n",
      "  data.base is not None and isinstance(data, np.ndarray) \\\n"
     ]
    },
    {
     "name": "stdout",
     "output_type": "stream",
     "text": [
      "RMSE: 52157.097772\n"
     ]
    }
   ],
   "source": [
    "X, y = installs3.iloc[:,:-1], installs3.iloc[:,-1]\n",
    "data_dmatrix = xgb.DMatrix(data=X,label=y)\n",
    "xg_reg.fit(X, y)\n",
    "preds = xg_reg.predict(installsCheck3.iloc[:,:-1])\n",
    "rmse = np.sqrt(mean_squared_error(installsCheck3.iloc[:,-1], preds))\n",
    "print(\"RMSE: %f\" % (rmse))"
   ]
  },
  {
   "cell_type": "markdown",
   "metadata": {},
   "source": [
    "#### Ventana 4"
   ]
  },
  {
   "cell_type": "code",
   "execution_count": 26,
   "metadata": {},
   "outputs": [
    {
     "name": "stderr",
     "output_type": "stream",
     "text": [
      "/home/gabriel/workspace/7506-1c2019/env/lib/python3.5/site-packages/xgboost/core.py:587: FutureWarning: Series.base is deprecated and will be removed in a future version\n",
      "  if getattr(data, 'base', None) is not None and \\\n",
      "/home/gabriel/workspace/7506-1c2019/env/lib/python3.5/site-packages/xgboost/core.py:588: FutureWarning: Series.base is deprecated and will be removed in a future version\n",
      "  data.base is not None and isinstance(data, np.ndarray) \\\n"
     ]
    },
    {
     "name": "stdout",
     "output_type": "stream",
     "text": [
      "RMSE: 53224.249049\n"
     ]
    }
   ],
   "source": [
    "X, y = installs4.iloc[:,:-1], installs4.iloc[:,-1]\n",
    "data_dmatrix = xgb.DMatrix(data=X,label=y)\n",
    "xg_reg.fit(X, y)\n",
    "preds = xg_reg.predict(installsCheck4.iloc[:,:-1])\n",
    "rmse = np.sqrt(mean_squared_error(installsCheck4.iloc[:,-1], preds))\n",
    "print(\"RMSE: %f\" % (rmse))"
   ]
  },
  {
   "cell_type": "markdown",
   "metadata": {},
   "source": [
    "#### Ventana 5"
   ]
  },
  {
   "cell_type": "code",
   "execution_count": 27,
   "metadata": {},
   "outputs": [
    {
     "name": "stderr",
     "output_type": "stream",
     "text": [
      "/home/gabriel/workspace/7506-1c2019/env/lib/python3.5/site-packages/xgboost/core.py:587: FutureWarning: Series.base is deprecated and will be removed in a future version\n",
      "  if getattr(data, 'base', None) is not None and \\\n",
      "/home/gabriel/workspace/7506-1c2019/env/lib/python3.5/site-packages/xgboost/core.py:588: FutureWarning: Series.base is deprecated and will be removed in a future version\n",
      "  data.base is not None and isinstance(data, np.ndarray) \\\n"
     ]
    },
    {
     "name": "stdout",
     "output_type": "stream",
     "text": [
      "RMSE: 51092.387332\n"
     ]
    }
   ],
   "source": [
    "X, y = installs5.iloc[:,:-1], installs5.iloc[:,-1]\n",
    "data_dmatrix = xgb.DMatrix(data=X,label=y)\n",
    "xg_reg.fit(X, y)\n",
    "preds = xg_reg.predict(installsCheck5.iloc[:,:-1])\n",
    "rmse = np.sqrt(mean_squared_error(installsCheck5.iloc[:,-1], preds))\n",
    "print(\"RMSE: %f\" % (rmse))"
   ]
  },
  {
   "cell_type": "code",
   "execution_count": 53,
   "metadata": {},
   "outputs": [
    {
     "data": {
      "text/plain": [
       "['modelos/sc/xg_reg.pkl']"
      ]
     },
     "execution_count": 53,
     "metadata": {},
     "output_type": "execute_result"
    }
   ],
   "source": [
    "from joblib import dump \n",
    "import os\n",
    "directory = 'modelos/sc'\n",
    "if not os.path.exists(directory):\n",
    "    os.makedirs(directory)\n",
    "# Guardo modelo como un pickle file \n",
    "dump(xg_reg, 'modelos/sc/xg_reg.pkl')"
   ]
  },
  {
   "cell_type": "markdown",
   "metadata": {},
   "source": [
    "#### Target"
   ]
  },
  {
   "cell_type": "code",
   "execution_count": 28,
   "metadata": {},
   "outputs": [],
   "source": [
    "target = pd.read_csv('../datos/target_competencia_ids.csv')"
   ]
  },
  {
   "cell_type": "code",
   "execution_count": 29,
   "metadata": {},
   "outputs": [],
   "source": [
    "targets_sc = target[target['ref_hash'].str.contains('_sc')]\n",
    "targets_st = target[target['ref_hash'].str.contains('_st')]"
   ]
  },
  {
   "cell_type": "code",
   "execution_count": 30,
   "metadata": {},
   "outputs": [
    {
     "name": "stderr",
     "output_type": "stream",
     "text": [
      "/home/gabriel/workspace/7506-1c2019/env/lib/python3.5/site-packages/ipykernel_launcher.py:1: SettingWithCopyWarning: \n",
      "A value is trying to be set on a copy of a slice from a DataFrame.\n",
      "Try using .loc[row_indexer,col_indexer] = value instead\n",
      "\n",
      "See the caveats in the documentation: http://pandas.pydata.org/pandas-docs/stable/indexing.html#indexing-view-versus-copy\n",
      "  \"\"\"Entry point for launching an IPython kernel.\n",
      "/home/gabriel/workspace/7506-1c2019/env/lib/python3.5/site-packages/ipykernel_launcher.py:2: SettingWithCopyWarning: \n",
      "A value is trying to be set on a copy of a slice from a DataFrame.\n",
      "Try using .loc[row_indexer,col_indexer] = value instead\n",
      "\n",
      "See the caveats in the documentation: http://pandas.pydata.org/pandas-docs/stable/indexing.html#indexing-view-versus-copy\n",
      "  \n"
     ]
    }
   ],
   "source": [
    "targets_sc['ref_hash'] = targets_sc['ref_hash'].map(lambda x: str(x)[:-3])\n",
    "targets_sc['ref_hash'] = targets_sc['ref_hash'].astype(np.int64)"
   ]
  },
  {
   "cell_type": "code",
   "execution_count": 31,
   "metadata": {},
   "outputs": [],
   "source": [
    "installs_sin_dup = installs.drop_duplicates('ref_hash')"
   ]
  },
  {
   "cell_type": "code",
   "execution_count": 32,
   "metadata": {},
   "outputs": [],
   "source": [
    "targets_sc_with_installs = targets_sc.merge(installs_sin_dup, how = 'left', on = 'ref_hash')"
   ]
  },
  {
   "cell_type": "code",
   "execution_count": 33,
   "metadata": {},
   "outputs": [],
   "source": [
    "events.drop_duplicates('ref_hash', inplace= True)"
   ]
  },
  {
   "cell_type": "code",
   "execution_count": 34,
   "metadata": {},
   "outputs": [
    {
     "name": "stderr",
     "output_type": "stream",
     "text": [
      "/home/gabriel/workspace/7506-1c2019/env/lib/python3.5/site-packages/ipykernel_launcher.py:2: SettingWithCopyWarning: \n",
      "A value is trying to be set on a copy of a slice from a DataFrame.\n",
      "Try using .loc[row_indexer,col_indexer] = value instead\n",
      "\n",
      "See the caveats in the documentation: http://pandas.pydata.org/pandas-docs/stable/indexing.html#indexing-view-versus-copy\n",
      "  \n",
      "/home/gabriel/workspace/7506-1c2019/env/lib/python3.5/site-packages/ipykernel_launcher.py:3: SettingWithCopyWarning: \n",
      "A value is trying to be set on a copy of a slice from a DataFrame.\n",
      "Try using .loc[row_indexer,col_indexer] = value instead\n",
      "\n",
      "See the caveats in the documentation: http://pandas.pydata.org/pandas-docs/stable/indexing.html#indexing-view-versus-copy\n",
      "  This is separate from the ipykernel package so we can avoid doing imports until\n",
      "/home/gabriel/workspace/7506-1c2019/env/lib/python3.5/site-packages/ipykernel_launcher.py:4: SettingWithCopyWarning: \n",
      "A value is trying to be set on a copy of a slice from a DataFrame.\n",
      "Try using .loc[row_indexer,col_indexer] = value instead\n",
      "\n",
      "See the caveats in the documentation: http://pandas.pydata.org/pandas-docs/stable/indexing.html#indexing-view-versus-copy\n",
      "  after removing the cwd from sys.path.\n",
      "/home/gabriel/workspace/7506-1c2019/env/lib/python3.5/site-packages/ipykernel_launcher.py:5: SettingWithCopyWarning: \n",
      "A value is trying to be set on a copy of a slice from a DataFrame.\n",
      "Try using .loc[row_indexer,col_indexer] = value instead\n",
      "\n",
      "See the caveats in the documentation: http://pandas.pydata.org/pandas-docs/stable/indexing.html#indexing-view-versus-copy\n",
      "  \"\"\"\n",
      "/home/gabriel/workspace/7506-1c2019/env/lib/python3.5/site-packages/ipykernel_launcher.py:6: SettingWithCopyWarning: \n",
      "A value is trying to be set on a copy of a slice from a DataFrame.\n",
      "Try using .loc[row_indexer,col_indexer] = value instead\n",
      "\n",
      "See the caveats in the documentation: http://pandas.pydata.org/pandas-docs/stable/indexing.html#indexing-view-versus-copy\n",
      "  \n",
      "/home/gabriel/workspace/7506-1c2019/env/lib/python3.5/site-packages/ipykernel_launcher.py:7: SettingWithCopyWarning: \n",
      "A value is trying to be set on a copy of a slice from a DataFrame.\n",
      "Try using .loc[row_indexer,col_indexer] = value instead\n",
      "\n",
      "See the caveats in the documentation: http://pandas.pydata.org/pandas-docs/stable/indexing.html#indexing-view-versus-copy\n",
      "  import sys\n",
      "/home/gabriel/workspace/7506-1c2019/env/lib/python3.5/site-packages/ipykernel_launcher.py:8: SettingWithCopyWarning: \n",
      "A value is trying to be set on a copy of a slice from a DataFrame.\n",
      "Try using .loc[row_indexer,col_indexer] = value instead\n",
      "\n",
      "See the caveats in the documentation: http://pandas.pydata.org/pandas-docs/stable/indexing.html#indexing-view-versus-copy\n",
      "  \n",
      "/home/gabriel/workspace/7506-1c2019/env/lib/python3.5/site-packages/ipykernel_launcher.py:9: SettingWithCopyWarning: \n",
      "A value is trying to be set on a copy of a slice from a DataFrame.\n",
      "Try using .loc[row_indexer,col_indexer] = value instead\n",
      "\n",
      "See the caveats in the documentation: http://pandas.pydata.org/pandas-docs/stable/indexing.html#indexing-view-versus-copy\n",
      "  if __name__ == '__main__':\n",
      "/home/gabriel/workspace/7506-1c2019/env/lib/python3.5/site-packages/ipykernel_launcher.py:10: SettingWithCopyWarning: \n",
      "A value is trying to be set on a copy of a slice from a DataFrame.\n",
      "Try using .loc[row_indexer,col_indexer] = value instead\n",
      "\n",
      "See the caveats in the documentation: http://pandas.pydata.org/pandas-docs/stable/indexing.html#indexing-view-versus-copy\n",
      "  # Remove the CWD from sys.path while we load stuff.\n"
     ]
    }
   ],
   "source": [
    "nulls = targets_sc_with_installs[targets_sc_with_installs['created'].isnull()]\n",
    "nulls['ref_type'] = nulls['ref_hash'].map(events.set_index('ref_hash')['ref_type'])\n",
    "nulls['model'] = nulls['ref_hash'].map(events.set_index('ref_hash')['device_model'])\n",
    "nulls['most_freq_lang'] = nulls['ref_hash'].map(events.set_index('ref_hash')['device_language'])\n",
    "nulls['most_freq_app'] = nulls['ref_hash'].map(events.set_index('ref_hash')['application_id'])\n",
    "nulls['ip'] = nulls['ref_hash'].map(events.set_index('ref_hash')['ip_address'])\n",
    "nulls['events_%wifi'] = nulls['ref_hash'].map(eventos.set_index('ref_hash')['wifi'])\n",
    "nulls['event_apps'] = nulls['ref_hash'].map(eventos.set_index('ref_hash')['application_id'])\n",
    "nulls['distinct_events'] = nulls['ref_hash'].map(eventos.set_index('ref_hash')['kind'])\n",
    "nulls['total_events'] = nulls['ref_hash'].map(eventos.set_index('ref_hash')['event_id'])"
   ]
  },
  {
   "cell_type": "code",
   "execution_count": 35,
   "metadata": {
    "scrolled": true
   },
   "outputs": [
    {
     "data": {
      "text/html": [
       "<div>\n",
       "<style scoped>\n",
       "    .dataframe tbody tr th:only-of-type {\n",
       "        vertical-align: middle;\n",
       "    }\n",
       "\n",
       "    .dataframe tbody tr th {\n",
       "        vertical-align: top;\n",
       "    }\n",
       "\n",
       "    .dataframe thead th {\n",
       "        text-align: right;\n",
       "    }\n",
       "</style>\n",
       "<table border=\"1\" class=\"dataframe\">\n",
       "  <thead>\n",
       "    <tr style=\"text-align: right;\">\n",
       "      <th></th>\n",
       "      <th>ref_hash</th>\n",
       "      <th>obj</th>\n",
       "      <th>created</th>\n",
       "      <th>ref_type</th>\n",
       "      <th>total_apps</th>\n",
       "      <th>%implicit</th>\n",
       "      <th>%attributed</th>\n",
       "      <th>most_freq_lang</th>\n",
       "      <th>most_freq_app</th>\n",
       "      <th>model</th>\n",
       "      <th>ip</th>\n",
       "      <th>events_%wifi</th>\n",
       "      <th>event_apps</th>\n",
       "      <th>distinct_events</th>\n",
       "      <th>total_events</th>\n",
       "    </tr>\n",
       "  </thead>\n",
       "  <tbody>\n",
       "    <tr>\n",
       "      <th>0</th>\n",
       "      <td>1.000169e+18</td>\n",
       "      <td>0.0</td>\n",
       "      <td>2019-04-21 08:14:06.178</td>\n",
       "      <td>1.891515e+18</td>\n",
       "      <td>1.0</td>\n",
       "      <td>0.0</td>\n",
       "      <td>0.0</td>\n",
       "      <td>3.30138e+18</td>\n",
       "      <td>122.0</td>\n",
       "      <td>1.805456e+18</td>\n",
       "      <td>5.483720e+18</td>\n",
       "      <td>0.000000</td>\n",
       "      <td>32.0</td>\n",
       "      <td>4.0</td>\n",
       "      <td>32.0</td>\n",
       "    </tr>\n",
       "    <tr>\n",
       "      <th>1</th>\n",
       "      <td>1.000396e+18</td>\n",
       "      <td>0.0</td>\n",
       "      <td>2019-04-20 05:59:26.866</td>\n",
       "      <td>1.891515e+18</td>\n",
       "      <td>2.0</td>\n",
       "      <td>0.5</td>\n",
       "      <td>0.0</td>\n",
       "      <td>6.97705e+18</td>\n",
       "      <td>121.0</td>\n",
       "      <td>8.058599e+17</td>\n",
       "      <td>6.126933e+18</td>\n",
       "      <td>1.000000</td>\n",
       "      <td>2.0</td>\n",
       "      <td>2.0</td>\n",
       "      <td>2.0</td>\n",
       "    </tr>\n",
       "    <tr>\n",
       "      <th>2</th>\n",
       "      <td>1.003027e+18</td>\n",
       "      <td>0.0</td>\n",
       "      <td>2019-04-23 20:37:24.299</td>\n",
       "      <td>1.891515e+18</td>\n",
       "      <td>2.0</td>\n",
       "      <td>0.5</td>\n",
       "      <td>0.0</td>\n",
       "      <td>3.30138e+18</td>\n",
       "      <td>14.0</td>\n",
       "      <td>8.590181e+18</td>\n",
       "      <td>2.036110e+18</td>\n",
       "      <td>0.833333</td>\n",
       "      <td>54.0</td>\n",
       "      <td>10.0</td>\n",
       "      <td>54.0</td>\n",
       "    </tr>\n",
       "    <tr>\n",
       "      <th>3</th>\n",
       "      <td>1.006670e+18</td>\n",
       "      <td>0.0</td>\n",
       "      <td>2019-04-21 01:20:43.968</td>\n",
       "      <td>1.494519e+18</td>\n",
       "      <td>2.0</td>\n",
       "      <td>0.5</td>\n",
       "      <td>0.0</td>\n",
       "      <td>8.44142e+18</td>\n",
       "      <td>68.0</td>\n",
       "      <td>6.794880e+18</td>\n",
       "      <td>2.799308e+18</td>\n",
       "      <td>0.333333</td>\n",
       "      <td>3.0</td>\n",
       "      <td>2.0</td>\n",
       "      <td>3.0</td>\n",
       "    </tr>\n",
       "    <tr>\n",
       "      <th>4</th>\n",
       "      <td>1.007573e+18</td>\n",
       "      <td>0.0</td>\n",
       "      <td>2019-04-18 07:32:44.992</td>\n",
       "      <td>1.891515e+18</td>\n",
       "      <td>1.0</td>\n",
       "      <td>0.0</td>\n",
       "      <td>0.0</td>\n",
       "      <td>3.30138e+18</td>\n",
       "      <td>94.0</td>\n",
       "      <td>1.327864e+18</td>\n",
       "      <td>8.238829e+18</td>\n",
       "      <td>0.000000</td>\n",
       "      <td>6.0</td>\n",
       "      <td>1.0</td>\n",
       "      <td>6.0</td>\n",
       "    </tr>\n",
       "  </tbody>\n",
       "</table>\n",
       "</div>"
      ],
      "text/plain": [
       "       ref_hash  obj                 created      ref_type  total_apps  \\\n",
       "0  1.000169e+18  0.0 2019-04-21 08:14:06.178  1.891515e+18         1.0   \n",
       "1  1.000396e+18  0.0 2019-04-20 05:59:26.866  1.891515e+18         2.0   \n",
       "2  1.003027e+18  0.0 2019-04-23 20:37:24.299  1.891515e+18         2.0   \n",
       "3  1.006670e+18  0.0 2019-04-21 01:20:43.968  1.494519e+18         2.0   \n",
       "4  1.007573e+18  0.0 2019-04-18 07:32:44.992  1.891515e+18         1.0   \n",
       "\n",
       "   %implicit  %attributed most_freq_lang  most_freq_app         model  \\\n",
       "0        0.0          0.0    3.30138e+18          122.0  1.805456e+18   \n",
       "1        0.5          0.0    6.97705e+18          121.0  8.058599e+17   \n",
       "2        0.5          0.0    3.30138e+18           14.0  8.590181e+18   \n",
       "3        0.5          0.0    8.44142e+18           68.0  6.794880e+18   \n",
       "4        0.0          0.0    3.30138e+18           94.0  1.327864e+18   \n",
       "\n",
       "             ip  events_%wifi  event_apps  distinct_events  total_events  \n",
       "0  5.483720e+18      0.000000        32.0              4.0          32.0  \n",
       "1  6.126933e+18      1.000000         2.0              2.0           2.0  \n",
       "2  2.036110e+18      0.833333        54.0             10.0          54.0  \n",
       "3  2.799308e+18      0.333333         3.0              2.0           3.0  \n",
       "4  8.238829e+18      0.000000         6.0              1.0           6.0  "
      ]
     },
     "execution_count": 35,
     "metadata": {},
     "output_type": "execute_result"
    }
   ],
   "source": [
    "targets_sc_with_installs.update(nulls)\n",
    "targets_sc_with_installs.head()"
   ]
  },
  {
   "cell_type": "code",
   "execution_count": 36,
   "metadata": {
    "scrolled": true
   },
   "outputs": [],
   "source": [
    "targets_sc_with_installs.fillna({'total_apps' : 0, 'ref_type' : 0, '%attributed' : 0, '%implicit': 0, 'model' : 0,\n",
    "                                 'most_freq_lang' : 0, 'ip' : 0, 'events_%wifi' : 0, 'event_apps' : 0, \n",
    "                                 'distinct_events' : 0, 'total_events' : 0, 'most_freq_app' : 0}, inplace = True)"
   ]
  },
  {
   "cell_type": "code",
   "execution_count": 37,
   "metadata": {},
   "outputs": [],
   "source": [
    "del targets_sc_with_installs['created']\n",
    "del targets_sc_with_installs['obj']"
   ]
  },
  {
   "cell_type": "code",
   "execution_count": 38,
   "metadata": {},
   "outputs": [],
   "source": [
    "targets_sc_with_installs['most_freq_lang'] = targets_sc_with_installs['most_freq_lang'].astype('float64')\n",
    "X = targets_sc_with_installs[['ref_type', 'ref_hash', 'total_apps', '%implicit', '%attributed', 'most_freq_lang', \n",
    "                             'most_freq_app', 'model', 'ip', 'events_%wifi', 'event_apps', 'distinct_events', \n",
    "                             'total_events']]\n",
    "predictions_sc_xgb = xg_reg.predict(X)"
   ]
  },
  {
   "cell_type": "code",
   "execution_count": 40,
   "metadata": {},
   "outputs": [
    {
     "data": {
      "text/plain": [
       "array([85503.766, 90008.85 , 84732.516, ..., 87279.84 , 89796.516,\n",
       "       86535.55 ], dtype=float32)"
      ]
     },
     "execution_count": 40,
     "metadata": {},
     "output_type": "execute_result"
    }
   ],
   "source": [
    "predictions_sc_xgb"
   ]
  },
  {
   "cell_type": "code",
   "execution_count": 41,
   "metadata": {},
   "outputs": [
    {
     "data": {
      "text/html": [
       "<div>\n",
       "<style scoped>\n",
       "    .dataframe tbody tr th:only-of-type {\n",
       "        vertical-align: middle;\n",
       "    }\n",
       "\n",
       "    .dataframe tbody tr th {\n",
       "        vertical-align: top;\n",
       "    }\n",
       "\n",
       "    .dataframe thead th {\n",
       "        text-align: right;\n",
       "    }\n",
       "</style>\n",
       "<table border=\"1\" class=\"dataframe\">\n",
       "  <thead>\n",
       "    <tr style=\"text-align: right;\">\n",
       "      <th></th>\n",
       "      <th>ref_hash</th>\n",
       "      <th>obj</th>\n",
       "    </tr>\n",
       "  </thead>\n",
       "  <tbody>\n",
       "    <tr>\n",
       "      <th>0</th>\n",
       "      <td>1000169251625791246_sc</td>\n",
       "      <td>0</td>\n",
       "    </tr>\n",
       "    <tr>\n",
       "      <th>1</th>\n",
       "      <td>1000169251625791246_st</td>\n",
       "      <td>0</td>\n",
       "    </tr>\n",
       "    <tr>\n",
       "      <th>2</th>\n",
       "      <td>1000395625957344683_sc</td>\n",
       "      <td>0</td>\n",
       "    </tr>\n",
       "    <tr>\n",
       "      <th>3</th>\n",
       "      <td>1000395625957344683_st</td>\n",
       "      <td>0</td>\n",
       "    </tr>\n",
       "    <tr>\n",
       "      <th>4</th>\n",
       "      <td>1003027494996471685_sc</td>\n",
       "      <td>0</td>\n",
       "    </tr>\n",
       "    <tr>\n",
       "      <th>5</th>\n",
       "      <td>1003027494996471685_st</td>\n",
       "      <td>0</td>\n",
       "    </tr>\n",
       "    <tr>\n",
       "      <th>6</th>\n",
       "      <td>1006670001679961544_sc</td>\n",
       "      <td>0</td>\n",
       "    </tr>\n",
       "    <tr>\n",
       "      <th>7</th>\n",
       "      <td>1006670001679961544_st</td>\n",
       "      <td>0</td>\n",
       "    </tr>\n",
       "    <tr>\n",
       "      <th>8</th>\n",
       "      <td>1007573308966476713_sc</td>\n",
       "      <td>0</td>\n",
       "    </tr>\n",
       "    <tr>\n",
       "      <th>9</th>\n",
       "      <td>1007573308966476713_st</td>\n",
       "      <td>0</td>\n",
       "    </tr>\n",
       "    <tr>\n",
       "      <th>10</th>\n",
       "      <td>1010070503877148763_sc</td>\n",
       "      <td>0</td>\n",
       "    </tr>\n",
       "    <tr>\n",
       "      <th>11</th>\n",
       "      <td>1010070503877148763_st</td>\n",
       "      <td>0</td>\n",
       "    </tr>\n",
       "    <tr>\n",
       "      <th>12</th>\n",
       "      <td>1010265377387765028_sc</td>\n",
       "      <td>0</td>\n",
       "    </tr>\n",
       "    <tr>\n",
       "      <th>13</th>\n",
       "      <td>1010265377387765028_st</td>\n",
       "      <td>0</td>\n",
       "    </tr>\n",
       "    <tr>\n",
       "      <th>14</th>\n",
       "      <td>1010531372912327058_sc</td>\n",
       "      <td>0</td>\n",
       "    </tr>\n",
       "    <tr>\n",
       "      <th>15</th>\n",
       "      <td>1010531372912327058_st</td>\n",
       "      <td>0</td>\n",
       "    </tr>\n",
       "    <tr>\n",
       "      <th>16</th>\n",
       "      <td>1011610998357271358_sc</td>\n",
       "      <td>0</td>\n",
       "    </tr>\n",
       "    <tr>\n",
       "      <th>17</th>\n",
       "      <td>1011610998357271358_st</td>\n",
       "      <td>0</td>\n",
       "    </tr>\n",
       "    <tr>\n",
       "      <th>18</th>\n",
       "      <td>1013543838965040946_sc</td>\n",
       "      <td>0</td>\n",
       "    </tr>\n",
       "    <tr>\n",
       "      <th>19</th>\n",
       "      <td>1013543838965040946_st</td>\n",
       "      <td>0</td>\n",
       "    </tr>\n",
       "    <tr>\n",
       "      <th>20</th>\n",
       "      <td>1014428234021750342_sc</td>\n",
       "      <td>0</td>\n",
       "    </tr>\n",
       "    <tr>\n",
       "      <th>21</th>\n",
       "      <td>1014428234021750342_st</td>\n",
       "      <td>0</td>\n",
       "    </tr>\n",
       "    <tr>\n",
       "      <th>22</th>\n",
       "      <td>101763096421653092_sc</td>\n",
       "      <td>0</td>\n",
       "    </tr>\n",
       "    <tr>\n",
       "      <th>23</th>\n",
       "      <td>101763096421653092_st</td>\n",
       "      <td>0</td>\n",
       "    </tr>\n",
       "    <tr>\n",
       "      <th>24</th>\n",
       "      <td>1017668882534236751_sc</td>\n",
       "      <td>0</td>\n",
       "    </tr>\n",
       "    <tr>\n",
       "      <th>25</th>\n",
       "      <td>1017668882534236751_st</td>\n",
       "      <td>0</td>\n",
       "    </tr>\n",
       "    <tr>\n",
       "      <th>26</th>\n",
       "      <td>1017958004932387739_sc</td>\n",
       "      <td>0</td>\n",
       "    </tr>\n",
       "    <tr>\n",
       "      <th>27</th>\n",
       "      <td>1017958004932387739_st</td>\n",
       "      <td>0</td>\n",
       "    </tr>\n",
       "    <tr>\n",
       "      <th>28</th>\n",
       "      <td>1018126962792619181_sc</td>\n",
       "      <td>0</td>\n",
       "    </tr>\n",
       "    <tr>\n",
       "      <th>29</th>\n",
       "      <td>1018126962792619181_st</td>\n",
       "      <td>0</td>\n",
       "    </tr>\n",
       "    <tr>\n",
       "      <th>...</th>\n",
       "      <td>...</td>\n",
       "      <td>...</td>\n",
       "    </tr>\n",
       "    <tr>\n",
       "      <th>8044</th>\n",
       "      <td>950195972417607793_sc</td>\n",
       "      <td>0</td>\n",
       "    </tr>\n",
       "    <tr>\n",
       "      <th>8045</th>\n",
       "      <td>950195972417607793_st</td>\n",
       "      <td>0</td>\n",
       "    </tr>\n",
       "    <tr>\n",
       "      <th>8046</th>\n",
       "      <td>954110623376544206_sc</td>\n",
       "      <td>0</td>\n",
       "    </tr>\n",
       "    <tr>\n",
       "      <th>8047</th>\n",
       "      <td>954110623376544206_st</td>\n",
       "      <td>0</td>\n",
       "    </tr>\n",
       "    <tr>\n",
       "      <th>8048</th>\n",
       "      <td>954940018576714924_sc</td>\n",
       "      <td>0</td>\n",
       "    </tr>\n",
       "    <tr>\n",
       "      <th>8049</th>\n",
       "      <td>954940018576714924_st</td>\n",
       "      <td>0</td>\n",
       "    </tr>\n",
       "    <tr>\n",
       "      <th>8050</th>\n",
       "      <td>956704247780926402_sc</td>\n",
       "      <td>0</td>\n",
       "    </tr>\n",
       "    <tr>\n",
       "      <th>8051</th>\n",
       "      <td>956704247780926402_st</td>\n",
       "      <td>0</td>\n",
       "    </tr>\n",
       "    <tr>\n",
       "      <th>8052</th>\n",
       "      <td>960623204161846765_sc</td>\n",
       "      <td>0</td>\n",
       "    </tr>\n",
       "    <tr>\n",
       "      <th>8053</th>\n",
       "      <td>960623204161846765_st</td>\n",
       "      <td>0</td>\n",
       "    </tr>\n",
       "    <tr>\n",
       "      <th>8054</th>\n",
       "      <td>961631829441650729_sc</td>\n",
       "      <td>0</td>\n",
       "    </tr>\n",
       "    <tr>\n",
       "      <th>8055</th>\n",
       "      <td>961631829441650729_st</td>\n",
       "      <td>0</td>\n",
       "    </tr>\n",
       "    <tr>\n",
       "      <th>8056</th>\n",
       "      <td>962595921037755088_sc</td>\n",
       "      <td>0</td>\n",
       "    </tr>\n",
       "    <tr>\n",
       "      <th>8057</th>\n",
       "      <td>962595921037755088_st</td>\n",
       "      <td>0</td>\n",
       "    </tr>\n",
       "    <tr>\n",
       "      <th>8058</th>\n",
       "      <td>964658792449865522_sc</td>\n",
       "      <td>0</td>\n",
       "    </tr>\n",
       "    <tr>\n",
       "      <th>8059</th>\n",
       "      <td>964658792449865522_st</td>\n",
       "      <td>0</td>\n",
       "    </tr>\n",
       "    <tr>\n",
       "      <th>8060</th>\n",
       "      <td>974553511695777483_sc</td>\n",
       "      <td>0</td>\n",
       "    </tr>\n",
       "    <tr>\n",
       "      <th>8061</th>\n",
       "      <td>974553511695777483_st</td>\n",
       "      <td>0</td>\n",
       "    </tr>\n",
       "    <tr>\n",
       "      <th>8062</th>\n",
       "      <td>97694307709005918_sc</td>\n",
       "      <td>0</td>\n",
       "    </tr>\n",
       "    <tr>\n",
       "      <th>8063</th>\n",
       "      <td>97694307709005918_st</td>\n",
       "      <td>0</td>\n",
       "    </tr>\n",
       "    <tr>\n",
       "      <th>8064</th>\n",
       "      <td>977508757724050464_sc</td>\n",
       "      <td>0</td>\n",
       "    </tr>\n",
       "    <tr>\n",
       "      <th>8065</th>\n",
       "      <td>977508757724050464_st</td>\n",
       "      <td>0</td>\n",
       "    </tr>\n",
       "    <tr>\n",
       "      <th>8066</th>\n",
       "      <td>979880031097032355_sc</td>\n",
       "      <td>0</td>\n",
       "    </tr>\n",
       "    <tr>\n",
       "      <th>8067</th>\n",
       "      <td>979880031097032355_st</td>\n",
       "      <td>0</td>\n",
       "    </tr>\n",
       "    <tr>\n",
       "      <th>8068</th>\n",
       "      <td>987443249627191692_sc</td>\n",
       "      <td>0</td>\n",
       "    </tr>\n",
       "    <tr>\n",
       "      <th>8069</th>\n",
       "      <td>987443249627191692_st</td>\n",
       "      <td>0</td>\n",
       "    </tr>\n",
       "    <tr>\n",
       "      <th>8070</th>\n",
       "      <td>997953354533822687_sc</td>\n",
       "      <td>0</td>\n",
       "    </tr>\n",
       "    <tr>\n",
       "      <th>8071</th>\n",
       "      <td>997953354533822687_st</td>\n",
       "      <td>0</td>\n",
       "    </tr>\n",
       "    <tr>\n",
       "      <th>8072</th>\n",
       "      <td>998948062397755366_sc</td>\n",
       "      <td>0</td>\n",
       "    </tr>\n",
       "    <tr>\n",
       "      <th>8073</th>\n",
       "      <td>998948062397755366_st</td>\n",
       "      <td>0</td>\n",
       "    </tr>\n",
       "  </tbody>\n",
       "</table>\n",
       "<p>8074 rows × 2 columns</p>\n",
       "</div>"
      ],
      "text/plain": [
       "                    ref_hash  obj\n",
       "0     1000169251625791246_sc    0\n",
       "1     1000169251625791246_st    0\n",
       "2     1000395625957344683_sc    0\n",
       "3     1000395625957344683_st    0\n",
       "4     1003027494996471685_sc    0\n",
       "5     1003027494996471685_st    0\n",
       "6     1006670001679961544_sc    0\n",
       "7     1006670001679961544_st    0\n",
       "8     1007573308966476713_sc    0\n",
       "9     1007573308966476713_st    0\n",
       "10    1010070503877148763_sc    0\n",
       "11    1010070503877148763_st    0\n",
       "12    1010265377387765028_sc    0\n",
       "13    1010265377387765028_st    0\n",
       "14    1010531372912327058_sc    0\n",
       "15    1010531372912327058_st    0\n",
       "16    1011610998357271358_sc    0\n",
       "17    1011610998357271358_st    0\n",
       "18    1013543838965040946_sc    0\n",
       "19    1013543838965040946_st    0\n",
       "20    1014428234021750342_sc    0\n",
       "21    1014428234021750342_st    0\n",
       "22     101763096421653092_sc    0\n",
       "23     101763096421653092_st    0\n",
       "24    1017668882534236751_sc    0\n",
       "25    1017668882534236751_st    0\n",
       "26    1017958004932387739_sc    0\n",
       "27    1017958004932387739_st    0\n",
       "28    1018126962792619181_sc    0\n",
       "29    1018126962792619181_st    0\n",
       "...                      ...  ...\n",
       "8044   950195972417607793_sc    0\n",
       "8045   950195972417607793_st    0\n",
       "8046   954110623376544206_sc    0\n",
       "8047   954110623376544206_st    0\n",
       "8048   954940018576714924_sc    0\n",
       "8049   954940018576714924_st    0\n",
       "8050   956704247780926402_sc    0\n",
       "8051   956704247780926402_st    0\n",
       "8052   960623204161846765_sc    0\n",
       "8053   960623204161846765_st    0\n",
       "8054   961631829441650729_sc    0\n",
       "8055   961631829441650729_st    0\n",
       "8056   962595921037755088_sc    0\n",
       "8057   962595921037755088_st    0\n",
       "8058   964658792449865522_sc    0\n",
       "8059   964658792449865522_st    0\n",
       "8060   974553511695777483_sc    0\n",
       "8061   974553511695777483_st    0\n",
       "8062    97694307709005918_sc    0\n",
       "8063    97694307709005918_st    0\n",
       "8064   977508757724050464_sc    0\n",
       "8065   977508757724050464_st    0\n",
       "8066   979880031097032355_sc    0\n",
       "8067   979880031097032355_st    0\n",
       "8068   987443249627191692_sc    0\n",
       "8069   987443249627191692_st    0\n",
       "8070   997953354533822687_sc    0\n",
       "8071   997953354533822687_st    0\n",
       "8072   998948062397755366_sc    0\n",
       "8073   998948062397755366_st    0\n",
       "\n",
       "[8074 rows x 2 columns]"
      ]
     },
     "execution_count": 41,
     "metadata": {},
     "output_type": "execute_result"
    }
   ],
   "source": [
    "target"
   ]
  },
  {
   "cell_type": "code",
   "execution_count": 42,
   "metadata": {},
   "outputs": [
    {
     "data": {
      "text/html": [
       "<div>\n",
       "<style scoped>\n",
       "    .dataframe tbody tr th:only-of-type {\n",
       "        vertical-align: middle;\n",
       "    }\n",
       "\n",
       "    .dataframe tbody tr th {\n",
       "        vertical-align: top;\n",
       "    }\n",
       "\n",
       "    .dataframe thead th {\n",
       "        text-align: right;\n",
       "    }\n",
       "</style>\n",
       "<table border=\"1\" class=\"dataframe\">\n",
       "  <thead>\n",
       "    <tr style=\"text-align: right;\">\n",
       "      <th></th>\n",
       "      <th>ref_hash</th>\n",
       "      <th>obj</th>\n",
       "    </tr>\n",
       "  </thead>\n",
       "  <tbody>\n",
       "    <tr>\n",
       "      <th>0</th>\n",
       "      <td>1000169251625791246_sc</td>\n",
       "      <td>85503.765625</td>\n",
       "    </tr>\n",
       "    <tr>\n",
       "      <th>1</th>\n",
       "      <td>1000169251625791246_st</td>\n",
       "      <td>0.000000</td>\n",
       "    </tr>\n",
       "    <tr>\n",
       "      <th>2</th>\n",
       "      <td>1000395625957344683_sc</td>\n",
       "      <td>85503.765625</td>\n",
       "    </tr>\n",
       "    <tr>\n",
       "      <th>3</th>\n",
       "      <td>1000395625957344683_st</td>\n",
       "      <td>0.000000</td>\n",
       "    </tr>\n",
       "    <tr>\n",
       "      <th>4</th>\n",
       "      <td>1003027494996471685_sc</td>\n",
       "      <td>85503.765625</td>\n",
       "    </tr>\n",
       "    <tr>\n",
       "      <th>5</th>\n",
       "      <td>1003027494996471685_st</td>\n",
       "      <td>0.000000</td>\n",
       "    </tr>\n",
       "    <tr>\n",
       "      <th>6</th>\n",
       "      <td>1006670001679961544_sc</td>\n",
       "      <td>85503.765625</td>\n",
       "    </tr>\n",
       "    <tr>\n",
       "      <th>7</th>\n",
       "      <td>1006670001679961544_st</td>\n",
       "      <td>0.000000</td>\n",
       "    </tr>\n",
       "    <tr>\n",
       "      <th>8</th>\n",
       "      <td>1007573308966476713_sc</td>\n",
       "      <td>85503.765625</td>\n",
       "    </tr>\n",
       "    <tr>\n",
       "      <th>9</th>\n",
       "      <td>1007573308966476713_st</td>\n",
       "      <td>0.000000</td>\n",
       "    </tr>\n",
       "    <tr>\n",
       "      <th>10</th>\n",
       "      <td>1010070503877148763_sc</td>\n",
       "      <td>85503.765625</td>\n",
       "    </tr>\n",
       "    <tr>\n",
       "      <th>11</th>\n",
       "      <td>1010070503877148763_st</td>\n",
       "      <td>0.000000</td>\n",
       "    </tr>\n",
       "    <tr>\n",
       "      <th>12</th>\n",
       "      <td>1010265377387765028_sc</td>\n",
       "      <td>85503.765625</td>\n",
       "    </tr>\n",
       "    <tr>\n",
       "      <th>13</th>\n",
       "      <td>1010265377387765028_st</td>\n",
       "      <td>0.000000</td>\n",
       "    </tr>\n",
       "    <tr>\n",
       "      <th>14</th>\n",
       "      <td>1010531372912327058_sc</td>\n",
       "      <td>85503.765625</td>\n",
       "    </tr>\n",
       "    <tr>\n",
       "      <th>15</th>\n",
       "      <td>1010531372912327058_st</td>\n",
       "      <td>0.000000</td>\n",
       "    </tr>\n",
       "    <tr>\n",
       "      <th>16</th>\n",
       "      <td>1011610998357271358_sc</td>\n",
       "      <td>85503.765625</td>\n",
       "    </tr>\n",
       "    <tr>\n",
       "      <th>17</th>\n",
       "      <td>1011610998357271358_st</td>\n",
       "      <td>0.000000</td>\n",
       "    </tr>\n",
       "    <tr>\n",
       "      <th>18</th>\n",
       "      <td>1013543838965040946_sc</td>\n",
       "      <td>85503.765625</td>\n",
       "    </tr>\n",
       "    <tr>\n",
       "      <th>19</th>\n",
       "      <td>1013543838965040946_st</td>\n",
       "      <td>0.000000</td>\n",
       "    </tr>\n",
       "    <tr>\n",
       "      <th>20</th>\n",
       "      <td>1014428234021750342_sc</td>\n",
       "      <td>85503.765625</td>\n",
       "    </tr>\n",
       "    <tr>\n",
       "      <th>21</th>\n",
       "      <td>1014428234021750342_st</td>\n",
       "      <td>0.000000</td>\n",
       "    </tr>\n",
       "    <tr>\n",
       "      <th>22</th>\n",
       "      <td>101763096421653092_sc</td>\n",
       "      <td>85503.765625</td>\n",
       "    </tr>\n",
       "    <tr>\n",
       "      <th>23</th>\n",
       "      <td>101763096421653092_st</td>\n",
       "      <td>0.000000</td>\n",
       "    </tr>\n",
       "    <tr>\n",
       "      <th>24</th>\n",
       "      <td>1017668882534236751_sc</td>\n",
       "      <td>85503.765625</td>\n",
       "    </tr>\n",
       "    <tr>\n",
       "      <th>25</th>\n",
       "      <td>1017668882534236751_st</td>\n",
       "      <td>0.000000</td>\n",
       "    </tr>\n",
       "    <tr>\n",
       "      <th>26</th>\n",
       "      <td>1017958004932387739_sc</td>\n",
       "      <td>85503.765625</td>\n",
       "    </tr>\n",
       "    <tr>\n",
       "      <th>27</th>\n",
       "      <td>1017958004932387739_st</td>\n",
       "      <td>0.000000</td>\n",
       "    </tr>\n",
       "    <tr>\n",
       "      <th>28</th>\n",
       "      <td>1018126962792619181_sc</td>\n",
       "      <td>85503.765625</td>\n",
       "    </tr>\n",
       "    <tr>\n",
       "      <th>29</th>\n",
       "      <td>1018126962792619181_st</td>\n",
       "      <td>0.000000</td>\n",
       "    </tr>\n",
       "    <tr>\n",
       "      <th>...</th>\n",
       "      <td>...</td>\n",
       "      <td>...</td>\n",
       "    </tr>\n",
       "    <tr>\n",
       "      <th>8044</th>\n",
       "      <td>950195972417607793_sc</td>\n",
       "      <td>85503.765625</td>\n",
       "    </tr>\n",
       "    <tr>\n",
       "      <th>8045</th>\n",
       "      <td>950195972417607793_st</td>\n",
       "      <td>0.000000</td>\n",
       "    </tr>\n",
       "    <tr>\n",
       "      <th>8046</th>\n",
       "      <td>954110623376544206_sc</td>\n",
       "      <td>85503.765625</td>\n",
       "    </tr>\n",
       "    <tr>\n",
       "      <th>8047</th>\n",
       "      <td>954110623376544206_st</td>\n",
       "      <td>0.000000</td>\n",
       "    </tr>\n",
       "    <tr>\n",
       "      <th>8048</th>\n",
       "      <td>954940018576714924_sc</td>\n",
       "      <td>85503.765625</td>\n",
       "    </tr>\n",
       "    <tr>\n",
       "      <th>8049</th>\n",
       "      <td>954940018576714924_st</td>\n",
       "      <td>0.000000</td>\n",
       "    </tr>\n",
       "    <tr>\n",
       "      <th>8050</th>\n",
       "      <td>956704247780926402_sc</td>\n",
       "      <td>85503.765625</td>\n",
       "    </tr>\n",
       "    <tr>\n",
       "      <th>8051</th>\n",
       "      <td>956704247780926402_st</td>\n",
       "      <td>0.000000</td>\n",
       "    </tr>\n",
       "    <tr>\n",
       "      <th>8052</th>\n",
       "      <td>960623204161846765_sc</td>\n",
       "      <td>85503.765625</td>\n",
       "    </tr>\n",
       "    <tr>\n",
       "      <th>8053</th>\n",
       "      <td>960623204161846765_st</td>\n",
       "      <td>0.000000</td>\n",
       "    </tr>\n",
       "    <tr>\n",
       "      <th>8054</th>\n",
       "      <td>961631829441650729_sc</td>\n",
       "      <td>85503.765625</td>\n",
       "    </tr>\n",
       "    <tr>\n",
       "      <th>8055</th>\n",
       "      <td>961631829441650729_st</td>\n",
       "      <td>0.000000</td>\n",
       "    </tr>\n",
       "    <tr>\n",
       "      <th>8056</th>\n",
       "      <td>962595921037755088_sc</td>\n",
       "      <td>85503.765625</td>\n",
       "    </tr>\n",
       "    <tr>\n",
       "      <th>8057</th>\n",
       "      <td>962595921037755088_st</td>\n",
       "      <td>0.000000</td>\n",
       "    </tr>\n",
       "    <tr>\n",
       "      <th>8058</th>\n",
       "      <td>964658792449865522_sc</td>\n",
       "      <td>85503.765625</td>\n",
       "    </tr>\n",
       "    <tr>\n",
       "      <th>8059</th>\n",
       "      <td>964658792449865522_st</td>\n",
       "      <td>0.000000</td>\n",
       "    </tr>\n",
       "    <tr>\n",
       "      <th>8060</th>\n",
       "      <td>974553511695777483_sc</td>\n",
       "      <td>85503.765625</td>\n",
       "    </tr>\n",
       "    <tr>\n",
       "      <th>8061</th>\n",
       "      <td>974553511695777483_st</td>\n",
       "      <td>0.000000</td>\n",
       "    </tr>\n",
       "    <tr>\n",
       "      <th>8062</th>\n",
       "      <td>97694307709005918_sc</td>\n",
       "      <td>85503.765625</td>\n",
       "    </tr>\n",
       "    <tr>\n",
       "      <th>8063</th>\n",
       "      <td>97694307709005918_st</td>\n",
       "      <td>0.000000</td>\n",
       "    </tr>\n",
       "    <tr>\n",
       "      <th>8064</th>\n",
       "      <td>977508757724050464_sc</td>\n",
       "      <td>85503.765625</td>\n",
       "    </tr>\n",
       "    <tr>\n",
       "      <th>8065</th>\n",
       "      <td>977508757724050464_st</td>\n",
       "      <td>0.000000</td>\n",
       "    </tr>\n",
       "    <tr>\n",
       "      <th>8066</th>\n",
       "      <td>979880031097032355_sc</td>\n",
       "      <td>85503.765625</td>\n",
       "    </tr>\n",
       "    <tr>\n",
       "      <th>8067</th>\n",
       "      <td>979880031097032355_st</td>\n",
       "      <td>0.000000</td>\n",
       "    </tr>\n",
       "    <tr>\n",
       "      <th>8068</th>\n",
       "      <td>987443249627191692_sc</td>\n",
       "      <td>85503.765625</td>\n",
       "    </tr>\n",
       "    <tr>\n",
       "      <th>8069</th>\n",
       "      <td>987443249627191692_st</td>\n",
       "      <td>0.000000</td>\n",
       "    </tr>\n",
       "    <tr>\n",
       "      <th>8070</th>\n",
       "      <td>997953354533822687_sc</td>\n",
       "      <td>85503.765625</td>\n",
       "    </tr>\n",
       "    <tr>\n",
       "      <th>8071</th>\n",
       "      <td>997953354533822687_st</td>\n",
       "      <td>0.000000</td>\n",
       "    </tr>\n",
       "    <tr>\n",
       "      <th>8072</th>\n",
       "      <td>998948062397755366_sc</td>\n",
       "      <td>85503.765625</td>\n",
       "    </tr>\n",
       "    <tr>\n",
       "      <th>8073</th>\n",
       "      <td>998948062397755366_st</td>\n",
       "      <td>0.000000</td>\n",
       "    </tr>\n",
       "  </tbody>\n",
       "</table>\n",
       "<p>8074 rows × 2 columns</p>\n",
       "</div>"
      ],
      "text/plain": [
       "                    ref_hash           obj\n",
       "0     1000169251625791246_sc  85503.765625\n",
       "1     1000169251625791246_st      0.000000\n",
       "2     1000395625957344683_sc  85503.765625\n",
       "3     1000395625957344683_st      0.000000\n",
       "4     1003027494996471685_sc  85503.765625\n",
       "5     1003027494996471685_st      0.000000\n",
       "6     1006670001679961544_sc  85503.765625\n",
       "7     1006670001679961544_st      0.000000\n",
       "8     1007573308966476713_sc  85503.765625\n",
       "9     1007573308966476713_st      0.000000\n",
       "10    1010070503877148763_sc  85503.765625\n",
       "11    1010070503877148763_st      0.000000\n",
       "12    1010265377387765028_sc  85503.765625\n",
       "13    1010265377387765028_st      0.000000\n",
       "14    1010531372912327058_sc  85503.765625\n",
       "15    1010531372912327058_st      0.000000\n",
       "16    1011610998357271358_sc  85503.765625\n",
       "17    1011610998357271358_st      0.000000\n",
       "18    1013543838965040946_sc  85503.765625\n",
       "19    1013543838965040946_st      0.000000\n",
       "20    1014428234021750342_sc  85503.765625\n",
       "21    1014428234021750342_st      0.000000\n",
       "22     101763096421653092_sc  85503.765625\n",
       "23     101763096421653092_st      0.000000\n",
       "24    1017668882534236751_sc  85503.765625\n",
       "25    1017668882534236751_st      0.000000\n",
       "26    1017958004932387739_sc  85503.765625\n",
       "27    1017958004932387739_st      0.000000\n",
       "28    1018126962792619181_sc  85503.765625\n",
       "29    1018126962792619181_st      0.000000\n",
       "...                      ...           ...\n",
       "8044   950195972417607793_sc  85503.765625\n",
       "8045   950195972417607793_st      0.000000\n",
       "8046   954110623376544206_sc  85503.765625\n",
       "8047   954110623376544206_st      0.000000\n",
       "8048   954940018576714924_sc  85503.765625\n",
       "8049   954940018576714924_st      0.000000\n",
       "8050   956704247780926402_sc  85503.765625\n",
       "8051   956704247780926402_st      0.000000\n",
       "8052   960623204161846765_sc  85503.765625\n",
       "8053   960623204161846765_st      0.000000\n",
       "8054   961631829441650729_sc  85503.765625\n",
       "8055   961631829441650729_st      0.000000\n",
       "8056   962595921037755088_sc  85503.765625\n",
       "8057   962595921037755088_st      0.000000\n",
       "8058   964658792449865522_sc  85503.765625\n",
       "8059   964658792449865522_st      0.000000\n",
       "8060   974553511695777483_sc  85503.765625\n",
       "8061   974553511695777483_st      0.000000\n",
       "8062    97694307709005918_sc  85503.765625\n",
       "8063    97694307709005918_st      0.000000\n",
       "8064   977508757724050464_sc  85503.765625\n",
       "8065   977508757724050464_st      0.000000\n",
       "8066   979880031097032355_sc  85503.765625\n",
       "8067   979880031097032355_st      0.000000\n",
       "8068   987443249627191692_sc  85503.765625\n",
       "8069   987443249627191692_st      0.000000\n",
       "8070   997953354533822687_sc  85503.765625\n",
       "8071   997953354533822687_st      0.000000\n",
       "8072   998948062397755366_sc  85503.765625\n",
       "8073   998948062397755366_st      0.000000\n",
       "\n",
       "[8074 rows x 2 columns]"
      ]
     },
     "execution_count": 42,
     "metadata": {},
     "output_type": "execute_result"
    }
   ],
   "source": [
    "# sc_pred = pd.read_csv('../datos/PrediccionesKNN-RF-XGBoost.txt', header = None)\n",
    "# sc_pred.index = np.arange(1, 8074, 2)\n",
    "target['obj'] = predictions_sc_xgb[0]\n",
    "target.update(targets_st)\n",
    "target"
   ]
  },
  {
   "cell_type": "code",
   "execution_count": 43,
   "metadata": {},
   "outputs": [],
   "source": [
    "target.to_csv('../datos/preds-xgboost-rf-knn-nuevos-features.csv', index = False)"
   ]
  },
  {
   "cell_type": "markdown",
   "metadata": {},
   "source": [
    "### Bagging"
   ]
  },
  {
   "cell_type": "code",
   "execution_count": 44,
   "metadata": {},
   "outputs": [],
   "source": [
    "from sklearn.ensemble import BaggingRegressor\n",
    "from sklearn.neighbors import KNeighborsRegressor\n",
    "from sklearn.tree import DecisionTreeRegressor\n",
    "from sklearn.ensemble import AdaBoostRegressor"
   ]
  },
  {
   "cell_type": "code",
   "execution_count": 45,
   "metadata": {},
   "outputs": [
    {
     "name": "stdout",
     "output_type": "stream",
     "text": [
      "RMSE: 67793.738466\n"
     ]
    }
   ],
   "source": [
    "X, y = installs1.iloc[:,:-1], installs1.iloc[:,-1]\n",
    "bagging = BaggingRegressor(KNeighborsRegressor(), max_samples=0.5, max_features=0.5)\n",
    "bagging.fit(X, y)\n",
    "preds = bagging.predict(installsCheck1.iloc[:,:-1])\n",
    "rmse = np.sqrt(mean_squared_error(installsCheck1.iloc[:,-1], preds))\n",
    "print(\"RMSE: %f\" % (rmse))"
   ]
  },
  {
   "cell_type": "code",
   "execution_count": 46,
   "metadata": {},
   "outputs": [
    {
     "name": "stdout",
     "output_type": "stream",
     "text": [
      "RMSE: 69484.395435\n"
     ]
    }
   ],
   "source": [
    "X, y = installs2.iloc[:,:-1], installs2.iloc[:,-1]\n",
    "bagging.fit(X, y)\n",
    "preds = bagging.predict(installsCheck2.iloc[:,:-1])\n",
    "rmse = np.sqrt(mean_squared_error(installsCheck2.iloc[:,-1], preds))\n",
    "print(\"RMSE: %f\" % (rmse))"
   ]
  },
  {
   "cell_type": "code",
   "execution_count": 47,
   "metadata": {},
   "outputs": [
    {
     "name": "stdout",
     "output_type": "stream",
     "text": [
      "RMSE: 70109.334570\n"
     ]
    }
   ],
   "source": [
    "X, y = installs3.iloc[:,:-1], installs3.iloc[:,-1]\n",
    "bagging.fit(X, y)\n",
    "preds = bagging.predict(installsCheck3.iloc[:,:-1])\n",
    "rmse = np.sqrt(mean_squared_error(installsCheck3.iloc[:,-1], preds))\n",
    "print(\"RMSE: %f\" % (rmse))"
   ]
  },
  {
   "cell_type": "code",
   "execution_count": 48,
   "metadata": {},
   "outputs": [
    {
     "name": "stdout",
     "output_type": "stream",
     "text": [
      "RMSE: 69036.720016\n"
     ]
    }
   ],
   "source": [
    "X, y = installs4.iloc[:,:-1], installs4.iloc[:,-1]\n",
    "bagging.fit(X, y)\n",
    "preds = bagging.predict(installsCheck4.iloc[:,:-1])\n",
    "rmse = np.sqrt(mean_squared_error(installsCheck4.iloc[:,-1], preds))\n",
    "print(\"RMSE: %f\" % (rmse))"
   ]
  },
  {
   "cell_type": "code",
   "execution_count": 49,
   "metadata": {},
   "outputs": [
    {
     "name": "stdout",
     "output_type": "stream",
     "text": [
      "RMSE: 66388.241608\n"
     ]
    }
   ],
   "source": [
    "X, y = installs5.iloc[:,:-1], installs5.iloc[:,-1]\n",
    "bagging.fit(X, y)\n",
    "preds = bagging.predict(installsCheck5.iloc[:,:-1])\n",
    "rmse = np.sqrt(mean_squared_error(installsCheck5.iloc[:,-1], preds))\n",
    "print(\"RMSE: %f\" % (rmse))"
   ]
  },
  {
   "cell_type": "code",
   "execution_count": 50,
   "metadata": {},
   "outputs": [],
   "source": [
    "X = targets_sc_with_installs[['ref_type', 'ref_hash', 'total_apps', '%implicit', '%attributed', 'most_freq_lang', \n",
    "                             'most_freq_app', 'model', 'ip', 'events_%wifi', 'event_apps', 'distinct_events', \n",
    "                             'total_events']]\n",
    "predictions_sc_bagging = bagging.predict(X)"
   ]
  },
  {
   "cell_type": "code",
   "execution_count": 54,
   "metadata": {},
   "outputs": [
    {
     "data": {
      "text/plain": [
       "['modelos/sc/bagging.pkl']"
      ]
     },
     "execution_count": 54,
     "metadata": {},
     "output_type": "execute_result"
    }
   ],
   "source": [
    "dump(bagging, 'modelos/sc/bagging.pkl')"
   ]
  },
  {
   "cell_type": "markdown",
   "metadata": {},
   "source": [
    "### AdaBoost"
   ]
  },
  {
   "cell_type": "code",
   "execution_count": 55,
   "metadata": {},
   "outputs": [
    {
     "name": "stdout",
     "output_type": "stream",
     "text": [
      "RMSE: 66205.001008\n"
     ]
    }
   ],
   "source": [
    "X, y = installs1.iloc[:,:-1], installs1.iloc[:,-1]\n",
    "regr = AdaBoostRegressor(random_state=0, n_estimators=50, learning_rate=0.1)\n",
    "regr.fit(X, y) \n",
    "preds = regr.predict(installsCheck1.iloc[:,:-1])\n",
    "rmse = np.sqrt(mean_squared_error(installsCheck1.iloc[:,-1], preds))\n",
    "print(\"RMSE: %f\" % (rmse))"
   ]
  },
  {
   "cell_type": "code",
   "execution_count": 56,
   "metadata": {},
   "outputs": [
    {
     "name": "stdout",
     "output_type": "stream",
     "text": [
      "RMSE: 67957.789315\n"
     ]
    }
   ],
   "source": [
    "X, y = installs2.iloc[:,:-1], installs2.iloc[:,-1]\n",
    "regr.fit(X, y) \n",
    "preds = regr.predict(installsCheck2.iloc[:,:-1])\n",
    "rmse = np.sqrt(mean_squared_error(installsCheck2.iloc[:,-1], preds))\n",
    "print(\"RMSE: %f\" % (rmse))"
   ]
  },
  {
   "cell_type": "code",
   "execution_count": 57,
   "metadata": {},
   "outputs": [
    {
     "name": "stdout",
     "output_type": "stream",
     "text": [
      "RMSE: 68742.307108\n"
     ]
    }
   ],
   "source": [
    "X, y = installs3.iloc[:,:-1], installs3.iloc[:,-1]\n",
    "regr.fit(X, y) \n",
    "preds = regr.predict(installsCheck3.iloc[:,:-1])\n",
    "rmse = np.sqrt(mean_squared_error(installsCheck3.iloc[:,-1], preds))\n",
    "print(\"RMSE: %f\" % (rmse))"
   ]
  },
  {
   "cell_type": "code",
   "execution_count": 58,
   "metadata": {},
   "outputs": [
    {
     "name": "stdout",
     "output_type": "stream",
     "text": [
      "RMSE: 67266.935307\n"
     ]
    }
   ],
   "source": [
    "X, y = installs4.iloc[:,:-1], installs4.iloc[:,-1]\n",
    "regr.fit(X, y) \n",
    "preds = regr.predict(installsCheck4.iloc[:,:-1])\n",
    "rmse = np.sqrt(mean_squared_error(installsCheck4.iloc[:,-1], preds))\n",
    "print(\"RMSE: %f\" % (rmse))"
   ]
  },
  {
   "cell_type": "code",
   "execution_count": 59,
   "metadata": {},
   "outputs": [
    {
     "name": "stdout",
     "output_type": "stream",
     "text": [
      "RMSE: 64948.432210\n"
     ]
    }
   ],
   "source": [
    "X, y = installs5.iloc[:,:-1], installs5.iloc[:,-1]\n",
    "regr.fit(X, y) \n",
    "preds = regr.predict(installsCheck5.iloc[:,:-1])\n",
    "rmse = np.sqrt(mean_squared_error(installsCheck5.iloc[:,-1], preds))\n",
    "print(\"RMSE: %f\" % (rmse))"
   ]
  },
  {
   "cell_type": "code",
   "execution_count": 60,
   "metadata": {},
   "outputs": [],
   "source": [
    "targets_sc_with_installs['most_freq_lang'] = targets_sc_with_installs['most_freq_lang'].astype('float64')\n",
    "X = targets_sc_with_installs[['ref_type', 'ref_hash', 'total_apps', '%implicit', '%attributed', 'most_freq_lang', \n",
    "                             'most_freq_app', 'model', 'ip', 'events_%wifi', 'event_apps', 'distinct_events', \n",
    "                             'total_events']]\n",
    "predictions_sc_adaboost = regr.predict(X)"
   ]
  },
  {
   "cell_type": "code",
   "execution_count": 61,
   "metadata": {},
   "outputs": [
    {
     "data": {
      "text/plain": [
       "['modelos/sc/regr.pkl']"
      ]
     },
     "execution_count": 61,
     "metadata": {},
     "output_type": "execute_result"
    }
   ],
   "source": [
    "dump(regr, 'modelos/sc/regr.pkl')"
   ]
  },
  {
   "cell_type": "markdown",
   "metadata": {},
   "source": [
    "### LGBM"
   ]
  },
  {
   "cell_type": "code",
   "execution_count": 62,
   "metadata": {},
   "outputs": [],
   "source": [
    "import lightgbm as lgb"
   ]
  },
  {
   "cell_type": "code",
   "execution_count": 63,
   "metadata": {},
   "outputs": [
    {
     "name": "stdout",
     "output_type": "stream",
     "text": [
      "[1]\tvalid_0's l1: 55436.3\tvalid_0's l2: 4.32643e+09\n",
      "Training until validation scores don't improve for 10 rounds.\n",
      "[2]\tvalid_0's l1: 55438.4\tvalid_0's l2: 4.32734e+09\n",
      "[3]\tvalid_0's l1: 55433.8\tvalid_0's l2: 4.32699e+09\n",
      "[4]\tvalid_0's l1: 55435.3\tvalid_0's l2: 4.32795e+09\n",
      "[5]\tvalid_0's l1: 55437\tvalid_0's l2: 4.3291e+09\n",
      "[6]\tvalid_0's l1: 55446.4\tvalid_0's l2: 4.33147e+09\n",
      "[7]\tvalid_0's l1: 55453.3\tvalid_0's l2: 4.33372e+09\n",
      "[8]\tvalid_0's l1: 55462.3\tvalid_0's l2: 4.33608e+09\n",
      "[9]\tvalid_0's l1: 55473\tvalid_0's l2: 4.33856e+09\n",
      "[10]\tvalid_0's l1: 55483.8\tvalid_0's l2: 4.34101e+09\n",
      "[11]\tvalid_0's l1: 55492.2\tvalid_0's l2: 4.3434e+09\n",
      "Early stopping, best iteration is:\n",
      "[1]\tvalid_0's l1: 55436.3\tvalid_0's l2: 4.32643e+09\n",
      "RMSE: 65775.576436\n"
     ]
    }
   ],
   "source": [
    "lgb_train = lgb.Dataset(installs1.iloc[:,:-1], installs1.iloc[:,-1])\n",
    "lgb_eval = lgb.Dataset(installsCheck1.iloc[:,:-1], installsCheck1.iloc[:,-1], reference=lgb_train)\n",
    "params = {\n",
    "    'boosting_type': 'gbdt',\n",
    "    'objective': 'regression',\n",
    "    'metric': {'l2', 'l1'},\n",
    "    'num_leaves': 31,\n",
    "    'learning_rate': 0.05,\n",
    "    'feature_fraction': 0.9,\n",
    "    'bagging_fraction': 0.8,\n",
    "    'bagging_freq': 5,\n",
    "    'verbose': 0\n",
    "}\n",
    "gbm = lgb.train(params, lgb_train, num_boost_round=20, valid_sets=lgb_eval, early_stopping_rounds=10)\n",
    "preds = gbm.predict(installsCheck1.iloc[:,:-1], num_iteration=gbm.best_iteration)\n",
    "rmse = np.sqrt(mean_squared_error(installsCheck1.iloc[:,-1], preds))\n",
    "print(\"RMSE: %f\" % (rmse))"
   ]
  },
  {
   "cell_type": "code",
   "execution_count": 64,
   "metadata": {},
   "outputs": [
    {
     "name": "stdout",
     "output_type": "stream",
     "text": [
      "[1]\tvalid_0's l1: 56837.9\tvalid_0's l2: 4.60391e+09\n",
      "Training until validation scores don't improve for 10 rounds.\n",
      "[2]\tvalid_0's l1: 56843.4\tvalid_0's l2: 4.60514e+09\n",
      "[3]\tvalid_0's l1: 56841.2\tvalid_0's l2: 4.60507e+09\n",
      "[4]\tvalid_0's l1: 56835.3\tvalid_0's l2: 4.60493e+09\n",
      "[5]\tvalid_0's l1: 56838.4\tvalid_0's l2: 4.60613e+09\n",
      "[6]\tvalid_0's l1: 56841.7\tvalid_0's l2: 4.60709e+09\n",
      "[7]\tvalid_0's l1: 56847.4\tvalid_0's l2: 4.60841e+09\n",
      "[8]\tvalid_0's l1: 56846.6\tvalid_0's l2: 4.6088e+09\n",
      "[9]\tvalid_0's l1: 56852.1\tvalid_0's l2: 4.61026e+09\n",
      "[10]\tvalid_0's l1: 56860.1\tvalid_0's l2: 4.61221e+09\n",
      "[11]\tvalid_0's l1: 56855.8\tvalid_0's l2: 4.61175e+09\n",
      "Early stopping, best iteration is:\n",
      "[1]\tvalid_0's l1: 56837.9\tvalid_0's l2: 4.60391e+09\n",
      "RMSE: 67852.095327\n"
     ]
    }
   ],
   "source": [
    "lgb_train = lgb.Dataset(installs2.iloc[:,:-1], installs2.iloc[:,-1])\n",
    "lgb_eval = lgb.Dataset(installsCheck2.iloc[:,:-1], installsCheck2.iloc[:,-1], reference=lgb_train)\n",
    "params = {\n",
    "    'boosting_type': 'gbdt',\n",
    "    'objective': 'regression',\n",
    "    'metric': {'l2', 'l1'},\n",
    "    'num_leaves': 31,\n",
    "    'learning_rate': 0.05,\n",
    "    'feature_fraction': 0.9,\n",
    "    'bagging_fraction': 0.8,\n",
    "    'bagging_freq': 5,\n",
    "    'verbose': 0\n",
    "}\n",
    "gbm = lgb.train(params, lgb_train, num_boost_round=20, valid_sets=lgb_eval, early_stopping_rounds=10)\n",
    "preds = gbm.predict(installsCheck2.iloc[:,:-1], num_iteration=gbm.best_iteration)\n",
    "rmse = np.sqrt(mean_squared_error(installsCheck2.iloc[:,-1], preds))\n",
    "print(\"RMSE: %f\" % (rmse))"
   ]
  },
  {
   "cell_type": "code",
   "execution_count": 65,
   "metadata": {},
   "outputs": [
    {
     "name": "stdout",
     "output_type": "stream",
     "text": [
      "[1]\tvalid_0's l1: 57631.5\tvalid_0's l2: 4.7152e+09\n",
      "Training until validation scores don't improve for 10 rounds.\n",
      "[2]\tvalid_0's l1: 57639.1\tvalid_0's l2: 4.71753e+09\n",
      "[3]\tvalid_0's l1: 57639.4\tvalid_0's l2: 4.71796e+09\n",
      "[4]\tvalid_0's l1: 57639.1\tvalid_0's l2: 4.71891e+09\n",
      "[5]\tvalid_0's l1: 57647.1\tvalid_0's l2: 4.72151e+09\n",
      "[6]\tvalid_0's l1: 57656.3\tvalid_0's l2: 4.72429e+09\n",
      "[7]\tvalid_0's l1: 57665.1\tvalid_0's l2: 4.72704e+09\n",
      "[8]\tvalid_0's l1: 57667.8\tvalid_0's l2: 4.72857e+09\n",
      "[9]\tvalid_0's l1: 57680.3\tvalid_0's l2: 4.73201e+09\n",
      "[10]\tvalid_0's l1: 57691.3\tvalid_0's l2: 4.7353e+09\n",
      "[11]\tvalid_0's l1: 57698.8\tvalid_0's l2: 4.73752e+09\n",
      "Early stopping, best iteration is:\n",
      "[1]\tvalid_0's l1: 57631.5\tvalid_0's l2: 4.7152e+09\n",
      "RMSE: 68667.326555\n"
     ]
    }
   ],
   "source": [
    "lgb_train = lgb.Dataset(installs3.iloc[:,:-1], installs3.iloc[:,-1])\n",
    "lgb_eval = lgb.Dataset(installsCheck3.iloc[:,:-1], installsCheck3.iloc[:,-1], reference=lgb_train)\n",
    "params = {\n",
    "    'boosting_type': 'gbdt',\n",
    "    'objective': 'regression',\n",
    "    'metric': {'l2', 'l1'},\n",
    "    'num_leaves': 31,\n",
    "    'learning_rate': 0.05,\n",
    "    'feature_fraction': 0.9,\n",
    "    'bagging_fraction': 0.8,\n",
    "    'bagging_freq': 5,\n",
    "    'verbose': 0\n",
    "}\n",
    "gbm = lgb.train(params, lgb_train, num_boost_round=20, valid_sets=lgb_eval, early_stopping_rounds=10)\n",
    "preds = gbm.predict(installsCheck3.iloc[:,:-1], num_iteration=gbm.best_iteration)\n",
    "rmse = np.sqrt(mean_squared_error(installsCheck3.iloc[:,-1], preds))\n",
    "print(\"RMSE: %f\" % (rmse))"
   ]
  },
  {
   "cell_type": "code",
   "execution_count": 66,
   "metadata": {},
   "outputs": [
    {
     "name": "stdout",
     "output_type": "stream",
     "text": [
      "[1]\tvalid_0's l1: 56382.1\tvalid_0's l2: 4.53583e+09\n",
      "Training until validation scores don't improve for 10 rounds.\n",
      "[2]\tvalid_0's l1: 56390.9\tvalid_0's l2: 4.53795e+09\n",
      "[3]\tvalid_0's l1: 56393.7\tvalid_0's l2: 4.53819e+09\n",
      "[4]\tvalid_0's l1: 56402.9\tvalid_0's l2: 4.53998e+09\n",
      "[5]\tvalid_0's l1: 56410.6\tvalid_0's l2: 4.54169e+09\n",
      "[6]\tvalid_0's l1: 56427.7\tvalid_0's l2: 4.54482e+09\n",
      "[7]\tvalid_0's l1: 56443.3\tvalid_0's l2: 4.54776e+09\n",
      "[8]\tvalid_0's l1: 56455.5\tvalid_0's l2: 4.55008e+09\n",
      "[9]\tvalid_0's l1: 56462.7\tvalid_0's l2: 4.55204e+09\n",
      "[10]\tvalid_0's l1: 56472.5\tvalid_0's l2: 4.55389e+09\n",
      "[11]\tvalid_0's l1: 56487.6\tvalid_0's l2: 4.55734e+09\n",
      "Early stopping, best iteration is:\n",
      "[1]\tvalid_0's l1: 56382.1\tvalid_0's l2: 4.53583e+09\n",
      "RMSE: 67348.581056\n"
     ]
    }
   ],
   "source": [
    "lgb_train = lgb.Dataset(installs4.iloc[:,:-1], installs4.iloc[:,-1])\n",
    "lgb_eval = lgb.Dataset(installsCheck4.iloc[:,:-1], installsCheck4.iloc[:,-1], reference=lgb_train)\n",
    "params = {\n",
    "    'boosting_type': 'gbdt',\n",
    "    'objective': 'regression',\n",
    "    'metric': {'l2', 'l1'},\n",
    "    'num_leaves': 31,\n",
    "    'learning_rate': 0.05,\n",
    "    'feature_fraction': 0.9,\n",
    "    'bagging_fraction': 0.8,\n",
    "    'bagging_freq': 5,\n",
    "    'verbose': 0\n",
    "}\n",
    "gbm = lgb.train(params, lgb_train, num_boost_round=20, valid_sets=lgb_eval, early_stopping_rounds=10)\n",
    "preds = gbm.predict(installsCheck4.iloc[:,:-1], num_iteration=gbm.best_iteration)\n",
    "rmse = np.sqrt(mean_squared_error(installsCheck4.iloc[:,-1], preds))\n",
    "print(\"RMSE: %f\" % (rmse))"
   ]
  },
  {
   "cell_type": "code",
   "execution_count": 67,
   "metadata": {},
   "outputs": [
    {
     "name": "stdout",
     "output_type": "stream",
     "text": [
      "[1]\tvalid_0's l1: 54171.5\tvalid_0's l2: 4.16867e+09\n",
      "Training until validation scores don't improve for 10 rounds.\n",
      "[2]\tvalid_0's l1: 54199.4\tvalid_0's l2: 4.17498e+09\n",
      "[3]\tvalid_0's l1: 54193.9\tvalid_0's l2: 4.17481e+09\n",
      "[4]\tvalid_0's l1: 54221.2\tvalid_0's l2: 4.18067e+09\n",
      "[5]\tvalid_0's l1: 54219.4\tvalid_0's l2: 4.18187e+09\n",
      "[6]\tvalid_0's l1: 54221.2\tvalid_0's l2: 4.18366e+09\n",
      "[7]\tvalid_0's l1: 54221.1\tvalid_0's l2: 4.18519e+09\n",
      "[8]\tvalid_0's l1: 54221.9\tvalid_0's l2: 4.18683e+09\n",
      "[9]\tvalid_0's l1: 54219\tvalid_0's l2: 4.1879e+09\n",
      "[10]\tvalid_0's l1: 54237.4\tvalid_0's l2: 4.19224e+09\n",
      "[11]\tvalid_0's l1: 54259.8\tvalid_0's l2: 4.1977e+09\n",
      "Early stopping, best iteration is:\n",
      "[1]\tvalid_0's l1: 54171.5\tvalid_0's l2: 4.16867e+09\n",
      "RMSE: 64565.240891\n"
     ]
    }
   ],
   "source": [
    "lgb_train = lgb.Dataset(installs5.iloc[:,:-1], installs5.iloc[:,-1])\n",
    "lgb_eval = lgb.Dataset(installsCheck5.iloc[:,:-1], installsCheck5.iloc[:,-1], reference=lgb_train)\n",
    "params = {\n",
    "    'boosting_type': 'gbdt',\n",
    "    'objective': 'regression',\n",
    "    'metric': {'l2', 'l1'},\n",
    "    'num_leaves': 31,\n",
    "    'learning_rate': 0.05,\n",
    "    'feature_fraction': 0.9,\n",
    "    'bagging_fraction': 0.8,\n",
    "    'bagging_freq': 5,\n",
    "    'verbose': 0\n",
    "}\n",
    "gbm = lgb.train(params, lgb_train, num_boost_round=20, valid_sets=lgb_eval, early_stopping_rounds=10)\n",
    "preds = gbm.predict(installsCheck5.iloc[:,:-1], num_iteration=gbm.best_iteration)\n",
    "rmse = np.sqrt(mean_squared_error(installsCheck5.iloc[:,-1], preds))\n",
    "print(\"RMSE: %f\" % (rmse))"
   ]
  },
  {
   "cell_type": "code",
   "execution_count": 68,
   "metadata": {},
   "outputs": [],
   "source": [
    "targets_sc_with_installs['most_freq_lang'] = targets_sc_with_installs['most_freq_lang'].astype('float64')\n",
    "X = targets_sc_with_installs[['ref_type', 'ref_hash', 'total_apps', '%implicit', '%attributed', 'most_freq_lang', \n",
    "                             'most_freq_app', 'model', 'ip', 'events_%wifi', 'event_apps', 'distinct_events', \n",
    "                             'total_events']]\n",
    "predictions_sc_lgbm = gbm.predict(X)"
   ]
  },
  {
   "cell_type": "code",
   "execution_count": 69,
   "metadata": {},
   "outputs": [
    {
     "data": {
      "text/plain": [
       "['modelos/sc/gbm.pkl']"
      ]
     },
     "execution_count": 69,
     "metadata": {},
     "output_type": "execute_result"
    }
   ],
   "source": [
    "dump(gbm, 'modelos/sc/gbm.pkl')"
   ]
  },
  {
   "cell_type": "markdown",
   "metadata": {},
   "source": [
    "### Random Forests"
   ]
  },
  {
   "cell_type": "code",
   "execution_count": 70,
   "metadata": {},
   "outputs": [],
   "source": [
    "from sklearn.ensemble import RandomForestRegressor\n",
    "rf = RandomForestRegressor(n_estimators=10, criterion='mse', max_depth=5, min_samples_split=2, \n",
    "                           min_samples_leaf=1, min_weight_fraction_leaf=0.0, max_features='auto', \n",
    "                           max_leaf_nodes=None, min_impurity_decrease=0.0, min_impurity_split=None, \n",
    "                           bootstrap=True, oob_score=False, n_jobs=None, random_state=None, verbose=0, \n",
    "                           warm_start=False)"
   ]
  },
  {
   "cell_type": "code",
   "execution_count": 71,
   "metadata": {},
   "outputs": [
    {
     "name": "stdout",
     "output_type": "stream",
     "text": [
      "RMSE: 66241.227820\n"
     ]
    }
   ],
   "source": [
    "X, y = installs1.iloc[:,:-1], installs1.iloc[:,-1]\n",
    "rf.fit(X, y)\n",
    "preds = rf.predict(installsCheck1.iloc[:,:-1])\n",
    "rmse = np.sqrt(mean_squared_error(installsCheck1.iloc[:,-1], preds))\n",
    "print(\"RMSE: %f\" % (rmse))"
   ]
  },
  {
   "cell_type": "code",
   "execution_count": 72,
   "metadata": {},
   "outputs": [
    {
     "name": "stdout",
     "output_type": "stream",
     "text": [
      "RMSE: 67847.388428\n"
     ]
    }
   ],
   "source": [
    "X, y = installs2.iloc[:,:-1], installs2.iloc[:,-1]\n",
    "rf.fit(X, y)\n",
    "preds = rf.predict(installsCheck2.iloc[:,:-1])\n",
    "rmse = np.sqrt(mean_squared_error(installsCheck2.iloc[:,-1], preds))\n",
    "print(\"RMSE: %f\" % (rmse))"
   ]
  },
  {
   "cell_type": "code",
   "execution_count": 73,
   "metadata": {},
   "outputs": [
    {
     "name": "stdout",
     "output_type": "stream",
     "text": [
      "RMSE: 68859.282962\n"
     ]
    }
   ],
   "source": [
    "X, y = installs3.iloc[:,:-1], installs3.iloc[:,-1]\n",
    "rf.fit(X, y)\n",
    "preds = rf.predict(installsCheck3.iloc[:,:-1])\n",
    "rmse = np.sqrt(mean_squared_error(installsCheck3.iloc[:,-1], preds))\n",
    "print(\"RMSE: %f\" % (rmse))"
   ]
  },
  {
   "cell_type": "code",
   "execution_count": 74,
   "metadata": {},
   "outputs": [
    {
     "name": "stdout",
     "output_type": "stream",
     "text": [
      "RMSE: 67523.298430\n"
     ]
    }
   ],
   "source": [
    "X, y = installs4.iloc[:,:-1], installs4.iloc[:,-1]\n",
    "rf.fit(X, y)\n",
    "preds = rf.predict(installsCheck4.iloc[:,:-1])\n",
    "rmse = np.sqrt(mean_squared_error(installsCheck4.iloc[:,-1], preds))\n",
    "print(\"RMSE: %f\" % (rmse))"
   ]
  },
  {
   "cell_type": "code",
   "execution_count": 75,
   "metadata": {},
   "outputs": [
    {
     "name": "stdout",
     "output_type": "stream",
     "text": [
      "RMSE: 64671.490337\n"
     ]
    }
   ],
   "source": [
    "X, y = installs5.iloc[:,:-1], installs5.iloc[:,-1]\n",
    "rf.fit(X, y)\n",
    "preds = rf.predict(installsCheck5.iloc[:,:-1])\n",
    "rmse = np.sqrt(mean_squared_error(installsCheck5.iloc[:,-1], preds))\n",
    "print(\"RMSE: %f\" % (rmse))"
   ]
  },
  {
   "cell_type": "code",
   "execution_count": 76,
   "metadata": {},
   "outputs": [],
   "source": [
    "targets_sc_with_installs['most_freq_lang'] = targets_sc_with_installs['most_freq_lang'].astype('float64')\n",
    "X = targets_sc_with_installs[['ref_type', 'ref_hash', 'total_apps', '%implicit', '%attributed', 'most_freq_lang', \n",
    "                             'most_freq_app', 'model', 'ip', 'events_%wifi', 'event_apps', 'distinct_events', \n",
    "                             'total_events']]\n",
    "predictions_sc_rf = rf.predict(X)"
   ]
  },
  {
   "cell_type": "code",
   "execution_count": 77,
   "metadata": {},
   "outputs": [
    {
     "data": {
      "text/plain": [
       "['modelos/sc/rf.pkl']"
      ]
     },
     "execution_count": 77,
     "metadata": {},
     "output_type": "execute_result"
    }
   ],
   "source": [
    "dump(rf, 'modelos/sc/rf.pkl')"
   ]
  },
  {
   "cell_type": "markdown",
   "metadata": {},
   "source": [
    "### MLP"
   ]
  },
  {
   "cell_type": "code",
   "execution_count": 78,
   "metadata": {},
   "outputs": [],
   "source": [
    "from sklearn.neural_network import MLPRegressor\n",
    "nn = MLPRegressor(activation='logistic', learning_rate='adaptive', warm_start=True, max_iter= 400)"
   ]
  },
  {
   "cell_type": "code",
   "execution_count": 79,
   "metadata": {},
   "outputs": [
    {
     "name": "stderr",
     "output_type": "stream",
     "text": [
      "/home/gabriel/workspace/7506-1c2019/env/lib/python3.5/site-packages/sklearn/neural_network/multilayer_perceptron.py:566: ConvergenceWarning: Stochastic Optimizer: Maximum iterations (400) reached and the optimization hasn't converged yet.\n",
      "  % self.max_iter, ConvergenceWarning)\n"
     ]
    },
    {
     "name": "stdout",
     "output_type": "stream",
     "text": [
      "RMSE: 84109.713272\n"
     ]
    }
   ],
   "source": [
    "X, y = installs1.iloc[:,:-1], installs1.iloc[:,-1]\n",
    "nn.fit(X, y)\n",
    "preds = nn.predict(installsCheck1.iloc[:,:-1])\n",
    "rmse = np.sqrt(mean_squared_error(installsCheck1.iloc[:,-1], preds))\n",
    "print(\"RMSE: %f\" % (rmse))"
   ]
  },
  {
   "cell_type": "code",
   "execution_count": 80,
   "metadata": {},
   "outputs": [
    {
     "name": "stdout",
     "output_type": "stream",
     "text": [
      "RMSE: 82863.262654\n"
     ]
    }
   ],
   "source": [
    "X, y = installs2.iloc[:,:-1], installs2.iloc[:,-1]\n",
    "nn.fit(X, y)\n",
    "preds = nn.predict(installsCheck2.iloc[:,:-1])\n",
    "rmse = np.sqrt(mean_squared_error(installsCheck2.iloc[:,-1], preds))\n",
    "print(\"RMSE: %f\" % (rmse))"
   ]
  },
  {
   "cell_type": "code",
   "execution_count": 81,
   "metadata": {},
   "outputs": [
    {
     "name": "stdout",
     "output_type": "stream",
     "text": [
      "RMSE: 81846.114578\n"
     ]
    }
   ],
   "source": [
    "X, y = installs3.iloc[:,:-1], installs3.iloc[:,-1]\n",
    "nn.fit(X, y)\n",
    "preds = nn.predict(installsCheck3.iloc[:,:-1])\n",
    "rmse = np.sqrt(mean_squared_error(installsCheck3.iloc[:,-1], preds))\n",
    "print(\"RMSE: %f\" % (rmse))"
   ]
  },
  {
   "cell_type": "code",
   "execution_count": 82,
   "metadata": {},
   "outputs": [
    {
     "name": "stdout",
     "output_type": "stream",
     "text": [
      "RMSE: 84326.465828\n"
     ]
    }
   ],
   "source": [
    "X, y = installs4.iloc[:,:-1], installs4.iloc[:,-1]\n",
    "nn.fit(X, y)\n",
    "preds = nn.predict(installsCheck4.iloc[:,:-1])\n",
    "rmse = np.sqrt(mean_squared_error(installsCheck4.iloc[:,-1], preds))\n",
    "print(\"RMSE: %f\" % (rmse))"
   ]
  },
  {
   "cell_type": "code",
   "execution_count": 83,
   "metadata": {},
   "outputs": [
    {
     "name": "stdout",
     "output_type": "stream",
     "text": [
      "RMSE: 79019.263483\n"
     ]
    }
   ],
   "source": [
    "X, y = installs5.iloc[:,:-1], installs5.iloc[:,-1]\n",
    "nn.fit(X, y)\n",
    "preds = nn.predict(installsCheck5.iloc[:,:-1])\n",
    "rmse = np.sqrt(mean_squared_error(installsCheck5.iloc[:,-1], preds))\n",
    "print(\"RMSE: %f\" % (rmse))"
   ]
  },
  {
   "cell_type": "code",
   "execution_count": 84,
   "metadata": {},
   "outputs": [],
   "source": [
    "targets_sc_with_installs['most_freq_lang'] = targets_sc_with_installs['most_freq_lang'].astype('float64')\n",
    "X = targets_sc_with_installs[['ref_type', 'ref_hash', 'total_apps', '%implicit', '%attributed', 'most_freq_lang', \n",
    "                             'most_freq_app', 'model', 'ip', 'events_%wifi', 'event_apps', 'distinct_events', \n",
    "                             'total_events']]\n",
    "predictions_sc_nn = nn.predict(X)"
   ]
  },
  {
   "cell_type": "code",
   "execution_count": 85,
   "metadata": {},
   "outputs": [
    {
     "data": {
      "text/plain": [
       "['modelos/sc/nn.pkl']"
      ]
     },
     "execution_count": 85,
     "metadata": {},
     "output_type": "execute_result"
    }
   ],
   "source": [
    "dump(nn, 'modelos/sc/nn.pkl')"
   ]
  },
  {
   "cell_type": "markdown",
   "metadata": {},
   "source": [
    "## Promedio las predicciones y actualizo el target"
   ]
  },
  {
   "cell_type": "code",
   "execution_count": 87,
   "metadata": {},
   "outputs": [
    {
     "name": "stderr",
     "output_type": "stream",
     "text": [
      "/home/gabriel/workspace/7506-1c2019/env/lib/python3.5/site-packages/ipykernel_launcher.py:3: SettingWithCopyWarning: \n",
      "A value is trying to be set on a copy of a slice from a DataFrame.\n",
      "Try using .loc[row_indexer,col_indexer] = value instead\n",
      "\n",
      "See the caveats in the documentation: http://pandas.pydata.org/pandas-docs/stable/indexing.html#indexing-view-versus-copy\n",
      "  This is separate from the ipykernel package so we can avoid doing imports until\n",
      "/home/gabriel/workspace/7506-1c2019/env/lib/python3.5/site-packages/ipykernel_launcher.py:5: SettingWithCopyWarning: \n",
      "A value is trying to be set on a copy of a slice from a DataFrame.\n",
      "Try using .loc[row_indexer,col_indexer] = value instead\n",
      "\n",
      "See the caveats in the documentation: http://pandas.pydata.org/pandas-docs/stable/indexing.html#indexing-view-versus-copy\n",
      "  \"\"\"\n"
     ]
    },
    {
     "data": {
      "text/html": [
       "<div>\n",
       "<style scoped>\n",
       "    .dataframe tbody tr th:only-of-type {\n",
       "        vertical-align: middle;\n",
       "    }\n",
       "\n",
       "    .dataframe tbody tr th {\n",
       "        vertical-align: top;\n",
       "    }\n",
       "\n",
       "    .dataframe thead th {\n",
       "        text-align: right;\n",
       "    }\n",
       "</style>\n",
       "<table border=\"1\" class=\"dataframe\">\n",
       "  <thead>\n",
       "    <tr style=\"text-align: right;\">\n",
       "      <th></th>\n",
       "      <th>ref_hash</th>\n",
       "      <th>obj</th>\n",
       "    </tr>\n",
       "  </thead>\n",
       "  <tbody>\n",
       "    <tr>\n",
       "      <th>0</th>\n",
       "      <td>1000169251625791246_sc</td>\n",
       "      <td>105747.054158</td>\n",
       "    </tr>\n",
       "    <tr>\n",
       "      <th>1</th>\n",
       "      <td>1000169251625791246_st</td>\n",
       "      <td>0.000000</td>\n",
       "    </tr>\n",
       "    <tr>\n",
       "      <th>2</th>\n",
       "      <td>1000395625957344683_sc</td>\n",
       "      <td>110877.400863</td>\n",
       "    </tr>\n",
       "    <tr>\n",
       "      <th>3</th>\n",
       "      <td>1000395625957344683_st</td>\n",
       "      <td>0.000000</td>\n",
       "    </tr>\n",
       "    <tr>\n",
       "      <th>4</th>\n",
       "      <td>1003027494996471685_sc</td>\n",
       "      <td>107322.915289</td>\n",
       "    </tr>\n",
       "    <tr>\n",
       "      <th>5</th>\n",
       "      <td>1003027494996471685_st</td>\n",
       "      <td>0.000000</td>\n",
       "    </tr>\n",
       "    <tr>\n",
       "      <th>6</th>\n",
       "      <td>1006670001679961544_sc</td>\n",
       "      <td>108395.398453</td>\n",
       "    </tr>\n",
       "    <tr>\n",
       "      <th>7</th>\n",
       "      <td>1006670001679961544_st</td>\n",
       "      <td>0.000000</td>\n",
       "    </tr>\n",
       "    <tr>\n",
       "      <th>8</th>\n",
       "      <td>1007573308966476713_sc</td>\n",
       "      <td>107132.568269</td>\n",
       "    </tr>\n",
       "    <tr>\n",
       "      <th>9</th>\n",
       "      <td>1007573308966476713_st</td>\n",
       "      <td>0.000000</td>\n",
       "    </tr>\n",
       "    <tr>\n",
       "      <th>10</th>\n",
       "      <td>1010070503877148763_sc</td>\n",
       "      <td>104001.010367</td>\n",
       "    </tr>\n",
       "    <tr>\n",
       "      <th>11</th>\n",
       "      <td>1010070503877148763_st</td>\n",
       "      <td>0.000000</td>\n",
       "    </tr>\n",
       "    <tr>\n",
       "      <th>12</th>\n",
       "      <td>1010265377387765028_sc</td>\n",
       "      <td>101634.728198</td>\n",
       "    </tr>\n",
       "    <tr>\n",
       "      <th>13</th>\n",
       "      <td>1010265377387765028_st</td>\n",
       "      <td>0.000000</td>\n",
       "    </tr>\n",
       "    <tr>\n",
       "      <th>14</th>\n",
       "      <td>1010531372912327058_sc</td>\n",
       "      <td>103423.491709</td>\n",
       "    </tr>\n",
       "    <tr>\n",
       "      <th>15</th>\n",
       "      <td>1010531372912327058_st</td>\n",
       "      <td>0.000000</td>\n",
       "    </tr>\n",
       "    <tr>\n",
       "      <th>16</th>\n",
       "      <td>1011610998357271358_sc</td>\n",
       "      <td>107937.421483</td>\n",
       "    </tr>\n",
       "    <tr>\n",
       "      <th>17</th>\n",
       "      <td>1011610998357271358_st</td>\n",
       "      <td>0.000000</td>\n",
       "    </tr>\n",
       "    <tr>\n",
       "      <th>18</th>\n",
       "      <td>1013543838965040946_sc</td>\n",
       "      <td>106205.433597</td>\n",
       "    </tr>\n",
       "    <tr>\n",
       "      <th>19</th>\n",
       "      <td>1013543838965040946_st</td>\n",
       "      <td>0.000000</td>\n",
       "    </tr>\n",
       "    <tr>\n",
       "      <th>20</th>\n",
       "      <td>1014428234021750342_sc</td>\n",
       "      <td>109139.126434</td>\n",
       "    </tr>\n",
       "    <tr>\n",
       "      <th>21</th>\n",
       "      <td>1014428234021750342_st</td>\n",
       "      <td>0.000000</td>\n",
       "    </tr>\n",
       "    <tr>\n",
       "      <th>22</th>\n",
       "      <td>101763096421653092_sc</td>\n",
       "      <td>107733.984964</td>\n",
       "    </tr>\n",
       "    <tr>\n",
       "      <th>23</th>\n",
       "      <td>101763096421653092_st</td>\n",
       "      <td>0.000000</td>\n",
       "    </tr>\n",
       "    <tr>\n",
       "      <th>24</th>\n",
       "      <td>1017668882534236751_sc</td>\n",
       "      <td>104885.089797</td>\n",
       "    </tr>\n",
       "    <tr>\n",
       "      <th>25</th>\n",
       "      <td>1017668882534236751_st</td>\n",
       "      <td>0.000000</td>\n",
       "    </tr>\n",
       "    <tr>\n",
       "      <th>26</th>\n",
       "      <td>1017958004932387739_sc</td>\n",
       "      <td>107436.524832</td>\n",
       "    </tr>\n",
       "    <tr>\n",
       "      <th>27</th>\n",
       "      <td>1017958004932387739_st</td>\n",
       "      <td>0.000000</td>\n",
       "    </tr>\n",
       "    <tr>\n",
       "      <th>28</th>\n",
       "      <td>1018126962792619181_sc</td>\n",
       "      <td>110989.094037</td>\n",
       "    </tr>\n",
       "    <tr>\n",
       "      <th>29</th>\n",
       "      <td>1018126962792619181_st</td>\n",
       "      <td>0.000000</td>\n",
       "    </tr>\n",
       "    <tr>\n",
       "      <th>...</th>\n",
       "      <td>...</td>\n",
       "      <td>...</td>\n",
       "    </tr>\n",
       "    <tr>\n",
       "      <th>8044</th>\n",
       "      <td>950195972417607793_sc</td>\n",
       "      <td>108104.028132</td>\n",
       "    </tr>\n",
       "    <tr>\n",
       "      <th>8045</th>\n",
       "      <td>950195972417607793_st</td>\n",
       "      <td>0.000000</td>\n",
       "    </tr>\n",
       "    <tr>\n",
       "      <th>8046</th>\n",
       "      <td>954110623376544206_sc</td>\n",
       "      <td>109250.754957</td>\n",
       "    </tr>\n",
       "    <tr>\n",
       "      <th>8047</th>\n",
       "      <td>954110623376544206_st</td>\n",
       "      <td>0.000000</td>\n",
       "    </tr>\n",
       "    <tr>\n",
       "      <th>8048</th>\n",
       "      <td>954940018576714924_sc</td>\n",
       "      <td>104150.172807</td>\n",
       "    </tr>\n",
       "    <tr>\n",
       "      <th>8049</th>\n",
       "      <td>954940018576714924_st</td>\n",
       "      <td>0.000000</td>\n",
       "    </tr>\n",
       "    <tr>\n",
       "      <th>8050</th>\n",
       "      <td>956704247780926402_sc</td>\n",
       "      <td>106132.747233</td>\n",
       "    </tr>\n",
       "    <tr>\n",
       "      <th>8051</th>\n",
       "      <td>956704247780926402_st</td>\n",
       "      <td>0.000000</td>\n",
       "    </tr>\n",
       "    <tr>\n",
       "      <th>8052</th>\n",
       "      <td>960623204161846765_sc</td>\n",
       "      <td>110639.459815</td>\n",
       "    </tr>\n",
       "    <tr>\n",
       "      <th>8053</th>\n",
       "      <td>960623204161846765_st</td>\n",
       "      <td>0.000000</td>\n",
       "    </tr>\n",
       "    <tr>\n",
       "      <th>8054</th>\n",
       "      <td>961631829441650729_sc</td>\n",
       "      <td>107144.665541</td>\n",
       "    </tr>\n",
       "    <tr>\n",
       "      <th>8055</th>\n",
       "      <td>961631829441650729_st</td>\n",
       "      <td>0.000000</td>\n",
       "    </tr>\n",
       "    <tr>\n",
       "      <th>8056</th>\n",
       "      <td>962595921037755088_sc</td>\n",
       "      <td>110114.505090</td>\n",
       "    </tr>\n",
       "    <tr>\n",
       "      <th>8057</th>\n",
       "      <td>962595921037755088_st</td>\n",
       "      <td>0.000000</td>\n",
       "    </tr>\n",
       "    <tr>\n",
       "      <th>8058</th>\n",
       "      <td>964658792449865522_sc</td>\n",
       "      <td>100518.830731</td>\n",
       "    </tr>\n",
       "    <tr>\n",
       "      <th>8059</th>\n",
       "      <td>964658792449865522_st</td>\n",
       "      <td>0.000000</td>\n",
       "    </tr>\n",
       "    <tr>\n",
       "      <th>8060</th>\n",
       "      <td>974553511695777483_sc</td>\n",
       "      <td>105697.885230</td>\n",
       "    </tr>\n",
       "    <tr>\n",
       "      <th>8061</th>\n",
       "      <td>974553511695777483_st</td>\n",
       "      <td>0.000000</td>\n",
       "    </tr>\n",
       "    <tr>\n",
       "      <th>8062</th>\n",
       "      <td>97694307709005918_sc</td>\n",
       "      <td>103830.821659</td>\n",
       "    </tr>\n",
       "    <tr>\n",
       "      <th>8063</th>\n",
       "      <td>97694307709005918_st</td>\n",
       "      <td>0.000000</td>\n",
       "    </tr>\n",
       "    <tr>\n",
       "      <th>8064</th>\n",
       "      <td>977508757724050464_sc</td>\n",
       "      <td>105057.211798</td>\n",
       "    </tr>\n",
       "    <tr>\n",
       "      <th>8065</th>\n",
       "      <td>977508757724050464_st</td>\n",
       "      <td>0.000000</td>\n",
       "    </tr>\n",
       "    <tr>\n",
       "      <th>8066</th>\n",
       "      <td>979880031097032355_sc</td>\n",
       "      <td>113509.397079</td>\n",
       "    </tr>\n",
       "    <tr>\n",
       "      <th>8067</th>\n",
       "      <td>979880031097032355_st</td>\n",
       "      <td>0.000000</td>\n",
       "    </tr>\n",
       "    <tr>\n",
       "      <th>8068</th>\n",
       "      <td>987443249627191692_sc</td>\n",
       "      <td>102310.709433</td>\n",
       "    </tr>\n",
       "    <tr>\n",
       "      <th>8069</th>\n",
       "      <td>987443249627191692_st</td>\n",
       "      <td>0.000000</td>\n",
       "    </tr>\n",
       "    <tr>\n",
       "      <th>8070</th>\n",
       "      <td>997953354533822687_sc</td>\n",
       "      <td>106215.240050</td>\n",
       "    </tr>\n",
       "    <tr>\n",
       "      <th>8071</th>\n",
       "      <td>997953354533822687_st</td>\n",
       "      <td>0.000000</td>\n",
       "    </tr>\n",
       "    <tr>\n",
       "      <th>8072</th>\n",
       "      <td>998948062397755366_sc</td>\n",
       "      <td>105601.216125</td>\n",
       "    </tr>\n",
       "    <tr>\n",
       "      <th>8073</th>\n",
       "      <td>998948062397755366_st</td>\n",
       "      <td>0.000000</td>\n",
       "    </tr>\n",
       "  </tbody>\n",
       "</table>\n",
       "<p>8074 rows × 2 columns</p>\n",
       "</div>"
      ],
      "text/plain": [
       "                    ref_hash            obj\n",
       "0     1000169251625791246_sc  105747.054158\n",
       "1     1000169251625791246_st       0.000000\n",
       "2     1000395625957344683_sc  110877.400863\n",
       "3     1000395625957344683_st       0.000000\n",
       "4     1003027494996471685_sc  107322.915289\n",
       "5     1003027494996471685_st       0.000000\n",
       "6     1006670001679961544_sc  108395.398453\n",
       "7     1006670001679961544_st       0.000000\n",
       "8     1007573308966476713_sc  107132.568269\n",
       "9     1007573308966476713_st       0.000000\n",
       "10    1010070503877148763_sc  104001.010367\n",
       "11    1010070503877148763_st       0.000000\n",
       "12    1010265377387765028_sc  101634.728198\n",
       "13    1010265377387765028_st       0.000000\n",
       "14    1010531372912327058_sc  103423.491709\n",
       "15    1010531372912327058_st       0.000000\n",
       "16    1011610998357271358_sc  107937.421483\n",
       "17    1011610998357271358_st       0.000000\n",
       "18    1013543838965040946_sc  106205.433597\n",
       "19    1013543838965040946_st       0.000000\n",
       "20    1014428234021750342_sc  109139.126434\n",
       "21    1014428234021750342_st       0.000000\n",
       "22     101763096421653092_sc  107733.984964\n",
       "23     101763096421653092_st       0.000000\n",
       "24    1017668882534236751_sc  104885.089797\n",
       "25    1017668882534236751_st       0.000000\n",
       "26    1017958004932387739_sc  107436.524832\n",
       "27    1017958004932387739_st       0.000000\n",
       "28    1018126962792619181_sc  110989.094037\n",
       "29    1018126962792619181_st       0.000000\n",
       "...                      ...            ...\n",
       "8044   950195972417607793_sc  108104.028132\n",
       "8045   950195972417607793_st       0.000000\n",
       "8046   954110623376544206_sc  109250.754957\n",
       "8047   954110623376544206_st       0.000000\n",
       "8048   954940018576714924_sc  104150.172807\n",
       "8049   954940018576714924_st       0.000000\n",
       "8050   956704247780926402_sc  106132.747233\n",
       "8051   956704247780926402_st       0.000000\n",
       "8052   960623204161846765_sc  110639.459815\n",
       "8053   960623204161846765_st       0.000000\n",
       "8054   961631829441650729_sc  107144.665541\n",
       "8055   961631829441650729_st       0.000000\n",
       "8056   962595921037755088_sc  110114.505090\n",
       "8057   962595921037755088_st       0.000000\n",
       "8058   964658792449865522_sc  100518.830731\n",
       "8059   964658792449865522_st       0.000000\n",
       "8060   974553511695777483_sc  105697.885230\n",
       "8061   974553511695777483_st       0.000000\n",
       "8062    97694307709005918_sc  103830.821659\n",
       "8063    97694307709005918_st       0.000000\n",
       "8064   977508757724050464_sc  105057.211798\n",
       "8065   977508757724050464_st       0.000000\n",
       "8066   979880031097032355_sc  113509.397079\n",
       "8067   979880031097032355_st       0.000000\n",
       "8068   987443249627191692_sc  102310.709433\n",
       "8069   987443249627191692_st       0.000000\n",
       "8070   997953354533822687_sc  106215.240050\n",
       "8071   997953354533822687_st       0.000000\n",
       "8072   998948062397755366_sc  105601.216125\n",
       "8073   998948062397755366_st       0.000000\n",
       "\n",
       "[8074 rows x 2 columns]"
      ]
     },
     "execution_count": 87,
     "metadata": {},
     "output_type": "execute_result"
    }
   ],
   "source": [
    "predictions_sc = np.add(np.add(np.add(np.add(np.add(predictions_sc_xgb,predictions_sc_bagging), predictions_sc_adaboost), predictions_sc_lgbm),predictions_sc_rf), predictions_sc_nn)\n",
    "predictions_sc = predictions_sc / 6\n",
    "targets_sc['obj'] = predictions_sc\n",
    "predicciones_target_sc = target[target['ref_hash'].str.contains('_sc')]\n",
    "predicciones_target_sc['obj'] = predictions_sc\n",
    "target.update(predicciones_target_sc)\n",
    "# sc_pred = pd.read_csv('../datos/PrediccionesKNN-RF-XGBoost.txt', header = None)\n",
    "# sc_pred.index = np.arange(1, 8074, 2)\n",
    "# targets_st['obj'] = sc_pred[0]\n",
    "# target.update(targets_st)\n",
    "target"
   ]
  },
  {
   "cell_type": "code",
   "execution_count": 88,
   "metadata": {},
   "outputs": [],
   "source": [
    "target.to_csv('../datos/preds-promedios.csv', index = False)"
   ]
  },
  {
   "cell_type": "code",
   "execution_count": 89,
   "metadata": {},
   "outputs": [
    {
     "data": {
      "text/plain": [
       "ref_hash    8074\n",
       "obj         8074\n",
       "dtype: int64"
      ]
     },
     "execution_count": 89,
     "metadata": {},
     "output_type": "execute_result"
    }
   ],
   "source": [
    "target.count()"
   ]
  },
  {
   "cell_type": "markdown",
   "metadata": {},
   "source": [
    "## Blending"
   ]
  },
  {
   "cell_type": "code",
   "execution_count": 90,
   "metadata": {},
   "outputs": [],
   "source": [
    "from sklearn.model_selection import train_test_split\n",
    "from sklearn.linear_model import LogisticRegression"
   ]
  },
  {
   "cell_type": "code",
   "execution_count": 91,
   "metadata": {},
   "outputs": [],
   "source": [
    "xg_reg = xgb.XGBRegressor(objective ='reg:squarederror', \n",
    "                colsample_bytree = 0.3, learning_rate = 0.1,\n",
    "                max_depth = 5, alpha =10, n_estimators = 11)\n",
    "regr = AdaBoostRegressor(random_state=0, n_estimators=50, learning_rate=0.1)\n",
    "rf = RandomForestRegressor(n_estimators=10, criterion='mse', max_depth=5, min_samples_split=2, \n",
    "                           min_samples_leaf=1, min_weight_fraction_leaf=0.0, max_features='auto', \n",
    "                           max_leaf_nodes=None, min_impurity_decrease=0.0, min_impurity_split=None, \n",
    "                           bootstrap=True, oob_score=False, n_jobs=None, random_state=None, verbose=0, \n",
    "                           warm_start=False)\n",
    "bagging = BaggingRegressor(KNeighborsRegressor(), max_samples=0.5, max_features=0.5)\n",
    "gbm = lgb.LGBMRegressor(boosting_type= 'gbdt',\n",
    "                        objective= 'regression',\n",
    "                        num_leaves= 31,\n",
    "                        learning_rate= 0.05,\n",
    "                        feature_fraction= 0.9,\n",
    "                        bagging_fraction= 0.8,\n",
    "                        bagging_freq= 5,\n",
    "                        verbose= 0)"
   ]
  },
  {
   "cell_type": "markdown",
   "metadata": {},
   "source": [
    "#### Ventana 1"
   ]
  },
  {
   "cell_type": "code",
   "execution_count": 92,
   "metadata": {},
   "outputs": [],
   "source": [
    "X_test, y_test = installsCheck1.iloc[:,:-1], installsCheck1.iloc[:,-1]"
   ]
  },
  {
   "cell_type": "code",
   "execution_count": 93,
   "metadata": {},
   "outputs": [
    {
     "name": "stderr",
     "output_type": "stream",
     "text": [
      "/home/gabriel/workspace/7506-1c2019/env/lib/python3.5/site-packages/xgboost/core.py:587: FutureWarning: Series.base is deprecated and will be removed in a future version\n",
      "  if getattr(data, 'base', None) is not None and \\\n"
     ]
    },
    {
     "name": "stdout",
     "output_type": "stream",
     "text": [
      "[1]\tvalid_0's l2: 5.90274e+09\tvalid_0's l1: 67216\n",
      "Training until validation scores don't improve for 15 rounds.\n",
      "[2]\tvalid_0's l2: 5.89458e+09\tvalid_0's l1: 67170.8\n",
      "[3]\tvalid_0's l2: 5.89294e+09\tvalid_0's l1: 67161.2\n",
      "[4]\tvalid_0's l2: 5.88585e+09\tvalid_0's l1: 67120.1\n",
      "[5]\tvalid_0's l2: 5.87986e+09\tvalid_0's l1: 67083\n",
      "[6]\tvalid_0's l2: 5.87369e+09\tvalid_0's l1: 67044.2\n",
      "[7]\tvalid_0's l2: 5.86855e+09\tvalid_0's l1: 67010.3\n",
      "[8]\tvalid_0's l2: 5.86401e+09\tvalid_0's l1: 66979\n",
      "[9]\tvalid_0's l2: 5.85982e+09\tvalid_0's l1: 66949.2\n",
      "[10]\tvalid_0's l2: 5.85652e+09\tvalid_0's l1: 66925.1\n",
      "[11]\tvalid_0's l2: 5.85326e+09\tvalid_0's l1: 66902.4\n",
      "[12]\tvalid_0's l2: 5.85029e+09\tvalid_0's l1: 66880.6\n",
      "[13]\tvalid_0's l2: 5.84756e+09\tvalid_0's l1: 66860.3\n",
      "[14]\tvalid_0's l2: 5.84552e+09\tvalid_0's l1: 66844.5\n",
      "[15]\tvalid_0's l2: 5.84338e+09\tvalid_0's l1: 66827.7\n",
      "[16]\tvalid_0's l2: 5.84088e+09\tvalid_0's l1: 66808\n",
      "[17]\tvalid_0's l2: 5.83854e+09\tvalid_0's l1: 66789.9\n",
      "[18]\tvalid_0's l2: 5.8371e+09\tvalid_0's l1: 66778.2\n",
      "[19]\tvalid_0's l2: 5.83483e+09\tvalid_0's l1: 66759.7\n",
      "[20]\tvalid_0's l2: 5.8341e+09\tvalid_0's l1: 66752.5\n",
      "[21]\tvalid_0's l2: 5.83302e+09\tvalid_0's l1: 66742.8\n",
      "[22]\tvalid_0's l2: 5.83173e+09\tvalid_0's l1: 66731.1\n",
      "[23]\tvalid_0's l2: 5.83016e+09\tvalid_0's l1: 66718\n",
      "[24]\tvalid_0's l2: 5.82968e+09\tvalid_0's l1: 66712\n",
      "[25]\tvalid_0's l2: 5.82876e+09\tvalid_0's l1: 66702\n",
      "[26]\tvalid_0's l2: 5.8282e+09\tvalid_0's l1: 66694.7\n",
      "[27]\tvalid_0's l2: 5.82763e+09\tvalid_0's l1: 66687.6\n",
      "[28]\tvalid_0's l2: 5.8268e+09\tvalid_0's l1: 66678.5\n",
      "[29]\tvalid_0's l2: 5.82585e+09\tvalid_0's l1: 66668.7\n",
      "[30]\tvalid_0's l2: 5.82582e+09\tvalid_0's l1: 66666.2\n",
      "[31]\tvalid_0's l2: 5.82583e+09\tvalid_0's l1: 66665.2\n",
      "[32]\tvalid_0's l2: 5.82561e+09\tvalid_0's l1: 66662.3\n",
      "[33]\tvalid_0's l2: 5.8254e+09\tvalid_0's l1: 66659.2\n",
      "[34]\tvalid_0's l2: 5.82524e+09\tvalid_0's l1: 66656.7\n",
      "[35]\tvalid_0's l2: 5.82511e+09\tvalid_0's l1: 66654.9\n",
      "[36]\tvalid_0's l2: 5.82518e+09\tvalid_0's l1: 66655\n",
      "[37]\tvalid_0's l2: 5.82541e+09\tvalid_0's l1: 66654.2\n",
      "[38]\tvalid_0's l2: 5.82548e+09\tvalid_0's l1: 66651.9\n",
      "[39]\tvalid_0's l2: 5.82539e+09\tvalid_0's l1: 66649\n",
      "[40]\tvalid_0's l2: 5.8256e+09\tvalid_0's l1: 66649.1\n",
      "[41]\tvalid_0's l2: 5.82486e+09\tvalid_0's l1: 66640.5\n",
      "[42]\tvalid_0's l2: 5.82426e+09\tvalid_0's l1: 66633.6\n",
      "[43]\tvalid_0's l2: 5.82392e+09\tvalid_0's l1: 66628.3\n",
      "[44]\tvalid_0's l2: 5.82328e+09\tvalid_0's l1: 66620.1\n",
      "[45]\tvalid_0's l2: 5.82324e+09\tvalid_0's l1: 66619.4\n",
      "[46]\tvalid_0's l2: 5.82346e+09\tvalid_0's l1: 66620.3\n",
      "[47]\tvalid_0's l2: 5.82354e+09\tvalid_0's l1: 66619.5\n",
      "[48]\tvalid_0's l2: 5.8236e+09\tvalid_0's l1: 66619.1\n",
      "[49]\tvalid_0's l2: 5.82356e+09\tvalid_0's l1: 66618.8\n",
      "[50]\tvalid_0's l2: 5.82303e+09\tvalid_0's l1: 66611.7\n",
      "[51]\tvalid_0's l2: 5.82262e+09\tvalid_0's l1: 66607.4\n",
      "[52]\tvalid_0's l2: 5.82293e+09\tvalid_0's l1: 66607.8\n",
      "[53]\tvalid_0's l2: 5.82292e+09\tvalid_0's l1: 66605.5\n",
      "[54]\tvalid_0's l2: 5.82295e+09\tvalid_0's l1: 66603\n",
      "[55]\tvalid_0's l2: 5.82298e+09\tvalid_0's l1: 66602.3\n",
      "[56]\tvalid_0's l2: 5.8228e+09\tvalid_0's l1: 66601\n",
      "[57]\tvalid_0's l2: 5.82243e+09\tvalid_0's l1: 66597.3\n",
      "[58]\tvalid_0's l2: 5.82253e+09\tvalid_0's l1: 66596.8\n",
      "[59]\tvalid_0's l2: 5.82242e+09\tvalid_0's l1: 66595.2\n",
      "[60]\tvalid_0's l2: 5.82238e+09\tvalid_0's l1: 66593.4\n",
      "[61]\tvalid_0's l2: 5.82257e+09\tvalid_0's l1: 66593.9\n",
      "[62]\tvalid_0's l2: 5.82256e+09\tvalid_0's l1: 66592.7\n",
      "[63]\tvalid_0's l2: 5.82256e+09\tvalid_0's l1: 66591.5\n",
      "[64]\tvalid_0's l2: 5.82293e+09\tvalid_0's l1: 66592.4\n",
      "[65]\tvalid_0's l2: 5.82303e+09\tvalid_0's l1: 66591.7\n",
      "[66]\tvalid_0's l2: 5.82283e+09\tvalid_0's l1: 66589.1\n",
      "[67]\tvalid_0's l2: 5.82313e+09\tvalid_0's l1: 66588.5\n",
      "[68]\tvalid_0's l2: 5.82287e+09\tvalid_0's l1: 66585.8\n",
      "[69]\tvalid_0's l2: 5.82307e+09\tvalid_0's l1: 66586.4\n",
      "[70]\tvalid_0's l2: 5.8229e+09\tvalid_0's l1: 66584.2\n",
      "[71]\tvalid_0's l2: 5.82301e+09\tvalid_0's l1: 66583.9\n",
      "[72]\tvalid_0's l2: 5.82334e+09\tvalid_0's l1: 66584.9\n",
      "[73]\tvalid_0's l2: 5.82327e+09\tvalid_0's l1: 66581.7\n",
      "[74]\tvalid_0's l2: 5.82327e+09\tvalid_0's l1: 66580.7\n",
      "[75]\tvalid_0's l2: 5.8235e+09\tvalid_0's l1: 66581.2\n",
      "Early stopping, best iteration is:\n",
      "[60]\tvalid_0's l2: 5.82238e+09\tvalid_0's l1: 66593.4\n"
     ]
    },
    {
     "data": {
      "text/plain": [
       "LGBMRegressor(bagging_fraction=0.8, bagging_freq=5, boosting_type='gbdt',\n",
       "              class_weight=None, colsample_bytree=1.0, feature_fraction=0.9,\n",
       "              importance_type='split', learning_rate=0.05, max_depth=-1,\n",
       "              min_child_samples=20, min_child_weight=0.001, min_split_gain=0.0,\n",
       "              n_estimators=100, n_jobs=-1, num_leaves=31,\n",
       "              objective='regression', random_state=None, reg_alpha=0.0,\n",
       "              reg_lambda=0.0, silent=True, subsample=1.0,\n",
       "              subsample_for_bin=200000, subsample_freq=0, verbose=0)"
      ]
     },
     "execution_count": 93,
     "metadata": {},
     "output_type": "execute_result"
    }
   ],
   "source": [
    "X, y = installs1.iloc[:,:-1], installs1.iloc[:,-1]\n",
    "X_train, X_val, y_train, y_val = train_test_split(X, y, test_size=0.3)\n",
    "xg_reg.fit(X_train, y_train)\n",
    "rf.fit(X_train, y_train)\n",
    "bagging.fit(X_train, y_train)\n",
    "gbm.fit(X_train, y_train, eval_set=[(X_val, y_val)], eval_metric='l1', early_stopping_rounds=15)"
   ]
  },
  {
   "cell_type": "code",
   "execution_count": 94,
   "metadata": {},
   "outputs": [],
   "source": [
    "preds_xgb = xg_reg.predict(X_val)\n",
    "preds_rf = rf.predict(X_val)\n",
    "preds_bag = bagging.predict(X_val)\n",
    "preds_lgbm = gbm.predict(X_val)\n",
    "test_preds_xgb = xg_reg.predict(X_test)\n",
    "test_preds_rf = rf.predict(X_test)\n",
    "test_preds_bag = bagging.predict(X_test)\n",
    "test_preds_lgbm = gbm.predict(X_test)"
   ]
  },
  {
   "cell_type": "code",
   "execution_count": 95,
   "metadata": {
    "scrolled": true
   },
   "outputs": [
    {
     "name": "stderr",
     "output_type": "stream",
     "text": [
      "/home/gabriel/workspace/7506-1c2019/env/lib/python3.5/site-packages/ipykernel_launcher.py:1: SettingWithCopyWarning: \n",
      "A value is trying to be set on a copy of a slice from a DataFrame.\n",
      "Try using .loc[row_indexer,col_indexer] = value instead\n",
      "\n",
      "See the caveats in the documentation: http://pandas.pydata.org/pandas-docs/stable/indexing.html#indexing-view-versus-copy\n",
      "  \"\"\"Entry point for launching an IPython kernel.\n",
      "/home/gabriel/workspace/7506-1c2019/env/lib/python3.5/site-packages/ipykernel_launcher.py:2: SettingWithCopyWarning: \n",
      "A value is trying to be set on a copy of a slice from a DataFrame.\n",
      "Try using .loc[row_indexer,col_indexer] = value instead\n",
      "\n",
      "See the caveats in the documentation: http://pandas.pydata.org/pandas-docs/stable/indexing.html#indexing-view-versus-copy\n",
      "  \n",
      "/home/gabriel/workspace/7506-1c2019/env/lib/python3.5/site-packages/ipykernel_launcher.py:3: SettingWithCopyWarning: \n",
      "A value is trying to be set on a copy of a slice from a DataFrame.\n",
      "Try using .loc[row_indexer,col_indexer] = value instead\n",
      "\n",
      "See the caveats in the documentation: http://pandas.pydata.org/pandas-docs/stable/indexing.html#indexing-view-versus-copy\n",
      "  This is separate from the ipykernel package so we can avoid doing imports until\n",
      "/home/gabriel/workspace/7506-1c2019/env/lib/python3.5/site-packages/ipykernel_launcher.py:4: SettingWithCopyWarning: \n",
      "A value is trying to be set on a copy of a slice from a DataFrame.\n",
      "Try using .loc[row_indexer,col_indexer] = value instead\n",
      "\n",
      "See the caveats in the documentation: http://pandas.pydata.org/pandas-docs/stable/indexing.html#indexing-view-versus-copy\n",
      "  after removing the cwd from sys.path.\n"
     ]
    }
   ],
   "source": [
    "X_val['pred_xgb'] = preds_xgb\n",
    "X_val['pred_rf'] = preds_rf\n",
    "X_val['pred_bag'] = preds_bag\n",
    "X_val['pred_lgbm'] = preds_lgbm\n",
    "X_test['pred_xgb'] = test_preds_xgb\n",
    "X_test['pred_rf'] = test_preds_rf\n",
    "X_test['pred_bag'] = test_preds_bag\n",
    "X_test['pred_lgbm'] = test_preds_lgbm"
   ]
  },
  {
   "cell_type": "code",
   "execution_count": 96,
   "metadata": {},
   "outputs": [
    {
     "name": "stdout",
     "output_type": "stream",
     "text": [
      "RMSE: 66716.667669\n"
     ]
    }
   ],
   "source": [
    "regr.fit(X_val, y_val)\n",
    "preds = regr.predict(X_test)\n",
    "rmse = np.sqrt(mean_squared_error(y_test, preds))\n",
    "print(\"RMSE: %f\" % (rmse))"
   ]
  },
  {
   "cell_type": "markdown",
   "metadata": {},
   "source": [
    "#### Ventana 2"
   ]
  },
  {
   "cell_type": "code",
   "execution_count": 97,
   "metadata": {},
   "outputs": [
    {
     "name": "stderr",
     "output_type": "stream",
     "text": [
      "/home/gabriel/workspace/7506-1c2019/env/lib/python3.5/site-packages/xgboost/core.py:587: FutureWarning: Series.base is deprecated and will be removed in a future version\n",
      "  if getattr(data, 'base', None) is not None and \\\n"
     ]
    },
    {
     "name": "stdout",
     "output_type": "stream",
     "text": [
      "[1]\tvalid_0's l2: 5.8809e+09\tvalid_0's l1: 67036.3\n",
      "Training until validation scores don't improve for 15 rounds.\n",
      "[2]\tvalid_0's l2: 5.8791e+09\tvalid_0's l1: 67026.5\n",
      "[3]\tvalid_0's l2: 5.87854e+09\tvalid_0's l1: 67022.4\n",
      "[4]\tvalid_0's l2: 5.877e+09\tvalid_0's l1: 67012.7\n",
      "[5]\tvalid_0's l2: 5.87519e+09\tvalid_0's l1: 67002.4\n",
      "[6]\tvalid_0's l2: 5.87372e+09\tvalid_0's l1: 66993.4\n",
      "[7]\tvalid_0's l2: 5.87196e+09\tvalid_0's l1: 66982.7\n",
      "[8]\tvalid_0's l2: 5.8712e+09\tvalid_0's l1: 66977.2\n",
      "[9]\tvalid_0's l2: 5.87049e+09\tvalid_0's l1: 66970.7\n",
      "[10]\tvalid_0's l2: 5.86959e+09\tvalid_0's l1: 66964.2\n",
      "[11]\tvalid_0's l2: 5.86806e+09\tvalid_0's l1: 66955.1\n",
      "[12]\tvalid_0's l2: 5.86693e+09\tvalid_0's l1: 66947.6\n",
      "[13]\tvalid_0's l2: 5.8666e+09\tvalid_0's l1: 66944.4\n",
      "[14]\tvalid_0's l2: 5.86588e+09\tvalid_0's l1: 66938.5\n",
      "[15]\tvalid_0's l2: 5.86533e+09\tvalid_0's l1: 66934.2\n",
      "[16]\tvalid_0's l2: 5.86504e+09\tvalid_0's l1: 66931.5\n",
      "[17]\tvalid_0's l2: 5.86479e+09\tvalid_0's l1: 66928.2\n",
      "[18]\tvalid_0's l2: 5.86462e+09\tvalid_0's l1: 66925.8\n",
      "[19]\tvalid_0's l2: 5.86452e+09\tvalid_0's l1: 66922.9\n",
      "[20]\tvalid_0's l2: 5.86435e+09\tvalid_0's l1: 66920.5\n",
      "[21]\tvalid_0's l2: 5.86443e+09\tvalid_0's l1: 66919.9\n",
      "[22]\tvalid_0's l2: 5.86427e+09\tvalid_0's l1: 66918.6\n",
      "[23]\tvalid_0's l2: 5.86432e+09\tvalid_0's l1: 66917.6\n",
      "[24]\tvalid_0's l2: 5.86414e+09\tvalid_0's l1: 66915.8\n",
      "[25]\tvalid_0's l2: 5.86426e+09\tvalid_0's l1: 66915.6\n",
      "[26]\tvalid_0's l2: 5.86426e+09\tvalid_0's l1: 66914.3\n",
      "[27]\tvalid_0's l2: 5.86397e+09\tvalid_0's l1: 66911.6\n",
      "[28]\tvalid_0's l2: 5.86411e+09\tvalid_0's l1: 66912\n",
      "[29]\tvalid_0's l2: 5.86397e+09\tvalid_0's l1: 66909\n",
      "[30]\tvalid_0's l2: 5.86374e+09\tvalid_0's l1: 66905.6\n",
      "[31]\tvalid_0's l2: 5.86367e+09\tvalid_0's l1: 66904.3\n",
      "[32]\tvalid_0's l2: 5.86333e+09\tvalid_0's l1: 66899.8\n",
      "[33]\tvalid_0's l2: 5.86312e+09\tvalid_0's l1: 66896.9\n",
      "[34]\tvalid_0's l2: 5.86305e+09\tvalid_0's l1: 66894.1\n",
      "[35]\tvalid_0's l2: 5.86276e+09\tvalid_0's l1: 66890.7\n",
      "[36]\tvalid_0's l2: 5.86209e+09\tvalid_0's l1: 66885.6\n",
      "[37]\tvalid_0's l2: 5.86183e+09\tvalid_0's l1: 66883.6\n",
      "[38]\tvalid_0's l2: 5.86159e+09\tvalid_0's l1: 66881.2\n",
      "[39]\tvalid_0's l2: 5.86149e+09\tvalid_0's l1: 66879.9\n",
      "[40]\tvalid_0's l2: 5.86112e+09\tvalid_0's l1: 66877\n",
      "[41]\tvalid_0's l2: 5.86124e+09\tvalid_0's l1: 66877.3\n",
      "[42]\tvalid_0's l2: 5.86094e+09\tvalid_0's l1: 66874.9\n",
      "[43]\tvalid_0's l2: 5.86069e+09\tvalid_0's l1: 66872.6\n",
      "[44]\tvalid_0's l2: 5.8605e+09\tvalid_0's l1: 66869.4\n",
      "[45]\tvalid_0's l2: 5.86074e+09\tvalid_0's l1: 66869.6\n",
      "[46]\tvalid_0's l2: 5.86065e+09\tvalid_0's l1: 66867.9\n",
      "[47]\tvalid_0's l2: 5.8604e+09\tvalid_0's l1: 66865.9\n",
      "[48]\tvalid_0's l2: 5.86062e+09\tvalid_0's l1: 66867.6\n",
      "[49]\tvalid_0's l2: 5.86057e+09\tvalid_0's l1: 66867.4\n",
      "[50]\tvalid_0's l2: 5.86065e+09\tvalid_0's l1: 66866.2\n",
      "[51]\tvalid_0's l2: 5.86079e+09\tvalid_0's l1: 66866.6\n",
      "[52]\tvalid_0's l2: 5.86074e+09\tvalid_0's l1: 66865\n",
      "[53]\tvalid_0's l2: 5.86083e+09\tvalid_0's l1: 66864\n",
      "[54]\tvalid_0's l2: 5.86103e+09\tvalid_0's l1: 66864.2\n",
      "[55]\tvalid_0's l2: 5.86103e+09\tvalid_0's l1: 66863.2\n",
      "[56]\tvalid_0's l2: 5.8612e+09\tvalid_0's l1: 66862.7\n",
      "[57]\tvalid_0's l2: 5.86103e+09\tvalid_0's l1: 66861.2\n",
      "[58]\tvalid_0's l2: 5.86106e+09\tvalid_0's l1: 66860.3\n",
      "[59]\tvalid_0's l2: 5.86096e+09\tvalid_0's l1: 66857.4\n",
      "[60]\tvalid_0's l2: 5.86082e+09\tvalid_0's l1: 66856.2\n",
      "[61]\tvalid_0's l2: 5.86065e+09\tvalid_0's l1: 66854.2\n",
      "[62]\tvalid_0's l2: 5.86079e+09\tvalid_0's l1: 66853.5\n",
      "Early stopping, best iteration is:\n",
      "[47]\tvalid_0's l2: 5.8604e+09\tvalid_0's l1: 66865.9\n"
     ]
    },
    {
     "data": {
      "text/plain": [
       "LGBMRegressor(bagging_fraction=0.8, bagging_freq=5, boosting_type='gbdt',\n",
       "              class_weight=None, colsample_bytree=1.0, feature_fraction=0.9,\n",
       "              importance_type='split', learning_rate=0.05, max_depth=-1,\n",
       "              min_child_samples=20, min_child_weight=0.001, min_split_gain=0.0,\n",
       "              n_estimators=100, n_jobs=-1, num_leaves=31,\n",
       "              objective='regression', random_state=None, reg_alpha=0.0,\n",
       "              reg_lambda=0.0, silent=True, subsample=1.0,\n",
       "              subsample_for_bin=200000, subsample_freq=0, verbose=0)"
      ]
     },
     "execution_count": 97,
     "metadata": {},
     "output_type": "execute_result"
    }
   ],
   "source": [
    "X_test, y_test = installsCheck2.iloc[:,:-1], installsCheck2.iloc[:,-1]\n",
    "X, y = installs2.iloc[:,:-1], installs2.iloc[:,-1]\n",
    "X_train, X_val, y_train, y_val = train_test_split(X, y, test_size=0.3)\n",
    "xg_reg.fit(X_train, y_train)\n",
    "rf.fit(X_train, y_train)\n",
    "bagging.fit(X_train, y_train)\n",
    "gbm.fit(X_train, y_train, eval_set=[(X_val, y_val)], eval_metric='l1', early_stopping_rounds=15)"
   ]
  },
  {
   "cell_type": "code",
   "execution_count": 98,
   "metadata": {},
   "outputs": [],
   "source": [
    "preds_xgb = xg_reg.predict(X_val)\n",
    "preds_rf = rf.predict(X_val)\n",
    "preds_bag = bagging.predict(X_val)\n",
    "preds_lgbm = gbm.predict(X_val)\n",
    "test_preds_xgb = xg_reg.predict(X_test)\n",
    "test_preds_rf = rf.predict(X_test)\n",
    "test_preds_bag = bagging.predict(X_test)\n",
    "test_preds_lgbm = gbm.predict(X_test)"
   ]
  },
  {
   "cell_type": "code",
   "execution_count": 99,
   "metadata": {},
   "outputs": [
    {
     "name": "stderr",
     "output_type": "stream",
     "text": [
      "/home/gabriel/workspace/7506-1c2019/env/lib/python3.5/site-packages/ipykernel_launcher.py:1: SettingWithCopyWarning: \n",
      "A value is trying to be set on a copy of a slice from a DataFrame.\n",
      "Try using .loc[row_indexer,col_indexer] = value instead\n",
      "\n",
      "See the caveats in the documentation: http://pandas.pydata.org/pandas-docs/stable/indexing.html#indexing-view-versus-copy\n",
      "  \"\"\"Entry point for launching an IPython kernel.\n",
      "/home/gabriel/workspace/7506-1c2019/env/lib/python3.5/site-packages/ipykernel_launcher.py:2: SettingWithCopyWarning: \n",
      "A value is trying to be set on a copy of a slice from a DataFrame.\n",
      "Try using .loc[row_indexer,col_indexer] = value instead\n",
      "\n",
      "See the caveats in the documentation: http://pandas.pydata.org/pandas-docs/stable/indexing.html#indexing-view-versus-copy\n",
      "  \n",
      "/home/gabriel/workspace/7506-1c2019/env/lib/python3.5/site-packages/ipykernel_launcher.py:3: SettingWithCopyWarning: \n",
      "A value is trying to be set on a copy of a slice from a DataFrame.\n",
      "Try using .loc[row_indexer,col_indexer] = value instead\n",
      "\n",
      "See the caveats in the documentation: http://pandas.pydata.org/pandas-docs/stable/indexing.html#indexing-view-versus-copy\n",
      "  This is separate from the ipykernel package so we can avoid doing imports until\n",
      "/home/gabriel/workspace/7506-1c2019/env/lib/python3.5/site-packages/ipykernel_launcher.py:4: SettingWithCopyWarning: \n",
      "A value is trying to be set on a copy of a slice from a DataFrame.\n",
      "Try using .loc[row_indexer,col_indexer] = value instead\n",
      "\n",
      "See the caveats in the documentation: http://pandas.pydata.org/pandas-docs/stable/indexing.html#indexing-view-versus-copy\n",
      "  after removing the cwd from sys.path.\n"
     ]
    },
    {
     "name": "stdout",
     "output_type": "stream",
     "text": [
      "RMSE: 68464.754986\n"
     ]
    }
   ],
   "source": [
    "X_val['pred_xgb'] = preds_xgb\n",
    "X_val['pred_rf'] = preds_rf\n",
    "X_val['pred_bag'] = preds_bag\n",
    "X_val['pred_lgbm'] = preds_lgbm\n",
    "X_test['pred_xgb'] = test_preds_xgb\n",
    "X_test['pred_rf'] = test_preds_rf\n",
    "X_test['pred_bag'] = test_preds_bag\n",
    "X_test['pred_lgbm'] = test_preds_lgbm\n",
    "regr.fit(X_val, y_val)\n",
    "preds = regr.predict(X_test)\n",
    "rmse = np.sqrt(mean_squared_error(y_test, preds))\n",
    "print(\"RMSE: %f\" % (rmse))"
   ]
  },
  {
   "cell_type": "markdown",
   "metadata": {},
   "source": [
    "#### Ventana 3"
   ]
  },
  {
   "cell_type": "code",
   "execution_count": 100,
   "metadata": {},
   "outputs": [
    {
     "name": "stderr",
     "output_type": "stream",
     "text": [
      "/home/gabriel/workspace/7506-1c2019/env/lib/python3.5/site-packages/xgboost/core.py:587: FutureWarning: Series.base is deprecated and will be removed in a future version\n",
      "  if getattr(data, 'base', None) is not None and \\\n"
     ]
    },
    {
     "name": "stdout",
     "output_type": "stream",
     "text": [
      "[1]\tvalid_0's l2: 5.87049e+09\tvalid_0's l1: 66982.9\n",
      "Training until validation scores don't improve for 15 rounds.\n",
      "[2]\tvalid_0's l2: 5.8676e+09\tvalid_0's l1: 66962\n",
      "[3]\tvalid_0's l2: 5.86689e+09\tvalid_0's l1: 66955.4\n",
      "[4]\tvalid_0's l2: 5.86368e+09\tvalid_0's l1: 66931.7\n",
      "[5]\tvalid_0's l2: 5.86095e+09\tvalid_0's l1: 66910.8\n",
      "[6]\tvalid_0's l2: 5.85882e+09\tvalid_0's l1: 66895.7\n",
      "[7]\tvalid_0's l2: 5.85695e+09\tvalid_0's l1: 66881\n",
      "[8]\tvalid_0's l2: 5.85563e+09\tvalid_0's l1: 66870.4\n",
      "[9]\tvalid_0's l2: 5.85407e+09\tvalid_0's l1: 66857.2\n",
      "[10]\tvalid_0's l2: 5.85216e+09\tvalid_0's l1: 66842.1\n",
      "[11]\tvalid_0's l2: 5.85065e+09\tvalid_0's l1: 66828.5\n",
      "[12]\tvalid_0's l2: 5.84945e+09\tvalid_0's l1: 66817.1\n",
      "[13]\tvalid_0's l2: 5.84873e+09\tvalid_0's l1: 66809.7\n",
      "[14]\tvalid_0's l2: 5.84778e+09\tvalid_0's l1: 66799.7\n",
      "[15]\tvalid_0's l2: 5.84704e+09\tvalid_0's l1: 66790.9\n",
      "[16]\tvalid_0's l2: 5.84631e+09\tvalid_0's l1: 66784.4\n",
      "[17]\tvalid_0's l2: 5.84602e+09\tvalid_0's l1: 66781.4\n",
      "[18]\tvalid_0's l2: 5.84527e+09\tvalid_0's l1: 66774.1\n",
      "[19]\tvalid_0's l2: 5.84451e+09\tvalid_0's l1: 66766.2\n",
      "[20]\tvalid_0's l2: 5.84424e+09\tvalid_0's l1: 66763.2\n",
      "[21]\tvalid_0's l2: 5.84337e+09\tvalid_0's l1: 66754.6\n",
      "[22]\tvalid_0's l2: 5.84262e+09\tvalid_0's l1: 66746.3\n",
      "[23]\tvalid_0's l2: 5.84263e+09\tvalid_0's l1: 66744.9\n",
      "[24]\tvalid_0's l2: 5.84255e+09\tvalid_0's l1: 66742.2\n",
      "[25]\tvalid_0's l2: 5.84275e+09\tvalid_0's l1: 66740.8\n",
      "[26]\tvalid_0's l2: 5.84232e+09\tvalid_0's l1: 66735.5\n",
      "[27]\tvalid_0's l2: 5.84172e+09\tvalid_0's l1: 66728.8\n",
      "[28]\tvalid_0's l2: 5.84161e+09\tvalid_0's l1: 66725.6\n",
      "[29]\tvalid_0's l2: 5.84086e+09\tvalid_0's l1: 66716.7\n",
      "[30]\tvalid_0's l2: 5.84091e+09\tvalid_0's l1: 66715.8\n",
      "[31]\tvalid_0's l2: 5.84099e+09\tvalid_0's l1: 66715.9\n",
      "[32]\tvalid_0's l2: 5.84092e+09\tvalid_0's l1: 66713.6\n",
      "[33]\tvalid_0's l2: 5.84077e+09\tvalid_0's l1: 66711.2\n",
      "[34]\tvalid_0's l2: 5.84047e+09\tvalid_0's l1: 66707.7\n",
      "[35]\tvalid_0's l2: 5.8403e+09\tvalid_0's l1: 66703.4\n",
      "[36]\tvalid_0's l2: 5.84006e+09\tvalid_0's l1: 66700.2\n",
      "[37]\tvalid_0's l2: 5.83981e+09\tvalid_0's l1: 66695\n",
      "[38]\tvalid_0's l2: 5.8397e+09\tvalid_0's l1: 66693\n",
      "[39]\tvalid_0's l2: 5.83988e+09\tvalid_0's l1: 66692.4\n",
      "[40]\tvalid_0's l2: 5.84e+09\tvalid_0's l1: 66691.5\n",
      "[41]\tvalid_0's l2: 5.83949e+09\tvalid_0's l1: 66686.5\n",
      "[42]\tvalid_0's l2: 5.83891e+09\tvalid_0's l1: 66679.8\n",
      "[43]\tvalid_0's l2: 5.8391e+09\tvalid_0's l1: 66679.3\n",
      "[44]\tvalid_0's l2: 5.83896e+09\tvalid_0's l1: 66676\n",
      "[45]\tvalid_0's l2: 5.83924e+09\tvalid_0's l1: 66676.2\n",
      "[46]\tvalid_0's l2: 5.83921e+09\tvalid_0's l1: 66675.3\n",
      "[47]\tvalid_0's l2: 5.83901e+09\tvalid_0's l1: 66673.3\n",
      "[48]\tvalid_0's l2: 5.8389e+09\tvalid_0's l1: 66671.9\n",
      "[49]\tvalid_0's l2: 5.83882e+09\tvalid_0's l1: 66670.7\n",
      "[50]\tvalid_0's l2: 5.83892e+09\tvalid_0's l1: 66670.4\n",
      "[51]\tvalid_0's l2: 5.83886e+09\tvalid_0's l1: 66669.1\n",
      "[52]\tvalid_0's l2: 5.83879e+09\tvalid_0's l1: 66667.7\n",
      "[53]\tvalid_0's l2: 5.83838e+09\tvalid_0's l1: 66662.9\n",
      "[54]\tvalid_0's l2: 5.83859e+09\tvalid_0's l1: 66662.7\n",
      "[55]\tvalid_0's l2: 5.83827e+09\tvalid_0's l1: 66658.2\n",
      "[56]\tvalid_0's l2: 5.83823e+09\tvalid_0's l1: 66657\n",
      "[57]\tvalid_0's l2: 5.83829e+09\tvalid_0's l1: 66656.3\n",
      "[58]\tvalid_0's l2: 5.83849e+09\tvalid_0's l1: 66656.3\n",
      "[59]\tvalid_0's l2: 5.83848e+09\tvalid_0's l1: 66655\n",
      "[60]\tvalid_0's l2: 5.83874e+09\tvalid_0's l1: 66655.7\n",
      "[61]\tvalid_0's l2: 5.83899e+09\tvalid_0's l1: 66656.6\n",
      "[62]\tvalid_0's l2: 5.83911e+09\tvalid_0's l1: 66656.3\n",
      "[63]\tvalid_0's l2: 5.83917e+09\tvalid_0's l1: 66655.3\n",
      "[64]\tvalid_0's l2: 5.83949e+09\tvalid_0's l1: 66656.4\n",
      "[65]\tvalid_0's l2: 5.83912e+09\tvalid_0's l1: 66652.7\n",
      "[66]\tvalid_0's l2: 5.83884e+09\tvalid_0's l1: 66648.7\n",
      "[67]\tvalid_0's l2: 5.83878e+09\tvalid_0's l1: 66645.9\n",
      "[68]\tvalid_0's l2: 5.83894e+09\tvalid_0's l1: 66646.4\n",
      "[69]\tvalid_0's l2: 5.83916e+09\tvalid_0's l1: 66645.8\n",
      "[70]\tvalid_0's l2: 5.83912e+09\tvalid_0's l1: 66645.1\n",
      "[71]\tvalid_0's l2: 5.83872e+09\tvalid_0's l1: 66640.9\n",
      "Early stopping, best iteration is:\n",
      "[56]\tvalid_0's l2: 5.83823e+09\tvalid_0's l1: 66657\n"
     ]
    },
    {
     "data": {
      "text/plain": [
       "LGBMRegressor(bagging_fraction=0.8, bagging_freq=5, boosting_type='gbdt',\n",
       "              class_weight=None, colsample_bytree=1.0, feature_fraction=0.9,\n",
       "              importance_type='split', learning_rate=0.05, max_depth=-1,\n",
       "              min_child_samples=20, min_child_weight=0.001, min_split_gain=0.0,\n",
       "              n_estimators=100, n_jobs=-1, num_leaves=31,\n",
       "              objective='regression', random_state=None, reg_alpha=0.0,\n",
       "              reg_lambda=0.0, silent=True, subsample=1.0,\n",
       "              subsample_for_bin=200000, subsample_freq=0, verbose=0)"
      ]
     },
     "execution_count": 100,
     "metadata": {},
     "output_type": "execute_result"
    }
   ],
   "source": [
    "X_test, y_test = installsCheck3.iloc[:,:-1], installsCheck3.iloc[:,-1]\n",
    "X, y = installs3.iloc[:,:-1], installs3.iloc[:,-1]\n",
    "X_train, X_val, y_train, y_val = train_test_split(X, y, test_size=0.3)\n",
    "xg_reg.fit(X_train, y_train)\n",
    "rf.fit(X_train, y_train)\n",
    "bagging.fit(X_train, y_train)\n",
    "gbm.fit(X_train, y_train, eval_set=[(X_val, y_val)], eval_metric='l1', early_stopping_rounds=15)"
   ]
  },
  {
   "cell_type": "code",
   "execution_count": 101,
   "metadata": {},
   "outputs": [
    {
     "name": "stderr",
     "output_type": "stream",
     "text": [
      "/home/gabriel/workspace/7506-1c2019/env/lib/python3.5/site-packages/ipykernel_launcher.py:9: SettingWithCopyWarning: \n",
      "A value is trying to be set on a copy of a slice from a DataFrame.\n",
      "Try using .loc[row_indexer,col_indexer] = value instead\n",
      "\n",
      "See the caveats in the documentation: http://pandas.pydata.org/pandas-docs/stable/indexing.html#indexing-view-versus-copy\n",
      "  if __name__ == '__main__':\n",
      "/home/gabriel/workspace/7506-1c2019/env/lib/python3.5/site-packages/ipykernel_launcher.py:10: SettingWithCopyWarning: \n",
      "A value is trying to be set on a copy of a slice from a DataFrame.\n",
      "Try using .loc[row_indexer,col_indexer] = value instead\n",
      "\n",
      "See the caveats in the documentation: http://pandas.pydata.org/pandas-docs/stable/indexing.html#indexing-view-versus-copy\n",
      "  # Remove the CWD from sys.path while we load stuff.\n",
      "/home/gabriel/workspace/7506-1c2019/env/lib/python3.5/site-packages/ipykernel_launcher.py:11: SettingWithCopyWarning: \n",
      "A value is trying to be set on a copy of a slice from a DataFrame.\n",
      "Try using .loc[row_indexer,col_indexer] = value instead\n",
      "\n",
      "See the caveats in the documentation: http://pandas.pydata.org/pandas-docs/stable/indexing.html#indexing-view-versus-copy\n",
      "  # This is added back by InteractiveShellApp.init_path()\n",
      "/home/gabriel/workspace/7506-1c2019/env/lib/python3.5/site-packages/ipykernel_launcher.py:12: SettingWithCopyWarning: \n",
      "A value is trying to be set on a copy of a slice from a DataFrame.\n",
      "Try using .loc[row_indexer,col_indexer] = value instead\n",
      "\n",
      "See the caveats in the documentation: http://pandas.pydata.org/pandas-docs/stable/indexing.html#indexing-view-versus-copy\n",
      "  if sys.path[0] == '':\n"
     ]
    },
    {
     "name": "stdout",
     "output_type": "stream",
     "text": [
      "RMSE: 69333.615342\n"
     ]
    }
   ],
   "source": [
    "preds_xgb = xg_reg.predict(X_val)\n",
    "preds_rf = rf.predict(X_val)\n",
    "preds_bag = bagging.predict(X_val)\n",
    "preds_lgbm = gbm.predict(X_val)\n",
    "test_preds_xgb = xg_reg.predict(X_test)\n",
    "test_preds_rf = rf.predict(X_test)\n",
    "test_preds_bag = bagging.predict(X_test)\n",
    "test_preds_lgbm = gbm.predict(X_test)\n",
    "X_val['pred_xgb'] = preds_xgb\n",
    "X_val['pred_rf'] = preds_rf\n",
    "X_val['pred_bag'] = preds_bag\n",
    "X_val['pred_lgbm'] = preds_lgbm\n",
    "X_test['pred_xgb'] = test_preds_xgb\n",
    "X_test['pred_rf'] = test_preds_rf\n",
    "X_test['pred_bag'] = test_preds_bag\n",
    "X_test['pred_lgbm'] = test_preds_lgbm\n",
    "regr.fit(X_val, y_val)\n",
    "preds = regr.predict(X_test)\n",
    "rmse = np.sqrt(mean_squared_error(y_test, preds))\n",
    "print(\"RMSE: %f\" % (rmse))"
   ]
  },
  {
   "cell_type": "markdown",
   "metadata": {},
   "source": [
    "#### Ventana 4"
   ]
  },
  {
   "cell_type": "code",
   "execution_count": 102,
   "metadata": {},
   "outputs": [
    {
     "name": "stderr",
     "output_type": "stream",
     "text": [
      "/home/gabriel/workspace/7506-1c2019/env/lib/python3.5/site-packages/xgboost/core.py:587: FutureWarning: Series.base is deprecated and will be removed in a future version\n",
      "  if getattr(data, 'base', None) is not None and \\\n"
     ]
    },
    {
     "name": "stdout",
     "output_type": "stream",
     "text": [
      "[1]\tvalid_0's l2: 5.8186e+09\tvalid_0's l1: 66587.7\n",
      "Training until validation scores don't improve for 15 rounds.\n",
      "[2]\tvalid_0's l2: 5.814e+09\tvalid_0's l1: 66557.9\n",
      "[3]\tvalid_0's l2: 5.81261e+09\tvalid_0's l1: 66548.1\n",
      "[4]\tvalid_0's l2: 5.80936e+09\tvalid_0's l1: 66523.7\n",
      "[5]\tvalid_0's l2: 5.8067e+09\tvalid_0's l1: 66502.1\n",
      "[6]\tvalid_0's l2: 5.8038e+09\tvalid_0's l1: 66480.7\n",
      "[7]\tvalid_0's l2: 5.80171e+09\tvalid_0's l1: 66463.3\n",
      "[8]\tvalid_0's l2: 5.80005e+09\tvalid_0's l1: 66449.7\n",
      "[9]\tvalid_0's l2: 5.79789e+09\tvalid_0's l1: 66431.5\n",
      "[10]\tvalid_0's l2: 5.79676e+09\tvalid_0's l1: 66420.4\n",
      "[11]\tvalid_0's l2: 5.79533e+09\tvalid_0's l1: 66406.8\n",
      "[12]\tvalid_0's l2: 5.79302e+09\tvalid_0's l1: 66387.5\n",
      "[13]\tvalid_0's l2: 5.79227e+09\tvalid_0's l1: 66378.3\n",
      "[14]\tvalid_0's l2: 5.79187e+09\tvalid_0's l1: 66371.9\n",
      "[15]\tvalid_0's l2: 5.79072e+09\tvalid_0's l1: 66359.2\n",
      "[16]\tvalid_0's l2: 5.78982e+09\tvalid_0's l1: 66348.4\n",
      "[17]\tvalid_0's l2: 5.78821e+09\tvalid_0's l1: 66332.4\n",
      "[18]\tvalid_0's l2: 5.78577e+09\tvalid_0's l1: 66310.9\n",
      "[19]\tvalid_0's l2: 5.7845e+09\tvalid_0's l1: 66296.6\n",
      "[20]\tvalid_0's l2: 5.7842e+09\tvalid_0's l1: 66289.5\n",
      "[21]\tvalid_0's l2: 5.78342e+09\tvalid_0's l1: 66281.8\n",
      "[22]\tvalid_0's l2: 5.78276e+09\tvalid_0's l1: 66274.1\n",
      "[23]\tvalid_0's l2: 5.78192e+09\tvalid_0's l1: 66263.5\n",
      "[24]\tvalid_0's l2: 5.78136e+09\tvalid_0's l1: 66256.4\n",
      "[25]\tvalid_0's l2: 5.7808e+09\tvalid_0's l1: 66249.4\n",
      "[26]\tvalid_0's l2: 5.78053e+09\tvalid_0's l1: 66243.9\n",
      "[27]\tvalid_0's l2: 5.78038e+09\tvalid_0's l1: 66240.7\n",
      "[28]\tvalid_0's l2: 5.78007e+09\tvalid_0's l1: 66233.7\n",
      "[29]\tvalid_0's l2: 5.77979e+09\tvalid_0's l1: 66228.9\n",
      "[30]\tvalid_0's l2: 5.77967e+09\tvalid_0's l1: 66226.6\n",
      "[31]\tvalid_0's l2: 5.77974e+09\tvalid_0's l1: 66225\n",
      "[32]\tvalid_0's l2: 5.77926e+09\tvalid_0's l1: 66219\n",
      "[33]\tvalid_0's l2: 5.77901e+09\tvalid_0's l1: 66214.4\n",
      "[34]\tvalid_0's l2: 5.77855e+09\tvalid_0's l1: 66208.7\n",
      "[35]\tvalid_0's l2: 5.77829e+09\tvalid_0's l1: 66205\n",
      "[36]\tvalid_0's l2: 5.77819e+09\tvalid_0's l1: 66202.1\n",
      "[37]\tvalid_0's l2: 5.77784e+09\tvalid_0's l1: 66196.7\n",
      "[38]\tvalid_0's l2: 5.77794e+09\tvalid_0's l1: 66197.5\n",
      "[39]\tvalid_0's l2: 5.77782e+09\tvalid_0's l1: 66194.5\n",
      "[40]\tvalid_0's l2: 5.77764e+09\tvalid_0's l1: 66191.1\n",
      "[41]\tvalid_0's l2: 5.77764e+09\tvalid_0's l1: 66189\n",
      "[42]\tvalid_0's l2: 5.77733e+09\tvalid_0's l1: 66185.8\n",
      "[43]\tvalid_0's l2: 5.7774e+09\tvalid_0's l1: 66185.1\n",
      "[44]\tvalid_0's l2: 5.77726e+09\tvalid_0's l1: 66182.6\n",
      "[45]\tvalid_0's l2: 5.77729e+09\tvalid_0's l1: 66181.4\n",
      "[46]\tvalid_0's l2: 5.7776e+09\tvalid_0's l1: 66182\n",
      "[47]\tvalid_0's l2: 5.77777e+09\tvalid_0's l1: 66181.4\n",
      "[48]\tvalid_0's l2: 5.77752e+09\tvalid_0's l1: 66178\n",
      "[49]\tvalid_0's l2: 5.77724e+09\tvalid_0's l1: 66173.8\n",
      "[50]\tvalid_0's l2: 5.77733e+09\tvalid_0's l1: 66174.3\n",
      "[51]\tvalid_0's l2: 5.77744e+09\tvalid_0's l1: 66173.1\n",
      "[52]\tvalid_0's l2: 5.77709e+09\tvalid_0's l1: 66170.7\n",
      "[53]\tvalid_0's l2: 5.77711e+09\tvalid_0's l1: 66168.3\n",
      "[54]\tvalid_0's l2: 5.77693e+09\tvalid_0's l1: 66165.8\n",
      "[55]\tvalid_0's l2: 5.77686e+09\tvalid_0's l1: 66161.9\n",
      "[56]\tvalid_0's l2: 5.77672e+09\tvalid_0's l1: 66158.8\n",
      "[57]\tvalid_0's l2: 5.77655e+09\tvalid_0's l1: 66155.6\n",
      "[58]\tvalid_0's l2: 5.77657e+09\tvalid_0's l1: 66153.6\n",
      "[59]\tvalid_0's l2: 5.77616e+09\tvalid_0's l1: 66149.5\n",
      "[60]\tvalid_0's l2: 5.77622e+09\tvalid_0's l1: 66148.7\n",
      "[61]\tvalid_0's l2: 5.77615e+09\tvalid_0's l1: 66148.4\n",
      "[62]\tvalid_0's l2: 5.77636e+09\tvalid_0's l1: 66149.3\n",
      "[63]\tvalid_0's l2: 5.77652e+09\tvalid_0's l1: 66149.6\n",
      "[64]\tvalid_0's l2: 5.77553e+09\tvalid_0's l1: 66143.7\n",
      "[65]\tvalid_0's l2: 5.7748e+09\tvalid_0's l1: 66137.3\n",
      "[66]\tvalid_0's l2: 5.77423e+09\tvalid_0's l1: 66131.5\n",
      "[67]\tvalid_0's l2: 5.77395e+09\tvalid_0's l1: 66128.5\n",
      "[68]\tvalid_0's l2: 5.77406e+09\tvalid_0's l1: 66126.5\n",
      "[69]\tvalid_0's l2: 5.77392e+09\tvalid_0's l1: 66125.2\n",
      "[70]\tvalid_0's l2: 5.77293e+09\tvalid_0's l1: 66116.4\n",
      "[71]\tvalid_0's l2: 5.77329e+09\tvalid_0's l1: 66118.2\n",
      "[72]\tvalid_0's l2: 5.77348e+09\tvalid_0's l1: 66118.8\n",
      "[73]\tvalid_0's l2: 5.77338e+09\tvalid_0's l1: 66117.1\n",
      "[74]\tvalid_0's l2: 5.77326e+09\tvalid_0's l1: 66116.6\n",
      "[75]\tvalid_0's l2: 5.77335e+09\tvalid_0's l1: 66116.8\n",
      "[76]\tvalid_0's l2: 5.77337e+09\tvalid_0's l1: 66116\n",
      "[77]\tvalid_0's l2: 5.77347e+09\tvalid_0's l1: 66115.6\n",
      "[78]\tvalid_0's l2: 5.77334e+09\tvalid_0's l1: 66113.6\n",
      "[79]\tvalid_0's l2: 5.77347e+09\tvalid_0's l1: 66113.3\n",
      "[80]\tvalid_0's l2: 5.77376e+09\tvalid_0's l1: 66114.2\n",
      "[81]\tvalid_0's l2: 5.77395e+09\tvalid_0's l1: 66115\n",
      "[82]\tvalid_0's l2: 5.77416e+09\tvalid_0's l1: 66115\n",
      "[83]\tvalid_0's l2: 5.77411e+09\tvalid_0's l1: 66114.7\n",
      "[84]\tvalid_0's l2: 5.77417e+09\tvalid_0's l1: 66114.9\n",
      "[85]\tvalid_0's l2: 5.77408e+09\tvalid_0's l1: 66113.4\n",
      "Early stopping, best iteration is:\n",
      "[70]\tvalid_0's l2: 5.77293e+09\tvalid_0's l1: 66116.4\n"
     ]
    },
    {
     "data": {
      "text/plain": [
       "LGBMRegressor(bagging_fraction=0.8, bagging_freq=5, boosting_type='gbdt',\n",
       "              class_weight=None, colsample_bytree=1.0, feature_fraction=0.9,\n",
       "              importance_type='split', learning_rate=0.05, max_depth=-1,\n",
       "              min_child_samples=20, min_child_weight=0.001, min_split_gain=0.0,\n",
       "              n_estimators=100, n_jobs=-1, num_leaves=31,\n",
       "              objective='regression', random_state=None, reg_alpha=0.0,\n",
       "              reg_lambda=0.0, silent=True, subsample=1.0,\n",
       "              subsample_for_bin=200000, subsample_freq=0, verbose=0)"
      ]
     },
     "execution_count": 102,
     "metadata": {},
     "output_type": "execute_result"
    }
   ],
   "source": [
    "X_test, y_test = installsCheck4.iloc[:,:-1], installsCheck4.iloc[:,-1]\n",
    "X, y = installs4.iloc[:,:-1], installs4.iloc[:,-1]\n",
    "X_train, X_val, y_train, y_val = train_test_split(X, y, test_size=0.3)\n",
    "xg_reg.fit(X_train, y_train)\n",
    "rf.fit(X_train, y_train)\n",
    "bagging.fit(X_train, y_train)\n",
    "gbm.fit(X_train, y_train, eval_set=[(X_val, y_val)], eval_metric='l1', early_stopping_rounds=15)"
   ]
  },
  {
   "cell_type": "code",
   "execution_count": 103,
   "metadata": {},
   "outputs": [
    {
     "name": "stderr",
     "output_type": "stream",
     "text": [
      "/home/gabriel/workspace/7506-1c2019/env/lib/python3.5/site-packages/ipykernel_launcher.py:9: SettingWithCopyWarning: \n",
      "A value is trying to be set on a copy of a slice from a DataFrame.\n",
      "Try using .loc[row_indexer,col_indexer] = value instead\n",
      "\n",
      "See the caveats in the documentation: http://pandas.pydata.org/pandas-docs/stable/indexing.html#indexing-view-versus-copy\n",
      "  if __name__ == '__main__':\n",
      "/home/gabriel/workspace/7506-1c2019/env/lib/python3.5/site-packages/ipykernel_launcher.py:10: SettingWithCopyWarning: \n",
      "A value is trying to be set on a copy of a slice from a DataFrame.\n",
      "Try using .loc[row_indexer,col_indexer] = value instead\n",
      "\n",
      "See the caveats in the documentation: http://pandas.pydata.org/pandas-docs/stable/indexing.html#indexing-view-versus-copy\n",
      "  # Remove the CWD from sys.path while we load stuff.\n",
      "/home/gabriel/workspace/7506-1c2019/env/lib/python3.5/site-packages/ipykernel_launcher.py:11: SettingWithCopyWarning: \n",
      "A value is trying to be set on a copy of a slice from a DataFrame.\n",
      "Try using .loc[row_indexer,col_indexer] = value instead\n",
      "\n",
      "See the caveats in the documentation: http://pandas.pydata.org/pandas-docs/stable/indexing.html#indexing-view-versus-copy\n",
      "  # This is added back by InteractiveShellApp.init_path()\n",
      "/home/gabriel/workspace/7506-1c2019/env/lib/python3.5/site-packages/ipykernel_launcher.py:12: SettingWithCopyWarning: \n",
      "A value is trying to be set on a copy of a slice from a DataFrame.\n",
      "Try using .loc[row_indexer,col_indexer] = value instead\n",
      "\n",
      "See the caveats in the documentation: http://pandas.pydata.org/pandas-docs/stable/indexing.html#indexing-view-versus-copy\n",
      "  if sys.path[0] == '':\n"
     ]
    },
    {
     "name": "stdout",
     "output_type": "stream",
     "text": [
      "RMSE: 68245.998870\n"
     ]
    }
   ],
   "source": [
    "preds_xgb = xg_reg.predict(X_val)\n",
    "preds_rf = rf.predict(X_val)\n",
    "preds_bag = bagging.predict(X_val)\n",
    "preds_lgbm = gbm.predict(X_val)\n",
    "test_preds_xgb = xg_reg.predict(X_test)\n",
    "test_preds_rf = rf.predict(X_test)\n",
    "test_preds_bag = bagging.predict(X_test)\n",
    "test_preds_lgbm = gbm.predict(X_test)\n",
    "X_val['pred_xgb'] = preds_xgb\n",
    "X_val['pred_rf'] = preds_rf\n",
    "X_val['pred_bag'] = preds_bag\n",
    "X_val['pred_lgbm'] = preds_lgbm\n",
    "X_test['pred_xgb'] = test_preds_xgb\n",
    "X_test['pred_rf'] = test_preds_rf\n",
    "X_test['pred_bag'] = test_preds_bag\n",
    "X_test['pred_lgbm'] = test_preds_lgbm\n",
    "regr.fit(X_val, y_val)\n",
    "preds = regr.predict(X_test)\n",
    "rmse = np.sqrt(mean_squared_error(y_test, preds))\n",
    "print(\"RMSE: %f\" % (rmse))"
   ]
  },
  {
   "cell_type": "markdown",
   "metadata": {},
   "source": [
    "#### Ventana 5"
   ]
  },
  {
   "cell_type": "code",
   "execution_count": 104,
   "metadata": {},
   "outputs": [
    {
     "name": "stderr",
     "output_type": "stream",
     "text": [
      "/home/gabriel/workspace/7506-1c2019/env/lib/python3.5/site-packages/xgboost/core.py:587: FutureWarning: Series.base is deprecated and will be removed in a future version\n",
      "  if getattr(data, 'base', None) is not None and \\\n"
     ]
    },
    {
     "name": "stdout",
     "output_type": "stream",
     "text": [
      "[1]\tvalid_0's l2: 5.78782e+09\tvalid_0's l1: 66412.2\n",
      "Training until validation scores don't improve for 15 rounds.\n",
      "[2]\tvalid_0's l2: 5.78473e+09\tvalid_0's l1: 66388.3\n",
      "[3]\tvalid_0's l2: 5.78307e+09\tvalid_0's l1: 66377.6\n",
      "[4]\tvalid_0's l2: 5.77993e+09\tvalid_0's l1: 66352.8\n",
      "[5]\tvalid_0's l2: 5.77743e+09\tvalid_0's l1: 66331\n",
      "[6]\tvalid_0's l2: 5.77334e+09\tvalid_0's l1: 66302.4\n",
      "[7]\tvalid_0's l2: 5.76919e+09\tvalid_0's l1: 66274.9\n",
      "[8]\tvalid_0's l2: 5.76671e+09\tvalid_0's l1: 66255.7\n",
      "[9]\tvalid_0's l2: 5.76503e+09\tvalid_0's l1: 66241.3\n",
      "[10]\tvalid_0's l2: 5.76196e+09\tvalid_0's l1: 66219\n",
      "[11]\tvalid_0's l2: 5.75999e+09\tvalid_0's l1: 66203.8\n",
      "[12]\tvalid_0's l2: 5.75789e+09\tvalid_0's l1: 66186.8\n",
      "[13]\tvalid_0's l2: 5.75676e+09\tvalid_0's l1: 66175.8\n",
      "[14]\tvalid_0's l2: 5.75453e+09\tvalid_0's l1: 66159.3\n",
      "[15]\tvalid_0's l2: 5.75378e+09\tvalid_0's l1: 66150.6\n",
      "[16]\tvalid_0's l2: 5.7531e+09\tvalid_0's l1: 66141.8\n",
      "[17]\tvalid_0's l2: 5.75227e+09\tvalid_0's l1: 66132\n",
      "[18]\tvalid_0's l2: 5.75171e+09\tvalid_0's l1: 66124\n",
      "[19]\tvalid_0's l2: 5.75119e+09\tvalid_0's l1: 66116.6\n",
      "[20]\tvalid_0's l2: 5.75076e+09\tvalid_0's l1: 66109.1\n",
      "[21]\tvalid_0's l2: 5.74995e+09\tvalid_0's l1: 66100.3\n",
      "[22]\tvalid_0's l2: 5.74917e+09\tvalid_0's l1: 66091.6\n",
      "[23]\tvalid_0's l2: 5.74888e+09\tvalid_0's l1: 66086.3\n",
      "[24]\tvalid_0's l2: 5.74868e+09\tvalid_0's l1: 66080.6\n",
      "[25]\tvalid_0's l2: 5.74861e+09\tvalid_0's l1: 66077.5\n",
      "[26]\tvalid_0's l2: 5.74827e+09\tvalid_0's l1: 66074.2\n",
      "[27]\tvalid_0's l2: 5.74727e+09\tvalid_0's l1: 66066.1\n",
      "[28]\tvalid_0's l2: 5.74742e+09\tvalid_0's l1: 66063.5\n",
      "[29]\tvalid_0's l2: 5.74733e+09\tvalid_0's l1: 66060.4\n",
      "[30]\tvalid_0's l2: 5.7468e+09\tvalid_0's l1: 66057.1\n",
      "[31]\tvalid_0's l2: 5.74657e+09\tvalid_0's l1: 66054\n",
      "[32]\tvalid_0's l2: 5.74519e+09\tvalid_0's l1: 66045.9\n",
      "[33]\tvalid_0's l2: 5.74519e+09\tvalid_0's l1: 66042.7\n",
      "[34]\tvalid_0's l2: 5.74417e+09\tvalid_0's l1: 66035.8\n",
      "[35]\tvalid_0's l2: 5.7441e+09\tvalid_0's l1: 66032.8\n",
      "[36]\tvalid_0's l2: 5.74389e+09\tvalid_0's l1: 66028.7\n",
      "[37]\tvalid_0's l2: 5.74297e+09\tvalid_0's l1: 66018.7\n",
      "[38]\tvalid_0's l2: 5.74268e+09\tvalid_0's l1: 66013.4\n",
      "[39]\tvalid_0's l2: 5.74228e+09\tvalid_0's l1: 66008.4\n",
      "[40]\tvalid_0's l2: 5.74209e+09\tvalid_0's l1: 66003.8\n",
      "[41]\tvalid_0's l2: 5.74189e+09\tvalid_0's l1: 65999.6\n",
      "[42]\tvalid_0's l2: 5.74176e+09\tvalid_0's l1: 65997.8\n",
      "[43]\tvalid_0's l2: 5.74152e+09\tvalid_0's l1: 65995.3\n",
      "[44]\tvalid_0's l2: 5.74132e+09\tvalid_0's l1: 65989.6\n",
      "[45]\tvalid_0's l2: 5.74137e+09\tvalid_0's l1: 65989.2\n",
      "[46]\tvalid_0's l2: 5.7415e+09\tvalid_0's l1: 65989.3\n",
      "[47]\tvalid_0's l2: 5.7414e+09\tvalid_0's l1: 65987.4\n",
      "[48]\tvalid_0's l2: 5.74116e+09\tvalid_0's l1: 65985.6\n",
      "[49]\tvalid_0's l2: 5.74116e+09\tvalid_0's l1: 65984.8\n",
      "[50]\tvalid_0's l2: 5.74113e+09\tvalid_0's l1: 65984.7\n",
      "[51]\tvalid_0's l2: 5.74123e+09\tvalid_0's l1: 65985.5\n",
      "[52]\tvalid_0's l2: 5.74133e+09\tvalid_0's l1: 65985.8\n",
      "[53]\tvalid_0's l2: 5.74141e+09\tvalid_0's l1: 65985.2\n",
      "[54]\tvalid_0's l2: 5.74159e+09\tvalid_0's l1: 65984.9\n",
      "[55]\tvalid_0's l2: 5.74146e+09\tvalid_0's l1: 65983.6\n",
      "[56]\tvalid_0's l2: 5.74139e+09\tvalid_0's l1: 65983.4\n",
      "[57]\tvalid_0's l2: 5.74141e+09\tvalid_0's l1: 65983.6\n",
      "[58]\tvalid_0's l2: 5.74146e+09\tvalid_0's l1: 65983.7\n",
      "[59]\tvalid_0's l2: 5.74169e+09\tvalid_0's l1: 65984.5\n",
      "[60]\tvalid_0's l2: 5.74177e+09\tvalid_0's l1: 65984.2\n",
      "[61]\tvalid_0's l2: 5.74198e+09\tvalid_0's l1: 65984.8\n",
      "[62]\tvalid_0's l2: 5.74211e+09\tvalid_0's l1: 65984.6\n",
      "[63]\tvalid_0's l2: 5.74238e+09\tvalid_0's l1: 65984.2\n",
      "[64]\tvalid_0's l2: 5.74236e+09\tvalid_0's l1: 65982.4\n",
      "[65]\tvalid_0's l2: 5.74208e+09\tvalid_0's l1: 65979.1\n",
      "Early stopping, best iteration is:\n",
      "[50]\tvalid_0's l2: 5.74113e+09\tvalid_0's l1: 65984.7\n"
     ]
    },
    {
     "data": {
      "text/plain": [
       "LGBMRegressor(bagging_fraction=0.8, bagging_freq=5, boosting_type='gbdt',\n",
       "              class_weight=None, colsample_bytree=1.0, feature_fraction=0.9,\n",
       "              importance_type='split', learning_rate=0.05, max_depth=-1,\n",
       "              min_child_samples=20, min_child_weight=0.001, min_split_gain=0.0,\n",
       "              n_estimators=100, n_jobs=-1, num_leaves=31,\n",
       "              objective='regression', random_state=None, reg_alpha=0.0,\n",
       "              reg_lambda=0.0, silent=True, subsample=1.0,\n",
       "              subsample_for_bin=200000, subsample_freq=0, verbose=0)"
      ]
     },
     "execution_count": 104,
     "metadata": {},
     "output_type": "execute_result"
    }
   ],
   "source": [
    "X_test, y_test = installsCheck5.iloc[:,:-1], installsCheck5.iloc[:,-1]\n",
    "X, y = installs5.iloc[:,:-1], installs5.iloc[:,-1]\n",
    "X_train, X_val, y_train, y_val = train_test_split(X, y, test_size=0.3)\n",
    "xg_reg.fit(X_train, y_train)\n",
    "rf.fit(X_train, y_train)\n",
    "bagging.fit(X_train, y_train)\n",
    "gbm.fit(X_train, y_train, eval_set=[(X_val, y_val)], eval_metric='l1', early_stopping_rounds=15)"
   ]
  },
  {
   "cell_type": "code",
   "execution_count": 105,
   "metadata": {},
   "outputs": [
    {
     "name": "stderr",
     "output_type": "stream",
     "text": [
      "/home/gabriel/workspace/7506-1c2019/env/lib/python3.5/site-packages/ipykernel_launcher.py:9: SettingWithCopyWarning: \n",
      "A value is trying to be set on a copy of a slice from a DataFrame.\n",
      "Try using .loc[row_indexer,col_indexer] = value instead\n",
      "\n",
      "See the caveats in the documentation: http://pandas.pydata.org/pandas-docs/stable/indexing.html#indexing-view-versus-copy\n",
      "  if __name__ == '__main__':\n",
      "/home/gabriel/workspace/7506-1c2019/env/lib/python3.5/site-packages/ipykernel_launcher.py:10: SettingWithCopyWarning: \n",
      "A value is trying to be set on a copy of a slice from a DataFrame.\n",
      "Try using .loc[row_indexer,col_indexer] = value instead\n",
      "\n",
      "See the caveats in the documentation: http://pandas.pydata.org/pandas-docs/stable/indexing.html#indexing-view-versus-copy\n",
      "  # Remove the CWD from sys.path while we load stuff.\n",
      "/home/gabriel/workspace/7506-1c2019/env/lib/python3.5/site-packages/ipykernel_launcher.py:11: SettingWithCopyWarning: \n",
      "A value is trying to be set on a copy of a slice from a DataFrame.\n",
      "Try using .loc[row_indexer,col_indexer] = value instead\n",
      "\n",
      "See the caveats in the documentation: http://pandas.pydata.org/pandas-docs/stable/indexing.html#indexing-view-versus-copy\n",
      "  # This is added back by InteractiveShellApp.init_path()\n",
      "/home/gabriel/workspace/7506-1c2019/env/lib/python3.5/site-packages/ipykernel_launcher.py:12: SettingWithCopyWarning: \n",
      "A value is trying to be set on a copy of a slice from a DataFrame.\n",
      "Try using .loc[row_indexer,col_indexer] = value instead\n",
      "\n",
      "See the caveats in the documentation: http://pandas.pydata.org/pandas-docs/stable/indexing.html#indexing-view-versus-copy\n",
      "  if sys.path[0] == '':\n"
     ]
    },
    {
     "name": "stdout",
     "output_type": "stream",
     "text": [
      "RMSE: 66503.355912\n"
     ]
    }
   ],
   "source": [
    "preds_xgb = xg_reg.predict(X_val)\n",
    "preds_rf = rf.predict(X_val)\n",
    "preds_bag = bagging.predict(X_val)\n",
    "preds_lgbm = gbm.predict(X_val)\n",
    "test_preds_xgb = xg_reg.predict(X_test)\n",
    "test_preds_rf = rf.predict(X_test)\n",
    "test_preds_bag = bagging.predict(X_test)\n",
    "test_preds_lgbm = gbm.predict(X_test)\n",
    "X_val['pred_xgb'] = preds_xgb\n",
    "X_val['pred_rf'] = preds_rf\n",
    "X_val['pred_bag'] = preds_bag\n",
    "X_val['pred_lgbm'] = preds_lgbm\n",
    "X_test['pred_xgb'] = test_preds_xgb\n",
    "X_test['pred_rf'] = test_preds_rf\n",
    "X_test['pred_bag'] = test_preds_bag\n",
    "X_test['pred_lgbm'] = test_preds_lgbm\n",
    "regr.fit(X_val, y_val)\n",
    "preds = regr.predict(X_test)\n",
    "rmse = np.sqrt(mean_squared_error(y_test, preds))\n",
    "print(\"RMSE: %f\" % (rmse))"
   ]
  },
  {
   "cell_type": "code",
   "execution_count": 106,
   "metadata": {},
   "outputs": [],
   "source": [
    "test = targets_sc_with_installs[['ref_type', 'ref_hash', 'total_apps', '%implicit', '%attributed', 'most_freq_lang', 'most_freq_app', 'model', 'ip', 'events_%wifi', 'event_apps', 'distinct_events', 'total_events']]"
   ]
  },
  {
   "cell_type": "code",
   "execution_count": 107,
   "metadata": {},
   "outputs": [],
   "source": [
    "preds_xgb = xg_reg.predict(test)\n",
    "preds_rf = rf.predict(test)\n",
    "preds_bag = bagging.predict(test)\n",
    "preds_lgbm = gbm.predict(test)"
   ]
  },
  {
   "cell_type": "code",
   "execution_count": 108,
   "metadata": {},
   "outputs": [
    {
     "name": "stderr",
     "output_type": "stream",
     "text": [
      "/home/gabriel/workspace/7506-1c2019/env/lib/python3.5/site-packages/ipykernel_launcher.py:1: SettingWithCopyWarning: \n",
      "A value is trying to be set on a copy of a slice from a DataFrame.\n",
      "Try using .loc[row_indexer,col_indexer] = value instead\n",
      "\n",
      "See the caveats in the documentation: http://pandas.pydata.org/pandas-docs/stable/indexing.html#indexing-view-versus-copy\n",
      "  \"\"\"Entry point for launching an IPython kernel.\n",
      "/home/gabriel/workspace/7506-1c2019/env/lib/python3.5/site-packages/ipykernel_launcher.py:2: SettingWithCopyWarning: \n",
      "A value is trying to be set on a copy of a slice from a DataFrame.\n",
      "Try using .loc[row_indexer,col_indexer] = value instead\n",
      "\n",
      "See the caveats in the documentation: http://pandas.pydata.org/pandas-docs/stable/indexing.html#indexing-view-versus-copy\n",
      "  \n",
      "/home/gabriel/workspace/7506-1c2019/env/lib/python3.5/site-packages/ipykernel_launcher.py:3: SettingWithCopyWarning: \n",
      "A value is trying to be set on a copy of a slice from a DataFrame.\n",
      "Try using .loc[row_indexer,col_indexer] = value instead\n",
      "\n",
      "See the caveats in the documentation: http://pandas.pydata.org/pandas-docs/stable/indexing.html#indexing-view-versus-copy\n",
      "  This is separate from the ipykernel package so we can avoid doing imports until\n",
      "/home/gabriel/workspace/7506-1c2019/env/lib/python3.5/site-packages/ipykernel_launcher.py:4: SettingWithCopyWarning: \n",
      "A value is trying to be set on a copy of a slice from a DataFrame.\n",
      "Try using .loc[row_indexer,col_indexer] = value instead\n",
      "\n",
      "See the caveats in the documentation: http://pandas.pydata.org/pandas-docs/stable/indexing.html#indexing-view-versus-copy\n",
      "  after removing the cwd from sys.path.\n"
     ]
    }
   ],
   "source": [
    "test['preds_xgb'] = preds_xgb\n",
    "test['preds_rf'] = preds_rf\n",
    "test['preds_bag'] = preds_bag\n",
    "test['preds_lgbm'] = preds_lgbm"
   ]
  },
  {
   "cell_type": "code",
   "execution_count": 109,
   "metadata": {},
   "outputs": [
    {
     "data": {
      "text/plain": [
       "array([126011.46715009, 132295.59928197, 125123.47186122, ...,\n",
       "       129549.25754797, 132295.59928197, 132295.59928197])"
      ]
     },
     "execution_count": 109,
     "metadata": {},
     "output_type": "execute_result"
    }
   ],
   "source": [
    "predictions_sc = regr.predict(test)\n",
    "predictions_sc"
   ]
  },
  {
   "cell_type": "code",
   "execution_count": 112,
   "metadata": {},
   "outputs": [
    {
     "name": "stderr",
     "output_type": "stream",
     "text": [
      "/home/gabriel/workspace/7506-1c2019/env/lib/python3.5/site-packages/ipykernel_launcher.py:1: SettingWithCopyWarning: \n",
      "A value is trying to be set on a copy of a slice from a DataFrame.\n",
      "Try using .loc[row_indexer,col_indexer] = value instead\n",
      "\n",
      "See the caveats in the documentation: http://pandas.pydata.org/pandas-docs/stable/indexing.html#indexing-view-versus-copy\n",
      "  \"\"\"Entry point for launching an IPython kernel.\n",
      "/home/gabriel/workspace/7506-1c2019/env/lib/python3.5/site-packages/ipykernel_launcher.py:3: SettingWithCopyWarning: \n",
      "A value is trying to be set on a copy of a slice from a DataFrame.\n",
      "Try using .loc[row_indexer,col_indexer] = value instead\n",
      "\n",
      "See the caveats in the documentation: http://pandas.pydata.org/pandas-docs/stable/indexing.html#indexing-view-versus-copy\n",
      "  This is separate from the ipykernel package so we can avoid doing imports until\n",
      "/home/gabriel/workspace/7506-1c2019/env/lib/python3.5/site-packages/ipykernel_launcher.py:7: SettingWithCopyWarning: \n",
      "A value is trying to be set on a copy of a slice from a DataFrame.\n",
      "Try using .loc[row_indexer,col_indexer] = value instead\n",
      "\n",
      "See the caveats in the documentation: http://pandas.pydata.org/pandas-docs/stable/indexing.html#indexing-view-versus-copy\n",
      "  import sys\n"
     ]
    }
   ],
   "source": [
    "targets_sc['obj'] = predictions_sc\n",
    "predicciones_target_sc = target[target['ref_hash'].str.contains('_sc')]\n",
    "predicciones_target_sc['obj'] = predictions_sc\n",
    "target.update(predicciones_target_sc)\n",
    "# sc_pred = pd.read_csv('../datos/PrediccionesKNN-RF-XGBoost.txt', header = None)\n",
    "# sc_pred.index = np.arange(1, 8074, 2)\n",
    "targets_st['obj'] = predictions_sc[0]\n",
    "target.update(targets_st)"
   ]
  },
  {
   "cell_type": "code",
   "execution_count": 113,
   "metadata": {},
   "outputs": [],
   "source": [
    "target.to_csv('../datos/preds-blending.csv', index = False)"
   ]
  },
  {
   "cell_type": "code",
   "execution_count": null,
   "metadata": {},
   "outputs": [],
   "source": []
  }
 ],
 "metadata": {
  "kernelspec": {
   "display_name": "Python 3",
   "language": "python",
   "name": "python3"
  },
  "language_info": {
   "codemirror_mode": {
    "name": "ipython",
    "version": 3
   },
   "file_extension": ".py",
   "mimetype": "text/x-python",
   "name": "python",
   "nbconvert_exporter": "python",
   "pygments_lexer": "ipython3",
   "version": "3.5.2"
  }
 },
 "nbformat": 4,
 "nbformat_minor": 2
}

{
 "cells": [
  {
   "cell_type": "markdown",
   "metadata": {},
   "source": [
    "# Análisis exploratorio\n",
    "\n",
    "Lo primero que vamos a hacer es tener una noción de los datos con los que estamos trabajando. Vamos a tomar de base el análisis exploratorio que hicimos en el TP1.\n",
    "\n",
    "Luego, procederemos a calcular:\n",
    "\n",
    "𝑆𝑡(𝑑)\n",
    "\n",
    "𝑆c(𝑑)\n",
    "\n",
    "Este cálculo se hará con todos los datos. Luego separaremos los datos del 18/04 al 26/04 inclusive. Para entrenar un algoritmo que determine si un usuario convertirá o no."
   ]
  },
  {
   "cell_type": "code",
   "execution_count": null,
   "metadata": {},
   "outputs": [],
   "source": []
  }
 ],
 "metadata": {
  "kernelspec": {
   "display_name": "Python 3",
   "language": "python",
   "name": "python3"
  },
  "language_info": {
   "codemirror_mode": {
    "name": "ipython",
    "version": 3
   },
   "file_extension": ".py",
   "mimetype": "text/x-python",
   "name": "python",
   "nbconvert_exporter": "python",
   "pygments_lexer": "ipython3",
   "version": "3.7.3"
  }
 },
 "nbformat": 4,
 "nbformat_minor": 2
}
